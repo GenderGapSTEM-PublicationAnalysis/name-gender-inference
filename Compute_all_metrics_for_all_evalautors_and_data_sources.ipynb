{
 "cells": [
  {
   "cell_type": "code",
   "execution_count": 1,
   "metadata": {},
   "outputs": [],
   "source": [
    "from glob import glob\n",
    "from evaluators import *\n",
    "from helpers import REGISTERED_EVALUATORS"
   ]
  },
  {
   "cell_type": "code",
   "execution_count": 2,
   "metadata": {},
   "outputs": [
    {
     "name": "stdout",
     "output_type": "stream",
     "text": [
      "gender_api\n",
      "gender_api_full\n",
      "names_api\n",
      "names_api_full\n",
      "namsor\n",
      "gender_guesser\n",
      "genderize_io\n"
     ]
    }
   ],
   "source": [
    "# for testing\n",
    "for e in REGISTERED_EVALUATORS:\n",
    "    print(e.gender_evaluator)"
   ]
  },
  {
   "cell_type": "code",
   "execution_count": 3,
   "metadata": {},
   "outputs": [],
   "source": [
    "services = [e.gender_evaluator for e in REGISTERED_EVALUATORS]"
   ]
  },
  {
   "cell_type": "code",
   "execution_count": 4,
   "metadata": {},
   "outputs": [
    {
     "data": {
      "text/plain": [
       "['test_data/gender_guesser/test_data_all_gender_guesser.csv',\n",
       " 'test_data/gender_guesser/test_data_filardo_gender_guesser.csv',\n",
       " 'test_data/gender_guesser/test_data_genderizeR_gender_guesser.csv',\n",
       " 'test_data/gender_guesser/test_data_genderizeR_titles_gender_guesser.csv',\n",
       " 'test_data/gender_guesser/test_data_nature_gender_guesser.csv',\n",
       " 'test_data/gender_guesser/test_data_zbmath_gender_guesser.csv']"
      ]
     },
     "execution_count": 4,
     "metadata": {},
     "output_type": "execute_result"
    }
   ],
   "source": [
    "# for testing\n",
    "glob('test_data/gender_guesser/*.csv')"
   ]
  },
  {
   "cell_type": "code",
   "execution_count": 5,
   "metadata": {},
   "outputs": [],
   "source": [
    "def extract_data_source_from_file_name(file_name, gender_evaluator):\n",
    "    data_source = file_name.replace('test_data/' + gender_evaluator +'/test_data_', '')\n",
    "    data_source = data_source.replace('_' + gender_evaluator + '.csv', '')\n",
    "    return data_source"
   ]
  },
  {
   "cell_type": "code",
   "execution_count": 6,
   "metadata": {},
   "outputs": [],
   "source": [
    "def find_all_available_data_sources():\n",
    "    data_sources = []\n",
    "    for e in REGISTERED_EVALUATORS:\n",
    "        evaluated_files = glob('test_data/' + e.gender_evaluator + '/*.csv')\n",
    "        data_sources.extend(extract_data_source_from_file_name(f, e.gender_evaluator) for f in evaluated_files)\n",
    "    return list(set(data_sources))"
   ]
  },
  {
   "cell_type": "code",
   "execution_count": 7,
   "metadata": {},
   "outputs": [
    {
     "data": {
      "text/plain": [
       "['nature', 'filardo', 'zbmath', 'genderizeR_titles', 'genderizeR', 'all']"
      ]
     },
     "execution_count": 7,
     "metadata": {},
     "output_type": "execute_result"
    }
   ],
   "source": [
    "find_all_available_data_sources()"
   ]
  },
  {
   "cell_type": "code",
   "execution_count": 8,
   "metadata": {},
   "outputs": [],
   "source": [
    "all_data_sources = find_all_available_data_sources()\n",
    "error_names = ['error_with_unknown', 'error_without_unknown', 'error_gender_bias', 'error_unknown']\n",
    "errors_per_ds = {ds:{} for ds in all_data_sources}"
   ]
  },
  {
   "cell_type": "code",
   "execution_count": 9,
   "metadata": {},
   "outputs": [
    {
     "data": {
      "text/plain": [
       "{'all': {},\n",
       " 'filardo': {},\n",
       " 'genderizeR': {},\n",
       " 'genderizeR_titles': {},\n",
       " 'nature': {},\n",
       " 'zbmath': {}}"
      ]
     },
     "execution_count": 9,
     "metadata": {},
     "output_type": "execute_result"
    }
   ],
   "source": [
    "errors_per_ds"
   ]
  },
  {
   "cell_type": "code",
   "execution_count": 11,
   "metadata": {
    "scrolled": true
   },
   "outputs": [
    {
     "name": "stdout",
     "output_type": "stream",
     "text": [
      "gender_api\n",
      "zbmath\n",
      "Reading data from dump file test_data/gender_api/test_data_zbmath_gender_api.csv\n",
      "all\n",
      "Reading data from dump file test_data/gender_api/test_data_all_gender_api.csv\n",
      "gender_api_full\n",
      "zbmath\n",
      "Reading data from dump file test_data/gender_api_full/test_data_zbmath_gender_api_full.csv\n",
      "names_api\n",
      "nature\n",
      "Reading data from dump file test_data/names_api/test_data_nature_names_api.csv\n",
      "filardo\n",
      "Reading data from dump file test_data/names_api/test_data_filardo_names_api.csv\n",
      "zbmath\n",
      "Reading data from dump file test_data/names_api/test_data_zbmath_names_api.csv\n",
      "genderizeR_titles\n",
      "Reading data from dump file test_data/names_api/test_data_genderizeR_titles_names_api.csv\n",
      "genderizeR\n",
      "Reading data from dump file test_data/names_api/test_data_genderizeR_names_api.csv\n",
      "all\n",
      "Reading data from dump file test_data/names_api/test_data_all_names_api.csv\n",
      "names_api_full\n",
      "nature\n",
      "Reading data from dump file test_data/names_api_full/test_data_nature_names_api_full.csv\n",
      "filardo\n",
      "Reading data from dump file test_data/names_api_full/test_data_filardo_names_api_full.csv\n",
      "zbmath\n",
      "Reading data from dump file test_data/names_api_full/test_data_zbmath_names_api_full.csv\n",
      "genderizeR_titles\n",
      "Reading data from dump file test_data/names_api_full/test_data_genderizeR_titles_names_api_full.csv\n",
      "genderizeR\n",
      "Reading data from dump file test_data/names_api_full/test_data_genderizeR_names_api_full.csv\n",
      "all\n",
      "Reading data from dump file test_data/names_api_full/test_data_all_names_api_full.csv\n",
      "namsor\n",
      "all\n",
      "Reading data from dump file test_data/namsor/test_data_all_namsor.csv\n",
      "gender_guesser\n",
      "nature\n",
      "Reading data from dump file test_data/gender_guesser/test_data_nature_gender_guesser.csv\n",
      "filardo\n",
      "Reading data from dump file test_data/gender_guesser/test_data_filardo_gender_guesser.csv\n",
      "zbmath\n",
      "Reading data from dump file test_data/gender_guesser/test_data_zbmath_gender_guesser.csv\n",
      "genderizeR_titles\n",
      "Reading data from dump file test_data/gender_guesser/test_data_genderizeR_titles_gender_guesser.csv\n",
      "genderizeR\n",
      "Reading data from dump file test_data/gender_guesser/test_data_genderizeR_gender_guesser.csv\n",
      "all\n",
      "Reading data from dump file test_data/gender_guesser/test_data_all_gender_guesser.csv\n",
      "genderize_io\n",
      "filardo\n",
      "Reading data from dump file test_data/genderize_io/test_data_filardo_genderize_io.csv\n",
      "zbmath\n",
      "Reading data from dump file test_data/genderize_io/test_data_zbmath_genderize_io.csv\n",
      "genderizeR_titles\n",
      "Reading data from dump file test_data/genderize_io/test_data_genderizeR_titles_genderize_io.csv\n",
      "genderizeR\n",
      "Reading data from dump file test_data/genderize_io/test_data_genderizeR_genderize_io.csv\n"
     ]
    }
   ],
   "source": [
    "for e in REGISTERED_EVALUATORS:\n",
    "    evaluated_files = glob('test_data/' + e.gender_evaluator + '/*.csv')\n",
    "    evaluated_data_sources = [extract_data_source_from_file_name(f, e.gender_evaluator) for f in evaluated_files]\n",
    "    print(e.gender_evaluator)\n",
    "    for ds in all_data_sources:\n",
    "        if ds in evaluated_data_sources:\n",
    "            print(ds)\n",
    "            evaluator = e(ds)\n",
    "            evaluator.fetch_gender()\n",
    "            all_errors = evaluator.compute_all_errors()\n",
    "            errors_per_ds[ds][e.gender_evaluator]=dict(zip(error_names, all_errors))\n",
    "        else:\n",
    "            continue"
   ]
  },
  {
   "cell_type": "code",
   "execution_count": 12,
   "metadata": {
    "scrolled": true
   },
   "outputs": [
    {
     "data": {
      "text/plain": [
       "{'all': {'gender_api': {'error_gender_bias': 0.058205767176931295,\n",
       "   'error_unknown': 0.029706390328151987,\n",
       "   'error_with_unknown': 0.094311094311094315,\n",
       "   'error_without_unknown': 0.058205767176931295},\n",
       "  'gender_guesser': {'error_gender_bias': 0.03482587064676617,\n",
       "   'error_unknown': 0.20155440414507772,\n",
       "   'error_with_unknown': 0.29762438368444644,\n",
       "   'error_without_unknown': 0.03482587064676617},\n",
       "  'names_api': {'error_gender_bias': 0.046797498382574944,\n",
       "   'error_unknown': 0.19899809984453273,\n",
       "   'error_with_unknown': 0.30972850678733033,\n",
       "   'error_without_unknown': 0.046797498382574944},\n",
       "  'names_api_full': {'error_gender_bias': 0.043283885389148548,\n",
       "   'error_unknown': 0.14949879018320084,\n",
       "   'error_with_unknown': 0.22897196261682243,\n",
       "   'error_without_unknown': 0.043283885389148548},\n",
       "  'namsor': {'error_gender_bias': 0.051554207733131158,\n",
       "   'error_unknown': 0.088773747841105352,\n",
       "   'error_with_unknown': 0.15707434052757793,\n",
       "   'error_without_unknown': 0.051554207733131158}},\n",
       " 'filardo': {'gender_guesser': {'error_gender_bias': 0.022054556006964595,\n",
       "   'error_unknown': 0.10632780082987552,\n",
       "   'error_with_unknown': 0.14421364985163204,\n",
       "   'error_without_unknown': 0.022054556006964595},\n",
       "  'genderize_io': {'error_gender_bias': 0.034295046271094178,\n",
       "   'error_unknown': 0.047693105235873508,\n",
       "   'error_with_unknown': 0.087373167981961666,\n",
       "   'error_without_unknown': 0.034295046271094178},\n",
       "  'names_api': {'error_gender_bias': 0.031491384432560901,\n",
       "   'error_unknown': 0.12616822429906541,\n",
       "   'error_with_unknown': 0.18159509202453988,\n",
       "   'error_without_unknown': 0.031491384432560901},\n",
       "  'names_api_full': {'error_gender_bias': 0.032276330690826728,\n",
       "   'error_unknown': 0.0825974025974026,\n",
       "   'error_with_unknown': 0.12638970157987128,\n",
       "   'error_without_unknown': 0.032276330690826728}},\n",
       " 'genderizeR': {'gender_guesser': {'error_gender_bias': 0.010362694300518135,\n",
       "   'error_unknown': 0.074340527577937646,\n",
       "   'error_with_unknown': 0.091623036649214659,\n",
       "   'error_without_unknown': 0.010362694300518135},\n",
       "  'genderize_io': {'error_gender_bias': 0.025188916876574308,\n",
       "   'error_unknown': 0.047961630695443645,\n",
       "   'error_with_unknown': 0.077519379844961239,\n",
       "   'error_without_unknown': 0.025188916876574308},\n",
       "  'names_api': {'error_gender_bias': 0.024324324324324326,\n",
       "   'error_unknown': 0.11270983213429256,\n",
       "   'error_with_unknown': 0.15512465373961218,\n",
       "   'error_without_unknown': 0.024324324324324326},\n",
       "  'names_api_full': {'error_gender_bias': 0.020942408376963352,\n",
       "   'error_unknown': 0.083932853717026384,\n",
       "   'error_with_unknown': 0.11497326203208556,\n",
       "   'error_without_unknown': 0.020942408376963352}},\n",
       " 'genderizeR_titles': {'gender_guesser': {'error_gender_bias': 0.01366742596810934,\n",
       "   'error_unknown': 0.067940552016985137,\n",
       "   'error_with_unknown': 0.087759815242494224,\n",
       "   'error_without_unknown': 0.01366742596810934},\n",
       "  'genderize_io': {'error_gender_bias': 0.033482142857142856,\n",
       "   'error_unknown': 0.048832271762208071,\n",
       "   'error_with_unknown': 0.087759815242494224,\n",
       "   'error_without_unknown': 0.033482142857142856},\n",
       "  'names_api': {'error_gender_bias': 0.022222222222222223,\n",
       "   'error_unknown': 0.13829787234042554,\n",
       "   'error_with_unknown': 0.18686868686868688,\n",
       "   'error_without_unknown': 0.022222222222222223},\n",
       "  'names_api_full': {'error_gender_bias': 0.011337868480725623,\n",
       "   'error_unknown': 0.061702127659574467,\n",
       "   'error_with_unknown': 0.077981651376146793,\n",
       "   'error_without_unknown': 0.011337868480725623}},\n",
       " 'nature': {'gender_guesser': {'error_gender_bias': 0.063600227143668364,\n",
       "   'error_unknown': 0.33244882486732374,\n",
       "   'error_with_unknown': 0.59975742874469373,\n",
       "   'error_without_unknown': 0.063600227143668364},\n",
       "  'names_api': {'error_gender_bias': 0.077540106951871662,\n",
       "   'error_unknown': 0.28816140083745717,\n",
       "   'error_with_unknown': 0.52289855072463765,\n",
       "   'error_without_unknown': 0.077540106951871662},\n",
       "  'names_api_full': {'error_gender_bias': 0.068534267133566779,\n",
       "   'error_unknown': 0.23847619047619048,\n",
       "   'error_with_unknown': 0.40977443609022557,\n",
       "   'error_without_unknown': 0.068534267133566779}},\n",
       " 'zbmath': {'gender_api': {'error_gender_bias': 0.002881844380403458,\n",
       "   'error_unknown': 0.0057306590257879654,\n",
       "   'error_with_unknown': 0.008670520231213872,\n",
       "   'error_without_unknown': 0.002881844380403458},\n",
       "  'gender_api_full': {'error_gender_bias': 0.020761245674740483,\n",
       "   'error_unknown': 0.17191977077363896,\n",
       "   'error_with_unknown': 0.2332155477031802,\n",
       "   'error_without_unknown': 0.020761245674740483},\n",
       "  'gender_guesser': {'error_gender_bias': 0.0030581039755351682,\n",
       "   'error_unknown': 0.063037249283667621,\n",
       "   'error_with_unknown': 0.070552147239263799,\n",
       "   'error_without_unknown': 0.0030581039755351682},\n",
       "  'genderize_io': {'error_gender_bias': 0.00911854103343465,\n",
       "   'error_unknown': 0.05730659025787966,\n",
       "   'error_with_unknown': 0.070552147239263799,\n",
       "   'error_without_unknown': 0.00911854103343465},\n",
       "  'names_api': {'error_gender_bias': 0.0032362459546925568,\n",
       "   'error_unknown': 0.11461318051575932,\n",
       "   'error_with_unknown': 0.13311688311688311,\n",
       "   'error_without_unknown': 0.0032362459546925568},\n",
       "  'names_api_full': {'error_gender_bias': 0.018018018018018018,\n",
       "   'error_unknown': 0.045845272206303724,\n",
       "   'error_with_unknown': 0.067278287461773695,\n",
       "   'error_without_unknown': 0.018018018018018018}}}"
      ]
     },
     "execution_count": 12,
     "metadata": {},
     "output_type": "execute_result"
    }
   ],
   "source": [
    "errors_per_ds"
   ]
  },
  {
   "cell_type": "code",
   "execution_count": 14,
   "metadata": {},
   "outputs": [],
   "source": [
    "from pandas.io.json import json_normalize\n",
    "import pandas as pd"
   ]
  },
  {
   "cell_type": "code",
   "execution_count": 37,
   "metadata": {},
   "outputs": [],
   "source": [
    "dfs = {k:pd.DataFrame.from_dict(v) for k,v in errors_per_ds.items()}"
   ]
  },
  {
   "cell_type": "code",
   "execution_count": 38,
   "metadata": {
    "scrolled": true
   },
   "outputs": [
    {
     "data": {
      "text/plain": [
       "{'all':                        gender_api  gender_guesser  names_api  names_api_full  \\\n",
       " error_gender_bias        0.058206        0.034826   0.046797        0.043284   \n",
       " error_unknown            0.029706        0.201554   0.198998        0.149499   \n",
       " error_with_unknown       0.094311        0.297624   0.309729        0.228972   \n",
       " error_without_unknown    0.058206        0.034826   0.046797        0.043284   \n",
       " \n",
       "                          namsor  \n",
       " error_gender_bias      0.051554  \n",
       " error_unknown          0.088774  \n",
       " error_with_unknown     0.157074  \n",
       " error_without_unknown  0.051554  ,\n",
       " 'filardo':                        gender_guesser  genderize_io  names_api  names_api_full\n",
       " error_gender_bias            0.022055      0.034295   0.031491        0.032276\n",
       " error_unknown                0.106328      0.047693   0.126168        0.082597\n",
       " error_with_unknown           0.144214      0.087373   0.181595        0.126390\n",
       " error_without_unknown        0.022055      0.034295   0.031491        0.032276,\n",
       " 'genderizeR':                        gender_guesser  genderize_io  names_api  names_api_full\n",
       " error_gender_bias            0.010363      0.025189   0.024324        0.020942\n",
       " error_unknown                0.074341      0.047962   0.112710        0.083933\n",
       " error_with_unknown           0.091623      0.077519   0.155125        0.114973\n",
       " error_without_unknown        0.010363      0.025189   0.024324        0.020942,\n",
       " 'genderizeR_titles':                        gender_guesser  genderize_io  names_api  names_api_full\n",
       " error_gender_bias            0.013667      0.033482   0.022222        0.011338\n",
       " error_unknown                0.067941      0.048832   0.138298        0.061702\n",
       " error_with_unknown           0.087760      0.087760   0.186869        0.077982\n",
       " error_without_unknown        0.013667      0.033482   0.022222        0.011338,\n",
       " 'nature':                        gender_guesser  names_api  names_api_full\n",
       " error_gender_bias            0.063600   0.077540        0.068534\n",
       " error_unknown                0.332449   0.288161        0.238476\n",
       " error_with_unknown           0.599757   0.522899        0.409774\n",
       " error_without_unknown        0.063600   0.077540        0.068534,\n",
       " 'zbmath':                        gender_api  gender_api_full  gender_guesser  \\\n",
       " error_gender_bias        0.002882         0.020761        0.003058   \n",
       " error_unknown            0.005731         0.171920        0.063037   \n",
       " error_with_unknown       0.008671         0.233216        0.070552   \n",
       " error_without_unknown    0.002882         0.020761        0.003058   \n",
       " \n",
       "                        genderize_io  names_api  names_api_full  \n",
       " error_gender_bias          0.009119   0.003236        0.018018  \n",
       " error_unknown              0.057307   0.114613        0.045845  \n",
       " error_with_unknown         0.070552   0.133117        0.067278  \n",
       " error_without_unknown      0.009119   0.003236        0.018018  }"
      ]
     },
     "execution_count": 38,
     "metadata": {},
     "output_type": "execute_result"
    }
   ],
   "source": [
    "dfs"
   ]
  },
  {
   "cell_type": "code",
   "execution_count": 39,
   "metadata": {},
   "outputs": [],
   "source": [
    "keys, values = zip(*dfs.items())"
   ]
  },
  {
   "cell_type": "code",
   "execution_count": 40,
   "metadata": {},
   "outputs": [],
   "source": [
    "result = pd.concat(values, axis=1,keys=keys)"
   ]
  },
  {
   "cell_type": "code",
   "execution_count": 41,
   "metadata": {},
   "outputs": [
    {
     "data": {
      "text/html": [
       "<div>\n",
       "<style scoped>\n",
       "    .dataframe tbody tr th:only-of-type {\n",
       "        vertical-align: middle;\n",
       "    }\n",
       "\n",
       "    .dataframe tbody tr th {\n",
       "        vertical-align: top;\n",
       "    }\n",
       "\n",
       "    .dataframe thead tr th {\n",
       "        text-align: left;\n",
       "    }\n",
       "</style>\n",
       "<table border=\"1\" class=\"dataframe\">\n",
       "  <thead>\n",
       "    <tr>\n",
       "      <th></th>\n",
       "      <th colspan=\"4\" halign=\"left\">genderizeR_titles</th>\n",
       "      <th colspan=\"4\" halign=\"left\">genderizeR</th>\n",
       "      <th colspan=\"2\" halign=\"left\">nature</th>\n",
       "      <th>...</th>\n",
       "      <th>zbmath</th>\n",
       "      <th colspan=\"4\" halign=\"left\">filardo</th>\n",
       "      <th colspan=\"5\" halign=\"left\">all</th>\n",
       "    </tr>\n",
       "    <tr>\n",
       "      <th></th>\n",
       "      <th>gender_guesser</th>\n",
       "      <th>genderize_io</th>\n",
       "      <th>names_api</th>\n",
       "      <th>names_api_full</th>\n",
       "      <th>gender_guesser</th>\n",
       "      <th>genderize_io</th>\n",
       "      <th>names_api</th>\n",
       "      <th>names_api_full</th>\n",
       "      <th>gender_guesser</th>\n",
       "      <th>names_api</th>\n",
       "      <th>...</th>\n",
       "      <th>names_api_full</th>\n",
       "      <th>gender_guesser</th>\n",
       "      <th>genderize_io</th>\n",
       "      <th>names_api</th>\n",
       "      <th>names_api_full</th>\n",
       "      <th>gender_api</th>\n",
       "      <th>gender_guesser</th>\n",
       "      <th>names_api</th>\n",
       "      <th>names_api_full</th>\n",
       "      <th>namsor</th>\n",
       "    </tr>\n",
       "  </thead>\n",
       "  <tbody>\n",
       "    <tr>\n",
       "      <th>error_gender_bias</th>\n",
       "      <td>0.013667</td>\n",
       "      <td>0.033482</td>\n",
       "      <td>0.022222</td>\n",
       "      <td>0.011338</td>\n",
       "      <td>0.010363</td>\n",
       "      <td>0.025189</td>\n",
       "      <td>0.024324</td>\n",
       "      <td>0.020942</td>\n",
       "      <td>0.063600</td>\n",
       "      <td>0.077540</td>\n",
       "      <td>...</td>\n",
       "      <td>0.018018</td>\n",
       "      <td>0.022055</td>\n",
       "      <td>0.034295</td>\n",
       "      <td>0.031491</td>\n",
       "      <td>0.032276</td>\n",
       "      <td>0.058206</td>\n",
       "      <td>0.034826</td>\n",
       "      <td>0.046797</td>\n",
       "      <td>0.043284</td>\n",
       "      <td>0.051554</td>\n",
       "    </tr>\n",
       "    <tr>\n",
       "      <th>error_unknown</th>\n",
       "      <td>0.067941</td>\n",
       "      <td>0.048832</td>\n",
       "      <td>0.138298</td>\n",
       "      <td>0.061702</td>\n",
       "      <td>0.074341</td>\n",
       "      <td>0.047962</td>\n",
       "      <td>0.112710</td>\n",
       "      <td>0.083933</td>\n",
       "      <td>0.332449</td>\n",
       "      <td>0.288161</td>\n",
       "      <td>...</td>\n",
       "      <td>0.045845</td>\n",
       "      <td>0.106328</td>\n",
       "      <td>0.047693</td>\n",
       "      <td>0.126168</td>\n",
       "      <td>0.082597</td>\n",
       "      <td>0.029706</td>\n",
       "      <td>0.201554</td>\n",
       "      <td>0.198998</td>\n",
       "      <td>0.149499</td>\n",
       "      <td>0.088774</td>\n",
       "    </tr>\n",
       "    <tr>\n",
       "      <th>error_with_unknown</th>\n",
       "      <td>0.087760</td>\n",
       "      <td>0.087760</td>\n",
       "      <td>0.186869</td>\n",
       "      <td>0.077982</td>\n",
       "      <td>0.091623</td>\n",
       "      <td>0.077519</td>\n",
       "      <td>0.155125</td>\n",
       "      <td>0.114973</td>\n",
       "      <td>0.599757</td>\n",
       "      <td>0.522899</td>\n",
       "      <td>...</td>\n",
       "      <td>0.067278</td>\n",
       "      <td>0.144214</td>\n",
       "      <td>0.087373</td>\n",
       "      <td>0.181595</td>\n",
       "      <td>0.126390</td>\n",
       "      <td>0.094311</td>\n",
       "      <td>0.297624</td>\n",
       "      <td>0.309729</td>\n",
       "      <td>0.228972</td>\n",
       "      <td>0.157074</td>\n",
       "    </tr>\n",
       "    <tr>\n",
       "      <th>error_without_unknown</th>\n",
       "      <td>0.013667</td>\n",
       "      <td>0.033482</td>\n",
       "      <td>0.022222</td>\n",
       "      <td>0.011338</td>\n",
       "      <td>0.010363</td>\n",
       "      <td>0.025189</td>\n",
       "      <td>0.024324</td>\n",
       "      <td>0.020942</td>\n",
       "      <td>0.063600</td>\n",
       "      <td>0.077540</td>\n",
       "      <td>...</td>\n",
       "      <td>0.018018</td>\n",
       "      <td>0.022055</td>\n",
       "      <td>0.034295</td>\n",
       "      <td>0.031491</td>\n",
       "      <td>0.032276</td>\n",
       "      <td>0.058206</td>\n",
       "      <td>0.034826</td>\n",
       "      <td>0.046797</td>\n",
       "      <td>0.043284</td>\n",
       "      <td>0.051554</td>\n",
       "    </tr>\n",
       "  </tbody>\n",
       "</table>\n",
       "<p>4 rows × 26 columns</p>\n",
       "</div>"
      ],
      "text/plain": [
       "                      genderizeR_titles                                        \\\n",
       "                         gender_guesser genderize_io names_api names_api_full   \n",
       "error_gender_bias              0.013667     0.033482  0.022222       0.011338   \n",
       "error_unknown                  0.067941     0.048832  0.138298       0.061702   \n",
       "error_with_unknown             0.087760     0.087760  0.186869       0.077982   \n",
       "error_without_unknown          0.013667     0.033482  0.022222       0.011338   \n",
       "\n",
       "                          genderizeR                                        \\\n",
       "                      gender_guesser genderize_io names_api names_api_full   \n",
       "error_gender_bias           0.010363     0.025189  0.024324       0.020942   \n",
       "error_unknown               0.074341     0.047962  0.112710       0.083933   \n",
       "error_with_unknown          0.091623     0.077519  0.155125       0.114973   \n",
       "error_without_unknown       0.010363     0.025189  0.024324       0.020942   \n",
       "\n",
       "                              nature              ...            zbmath  \\\n",
       "                      gender_guesser names_api    ...    names_api_full   \n",
       "error_gender_bias           0.063600  0.077540    ...          0.018018   \n",
       "error_unknown               0.332449  0.288161    ...          0.045845   \n",
       "error_with_unknown          0.599757  0.522899    ...          0.067278   \n",
       "error_without_unknown       0.063600  0.077540    ...          0.018018   \n",
       "\n",
       "                             filardo                                        \\\n",
       "                      gender_guesser genderize_io names_api names_api_full   \n",
       "error_gender_bias           0.022055     0.034295  0.031491       0.032276   \n",
       "error_unknown               0.106328     0.047693  0.126168       0.082597   \n",
       "error_with_unknown          0.144214     0.087373  0.181595       0.126390   \n",
       "error_without_unknown       0.022055     0.034295  0.031491       0.032276   \n",
       "\n",
       "                             all                                          \\\n",
       "                      gender_api gender_guesser names_api names_api_full   \n",
       "error_gender_bias       0.058206       0.034826  0.046797       0.043284   \n",
       "error_unknown           0.029706       0.201554  0.198998       0.149499   \n",
       "error_with_unknown      0.094311       0.297624  0.309729       0.228972   \n",
       "error_without_unknown   0.058206       0.034826  0.046797       0.043284   \n",
       "\n",
       "                                 \n",
       "                         namsor  \n",
       "error_gender_bias      0.051554  \n",
       "error_unknown          0.088774  \n",
       "error_with_unknown     0.157074  \n",
       "error_without_unknown  0.051554  \n",
       "\n",
       "[4 rows x 26 columns]"
      ]
     },
     "execution_count": 41,
     "metadata": {},
     "output_type": "execute_result"
    }
   ],
   "source": [
    "result"
   ]
  }
 ],
 "metadata": {
  "kernelspec": {
   "display_name": "Python 3",
   "language": "python",
   "name": "python3"
  },
  "language_info": {
   "codemirror_mode": {
    "name": "ipython",
    "version": 3
   },
   "file_extension": ".py",
   "mimetype": "text/x-python",
   "name": "python",
   "nbconvert_exporter": "python",
   "pygments_lexer": "ipython3",
   "version": "3.5.1"
  }
 },
 "nbformat": 4,
 "nbformat_minor": 2
}
