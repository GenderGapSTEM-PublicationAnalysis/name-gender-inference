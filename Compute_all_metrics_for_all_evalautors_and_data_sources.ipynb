{
 "cells": [
  {
   "cell_type": "code",
   "execution_count": 1,
   "metadata": {},
   "outputs": [],
   "source": [
    "from glob import glob\n",
    "import pandas as pd\n",
    "from evaluators import *\n",
    "from helpers import REGISTERED_EVALUATORS"
   ]
  },
  {
   "cell_type": "code",
   "execution_count": 2,
   "metadata": {},
   "outputs": [
    {
     "name": "stdout",
     "output_type": "stream",
     "text": [
      "gender_api\n",
      "gender_api_full\n",
      "names_api\n",
      "names_api_full\n",
      "namsor\n",
      "gender_guesser\n",
      "genderize_io\n"
     ]
    }
   ],
   "source": [
    "# for testing\n",
    "for e in REGISTERED_EVALUATORS:\n",
    "    print(e.gender_evaluator)"
   ]
  },
  {
   "cell_type": "code",
   "execution_count": 3,
   "metadata": {},
   "outputs": [
    {
     "data": {
      "text/plain": [
       "['test_data/gender_guesser/test_data_all_gender_guesser.csv',\n",
       " 'test_data/gender_guesser/test_data_filardo_gender_guesser.csv',\n",
       " 'test_data/gender_guesser/test_data_genderizeR_gender_guesser.csv',\n",
       " 'test_data/gender_guesser/test_data_genderizeR_titles_gender_guesser.csv',\n",
       " 'test_data/gender_guesser/test_data_nature_gender_guesser.csv',\n",
       " 'test_data/gender_guesser/test_data_zbmath_gender_guesser.csv']"
      ]
     },
     "execution_count": 3,
     "metadata": {},
     "output_type": "execute_result"
    }
   ],
   "source": [
    "# for testing\n",
    "glob('test_data/gender_guesser/*.csv')"
   ]
  },
  {
   "cell_type": "code",
   "execution_count": 4,
   "metadata": {},
   "outputs": [],
   "source": [
    "services = [e.gender_evaluator for e in REGISTERED_EVALUATORS]"
   ]
  },
  {
   "cell_type": "code",
   "execution_count": 5,
   "metadata": {},
   "outputs": [],
   "source": [
    "def extract_data_source_from_file_name(file_name, gender_evaluator):\n",
    "    data_source = file_name.replace('test_data/' + gender_evaluator +'/test_data_', '')\n",
    "    data_source = data_source.replace('_' + gender_evaluator + '.csv', '')\n",
    "    return data_source"
   ]
  },
  {
   "cell_type": "code",
   "execution_count": 6,
   "metadata": {},
   "outputs": [],
   "source": [
    "def find_all_available_data_sources():\n",
    "    data_sources = []\n",
    "    for e in REGISTERED_EVALUATORS:\n",
    "        evaluated_files = glob('test_data/' + e.gender_evaluator + '/*.csv')\n",
    "        data_sources.extend(extract_data_source_from_file_name(f, e.gender_evaluator) for f in evaluated_files)\n",
    "    return list(set(data_sources))"
   ]
  },
  {
   "cell_type": "code",
   "execution_count": 7,
   "metadata": {},
   "outputs": [
    {
     "data": {
      "text/plain": [
       "['genderizeR', 'zbmath', 'all', 'nature', 'genderizeR_titles', 'filardo']"
      ]
     },
     "execution_count": 7,
     "metadata": {},
     "output_type": "execute_result"
    }
   ],
   "source": [
    "find_all_available_data_sources()"
   ]
  },
  {
   "cell_type": "code",
   "execution_count": 8,
   "metadata": {},
   "outputs": [],
   "source": [
    "all_data_sources = find_all_available_data_sources()\n",
    "error_names = ['error_with_unknown', 'error_without_unknown', 'error_gender_bias', 'error_unknown']\n",
    "errors_per_ds = {ds:{} for ds in all_data_sources}"
   ]
  },
  {
   "cell_type": "code",
   "execution_count": 9,
   "metadata": {},
   "outputs": [
    {
     "data": {
      "text/plain": [
       "{'all': {},\n",
       " 'filardo': {},\n",
       " 'genderizeR': {},\n",
       " 'genderizeR_titles': {},\n",
       " 'nature': {},\n",
       " 'zbmath': {}}"
      ]
     },
     "execution_count": 9,
     "metadata": {},
     "output_type": "execute_result"
    }
   ],
   "source": [
    "errors_per_ds"
   ]
  },
  {
   "cell_type": "code",
   "execution_count": 10,
   "metadata": {
    "scrolled": true
   },
   "outputs": [],
   "source": [
    "def compute_errors_per_data_source_and_evaluator():\n",
    "    for e in REGISTERED_EVALUATORS:\n",
    "        evaluated_files = glob('test_data/' + e.gender_evaluator + '/*.csv')\n",
    "        evaluated_data_sources = [extract_data_source_from_file_name(f, e.gender_evaluator) for f in evaluated_files]\n",
    "        print(e.gender_evaluator)\n",
    "        for ds in all_data_sources:\n",
    "            if ds in evaluated_data_sources:\n",
    "                print(ds)\n",
    "                evaluator = e(ds)\n",
    "                evaluator.fetch_gender()\n",
    "                all_errors = evaluator.compute_all_errors()\n",
    "                errors_per_ds[ds][e.gender_evaluator]=dict(zip(error_names, all_errors))\n",
    "            else:\n",
    "                continue\n",
    "    \n",
    "    return errors_per_ds"
   ]
  },
  {
   "cell_type": "code",
   "execution_count": 11,
   "metadata": {
    "scrolled": true
   },
   "outputs": [
    {
     "name": "stdout",
     "output_type": "stream",
     "text": [
      "gender_api\n",
      "zbmath\n",
      "Reading data from dump file test_data/gender_api/test_data_zbmath_gender_api.csv\n",
      "all\n",
      "Reading data from dump file test_data/gender_api/test_data_all_gender_api.csv\n",
      "gender_api_full\n",
      "zbmath\n",
      "Reading data from dump file test_data/gender_api_full/test_data_zbmath_gender_api_full.csv\n",
      "names_api\n",
      "genderizeR\n",
      "Reading data from dump file test_data/names_api/test_data_genderizeR_names_api.csv\n",
      "zbmath\n",
      "Reading data from dump file test_data/names_api/test_data_zbmath_names_api.csv\n",
      "all\n",
      "Reading data from dump file test_data/names_api/test_data_all_names_api.csv\n",
      "nature\n",
      "Reading data from dump file test_data/names_api/test_data_nature_names_api.csv\n",
      "genderizeR_titles\n",
      "Reading data from dump file test_data/names_api/test_data_genderizeR_titles_names_api.csv\n",
      "filardo\n",
      "Reading data from dump file test_data/names_api/test_data_filardo_names_api.csv\n",
      "names_api_full\n",
      "genderizeR\n",
      "Reading data from dump file test_data/names_api_full/test_data_genderizeR_names_api_full.csv\n",
      "zbmath\n",
      "Reading data from dump file test_data/names_api_full/test_data_zbmath_names_api_full.csv\n",
      "all\n",
      "Reading data from dump file test_data/names_api_full/test_data_all_names_api_full.csv\n",
      "nature\n",
      "Reading data from dump file test_data/names_api_full/test_data_nature_names_api_full.csv\n",
      "genderizeR_titles\n",
      "Reading data from dump file test_data/names_api_full/test_data_genderizeR_titles_names_api_full.csv\n",
      "filardo\n",
      "Reading data from dump file test_data/names_api_full/test_data_filardo_names_api_full.csv\n",
      "namsor\n",
      "all\n",
      "Reading data from dump file test_data/namsor/test_data_all_namsor.csv\n",
      "gender_guesser\n",
      "genderizeR\n",
      "Reading data from dump file test_data/gender_guesser/test_data_genderizeR_gender_guesser.csv\n",
      "zbmath\n",
      "Reading data from dump file test_data/gender_guesser/test_data_zbmath_gender_guesser.csv\n",
      "all\n",
      "Reading data from dump file test_data/gender_guesser/test_data_all_gender_guesser.csv\n",
      "nature\n",
      "Reading data from dump file test_data/gender_guesser/test_data_nature_gender_guesser.csv\n",
      "genderizeR_titles\n",
      "Reading data from dump file test_data/gender_guesser/test_data_genderizeR_titles_gender_guesser.csv\n",
      "filardo\n",
      "Reading data from dump file test_data/gender_guesser/test_data_filardo_gender_guesser.csv\n",
      "genderize_io\n",
      "genderizeR\n",
      "Reading data from dump file test_data/genderize_io/test_data_genderizeR_genderize_io.csv\n",
      "zbmath\n",
      "Reading data from dump file test_data/genderize_io/test_data_zbmath_genderize_io.csv\n",
      "genderizeR_titles\n",
      "Reading data from dump file test_data/genderize_io/test_data_genderizeR_titles_genderize_io.csv\n",
      "filardo\n",
      "Reading data from dump file test_data/genderize_io/test_data_filardo_genderize_io.csv\n"
     ]
    }
   ],
   "source": [
    "errors_per_ds = compute_errors_per_data_source_and_evaluator()"
   ]
  },
  {
   "cell_type": "code",
   "execution_count": 12,
   "metadata": {},
   "outputs": [],
   "source": [
    "errors_per_ds = {k:pd.DataFrame.from_dict(v) for k,v in errors_per_ds.items()}"
   ]
  },
  {
   "cell_type": "code",
   "execution_count": 13,
   "metadata": {
    "scrolled": true
   },
   "outputs": [
    {
     "data": {
      "text/plain": [
       "{'all':                        gender_api  gender_guesser  names_api  names_api_full  \\\n",
       " error_gender_bias        0.058206        0.034826   0.046797        0.043284   \n",
       " error_unknown            0.029706        0.201554   0.198998        0.149499   \n",
       " error_with_unknown       0.094311        0.297624   0.309729        0.228972   \n",
       " error_without_unknown    0.058206        0.034826   0.046797        0.043284   \n",
       " \n",
       "                          namsor  \n",
       " error_gender_bias      0.051554  \n",
       " error_unknown          0.088774  \n",
       " error_with_unknown     0.157074  \n",
       " error_without_unknown  0.051554  ,\n",
       " 'filardo':                        gender_guesser  genderize_io  names_api  names_api_full\n",
       " error_gender_bias            0.022055      0.034295   0.031491        0.032276\n",
       " error_unknown                0.106328      0.047693   0.126168        0.082597\n",
       " error_with_unknown           0.144214      0.087373   0.181595        0.126390\n",
       " error_without_unknown        0.022055      0.034295   0.031491        0.032276,\n",
       " 'genderizeR':                        gender_guesser  genderize_io  names_api  names_api_full\n",
       " error_gender_bias            0.010363      0.025189   0.024324        0.020942\n",
       " error_unknown                0.074341      0.047962   0.112710        0.083933\n",
       " error_with_unknown           0.091623      0.077519   0.155125        0.114973\n",
       " error_without_unknown        0.010363      0.025189   0.024324        0.020942,\n",
       " 'genderizeR_titles':                        gender_guesser  genderize_io  names_api  names_api_full\n",
       " error_gender_bias            0.013667      0.033482   0.022222        0.011338\n",
       " error_unknown                0.067941      0.048832   0.138298        0.061702\n",
       " error_with_unknown           0.087760      0.087760   0.186869        0.077982\n",
       " error_without_unknown        0.013667      0.033482   0.022222        0.011338,\n",
       " 'nature':                        gender_guesser  names_api  names_api_full\n",
       " error_gender_bias            0.063600   0.077540        0.068534\n",
       " error_unknown                0.332449   0.288161        0.238476\n",
       " error_with_unknown           0.599757   0.522899        0.409774\n",
       " error_without_unknown        0.063600   0.077540        0.068534,\n",
       " 'zbmath':                        gender_api  gender_api_full  gender_guesser  \\\n",
       " error_gender_bias        0.002882         0.020761        0.003058   \n",
       " error_unknown            0.005731         0.171920        0.063037   \n",
       " error_with_unknown       0.008671         0.233216        0.070552   \n",
       " error_without_unknown    0.002882         0.020761        0.003058   \n",
       " \n",
       "                        genderize_io  names_api  names_api_full  \n",
       " error_gender_bias          0.009119   0.003236        0.018018  \n",
       " error_unknown              0.057307   0.114613        0.045845  \n",
       " error_with_unknown         0.070552   0.133117        0.067278  \n",
       " error_without_unknown      0.009119   0.003236        0.018018  }"
      ]
     },
     "execution_count": 13,
     "metadata": {},
     "output_type": "execute_result"
    }
   ],
   "source": [
    "errors_per_ds"
   ]
  },
  {
   "cell_type": "code",
   "execution_count": 14,
   "metadata": {},
   "outputs": [],
   "source": [
    "keys, values = zip(*errors_per_ds.items())"
   ]
  },
  {
   "cell_type": "code",
   "execution_count": 15,
   "metadata": {},
   "outputs": [],
   "source": [
    "benchmark = pd.concat(values, axis=1,keys=keys)"
   ]
  },
  {
   "cell_type": "code",
   "execution_count": 16,
   "metadata": {},
   "outputs": [
    {
     "data": {
      "text/html": [
       "<div>\n",
       "<style scoped>\n",
       "    .dataframe tbody tr th:only-of-type {\n",
       "        vertical-align: middle;\n",
       "    }\n",
       "\n",
       "    .dataframe tbody tr th {\n",
       "        vertical-align: top;\n",
       "    }\n",
       "\n",
       "    .dataframe thead tr th {\n",
       "        text-align: left;\n",
       "    }\n",
       "</style>\n",
       "<table border=\"1\" class=\"dataframe\">\n",
       "  <thead>\n",
       "    <tr>\n",
       "      <th></th>\n",
       "      <th colspan=\"4\" halign=\"left\">genderizeR</th>\n",
       "      <th colspan=\"3\" halign=\"left\">nature</th>\n",
       "      <th colspan=\"3\" halign=\"left\">zbmath</th>\n",
       "      <th>...</th>\n",
       "      <th>genderizeR_titles</th>\n",
       "      <th colspan=\"5\" halign=\"left\">all</th>\n",
       "      <th colspan=\"4\" halign=\"left\">filardo</th>\n",
       "    </tr>\n",
       "    <tr>\n",
       "      <th></th>\n",
       "      <th>gender_guesser</th>\n",
       "      <th>genderize_io</th>\n",
       "      <th>names_api</th>\n",
       "      <th>names_api_full</th>\n",
       "      <th>gender_guesser</th>\n",
       "      <th>names_api</th>\n",
       "      <th>names_api_full</th>\n",
       "      <th>gender_api</th>\n",
       "      <th>gender_api_full</th>\n",
       "      <th>gender_guesser</th>\n",
       "      <th>...</th>\n",
       "      <th>names_api_full</th>\n",
       "      <th>gender_api</th>\n",
       "      <th>gender_guesser</th>\n",
       "      <th>names_api</th>\n",
       "      <th>names_api_full</th>\n",
       "      <th>namsor</th>\n",
       "      <th>gender_guesser</th>\n",
       "      <th>genderize_io</th>\n",
       "      <th>names_api</th>\n",
       "      <th>names_api_full</th>\n",
       "    </tr>\n",
       "  </thead>\n",
       "  <tbody>\n",
       "    <tr>\n",
       "      <th>error_gender_bias</th>\n",
       "      <td>0.010363</td>\n",
       "      <td>0.025189</td>\n",
       "      <td>0.024324</td>\n",
       "      <td>0.020942</td>\n",
       "      <td>0.063600</td>\n",
       "      <td>0.077540</td>\n",
       "      <td>0.068534</td>\n",
       "      <td>0.002882</td>\n",
       "      <td>0.020761</td>\n",
       "      <td>0.003058</td>\n",
       "      <td>...</td>\n",
       "      <td>0.011338</td>\n",
       "      <td>0.058206</td>\n",
       "      <td>0.034826</td>\n",
       "      <td>0.046797</td>\n",
       "      <td>0.043284</td>\n",
       "      <td>0.051554</td>\n",
       "      <td>0.022055</td>\n",
       "      <td>0.034295</td>\n",
       "      <td>0.031491</td>\n",
       "      <td>0.032276</td>\n",
       "    </tr>\n",
       "    <tr>\n",
       "      <th>error_unknown</th>\n",
       "      <td>0.074341</td>\n",
       "      <td>0.047962</td>\n",
       "      <td>0.112710</td>\n",
       "      <td>0.083933</td>\n",
       "      <td>0.332449</td>\n",
       "      <td>0.288161</td>\n",
       "      <td>0.238476</td>\n",
       "      <td>0.005731</td>\n",
       "      <td>0.171920</td>\n",
       "      <td>0.063037</td>\n",
       "      <td>...</td>\n",
       "      <td>0.061702</td>\n",
       "      <td>0.029706</td>\n",
       "      <td>0.201554</td>\n",
       "      <td>0.198998</td>\n",
       "      <td>0.149499</td>\n",
       "      <td>0.088774</td>\n",
       "      <td>0.106328</td>\n",
       "      <td>0.047693</td>\n",
       "      <td>0.126168</td>\n",
       "      <td>0.082597</td>\n",
       "    </tr>\n",
       "    <tr>\n",
       "      <th>error_with_unknown</th>\n",
       "      <td>0.091623</td>\n",
       "      <td>0.077519</td>\n",
       "      <td>0.155125</td>\n",
       "      <td>0.114973</td>\n",
       "      <td>0.599757</td>\n",
       "      <td>0.522899</td>\n",
       "      <td>0.409774</td>\n",
       "      <td>0.008671</td>\n",
       "      <td>0.233216</td>\n",
       "      <td>0.070552</td>\n",
       "      <td>...</td>\n",
       "      <td>0.077982</td>\n",
       "      <td>0.094311</td>\n",
       "      <td>0.297624</td>\n",
       "      <td>0.309729</td>\n",
       "      <td>0.228972</td>\n",
       "      <td>0.157074</td>\n",
       "      <td>0.144214</td>\n",
       "      <td>0.087373</td>\n",
       "      <td>0.181595</td>\n",
       "      <td>0.126390</td>\n",
       "    </tr>\n",
       "    <tr>\n",
       "      <th>error_without_unknown</th>\n",
       "      <td>0.010363</td>\n",
       "      <td>0.025189</td>\n",
       "      <td>0.024324</td>\n",
       "      <td>0.020942</td>\n",
       "      <td>0.063600</td>\n",
       "      <td>0.077540</td>\n",
       "      <td>0.068534</td>\n",
       "      <td>0.002882</td>\n",
       "      <td>0.020761</td>\n",
       "      <td>0.003058</td>\n",
       "      <td>...</td>\n",
       "      <td>0.011338</td>\n",
       "      <td>0.058206</td>\n",
       "      <td>0.034826</td>\n",
       "      <td>0.046797</td>\n",
       "      <td>0.043284</td>\n",
       "      <td>0.051554</td>\n",
       "      <td>0.022055</td>\n",
       "      <td>0.034295</td>\n",
       "      <td>0.031491</td>\n",
       "      <td>0.032276</td>\n",
       "    </tr>\n",
       "  </tbody>\n",
       "</table>\n",
       "<p>4 rows × 26 columns</p>\n",
       "</div>"
      ],
      "text/plain": [
       "                          genderizeR                                        \\\n",
       "                      gender_guesser genderize_io names_api names_api_full   \n",
       "error_gender_bias           0.010363     0.025189  0.024324       0.020942   \n",
       "error_unknown               0.074341     0.047962  0.112710       0.083933   \n",
       "error_with_unknown          0.091623     0.077519  0.155125       0.114973   \n",
       "error_without_unknown       0.010363     0.025189  0.024324       0.020942   \n",
       "\n",
       "                              nature                              zbmath  \\\n",
       "                      gender_guesser names_api names_api_full gender_api   \n",
       "error_gender_bias           0.063600  0.077540       0.068534   0.002882   \n",
       "error_unknown               0.332449  0.288161       0.238476   0.005731   \n",
       "error_with_unknown          0.599757  0.522899       0.409774   0.008671   \n",
       "error_without_unknown       0.063600  0.077540       0.068534   0.002882   \n",
       "\n",
       "                                                          ...        \\\n",
       "                      gender_api_full gender_guesser      ...         \n",
       "error_gender_bias            0.020761       0.003058      ...         \n",
       "error_unknown                0.171920       0.063037      ...         \n",
       "error_with_unknown           0.233216       0.070552      ...         \n",
       "error_without_unknown        0.020761       0.003058      ...         \n",
       "\n",
       "                      genderizeR_titles        all                           \\\n",
       "                         names_api_full gender_api gender_guesser names_api   \n",
       "error_gender_bias              0.011338   0.058206       0.034826  0.046797   \n",
       "error_unknown                  0.061702   0.029706       0.201554  0.198998   \n",
       "error_with_unknown             0.077982   0.094311       0.297624  0.309729   \n",
       "error_without_unknown          0.011338   0.058206       0.034826  0.046797   \n",
       "\n",
       "                                                      filardo               \\\n",
       "                      names_api_full    namsor gender_guesser genderize_io   \n",
       "error_gender_bias           0.043284  0.051554       0.022055     0.034295   \n",
       "error_unknown               0.149499  0.088774       0.106328     0.047693   \n",
       "error_with_unknown          0.228972  0.157074       0.144214     0.087373   \n",
       "error_without_unknown       0.043284  0.051554       0.022055     0.034295   \n",
       "\n",
       "                                                \n",
       "                      names_api names_api_full  \n",
       "error_gender_bias      0.031491       0.032276  \n",
       "error_unknown          0.126168       0.082597  \n",
       "error_with_unknown     0.181595       0.126390  \n",
       "error_without_unknown  0.031491       0.032276  \n",
       "\n",
       "[4 rows x 26 columns]"
      ]
     },
     "execution_count": 16,
     "metadata": {},
     "output_type": "execute_result"
    }
   ],
   "source": [
    "benchmark"
   ]
  }
 ],
 "metadata": {
  "kernelspec": {
   "display_name": "Python 3",
   "language": "python",
   "name": "python3"
  },
  "language_info": {
   "codemirror_mode": {
    "name": "ipython",
    "version": 3
   },
   "file_extension": ".py",
   "mimetype": "text/x-python",
   "name": "python",
   "nbconvert_exporter": "python",
   "pygments_lexer": "ipython3",
   "version": "3.5.1"
  }
 },
 "nbformat": 4,
 "nbformat_minor": 2
}
