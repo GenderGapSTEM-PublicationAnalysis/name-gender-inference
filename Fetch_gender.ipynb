{
 "cells": [
  {
   "cell_type": "markdown",
   "metadata": {},
   "source": [
    "# Fetch gender from any service"
   ]
  },
  {
   "cell_type": "code",
   "execution_count": 1,
   "metadata": {},
   "outputs": [],
   "source": [
    "from evaluators import *"
   ]
  },
  {
   "cell_type": "markdown",
   "metadata": {},
   "source": [
    "Change the two variables `data_source` and `service_name` below as required:"
   ]
  },
  {
   "cell_type": "code",
   "execution_count": 2,
   "metadata": {},
   "outputs": [],
   "source": [
    "data_source = 'genderizeR_titles'\n",
    "service_name = GenderizeIoEvaluator"
   ]
  },
  {
   "cell_type": "code",
   "execution_count": 3,
   "metadata": {},
   "outputs": [],
   "source": [
    "evaluator = service_name(data_source)"
   ]
  },
  {
   "cell_type": "code",
   "execution_count": 4,
   "metadata": {},
   "outputs": [],
   "source": [
    "evaluator.load_data()"
   ]
  },
  {
   "cell_type": "code",
   "execution_count": 5,
   "metadata": {},
   "outputs": [
    {
     "data": {
      "text/html": [
       "<div>\n",
       "<style scoped>\n",
       "    .dataframe tbody tr th:only-of-type {\n",
       "        vertical-align: middle;\n",
       "    }\n",
       "\n",
       "    .dataframe tbody tr th {\n",
       "        vertical-align: top;\n",
       "    }\n",
       "\n",
       "    .dataframe thead th {\n",
       "        text-align: right;\n",
       "    }\n",
       "</style>\n",
       "<table border=\"1\" class=\"dataframe\">\n",
       "  <thead>\n",
       "    <tr style=\"text-align: right;\">\n",
       "      <th></th>\n",
       "      <th>raw_name</th>\n",
       "      <th>first_name</th>\n",
       "      <th>middle_name</th>\n",
       "      <th>last_name</th>\n",
       "      <th>full_name</th>\n",
       "      <th>gender</th>\n",
       "    </tr>\n",
       "  </thead>\n",
       "  <tbody>\n",
       "    <tr>\n",
       "      <th>0</th>\n",
       "      <td>Nancy Mary Adams</td>\n",
       "      <td>nancy</td>\n",
       "      <td>mary</td>\n",
       "      <td>adams</td>\n",
       "      <td>nancy mary adams</td>\n",
       "      <td>f</td>\n",
       "    </tr>\n",
       "    <tr>\n",
       "      <th>1</th>\n",
       "      <td>Lloyd R Sutherland</td>\n",
       "      <td>lloyd</td>\n",
       "      <td>r</td>\n",
       "      <td>sutherland</td>\n",
       "      <td>lloyd r sutherland</td>\n",
       "      <td>m</td>\n",
       "    </tr>\n",
       "    <tr>\n",
       "      <th>2</th>\n",
       "      <td>John H. Hubbell</td>\n",
       "      <td>john</td>\n",
       "      <td>h</td>\n",
       "      <td>hubbell</td>\n",
       "      <td>john h. hubbell</td>\n",
       "      <td>m</td>\n",
       "    </tr>\n",
       "    <tr>\n",
       "      <th>3</th>\n",
       "      <td>Frank Kyte</td>\n",
       "      <td>frank</td>\n",
       "      <td></td>\n",
       "      <td>kyte</td>\n",
       "      <td>frank kyte</td>\n",
       "      <td>m</td>\n",
       "    </tr>\n",
       "    <tr>\n",
       "      <th>4</th>\n",
       "      <td>Nobuo Tanaka</td>\n",
       "      <td>nobuo</td>\n",
       "      <td></td>\n",
       "      <td>tanaka</td>\n",
       "      <td>nobuo tanaka</td>\n",
       "      <td>m</td>\n",
       "    </tr>\n",
       "  </tbody>\n",
       "</table>\n",
       "</div>"
      ],
      "text/plain": [
       "             raw_name first_name middle_name   last_name           full_name  \\\n",
       "0    Nancy Mary Adams      nancy        mary       adams    nancy mary adams   \n",
       "1  Lloyd R Sutherland      lloyd           r  sutherland  lloyd r sutherland   \n",
       "2     John H. Hubbell       john           h     hubbell     john h. hubbell   \n",
       "3          Frank Kyte      frank                    kyte          frank kyte   \n",
       "4        Nobuo Tanaka      nobuo                  tanaka        nobuo tanaka   \n",
       "\n",
       "  gender  \n",
       "0      f  \n",
       "1      m  \n",
       "2      m  \n",
       "3      m  \n",
       "4      m  "
      ]
     },
     "execution_count": 5,
     "metadata": {},
     "output_type": "execute_result"
    }
   ],
   "source": [
    "# have a look at the data\n",
    "evaluator.test_data.head()"
   ]
  },
  {
   "cell_type": "code",
   "execution_count": 11,
   "metadata": {},
   "outputs": [
    {
     "name": "stdout",
     "output_type": "stream",
     "text": [
      "Fetching gender data from API of service genderize_io\n",
      "('Request limit too low to process request', 429, {'Server': 'nginx/1.10.3 (Ubuntu)', 'Date': 'Sat, 16 Dec 2017 08:00:36 GMT', 'ETag': 'W/\"34-/B8VM4bRkG3nA11Ecw4Kpw\"', 'Connection': 'keep-alive', 'Access-Control-Allow-Methods': 'GET', 'X-Powered-By': 'Express', 'Access-Control-Allow-Origin': '*', 'Access-Control-Allow-Headers': 'Content-Type', 'Content-Type': 'application/json; charset=utf-8', 'Content-Length': '52'})\n",
      "Response from API contains less results than request. Try again?\n",
      "Saving data to dump file test_data/genderize_io/test_data_genderizeR_titles_genderize_io.csv\n",
      "Test data has not been evaluated yet, won't dump\n"
     ]
    }
   ],
   "source": [
    "evaluator.fetch_gender()"
   ]
  },
  {
   "cell_type": "code",
   "execution_count": 12,
   "metadata": {},
   "outputs": [
    {
     "data": {
      "text/plain": [
       "144"
      ]
     },
     "execution_count": 12,
     "metadata": {},
     "output_type": "execute_result"
    }
   ],
   "source": [
    "len(evaluator.api_response)"
   ]
  },
  {
   "cell_type": "markdown",
   "metadata": {},
   "source": [
    "If this does not go through, due to a server error or because the daily quota was reached, then rerun cell above until you see the print message that file was dumped."
   ]
  },
  {
   "cell_type": "code",
   "execution_count": null,
   "metadata": {},
   "outputs": [],
   "source": [
    "# have a look at the data again\n",
    "evaluator.test_data.head()"
   ]
  }
 ],
 "metadata": {
  "kernelspec": {
   "display_name": "Python 3",
   "language": "python",
   "name": "python3"
  },
  "language_info": {
   "codemirror_mode": {
    "name": "ipython",
    "version": 3.0
   },
   "file_extension": ".py",
   "mimetype": "text/x-python",
   "name": "python",
   "nbconvert_exporter": "python",
   "pygments_lexer": "ipython3",
   "version": "3.5.1"
  }
 },
 "nbformat": 4,
 "nbformat_minor": 0
}