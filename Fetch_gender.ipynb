{
 "cells": [
  {
   "cell_type": "markdown",
   "metadata": {},
   "source": [
    "# Fetch gender from any service"
   ]
  },
  {
   "cell_type": "code",
   "execution_count": 21,
   "metadata": {},
   "outputs": [],
   "source": [
    "from evaluators import *"
   ]
  },
  {
   "cell_type": "markdown",
   "metadata": {},
   "source": [
    "Change the two variables `data_source` and `service_name` below as required:"
   ]
  },
  {
   "cell_type": "code",
   "execution_count": 22,
   "metadata": {},
   "outputs": [],
   "source": [
    "data_source = 'nature'\n",
    "service_name = GenderizeIoEvaluator"
   ]
  },
  {
   "cell_type": "code",
   "execution_count": 23,
   "metadata": {},
   "outputs": [],
   "source": [
    "evaluator = service_name(data_source)"
   ]
  },
  {
   "cell_type": "code",
   "execution_count": 24,
   "metadata": {},
   "outputs": [],
   "source": [
    "evaluator.load_data()"
   ]
  },
  {
   "cell_type": "code",
   "execution_count": 25,
   "metadata": {},
   "outputs": [
    {
     "data": {
      "text/html": [
       "<div>\n",
       "<style scoped>\n",
       "    .dataframe tbody tr th:only-of-type {\n",
       "        vertical-align: middle;\n",
       "    }\n",
       "\n",
       "    .dataframe tbody tr th {\n",
       "        vertical-align: top;\n",
       "    }\n",
       "\n",
       "    .dataframe thead th {\n",
       "        text-align: right;\n",
       "    }\n",
       "</style>\n",
       "<table border=\"1\" class=\"dataframe\">\n",
       "  <thead>\n",
       "    <tr style=\"text-align: right;\">\n",
       "      <th></th>\n",
       "      <th>first_name</th>\n",
       "      <th>middle_name</th>\n",
       "      <th>last_name</th>\n",
       "      <th>full_name</th>\n",
       "      <th>gender</th>\n",
       "    </tr>\n",
       "  </thead>\n",
       "  <tbody>\n",
       "    <tr>\n",
       "      <th>0</th>\n",
       "      <td>ha</td>\n",
       "      <td>lim</td>\n",
       "      <td>oh</td>\n",
       "      <td>ha lim oh</td>\n",
       "      <td>f</td>\n",
       "    </tr>\n",
       "    <tr>\n",
       "      <th>1</th>\n",
       "      <td>michiyo</td>\n",
       "      <td></td>\n",
       "      <td>okada</td>\n",
       "      <td>michiyo okada</td>\n",
       "      <td>f</td>\n",
       "    </tr>\n",
       "    <tr>\n",
       "      <th>2</th>\n",
       "      <td>yongsoon</td>\n",
       "      <td></td>\n",
       "      <td>park</td>\n",
       "      <td>yongsoon park</td>\n",
       "      <td>f</td>\n",
       "    </tr>\n",
       "    <tr>\n",
       "      <th>3</th>\n",
       "      <td>klaske</td>\n",
       "      <td></td>\n",
       "      <td>van norren</td>\n",
       "      <td>klaske van norren</td>\n",
       "      <td>f</td>\n",
       "    </tr>\n",
       "    <tr>\n",
       "      <th>4</th>\n",
       "      <td>shiao</td>\n",
       "      <td>tong</td>\n",
       "      <td>kong</td>\n",
       "      <td>shiao tong kong</td>\n",
       "      <td>f</td>\n",
       "    </tr>\n",
       "  </tbody>\n",
       "</table>\n",
       "</div>"
      ],
      "text/plain": [
       "  first_name middle_name   last_name          full_name gender\n",
       "0         ha         lim          oh          ha lim oh      f\n",
       "1    michiyo                   okada      michiyo okada      f\n",
       "2   yongsoon                    park      yongsoon park      f\n",
       "3     klaske              van norren  klaske van norren      f\n",
       "4      shiao        tong        kong    shiao tong kong      f"
      ]
     },
     "execution_count": 25,
     "metadata": {},
     "output_type": "execute_result"
    }
   ],
   "source": [
    "# have a look at the data\n",
    "evaluator.test_data.head()"
   ]
  },
  {
   "cell_type": "code",
   "execution_count": 36,
   "metadata": {},
   "outputs": [
    {
     "name": "stdout",
     "output_type": "stream",
     "text": [
      "Fetching gender data from API of service genderize_io\n",
      "0...100...200...300...400...500...600...700...800...900...('Request limit too low to process request', 429, {'Access-Control-Allow-Headers': 'Content-Type', 'Connection': 'keep-alive', 'Access-Control-Allow-Origin': '*', 'ETag': 'W/\"34-/B8VM4bRkG3nA11Ecw4Kpw\"', 'Server': 'nginx/1.10.3 (Ubuntu)', 'Access-Control-Allow-Methods': 'GET', 'X-Powered-By': 'Express', 'Date': 'Thu, 21 Dec 2017 09:58:27 GMT', 'Content-Type': 'application/json; charset=utf-8', 'Content-Length': '52'})\n",
      "Response from API contains less results than request. Try again?\n",
      "Saving data to dump file test_data/genderize_io/test_data_nature_genderize_io.csv\n",
      "Test data has not been evaluated yet, won't dump\n"
     ]
    }
   ],
   "source": [
    "evaluator.fetch_gender()"
   ]
  },
  {
   "cell_type": "code",
   "execution_count": 35,
   "metadata": {},
   "outputs": [
    {
     "data": {
      "text/plain": [
       "1779"
      ]
     },
     "execution_count": 35,
     "metadata": {},
     "output_type": "execute_result"
    }
   ],
   "source": [
    "len(evaluator.api_response)"
   ]
  },
  {
   "cell_type": "code",
   "execution_count": 30,
   "metadata": {},
   "outputs": [
    {
     "data": {
      "text/plain": [
       "[{'count': 7, 'gender': 'male', 'name': 'onno', 'probability': 1.0},\n",
       " {'gender': None, 'name': 'badugu'},\n",
       " {'count': 3, 'gender': 'male', 'name': 'abolfazl', 'probability': 1.0},\n",
       " {'gender': None, 'name': 'abdolrahman'},\n",
       " {'count': 1, 'gender': 'male', 'name': 'ejiofor', 'probability': 1.0},\n",
       " {'count': 1, 'gender': 'male', 'name': 'tooru', 'probability': 1.0}]"
      ]
     },
     "execution_count": 30,
     "metadata": {},
     "output_type": "execute_result"
    }
   ],
   "source": [
    "evaluator.api_response[799:805]"
   ]
  },
  {
   "cell_type": "markdown",
   "metadata": {},
   "source": [
    "If this does not go through, due to a server error or because the daily quota was reached, then rerun cell above until you see the print message that file was dumped."
   ]
  },
  {
   "cell_type": "code",
   "execution_count": null,
   "metadata": {},
   "outputs": [],
   "source": [
    "# have a look at the data again\n",
    "evaluator.test_data.head()"
   ]
  }
 ],
 "metadata": {
  "kernelspec": {
   "display_name": "Python 3",
   "language": "python",
   "name": "python3"
  },
  "language_info": {
   "codemirror_mode": {
    "name": "ipython",
    "version": 3
   },
   "file_extension": ".py",
   "mimetype": "text/x-python",
   "name": "python",
   "nbconvert_exporter": "python",
   "pygments_lexer": "ipython3",
   "version": "3.5.1"
  }
 },
 "nbformat": 4,
 "nbformat_minor": 2
}
