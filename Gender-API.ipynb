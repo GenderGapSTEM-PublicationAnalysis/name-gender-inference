{
 "cells": [
  {
   "cell_type": "markdown",
   "metadata": {},
   "source": [
    "# Evaluate Gender-API\n",
    "\n",
    "https://gender-api.com"
   ]
  },
  {
   "cell_type": "code",
   "execution_count": 1,
   "metadata": {
    "collapsed": true
   },
   "outputs": [],
   "source": [
    "import json\n",
    "from urllib.request import urlopen\n",
    "from urllib.parse import urlencode"
   ]
  },
  {
   "cell_type": "code",
   "execution_count": 2,
   "metadata": {
    "collapsed": true
   },
   "outputs": [],
   "source": [
    "def fetch_from_gender_api(name, full_name=False):\n",
    "    # TODO: obfuscate if we post code in the open\n",
    "    api_key = 'TMbKcgUmgSpBtnjWoT'\n",
    "    #api_key = 'HjmUptFvSCCbSlHPkP'\n",
    "    if full_name:\n",
    "        urlpars = urlencode({'key': api_key, 'split': name})\n",
    "        url = 'https://gender-api.com/get?{}'.format(urlpars)\n",
    "    else:\n",
    "        urlpars = urlencode({'key': api_key, 'name': name})\n",
    "        url = 'https://gender-api.com/get?{}'.format(urlpars)\n",
    "    response = urlopen(url)\n",
    "    decoded = response.read().decode('utf-8')\n",
    "    data = json.loads(decoded)\n",
    "    return data"
   ]
  },
  {
   "cell_type": "code",
   "execution_count": 24,
   "metadata": {
    "collapsed": false
   },
   "outputs": [],
   "source": [
    "api_key = 'TMbKcgUmgSpBtnjWoT'\n",
    "urlpars = urlencode({'key': api_key, 'split': 'John Smith'})\n",
    "url = 'https://gender-api.com/get?{}'.format(urlpars)\n",
    "response = urlopen(url)"
   ]
  },
  {
   "cell_type": "code",
   "execution_count": 25,
   "metadata": {
    "collapsed": false
   },
   "outputs": [
    {
     "data": {
      "text/plain": [
       "{'accuracy': 99,\n",
       " 'duration': '33ms',\n",
       " 'first_name': 'John',\n",
       " 'gender': 'male',\n",
       " 'last_name': 'Smith',\n",
       " 'name': 'john',\n",
       " 'samples': 219085,\n",
       " 'strict': False}"
      ]
     },
     "execution_count": 25,
     "metadata": {},
     "output_type": "execute_result"
    }
   ],
   "source": [
    "decoded = response.read().decode('utf-8')\n",
    "data = json.loads(decoded)\n",
    "data"
   ]
  },
  {
   "cell_type": "markdown",
   "metadata": {},
   "source": [
    "### Can it handle surnames?"
   ]
  },
  {
   "cell_type": "code",
   "execution_count": 3,
   "metadata": {
    "collapsed": false
   },
   "outputs": [
    {
     "name": "stdout",
     "output_type": "stream",
     "text": [
      "{'name': 'samir amin', 'gender': 'unknown', 'samples': 0, 'accuracy': 0, 'duration': '29ms'}\n"
     ]
    }
   ],
   "source": [
    "print(fetch_from_gender_api('Samir Amin'))"
   ]
  },
  {
   "cell_type": "code",
   "execution_count": 4,
   "metadata": {
    "collapsed": false
   },
   "outputs": [
    {
     "name": "stdout",
     "output_type": "stream",
     "text": [
      "{'last_name': 'Amin', 'first_name': 'Samir', 'strict': False, 'name': 'samir', 'gender': 'male', 'samples': 43719, 'accuracy': 97, 'duration': '94ms'}\n"
     ]
    }
   ],
   "source": [
    "print(fetch_from_gender_api('Samir Amin', full_name=True))"
   ]
  },
  {
   "cell_type": "code",
   "execution_count": 5,
   "metadata": {
    "collapsed": false
   },
   "outputs": [
    {
     "name": "stdout",
     "output_type": "stream",
     "text": [
      "{'name': 'samir', 'gender': 'male', 'samples': 43719, 'accuracy': 97, 'duration': '26ms'}\n"
     ]
    }
   ],
   "source": [
    "print(fetch_from_gender_api('Samir'))"
   ]
  },
  {
   "cell_type": "markdown",
   "metadata": {},
   "source": [
    "It can handle surnames if we use the split method, implemented in the fetch function as an option."
   ]
  },
  {
   "cell_type": "markdown",
   "metadata": {},
   "source": [
    "### Does it know about geolocation of names?"
   ]
  },
  {
   "cell_type": "code",
   "execution_count": 6,
   "metadata": {
    "collapsed": false
   },
   "outputs": [
    {
     "name": "stdout",
     "output_type": "stream",
     "text": [
      "{'name': 'andrea schmidt', 'gender': 'unknown', 'samples': 0, 'accuracy': 0, 'duration': '21ms'}\n"
     ]
    }
   ],
   "source": [
    "print(fetch_from_gender_api('Andrea Schmidt'))"
   ]
  },
  {
   "cell_type": "code",
   "execution_count": 7,
   "metadata": {
    "collapsed": false
   },
   "outputs": [
    {
     "name": "stdout",
     "output_type": "stream",
     "text": [
      "{'last_name': 'Schmidt', 'first_name': 'Andrea', 'strict': False, 'name': 'andrea', 'gender': 'female', 'samples': 161059, 'accuracy': 54, 'duration': '154ms'}\n"
     ]
    }
   ],
   "source": [
    "print(fetch_from_gender_api('Andrea Schmidt', full_name=True))"
   ]
  },
  {
   "cell_type": "code",
   "execution_count": 8,
   "metadata": {
    "collapsed": false
   },
   "outputs": [
    {
     "name": "stdout",
     "output_type": "stream",
     "text": [
      "{'name': 'andrea bocelli', 'gender': 'unknown', 'samples': 0, 'accuracy': 0, 'duration': '19ms'}\n"
     ]
    }
   ],
   "source": [
    "print(fetch_from_gender_api('Andrea Bocelli'))"
   ]
  },
  {
   "cell_type": "code",
   "execution_count": 9,
   "metadata": {
    "collapsed": false
   },
   "outputs": [
    {
     "name": "stdout",
     "output_type": "stream",
     "text": [
      "{'last_name': 'Bocelli', 'first_name': 'Andrea', 'strict': False, 'name': 'andrea', 'gender': 'female', 'samples': 161059, 'accuracy': 54, 'duration': '53ms'}\n"
     ]
    }
   ],
   "source": [
    "print(fetch_from_gender_api('Andrea Bocelli', full_name=True))"
   ]
  },
  {
   "cell_type": "code",
   "execution_count": 10,
   "metadata": {
    "collapsed": false
   },
   "outputs": [
    {
     "name": "stdout",
     "output_type": "stream",
     "text": [
      "{'name': 'rosario giordano', 'gender': 'unknown', 'samples': 0, 'accuracy': 0, 'duration': '36ms'}\n"
     ]
    }
   ],
   "source": [
    "print(fetch_from_gender_api('Rosario Giordano'))"
   ]
  },
  {
   "cell_type": "code",
   "execution_count": 11,
   "metadata": {
    "collapsed": false
   },
   "outputs": [
    {
     "name": "stdout",
     "output_type": "stream",
     "text": [
      "{'last_name': 'Giordano', 'first_name': 'Rosario', 'strict': False, 'name': 'rosario', 'gender': 'male', 'samples': 13557, 'accuracy': 64, 'duration': '129ms'}\n"
     ]
    }
   ],
   "source": [
    "print(fetch_from_gender_api('Rosario Giordano', full_name=True))"
   ]
  },
  {
   "cell_type": "code",
   "execution_count": 12,
   "metadata": {
    "collapsed": false
   },
   "outputs": [
    {
     "name": "stdout",
     "output_type": "stream",
     "text": [
      "{'last_name': 'González', 'first_name': 'Rosario', 'strict': False, 'name': 'rosario', 'gender': 'male', 'samples': 13557, 'accuracy': 64, 'duration': '102ms'}\n"
     ]
    }
   ],
   "source": [
    "print(fetch_from_gender_api('Rosario González', full_name=True))"
   ]
  },
  {
   "cell_type": "markdown",
   "metadata": {},
   "source": [
    "Gender-API can NOT tell that a name is of a certain origin by looking at the surname. Only if we provide further info, like country code or IP address, can it geolocalize."
   ]
  },
  {
   "cell_type": "markdown",
   "metadata": {},
   "source": [
    "### Double names (where the order matters)"
   ]
  },
  {
   "cell_type": "code",
   "execution_count": 16,
   "metadata": {
    "collapsed": true
   },
   "outputs": [],
   "source": [
    "names = ['Hans Joachim', 'Hans-Joachim', 'Maria-José', 'María José', 'Maria Jose', 'José Maria', 'José María', \n",
    "         'José-María', 'Josémaria', 'theo c. m']"
   ]
  },
  {
   "cell_type": "code",
   "execution_count": 17,
   "metadata": {
    "collapsed": false
   },
   "outputs": [
    {
     "name": "stdout",
     "output_type": "stream",
     "text": [
      "{'name': 'hans joachim', 'gender': 'male', 'samples': 52, 'accuracy': 100, 'duration': '21ms'}\n",
      "{'name': 'hans-joachim', 'gender': 'male', 'samples': 380, 'accuracy': 100, 'duration': '22ms'}\n",
      "{'name': 'maria-josé', 'gender': 'female', 'samples': 10, 'accuracy': 100, 'duration': '24ms'}\n",
      "{'name': 'maría josé', 'gender': 'female', 'samples': 1546, 'accuracy': 98, 'duration': '21ms'}\n",
      "{'name': 'maria jose', 'gender': 'female', 'samples': 6628, 'accuracy': 98, 'duration': '24ms'}\n",
      "{'name': 'josé maria', 'gender': 'male', 'samples': 370, 'accuracy': 98, 'duration': '18ms'}\n",
      "{'name': 'josé maría', 'gender': 'male', 'samples': 812, 'accuracy': 100, 'duration': '22ms'}\n",
      "{'name': 'josé-maría', 'gender': 'male', 'samples': 47064, 'accuracy': 74, 'duration': '18ms'}\n",
      "{'name': 'josémaria', 'gender': 'unknown', 'samples': 0, 'accuracy': 0, 'duration': '49ms'}\n",
      "{'name': 'theo c. m', 'gender': 'unknown', 'samples': 0, 'accuracy': 0, 'duration': '31ms'}\n"
     ]
    }
   ],
   "source": [
    "for n in names:\n",
    "    print(fetch_from_gender_api(n))"
   ]
  },
  {
   "cell_type": "markdown",
   "metadata": {},
   "source": [
    "The gender-API: \n",
    "\n",
    "* accepts double names\n",
    "* is sensitive towards non-letter characters such as '-' or ' ' (cf. `José-María` and `José María`)\n",
    "* works fine with non-ASCII characters (e.g. `é`) -> but we need to URL encode the query\n",
    "* is sensitive towards accents (cf. `José María` and `José Maria`)"
   ]
  },
  {
   "cell_type": "code",
   "execution_count": 18,
   "metadata": {
    "collapsed": false
   },
   "outputs": [
    {
     "name": "stdout",
     "output_type": "stream",
     "text": [
      "{'name': 'jane', 'gender': 'female', 'samples': 30423, 'accuracy': 97, 'duration': '19ms'}\n",
      "{'name': 'ruth', 'gender': 'female', 'samples': 20411, 'accuracy': 98, 'duration': '27ms'}\n",
      "{'name': 'jane ruth', 'gender': 'female', 'samples': 3, 'accuracy': 100, 'duration': '26ms'}\n",
      "{'name': 'jane-ruth', 'gender': 'female', 'samples': 50834, 'accuracy': 97, 'duration': '225ms'}\n"
     ]
    }
   ],
   "source": [
    "names = ['Jane', 'Ruth', 'Jane Ruth', 'Jane-Ruth']\n",
    "for n in names:\n",
    "    print(fetch_from_gender_api(n))"
   ]
  },
  {
   "cell_type": "code",
   "execution_count": 29,
   "metadata": {
    "collapsed": false
   },
   "outputs": [
    {
     "data": {
      "text/plain": [
       "[{'accuracy': 100,\n",
       "  'duration': '17ms',\n",
       "  'gender': 'male',\n",
       "  'name': 'pierrepaul',\n",
       "  'samples': 7},\n",
       " {'accuracy': 95,\n",
       "  'duration': '16ms',\n",
       "  'gender': 'male',\n",
       "  'name': 'pierre paul',\n",
       "  'samples': 66},\n",
       " {'accuracy': 99,\n",
       "  'duration': '19ms',\n",
       "  'gender': 'male',\n",
       "  'name': 'pierre-paul',\n",
       "  'samples': 76}]"
      ]
     },
     "execution_count": 29,
     "metadata": {},
     "output_type": "execute_result"
    }
   ],
   "source": [
    "first_name = 'pierre'\n",
    "middle_name = 'paul'\n",
    "connectors = ['', ' ', '-']\n",
    "names = [c.join([first_name, middle_name]) for c in connectors]\n",
    "results = [fetch_from_gender_api(n) for n in names]\n",
    "results"
   ]
  },
  {
   "cell_type": "code",
   "execution_count": 36,
   "metadata": {
    "collapsed": false
   },
   "outputs": [
    {
     "data": {
      "text/plain": [
       "{'accuracy': 99,\n",
       " 'duration': '19ms',\n",
       " 'gender': 'male',\n",
       " 'name': 'pierre-paul',\n",
       " 'samples': 76}"
      ]
     },
     "execution_count": 36,
     "metadata": {},
     "output_type": "execute_result"
    }
   ],
   "source": [
    "max(results, key=lambda x: x['samples'])"
   ]
  },
  {
   "cell_type": "markdown",
   "metadata": {},
   "source": [
    "### Names with different genders depending on ethnicity"
   ]
  },
  {
   "cell_type": "code",
   "execution_count": 3,
   "metadata": {
    "collapsed": true
   },
   "outputs": [],
   "source": [
    "names = ['Nicola', 'Andrea', 'Alex', 'Mika', 'Addison', 'Ash', 'Dakota']"
   ]
  },
  {
   "cell_type": "code",
   "execution_count": 4,
   "metadata": {
    "collapsed": false
   },
   "outputs": [
    {
     "name": "stdout",
     "output_type": "stream",
     "text": [
      "Nicola\n",
      "{'name': 'nicola', 'gender': 'male', 'samples': 36981, 'accuracy': 80, 'duration': '35ms'}\n",
      "Andrea\n",
      "{'name': 'andrea', 'gender': 'female', 'samples': 161059, 'accuracy': 54, 'duration': '17ms'}\n",
      "Alex\n",
      "{'name': 'alex', 'gender': 'male', 'samples': 247706, 'accuracy': 92, 'duration': '15ms'}\n",
      "Mika\n",
      "{'name': 'mika', 'gender': 'male', 'samples': 11329, 'accuracy': 76, 'duration': '16ms'}\n",
      "Addison\n",
      "{'name': 'addison', 'gender': 'male', 'samples': 703, 'accuracy': 68, 'duration': '31ms'}\n",
      "Ash\n",
      "{'name': 'ash', 'gender': 'male', 'samples': 7150, 'accuracy': 77, 'duration': '23ms'}\n",
      "Dakota\n",
      "{'name': 'dakota', 'gender': 'male', 'samples': 2081, 'accuracy': 68, 'duration': '21ms'}\n"
     ]
    }
   ],
   "source": [
    "for n in names:\n",
    "    print(n), print(fetch_from_gender_api(n))"
   ]
  },
  {
   "cell_type": "markdown",
   "metadata": {},
   "source": [
    "* Andrea has lower accuracy - this can be improved passing geo information by country, IP and browser language. Unfortunately we don't usually have those labels in our data\n",
    "* Neutral names (Ash, Dakota) are assigned a as such but we lower accuracy"
   ]
  },
  {
   "cell_type": "markdown",
   "metadata": {},
   "source": [
    "### Check for nonsense words"
   ]
  },
  {
   "cell_type": "code",
   "execution_count": 5,
   "metadata": {
    "collapsed": true
   },
   "outputs": [],
   "source": [
    "names = ['the', 'a', 'with', 'an', 'I', 'my']"
   ]
  },
  {
   "cell_type": "code",
   "execution_count": 6,
   "metadata": {
    "collapsed": false
   },
   "outputs": [
    {
     "name": "stdout",
     "output_type": "stream",
     "text": [
      "the\n",
      "{'name': 'the', 'gender': 'male', 'samples': 10436, 'accuracy': 87, 'duration': '19ms'}\n",
      "a\n",
      "{'name': 'a', 'gender': 'unknown', 'samples': 0, 'accuracy': 0, 'duration': '16ms'}\n",
      "with\n",
      "{'name': 'with', 'gender': 'male', 'samples': 61, 'accuracy': 79, 'duration': '25ms'}\n",
      "an\n",
      "{'name': 'an', 'gender': 'female', 'samples': 5589, 'accuracy': 52, 'duration': '14ms'}\n",
      "I\n",
      "{'name': 'i', 'gender': 'unknown', 'samples': 0, 'accuracy': 0, 'duration': '31ms'}\n",
      "my\n",
      "{'name': 'my', 'gender': 'female', 'samples': 2984, 'accuracy': 62, 'duration': '19ms'}\n"
     ]
    }
   ],
   "source": [
    "for n in names:\n",
    "    print(n), print(fetch_from_gender_api(n))"
   ]
  },
  {
   "cell_type": "markdown",
   "metadata": {},
   "source": [
    "Most of these nonsense words are assigned a gender"
   ]
  },
  {
   "cell_type": "markdown",
   "metadata": {},
   "source": [
    "### Capital letters"
   ]
  },
  {
   "cell_type": "code",
   "execution_count": 7,
   "metadata": {
    "collapsed": true
   },
   "outputs": [],
   "source": [
    "names = ['pierre', 'Pierre', 'paul', 'Paul']"
   ]
  },
  {
   "cell_type": "code",
   "execution_count": 8,
   "metadata": {
    "collapsed": false
   },
   "outputs": [
    {
     "name": "stdout",
     "output_type": "stream",
     "text": [
      "pierre\n",
      "{'name': 'pierre', 'gender': 'male', 'samples': 60103, 'accuracy': 98, 'duration': '20ms'}\n",
      "Pierre\n",
      "{'name': 'pierre', 'gender': 'male', 'samples': 60103, 'accuracy': 98, 'duration': '58ms'}\n",
      "paul\n",
      "{'name': 'paul', 'gender': 'male', 'samples': 140849, 'accuracy': 99, 'duration': '39ms'}\n",
      "Paul\n",
      "{'name': 'paul', 'gender': 'male', 'samples': 140849, 'accuracy': 99, 'duration': '15ms'}\n"
     ]
    }
   ],
   "source": [
    "for n in names:\n",
    "    print(n), print(fetch_from_gender_api(n))"
   ]
  },
  {
   "cell_type": "code",
   "execution_count": 9,
   "metadata": {
    "collapsed": false
   },
   "outputs": [
    {
     "name": "stdout",
     "output_type": "stream",
     "text": [
      "{'last_name': 'Paul', 'first_name': '', 'strict': False, 'name': '', 'gender': 'unknown', 'samples': 0, 'accuracy': 0, 'duration': '166ms'}\n"
     ]
    }
   ],
   "source": [
    "print(fetch_from_gender_api('Paul horwich', full_name=True))"
   ]
  },
  {
   "cell_type": "code",
   "execution_count": 10,
   "metadata": {
    "collapsed": false
   },
   "outputs": [
    {
     "name": "stdout",
     "output_type": "stream",
     "text": [
      "{'last_name': 'Paul', 'first_name': '', 'strict': False, 'name': '', 'gender': 'unknown', 'samples': 0, 'accuracy': 0, 'duration': '24ms'}\n"
     ]
    }
   ],
   "source": [
    "print(fetch_from_gender_api('Paul Horwich', full_name=True))"
   ]
  },
  {
   "cell_type": "code",
   "execution_count": 11,
   "metadata": {
    "collapsed": false
   },
   "outputs": [
    {
     "name": "stdout",
     "output_type": "stream",
     "text": [
      "{'name': 'paul ribenboim', 'gender': 'unknown', 'samples': 0, 'accuracy': 0, 'duration': '29ms'}\n"
     ]
    }
   ],
   "source": [
    "print(fetch_from_gender_api('Paul ribenboim'))"
   ]
  },
  {
   "cell_type": "code",
   "execution_count": 12,
   "metadata": {
    "collapsed": false
   },
   "outputs": [
    {
     "name": "stdout",
     "output_type": "stream",
     "text": [
      "{'last_name': 'Paul', 'first_name': '', 'strict': False, 'name': '', 'gender': 'unknown', 'samples': 0, 'accuracy': 0, 'duration': '191ms'}\n"
     ]
    }
   ],
   "source": [
    "print(fetch_from_gender_api('Paul ribenboim', full_name=True))"
   ]
  },
  {
   "cell_type": "code",
   "execution_count": 13,
   "metadata": {
    "collapsed": false
   },
   "outputs": [
    {
     "name": "stdout",
     "output_type": "stream",
     "text": [
      "{'last_name': 'Paul', 'first_name': '', 'strict': False, 'name': '', 'gender': 'unknown', 'samples': 0, 'accuracy': 0, 'duration': '66ms'}\n"
     ]
    }
   ],
   "source": [
    "print(fetch_from_gender_api('Paul Ribenboim', full_name=True))"
   ]
  },
  {
   "cell_type": "code",
   "execution_count": 14,
   "metadata": {
    "collapsed": false
   },
   "outputs": [
    {
     "name": "stdout",
     "output_type": "stream",
     "text": [
      "{'last_name': 'Smith', 'first_name': 'John', 'strict': False, 'name': 'john', 'gender': 'male', 'samples': 219085, 'accuracy': 99, 'duration': '75ms'}\n"
     ]
    }
   ],
   "source": [
    "print(fetch_from_gender_api('John Smith', full_name=True))"
   ]
  },
  {
   "cell_type": "code",
   "execution_count": 15,
   "metadata": {
    "collapsed": false
   },
   "outputs": [
    {
     "name": "stdout",
     "output_type": "stream",
     "text": [
      "{'last_name': 'Smith', 'first_name': 'Paul', 'strict': False, 'name': 'paul', 'gender': 'male', 'samples': 140849, 'accuracy': 99, 'duration': '56ms'}\n"
     ]
    }
   ],
   "source": [
    "print(fetch_from_gender_api('Paul Smith', full_name=True))"
   ]
  },
  {
   "cell_type": "code",
   "execution_count": null,
   "metadata": {
    "collapsed": true
   },
   "outputs": [],
   "source": []
  }
 ],
 "metadata": {
  "kernelspec": {
   "display_name": "Python 3",
   "language": "python",
   "name": "python3"
  },
  "language_info": {
   "codemirror_mode": {
    "name": "ipython",
    "version": 3
   },
   "file_extension": ".py",
   "mimetype": "text/x-python",
   "name": "python",
   "nbconvert_exporter": "python",
   "pygments_lexer": "ipython3",
   "version": "3.6.0"
  }
 },
 "nbformat": 4,
 "nbformat_minor": 2
}
