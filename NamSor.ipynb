{
 "cells": [
  {
   "cell_type": "markdown",
   "metadata": {},
   "source": [
    "# Evaluate Namsor\n",
    "\n",
    "http://www.namsor.com/\n",
    "\n",
    "Determine the gender of a personal name on a -1 (Male) to +1 (Female) scale. Automatically recognizes which culture to apply when assessing the gender of a personal name. Some examples: “Andrea Rossini” is most likely an Italian name and a male name, whereas “Andrea Parker” is most likely an anglosaxon name and a female name; 声涛周 is most likely male ; “O. Sokolova” is most likely female."
   ]
  },
  {
   "cell_type": "code",
   "execution_count": 1,
   "metadata": {
    "collapsed": false
   },
   "outputs": [],
   "source": [
    "import requests\n",
    "import pandas as pd"
   ]
  },
  {
   "cell_type": "code",
   "execution_count": 2,
   "metadata": {
    "collapsed": true
   },
   "outputs": [],
   "source": [
    "from hammock import Hammock as NamsorAPI"
   ]
  },
  {
   "cell_type": "code",
   "execution_count": 61,
   "metadata": {
    "collapsed": false
   },
   "outputs": [],
   "source": [
    "def fetch_from_namsor(name):\n",
    "    \"\"\"\n",
    "    Fetch the NamSor API: https://api.namsor.com/namsor/faces/viewapikey.xhtml\n",
    "    \n",
    "    \"\"\"\n",
    "    # Namsor takes names that are already properly split on fore- and surname\n",
    "    if not isinstance(name, tuple):\n",
    "        raise Exception('When calling NamSor, name must be a tuple')\n",
    "    else:\n",
    "        forename, surname = name\n",
    "    \n",
    "    namsor = NamsorAPI(\"http://api.namsor.com/onomastics/api/json/gender\")\n",
    "    resp = namsor(forename, surname).GET()\n",
    "\n",
    "    return resp.json()"
   ]
  },
  {
   "cell_type": "code",
   "execution_count": 80,
   "metadata": {
    "collapsed": true
   },
   "outputs": [],
   "source": [
    "first_name = 'jose'\n",
    "middle_name = 'maria'\n",
    "surname = 'garcia'\n",
    "connectors = ['', ' ', '-']\n",
    "names = [first_name + c + middle_name for c in connectors]\n",
    "api_resp = [fetch_from_namsor((name, surname)) for name in names]\n",
    "api_resp_genders = set([r['gender'] for r in api_resp])"
   ]
  },
  {
   "cell_type": "code",
   "execution_count": 82,
   "metadata": {
    "collapsed": false
   },
   "outputs": [
    {
     "data": {
      "text/plain": [
       "[{'firstName': 'josemaria',\n",
       "  'gender': 'male',\n",
       "  'id': '1513784211732',\n",
       "  'lastName': 'garcia',\n",
       "  'scale': -0.71},\n",
       " {'firstName': 'jose maria',\n",
       "  'gender': 'male',\n",
       "  'id': '1513784212705',\n",
       "  'lastName': 'garcia',\n",
       "  'scale': -0.43},\n",
       " {'firstName': 'jose-maria',\n",
       "  'gender': 'male',\n",
       "  'id': '1513784213639',\n",
       "  'lastName': 'garcia',\n",
       "  'scale': -0.71}]"
      ]
     },
     "execution_count": 82,
     "metadata": {},
     "output_type": "execute_result"
    }
   ],
   "source": [
    "api_resp"
   ]
  },
  {
   "cell_type": "code",
   "execution_count": 91,
   "metadata": {
    "collapsed": false
   },
   "outputs": [
    {
     "data": {
      "text/plain": [
       "[{'firstName': 'josemaria',\n",
       "  'gender': 'male',\n",
       "  'id': '1513784211732',\n",
       "  'lastName': 'garcia',\n",
       "  'scale': -0.71},\n",
       " {'firstName': 'jose-maria',\n",
       "  'gender': 'male',\n",
       "  'id': '1513784213639',\n",
       "  'lastName': 'garcia',\n",
       "  'scale': -0.71},\n",
       " {'firstName': 'jose maria',\n",
       "  'gender': 'male',\n",
       "  'id': '1513784212705',\n",
       "  'lastName': 'garcia',\n",
       "  'scale': -0.43}]"
      ]
     },
     "execution_count": 91,
     "metadata": {},
     "output_type": "execute_result"
    }
   ],
   "source": [
    "sorted([x for x in api_resp], key=lambda x: abs(x['scale']), reverse=True)"
   ]
  },
  {
   "cell_type": "code",
   "execution_count": 93,
   "metadata": {
    "collapsed": false
   },
   "outputs": [
    {
     "data": {
      "text/plain": [
       "{'firstName': 'josemaria',\n",
       " 'gender': 'male',\n",
       " 'id': '1513784211732',\n",
       " 'lastName': 'garcia',\n",
       " 'scale': -0.71}"
      ]
     },
     "execution_count": 93,
     "metadata": {},
     "output_type": "execute_result"
    }
   ],
   "source": [
    "max(api_resp, key=lambda x: abs(x['scale']))"
   ]
  },
  {
   "cell_type": "code",
   "execution_count": null,
   "metadata": {
    "collapsed": true
   },
   "outputs": [],
   "source": [
    "\n",
    "                    if 'male' not in api_resp_genders and 'female' not in api_resp_genders:\n",
    "                        # If no gender with both names is found, use first name only\n",
    "                        data = self._call_api((row.first_name, row.surname))\n",
    "                    else:  \n",
    "                        # if usage of middle name leads to female or male then take response with highest confidence\n",
    "                        # confidence in NamSor is absolute value of scale\n",
    "                        self.api_response.append(sorted(api_resp, key=lambda x: x['confidence'], reverse=True)[0])"
   ]
  },
  {
   "cell_type": "markdown",
   "metadata": {},
   "source": [
    "### Can it handle surnames?"
   ]
  },
  {
   "cell_type": "code",
   "execution_count": 63,
   "metadata": {
    "collapsed": false
   },
   "outputs": [
    {
     "name": "stdout",
     "output_type": "stream",
     "text": [
      "{'scale': -1.0, 'gender': 'male', 'firstName': 'Samir', 'lastName': 'Amin', 'id': '1513777009279'}\n"
     ]
    }
   ],
   "source": [
    "print(fetch_from_namsor(('Samir', 'Amin')))"
   ]
  },
  {
   "cell_type": "code",
   "execution_count": 64,
   "metadata": {
    "collapsed": false
   },
   "outputs": [
    {
     "name": "stdout",
     "output_type": "stream",
     "text": [
      "{'scale': -0.99, 'gender': 'male', 'firstName': 'Samir Amin', 'lastName': 'dummy', 'id': '1513777042735'}\n"
     ]
    }
   ],
   "source": [
    "print(fetch_from_namsor(('Samir Amin', 'dummy')))"
   ]
  },
  {
   "cell_type": "markdown",
   "metadata": {},
   "source": [
    "By design, NamSor takes names split in fore- and surname. If one sends the full name in the place of the forename, it also resolves the gender, though that's not the intended use of the API."
   ]
  },
  {
   "cell_type": "markdown",
   "metadata": {},
   "source": [
    "### Does it know about geolocation of names?"
   ]
  },
  {
   "cell_type": "code",
   "execution_count": 66,
   "metadata": {
    "collapsed": false
   },
   "outputs": [
    {
     "name": "stdout",
     "output_type": "stream",
     "text": [
      "{'scale': 1.0, 'gender': 'female', 'firstName': 'Andrea', 'lastName': 'Schmidt', 'id': '1513777146662'}\n"
     ]
    }
   ],
   "source": [
    "print(fetch_from_namsor(('Andrea', 'Schmidt')))"
   ]
  },
  {
   "cell_type": "code",
   "execution_count": 67,
   "metadata": {
    "collapsed": false
   },
   "outputs": [
    {
     "name": "stdout",
     "output_type": "stream",
     "text": [
      "{'scale': -0.5, 'gender': 'male', 'firstName': 'Andrea', 'lastName': 'Bocelli', 'id': '1513777164050'}\n"
     ]
    }
   ],
   "source": [
    "print(fetch_from_namsor(('Andrea', 'Bocelli')))"
   ]
  },
  {
   "cell_type": "code",
   "execution_count": 68,
   "metadata": {
    "collapsed": false
   },
   "outputs": [
    {
     "name": "stdout",
     "output_type": "stream",
     "text": [
      "{'scale': -0.5, 'gender': 'male', 'firstName': 'Rosario', 'lastName': 'Giordano', 'id': '1513777178010'}\n"
     ]
    }
   ],
   "source": [
    "print(fetch_from_namsor(('Rosario', 'Giordano')))"
   ]
  },
  {
   "cell_type": "code",
   "execution_count": 69,
   "metadata": {
    "collapsed": false
   },
   "outputs": [
    {
     "name": "stdout",
     "output_type": "stream",
     "text": [
      "{'scale': 1.0, 'gender': 'female', 'firstName': 'Rosario', 'lastName': 'González', 'id': '1513777197339'}\n"
     ]
    }
   ],
   "source": [
    "print(fetch_from_namsor(('Rosario', 'González')))"
   ]
  },
  {
   "cell_type": "markdown",
   "metadata": {},
   "source": [
    "Yes, it does use the surname for the gender assignment, introducing info about the origin of the name."
   ]
  },
  {
   "cell_type": "markdown",
   "metadata": {},
   "source": [
    "### Double names (where the order matters)"
   ]
  },
  {
   "cell_type": "code",
   "execution_count": 70,
   "metadata": {
    "collapsed": true
   },
   "outputs": [],
   "source": [
    "names = ['Hans Joachim', 'Hans-Joachim', 'Maria-José', 'José Maria', 'Jose Maria', 'José-Maria', 'Josémaria', \n",
    "         'theo c. m']"
   ]
  },
  {
   "cell_type": "code",
   "execution_count": 71,
   "metadata": {
    "collapsed": false
   },
   "outputs": [
    {
     "name": "stdout",
     "output_type": "stream",
     "text": [
      "Hans Joachim\n",
      "{'scale': -1.0, 'gender': 'male', 'firstName': 'Hans Joachim', 'lastName': 'dummy', 'id': '1513777262865'}\n",
      "Hans-Joachim\n",
      "{'scale': -1.0, 'gender': 'male', 'firstName': 'Hans-Joachim', 'lastName': 'dummy', 'id': '1513777263892'}\n",
      "Maria-José\n",
      "{'scale': 1.0, 'gender': 'female', 'firstName': 'Maria-José', 'lastName': 'dummy', 'id': '1513777264915'}\n",
      "José Maria\n",
      "{'scale': -0.46, 'gender': 'male', 'firstName': 'José Maria', 'lastName': 'dummy', 'id': '1513777265888'}\n",
      "Jose Maria\n",
      "{'scale': -0.46, 'gender': 'male', 'firstName': 'Jose Maria', 'lastName': 'dummy', 'id': '1513777266864'}\n",
      "José-Maria\n",
      "{'scale': -0.5, 'gender': 'male', 'firstName': 'José-Maria', 'lastName': 'dummy', 'id': '1513777267765'}\n",
      "Josémaria\n",
      "{'scale': -0.5, 'gender': 'male', 'firstName': 'Josémaria', 'lastName': 'dummy', 'id': '1513777268685'}\n",
      "theo c. m\n",
      "{'scale': -0.98, 'gender': 'male', 'firstName': 'theo c. m', 'lastName': 'dummy', 'id': '1513777269730'}\n"
     ]
    }
   ],
   "source": [
    "for n in names:\n",
    "    print(n), print(fetch_from_namsor((n, 'dummy')))"
   ]
  },
  {
   "cell_type": "markdown",
   "metadata": {},
   "source": [
    "Correctly guessed in all cases, but lower confidence for weird names like Jose Maria."
   ]
  },
  {
   "cell_type": "markdown",
   "metadata": {},
   "source": [
    "### Names with different gender depending on ethnicity"
   ]
  },
  {
   "cell_type": "code",
   "execution_count": 72,
   "metadata": {
    "collapsed": true
   },
   "outputs": [],
   "source": [
    "names = ['Nicola', 'Andrea', 'Alex', 'Mika', 'Addison', 'Ash', 'Dakota']"
   ]
  },
  {
   "cell_type": "code",
   "execution_count": 73,
   "metadata": {
    "collapsed": false
   },
   "outputs": [
    {
     "name": "stdout",
     "output_type": "stream",
     "text": [
      "Nicola\n",
      "{'scale': -0.46, 'gender': 'male', 'firstName': 'Nicola', 'lastName': 'dummy', 'id': '1513777979586'}\n",
      "Andrea\n",
      "{'scale': -0.1, 'gender': 'unknown', 'firstName': 'Andrea', 'lastName': 'dummy', 'id': '1513777980505'}\n",
      "Alex\n",
      "{'scale': -0.99, 'gender': 'male', 'firstName': 'Alex', 'lastName': 'dummy', 'id': '1513777981424'}\n",
      "Mika\n",
      "{'scale': 0.73, 'gender': 'female', 'firstName': 'Mika', 'lastName': 'dummy', 'id': '1513777982455'}\n",
      "Addison\n",
      "{'scale': 0.37, 'gender': 'female', 'firstName': 'Addison', 'lastName': 'dummy', 'id': '1513777983445'}\n",
      "Ash\n",
      "{'scale': -0.96, 'gender': 'male', 'firstName': 'Ash', 'lastName': 'dummy', 'id': '1513777984434'}\n",
      "Dakota\n",
      "{'scale': -0.26, 'gender': 'male', 'firstName': 'Dakota', 'lastName': 'dummy', 'id': '1513777985428'}\n"
     ]
    }
   ],
   "source": [
    "for n in names:\n",
    "    print(n), print(fetch_from_namsor((n, 'dummy')))"
   ]
  },
  {
   "cell_type": "markdown",
   "metadata": {},
   "source": [
    "* Nicola has low confidence as male \n",
    "* Andrea marked as unknown. With surname, it'd acquire a gender\n",
    "* Addison and Dakota are closer to 0 (which means they're close to neutral)"
   ]
  },
  {
   "cell_type": "markdown",
   "metadata": {},
   "source": [
    "### Check for nonsense words"
   ]
  },
  {
   "cell_type": "code",
   "execution_count": 75,
   "metadata": {
    "collapsed": true
   },
   "outputs": [],
   "source": [
    "names = ['the', 'a', 'with', 'an', 'I', 'my']"
   ]
  },
  {
   "cell_type": "code",
   "execution_count": 76,
   "metadata": {
    "collapsed": false
   },
   "outputs": [
    {
     "name": "stdout",
     "output_type": "stream",
     "text": [
      "the\n",
      "{'scale': -0.51, 'gender': 'male', 'firstName': 'the', 'lastName': 'dummy', 'id': '1513778206469'}\n",
      "a\n",
      "{'scale': 0.0, 'gender': 'unknown', 'firstName': 'a', 'lastName': 'dummy', 'id': '1513778207381'}\n",
      "with\n",
      "{'scale': -0.5, 'gender': 'male', 'firstName': 'with', 'lastName': 'dummy', 'id': '1513778208461'}\n",
      "an\n",
      "{'scale': 0.2, 'gender': 'female', 'firstName': 'an', 'lastName': 'dummy', 'id': '1513778209484'}\n",
      "I\n",
      "{'scale': 0.0, 'gender': 'unknown', 'firstName': 'I', 'lastName': 'dummy', 'id': '1513778210399'}\n",
      "my\n",
      "{'scale': 0.67, 'gender': 'female', 'firstName': 'my', 'lastName': 'dummy', 'id': '1513778211426'}\n"
     ]
    }
   ],
   "source": [
    "for n in names:\n",
    "    print(n), print(fetch_from_namsor((n, 'dummy')))"
   ]
  },
  {
   "cell_type": "markdown",
   "metadata": {},
   "source": [
    "Some nonsense words are recognised as names, but with lower confindence (scale close to 0)."
   ]
  },
  {
   "cell_type": "markdown",
   "metadata": {},
   "source": [
    "### Capital letters"
   ]
  },
  {
   "cell_type": "code",
   "execution_count": 77,
   "metadata": {
    "collapsed": true
   },
   "outputs": [],
   "source": [
    "names = ['pierre', 'Pierre', 'paul', 'Paul']"
   ]
  },
  {
   "cell_type": "code",
   "execution_count": 78,
   "metadata": {
    "collapsed": false
   },
   "outputs": [
    {
     "name": "stdout",
     "output_type": "stream",
     "text": [
      "pierre\n",
      "{'scale': -1.0, 'gender': 'male', 'firstName': 'pierre', 'lastName': 'dummy', 'id': '1513778258896'}\n",
      "Pierre\n",
      "{'scale': -1.0, 'gender': 'male', 'firstName': 'Pierre', 'lastName': 'dummy', 'id': '1513778259916'}\n",
      "paul\n",
      "{'scale': -1.0, 'gender': 'male', 'firstName': 'paul', 'lastName': 'dummy', 'id': '1513778260831'}\n",
      "Paul\n",
      "{'scale': -1.0, 'gender': 'male', 'firstName': 'Paul', 'lastName': 'dummy', 'id': '1513778261759'}\n"
     ]
    }
   ],
   "source": [
    "for n in names:\n",
    "    print(n), print(fetch_from_namsor((n, 'dummy')))"
   ]
  },
  {
   "cell_type": "markdown",
   "metadata": {
    "collapsed": false
   },
   "source": [
    "No influence of capitalization, as it should"
   ]
  },
  {
   "cell_type": "code",
   "execution_count": null,
   "metadata": {
    "collapsed": true
   },
   "outputs": [],
   "source": []
  }
 ],
 "metadata": {
  "kernelspec": {
   "display_name": "Python 3",
   "language": "python",
   "name": "python3"
  },
  "language_info": {
   "codemirror_mode": {
    "name": "ipython",
    "version": 3
   },
   "file_extension": ".py",
   "mimetype": "text/x-python",
   "name": "python",
   "nbconvert_exporter": "python",
   "pygments_lexer": "ipython3",
   "version": "3.6.0"
  }
 },
 "nbformat": 4,
 "nbformat_minor": 2
}
