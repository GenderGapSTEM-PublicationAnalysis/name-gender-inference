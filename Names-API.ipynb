{
 "cells": [
  {
   "cell_type": "code",
   "execution_count": 2,
   "metadata": {},
   "outputs": [],
   "source": [
    "import requests\n",
    "import pandas as pd\n",
    "from names_api_evaluator import NamesAPIEvaluator"
   ]
  },
  {
   "cell_type": "code",
   "execution_count": 16,
   "metadata": {},
   "outputs": [],
   "source": [
    "# Used this blog post: https://juliensalinas.com/en/REST_API_fetching_go_golang_vs_python/\n",
    "# linked from the API's website: https://www.nameapi.org/en/developer/downloads/\n",
    "\n",
    "def fetch_from_names_api(name):\n",
    "\n",
    "    \"\"\"\n",
    "    Fetch the NameAPI.org REST API and turn JSON response into Python dict.\n",
    "\n",
    "    Sent data have to be JSON data encoded into request body.\n",
    "    Send request headers must be set to 'application/json'.\n",
    "    \"\"\"\n",
    "\n",
    "    # url of the NameAPI.org endpoint:\n",
    "    url = (\n",
    "        \"http://rc50-api.nameapi.org/rest/v5.0/genderizer/persongenderizer?\"\n",
    "        \"apiKey=725a6a1ddf0d0f16f7dc3a6a73a9ac5b-user1\"\n",
    "    )\n",
    "\n",
    "    # Dict of data to be sent to NameAPI.org:\n",
    "    payload = {\n",
    "        \"inputPerson\": {\n",
    "            \"type\": \"NaturalInputPerson\",\n",
    "            \"personName\": {\n",
    "                \"nameFields\": [\n",
    "                    {\n",
    "                        \"string\": name,\n",
    "                        \"fieldType\": \"FULLNAME\"\n",
    "                    }\n",
    "                ]\n",
    "            }\n",
    "        }\n",
    "    }\n",
    "\n",
    "    # Proceed, only if no error:\n",
    "    try:\n",
    "        # Send request to NameAPI.org by doing the following:\n",
    "        # - make a POST HTTP request\n",
    "        # - encode the Python payload dict to JSON\n",
    "        # - pass the JSON to request body\n",
    "        # - set header's 'Content-Type' to 'application/json' instead of\n",
    "        #   default 'multipart/form-data'\n",
    "        resp = requests.post(url, json=payload)\n",
    "        resp.raise_for_status()\n",
    "        # Decode JSON response into a Python dict:\n",
    "        resp_dict = resp.json()\n",
    "        return resp_dict\n",
    "    except requests.exceptions.HTTPError as e:\n",
    "        print(\"Bad HTTP status code:\", e)\n",
    "    except requests.exceptions.RequestException as e:\n",
    "        print(\"Network error:\", e)\n"
   ]
  },
  {
   "cell_type": "markdown",
   "metadata": {},
   "source": [
    "### Can it handle surnames?"
   ]
  },
  {
   "cell_type": "code",
   "execution_count": 17,
   "metadata": {},
   "outputs": [
    {
     "name": "stdout",
     "output_type": "stream",
     "text": [
      "{'gender': 'MALE', 'confidence': 0.8594326867386308}\n"
     ]
    }
   ],
   "source": [
    "print(fetch_from_names_api('Hans Joachim Schmidt'))"
   ]
  },
  {
   "cell_type": "markdown",
   "metadata": {},
   "source": [
    "### Double names (where the order matters)"
   ]
  },
  {
   "cell_type": "code",
   "execution_count": 18,
   "metadata": {},
   "outputs": [],
   "source": [
    "names = ['Hans Joachim', 'Hans-Joachim', 'Maria-José', 'José Maria', 'Jose Maria', 'José-Maria', 'Josémaria', \n",
    "         'theo c. m']"
   ]
  },
  {
   "cell_type": "code",
   "execution_count": 19,
   "metadata": {},
   "outputs": [
    {
     "name": "stdout",
     "output_type": "stream",
     "text": [
      "{'gender': 'MALE', 'confidence': 0.8594326867386308}\n",
      "{'gender': 'MALE', 'confidence': 0.7875648600958193}\n",
      "{'gender': 'FEMALE', 'confidence': 1.0}\n",
      "{'gender': 'MALE', 'confidence': 1.0}\n",
      "{'gender': 'MALE', 'confidence': 0.8960340071451184}\n",
      "{'gender': 'MALE', 'confidence': 1.0}\n",
      "{'gender': 'MALE', 'confidence': 1.0}\n",
      "{'gender': 'MALE', 'confidence': 1.0}\n"
     ]
    }
   ],
   "source": [
    "for n in names:\n",
    "    print(fetch_from_names_api(n))"
   ]
  },
  {
   "cell_type": "markdown",
   "metadata": {},
   "source": [
    "### Names with different gender depending on ethnicity"
   ]
  },
  {
   "cell_type": "code",
   "execution_count": 20,
   "metadata": {},
   "outputs": [],
   "source": [
    "names = ['Nicola', 'Andrea', 'Alex', 'Mika', 'Addison', 'Ash', 'Dakota']"
   ]
  },
  {
   "cell_type": "code",
   "execution_count": 21,
   "metadata": {},
   "outputs": [
    {
     "name": "stdout",
     "output_type": "stream",
     "text": [
      "Nicola\n",
      "{'gender': 'FEMALE', 'confidence': 0.9111111111111111}\n",
      "Andrea\n",
      "{'gender': 'MALE', 'confidence': 0.9111111111111111}\n",
      "Alex\n",
      "{'gender': 'NEUTRAL', 'confidence': 1.0}\n",
      "Mika\n",
      "{'gender': 'NEUTRAL', 'confidence': 1.0}\n",
      "Addison\n",
      "{'gender': 'UNKNOWN', 'confidence': 0.8}\n",
      "Ash\n",
      "{'gender': 'NEUTRAL', 'confidence': 1.0}\n",
      "Dakota\n",
      "{'gender': 'NEUTRAL', 'confidence': 0.911111111111111}\n"
     ]
    }
   ],
   "source": [
    "for n in names:\n",
    "    print(n), print(fetch_from_names_api(n))"
   ]
  },
  {
   "cell_type": "markdown",
   "metadata": {},
   "source": [
    "* Nicola and Andrea have much lower confidence\n",
    "* Neutral names are marked as such"
   ]
  },
  {
   "cell_type": "markdown",
   "metadata": {},
   "source": [
    "### Check for nonsense words"
   ]
  },
  {
   "cell_type": "code",
   "execution_count": 22,
   "metadata": {},
   "outputs": [],
   "source": [
    "names = ['the', 'a', 'with', 'an', 'I', 'my']"
   ]
  },
  {
   "cell_type": "code",
   "execution_count": 23,
   "metadata": {},
   "outputs": [
    {
     "name": "stdout",
     "output_type": "stream",
     "text": [
      "the\n",
      "{'gender': 'MALE', 'confidence': 0.7872962440437796}\n",
      "a\n",
      "{'gender': 'UNKNOWN', 'confidence': 0.6400000000000001}\n",
      "with\n",
      "{'gender': 'UNKNOWN', 'confidence': 0.8}\n",
      "an\n",
      "{'gender': 'UNKNOWN', 'confidence': 0.8}\n",
      "I\n",
      "{'gender': 'UNKNOWN', 'confidence': 0.6400000000000001}\n",
      "my\n",
      "{'gender': 'UNKNOWN', 'confidence': 0.8}\n"
     ]
    }
   ],
   "source": [
    "for n in names:\n",
    "    print(n), print(fetch_from_names_api(n))"
   ]
  },
  {
   "cell_type": "markdown",
   "metadata": {},
   "source": [
    "Most nonsense words are recognised as such"
   ]
  },
  {
   "cell_type": "markdown",
   "metadata": {},
   "source": [
    "### Capital letters"
   ]
  },
  {
   "cell_type": "code",
   "execution_count": 26,
   "metadata": {},
   "outputs": [],
   "source": [
    "names = ['pierre', 'Pierre', 'paul', 'Paul']"
   ]
  },
  {
   "cell_type": "code",
   "execution_count": 27,
   "metadata": {},
   "outputs": [
    {
     "name": "stdout",
     "output_type": "stream",
     "text": [
      "pierre\n",
      "{'gender': 'MALE', 'confidence': 0.8975930513502768}\n",
      "Pierre\n",
      "{'gender': 'MALE', 'confidence': 0.8975876602995245}\n",
      "paul\n",
      "{'gender': 'MALE', 'confidence': 0.9111111111111112}\n",
      "Paul\n",
      "{'gender': 'MALE', 'confidence': 0.9111111111111111}\n"
     ]
    }
   ],
   "source": [
    "for n in names:\n",
    "    print(n), print(fetch_from_names_api(n))"
   ]
  },
  {
   "cell_type": "code",
   "execution_count": 3,
   "metadata": {},
   "outputs": [],
   "source": [
    "zbmath = NamesAPIEvaluator(\"test_data/test_data_zbmath_full.csv\")\n",
    "zbmath.load_data()"
   ]
  },
  {
   "cell_type": "code",
   "execution_count": 4,
   "metadata": {},
   "outputs": [
    {
     "data": {
      "text/html": [
       "<div>\n",
       "<style scoped>\n",
       "    .dataframe tbody tr th:only-of-type {\n",
       "        vertical-align: middle;\n",
       "    }\n",
       "\n",
       "    .dataframe tbody tr th {\n",
       "        vertical-align: top;\n",
       "    }\n",
       "\n",
       "    .dataframe thead th {\n",
       "        text-align: right;\n",
       "    }\n",
       "</style>\n",
       "<table border=\"1\" class=\"dataframe\">\n",
       "  <thead>\n",
       "    <tr style=\"text-align: right;\">\n",
       "      <th></th>\n",
       "      <th>first_name</th>\n",
       "      <th>middle_name</th>\n",
       "      <th>last_name</th>\n",
       "      <th>full_name</th>\n",
       "      <th>gender</th>\n",
       "    </tr>\n",
       "  </thead>\n",
       "  <tbody>\n",
       "    <tr>\n",
       "      <th>0</th>\n",
       "      <td>pierre</td>\n",
       "      <td>paul</td>\n",
       "      <td>grivel</td>\n",
       "      <td>pierre paul grivel</td>\n",
       "      <td>m</td>\n",
       "    </tr>\n",
       "    <tr>\n",
       "      <th>1</th>\n",
       "      <td>raul</td>\n",
       "      <td></td>\n",
       "      <td>serapioni</td>\n",
       "      <td>raul serapioni</td>\n",
       "      <td>m</td>\n",
       "    </tr>\n",
       "    <tr>\n",
       "      <th>2</th>\n",
       "      <td>adriano</td>\n",
       "      <td></td>\n",
       "      <td>moura</td>\n",
       "      <td>adriano moura</td>\n",
       "      <td>m</td>\n",
       "    </tr>\n",
       "    <tr>\n",
       "      <th>3</th>\n",
       "      <td>ralf</td>\n",
       "      <td></td>\n",
       "      <td>kieser</td>\n",
       "      <td>ralf kieser</td>\n",
       "      <td>m</td>\n",
       "    </tr>\n",
       "    <tr>\n",
       "      <th>4</th>\n",
       "      <td>teppei</td>\n",
       "      <td></td>\n",
       "      <td>ariyoshi</td>\n",
       "      <td>teppei ariyoshi</td>\n",
       "      <td>u</td>\n",
       "    </tr>\n",
       "  </tbody>\n",
       "</table>\n",
       "</div>"
      ],
      "text/plain": [
       "  first_name middle_name  last_name           full_name gender\n",
       "0     pierre        paul     grivel  pierre paul grivel      m\n",
       "1       raul              serapioni      raul serapioni      m\n",
       "2    adriano                  moura       adriano moura      m\n",
       "3       ralf                 kieser         ralf kieser      m\n",
       "4     teppei               ariyoshi     teppei ariyoshi      u"
      ]
     },
     "execution_count": 4,
     "metadata": {},
     "output_type": "execute_result"
    }
   ],
   "source": [
    "zbmath.test_data.head()"
   ]
  },
  {
   "cell_type": "code",
   "execution_count": 5,
   "metadata": {},
   "outputs": [
    {
     "data": {
      "text/plain": [
       "(400, 5)"
      ]
     },
     "execution_count": 5,
     "metadata": {},
     "output_type": "execute_result"
    }
   ],
   "source": [
    "zbmath.test_data.shape"
   ]
  },
  {
   "cell_type": "code",
   "execution_count": 6,
   "metadata": {
    "scrolled": true
   },
   "outputs": [
    {
     "name": "stdout",
     "output_type": "stream",
     "text": [
      "Reading data from dump file test_data/test_data_zbmath_full_names_api.csv\n"
     ]
    }
   ],
   "source": [
    "zbmath.fetch_gender()"
   ]
  },
  {
   "cell_type": "code",
   "execution_count": 7,
   "metadata": {},
   "outputs": [
    {
     "data": {
      "text/html": [
       "<div>\n",
       "<style scoped>\n",
       "    .dataframe tbody tr th:only-of-type {\n",
       "        vertical-align: middle;\n",
       "    }\n",
       "\n",
       "    .dataframe tbody tr th {\n",
       "        vertical-align: top;\n",
       "    }\n",
       "\n",
       "    .dataframe thead th {\n",
       "        text-align: right;\n",
       "    }\n",
       "</style>\n",
       "<table border=\"1\" class=\"dataframe\">\n",
       "  <thead>\n",
       "    <tr style=\"text-align: right;\">\n",
       "      <th></th>\n",
       "      <th>first_name</th>\n",
       "      <th>middle_name</th>\n",
       "      <th>last_name</th>\n",
       "      <th>full_name</th>\n",
       "      <th>gender</th>\n",
       "      <th>confidence</th>\n",
       "      <th>gender_infered</th>\n",
       "    </tr>\n",
       "  </thead>\n",
       "  <tbody>\n",
       "    <tr>\n",
       "      <th>0</th>\n",
       "      <td>pierre</td>\n",
       "      <td>paul</td>\n",
       "      <td>grivel</td>\n",
       "      <td>pierre paul grivel</td>\n",
       "      <td>m</td>\n",
       "      <td>1.000000</td>\n",
       "      <td>m</td>\n",
       "    </tr>\n",
       "    <tr>\n",
       "      <th>1</th>\n",
       "      <td>raul</td>\n",
       "      <td>NaN</td>\n",
       "      <td>serapioni</td>\n",
       "      <td>raul serapioni</td>\n",
       "      <td>m</td>\n",
       "      <td>0.911111</td>\n",
       "      <td>m</td>\n",
       "    </tr>\n",
       "    <tr>\n",
       "      <th>2</th>\n",
       "      <td>adriano</td>\n",
       "      <td>NaN</td>\n",
       "      <td>moura</td>\n",
       "      <td>adriano moura</td>\n",
       "      <td>m</td>\n",
       "      <td>0.911111</td>\n",
       "      <td>m</td>\n",
       "    </tr>\n",
       "    <tr>\n",
       "      <th>3</th>\n",
       "      <td>ralf</td>\n",
       "      <td>NaN</td>\n",
       "      <td>kieser</td>\n",
       "      <td>ralf kieser</td>\n",
       "      <td>m</td>\n",
       "      <td>0.873016</td>\n",
       "      <td>m</td>\n",
       "    </tr>\n",
       "    <tr>\n",
       "      <th>4</th>\n",
       "      <td>teppei</td>\n",
       "      <td>NaN</td>\n",
       "      <td>ariyoshi</td>\n",
       "      <td>teppei ariyoshi</td>\n",
       "      <td>u</td>\n",
       "      <td>0.987302</td>\n",
       "      <td>m</td>\n",
       "    </tr>\n",
       "  </tbody>\n",
       "</table>\n",
       "</div>"
      ],
      "text/plain": [
       "  first_name middle_name  last_name           full_name gender  confidence  \\\n",
       "0     pierre        paul     grivel  pierre paul grivel      m    1.000000   \n",
       "1       raul         NaN  serapioni      raul serapioni      m    0.911111   \n",
       "2    adriano         NaN      moura       adriano moura      m    0.911111   \n",
       "3       ralf         NaN     kieser         ralf kieser      m    0.873016   \n",
       "4     teppei         NaN   ariyoshi     teppei ariyoshi      u    0.987302   \n",
       "\n",
       "  gender_infered  \n",
       "0              m  \n",
       "1              m  \n",
       "2              m  \n",
       "3              m  \n",
       "4              m  "
      ]
     },
     "execution_count": 7,
     "metadata": {},
     "output_type": "execute_result"
    }
   ],
   "source": [
    "zbmath.test_data.head()"
   ]
  },
  {
   "cell_type": "code",
   "execution_count": 9,
   "metadata": {},
   "outputs": [],
   "source": [
    "zbmath.compute_confusion_matrix()"
   ]
  },
  {
   "cell_type": "code",
   "execution_count": 10,
   "metadata": {},
   "outputs": [
    {
     "name": "stdout",
     "output_type": "stream",
     "text": [
      "   f_pred  m_pred  u_pred\n",
      "f      56       0       2\n",
      "m       9     267      15\n",
      "u       3      30      18\n"
     ]
    }
   ],
   "source": [
    "print(zbmath.confusion_matrix)"
   ]
  },
  {
   "cell_type": "code",
   "execution_count": 8,
   "metadata": {},
   "outputs": [
    {
     "name": "stdout",
     "output_type": "stream",
     "text": [
      "error counting prediction as 'unknown gender' as classification errors:  0.0804953560372\n",
      "error ignoring prediction as 'unknown gender' :  0.0271084337349\n",
      "error counting proportion of names with unpredicted gender:  0.0487106017192\n",
      "error where negative value suggestes that more women than men are missclassified:  0.0271084337349\n"
     ]
    }
   ],
   "source": [
    "zbmath.compute_all_errors()"
   ]
  },
  {
   "cell_type": "code",
   "execution_count": 11,
   "metadata": {},
   "outputs": [
    {
     "data": {
      "text/html": [
       "<div>\n",
       "<style scoped>\n",
       "    .dataframe tbody tr th:only-of-type {\n",
       "        vertical-align: middle;\n",
       "    }\n",
       "\n",
       "    .dataframe tbody tr th {\n",
       "        vertical-align: top;\n",
       "    }\n",
       "\n",
       "    .dataframe thead th {\n",
       "        text-align: right;\n",
       "    }\n",
       "</style>\n",
       "<table border=\"1\" class=\"dataframe\">\n",
       "  <thead>\n",
       "    <tr style=\"text-align: right;\">\n",
       "      <th></th>\n",
       "      <th>first_name</th>\n",
       "      <th>middle_name</th>\n",
       "      <th>last_name</th>\n",
       "      <th>full_name</th>\n",
       "      <th>gender</th>\n",
       "      <th>confidence</th>\n",
       "      <th>gender_infered</th>\n",
       "    </tr>\n",
       "  </thead>\n",
       "  <tbody>\n",
       "    <tr>\n",
       "      <th>111</th>\n",
       "      <td>davy</td>\n",
       "      <td>ho</td>\n",
       "      <td>chan</td>\n",
       "      <td>davy ho chan</td>\n",
       "      <td>m</td>\n",
       "      <td>0.968254</td>\n",
       "      <td>f</td>\n",
       "    </tr>\n",
       "    <tr>\n",
       "      <th>122</th>\n",
       "      <td>paul</td>\n",
       "      <td>NaN</td>\n",
       "      <td>horwich</td>\n",
       "      <td>paul horwich</td>\n",
       "      <td>m</td>\n",
       "      <td>0.988571</td>\n",
       "      <td>f</td>\n",
       "    </tr>\n",
       "    <tr>\n",
       "      <th>215</th>\n",
       "      <td>paul</td>\n",
       "      <td>NaN</td>\n",
       "      <td>ribenboim</td>\n",
       "      <td>paul ribenboim</td>\n",
       "      <td>m</td>\n",
       "      <td>0.988571</td>\n",
       "      <td>f</td>\n",
       "    </tr>\n",
       "    <tr>\n",
       "      <th>219</th>\n",
       "      <td>paul</td>\n",
       "      <td>NaN</td>\n",
       "      <td>pinsky</td>\n",
       "      <td>paul pinsky</td>\n",
       "      <td>m</td>\n",
       "      <td>0.988571</td>\n",
       "      <td>f</td>\n",
       "    </tr>\n",
       "    <tr>\n",
       "      <th>227</th>\n",
       "      <td>luis</td>\n",
       "      <td>NaN</td>\n",
       "      <td>bel</td>\n",
       "      <td>luis bel</td>\n",
       "      <td>m</td>\n",
       "      <td>1.000000</td>\n",
       "      <td>f</td>\n",
       "    </tr>\n",
       "    <tr>\n",
       "      <th>228</th>\n",
       "      <td>santiago</td>\n",
       "      <td>NaN</td>\n",
       "      <td>mira</td>\n",
       "      <td>santiago mira</td>\n",
       "      <td>m</td>\n",
       "      <td>1.000000</td>\n",
       "      <td>f</td>\n",
       "    </tr>\n",
       "    <tr>\n",
       "      <th>268</th>\n",
       "      <td>pierre</td>\n",
       "      <td>NaN</td>\n",
       "      <td>marry</td>\n",
       "      <td>pierre marry</td>\n",
       "      <td>m</td>\n",
       "      <td>0.894180</td>\n",
       "      <td>f</td>\n",
       "    </tr>\n",
       "    <tr>\n",
       "      <th>349</th>\n",
       "      <td>feng</td>\n",
       "      <td>NaN</td>\n",
       "      <td>rong</td>\n",
       "      <td>feng rong</td>\n",
       "      <td>m</td>\n",
       "      <td>0.891562</td>\n",
       "      <td>f</td>\n",
       "    </tr>\n",
       "    <tr>\n",
       "      <th>361</th>\n",
       "      <td>hsueh</td>\n",
       "      <td>chuan</td>\n",
       "      <td>liu</td>\n",
       "      <td>hsueh chuan liu</td>\n",
       "      <td>m</td>\n",
       "      <td>0.861542</td>\n",
       "      <td>f</td>\n",
       "    </tr>\n",
       "  </tbody>\n",
       "</table>\n",
       "</div>"
      ],
      "text/plain": [
       "    first_name middle_name  last_name        full_name gender  confidence  \\\n",
       "111       davy          ho       chan     davy ho chan      m    0.968254   \n",
       "122       paul         NaN    horwich     paul horwich      m    0.988571   \n",
       "215       paul         NaN  ribenboim   paul ribenboim      m    0.988571   \n",
       "219       paul         NaN     pinsky      paul pinsky      m    0.988571   \n",
       "227       luis         NaN        bel         luis bel      m    1.000000   \n",
       "228   santiago         NaN       mira    santiago mira      m    1.000000   \n",
       "268     pierre         NaN      marry     pierre marry      m    0.894180   \n",
       "349       feng         NaN       rong        feng rong      m    0.891562   \n",
       "361      hsueh       chuan        liu  hsueh chuan liu      m    0.861542   \n",
       "\n",
       "    gender_infered  \n",
       "111              f  \n",
       "122              f  \n",
       "215              f  \n",
       "219              f  \n",
       "227              f  \n",
       "228              f  \n",
       "268              f  \n",
       "349              f  \n",
       "361              f  "
      ]
     },
     "execution_count": 11,
     "metadata": {},
     "output_type": "execute_result"
    }
   ],
   "source": [
    "zbmath.compare_ground_truth_with_inference(true_gender='m', gender_infered='f')"
   ]
  },
  {
   "cell_type": "markdown",
   "metadata": {},
   "source": [
    "It is very strange that for 'paul pinsky' and 'paul horwich' the API returned 'f'.\n",
    "If both are written in capital letters then that changes (also first name alone is considered 'm' by the API):"
   ]
  },
  {
   "cell_type": "code",
   "execution_count": 28,
   "metadata": {},
   "outputs": [
    {
     "name": "stdout",
     "output_type": "stream",
     "text": [
      "{'gender': 'MALE', 'confidence': 0.9111111111111111}\n"
     ]
    }
   ],
   "source": [
    "print(fetch_from_names_api('Paul horwich'))"
   ]
  },
  {
   "cell_type": "code",
   "execution_count": 29,
   "metadata": {},
   "outputs": [
    {
     "name": "stdout",
     "output_type": "stream",
     "text": [
      "{'gender': 'MALE', 'confidence': 0.9111111111111111}\n"
     ]
    }
   ],
   "source": [
    "print(fetch_from_names_api('Paul ribenboim'))"
   ]
  },
  {
   "cell_type": "code",
   "execution_count": 30,
   "metadata": {},
   "outputs": [
    {
     "name": "stdout",
     "output_type": "stream",
     "text": [
      "{'gender': 'MALE', 'confidence': 0.9111111111111111}\n"
     ]
    }
   ],
   "source": [
    "print(fetch_from_names_api('Paul pinsky'))"
   ]
  },
  {
   "cell_type": "code",
   "execution_count": 31,
   "metadata": {},
   "outputs": [
    {
     "data": {
      "text/html": [
       "<div>\n",
       "<style scoped>\n",
       "    .dataframe tbody tr th:only-of-type {\n",
       "        vertical-align: middle;\n",
       "    }\n",
       "\n",
       "    .dataframe tbody tr th {\n",
       "        vertical-align: top;\n",
       "    }\n",
       "\n",
       "    .dataframe thead th {\n",
       "        text-align: right;\n",
       "    }\n",
       "</style>\n",
       "<table border=\"1\" class=\"dataframe\">\n",
       "  <thead>\n",
       "    <tr style=\"text-align: right;\">\n",
       "      <th></th>\n",
       "      <th>first_name</th>\n",
       "      <th>middle_name</th>\n",
       "      <th>last_name</th>\n",
       "      <th>full_name</th>\n",
       "      <th>gender</th>\n",
       "      <th>confidence</th>\n",
       "      <th>gender_infered</th>\n",
       "    </tr>\n",
       "  </thead>\n",
       "  <tbody>\n",
       "  </tbody>\n",
       "</table>\n",
       "</div>"
      ],
      "text/plain": [
       "Empty DataFrame\n",
       "Columns: [first_name, middle_name, last_name, full_name, gender, confidence, gender_infered]\n",
       "Index: []"
      ]
     },
     "execution_count": 31,
     "metadata": {},
     "output_type": "execute_result"
    }
   ],
   "source": [
    "zbmath.compare_ground_truth_with_inference(true_gender='f', gender_infered='m')"
   ]
  }
 ],
 "metadata": {
  "kernelspec": {
   "display_name": "Python 3",
   "language": "python",
   "name": "python3"
  },
  "language_info": {
   "codemirror_mode": {
    "name": "ipython",
    "version": 3
   },
   "file_extension": ".py",
   "mimetype": "text/x-python",
   "name": "python",
   "nbconvert_exporter": "python",
   "pygments_lexer": "ipython3",
   "version": "3.5.1"
  }
 },
 "nbformat": 4,
 "nbformat_minor": 2
}
