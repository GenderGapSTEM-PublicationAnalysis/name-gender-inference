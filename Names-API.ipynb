{
 "cells": [
  {
   "cell_type": "markdown",
   "metadata": {},
   "source": [
    "# Evaluate Names-API"
   ]
  },
  {
   "cell_type": "code",
   "execution_count": 2,
   "metadata": {
    "collapsed": false
   },
   "outputs": [],
   "source": [
    "import requests\n",
    "import pandas as pd\n",
    "from evaluators import NamesAPIEvaluator"
   ]
  },
  {
   "cell_type": "code",
   "execution_count": 3,
   "metadata": {
    "collapsed": true
   },
   "outputs": [],
   "source": [
    "# Used this blog post: https://juliensalinas.com/en/REST_API_fetching_go_golang_vs_python/\n",
    "# linked from the API's website: https://www.nameapi.org/en/developer/downloads/\n",
    "\n",
    "def fetch_from_names_api(name):\n",
    "\n",
    "    \"\"\"\n",
    "    Fetch the NameAPI.org REST API and turn JSON response into Python dict.\n",
    "\n",
    "    Sent data have to be JSON data encoded into request body.\n",
    "    Send request headers must be set to 'application/json'.\n",
    "    \"\"\"\n",
    "\n",
    "    # url of the NameAPI.org endpoint:\n",
    "    url = (\n",
    "        \"http://rc50-api.nameapi.org/rest/v5.0/genderizer/persongenderizer?\"\n",
    "        \"apiKey=bbbd8f9ba16f58f69ef21f8b6509aac8-user1\"\n",
    "    )\n",
    "\n",
    "    # Dict of data to be sent to NameAPI.org:\n",
    "    payload = {\n",
    "        \"inputPerson\": {\n",
    "            \"type\": \"NaturalInputPerson\",\n",
    "            \"personName\": {\n",
    "                \"nameFields\": [\n",
    "                    {\n",
    "                        \"string\": name,\n",
    "                        \"fieldType\": \"FULLNAME\"\n",
    "                    }\n",
    "                ]\n",
    "            }\n",
    "        }\n",
    "    }\n",
    "\n",
    "    # Proceed, only if no error:\n",
    "    try:\n",
    "        # Send request to NameAPI.org by doing the following:\n",
    "        # - make a POST HTTP request\n",
    "        # - encode the Python payload dict to JSON\n",
    "        # - pass the JSON to request body\n",
    "        # - set header's 'Content-Type' to 'application/json' instead of\n",
    "        #   default 'multipart/form-data'\n",
    "        resp = requests.post(url, json=payload)\n",
    "        resp.raise_for_status()\n",
    "        # Decode JSON response into a Python dict:\n",
    "        resp_dict = resp.json()\n",
    "        return resp_dict\n",
    "    except requests.exceptions.HTTPError as e:\n",
    "        print(\"Bad HTTP status code:\", e)\n",
    "    except requests.exceptions.RequestException as e:\n",
    "        print(\"Network error:\", e)\n"
   ]
  },
  {
   "cell_type": "markdown",
   "metadata": {},
   "source": [
    "### Can it handle surnames?"
   ]
  },
  {
   "cell_type": "code",
   "execution_count": 4,
   "metadata": {
    "collapsed": false
   },
   "outputs": [
    {
     "name": "stdout",
     "output_type": "stream",
     "text": [
      "{'gender': 'MALE', 'confidence': 0.9115827664399092}\n"
     ]
    }
   ],
   "source": [
    "print(fetch_from_names_api('Samir Amin'))"
   ]
  },
  {
   "cell_type": "markdown",
   "metadata": {},
   "source": [
    "### Double names (where the order matters)"
   ]
  },
  {
   "cell_type": "code",
   "execution_count": 5,
   "metadata": {
    "collapsed": true
   },
   "outputs": [],
   "source": [
    "names = ['Hans Joachim', 'Hans-Joachim', 'Maria-José', 'José Maria', 'Jose Maria', 'José-Maria', 'Josémaria', \n",
    "         'theo c. m']"
   ]
  },
  {
   "cell_type": "code",
   "execution_count": 6,
   "metadata": {
    "collapsed": false
   },
   "outputs": [
    {
     "name": "stdout",
     "output_type": "stream",
     "text": [
      "{'gender': 'MALE', 'confidence': 0.8594326867386308}\n",
      "{'gender': 'MALE', 'confidence': 0.7875648600958193}\n",
      "{'gender': 'FEMALE', 'confidence': 1.0}\n",
      "{'gender': 'MALE', 'confidence': 1.0}\n",
      "{'gender': 'MALE', 'confidence': 0.8960340071451184}\n",
      "{'gender': 'MALE', 'confidence': 1.0}\n",
      "{'gender': 'MALE', 'confidence': 1.0}\n",
      "{'gender': 'MALE', 'confidence': 1.0}\n"
     ]
    }
   ],
   "source": [
    "for n in names:\n",
    "    print(fetch_from_names_api(n))"
   ]
  },
  {
   "cell_type": "markdown",
   "metadata": {},
   "source": [
    "### Names with different gender depending on ethnicity"
   ]
  },
  {
   "cell_type": "code",
   "execution_count": 7,
   "metadata": {
    "collapsed": true
   },
   "outputs": [],
   "source": [
    "names = ['Nicola', 'Andrea', 'Alex', 'Mika', 'Addison', 'Ash', 'Dakota']"
   ]
  },
  {
   "cell_type": "code",
   "execution_count": 8,
   "metadata": {
    "collapsed": false
   },
   "outputs": [
    {
     "name": "stdout",
     "output_type": "stream",
     "text": [
      "Nicola\n",
      "{'gender': 'FEMALE', 'confidence': 0.9111111111111111}\n",
      "Andrea\n",
      "{'gender': 'MALE', 'confidence': 0.9111111111111111}\n",
      "Alex\n",
      "{'gender': 'NEUTRAL', 'confidence': 1.0}\n",
      "Mika\n",
      "{'gender': 'NEUTRAL', 'confidence': 1.0}\n",
      "Addison\n",
      "{'gender': 'UNKNOWN', 'confidence': 0.8}\n",
      "Ash\n",
      "{'gender': 'NEUTRAL', 'confidence': 1.0}\n",
      "Dakota\n",
      "{'gender': 'NEUTRAL', 'confidence': 0.911111111111111}\n"
     ]
    }
   ],
   "source": [
    "for n in names:\n",
    "    print(n), print(fetch_from_names_api(n))"
   ]
  },
  {
   "cell_type": "markdown",
   "metadata": {},
   "source": [
    "* Nicola and Andrea have much lower confidence\n",
    "* Neutral names are marked as such"
   ]
  },
  {
   "cell_type": "markdown",
   "metadata": {},
   "source": [
    "### Check for nonsense words"
   ]
  },
  {
   "cell_type": "code",
   "execution_count": 9,
   "metadata": {
    "collapsed": true
   },
   "outputs": [],
   "source": [
    "names = ['the', 'a', 'with', 'an', 'I', 'my']"
   ]
  },
  {
   "cell_type": "code",
   "execution_count": 10,
   "metadata": {
    "collapsed": false
   },
   "outputs": [
    {
     "name": "stdout",
     "output_type": "stream",
     "text": [
      "the\n",
      "{'gender': 'MALE', 'confidence': 0.7872962440437796}\n",
      "a\n",
      "{'gender': 'UNKNOWN', 'confidence': 0.6400000000000001}\n",
      "with\n",
      "{'gender': 'UNKNOWN', 'confidence': 0.8}\n",
      "an\n",
      "{'gender': 'UNKNOWN', 'confidence': 0.8}\n",
      "I\n",
      "{'gender': 'UNKNOWN', 'confidence': 0.6400000000000001}\n",
      "my\n",
      "{'gender': 'UNKNOWN', 'confidence': 0.8}\n"
     ]
    }
   ],
   "source": [
    "for n in names:\n",
    "    print(n), print(fetch_from_names_api(n))"
   ]
  },
  {
   "cell_type": "markdown",
   "metadata": {},
   "source": [
    "Most nonsense words are recognised as such"
   ]
  },
  {
   "cell_type": "markdown",
   "metadata": {},
   "source": [
    "### Capital letters"
   ]
  },
  {
   "cell_type": "code",
   "execution_count": 11,
   "metadata": {
    "collapsed": true
   },
   "outputs": [],
   "source": [
    "names = ['pierre', 'Pierre', 'paul', 'Paul']"
   ]
  },
  {
   "cell_type": "code",
   "execution_count": 12,
   "metadata": {
    "collapsed": false
   },
   "outputs": [
    {
     "name": "stdout",
     "output_type": "stream",
     "text": [
      "pierre\n",
      "{'gender': 'MALE', 'confidence': 0.8975930513502768}\n",
      "Pierre\n",
      "{'gender': 'MALE', 'confidence': 0.8975876602995245}\n",
      "paul\n",
      "{'gender': 'MALE', 'confidence': 0.9111111111111112}\n",
      "Paul\n",
      "{'gender': 'MALE', 'confidence': 0.9111111111111111}\n"
     ]
    }
   ],
   "source": [
    "for n in names:\n",
    "    print(n), print(fetch_from_names_api(n))"
   ]
  },
  {
   "cell_type": "markdown",
   "metadata": {},
   "source": [
    "**For names such as 'paul pinsky' and 'paul horwich' the API returns 'f'.\n",
    "If both are written in capital letters then it returns 'm' (also first name alone is considered 'm' by the API):**"
   ]
  },
  {
   "cell_type": "code",
   "execution_count": 13,
   "metadata": {
    "collapsed": false
   },
   "outputs": [
    {
     "name": "stdout",
     "output_type": "stream",
     "text": [
      "{'gender': 'MALE', 'confidence': 0.9111111111111111}\n"
     ]
    }
   ],
   "source": [
    "print(fetch_from_names_api('Paul horwich'))"
   ]
  },
  {
   "cell_type": "code",
   "execution_count": 14,
   "metadata": {
    "collapsed": false
   },
   "outputs": [
    {
     "name": "stdout",
     "output_type": "stream",
     "text": [
      "{'gender': 'MALE', 'confidence': 0.9111111111111111}\n"
     ]
    }
   ],
   "source": [
    "print(fetch_from_names_api('Paul ribenboim'))"
   ]
  },
  {
   "cell_type": "code",
   "execution_count": 15,
   "metadata": {
    "collapsed": false
   },
   "outputs": [
    {
     "name": "stdout",
     "output_type": "stream",
     "text": [
      "{'gender': 'MALE', 'confidence': 0.9111111111111111}\n"
     ]
    }
   ],
   "source": [
    "print(fetch_from_names_api('Paul pinsky'))"
   ]
  },
  {
   "cell_type": "code",
   "execution_count": 16,
   "metadata": {
    "collapsed": false
   },
   "outputs": [
    {
     "name": "stdout",
     "output_type": "stream",
     "text": [
      "{'gender': 'MALE', 'confidence': 0.9111111111111111}\n"
     ]
    }
   ],
   "source": [
    "print(fetch_from_names_api('Paul Pinsky'))"
   ]
  },
  {
   "cell_type": "code",
   "execution_count": 17,
   "metadata": {
    "collapsed": false
   },
   "outputs": [
    {
     "name": "stdout",
     "output_type": "stream",
     "text": [
      "{'gender': 'FEMALE', 'confidence': 0.9885714285714285}\n"
     ]
    }
   ],
   "source": [
    "print(fetch_from_names_api('paul pinsky'))"
   ]
  },
  {
   "cell_type": "code",
   "execution_count": 18,
   "metadata": {
    "collapsed": false
   },
   "outputs": [
    {
     "name": "stdout",
     "output_type": "stream",
     "text": [
      "{'gender': 'FEMALE', 'confidence': 0.9885714285714285}\n"
     ]
    }
   ],
   "source": [
    "print(fetch_from_names_api('pinsky, paul'))"
   ]
  },
  {
   "cell_type": "code",
   "execution_count": 19,
   "metadata": {
    "collapsed": false
   },
   "outputs": [
    {
     "name": "stdout",
     "output_type": "stream",
     "text": [
      "{'gender': 'MALE', 'confidence': 0.9111111111111111}\n"
     ]
    }
   ],
   "source": [
    "print(fetch_from_names_api('Pinsky, Paul'))"
   ]
  },
  {
   "cell_type": "code",
   "execution_count": 22,
   "metadata": {
    "collapsed": false
   },
   "outputs": [
    {
     "name": "stdout",
     "output_type": "stream",
     "text": [
      "{'gender': 'MALE', 'confidence': 0.901827397625717}\n"
     ]
    }
   ],
   "source": [
    "print(fetch_from_names_api('Joshua Smith'))"
   ]
  },
  {
   "cell_type": "code",
   "execution_count": 23,
   "metadata": {
    "collapsed": false
   },
   "outputs": [
    {
     "name": "stdout",
     "output_type": "stream",
     "text": [
      "{'gender': 'MALE', 'confidence': 0.9018329012598354}\n"
     ]
    }
   ],
   "source": [
    "print(fetch_from_names_api('joshua smith'))"
   ]
  },
  {
   "cell_type": "code",
   "execution_count": 24,
   "metadata": {
    "collapsed": false
   },
   "outputs": [
    {
     "name": "stdout",
     "output_type": "stream",
     "text": [
      "{'gender': 'FEMALE', 'confidence': 0.9885714285714285}\n"
     ]
    }
   ],
   "source": [
    "print(fetch_from_names_api('paul ponsky'))"
   ]
  },
  {
   "cell_type": "code",
   "execution_count": 25,
   "metadata": {
    "collapsed": false
   },
   "outputs": [
    {
     "name": "stdout",
     "output_type": "stream",
     "text": [
      "{'gender': 'FEMALE', 'confidence': 0.9885714285714285}\n"
     ]
    }
   ],
   "source": [
    "print(fetch_from_names_api('paul pinsk'))"
   ]
  },
  {
   "cell_type": "code",
   "execution_count": 26,
   "metadata": {
    "collapsed": false
   },
   "outputs": [
    {
     "name": "stdout",
     "output_type": "stream",
     "text": [
      "{'gender': 'FEMALE', 'confidence': 0.9885714285714285}\n"
     ]
    }
   ],
   "source": [
    "print(fetch_from_names_api('paul rinsk'))"
   ]
  },
  {
   "cell_type": "code",
   "execution_count": null,
   "metadata": {
    "collapsed": true
   },
   "outputs": [],
   "source": []
  }
 ],
 "metadata": {
  "kernelspec": {
   "display_name": "Python 3",
   "language": "python",
   "name": "python3"
  },
  "language_info": {
   "codemirror_mode": {
    "name": "ipython",
    "version": 3
   },
   "file_extension": ".py",
   "mimetype": "text/x-python",
   "name": "python",
   "nbconvert_exporter": "python",
   "pygments_lexer": "ipython3",
   "version": "3.6.0"
  }
 },
 "nbformat": 4,
 "nbformat_minor": 2
}
