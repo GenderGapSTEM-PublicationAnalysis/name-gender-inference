{
 "cells": [
  {
   "cell_type": "markdown",
   "metadata": {},
   "source": [
    "Idea for tuning:\n",
    "\n",
    "need to specify which metrics need to be computed, which one needs to be minimized, and how large k is\n",
    "\n",
    "* build k splits into train and test data\n",
    "* for each train-test-split:\n",
    "    * build a parameter grid using cls.tuning_params. (For each class we have to find out what a good grid would be.)\n",
    "    * for each combination in the grid: \n",
    "        * translate api-response into f,m,u and store in the column gender_infered \n",
    "        * compute all provided metrics on the resulting test_data DF restricted to training data\n",
    "        * store relation grid-point:metrics\n",
    "    * select grid_point which minimizes specified metric and compute all provided metrics on test set\n",
    "    * store the metrics on test set\n",
    "* compute average of metrics on all test sets for all metrics"
   ]
  },
  {
   "cell_type": "code",
   "execution_count": 1,
   "metadata": {},
   "outputs": [],
   "source": [
    "from evaluators import *"
   ]
  },
  {
   "cell_type": "markdown",
   "metadata": {},
   "source": [
    "## `genderize_io`"
   ]
  },
  {
   "cell_type": "code",
   "execution_count": 2,
   "metadata": {},
   "outputs": [],
   "source": [
    "data_source = 'all'\n",
    "service_name = GenderizeIoEvaluator\n",
    "evaluator = service_name(data_source)\n",
    "\n",
    "evaluator.load_data(evaluated=True)\n",
    "evaluator.preprocess_data_for_parameter_tuning()\n",
    "evaluator.remove_rows_with_unknown_gender()"
   ]
  },
  {
   "cell_type": "code",
   "execution_count": 3,
   "metadata": {},
   "outputs": [
    {
     "data": {
      "text/html": [
       "<div>\n",
       "<style scoped>\n",
       "    .dataframe tbody tr th:only-of-type {\n",
       "        vertical-align: middle;\n",
       "    }\n",
       "\n",
       "    .dataframe tbody tr th {\n",
       "        vertical-align: top;\n",
       "    }\n",
       "\n",
       "    .dataframe thead th {\n",
       "        text-align: right;\n",
       "    }\n",
       "</style>\n",
       "<table border=\"1\" class=\"dataframe\">\n",
       "  <thead>\n",
       "    <tr style=\"text-align: right;\">\n",
       "      <th></th>\n",
       "      <th>index</th>\n",
       "      <th>first_name</th>\n",
       "      <th>middle_name</th>\n",
       "      <th>last_name</th>\n",
       "      <th>full_name</th>\n",
       "      <th>gender</th>\n",
       "      <th>origin</th>\n",
       "      <th>api_count</th>\n",
       "      <th>api_gender</th>\n",
       "      <th>api_name</th>\n",
       "      <th>api_probability</th>\n",
       "      <th>gender_infered</th>\n",
       "    </tr>\n",
       "  </thead>\n",
       "  <tbody>\n",
       "    <tr>\n",
       "      <th>0</th>\n",
       "      <td>0</td>\n",
       "      <td>pierre</td>\n",
       "      <td>paul</td>\n",
       "      <td>grivel</td>\n",
       "      <td>pierre paul grivel</td>\n",
       "      <td>m</td>\n",
       "      <td>zbmath</td>\n",
       "      <td>5.0</td>\n",
       "      <td>male</td>\n",
       "      <td>pierre-paul</td>\n",
       "      <td>1.00</td>\n",
       "      <td>m</td>\n",
       "    </tr>\n",
       "    <tr>\n",
       "      <th>1</th>\n",
       "      <td>1</td>\n",
       "      <td>raul</td>\n",
       "      <td></td>\n",
       "      <td>serapioni</td>\n",
       "      <td>raul serapioni</td>\n",
       "      <td>m</td>\n",
       "      <td>zbmath</td>\n",
       "      <td>821.0</td>\n",
       "      <td>male</td>\n",
       "      <td>raul</td>\n",
       "      <td>1.00</td>\n",
       "      <td>m</td>\n",
       "    </tr>\n",
       "    <tr>\n",
       "      <th>2</th>\n",
       "      <td>2</td>\n",
       "      <td>adriano</td>\n",
       "      <td></td>\n",
       "      <td>moura</td>\n",
       "      <td>adriano moura</td>\n",
       "      <td>m</td>\n",
       "      <td>zbmath</td>\n",
       "      <td>166.0</td>\n",
       "      <td>male</td>\n",
       "      <td>adriano</td>\n",
       "      <td>0.99</td>\n",
       "      <td>m</td>\n",
       "    </tr>\n",
       "    <tr>\n",
       "      <th>3</th>\n",
       "      <td>3</td>\n",
       "      <td>ralf</td>\n",
       "      <td></td>\n",
       "      <td>kieser</td>\n",
       "      <td>ralf kieser</td>\n",
       "      <td>m</td>\n",
       "      <td>zbmath</td>\n",
       "      <td>86.0</td>\n",
       "      <td>male</td>\n",
       "      <td>ralf</td>\n",
       "      <td>1.00</td>\n",
       "      <td>m</td>\n",
       "    </tr>\n",
       "    <tr>\n",
       "      <th>4</th>\n",
       "      <td>5</td>\n",
       "      <td>guillermo</td>\n",
       "      <td></td>\n",
       "      <td>leon-de-la-barra</td>\n",
       "      <td>guillermo leon-de-la-barra</td>\n",
       "      <td>m</td>\n",
       "      <td>zbmath</td>\n",
       "      <td>850.0</td>\n",
       "      <td>male</td>\n",
       "      <td>guillermo</td>\n",
       "      <td>1.00</td>\n",
       "      <td>m</td>\n",
       "    </tr>\n",
       "  </tbody>\n",
       "</table>\n",
       "</div>"
      ],
      "text/plain": [
       "   index first_name middle_name         last_name                   full_name  \\\n",
       "0      0     pierre        paul            grivel          pierre paul grivel   \n",
       "1      1       raul                     serapioni              raul serapioni   \n",
       "2      2    adriano                         moura               adriano moura   \n",
       "3      3       ralf                        kieser                 ralf kieser   \n",
       "4      5  guillermo              leon-de-la-barra  guillermo leon-de-la-barra   \n",
       "\n",
       "  gender  origin  api_count api_gender     api_name  api_probability  \\\n",
       "0      m  zbmath        5.0       male  pierre-paul             1.00   \n",
       "1      m  zbmath      821.0       male         raul             1.00   \n",
       "2      m  zbmath      166.0       male      adriano             0.99   \n",
       "3      m  zbmath       86.0       male         ralf             1.00   \n",
       "4      m  zbmath      850.0       male    guillermo             1.00   \n",
       "\n",
       "  gender_infered  \n",
       "0              m  \n",
       "1              m  \n",
       "2              m  \n",
       "3              m  \n",
       "4              m  "
      ]
     },
     "execution_count": 3,
     "metadata": {},
     "output_type": "execute_result"
    }
   ],
   "source": [
    "evaluator.test_data.head()"
   ]
  },
  {
   "cell_type": "code",
   "execution_count": 4,
   "metadata": {},
   "outputs": [
    {
     "data": {
      "text/html": [
       "<div>\n",
       "<style scoped>\n",
       "    .dataframe tbody tr th:only-of-type {\n",
       "        vertical-align: middle;\n",
       "    }\n",
       "\n",
       "    .dataframe tbody tr th {\n",
       "        vertical-align: top;\n",
       "    }\n",
       "\n",
       "    .dataframe thead th {\n",
       "        text-align: right;\n",
       "    }\n",
       "</style>\n",
       "<table border=\"1\" class=\"dataframe\">\n",
       "  <thead>\n",
       "    <tr style=\"text-align: right;\">\n",
       "      <th></th>\n",
       "      <th>api_count</th>\n",
       "      <th>api_probability</th>\n",
       "    </tr>\n",
       "  </thead>\n",
       "  <tbody>\n",
       "    <tr>\n",
       "      <th>count</th>\n",
       "      <td>5227.000000</td>\n",
       "      <td>5227.000000</td>\n",
       "    </tr>\n",
       "    <tr>\n",
       "      <th>mean</th>\n",
       "      <td>1695.015496</td>\n",
       "      <td>0.957744</td>\n",
       "    </tr>\n",
       "    <tr>\n",
       "      <th>std</th>\n",
       "      <td>2638.971903</td>\n",
       "      <td>0.105776</td>\n",
       "    </tr>\n",
       "    <tr>\n",
       "      <th>min</th>\n",
       "      <td>1.000000</td>\n",
       "      <td>0.500000</td>\n",
       "    </tr>\n",
       "    <tr>\n",
       "      <th>25%</th>\n",
       "      <td>46.000000</td>\n",
       "      <td>0.990000</td>\n",
       "    </tr>\n",
       "    <tr>\n",
       "      <th>50%</th>\n",
       "      <td>503.000000</td>\n",
       "      <td>1.000000</td>\n",
       "    </tr>\n",
       "    <tr>\n",
       "      <th>75%</th>\n",
       "      <td>2201.000000</td>\n",
       "      <td>1.000000</td>\n",
       "    </tr>\n",
       "    <tr>\n",
       "      <th>max</th>\n",
       "      <td>12593.000000</td>\n",
       "      <td>1.000000</td>\n",
       "    </tr>\n",
       "  </tbody>\n",
       "</table>\n",
       "</div>"
      ],
      "text/plain": [
       "          api_count  api_probability\n",
       "count   5227.000000      5227.000000\n",
       "mean    1695.015496         0.957744\n",
       "std     2638.971903         0.105776\n",
       "min        1.000000         0.500000\n",
       "25%       46.000000         0.990000\n",
       "50%      503.000000         1.000000\n",
       "75%     2201.000000         1.000000\n",
       "max    12593.000000         1.000000"
      ]
     },
     "execution_count": 4,
     "metadata": {},
     "output_type": "execute_result"
    }
   ],
   "source": [
    "evaluator.test_data[list(evaluator.tuning_params)].describe()"
   ]
  },
  {
   "cell_type": "code",
   "execution_count": 5,
   "metadata": {},
   "outputs": [
    {
     "data": {
      "text/plain": [
       "[OrderedDict([('api_count', 100), ('api_probability', 0.8)]),\n",
       " OrderedDict([('api_count', 100), ('api_probability', 0.85)]),\n",
       " OrderedDict([('api_count', 100), ('api_probability', 0.9)]),\n",
       " OrderedDict([('api_count', 500), ('api_probability', 0.8)]),\n",
       " OrderedDict([('api_count', 500), ('api_probability', 0.85)]),\n",
       " OrderedDict([('api_count', 500), ('api_probability', 0.9)]),\n",
       " OrderedDict([('api_count', 1000), ('api_probability', 0.8)]),\n",
       " OrderedDict([('api_count', 1000), ('api_probability', 0.85)]),\n",
       " OrderedDict([('api_count', 1000), ('api_probability', 0.9)])]"
      ]
     },
     "execution_count": 5,
     "metadata": {},
     "output_type": "execute_result"
    }
   ],
   "source": [
    "evaluator.build_parameter_grid([100, 500, 1000], [0.8, 0.85, 0.9])"
   ]
  },
  {
   "cell_type": "code",
   "execution_count": 6,
   "metadata": {},
   "outputs": [],
   "source": [
    "grid = evaluator.build_parameter_grid([1, 10, 100, 200, 500, 1000], \n",
    "                                      [0.55, 0.6, 0.65, 0.7, 0.75, 0.8, 0.85, 0.9, 0.95])"
   ]
  },
  {
   "cell_type": "code",
   "execution_count": 7,
   "metadata": {
    "scrolled": true
   },
   "outputs": [
    {
     "data": {
      "text/plain": [
       "{(1, 0.55): (0.050438169425511201, 0.050438169425511201),\n",
       " (1, 0.6): (0.045275590551181105, 0.045275590551181105),\n",
       " (1, 0.65): (0.041106877882494487, 0.041106877882494487),\n",
       " (1, 0.7): (0.037021969080553295, 0.037021969080553295),\n",
       " (1, 0.75): (0.034688013136288998, 0.034688013136288998),\n",
       " (1, 0.8): (0.031067556296914094, 0.031067556296914094),\n",
       " (1, 0.85): (0.027931769722814498, 0.027931769722814498),\n",
       " (1, 0.9): (0.024731888815933464, 0.024731888815933464),\n",
       " (1, 0.95): (0.020702070207020702, 0.020702070207020702),\n",
       " (10, 0.55): (0.044370122630992194, 0.044370122630992194),\n",
       " (10, 0.6): (0.038574328896909545, 0.038574328896909545),\n",
       " (10, 0.65): (0.033847570803591985, 0.033847570803591985),\n",
       " (10, 0.7): (0.030303030303030304, 0.030303030303030304),\n",
       " (10, 0.75): (0.027758174547165372, 0.027758174547165372),\n",
       " (10, 0.8): (0.023661567877629065, 0.023661567877629065),\n",
       " (10, 0.85): (0.021001221001221003, 0.021001221001221003),\n",
       " (10, 0.9): (0.017306245297215951, 0.017306245297215951),\n",
       " (10, 0.95): (0.012428793371310202, 0.012428793371310202),\n",
       " (100, 0.55): (0.028893383415197919, 0.028893383415197919),\n",
       " (100, 0.6): (0.025864574251671026, 0.025864574251671026),\n",
       " (100, 0.65): (0.022189349112426034, 0.022189349112426034),\n",
       " (100, 0.7): (0.01854066985645933, 0.01854066985645933),\n",
       " (100, 0.75): (0.017412188531972381, 0.017412188531972381),\n",
       " (100, 0.8): (0.014625228519195612, 0.014625228519195612),\n",
       " (100, 0.85): (0.012966965112689102, 0.012966965112689102),\n",
       " (100, 0.9): (0.0097545626179987421, 0.0097545626179987421),\n",
       " (100, 0.95): (0.0064370775667846793, 0.0064370775667846793),\n",
       " (200, 0.55): (0.02515923566878981, 0.02515923566878981),\n",
       " (200, 0.6): (0.021773935318603905, 0.021773935318603905),\n",
       " (200, 0.65): (0.018590998043052837, 0.018590998043052837),\n",
       " (200, 0.7): (0.015491100856954515, 0.015491100856954515),\n",
       " (200, 0.75): (0.015181518151815182, 0.015181518151815182),\n",
       " (200, 0.8): (0.013368983957219251, 0.013368983957219251),\n",
       " (200, 0.85): (0.012508451656524679, 0.012508451656524679),\n",
       " (200, 0.9): (0.0089500860585197926, 0.0089500860585197926),\n",
       " (200, 0.95): (0.0059711977520196698, 0.0059711977520196698),\n",
       " (500, 0.55): (0.021629972962533797, 0.021629972962533797),\n",
       " (500, 0.6): (0.01825951825951826, 0.01825951825951826),\n",
       " (500, 0.65): (0.015457788347205707, 0.015457788347205707),\n",
       " (500, 0.7): (0.012380191693290734, 0.012380191693290734),\n",
       " (500, 0.75): (0.012395041983206718, 0.012395041983206718),\n",
       " (500, 0.8): (0.011313131313131313, 0.011313131313131313),\n",
       " (500, 0.85): (0.01097560975609756, 0.01097560975609756),\n",
       " (500, 0.9): (0.0074534161490683228, 0.0074534161490683228),\n",
       " (500, 0.95): (0.0046511627906976744, 0.0046511627906976744),\n",
       " (1000, 0.55): (0.01988360814742968, 0.01988360814742968),\n",
       " (1000, 0.6): (0.016593460224499756, 0.016593460224499756),\n",
       " (1000, 0.65): (0.013486513486513486, 0.013486513486513486),\n",
       " (1000, 0.7): (0.012531328320802004, 0.012531328320802004),\n",
       " (1000, 0.75): (0.012550200803212851, 0.012550200803212851),\n",
       " (1000, 0.8): (0.011190233977619531, 0.011190233977619531),\n",
       " (1000, 0.85): (0.011218765935747067, 0.011218765935747067),\n",
       " (1000, 0.9): (0.0072765072765072769, 0.0072765072765072769),\n",
       " (1000, 0.95): (0.0037056643726839597, 0.0037056643726839597)}"
      ]
     },
     "execution_count": 7,
     "metadata": {},
     "output_type": "execute_result"
    }
   ],
   "source": [
    "train_index = evaluator.test_data.index\n",
    "test_index = evaluator.test_data.index\n",
    "errors = evaluator.compute_train_test_error_for_param_grid(grid, evaluator.compute_error_without_unknown, \n",
    "                                                           train_index, test_index)\n",
    "errors # TODO: turn errors into a nice dataframe while ignoring the second entry in value(train error = test error)"
   ]
  },
  {
   "cell_type": "code",
   "execution_count": 8,
   "metadata": {
    "scrolled": true
   },
   "outputs": [
    {
     "name": "stdout",
     "output_type": "stream",
     "text": [
      "minimal train error: 0.00398142003981 corresponding test error: 0.00261780104712\n",
      "params for lowest train error: {'api_probability': 0.95, 'api_count': 1000}\n",
      "minimal train error: 0.00405405405405 corresponding test error: 0.00244498777506\n",
      "params for lowest train error: {'api_probability': 0.95, 'api_count': 1000}\n",
      "minimal train error: 0.00392670157068 corresponding test error: 0.00277008310249\n",
      "params for lowest train error: {'api_probability': 0.95, 'api_count': 1000}\n",
      "minimal train error: 0.00324254215305 corresponding test error: 0.00576368876081\n",
      "params for lowest train error: {'api_probability': 0.95, 'api_count': 1000}\n",
      "minimal train error: 0.00333555703803 corresponding test error: 0.00512820512821\n",
      "params for lowest train error: {'api_probability': 0.95, 'api_count': 1000}\n"
     ]
    },
    {
     "data": {
      "text/plain": [
       "0.0037449531627373319"
      ]
     },
     "execution_count": 8,
     "metadata": {},
     "output_type": "execute_result"
    }
   ],
   "source": [
    "evaluator.compute_cv_score(5, grid, evaluator.compute_error_without_unknown)"
   ]
  },
  {
   "cell_type": "code",
   "execution_count": 9,
   "metadata": {},
   "outputs": [
    {
     "name": "stdout",
     "output_type": "stream",
     "text": [
      "minimal train error: 0.0652278177458 corresponding test error: 0.0747398297067\n",
      "params for lowest train error: {'api_probability': 0.55, 'api_count': 1}\n",
      "minimal train error: 0.0694444444444 corresponding test error: 0.058039961941\n",
      "params for lowest train error: {'api_probability': 0.55, 'api_count': 1}\n",
      "minimal train error: 0.0667938931298 corresponding test error: 0.0685990338164\n",
      "params for lowest train error: {'api_probability': 0.55, 'api_count': 1}\n",
      "minimal train error: 0.0671927307508 corresponding test error: 0.066985645933\n",
      "params for lowest train error: {'api_probability': 0.55, 'api_count': 1}\n",
      "minimal train error: 0.0670964660936 corresponding test error: 0.0673724735322\n",
      "params for lowest train error: {'api_probability': 0.55, 'api_count': 1}\n"
     ]
    },
    {
     "data": {
      "text/plain": [
       "0.067147388985881545"
      ]
     },
     "execution_count": 9,
     "metadata": {},
     "output_type": "execute_result"
    }
   ],
   "source": [
    "evaluator.compute_cv_score(5, grid, evaluator.compute_error_with_unknown)"
   ]
  },
  {
   "cell_type": "code",
   "execution_count": 10,
   "metadata": {},
   "outputs": [
    {
     "name": "stdout",
     "output_type": "stream",
     "text": [
      "minimal train error: 0.0158273381295 corresponding test error: 0.0245979186377\n",
      "params for lowest train error: {'api_count': 1, 'api_probability': 0.55}\n",
      "minimal train error: 0.0193965517241 corresponding test error: 0.0104662226451\n",
      "params for lowest train error: {'api_count': 1, 'api_probability': 0.55}\n",
      "minimal train error: 0.0174141221374 corresponding test error: 0.0183574879227\n",
      "params for lowest train error: {'api_count': 1, 'api_probability': 0.55}\n",
      "minimal train error: 0.0172166427547 corresponding test error: 0.0191387559809\n",
      "params for lowest train error: {'api_count': 1, 'api_probability': 0.55}\n",
      "minimal train error: 0.018147086915 corresponding test error: 0.0153994225217\n",
      "params for lowest train error: {'api_count': 1, 'api_probability': 0.55}\n"
     ]
    },
    {
     "data": {
      "text/plain": [
       "0.017591961541595126"
      ]
     },
     "execution_count": 10,
     "metadata": {},
     "output_type": "execute_result"
    }
   ],
   "source": [
    "evaluator.compute_cv_score(5, grid, evaluator.compute_error_unknown)"
   ]
  },
  {
   "cell_type": "code",
   "execution_count": 11,
   "metadata": {},
   "outputs": [
    {
     "name": "stdout",
     "output_type": "stream",
     "text": [
      "minimal train error: 0.00398142003981 corresponding test error: 0.00261780104712\n",
      "params for lowest train error: {'api_count': 1000, 'api_probability': 0.95}\n",
      "minimal train error: 0.00405405405405 corresponding test error: 0.00244498777506\n",
      "params for lowest train error: {'api_count': 1000, 'api_probability': 0.95}\n",
      "minimal train error: 0.00392670157068 corresponding test error: 0.00277008310249\n",
      "params for lowest train error: {'api_count': 1000, 'api_probability': 0.95}\n",
      "minimal train error: 0.00324254215305 corresponding test error: 0.00576368876081\n",
      "params for lowest train error: {'api_count': 1000, 'api_probability': 0.95}\n",
      "minimal train error: 0.00333555703803 corresponding test error: 0.00512820512821\n",
      "params for lowest train error: {'api_count': 1000, 'api_probability': 0.95}\n"
     ]
    },
    {
     "data": {
      "text/plain": [
       "0.0037449531627373319"
      ]
     },
     "execution_count": 11,
     "metadata": {},
     "output_type": "execute_result"
    }
   ],
   "source": [
    "evaluator.compute_cv_score(5, grid, evaluator.compute_error_gender_bias)"
   ]
  },
  {
   "cell_type": "code",
   "execution_count": 12,
   "metadata": {},
   "outputs": [
    {
     "name": "stdout",
     "output_type": "stream",
     "text": [
      "minimal train error: 1.00573613767 corresponding test error: 1.00354609929\n",
      "params for lowest train error: {'api_count': 1000, 'api_probability': 0.95}\n",
      "minimal train error: 1.00564971751 corresponding test error: 1.0037593985\n",
      "params for lowest train error: {'api_count': 1000, 'api_probability': 0.95}\n",
      "minimal train error: 1.00561797753 corresponding test error: 1.00384615385\n",
      "params for lowest train error: {'api_count': 1000, 'api_probability': 0.95}\n",
      "minimal train error: 1.00457875458 corresponding test error: 1.00847457627\n",
      "params for lowest train error: {'api_count': 1000, 'api_probability': 0.95}\n",
      "minimal train error: 1.00478927203 corresponding test error: 1.00704225352\n",
      "params for lowest train error: {'api_count': 1000, 'api_probability': 0.95}\n"
     ]
    },
    {
     "data": {
      "text/plain": [
       "1.0053336962850976"
      ]
     },
     "execution_count": 12,
     "metadata": {},
     "output_type": "execute_result"
    }
   ],
   "source": [
    "evaluator.compute_cv_score(5, grid, evaluator.compute_inverse_f1_score)"
   ]
  },
  {
   "cell_type": "markdown",
   "metadata": {},
   "source": [
    "## `gender_api`"
   ]
  },
  {
   "cell_type": "code",
   "execution_count": 13,
   "metadata": {},
   "outputs": [],
   "source": [
    "data_source = 'all'\n",
    "service_name = GenderAPIEvaluator\n",
    "evaluator = service_name(data_source)\n",
    "\n",
    "evaluator.load_data(evaluated=True)\n",
    "evaluator.preprocess_data_for_parameter_tuning()\n",
    "evaluator.remove_rows_with_unknown_gender()"
   ]
  },
  {
   "cell_type": "code",
   "execution_count": 14,
   "metadata": {},
   "outputs": [
    {
     "data": {
      "text/plain": [
       "('api_accuracy', 'api_samples')"
      ]
     },
     "execution_count": 14,
     "metadata": {},
     "output_type": "execute_result"
    }
   ],
   "source": [
    "evaluator.tuning_params"
   ]
  },
  {
   "cell_type": "code",
   "execution_count": 15,
   "metadata": {},
   "outputs": [
    {
     "data": {
      "text/html": [
       "<div>\n",
       "<style scoped>\n",
       "    .dataframe tbody tr th:only-of-type {\n",
       "        vertical-align: middle;\n",
       "    }\n",
       "\n",
       "    .dataframe tbody tr th {\n",
       "        vertical-align: top;\n",
       "    }\n",
       "\n",
       "    .dataframe thead th {\n",
       "        text-align: right;\n",
       "    }\n",
       "</style>\n",
       "<table border=\"1\" class=\"dataframe\">\n",
       "  <thead>\n",
       "    <tr style=\"text-align: right;\">\n",
       "      <th></th>\n",
       "      <th>api_accuracy</th>\n",
       "      <th>api_samples</th>\n",
       "    </tr>\n",
       "  </thead>\n",
       "  <tbody>\n",
       "    <tr>\n",
       "      <th>count</th>\n",
       "      <td>5790.000000</td>\n",
       "      <td>5790.000000</td>\n",
       "    </tr>\n",
       "    <tr>\n",
       "      <th>mean</th>\n",
       "      <td>91.385320</td>\n",
       "      <td>40243.978066</td>\n",
       "    </tr>\n",
       "    <tr>\n",
       "      <th>std</th>\n",
       "      <td>18.721861</td>\n",
       "      <td>66650.027682</td>\n",
       "    </tr>\n",
       "    <tr>\n",
       "      <th>min</th>\n",
       "      <td>0.000000</td>\n",
       "      <td>0.000000</td>\n",
       "    </tr>\n",
       "    <tr>\n",
       "      <th>25%</th>\n",
       "      <td>95.000000</td>\n",
       "      <td>987.000000</td>\n",
       "    </tr>\n",
       "    <tr>\n",
       "      <th>50%</th>\n",
       "      <td>98.000000</td>\n",
       "      <td>11153.000000</td>\n",
       "    </tr>\n",
       "    <tr>\n",
       "      <th>75%</th>\n",
       "      <td>99.000000</td>\n",
       "      <td>51412.000000</td>\n",
       "    </tr>\n",
       "    <tr>\n",
       "      <th>max</th>\n",
       "      <td>100.000000</td>\n",
       "      <td>433182.000000</td>\n",
       "    </tr>\n",
       "  </tbody>\n",
       "</table>\n",
       "</div>"
      ],
      "text/plain": [
       "       api_accuracy    api_samples\n",
       "count   5790.000000    5790.000000\n",
       "mean      91.385320   40243.978066\n",
       "std       18.721861   66650.027682\n",
       "min        0.000000       0.000000\n",
       "25%       95.000000     987.000000\n",
       "50%       98.000000   11153.000000\n",
       "75%       99.000000   51412.000000\n",
       "max      100.000000  433182.000000"
      ]
     },
     "execution_count": 15,
     "metadata": {},
     "output_type": "execute_result"
    }
   ],
   "source": [
    "evaluator.test_data[list(evaluator.tuning_params)].describe()"
   ]
  },
  {
   "cell_type": "code",
   "execution_count": 16,
   "metadata": {},
   "outputs": [],
   "source": [
    "grid = evaluator.build_parameter_grid([50, 60, 70, 80, 90, 95], [10000, 20000, 30000, 40000, 50000, 60000])"
   ]
  },
  {
   "cell_type": "code",
   "execution_count": 17,
   "metadata": {},
   "outputs": [
    {
     "name": "stdout",
     "output_type": "stream",
     "text": [
      "minimal train error: 0.00460405156538 corresponding test error: 0.00684931506849\n",
      "params for lowest train error: {'api_samples': 50000, 'api_accuracy': 95}\n",
      "minimal train error: 0.00522951772225 corresponding test error: 0.00660792951542\n",
      "params for lowest train error: {'api_samples': 20000, 'api_accuracy': 95}\n",
      "minimal train error: 0.00542005420054 corresponding test error: 0.00369003690037\n",
      "params for lowest train error: {'api_samples': 50000, 'api_accuracy': 95}\n",
      "minimal train error: 0.00441014332966 corresponding test error: 0.010152284264\n",
      "params for lowest train error: {'api_samples': 60000, 'api_accuracy': 95}\n",
      "minimal train error: 0.00546946216955 corresponding test error: 0.00355871886121\n",
      "params for lowest train error: {'api_samples': 50000, 'api_accuracy': 95}\n"
     ]
    },
    {
     "data": {
      "text/plain": [
       "0.0061716569218900012"
      ]
     },
     "execution_count": 17,
     "metadata": {},
     "output_type": "execute_result"
    }
   ],
   "source": [
    "evaluator.compute_cv_score(5, grid, evaluator.compute_error_without_unknown)"
   ]
  },
  {
   "cell_type": "code",
   "execution_count": 18,
   "metadata": {},
   "outputs": [
    {
     "name": "stdout",
     "output_type": "stream",
     "text": [
      "minimal train error: 1.00476190476 corresponding test error: 0.944630872483\n",
      "params for lowest train error: {'api_samples': 10000, 'api_accuracy': 50}\n",
      "minimal train error: 1.00954446855 corresponding test error: 0.926788685524\n",
      "params for lowest train error: {'api_samples': 10000, 'api_accuracy': 50}\n",
      "minimal train error: 0.96855078623 corresponding test error: 1.09403254973\n",
      "params for lowest train error: {'api_samples': 10000, 'api_accuracy': 50}\n",
      "minimal train error: 0.981180496151 corresponding test error: 1.03873239437\n",
      "params for lowest train error: {'api_samples': 10000, 'api_accuracy': 50}\n",
      "minimal train error: 0.998705780846 corresponding test error: 0.96768707483\n",
      "params for lowest train error: {'api_samples': 10000, 'api_accuracy': 50}\n"
     ]
    },
    {
     "data": {
      "text/plain": [
       "0.99437431538644583"
      ]
     },
     "execution_count": 18,
     "metadata": {},
     "output_type": "execute_result"
    }
   ],
   "source": [
    "evaluator.compute_cv_score(5, grid, evaluator.compute_error_with_unknown)"
   ]
  },
  {
   "cell_type": "code",
   "execution_count": 19,
   "metadata": {},
   "outputs": [
    {
     "name": "stdout",
     "output_type": "stream",
     "text": [
      "minimal train error: 1.00889328063 corresponding test error: 1.01119402985\n",
      "params for lowest train error: {'api_samples': 20000, 'api_accuracy': 95}\n",
      "minimal train error: 1.00872093023 corresponding test error: 1.01209677419\n",
      "params for lowest train error: {'api_samples': 20000, 'api_accuracy': 95}\n",
      "minimal train error: 1.01046337818 corresponding test error: 1.00943396226\n",
      "params for lowest train error: {'api_samples': 10000, 'api_accuracy': 95}\n",
      "minimal train error: 1.00863723608 corresponding test error: 1.01260504202\n",
      "params for lowest train error: {'api_samples': 20000, 'api_accuracy': 95}\n",
      "minimal train error: 1.0099009901 corresponding test error: 1.00740740741\n",
      "params for lowest train error: {'api_samples': 20000, 'api_accuracy': 95}\n"
     ]
    },
    {
     "data": {
      "text/plain": [
       "1.010547443146532"
      ]
     },
     "execution_count": 19,
     "metadata": {},
     "output_type": "execute_result"
    }
   ],
   "source": [
    "evaluator.compute_cv_score(5, grid, evaluator.compute_inverse_f1_score)"
   ]
  },
  {
   "cell_type": "code",
   "execution_count": null,
   "metadata": {},
   "outputs": [],
   "source": []
  }
 ],
 "metadata": {
  "kernelspec": {
   "display_name": "Python 3",
   "language": "python",
   "name": "python3"
  },
  "language_info": {
   "codemirror_mode": {
    "name": "ipython",
    "version": 3
   },
   "file_extension": ".py",
   "mimetype": "text/x-python",
   "name": "python",
   "nbconvert_exporter": "python",
   "pygments_lexer": "ipython3",
   "version": "3.5.1"
  }
 },
 "nbformat": 4,
 "nbformat_minor": 2
}
