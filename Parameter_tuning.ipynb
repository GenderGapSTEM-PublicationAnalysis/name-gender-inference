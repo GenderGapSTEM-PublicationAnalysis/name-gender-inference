{
 "cells": [
  {
   "cell_type": "markdown",
   "metadata": {},
   "source": [
    "Idea for tuning:\n",
    "\n",
    "need to specify which metrics need to be computed, which one needs to be minimized, and how large k is\n",
    "\n",
    "* build k splits into train and test data\n",
    "* for each train-test-split:\n",
    "    * build a parameter grid using cls.tuning_params. (For each class we have to find out what a good grid would be.)\n",
    "    * for each combination in the grid: \n",
    "        * translate api-response into f,m,u and store in the column gender_infered (GOT THIS FAR!!!)\n",
    "        * compute all provided metrics on the resulting test_data DF restricted to training data\n",
    "        * store relation grid-point:metrics\n",
    "    * select grid_point which minimizes specified metric and compute all provided metrics on test set\n",
    "    * store the metrics on test set\n",
    "* compute average of metrics on all test sets for all metrics"
   ]
  },
  {
   "cell_type": "code",
   "execution_count": 1,
   "metadata": {},
   "outputs": [],
   "source": [
    "from sklearn.model_selection import train_test_split, KFold, StratifiedKFold\n",
    "from evaluators import *\n",
    "from evaluator import *\n",
    "from itertools import product\n",
    "from collections import OrderedDict\n",
    "import numpy as np"
   ]
  },
  {
   "cell_type": "code",
   "execution_count": 2,
   "metadata": {},
   "outputs": [],
   "source": [
    "data_source = 'all'\n",
    "service_name = GenderizeIoEvaluator\n",
    "evaluator = service_name(data_source)"
   ]
  },
  {
   "cell_type": "code",
   "execution_count": 3,
   "metadata": {},
   "outputs": [],
   "source": [
    "evaluator.load_data(evaluated=True)"
   ]
  },
  {
   "cell_type": "code",
   "execution_count": 4,
   "metadata": {},
   "outputs": [
    {
     "data": {
      "text/html": [
       "<div>\n",
       "<style scoped>\n",
       "    .dataframe tbody tr th:only-of-type {\n",
       "        vertical-align: middle;\n",
       "    }\n",
       "\n",
       "    .dataframe tbody tr th {\n",
       "        vertical-align: top;\n",
       "    }\n",
       "\n",
       "    .dataframe thead th {\n",
       "        text-align: right;\n",
       "    }\n",
       "</style>\n",
       "<table border=\"1\" class=\"dataframe\">\n",
       "  <thead>\n",
       "    <tr style=\"text-align: right;\">\n",
       "      <th></th>\n",
       "      <th>first_name</th>\n",
       "      <th>middle_name</th>\n",
       "      <th>last_name</th>\n",
       "      <th>full_name</th>\n",
       "      <th>gender</th>\n",
       "      <th>origin</th>\n",
       "      <th>api_count</th>\n",
       "      <th>api_gender</th>\n",
       "      <th>api_name</th>\n",
       "      <th>api_probability</th>\n",
       "      <th>gender_infered</th>\n",
       "    </tr>\n",
       "  </thead>\n",
       "  <tbody>\n",
       "    <tr>\n",
       "      <th>0</th>\n",
       "      <td>pierre</td>\n",
       "      <td>paul</td>\n",
       "      <td>grivel</td>\n",
       "      <td>pierre paul grivel</td>\n",
       "      <td>m</td>\n",
       "      <td>zbmath</td>\n",
       "      <td>5.0</td>\n",
       "      <td>male</td>\n",
       "      <td>pierre-paul</td>\n",
       "      <td>1.0</td>\n",
       "      <td>m</td>\n",
       "    </tr>\n",
       "    <tr>\n",
       "      <th>1</th>\n",
       "      <td>raul</td>\n",
       "      <td></td>\n",
       "      <td>serapioni</td>\n",
       "      <td>raul serapioni</td>\n",
       "      <td>m</td>\n",
       "      <td>zbmath</td>\n",
       "      <td>821.0</td>\n",
       "      <td>male</td>\n",
       "      <td>raul</td>\n",
       "      <td>1.0</td>\n",
       "      <td>m</td>\n",
       "    </tr>\n",
       "    <tr>\n",
       "      <th>2</th>\n",
       "      <td>adriano</td>\n",
       "      <td></td>\n",
       "      <td>moura</td>\n",
       "      <td>adriano moura</td>\n",
       "      <td>m</td>\n",
       "      <td>zbmath</td>\n",
       "      <td>166.0</td>\n",
       "      <td>male</td>\n",
       "      <td>adriano</td>\n",
       "      <td>0.99</td>\n",
       "      <td>m</td>\n",
       "    </tr>\n",
       "    <tr>\n",
       "      <th>3</th>\n",
       "      <td>ralf</td>\n",
       "      <td></td>\n",
       "      <td>kieser</td>\n",
       "      <td>ralf kieser</td>\n",
       "      <td>m</td>\n",
       "      <td>zbmath</td>\n",
       "      <td>86.0</td>\n",
       "      <td>male</td>\n",
       "      <td>ralf</td>\n",
       "      <td>1.0</td>\n",
       "      <td>m</td>\n",
       "    </tr>\n",
       "    <tr>\n",
       "      <th>4</th>\n",
       "      <td>teppei</td>\n",
       "      <td></td>\n",
       "      <td>ariyoshi</td>\n",
       "      <td>teppei ariyoshi</td>\n",
       "      <td>u</td>\n",
       "      <td>zbmath</td>\n",
       "      <td></td>\n",
       "      <td></td>\n",
       "      <td>teppei</td>\n",
       "      <td></td>\n",
       "      <td>u</td>\n",
       "    </tr>\n",
       "  </tbody>\n",
       "</table>\n",
       "</div>"
      ],
      "text/plain": [
       "  first_name middle_name  last_name           full_name gender  origin  \\\n",
       "0     pierre        paul     grivel  pierre paul grivel      m  zbmath   \n",
       "1       raul              serapioni      raul serapioni      m  zbmath   \n",
       "2    adriano                  moura       adriano moura      m  zbmath   \n",
       "3       ralf                 kieser         ralf kieser      m  zbmath   \n",
       "4     teppei               ariyoshi     teppei ariyoshi      u  zbmath   \n",
       "\n",
       "  api_count api_gender     api_name api_probability gender_infered  \n",
       "0       5.0       male  pierre-paul             1.0              m  \n",
       "1     821.0       male         raul             1.0              m  \n",
       "2     166.0       male      adriano            0.99              m  \n",
       "3      86.0       male         ralf             1.0              m  \n",
       "4                            teppei                              u  "
      ]
     },
     "execution_count": 4,
     "metadata": {},
     "output_type": "execute_result"
    }
   ],
   "source": [
    "evaluator.test_data.head()"
   ]
  },
  {
   "cell_type": "code",
   "execution_count": 5,
   "metadata": {},
   "outputs": [],
   "source": [
    "# we have to ignore 'u' in column 'gender'\n",
    "evaluator.remove_rows_with_unknown_gender()"
   ]
  },
  {
   "cell_type": "code",
   "execution_count": 6,
   "metadata": {},
   "outputs": [
    {
     "data": {
      "text/plain": [
       "('api_count', 'api_probability')"
      ]
     },
     "execution_count": 6,
     "metadata": {},
     "output_type": "execute_result"
    }
   ],
   "source": [
    "evaluator.tuning_params"
   ]
  },
  {
   "cell_type": "code",
   "execution_count": 7,
   "metadata": {},
   "outputs": [
    {
     "data": {
      "text/plain": [
       "[{'api_count': 1, 'api_probability': 0.5},\n",
       " {'api_count': 1, 'api_probability': 0.7},\n",
       " {'api_count': 1, 'api_probability': 0.8},\n",
       " {'api_count': 1, 'api_probability': 0.9},\n",
       " {'api_count': 10, 'api_probability': 0.5},\n",
       " {'api_count': 10, 'api_probability': 0.7},\n",
       " {'api_count': 10, 'api_probability': 0.8},\n",
       " {'api_count': 10, 'api_probability': 0.9},\n",
       " {'api_count': 50, 'api_probability': 0.5},\n",
       " {'api_count': 50, 'api_probability': 0.7},\n",
       " {'api_count': 50, 'api_probability': 0.8},\n",
       " {'api_count': 50, 'api_probability': 0.9},\n",
       " {'api_count': 100, 'api_probability': 0.5},\n",
       " {'api_count': 100, 'api_probability': 0.7},\n",
       " {'api_count': 100, 'api_probability': 0.8},\n",
       " {'api_count': 100, 'api_probability': 0.9}]"
      ]
     },
     "execution_count": 7,
     "metadata": {},
     "output_type": "execute_result"
    }
   ],
   "source": [
    "evaluator.build_parameter_grid([1,10, 50, 100], [0.5, 0.7, 0.8, 0.9])"
   ]
  },
  {
   "cell_type": "code",
   "execution_count": 8,
   "metadata": {},
   "outputs": [],
   "source": [
    "grid = evaluator.build_parameter_grid([1, 10, 100], [0.7, 0.8, 0.9])"
   ]
  },
  {
   "cell_type": "code",
   "execution_count": 9,
   "metadata": {},
   "outputs": [],
   "source": [
    "# TODO: integrate into code for this specific evaluator\n",
    "for col in evaluator.tuning_params:\n",
    "    evaluator.test_data[col] = evaluator.test_data[col].replace({'':None}) # None is coded as empty string\n",
    "    evaluator.test_data[col] = evaluator.test_data[col].astype(float)"
   ]
  },
  {
   "cell_type": "code",
   "execution_count": 12,
   "metadata": {},
   "outputs": [],
   "source": [
    "train_test_splits = evaluator.build_train_test_splits(evaluator.test_data, 3)"
   ]
  },
  {
   "cell_type": "code",
   "execution_count": 13,
   "metadata": {},
   "outputs": [
    {
     "data": {
      "text/plain": [
       "[(array([   0,    1,    2, ..., 5787, 5788, 5789]),\n",
       "  array([   3,    4,    5, ..., 5779, 5784, 5785])),\n",
       " (array([   0,    2,    3, ..., 5785, 5786, 5787]),\n",
       "  array([   1,    6,    7, ..., 5780, 5788, 5789])),\n",
       " (array([   1,    3,    4, ..., 5785, 5788, 5789]),\n",
       "  array([   0,    2,    8, ..., 5783, 5786, 5787]))]"
      ]
     },
     "execution_count": 13,
     "metadata": {},
     "output_type": "execute_result"
    }
   ],
   "source": [
    "train_test_splits"
   ]
  },
  {
   "cell_type": "code",
   "execution_count": 54,
   "metadata": {},
   "outputs": [
    {
     "data": {
      "text/plain": [
       "3"
      ]
     },
     "execution_count": 54,
     "metadata": {},
     "output_type": "execute_result"
    }
   ],
   "source": [
    "# for testing\n",
    "len(train_test_splits)"
   ]
  },
  {
   "cell_type": "code",
   "execution_count": 55,
   "metadata": {},
   "outputs": [
    {
     "data": {
      "text/plain": [
       "2"
      ]
     },
     "execution_count": 55,
     "metadata": {},
     "output_type": "execute_result"
    }
   ],
   "source": [
    "# for testing\n",
    "len(train_test_splits[0])"
   ]
  },
  {
   "cell_type": "code",
   "execution_count": 56,
   "metadata": {},
   "outputs": [
    {
     "name": "stdout",
     "output_type": "stream",
     "text": [
      "[   0    1    2 ..., 5787 5788 5789] [   3    4    5 ..., 5779 5784 5785]\n",
      "[   0    2    3 ..., 5785 5786 5787] [   1    6    7 ..., 5780 5788 5789]\n",
      "[   1    3    4 ..., 5785 5788 5789] [   0    2    8 ..., 5783 5786 5787]\n"
     ]
    }
   ],
   "source": [
    "# for testing\n",
    "for train_index, test_index in train_test_splits:\n",
    "    print(train_index, test_index)"
   ]
  },
  {
   "cell_type": "code",
   "execution_count": 68,
   "metadata": {},
   "outputs": [
    {
     "data": {
      "text/plain": [
       "[((0.7, 1), (0.006, 0.01)),\n",
       " ((0.5, 10), (0.03, 0.02)),\n",
       " ((0.7, 100), (0.01, 0.05))]"
      ]
     },
     "execution_count": 68,
     "metadata": {},
     "output_type": "execute_result"
    }
   ],
   "source": [
    "# test sorting of param_to_error_mapping\n",
    "d = {(0.5, 10): (0.03, 0.02), (0.7, 100): (0.01, 0.05), (0.7, 1): (0.006, 0.01)}\n",
    "sorted(d.items(), key=lambda x: x[1][1]) # sort by second item in value"
   ]
  },
  {
   "cell_type": "code",
   "execution_count": 80,
   "metadata": {
    "scrolled": true
   },
   "outputs": [
    {
     "name": "stdout",
     "output_type": "stream",
     "text": [
      "[   0    1    2 ..., 5787 5788 5789] [   3    4    5 ..., 5779 5784 5785]\n",
      "minimal train error: 0.0153846153846 corresponding test error: 0.0211800302572\n",
      "[   0    2    3 ..., 5785 5786 5787] [   1    6    7 ..., 5780 5788 5789]\n",
      "minimal train error: 0.0180995475113 corresponding test error: 0.0157303370787\n",
      "[   1    3    4 ..., 5785 5788 5789] [   0    2    8 ..., 5783 5786 5787]\n",
      "minimal train error: 0.0184418517125 corresponding test error: 0.015037593985\n"
     ]
    }
   ],
   "source": [
    "# compute predicted error\n",
    "param_1, param_2 = evaluator.tuning_params[0], evaluator.tuning_params[1]\n",
    "kfold_errors = [] # errors on each of the k test sets for the optimal function on corresponding train set\n",
    "\n",
    "for train_index, test_index in train_test_splits:\n",
    "    print(train_index, test_index)\n",
    "    param_to_error_mapping = {}\n",
    "    for item in grid: \n",
    "        evaluator._translate_api_response(**item)\n",
    "        conf_matrix_train = evaluator.compute_confusion_matrix(evaluator.test_data.loc[train_index,:])\n",
    "        conf_matrix_test = evaluator.compute_confusion_matrix(evaluator.test_data.loc[test_index,:])\n",
    "        error_train = evaluator.build_error_without_unknown(conf_matrix_train)\n",
    "        error_test = evaluator.build_error_without_unknown(conf_matrix_test)\n",
    "        param_to_error_mapping[(item[param_1], item[param_2])] = (error_train, error_test)\n",
    "        # print(param_to_error_mapping)\n",
    "    d = OrderedDict(param_to_error_mapping.items(), key=lambda x:x[1][1])\n",
    "    items = list(d.items())\n",
    "    print(\"minimal train error:\", items[0][1][0], \"corresponding test error:\", items[0][1][1])\n",
    "    test_error = items[0][1][1]\n",
    "    kfold_errors.append(test_error)"
   ]
  },
  {
   "cell_type": "code",
   "execution_count": 81,
   "metadata": {},
   "outputs": [
    {
     "data": {
      "text/plain": [
       "[0.02118003025718608, 0.015730337078651686, 0.015037593984962405]"
      ]
     },
     "execution_count": 81,
     "metadata": {},
     "output_type": "execute_result"
    }
   ],
   "source": [
    "kfold_errors"
   ]
  },
  {
   "cell_type": "code",
   "execution_count": 85,
   "metadata": {},
   "outputs": [
    {
     "data": {
      "text/plain": [
       "0.017315987106933391"
      ]
     },
     "execution_count": 85,
     "metadata": {},
     "output_type": "execute_result"
    }
   ],
   "source": [
    "np.mean(kfold_errors)"
   ]
  },
  {
   "cell_type": "markdown",
   "metadata": {},
   "source": [
    "## TODO: integrate code below"
   ]
  },
  {
   "cell_type": "code",
   "execution_count": null,
   "metadata": {},
   "outputs": [],
   "source": [
    "def build_train_test_splits(df, cols, n_splits, stratified=False, shuffle=True):\n",
    "    X = df[cols]\n",
    "    y = df['gender'] # required only for stratified version\n",
    "    train_test_splits = []\n",
    "    if stratified is False:\n",
    "        kf = KFold(n_splits=n_splits, random_state=1, shuffle=shuffle)\n",
    "    else:\n",
    "        kf = StratifiedKFold(n_splits=n_splits, random_state=1, shuffle=shuffle)\n",
    "    \n",
    "    for train_index, test_index in kf.split(X):\n",
    "        X_train, X_test = X.loc[train_index,:], X.loc[test_index,:]\n",
    "        y_train, y_test = y[train_index], y[test_index]\n",
    "        train_test_splits.append((X_train, X_test, y_train, y_test))\n",
    "    return train_test_splits"
   ]
  },
  {
   "cell_type": "code",
   "execution_count": 67,
   "metadata": {},
   "outputs": [],
   "source": [
    "X = evaluator.test_data[['full_name', 'api_count', 'api_probability', 'api_gender']].head(50)\n",
    "y = evaluator.test_data['gender'][:50]"
   ]
  },
  {
   "cell_type": "code",
   "execution_count": 75,
   "metadata": {},
   "outputs": [],
   "source": [
    "kf = KFold(n_splits=3, random_state=1, shuffle=True)\n",
    "skf = StratifiedKFold(n_splits=3, random_state=1, shuffle=True)"
   ]
  },
  {
   "cell_type": "code",
   "execution_count": 76,
   "metadata": {},
   "outputs": [
    {
     "name": "stdout",
     "output_type": "stream",
     "text": [
      "TRAIN: [ 0  1  4  5  6  7  8  9 10 11 12 13 14 15 16 17 18 20 22 23 24 25 26 28 30\n",
      " 33 34 37 41 43 44 45 47] TEST: [ 2  3 19 21 27 29 31 32 35 36 38 39 40 42 46 48 49]\n",
      "TRAIN: [ 0  1  2  3  5  6  7  8  9 11 12 15 16 19 20 21 25 27 29 31 32 35 36 37 38\n",
      " 39 40 42 43 46 47 48 49] TEST: [ 4 10 13 14 17 18 22 23 24 26 28 30 33 34 41 44 45]\n",
      "TRAIN: [ 2  3  4 10 13 14 17 18 19 21 22 23 24 26 27 28 29 30 31 32 33 34 35 36 38\n",
      " 39 40 41 42 44 45 46 48 49] TEST: [ 0  1  5  6  7  8  9 11 12 15 16 20 25 37 43 47]\n"
     ]
    }
   ],
   "source": [
    "for train_index, test_index in kf.split(X):\n",
    "    print(\"TRAIN:\", train_index, \"TEST:\", test_index)\n",
    "    X_train, X_test = X.loc[train_index,:], X.loc[test_index,:]\n",
    "    y_train, y_test = y[train_index], y[test_index]"
   ]
  },
  {
   "cell_type": "code",
   "execution_count": null,
   "metadata": {
    "scrolled": true
   },
   "outputs": [],
   "source": [
    "X_train.head()"
   ]
  },
  {
   "cell_type": "code",
   "execution_count": null,
   "metadata": {},
   "outputs": [],
   "source": []
  },
  {
   "cell_type": "code",
   "execution_count": 78,
   "metadata": {},
   "outputs": [
    {
     "name": "stdout",
     "output_type": "stream",
     "text": [
      "TRAIN: [ 0  1  4  5  7  8  9 10 11 12 13 14 15 17 18 19 21 23 27 28 29 30 31 32 33\n",
      " 37 41 42 43 44 45 47 48] TEST: [ 2  3  6 16 20 22 24 25 26 34 35 36 38 39 40 46 49]\n",
      "TRAIN: [ 0  1  2  3  6  7  9 10 11 13 14 15 16 18 19 20 22 24 25 26 31 32 34 35 36\n",
      " 38 39 40 42 46 47 48 49] TEST: [ 4  5  8 12 17 21 23 27 28 29 30 33 37 41 43 44 45]\n",
      "TRAIN: [ 2  3  4  5  6  8 12 16 17 20 21 22 23 24 25 26 27 28 29 30 33 34 35 36 37\n",
      " 38 39 40 41 43 44 45 46 49] TEST: [ 0  1  7  9 10 11 13 14 15 18 19 31 32 42 47 48]\n"
     ]
    }
   ],
   "source": [
    "for train_index, test_index in skf.split(X,y):\n",
    "    print(\"TRAIN:\", train_index, \"TEST:\", test_index)\n",
    "    X_train, X_test = X.loc[train_index,:], X.loc[test_index,:]\n",
    "    y_train, y_test = y[train_index], y[test_index]"
   ]
  }
 ],
 "metadata": {
  "kernelspec": {
   "display_name": "Python 3",
   "language": "python",
   "name": "python3"
  },
  "language_info": {
   "codemirror_mode": {
    "name": "ipython",
    "version": 3
   },
   "file_extension": ".py",
   "mimetype": "text/x-python",
   "name": "python",
   "nbconvert_exporter": "python",
   "pygments_lexer": "ipython3",
   "version": "3.5.1"
  }
 },
 "nbformat": 4,
 "nbformat_minor": 2
}
