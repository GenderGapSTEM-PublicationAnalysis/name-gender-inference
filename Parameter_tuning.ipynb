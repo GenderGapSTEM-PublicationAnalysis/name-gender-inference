{
 "cells": [
  {
   "cell_type": "markdown",
   "metadata": {},
   "source": [
    "**TODO: put (parts of) this into paper and/or README.**\n",
    "\n",
    "How parameter tuning works in our case:\n",
    "\n",
    "Each evaluator has one or two numerical parameters that can be \"tuned\" in order to minimize a certain error. However, we have no mathematical model that can be trained in the classical ML sense. Instead, for every service, we try parameters from a parameter grid and consider this as \"training\" or \"tuning\".\n",
    "\n",
    "We train the parameters using a 5-fold cross validation and report the average error on the test sets as the optimal error that can be achieved.\n",
    "\n",
    "To make the tuning comparable across services, we build the parameter grids based on quantiles of the distributions of the tuning parameters. For every service and parameter we use a maximum of 20 parameter values as a default. (Note that depending on the distribution the number of the resulting parameter values can be less than 20.) For this step we consider only those responses where the API/service decided for 'f' or 'm' (so we ignore 'unknown' or similar). \n",
    "\n",
    "Finally, we train each evaluator on the entire data set to obtain the best parameter values for a given error."
   ]
  },
  {
   "cell_type": "code",
   "execution_count": 1,
   "metadata": {},
   "outputs": [
    {
     "name": "stdout",
     "output_type": "stream",
     "text": [
      "Populating the interactive namespace from numpy and matplotlib\n"
     ]
    },
    {
     "name": "stderr",
     "output_type": "stream",
     "text": [
      "/Users/helena.mihaljevic-br/.virtualenvs/name-based-inference/lib/python3.5/site-packages/mpltools/style/__init__.py:42: FutureWarning: \n",
      "\n",
      "    The style-sheet functionality in mpltools has been integrated into\n",
      "    Matplotlib >= 1.4. This module will be removed in a future release.\n",
      "\n",
      "    Note that style-sheets used by `matplotlib.style` use the standard\n",
      "    Matplotlib rc-file syntax instead of the INI format used by `mpltools`.\n",
      "    This mostly means un-quoting strings and changing '=' to ':'.\n",
      "\n",
      "\n",
      "  \"\"\", FutureWarning)\n",
      "/Users/helena.mihaljevic-br/.virtualenvs/name-based-inference/lib/python3.5/site-packages/matplotlib/__init__.py:800: MatplotlibDeprecationWarning: axes.color_cycle is deprecated and replaced with axes.prop_cycle; please use the latter.\n",
      "  mplDeprecation)\n",
      "/Users/helena.mihaljevic-br/.virtualenvs/name-based-inference/lib/python3.5/site-packages/IPython/core/magics/pylab.py:160: UserWarning: pylab import has clobbered these variables: ['shuffle', 'style']\n",
      "`%matplotlib` prevents importing * from pylab and numpy\n",
      "  \"\\n`%matplotlib` prevents importing * from pylab and numpy\"\n"
     ]
    }
   ],
   "source": [
    "import pandas as pd\n",
    "import numpy as np\n",
    "from evaluators import *\n",
    "from evaluator import *\n",
    "from helpers import REGISTERED_EVALUATORS, compute_equal_frequency_binning\n",
    "\n",
    "import matplotlib.ticker as mtick\n",
    "from mpltools import style\n",
    "style.use('ggplot')\n",
    "from matplotlib.ticker import FuncFormatter\n",
    "from sklearn.model_selection import ParameterSampler\n",
    "\n",
    "import seaborn as sns\n",
    "sns.set(color_codes=True)\n",
    "%matplotlib inline\n",
    "%pylab inline"
   ]
  },
  {
   "cell_type": "markdown",
   "metadata": {},
   "source": [
    "## Compute errors without tuning"
   ]
  },
  {
   "cell_type": "code",
   "execution_count": 2,
   "metadata": {},
   "outputs": [],
   "source": [
    "def compute_all_errors_without_tuning():\n",
    "    service_to_all_errors = {}\n",
    "    error_names = ['error_with_unknown', 'error_without_unknown', 'error_gender_bias', 'error_unknown', \n",
    "                  'weighted_error','f_precision', 'f_recall']\n",
    "    \n",
    "    for s in REGISTERED_EVALUATORS:  \n",
    "        evaluator = s('all')\n",
    "        eval_name = evaluator.gender_evaluator\n",
    "        evaluator.load_data(evaluated=True)\n",
    "        evaluator._translate_api_response()\n",
    "        evaluator.compute_confusion_matrix(evaluator.test_data)\n",
    "        errors = evaluator.compute_all_errors()\n",
    "        service_to_all_errors[eval_name] = errors\n",
    "    all_errors = pd.DataFrame.from_dict(service_to_all_errors, orient='index')\n",
    "    all_errors.columns = error_names\n",
    "    return all_errors"
   ]
  },
  {
   "cell_type": "code",
   "execution_count": 3,
   "metadata": {},
   "outputs": [
    {
     "data": {
      "text/html": [
       "<div>\n",
       "<style scoped>\n",
       "    .dataframe tbody tr th:only-of-type {\n",
       "        vertical-align: middle;\n",
       "    }\n",
       "\n",
       "    .dataframe tbody tr th {\n",
       "        vertical-align: top;\n",
       "    }\n",
       "\n",
       "    .dataframe thead th {\n",
       "        text-align: right;\n",
       "    }\n",
       "</style>\n",
       "<table border=\"1\" class=\"dataframe\">\n",
       "  <thead>\n",
       "    <tr style=\"text-align: right;\">\n",
       "      <th></th>\n",
       "      <th>error_with_unknown</th>\n",
       "      <th>error_without_unknown</th>\n",
       "      <th>error_gender_bias</th>\n",
       "      <th>error_unknown</th>\n",
       "      <th>weighted_error</th>\n",
       "      <th>f_precision</th>\n",
       "      <th>f_recall</th>\n",
       "    </tr>\n",
       "  </thead>\n",
       "  <tbody>\n",
       "    <tr>\n",
       "      <th>namsor</th>\n",
       "      <td>0.135924</td>\n",
       "      <td>0.051384</td>\n",
       "      <td>0.010049</td>\n",
       "      <td>0.089119</td>\n",
       "      <td>0.069590</td>\n",
       "      <td>0.911184</td>\n",
       "      <td>0.938453</td>\n",
       "    </tr>\n",
       "    <tr>\n",
       "      <th>names_api_full</th>\n",
       "      <td>0.186874</td>\n",
       "      <td>0.043284</td>\n",
       "      <td>0.007112</td>\n",
       "      <td>0.150086</td>\n",
       "      <td>0.075921</td>\n",
       "      <td>0.927865</td>\n",
       "      <td>0.947150</td>\n",
       "    </tr>\n",
       "    <tr>\n",
       "      <th>names_api</th>\n",
       "      <td>0.237997</td>\n",
       "      <td>0.050161</td>\n",
       "      <td>0.010549</td>\n",
       "      <td>0.197755</td>\n",
       "      <td>0.094789</td>\n",
       "      <td>0.918308</td>\n",
       "      <td>0.945140</td>\n",
       "    </tr>\n",
       "    <tr>\n",
       "      <th>gender_api_full</th>\n",
       "      <td>0.204145</td>\n",
       "      <td>0.077108</td>\n",
       "      <td>-0.019027</td>\n",
       "      <td>0.137651</td>\n",
       "      <td>0.105659</td>\n",
       "      <td>0.911043</td>\n",
       "      <td>0.860870</td>\n",
       "    </tr>\n",
       "    <tr>\n",
       "      <th>gender_api</th>\n",
       "      <td>0.086701</td>\n",
       "      <td>0.058405</td>\n",
       "      <td>-0.008191</td>\n",
       "      <td>0.030052</td>\n",
       "      <td>0.064203</td>\n",
       "      <td>0.924559</td>\n",
       "      <td>0.902350</td>\n",
       "    </tr>\n",
       "    <tr>\n",
       "      <th>gender_guesser</th>\n",
       "      <td>0.229361</td>\n",
       "      <td>0.035243</td>\n",
       "      <td>0.005405</td>\n",
       "      <td>0.201209</td>\n",
       "      <td>0.081515</td>\n",
       "      <td>0.941360</td>\n",
       "      <td>0.956274</td>\n",
       "    </tr>\n",
       "    <tr>\n",
       "      <th>genderize_io</th>\n",
       "      <td>0.150432</td>\n",
       "      <td>0.058925</td>\n",
       "      <td>0.025253</td>\n",
       "      <td>0.097237</td>\n",
       "      <td>0.078770</td>\n",
       "      <td>0.886715</td>\n",
       "      <td>0.951381</td>\n",
       "    </tr>\n",
       "  </tbody>\n",
       "</table>\n",
       "</div>"
      ],
      "text/plain": [
       "                 error_with_unknown  error_without_unknown  error_gender_bias  \\\n",
       "namsor                     0.135924               0.051384           0.010049   \n",
       "names_api_full             0.186874               0.043284           0.007112   \n",
       "names_api                  0.237997               0.050161           0.010549   \n",
       "gender_api_full            0.204145               0.077108          -0.019027   \n",
       "gender_api                 0.086701               0.058405          -0.008191   \n",
       "gender_guesser             0.229361               0.035243           0.005405   \n",
       "genderize_io               0.150432               0.058925           0.025253   \n",
       "\n",
       "                 error_unknown  weighted_error  f_precision  f_recall  \n",
       "namsor                0.089119        0.069590     0.911184  0.938453  \n",
       "names_api_full        0.150086        0.075921     0.927865  0.947150  \n",
       "names_api             0.197755        0.094789     0.918308  0.945140  \n",
       "gender_api_full       0.137651        0.105659     0.911043  0.860870  \n",
       "gender_api            0.030052        0.064203     0.924559  0.902350  \n",
       "gender_guesser        0.201209        0.081515     0.941360  0.956274  \n",
       "genderize_io          0.097237        0.078770     0.886715  0.951381  "
      ]
     },
     "execution_count": 3,
     "metadata": {},
     "output_type": "execute_result"
    }
   ],
   "source": [
    "compute_all_errors_without_tuning()"
   ]
  },
  {
   "cell_type": "markdown",
   "metadata": {},
   "source": [
    "## Plot distributions of the tuning parameters\n",
    "\n",
    "Seaborn does not work with matplotlib subplots and its own grids are not applicable here. Matplotlib on the other hand has no good plots of bivariate distributions. Hence plotting each of the seven distributions separately..."
   ]
  },
  {
   "cell_type": "code",
   "execution_count": 4,
   "metadata": {},
   "outputs": [],
   "source": [
    "def plot_distribution_of_tuning_param(e):\n",
    "    evaluator = e('all')\n",
    "    evaluator.load_data(evaluated=True)\n",
    "    evaluator.preprocess_data_for_parameter_tuning()\n",
    "    evaluator._translate_api_response()\n",
    "    evaluator.remove_rows_with_unknown_gender(gender=False, gender_infered=True)\n",
    "    \n",
    "    tuning_params = list(evaluator.tuning_params)\n",
    "    if len(tuning_params) == 1:\n",
    "        sns.distplot(evaluator.test_data[tuning_params], kde=False)\n",
    "    else:\n",
    "        param_1, param_2 = tuning_params[0], tuning_params[1]\n",
    "        sns.jointplot(x=param_1, y=param_2, data=evaluator.test_data[tuning_params])"
   ]
  },
  {
   "cell_type": "code",
   "execution_count": 5,
   "metadata": {},
   "outputs": [
    {
     "name": "stdout",
     "output_type": "stream",
     "text": [
      "gender_api\n"
     ]
    },
    {
     "data": {
      "image/png": "[encoded data removed]",
      "text/plain": [
       "<matplotlib.figure.Figure at 0x1131adb00>"
      ]
     },
     "metadata": {},
     "output_type": "display_data"
    }
   ],
   "source": [
    "e = REGISTERED_EVALUATORS[0]\n",
    "print(e.gender_evaluator)\n",
    "plot_distribution_of_tuning_param(e)"
   ]
  },
  {
   "cell_type": "code",
   "execution_count": 6,
   "metadata": {},
   "outputs": [
    {
     "name": "stdout",
     "output_type": "stream",
     "text": [
      "gender_api_full\n"
     ]
    },
    {
     "data": {
      "image/png": "[encoded data removed]",
      "text/plain": [
       "<matplotlib.figure.Figure at 0x1128b7ef0>"
      ]
     },
     "metadata": {},
     "output_type": "display_data"
    }
   ],
   "source": [
    "e = REGISTERED_EVALUATORS[1]\n",
    "print(e.gender_evaluator)\n",
    "plot_distribution_of_tuning_param(e)"
   ]
  },
  {
   "cell_type": "code",
   "execution_count": 7,
   "metadata": {},
   "outputs": [
    {
     "name": "stdout",
     "output_type": "stream",
     "text": [
      "names_api\n"
     ]
    },
    {
     "data": {
      "image/png": "[encoded data removed]",
      "text/plain": [
       "<matplotlib.figure.Figure at 0x113b67b38>"
      ]
     },
     "metadata": {},
     "output_type": "display_data"
    }
   ],
   "source": [
    "e = REGISTERED_EVALUATORS[2]\n",
    "print(e.gender_evaluator)\n",
    "plot_distribution_of_tuning_param(e)"
   ]
  },
  {
   "cell_type": "code",
   "execution_count": 8,
   "metadata": {},
   "outputs": [
    {
     "name": "stdout",
     "output_type": "stream",
     "text": [
      "names_api_full\n"
     ]
    },
    {
     "data": {
      "image/png": "[encoded data removed]",
      "text/plain": [
       "<matplotlib.figure.Figure at 0x112badba8>"
      ]
     },
     "metadata": {},
     "output_type": "display_data"
    }
   ],
   "source": [
    "e = REGISTERED_EVALUATORS[3]\n",
    "print(e.gender_evaluator)\n",
    "plot_distribution_of_tuning_param(e)"
   ]
  },
  {
   "cell_type": "code",
   "execution_count": 9,
   "metadata": {},
   "outputs": [
    {
     "name": "stdout",
     "output_type": "stream",
     "text": [
      "namsor\n"
     ]
    },
    {
     "data": {
      "image/png": "[encoded data removed]",
      "text/plain": [
       "<matplotlib.figure.Figure at 0x11379ba58>"
      ]
     },
     "metadata": {},
     "output_type": "display_data"
    }
   ],
   "source": [
    "e = REGISTERED_EVALUATORS[4]\n",
    "print(e.gender_evaluator)\n",
    "plot_distribution_of_tuning_param(e)"
   ]
  },
  {
   "cell_type": "code",
   "execution_count": 10,
   "metadata": {},
   "outputs": [
    {
     "name": "stdout",
     "output_type": "stream",
     "text": [
      "gender_guesser\n"
     ]
    },
    {
     "data": {
      "image/png": "[encoded data removed]",
      "text/plain": [
       "<matplotlib.figure.Figure at 0x11316e4e0>"
      ]
     },
     "metadata": {},
     "output_type": "display_data"
    }
   ],
   "source": [
    "e = REGISTERED_EVALUATORS[5]\n",
    "print(e.gender_evaluator)\n",
    "plot_distribution_of_tuning_param(e)"
   ]
  },
  {
   "cell_type": "code",
   "execution_count": 11,
   "metadata": {},
   "outputs": [
    {
     "name": "stdout",
     "output_type": "stream",
     "text": [
      "genderize_io\n"
     ]
    },
    {
     "data": {
      "image/png": "[encoded data removed]",
      "text/plain": [
       "<matplotlib.figure.Figure at 0x1135a0a20>"
      ]
     },
     "metadata": {},
     "output_type": "display_data"
    }
   ],
   "source": [
    "e = REGISTERED_EVALUATORS[6]\n",
    "print(e.gender_evaluator)\n",
    "plot_distribution_of_tuning_param(e)"
   ]
  },
  {
   "cell_type": "markdown",
   "metadata": {},
   "source": [
    "## Discretize distribution of tuning parameters via random sampling"
   ]
  },
  {
   "cell_type": "markdown",
   "metadata": {},
   "source": [
    "Example from scikit-learn docstring"
   ]
  },
  {
   "cell_type": "code",
   "execution_count": 12,
   "metadata": {},
   "outputs": [
    {
     "data": {
      "text/plain": [
       "[{'a': 1, 'b': 0.89856000000000003},\n",
       " {'a': 1, 'b': 0.92322300000000002},\n",
       " {'a': 2, 'b': 1.8789640000000001},\n",
       " {'a': 2, 'b': 1.0381590000000001}]"
      ]
     },
     "execution_count": 12,
     "metadata": {},
     "output_type": "execute_result"
    }
   ],
   "source": [
    "from scipy.stats.distributions import expon\n",
    "import numpy as np\n",
    "np.random.seed(0)\n",
    "param_grid = {'a':[1, 2], 'b': expon()}\n",
    "param_list = list(ParameterSampler(param_grid, n_iter=4))\n",
    "rounded_list = [dict((k, round(v, 6)) for (k, v) in d.items()) for d in param_list]\n",
    "\n",
    "rounded_list"
   ]
  },
  {
   "cell_type": "markdown",
   "metadata": {},
   "source": [
    "## Build parameter grids for all services"
   ]
  },
  {
   "cell_type": "code",
   "execution_count": 36,
   "metadata": {},
   "outputs": [],
   "source": [
    "def build_parameter_grid(e, n_iter=20, method='square'):\n",
    "    \"\"\"method is either 'square' or 'constant'\"\"\"\n",
    "    tuning_params = list(e.tuning_params)\n",
    "\n",
    "    param_grid = {}\n",
    "    for param in tuning_params:\n",
    "        param_grid[param] = e.test_data[param].values\n",
    "    \n",
    "    if method=='square':\n",
    "        n_params = n_iter**len(tuning_params)\n",
    "    else:\n",
    "        n_params=n_iter\n",
    "\n",
    "    param_list = list(ParameterSampler(param_grid, n_iter=n_params, random_state=0))\n",
    "    zero_el = {k:0 for k in param_list[0].keys()}\n",
    "    param_list = [dict(t) for t in set([tuple(d.items()) for d in param_list])] + [zero_el] # deduplicate and add zero element\n",
    "    param_grid = [dict((k, round(v, 6)) for (k, v) in d.items()) for d in param_list]\n",
    "    \n",
    "    return param_grid\n"
   ]
  },
  {
   "cell_type": "code",
   "execution_count": 37,
   "metadata": {},
   "outputs": [
    {
     "data": {
      "text/plain": [
       "[{'api_accuracy': 98, 'api_samples': 8496},\n",
       " {'api_accuracy': 76, 'api_samples': 139211},\n",
       " {'api_accuracy': 56, 'api_samples': 95042},\n",
       " {'api_accuracy': 99, 'api_samples': 52754},\n",
       " {'api_accuracy': 58, 'api_samples': 12},\n",
       " {'api_accuracy': 99, 'api_samples': 1772},\n",
       " {'api_accuracy': 99, 'api_samples': 9249},\n",
       " {'api_accuracy': 99, 'api_samples': 14681},\n",
       " {'api_accuracy': 99, 'api_samples': 1530},\n",
       " {'api_accuracy': 0, 'api_samples': 0}]"
      ]
     },
     "execution_count": 37,
     "metadata": {},
     "output_type": "execute_result"
    }
   ],
   "source": [
    "s = REGISTERED_EVALUATORS[0]\n",
    "evaluator = s('all')\n",
    "eval_name = evaluator.gender_evaluator\n",
    "evaluator.load_data(evaluated=True)\n",
    "evaluator.preprocess_data_for_parameter_tuning()\n",
    "evaluator._translate_api_response()\n",
    "evaluator.remove_rows_with_unknown_gender(gender=False, gender_infered=True)\n",
    "\n",
    "build_parameter_grid(evaluator, n_iter=3)"
   ]
  },
  {
   "cell_type": "code",
   "execution_count": 38,
   "metadata": {},
   "outputs": [],
   "source": [
    "def build_grid_for_all_services(n_iter=20, method='square'):\n",
    "    service_to_grid_range = {}\n",
    "    for s in REGISTERED_EVALUATORS:  \n",
    "        evaluator = s('all')\n",
    "        evaluator.load_data(evaluated=True)\n",
    "        evaluator.preprocess_data_for_parameter_tuning()\n",
    "        evaluator._translate_api_response()\n",
    "        evaluator.remove_rows_with_unknown_gender(gender=False, gender_infered=True)\n",
    "        \n",
    "        service_to_grid_range[evaluator.gender_evaluator] = build_parameter_grid(evaluator, n_iter=n_iter, \n",
    "                                                                                 method=method)\n",
    "        \n",
    "    return service_to_grid_range"
   ]
  },
  {
   "cell_type": "code",
   "execution_count": 43,
   "metadata": {},
   "outputs": [],
   "source": [
    "grid_20_20 = build_grid_for_all_services(n_iter=20, method=\"constant\")\n",
    "grid_30_30 = build_grid_for_all_services(n_iter=30, method=\"constant\")\n",
    "grid_50_50 = build_grid_for_all_services(n_iter=50, method=\"constant\")\n",
    "grid_100_100 = build_grid_for_all_services(n_iter=100, method=\"constant\")\n",
    "grid_200_200 = build_grid_for_all_services(n_iter=200, method=\"constant\")\n",
    "\n",
    "grid_20_400 = build_grid_for_all_services(n_iter=20, method=\"square\")"
   ]
  },
  {
   "cell_type": "code",
   "execution_count": 50,
   "metadata": {},
   "outputs": [
    {
     "name": "stdout",
     "output_type": "stream",
     "text": [
      "a: 20-20\n",
      "namsor 5\n",
      "names_api_full 14\n",
      "names_api 16\n",
      "gender_api_full 21\n",
      "gender_api 21\n",
      "gender_guesser 3\n",
      "genderize_io 21\n",
      "b: 30-30\n",
      "namsor 7\n",
      "names_api_full 17\n",
      "names_api 23\n",
      "gender_api_full 31\n",
      "gender_api 31\n",
      "gender_guesser 3\n",
      "genderize_io 31\n",
      "c: 50-50\n",
      "namsor 10\n",
      "names_api_full 26\n",
      "names_api 33\n",
      "gender_api_full 51\n",
      "gender_api 51\n",
      "gender_guesser 3\n",
      "genderize_io 50\n",
      "d: 100-100\n",
      "namsor 22\n",
      "names_api_full 45\n",
      "names_api 46\n",
      "gender_api_full 100\n",
      "gender_api 99\n",
      "gender_guesser 3\n",
      "genderize_io 98\n",
      "e: 200-200\n",
      "namsor 30\n",
      "names_api_full 84\n",
      "names_api 77\n",
      "gender_api_full 195\n",
      "gender_api 195\n",
      "gender_guesser 3\n",
      "genderize_io 179\n",
      "f: 20-400\n",
      "namsor 5\n",
      "names_api_full 14\n",
      "names_api 16\n",
      "gender_api_full 384\n",
      "gender_api 379\n",
      "gender_guesser 3\n",
      "genderize_io 326\n"
     ]
    }
   ],
   "source": [
    "# check size of grid per service\n",
    "dict_of_grids = {\"a: 20-20\": grid_20_20, \"b: 30-30\": grid_30_30, \"c: 50-50\": grid_50_50, \n",
    "                             \"d: 100-100\": grid_100_100, \"e: 200-200\": grid_200_200, \"f: 20-400\": grid_20_400}\n",
    "\n",
    "dict_of_grids = OrderedDict(sorted(dict_of_grids.items(), key=lambda t: t[0]))\n",
    "\n",
    "for grid_size, service_to_grid in dict_of_grids.items():\n",
    "    print(grid_size)\n",
    "    for service, grid in service_to_grid.items():\n",
    "        print(service, len(grid))"
   ]
  },
  {
   "cell_type": "markdown",
   "metadata": {},
   "source": [
    "We see the following:\n",
    "\n",
    "* for `gender_guesser` there are at most 3 parameter values anyway so exhaustive search of parameter space is reached\n",
    "* the `namsor` parameter space is quite sparse, hence the grid size does not grow as fast; the other 1-parameter service `names_api` (and `names_api_full`) profits more\n",
    "* the grid sizes for the 2-parameter services `gender_api` (and `gender_api_full`) and `genderize_io` grow almost to the limit of the allowed grid size"
   ]
  },
  {
   "cell_type": "code",
   "execution_count": 23,
   "metadata": {
    "scrolled": true
   },
   "outputs": [
    {
     "data": {
      "text/plain": [
       "[{'api_accuracy': 98, 'api_samples': 75},\n",
       " {'api_accuracy': 99, 'api_samples': 15153},\n",
       " {'api_accuracy': 62, 'api_samples': 14178},\n",
       " {'api_accuracy': 99, 'api_samples': 32139},\n",
       " {'api_accuracy': 99, 'api_samples': 211741},\n",
       " {'api_accuracy': 99, 'api_samples': 1778},\n",
       " {'api_accuracy': 100, 'api_samples': 66},\n",
       " {'api_accuracy': 97, 'api_samples': 110176},\n",
       " {'api_accuracy': 97, 'api_samples': 1355},\n",
       " {'api_accuracy': 99, 'api_samples': 2162},\n",
       " {'api_accuracy': 97, 'api_samples': 163073},\n",
       " {'api_accuracy': 92, 'api_samples': 29790},\n",
       " {'api_accuracy': 97, 'api_samples': 52197},\n",
       " {'api_accuracy': 99, 'api_samples': 7151},\n",
       " {'api_accuracy': 97, 'api_samples': 1689},\n",
       " {'api_accuracy': 99, 'api_samples': 95042},\n",
       " {'api_accuracy': 99, 'api_samples': 145540},\n",
       " {'api_accuracy': 99, 'api_samples': 121},\n",
       " {'api_accuracy': 99, 'api_samples': 6622},\n",
       " {'api_accuracy': 60, 'api_samples': 12597},\n",
       " {'api_accuracy': 0, 'api_samples': 0}]"
      ]
     },
     "execution_count": 23,
     "metadata": {},
     "output_type": "execute_result"
    }
   ],
   "source": [
    "grid_20_20['gender_api']"
   ]
  },
  {
   "cell_type": "code",
   "execution_count": 24,
   "metadata": {},
   "outputs": [
    {
     "data": {
      "text/plain": [
       "[{'confidence': 1.0}, {'confidence': 0}]"
      ]
     },
     "execution_count": 24,
     "metadata": {},
     "output_type": "execute_result"
    }
   ],
   "source": [
    "grid_20_20['gender_guesser']"
   ]
  },
  {
   "cell_type": "markdown",
   "metadata": {},
   "source": [
    "### Test the effect of parameters for grid creation using one error function"
   ]
  },
  {
   "cell_type": "code",
   "execution_count": 51,
   "metadata": {},
   "outputs": [],
   "source": [
    "# Wrapper around some methods to make tuning with different error functions a one-liner\n",
    "def prepare_for_tuning(e):\n",
    "    e.load_data(evaluated=True)\n",
    "    e.preprocess_data_for_parameter_tuning()\n",
    "    e._translate_api_response()\n",
    "    e.remove_rows_with_unknown_gender(gender=True, gender_infered=False)\n",
    "    e.shuffle_data()\n",
    "    return e\n",
    "\n",
    "def tune(error_func, grids, constraint_func=None, constraint_val=None):\n",
    "    service_to_test_error = {}\n",
    "    for s in REGISTERED_EVALUATORS:  \n",
    "        evaluator = s('all')\n",
    "        evaluator_name = evaluator.gender_evaluator\n",
    "        print(evaluator_name)\n",
    "\n",
    "        evaluator = prepare_for_tuning(evaluator)\n",
    "        \n",
    "        grid = grids[evaluator_name]\n",
    "        mean_test_error = evaluator.compute_cv_score(n_splits=5, param_grid=grid, error_func=error_func, \n",
    "                                                    constraint_func=constraint_func, constraint_val=constraint_val)\n",
    "        service_to_test_error[evaluator_name] = mean_test_error\n",
    "    return service_to_test_error"
   ]
  },
  {
   "cell_type": "markdown",
   "metadata": {},
   "source": [
    "#### 20 Parameter values for every service"
   ]
  },
  {
   "cell_type": "code",
   "execution_count": 52,
   "metadata": {},
   "outputs": [
    {
     "name": "stdout",
     "output_type": "stream",
     "text": [
      "gender_api\n",
      "minimal train error: 0.0922047074066 corresponding test error: 0.0923209663503\n",
      "params for lowest train error: {'api_samples': 95042, 'api_accuracy': 56}\n",
      "minimal train error: 0.108160621762 corresponding test error: 0.101899827288\n",
      "params for lowest train error: {'api_samples': 38223, 'api_accuracy': 65}\n",
      "minimal train error: 0.105354058722 corresponding test error: 0.113126079447\n",
      "params for lowest train error: {'api_samples': 38223, 'api_accuracy': 65}\n",
      "minimal train error: 0.105354058722 corresponding test error: 0.113126079447\n",
      "params for lowest train error: {'api_samples': 38223, 'api_accuracy': 65}\n",
      "minimal train error: 0.107058061731 corresponding test error: 0.106309420916\n",
      "params for lowest train error: {'api_samples': 38223, 'api_accuracy': 65}\n",
      "Average test error: 0.10535647469\n",
      "gender_api_full\n",
      "minimal train error: 0.263873893328 corresponding test error: 0.244176013805\n",
      "params for lowest train error: {'api_samples': 69588, 'api_accuracy': 78}\n",
      "minimal train error: 0.260578583765 corresponding test error: 0.257340241796\n",
      "params for lowest train error: {'api_samples': 69588, 'api_accuracy': 78}\n",
      "minimal train error: 0.261658031088 corresponding test error: 0.274611398964\n",
      "params for lowest train error: {'api_samples': 219085, 'api_accuracy': 79}\n",
      "minimal train error: 0.258635578584 corresponding test error: 0.265112262522\n",
      "params for lowest train error: {'api_samples': 69588, 'api_accuracy': 78}\n",
      "minimal train error: 0.259658968271 corresponding test error: 0.261019878997\n",
      "params for lowest train error: {'api_samples': 69588, 'api_accuracy': 78}\n",
      "Average test error: 0.260451959217\n",
      "names_api\n",
      "minimal train error: 0.242712157201 corresponding test error: 0.219154443486\n",
      "params for lowest train error: {'api_confidence': 0}\n",
      "minimal train error: 0.299870466321 corresponding test error: 0.306563039724\n",
      "params for lowest train error: {'api_confidence': 0.84600900000000001}\n",
      "minimal train error: 0.237262521589 corresponding test error: 0.240932642487\n",
      "params for lowest train error: {'api_confidence': 0}\n",
      "minimal train error: 0.296632124352 corresponding test error: 0.319516407599\n",
      "params for lowest train error: {'api_confidence': 0.84600900000000001}\n",
      "minimal train error: 0.237642995899 corresponding test error: 0.23941227312\n",
      "params for lowest train error: {'api_confidence': 0}\n",
      "Average test error: 0.265115761283\n",
      "names_api_full\n",
      "minimal train error: 0.189160008637 corresponding test error: 0.177739430544\n",
      "params for lowest train error: {'api_confidence': 0}\n",
      "minimal train error: 0.184801381693 corresponding test error: 0.195164075993\n",
      "params for lowest train error: {'api_confidence': 0}\n",
      "minimal train error: 0.185664939551 corresponding test error: 0.19170984456\n",
      "params for lowest train error: {'api_confidence': 0}\n",
      "minimal train error: 0.186528497409 corresponding test error: 0.188255613126\n",
      "params for lowest train error: {'api_confidence': 0}\n",
      "minimal train error: 0.188214979495 corresponding test error: 0.181503889369\n",
      "params for lowest train error: {'api_confidence': 0}\n",
      "Average test error: 0.186874570718\n",
      "namsor\n",
      "minimal train error: 0.171021377672 corresponding test error: 0.16307161346\n",
      "params for lowest train error: {'api_scale': 0.45000000000000001}\n",
      "minimal train error: 0.169473229706 corresponding test error: 0.169257340242\n",
      "params for lowest train error: {'api_scale': 0.45000000000000001}\n",
      "minimal train error: 0.165587219344 corresponding test error: 0.184801381693\n",
      "params for lowest train error: {'api_scale': 0.45000000000000001}\n",
      "minimal train error: 0.170552677029 corresponding test error: 0.16493955095\n",
      "params for lowest train error: {'api_scale': 0.45000000000000001}\n",
      "minimal train error: 0.137707748759 corresponding test error: 0.128781331029\n",
      "params for lowest train error: {'api_scale': 0}\n",
      "Average test error: 0.162170243475\n",
      "gender_guesser\n",
      "minimal train error: 0.230187864392 corresponding test error: 0.226056945643\n",
      "params for lowest train error: {'confidence': 0.75}\n",
      "minimal train error: 0.229058721934 corresponding test error: 0.230569948187\n",
      "params for lowest train error: {'confidence': 0.75}\n",
      "minimal train error: 0.225172711572 corresponding test error: 0.246113989637\n",
      "params for lowest train error: {'confidence': 0.75}\n",
      "minimal train error: 0.227115716753 corresponding test error: 0.238341968912\n",
      "params for lowest train error: {'confidence': 0.75}\n",
      "minimal train error: 0.235268724369 corresponding test error: 0.205704407952\n",
      "params for lowest train error: {'confidence': 0.75}\n",
      "Average test error: 0.229357452066\n",
      "genderize_io\n",
      "minimal train error: 0.160440509609 corresponding test error: 0.157894736842\n",
      "params for lowest train error: {'api_probability': 0.82999999999999996, 'api_count': 15.0}\n",
      "minimal train error: 0.163644214162 corresponding test error: 0.161485319516\n",
      "params for lowest train error: {'api_probability': 0.62, 'api_count': 1628.0}\n",
      "minimal train error: 0.160837651123 corresponding test error: 0.172711571675\n",
      "params for lowest train error: {'api_probability': 0.62, 'api_count': 1628.0}\n",
      "minimal train error: 0.189335060449 corresponding test error: 0.193436960276\n",
      "params for lowest train error: {'api_probability': 1.0, 'api_count': 43.0}\n",
      "minimal train error: 0.165983164256 corresponding test error: 0.152117545376\n",
      "params for lowest train error: {'api_probability': 0.62, 'api_count': 1628.0}\n",
      "Average test error: 0.167529226737\n"
     ]
    }
   ],
   "source": [
    "constraint_error = tune(error_func=Evaluator.compute_error_with_unknown, grids=grid_20_20, \n",
    "                      constraint_func=Evaluator.compute_error_without_unknown, constraint_val=0.05)"
   ]
  },
  {
   "cell_type": "markdown",
   "metadata": {},
   "source": [
    "#### 30 Parameter values for every service"
   ]
  },
  {
   "cell_type": "code",
   "execution_count": 53,
   "metadata": {},
   "outputs": [
    {
     "name": "stdout",
     "output_type": "stream",
     "text": [
      "gender_api\n",
      "minimal train error: 0.0922047074066 corresponding test error: 0.0923209663503\n",
      "params for lowest train error: {'api_samples': 95042, 'api_accuracy': 56}\n",
      "minimal train error: 0.102979274611 corresponding test error: 0.0975820379965\n",
      "params for lowest train error: {'api_samples': 3438, 'api_accuracy': 66}\n",
      "minimal train error: 0.105354058722 corresponding test error: 0.113126079447\n",
      "params for lowest train error: {'api_samples': 38223, 'api_accuracy': 65}\n",
      "minimal train error: 0.105354058722 corresponding test error: 0.113126079447\n",
      "params for lowest train error: {'api_samples': 38223, 'api_accuracy': 65}\n",
      "minimal train error: 0.107058061731 corresponding test error: 0.106309420916\n",
      "params for lowest train error: {'api_samples': 38223, 'api_accuracy': 65}\n",
      "Average test error: 0.104492916832\n",
      "gender_api_full\n",
      "minimal train error: 0.263873893328 corresponding test error: 0.244176013805\n",
      "params for lowest train error: {'api_samples': 68146, 'api_accuracy': 78}\n",
      "minimal train error: 0.260578583765 corresponding test error: 0.257340241796\n",
      "params for lowest train error: {'api_samples': 68146, 'api_accuracy': 78}\n",
      "minimal train error: 0.261658031088 corresponding test error: 0.274611398964\n",
      "params for lowest train error: {'api_samples': 219085, 'api_accuracy': 79}\n",
      "minimal train error: 0.258635578584 corresponding test error: 0.265112262522\n",
      "params for lowest train error: {'api_samples': 68146, 'api_accuracy': 78}\n",
      "minimal train error: 0.259658968271 corresponding test error: 0.261019878997\n",
      "params for lowest train error: {'api_samples': 68146, 'api_accuracy': 78}\n",
      "Average test error: 0.260451959217\n",
      "names_api\n",
      "minimal train error: 0.242712157201 corresponding test error: 0.219154443486\n",
      "params for lowest train error: {'api_confidence': 0}\n",
      "minimal train error: 0.279576856649 corresponding test error: 0.281519861831\n",
      "params for lowest train error: {'api_confidence': 0.80952400000000002}\n",
      "minimal train error: 0.237262521589 corresponding test error: 0.240932642487\n",
      "params for lowest train error: {'api_confidence': 0}\n",
      "minimal train error: 0.296632124352 corresponding test error: 0.319516407599\n",
      "params for lowest train error: {'api_confidence': 0.84600900000000001}\n",
      "minimal train error: 0.237642995899 corresponding test error: 0.23941227312\n",
      "params for lowest train error: {'api_confidence': 0}\n",
      "Average test error: 0.260107125705\n",
      "names_api_full\n",
      "minimal train error: 0.189160008637 corresponding test error: 0.177739430544\n",
      "params for lowest train error: {'api_confidence': 0}\n",
      "minimal train error: 0.184801381693 corresponding test error: 0.195164075993\n",
      "params for lowest train error: {'api_confidence': 0}\n",
      "minimal train error: 0.185664939551 corresponding test error: 0.19170984456\n",
      "params for lowest train error: {'api_confidence': 0}\n",
      "minimal train error: 0.186528497409 corresponding test error: 0.188255613126\n",
      "params for lowest train error: {'api_confidence': 0}\n",
      "minimal train error: 0.188214979495 corresponding test error: 0.181503889369\n",
      "params for lowest train error: {'api_confidence': 0}\n",
      "Average test error: 0.186874570718\n",
      "namsor\n",
      "minimal train error: 0.155905851868 corresponding test error: 0.149266609146\n",
      "params for lowest train error: {'api_scale': 0.31}\n",
      "minimal train error: 0.154576856649 corresponding test error: 0.154576856649\n",
      "params for lowest train error: {'api_scale': 0.31}\n",
      "minimal train error: 0.151986183074 corresponding test error: 0.16493955095\n",
      "params for lowest train error: {'api_scale': 0.31}\n",
      "minimal train error: 0.154576856649 corresponding test error: 0.154576856649\n",
      "params for lowest train error: {'api_scale': 0.31}\n",
      "minimal train error: 0.137707748759 corresponding test error: 0.128781331029\n",
      "params for lowest train error: {'api_scale': 0.11}\n",
      "Average test error: 0.150428240885\n",
      "gender_guesser\n",
      "minimal train error: 0.230187864392 corresponding test error: 0.226056945643\n",
      "params for lowest train error: {'confidence': 0.75}\n",
      "minimal train error: 0.229058721934 corresponding test error: 0.230569948187\n",
      "params for lowest train error: {'confidence': 0.75}\n",
      "minimal train error: 0.225172711572 corresponding test error: 0.246113989637\n",
      "params for lowest train error: {'confidence': 0.75}\n",
      "minimal train error: 0.227115716753 corresponding test error: 0.238341968912\n",
      "params for lowest train error: {'confidence': 0.75}\n",
      "minimal train error: 0.235268724369 corresponding test error: 0.205704407952\n",
      "params for lowest train error: {'confidence': 0.75}\n",
      "Average test error: 0.229357452066\n",
      "genderize_io\n",
      "minimal train error: 0.157849276614 corresponding test error: 0.155306298533\n",
      "params for lowest train error: {'api_probability': 0.98999999999999999, 'api_count': 7.0}\n",
      "minimal train error: 0.155656303972 corresponding test error: 0.151122625216\n",
      "params for lowest train error: {'api_probability': 0.53000000000000003, 'api_count': 393.0}\n",
      "minimal train error: 0.158031088083 corresponding test error: 0.174438687392\n",
      "params for lowest train error: {'api_probability': 0.58999999999999997, 'api_count': 6176.0}\n",
      "minimal train error: 0.189335060449 corresponding test error: 0.193436960276\n",
      "params for lowest train error: {'api_probability': 1.0, 'api_count': 43.0}\n",
      "minimal train error: 0.164040578459 corresponding test error: 0.150388936906\n",
      "params for lowest train error: {'api_probability': 0.58999999999999997, 'api_count': 6176.0}\n",
      "Average test error: 0.164938701665\n"
     ]
    }
   ],
   "source": [
    "constraint_error = tune(error_func=Evaluator.compute_error_with_unknown, grids=grid_30_30, \n",
    "                      constraint_func=Evaluator.compute_error_without_unknown, constraint_val=0.05)"
   ]
  },
  {
   "cell_type": "markdown",
   "metadata": {},
   "source": [
    "#### 50 Parameter values for every service"
   ]
  },
  {
   "cell_type": "code",
   "execution_count": 54,
   "metadata": {},
   "outputs": [
    {
     "name": "stdout",
     "output_type": "stream",
     "text": [
      "gender_api\n",
      "minimal train error: 0.0922047074066 corresponding test error: 0.0923209663503\n",
      "params for lowest train error: {'api_samples': 95042, 'api_accuracy': 56}\n",
      "minimal train error: 0.0988773747841 corresponding test error: 0.0915371329879\n",
      "params for lowest train error: {'api_samples': 12597, 'api_accuracy': 60}\n",
      "minimal train error: 0.0980138169257 corresponding test error: 0.0949913644214\n",
      "params for lowest train error: {'api_samples': 12597, 'api_accuracy': 60}\n",
      "minimal train error: 0.105354058722 corresponding test error: 0.113126079447\n",
      "params for lowest train error: {'api_samples': 38223, 'api_accuracy': 65}\n",
      "minimal train error: 0.107058061731 corresponding test error: 0.106309420916\n",
      "params for lowest train error: {'api_samples': 38223, 'api_accuracy': 65}\n",
      "Average test error: 0.0996569928246\n",
      "gender_api_full\n",
      "minimal train error: 0.263873893328 corresponding test error: 0.244176013805\n",
      "params for lowest train error: {'api_samples': 68146, 'api_accuracy': 78}\n",
      "minimal train error: 0.260578583765 corresponding test error: 0.257340241796\n",
      "params for lowest train error: {'api_samples': 68146, 'api_accuracy': 78}\n",
      "minimal train error: 0.261658031088 corresponding test error: 0.274611398964\n",
      "params for lowest train error: {'api_samples': 219085, 'api_accuracy': 79}\n",
      "minimal train error: 0.239637305699 corresponding test error: 0.240932642487\n",
      "params for lowest train error: {'api_samples': 4545, 'api_accuracy': 75}\n",
      "minimal train error: 0.259658968271 corresponding test error: 0.261019878997\n",
      "params for lowest train error: {'api_samples': 68146, 'api_accuracy': 78}\n",
      "Average test error: 0.25561603521\n",
      "names_api\n",
      "minimal train error: 0.242712157201 corresponding test error: 0.219154443486\n",
      "params for lowest train error: {'api_confidence': 0}\n",
      "minimal train error: 0.278065630397 corresponding test error: 0.274611398964\n",
      "params for lowest train error: {'api_confidence': 0.80817099999999997}\n",
      "minimal train error: 0.237262521589 corresponding test error: 0.240932642487\n",
      "params for lowest train error: {'api_confidence': 0}\n",
      "minimal train error: 0.280008635579 corresponding test error: 0.303972366149\n",
      "params for lowest train error: {'api_confidence': 0.82333900000000004}\n",
      "minimal train error: 0.237642995899 corresponding test error: 0.23941227312\n",
      "params for lowest train error: {'api_confidence': 0}\n",
      "Average test error: 0.255616624841\n",
      "names_api_full\n",
      "minimal train error: 0.189160008637 corresponding test error: 0.177739430544\n",
      "params for lowest train error: {'api_confidence': 0}\n",
      "minimal train error: 0.184801381693 corresponding test error: 0.195164075993\n",
      "params for lowest train error: {'api_confidence': 0}\n",
      "minimal train error: 0.185664939551 corresponding test error: 0.19170984456\n",
      "params for lowest train error: {'api_confidence': 0}\n",
      "minimal train error: 0.186528497409 corresponding test error: 0.188255613126\n",
      "params for lowest train error: {'api_confidence': 0}\n",
      "minimal train error: 0.188214979495 corresponding test error: 0.181503889369\n",
      "params for lowest train error: {'api_confidence': 0}\n",
      "Average test error: 0.186874570718\n",
      "namsor\n",
      "minimal train error: 0.155905851868 corresponding test error: 0.149266609146\n",
      "params for lowest train error: {'api_scale': 0.31}\n",
      "minimal train error: 0.154576856649 corresponding test error: 0.154576856649\n",
      "params for lowest train error: {'api_scale': 0.31}\n",
      "minimal train error: 0.151986183074 corresponding test error: 0.16493955095\n",
      "params for lowest train error: {'api_scale': 0.31}\n",
      "minimal train error: 0.154576856649 corresponding test error: 0.154576856649\n",
      "params for lowest train error: {'api_scale': 0.31}\n",
      "minimal train error: 0.137707748759 corresponding test error: 0.128781331029\n",
      "params for lowest train error: {'api_scale': 0.11}\n",
      "Average test error: 0.150428240885\n",
      "gender_guesser\n",
      "minimal train error: 0.230187864392 corresponding test error: 0.226056945643\n",
      "params for lowest train error: {'confidence': 0.75}\n",
      "minimal train error: 0.229058721934 corresponding test error: 0.230569948187\n",
      "params for lowest train error: {'confidence': 0.75}\n",
      "minimal train error: 0.225172711572 corresponding test error: 0.246113989637\n",
      "params for lowest train error: {'confidence': 0.75}\n",
      "minimal train error: 0.227115716753 corresponding test error: 0.238341968912\n",
      "params for lowest train error: {'confidence': 0.75}\n",
      "minimal train error: 0.235268724369 corresponding test error: 0.205704407952\n",
      "params for lowest train error: {'confidence': 0.75}\n",
      "Average test error: 0.229357452066\n",
      "genderize_io\n",
      "minimal train error: 0.157849276614 corresponding test error: 0.155306298533\n",
      "params for lowest train error: {'api_probability': 0.98999999999999999, 'api_count': 7.0}\n",
      "minimal train error: 0.155656303972 corresponding test error: 0.151122625216\n",
      "params for lowest train error: {'api_probability': 0.53000000000000003, 'api_count': 393.0}\n",
      "minimal train error: 0.158031088083 corresponding test error: 0.174438687392\n",
      "params for lowest train error: {'api_probability': 0.58999999999999997, 'api_count': 6176.0}\n",
      "minimal train error: 0.189335060449 corresponding test error: 0.193436960276\n",
      "params for lowest train error: {'api_probability': 1.0, 'api_count': 43.0}\n",
      "minimal train error: 0.164040578459 corresponding test error: 0.150388936906\n",
      "params for lowest train error: {'api_probability': 0.58999999999999997, 'api_count': 6176.0}\n",
      "Average test error: 0.164938701665\n"
     ]
    }
   ],
   "source": [
    "constraint_error = tune(error_func=Evaluator.compute_error_with_unknown, grids=grid_50_50, \n",
    "                      constraint_func=Evaluator.compute_error_without_unknown, constraint_val=0.05)"
   ]
  },
  {
   "cell_type": "markdown",
   "metadata": {},
   "source": [
    "#### 100 Parameter values for every service"
   ]
  },
  {
   "cell_type": "code",
   "execution_count": 55,
   "metadata": {},
   "outputs": [
    {
     "name": "stdout",
     "output_type": "stream",
     "text": [
      "gender_api\n",
      "minimal train error: 0.0922047074066 corresponding test error: 0.0923209663503\n",
      "params for lowest train error: {'api_samples': 95042, 'api_accuracy': 56}\n",
      "minimal train error: 0.0988773747841 corresponding test error: 0.0915371329879\n",
      "params for lowest train error: {'api_samples': 12597, 'api_accuracy': 60}\n",
      "minimal train error: 0.0980138169257 corresponding test error: 0.0949913644214\n",
      "params for lowest train error: {'api_samples': 12597, 'api_accuracy': 60}\n",
      "minimal train error: 0.103626943005 corresponding test error: 0.116580310881\n",
      "params for lowest train error: {'api_samples': 955, 'api_accuracy': 77}\n",
      "minimal train error: 0.106842218865 corresponding test error: 0.103716508211\n",
      "params for lowest train error: {'api_samples': 955, 'api_accuracy': 77}\n",
      "Average test error: 0.0998292565703\n",
      "gender_api_full\n",
      "minimal train error: 0.259123299503 corresponding test error: 0.241587575496\n",
      "params for lowest train error: {'api_samples': 140849, 'api_accuracy': 76}\n",
      "minimal train error: 0.250215889465 corresponding test error: 0.247841105354\n",
      "params for lowest train error: {'api_samples': 8826, 'api_accuracy': 76}\n",
      "minimal train error: 0.261658031088 corresponding test error: 0.274611398964\n",
      "params for lowest train error: {'api_samples': 219085, 'api_accuracy': 79}\n",
      "minimal train error: 0.239637305699 corresponding test error: 0.240932642487\n",
      "params for lowest train error: {'api_samples': 4545, 'api_accuracy': 75}\n",
      "minimal train error: 0.249514353551 corresponding test error: 0.250648228176\n",
      "params for lowest train error: {'api_samples': 8826, 'api_accuracy': 76}\n",
      "Average test error: 0.251124190095\n",
      "names_api\n",
      "minimal train error: 0.242712157201 corresponding test error: 0.219154443486\n",
      "params for lowest train error: {'api_confidence': 0}\n",
      "minimal train error: 0.280656303972 corresponding test error: 0.282383419689\n",
      "params for lowest train error: {'api_confidence': 0.81166099999999997}\n",
      "minimal train error: 0.237262521589 corresponding test error: 0.240932642487\n",
      "params for lowest train error: {'api_confidence': 0}\n",
      "minimal train error: 0.291018998273 corresponding test error: 0.312607944732\n",
      "params for lowest train error: {'api_confidence': 0.84033500000000005}\n",
      "minimal train error: 0.237642995899 corresponding test error: 0.23941227312\n",
      "params for lowest train error: {'api_confidence': 0}\n",
      "Average test error: 0.258898144703\n",
      "names_api_full\n",
      "minimal train error: 0.189160008637 corresponding test error: 0.177739430544\n",
      "params for lowest train error: {'api_confidence': 0}\n",
      "minimal train error: 0.184801381693 corresponding test error: 0.195164075993\n",
      "params for lowest train error: {'api_confidence': 0}\n",
      "minimal train error: 0.185664939551 corresponding test error: 0.19170984456\n",
      "params for lowest train error: {'api_confidence': 0}\n",
      "minimal train error: 0.186528497409 corresponding test error: 0.188255613126\n",
      "params for lowest train error: {'api_confidence': 0}\n",
      "minimal train error: 0.188214979495 corresponding test error: 0.181503889369\n",
      "params for lowest train error: {'api_confidence': 0}\n",
      "Average test error: 0.186874570718\n",
      "namsor\n",
      "minimal train error: 0.149859641546 corresponding test error: 0.146678170837\n",
      "params for lowest train error: {'api_scale': 0.16}\n",
      "minimal train error: 0.149611398964 corresponding test error: 0.147668393782\n",
      "params for lowest train error: {'api_scale': 0.16}\n",
      "minimal train error: 0.147236614853 corresponding test error: 0.157167530225\n",
      "params for lowest train error: {'api_scale': 0.16}\n",
      "minimal train error: 0.148747841105 corresponding test error: 0.151122625216\n",
      "params for lowest train error: {'api_scale': 0.16}\n",
      "minimal train error: 0.137707748759 corresponding test error: 0.128781331029\n",
      "params for lowest train error: {'api_scale': 0.13}\n",
      "Average test error: 0.146283610218\n",
      "gender_guesser\n",
      "minimal train error: 0.230187864392 corresponding test error: 0.226056945643\n",
      "params for lowest train error: {'confidence': 0.75}\n",
      "minimal train error: 0.229058721934 corresponding test error: 0.230569948187\n",
      "params for lowest train error: {'confidence': 0.75}\n",
      "minimal train error: 0.225172711572 corresponding test error: 0.246113989637\n",
      "params for lowest train error: {'confidence': 0.75}\n",
      "minimal train error: 0.227115716753 corresponding test error: 0.238341968912\n",
      "params for lowest train error: {'confidence': 0.75}\n",
      "minimal train error: 0.235268724369 corresponding test error: 0.205704407952\n",
      "params for lowest train error: {'confidence': 0.75}\n",
      "Average test error: 0.229357452066\n",
      "genderize_io\n",
      "minimal train error: 0.155905851868 corresponding test error: 0.152717860224\n",
      "params for lowest train error: {'api_probability': 0.62, 'api_count': 54.0}\n",
      "minimal train error: 0.155440414508 corresponding test error: 0.154576856649\n",
      "params for lowest train error: {'api_probability': 0.62, 'api_count': 54.0}\n",
      "minimal train error: 0.158031088083 corresponding test error: 0.174438687392\n",
      "params for lowest train error: {'api_probability': 0.58999999999999997, 'api_count': 6176.0}\n",
      "minimal train error: 0.189335060449 corresponding test error: 0.193436960276\n",
      "params for lowest train error: {'api_probability': 1.0, 'api_count': 43.0}\n",
      "minimal train error: 0.164040578459 corresponding test error: 0.150388936906\n",
      "params for lowest train error: {'api_probability': 0.58999999999999997, 'api_count': 6176.0}\n",
      "Average test error: 0.16511186029\n"
     ]
    }
   ],
   "source": [
    "constraint_error = tune(error_func=Evaluator.compute_error_with_unknown, grids=grid_100_100, \n",
    "                      constraint_func=Evaluator.compute_error_without_unknown, constraint_val=0.05)"
   ]
  },
  {
   "cell_type": "markdown",
   "metadata": {},
   "source": [
    "#### 200 Parameter values for every service"
   ]
  },
  {
   "cell_type": "code",
   "execution_count": 56,
   "metadata": {},
   "outputs": [
    {
     "name": "stdout",
     "output_type": "stream",
     "text": [
      "gender_api\n",
      "minimal train error: 0.0902612826603 corresponding test error: 0.0914581535807\n",
      "params for lowest train error: {'api_samples': 16868, 'api_accuracy': 54}\n",
      "minimal train error: 0.0949913644214 corresponding test error: 0.0898100172712\n",
      "params for lowest train error: {'api_samples': 42667, 'api_accuracy': 57}\n",
      "minimal train error: 0.0980138169257 corresponding test error: 0.0949913644214\n",
      "params for lowest train error: {'api_samples': 12597, 'api_accuracy': 60}\n",
      "minimal train error: 0.100820379965 corresponding test error: 0.108808290155\n",
      "params for lowest train error: {'api_samples': 1593, 'api_accuracy': 71}\n",
      "minimal train error: 0.103604575869 corresponding test error: 0.0976663785653\n",
      "params for lowest train error: {'api_samples': 1593, 'api_accuracy': 71}\n",
      "Average test error: 0.0965468407988\n",
      "gender_api_full\n",
      "minimal train error: 0.259123299503 corresponding test error: 0.241587575496\n",
      "params for lowest train error: {'api_samples': 140849, 'api_accuracy': 76}\n",
      "minimal train error: 0.236183074266 corresponding test error: 0.236614853195\n",
      "params for lowest train error: {'api_samples': 22398, 'api_accuracy': 71}\n",
      "minimal train error: 0.261658031088 corresponding test error: 0.274611398964\n",
      "params for lowest train error: {'api_samples': 219085, 'api_accuracy': 79}\n",
      "minimal train error: 0.239637305699 corresponding test error: 0.240932642487\n",
      "params for lowest train error: {'api_samples': 4545, 'api_accuracy': 75}\n",
      "minimal train error: 0.249514353551 corresponding test error: 0.250648228176\n",
      "params for lowest train error: {'api_samples': 8826, 'api_accuracy': 76}\n",
      "Average test error: 0.248878939664\n",
      "names_api\n",
      "minimal train error: 0.242712157201 corresponding test error: 0.219154443486\n",
      "params for lowest train error: {'api_confidence': 0}\n",
      "minimal train error: 0.276122625216 corresponding test error: 0.273747841105\n",
      "params for lowest train error: {'api_confidence': 0.80505700000000002}\n",
      "minimal train error: 0.237262521589 corresponding test error: 0.240932642487\n",
      "params for lowest train error: {'api_confidence': 0}\n",
      "minimal train error: 0.284542314335 corresponding test error: 0.30829015544\n",
      "params for lowest train error: {'api_confidence': 0.830986}\n",
      "minimal train error: 0.237642995899 corresponding test error: 0.23941227312\n",
      "params for lowest train error: {'api_confidence': 0}\n",
      "Average test error: 0.256307471128\n",
      "names_api_full\n",
      "minimal train error: 0.189160008637 corresponding test error: 0.177739430544\n",
      "params for lowest train error: {'api_confidence': 0}\n",
      "minimal train error: 0.184801381693 corresponding test error: 0.195164075993\n",
      "params for lowest train error: {'api_confidence': 0}\n",
      "minimal train error: 0.185664939551 corresponding test error: 0.19170984456\n",
      "params for lowest train error: {'api_confidence': 0}\n",
      "minimal train error: 0.186528497409 corresponding test error: 0.188255613126\n",
      "params for lowest train error: {'api_confidence': 0}\n",
      "minimal train error: 0.188214979495 corresponding test error: 0.181503889369\n",
      "params for lowest train error: {'api_confidence': 0}\n",
      "Average test error: 0.186874570718\n",
      "namsor\n",
      "minimal train error: 0.149859641546 corresponding test error: 0.146678170837\n",
      "params for lowest train error: {'api_scale': 0.16}\n",
      "minimal train error: 0.149611398964 corresponding test error: 0.147668393782\n",
      "params for lowest train error: {'api_scale': 0.16}\n",
      "minimal train error: 0.147236614853 corresponding test error: 0.157167530225\n",
      "params for lowest train error: {'api_scale': 0.16}\n",
      "minimal train error: 0.148747841105 corresponding test error: 0.151122625216\n",
      "params for lowest train error: {'api_scale': 0.16}\n",
      "minimal train error: 0.137707748759 corresponding test error: 0.128781331029\n",
      "params for lowest train error: {'api_scale': 0.13}\n",
      "Average test error: 0.146283610218\n",
      "gender_guesser\n",
      "minimal train error: 0.230187864392 corresponding test error: 0.226056945643\n",
      "params for lowest train error: {'confidence': 0.75}\n",
      "minimal train error: 0.229058721934 corresponding test error: 0.230569948187\n",
      "params for lowest train error: {'confidence': 0.75}\n",
      "minimal train error: 0.225172711572 corresponding test error: 0.246113989637\n",
      "params for lowest train error: {'confidence': 0.75}\n",
      "minimal train error: 0.227115716753 corresponding test error: 0.238341968912\n",
      "params for lowest train error: {'confidence': 0.75}\n",
      "minimal train error: 0.235268724369 corresponding test error: 0.205704407952\n",
      "params for lowest train error: {'confidence': 0.75}\n",
      "Average test error: 0.229357452066\n",
      "genderize_io\n",
      "minimal train error: 0.155905851868 corresponding test error: 0.152717860224\n",
      "params for lowest train error: {'api_probability': 0.62, 'api_count': 54.0}\n",
      "minimal train error: 0.155440414508 corresponding test error: 0.154576856649\n",
      "params for lowest train error: {'api_probability': 0.62, 'api_count': 54.0}\n",
      "minimal train error: 0.157815198618 corresponding test error: 0.170984455959\n",
      "params for lowest train error: {'api_probability': 0.62, 'api_count': 360.0}\n",
      "minimal train error: 0.163644214162 corresponding test error: 0.176165803109\n",
      "params for lowest train error: {'api_probability': 0.67000000000000004, 'api_count': 812.0}\n",
      "minimal train error: 0.162745521261 corresponding test error: 0.151253241141\n",
      "params for lowest train error: {'api_probability': 0.62, 'api_count': 360.0}\n",
      "Average test error: 0.161139643416\n"
     ]
    }
   ],
   "source": [
    "constraint_error = tune(error_func=Evaluator.compute_error_with_unknown, grids=grid_200_200, \n",
    "                      constraint_func=Evaluator.compute_error_without_unknown, constraint_val=0.05)"
   ]
  },
  {
   "cell_type": "markdown",
   "metadata": {},
   "source": [
    "#### 20 parameter values per parameter but quadratic"
   ]
  },
  {
   "cell_type": "code",
   "execution_count": 57,
   "metadata": {},
   "outputs": [
    {
     "name": "stdout",
     "output_type": "stream",
     "text": [
      "gender_api\n",
      "minimal train error: 0.0902612826603 corresponding test error: 0.0914581535807\n",
      "params for lowest train error: {'api_samples': 16310, 'api_accuracy': 54}\n",
      "minimal train error: 0.0949913644214 corresponding test error: 0.0898100172712\n",
      "params for lowest train error: {'api_samples': 42667, 'api_accuracy': 57}\n",
      "minimal train error: 0.0971502590674 corresponding test error: 0.094127806563\n",
      "params for lowest train error: {'api_samples': 6888, 'api_accuracy': 60}\n",
      "minimal train error: 0.100172711572 corresponding test error: 0.107944732297\n",
      "params for lowest train error: {'api_samples': 8120, 'api_accuracy': 64}\n",
      "minimal train error: 0.097129289877 corresponding test error: 0.0968020743302\n",
      "params for lowest train error: {'api_samples': 211741, 'api_accuracy': 58}\n",
      "Average test error: 0.0960285568084\n",
      "gender_api_full\n",
      "minimal train error: 0.258259555172 corresponding test error: 0.240724762726\n",
      "params for lowest train error: {'api_samples': 13218, 'api_accuracy': 78}\n",
      "minimal train error: 0.236183074266 corresponding test error: 0.236614853195\n",
      "params for lowest train error: {'api_samples': 22398, 'api_accuracy': 71}\n",
      "minimal train error: 0.253886010363 corresponding test error: 0.272020725389\n",
      "params for lowest train error: {'api_samples': 1298, 'api_accuracy': 89}\n",
      "minimal train error: 0.239637305699 corresponding test error: 0.240932642487\n",
      "params for lowest train error: {'api_samples': 4545, 'api_accuracy': 75}\n",
      "minimal train error: 0.246276710555 corresponding test error: 0.246326707001\n",
      "params for lowest train error: {'api_samples': 44426, 'api_accuracy': 74}\n",
      "Average test error: 0.24732393816\n",
      "names_api\n",
      "minimal train error: 0.242712157201 corresponding test error: 0.219154443486\n",
      "params for lowest train error: {'api_confidence': 0}\n",
      "minimal train error: 0.299870466321 corresponding test error: 0.306563039724\n",
      "params for lowest train error: {'api_confidence': 0.84600900000000001}\n",
      "minimal train error: 0.237262521589 corresponding test error: 0.240932642487\n",
      "params for lowest train error: {'api_confidence': 0}\n",
      "minimal train error: 0.296632124352 corresponding test error: 0.319516407599\n",
      "params for lowest train error: {'api_confidence': 0.84600900000000001}\n",
      "minimal train error: 0.237642995899 corresponding test error: 0.23941227312\n",
      "params for lowest train error: {'api_confidence': 0}\n",
      "Average test error: 0.265115761283\n",
      "names_api_full\n",
      "minimal train error: 0.189160008637 corresponding test error: 0.177739430544\n",
      "params for lowest train error: {'api_confidence': 0}\n",
      "minimal train error: 0.184801381693 corresponding test error: 0.195164075993\n",
      "params for lowest train error: {'api_confidence': 0}\n",
      "minimal train error: 0.185664939551 corresponding test error: 0.19170984456\n",
      "params for lowest train error: {'api_confidence': 0}\n",
      "minimal train error: 0.186528497409 corresponding test error: 0.188255613126\n",
      "params for lowest train error: {'api_confidence': 0}\n",
      "minimal train error: 0.188214979495 corresponding test error: 0.181503889369\n",
      "params for lowest train error: {'api_confidence': 0}\n",
      "Average test error: 0.186874570718\n",
      "namsor\n",
      "minimal train error: 0.171021377672 corresponding test error: 0.16307161346\n",
      "params for lowest train error: {'api_scale': 0.45000000000000001}\n",
      "minimal train error: 0.169473229706 corresponding test error: 0.169257340242\n",
      "params for lowest train error: {'api_scale': 0.45000000000000001}\n",
      "minimal train error: 0.165587219344 corresponding test error: 0.184801381693\n",
      "params for lowest train error: {'api_scale': 0.45000000000000001}\n",
      "minimal train error: 0.170552677029 corresponding test error: 0.16493955095\n",
      "params for lowest train error: {'api_scale': 0.45000000000000001}\n",
      "minimal train error: 0.137707748759 corresponding test error: 0.128781331029\n",
      "params for lowest train error: {'api_scale': 0}\n",
      "Average test error: 0.162170243475\n",
      "gender_guesser\n",
      "minimal train error: 0.230187864392 corresponding test error: 0.226056945643\n",
      "params for lowest train error: {'confidence': 0.75}\n",
      "minimal train error: 0.229058721934 corresponding test error: 0.230569948187\n",
      "params for lowest train error: {'confidence': 0.75}\n",
      "minimal train error: 0.225172711572 corresponding test error: 0.246113989637\n",
      "params for lowest train error: {'confidence': 0.75}\n",
      "minimal train error: 0.227115716753 corresponding test error: 0.238341968912\n",
      "params for lowest train error: {'confidence': 0.75}\n",
      "minimal train error: 0.235268724369 corresponding test error: 0.205704407952\n",
      "params for lowest train error: {'confidence': 0.75}\n",
      "Average test error: 0.229357452066\n",
      "genderize_io\n",
      "minimal train error: 0.154826171453 corresponding test error: 0.152717860224\n",
      "params for lowest train error: {'api_probability': 0.59999999999999998, 'api_count': 46.0}\n",
      "minimal train error: 0.155008635579 corresponding test error: 0.151986183074\n",
      "params for lowest train error: {'api_probability': 0.59999999999999998, 'api_count': 46.0}\n",
      "minimal train error: 0.157383419689 corresponding test error: 0.170984455959\n",
      "params for lowest train error: {'api_probability': 0.60999999999999999, 'api_count': 1028.0}\n",
      "minimal train error: 0.163644214162 corresponding test error: 0.176165803109\n",
      "params for lowest train error: {'api_probability': 0.67000000000000004, 'api_count': 812.0}\n",
      "minimal train error: 0.162313835528 corresponding test error: 0.151253241141\n",
      "params for lowest train error: {'api_probability': 0.60999999999999999, 'api_count': 1028.0}\n",
      "Average test error: 0.160621508701\n"
     ]
    }
   ],
   "source": [
    "constraint_error = tune(error_func=Evaluator.compute_error_with_unknown, grids=grid_20_400, \n",
    "                      constraint_func=Evaluator.compute_error_without_unknown, constraint_val=0.05)"
   ]
  },
  {
   "cell_type": "markdown",
   "metadata": {},
   "source": [
    "## Below is old; needs to be repeated (and partially deleted)"
   ]
  },
  {
   "cell_type": "markdown",
   "metadata": {},
   "source": [
    "## Benchmark (with `grid_20`)"
   ]
  },
  {
   "cell_type": "markdown",
   "metadata": {},
   "source": [
    "## Errors from `genderizeR` paper"
   ]
  },
  {
   "cell_type": "code",
   "execution_count": 19,
   "metadata": {},
   "outputs": [
    {
     "name": "stdout",
     "output_type": "stream",
     "text": [
      "gender_api\n",
      "minimal train error: 0.0870222414165 corresponding test error: 0.0854184641933\n",
      "params for lowest train error: {'api_accuracy': 52, 'api_samples': 15}\n",
      "minimal train error: 0.0870034542314 corresponding test error: 0.0854922279793\n",
      "params for lowest train error: {'api_accuracy': 52, 'api_samples': 15}\n",
      "minimal train error: 0.0865716753022 corresponding test error: 0.087219343696\n",
      "params for lowest train error: {'api_accuracy': 52, 'api_samples': 15}\n",
      "minimal train error: 0.0861398963731 corresponding test error: 0.0898100172712\n",
      "params for lowest train error: {'api_accuracy': 54, 'api_samples': 41}\n",
      "minimal train error: 0.0867688322901 corresponding test error: 0.0864304235091\n",
      "params for lowest train error: {'api_accuracy': 52, 'api_samples': 15}\n",
      "Average test error: 0.0868740953298\n",
      "gender_api_full\n",
      "minimal train error: 0.204059598359 corresponding test error: 0.204486626402\n",
      "params for lowest train error: {'api_accuracy': 53, 'api_samples': 8}\n",
      "minimal train error: 0.20207253886 corresponding test error: 0.212435233161\n",
      "params for lowest train error: {'api_accuracy': 53, 'api_samples': 8}\n",
      "minimal train error: 0.204015544041 corresponding test error: 0.204663212435\n",
      "params for lowest train error: {'api_accuracy': 53, 'api_samples': 8}\n",
      "minimal train error: 0.206390328152 corresponding test error: 0.195164075993\n",
      "params for lowest train error: {'api_accuracy': 53, 'api_samples': 8}\n",
      "minimal train error: 0.204187351608 corresponding test error: 0.203975799481\n",
      "params for lowest train error: {'api_accuracy': 53, 'api_samples': 8}\n",
      "Average test error: 0.204144989494\n",
      "names_api\n",
      "minimal train error: 0.26106672425 corresponding test error: 0.244176013805\n",
      "params for lowest train error: {'api_confidence': 0.77188900000000005}\n",
      "minimal train error: 0.257340241796 corresponding test error: 0.259067357513\n",
      "params for lowest train error: {'api_confidence': 0.77188900000000005}\n",
      "minimal train error: 0.257556131261 corresponding test error: 0.258203799655\n",
      "params for lowest train error: {'api_confidence': 0.77188900000000005}\n",
      "minimal train error: 0.254749568221 corresponding test error: 0.269430051813\n",
      "params for lowest train error: {'api_confidence': 0.77188900000000005}\n",
      "minimal train error: 0.257716382474 corresponding test error: 0.257562662057\n",
      "params for lowest train error: {'api_confidence': 0.77188900000000005}\n",
      "Average test error: 0.257687976969\n",
      "names_api_full\n",
      "minimal train error: 0.230835672641 corresponding test error: 0.221742881795\n",
      "params for lowest train error: {'api_confidence': 0.80042000000000002}\n",
      "minimal train error: 0.230354058722 corresponding test error: 0.22366148532\n",
      "params for lowest train error: {'api_confidence': 0.80042000000000002}\n",
      "minimal train error: 0.227547495682 corresponding test error: 0.234887737478\n",
      "params for lowest train error: {'api_confidence': 0.80042000000000002}\n",
      "minimal train error: 0.225820379965 corresponding test error: 0.241796200345\n",
      "params for lowest train error: {'api_confidence': 0.80042000000000002}\n",
      "minimal train error: 0.230520181308 corresponding test error: 0.222990492653\n",
      "params for lowest train error: {'api_confidence': 0.80042000000000002}\n",
      "Average test error: 0.229015759518\n",
      "namsor\n",
      "minimal train error: 0.172101058087 corresponding test error: 0.16393442623\n",
      "params for lowest train error: {'api_scale': 0.46000000000000002}\n",
      "minimal train error: 0.170768566494 corresponding test error: 0.169257340242\n",
      "params for lowest train error: {'api_scale': 0.46000000000000002}\n",
      "minimal train error: 0.166666666667 corresponding test error: 0.185664939551\n",
      "params for lowest train error: {'api_scale': 0.46000000000000002}\n",
      "minimal train error: 0.171200345423 corresponding test error: 0.167530224525\n",
      "params for lowest train error: {'api_scale': 0.46000000000000002}\n",
      "minimal train error: 0.171595078783 corresponding test error: 0.165946413137\n",
      "params for lowest train error: {'api_scale': 0.46000000000000002}\n",
      "Average test error: 0.170466668737\n",
      "gender_guesser\n",
      "minimal train error: 0.272295400561 corresponding test error: 0.264883520276\n",
      "params for lowest train error: {'confidence': 1.0}\n",
      "minimal train error: 0.27115716753 corresponding test error: 0.269430051813\n",
      "params for lowest train error: {'confidence': 1.0}\n",
      "minimal train error: 0.267271157168 corresponding test error: 0.284974093264\n",
      "params for lowest train error: {'confidence': 1.0}\n",
      "minimal train error: 0.267702936097 corresponding test error: 0.283246977547\n",
      "params for lowest train error: {'confidence': 1.0}\n",
      "minimal train error: 0.275631340384 corresponding test error: 0.251512532411\n",
      "params for lowest train error: {'confidence': 1.0}\n",
      "Average test error: 0.270809435063\n",
      "genderize_io\n",
      "minimal train error: 0.150507449795 corresponding test error: 0.150129421915\n",
      "params for lowest train error: {'api_probability': 0.55000000000000004, 'api_count': 2.0}\n",
      "minimal train error: 0.15133851468 corresponding test error: 0.146804835924\n",
      "params for lowest train error: {'api_probability': 0.55000000000000004, 'api_count': 2.0}\n",
      "minimal train error: 0.148100172712 corresponding test error: 0.1597582038\n",
      "params for lowest train error: {'api_probability': 0.55000000000000004, 'api_count': 2.0}\n",
      "minimal train error: 0.150043177893 corresponding test error: 0.151986183074\n",
      "params for lowest train error: {'api_probability': 0.55000000000000004, 'api_count': 2.0}\n",
      "minimal train error: 0.152169220807 corresponding test error: 0.143474503025\n",
      "params for lowest train error: {'api_probability': 0.55000000000000004, 'api_count': 2.0}\n",
      "Average test error: 0.150430629548\n"
     ]
    }
   ],
   "source": [
    "error_with_unknown = tune(Evaluator.compute_error_with_unknown, grid_20)"
   ]
  },
  {
   "cell_type": "markdown",
   "metadata": {},
   "source": [
    "**Best result is achieved by `gender_api` with an average test error 0.0867013837581. Second best is `namsor` with 0.135923449219. All services achieve their best result at or near the left boundary of the parameter grid.**"
   ]
  },
  {
   "cell_type": "code",
   "execution_count": 18,
   "metadata": {},
   "outputs": [
    {
     "name": "stdout",
     "output_type": "stream",
     "text": [
      "gender_api\n",
      "minimal train error: 0.0081053698075 corresponding test error: 0.00980392156863\n",
      "params for lowest train error: {'api_accuracy': 99.0, 'api_samples': 179732.75}\n",
      "minimal train error: 0.0095525389643 corresponding test error: 0.0040404040404\n",
      "params for lowest train error: {'api_accuracy': 99.0, 'api_samples': 179732.75}\n",
      "minimal train error: 0.00800800800801 corresponding test error: 0.0102880658436\n",
      "params for lowest train error: {'api_accuracy': 99.0, 'api_samples': 179732.75}\n",
      "minimal train error: 0.00847457627119 corresponding test error: 0.00836820083682\n",
      "params for lowest train error: {'api_accuracy': 99.0, 'api_samples': 179732.75}\n",
      "minimal train error: 0.00812595226003 corresponding test error: 0.00970873786408\n",
      "params for lowest train error: {'api_accuracy': 99.0, 'api_samples': 179732.75}\n",
      "Average test error: 0.00844186603071\n",
      "gender_api_full\n",
      "minimal train error: 0.0158615717376 corresponding test error: 0.0193637621024\n",
      "params for lowest train error: {'api_accuracy': 97.0, 'api_samples': 163073.0}\n",
      "minimal train error: 0.0182178217822 corresponding test error: 0.00963081861958\n",
      "params for lowest train error: {'api_accuracy': 98.0, 'api_samples': 163073.0}\n",
      "minimal train error: 0.0182106096595 corresponding test error: 0.0096463022508\n",
      "params for lowest train error: {'api_accuracy': 98.0, 'api_samples': 163073.0}\n",
      "minimal train error: 0.0146187277756 corresponding test error: 0.0243111831442\n",
      "params for lowest train error: {'api_accuracy': 98.0, 'api_samples': 163073.0}\n",
      "minimal train error: 0.0149253731343 corresponding test error: 0.027027027027\n",
      "params for lowest train error: {'api_accuracy': 99.0, 'api_samples': 163073.0}\n",
      "Average test error: 0.0179958186288\n",
      "names_api\n",
      "minimal train error: 0.041311888994 corresponding test error: 0.046398046398\n",
      "params for lowest train error: {'api_confidence': 0.88300000000000001}\n",
      "minimal train error: 0.0422006877149 corresponding test error: 0.0429835651075\n",
      "params for lowest train error: {'api_confidence': 0.88300000000000001}\n",
      "minimal train error: 0.0424867228991 corresponding test error: 0.041825095057\n",
      "params for lowest train error: {'api_confidence': 0.88300000000000001}\n",
      "minimal train error: 0.0417055711173 corresponding test error: 0.045045045045\n",
      "params for lowest train error: {'api_confidence': 0.88300000000000001}\n",
      "minimal train error: 0.044080604534 corresponding test error: 0.0356265356265\n",
      "params for lowest train error: {'api_confidence': 0.88300000000000001}\n",
      "Average test error: 0.0423756574468\n",
      "names_api_full\n",
      "minimal train error: 0.0315427857589 corresponding test error: 0.035758323058\n",
      "params for lowest train error: {'api_confidence': 0.89559999999999995}\n",
      "minimal train error: 0.0315186246418 corresponding test error: 0.0343949044586\n",
      "params for lowest train error: {'api_confidence': 0.90180000000000005}\n",
      "minimal train error: 0.032453070315 corresponding test error: 0.0306513409962\n",
      "params for lowest train error: {'api_confidence': 0.90180000000000005}\n",
      "minimal train error: 0.0327765521588 corresponding test error: 0.0292164674635\n",
      "params for lowest train error: {'api_confidence': 0.90180000000000005}\n",
      "minimal train error: 0.0321027287319 corresponding test error: 0.0320591861899\n",
      "params for lowest train error: {'api_confidence': 0.90180000000000005}\n",
      "Average test error: 0.0324160444332\n",
      "namsor\n",
      "minimal train error: 0.016302575807 corresponding test error: 0.0178799489144\n",
      "params for lowest train error: {'api_scale': 0.98999999999999999}\n",
      "minimal train error: 0.01617076326 corresponding test error: 0.0184696569921\n",
      "params for lowest train error: {'api_scale': 0.98999999999999999}\n",
      "minimal train error: 0.0168393782383 corresponding test error: 0.0157480314961\n",
      "params for lowest train error: {'api_scale': 0.98999999999999999}\n",
      "minimal train error: 0.01589361012 corresponding test error: 0.019556714472\n",
      "params for lowest train error: {'api_scale': 0.98999999999999999}\n",
      "minimal train error: 0.0179153094463 corresponding test error: 0.0115384615385\n",
      "params for lowest train error: {'api_scale': 0.98999999999999999}\n",
      "Average test error: 0.0166385626826\n",
      "gender_guesser\n",
      "minimal train error: 0.0357046253719 corresponding test error: 0.0334051724138\n",
      "params for lowest train error: {'confidence': 0.749}\n",
      "minimal train error: 0.034081687855 corresponding test error: 0.0398706896552\n",
      "params for lowest train error: {'confidence': 0.749}\n",
      "minimal train error: 0.0346960731576 corresponding test error: 0.0374862183021\n",
      "params for lowest train error: {'confidence': 0.749}\n",
      "minimal train error: 0.0350404312668 corresponding test error: 0.0360655737705\n",
      "params for lowest train error: {'confidence': 0.749}\n",
      "minimal train error: 0.036704730832 corresponding test error: 0.0295670538543\n",
      "params for lowest train error: {'confidence': 0.749}\n",
      "Average test error: 0.0352789415992\n",
      "genderize_io\n",
      "minimal train error: 0.0196662693683 corresponding test error: 0.0207134637514\n",
      "params for lowest train error: {'api_count': 7396.8000000000002, 'api_probability': 0.97999999999999998}\n",
      "minimal train error: 0.0192778457772 corresponding test error: 0.0196319018405\n",
      "params for lowest train error: {'api_count': 7396.8000000000002, 'api_probability': 0.98999999999999999}\n",
      "minimal train error: 0.0200486026731 corresponding test error: 0.0174781523096\n",
      "params for lowest train error: {'api_count': 4584.0, 'api_probability': 0.98999999999999999}\n",
      "minimal train error: 0.0183430143687 corresponding test error: 0.0233990147783\n",
      "params for lowest train error: {'api_count': 7396.8000000000002, 'api_probability': 0.98999999999999999}\n",
      "minimal train error: 0.019313304721 corresponding test error: 0.0194884287454\n",
      "params for lowest train error: {'api_count': 7396.8000000000002, 'api_probability': 0.98999999999999999}\n",
      "Average test error: 0.0201421922851\n"
     ]
    }
   ],
   "source": [
    "error_without_unknown = tune(Evaluator.compute_error_without_unknown, grid_20)"
   ]
  },
  {
   "cell_type": "markdown",
   "metadata": {},
   "source": [
    "**Best result is achieved by `gender_api` with an average test error 0.00844186603071. Second best is `namsor` with 0.0166385626826. Several other services follow with very low errors as well. All services achieve their best result at or near the right boundary of the parameter grid.**"
   ]
  },
  {
   "cell_type": "code",
   "execution_count": 19,
   "metadata": {},
   "outputs": [
    {
     "name": "stdout",
     "output_type": "stream",
     "text": [
      "gender_api\n",
      "minimal train error: 0.0291513711941 corresponding test error: 0.0336496980155\n",
      "params for lowest train error: {'api_accuracy': 64.0, 'api_samples': 0}\n",
      "minimal train error: 0.0300086355786 corresponding test error: 0.0302245250432\n",
      "params for lowest train error: {'api_accuracy': 64.0, 'api_samples': 0}\n",
      "minimal train error: 0.0304404145078 corresponding test error: 0.0284974093264\n",
      "params for lowest train error: {'api_accuracy': 64.0, 'api_samples': 0}\n",
      "minimal train error: 0.0302245250432 corresponding test error: 0.0293609671848\n",
      "params for lowest train error: {'api_accuracy': 64.0, 'api_samples': 0}\n",
      "minimal train error: 0.0304338441615 corresponding test error: 0.028522039758\n",
      "params for lowest train error: {'api_accuracy': 64.0, 'api_samples': 0}\n",
      "Average test error: 0.0300509278656\n",
      "gender_api_full\n",
      "minimal train error: 0.136687540488 corresponding test error: 0.141501294219\n",
      "params for lowest train error: {'api_accuracy': 0, 'api_samples': 5041.0}\n",
      "minimal train error: 0.134283246978 corresponding test error: 0.151122625216\n",
      "params for lowest train error: {'api_accuracy': 0, 'api_samples': 5041.0}\n",
      "minimal train error: 0.139464594128 corresponding test error: 0.130397236615\n",
      "params for lowest train error: {'api_accuracy': 0, 'api_samples': 5041.0}\n",
      "minimal train error: 0.141191709845 corresponding test error: 0.123488773748\n",
      "params for lowest train error: {'api_accuracy': 0, 'api_samples': 5041.0}\n",
      "minimal train error: 0.136628534427 corresponding test error: 0.141745894555\n",
      "params for lowest train error: {'api_accuracy': 0, 'api_samples': 5041.0}\n",
      "Average test error: 0.137651164871\n",
      "names_api\n",
      "minimal train error: 0.202548045778 corresponding test error: 0.178602243313\n",
      "params for lowest train error: {'api_confidence': 0.43099999999999999}\n",
      "minimal train error: 0.196459412781 corresponding test error: 0.202936096718\n",
      "params for lowest train error: {'api_confidence': 0.43099999999999999}\n",
      "minimal train error: 0.19689119171 corresponding test error: 0.201208981002\n",
      "params for lowest train error: {'api_confidence': 0.43099999999999999}\n",
      "minimal train error: 0.196027633851 corresponding test error: 0.204663212435\n",
      "params for lowest train error: {'api_confidence': 0.43099999999999999}\n",
      "minimal train error: 0.196848694151 corresponding test error: 0.201382886776\n",
      "params for lowest train error: {'api_confidence': 0.43099999999999999}\n",
      "Average test error: 0.197758684049\n",
      "names_api_full\n",
      "minimal train error: 0.152019002375 corresponding test error: 0.142364106989\n",
      "params for lowest train error: {'api_confidence': 0.57850000000000001}\n",
      "minimal train error: 0.148316062176 corresponding test error: 0.157167530225\n",
      "params for lowest train error: {'api_confidence': 0.57850000000000001}\n",
      "minimal train error: 0.148316062176 corresponding test error: 0.157167530225\n",
      "params for lowest train error: {'api_confidence': 0.57850000000000001}\n",
      "minimal train error: 0.149827288428 corresponding test error: 0.151122625216\n",
      "params for lowest train error: {'api_confidence': 0.57850000000000001}\n",
      "minimal train error: 0.151953377941 corresponding test error: 0.14261019879\n",
      "params for lowest train error: {'api_confidence': 0.57850000000000001}\n",
      "Average test error: 0.150086398289\n",
      "namsor\n",
      "minimal train error: 0.0913409630749 corresponding test error: 0.0802415875755\n",
      "params for lowest train error: {'api_scale': 0.109}\n",
      "minimal train error: 0.0900259067358 corresponding test error: 0.0854922279793\n",
      "params for lowest train error: {'api_scale': 0.109}\n",
      "minimal train error: 0.0867875647668 corresponding test error: 0.0984455958549\n",
      "params for lowest train error: {'api_scale': 0.109}\n",
      "minimal train error: 0.088298791019 corresponding test error: 0.0924006908463\n",
      "params for lowest train error: {'api_scale': 0.109}\n",
      "minimal train error: 0.0891431038204 corresponding test error: 0.0890233362143\n",
      "params for lowest train error: {'api_scale': 0.109}\n",
      "Average test error: 0.0891206876941\n",
      "gender_guesser\n",
      "minimal train error: 0.201684301447 corresponding test error: 0.199309749784\n",
      "params for lowest train error: {'confidence': 0.749}\n",
      "minimal train error: 0.201856649396 corresponding test error: 0.198618307427\n",
      "params for lowest train error: {'confidence': 0.749}\n",
      "minimal train error: 0.197322970639 corresponding test error: 0.216753022453\n",
      "params for lowest train error: {'confidence': 0.749}\n",
      "minimal train error: 0.199050086356 corresponding test error: 0.209844559585\n",
      "params for lowest train error: {'confidence': 0.749}\n",
      "minimal train error: 0.206129937406 corresponding test error: 0.181503889369\n",
      "params for lowest train error: {'confidence': 0.749}\n",
      "Average test error: 0.201205905724\n",
      "genderize_io\n",
      "minimal train error: 0.0956596847333 corresponding test error: 0.103537532355\n",
      "params for lowest train error: {'api_count': 39.0, 'api_probability': 0}\n",
      "minimal train error: 0.097366148532 corresponding test error: 0.0967184801382\n",
      "params for lowest train error: {'api_count': 39.0, 'api_probability': 0}\n",
      "minimal train error: 0.0945595854922 corresponding test error: 0.107944732297\n",
      "params for lowest train error: {'api_count': 39.0, 'api_probability': 0}\n",
      "minimal train error: 0.0993091537133 corresponding test error: 0.0889464594128\n",
      "params for lowest train error: {'api_count': 39.0, 'api_probability': 0}\n",
      "minimal train error: 0.0992877185409 corresponding test error: 0.0890233362143\n",
      "params for lowest train error: {'api_count': 39.0, 'api_probability': 0}\n",
      "Average test error: 0.0972341080836\n"
     ]
    }
   ],
   "source": [
    "error_unknown = tune(Evaluator.compute_error_unknown, grid_20)"
   ]
  },
  {
   "cell_type": "markdown",
   "metadata": {},
   "source": [
    "**Best result is achieved by `gender_api` with an average test error 0.0300509278656. Second best is `namsor` with 0.0891206876941. All services achieve their best result at or near the left boundary of the parameter grid.**"
   ]
  },
  {
   "cell_type": "markdown",
   "metadata": {},
   "source": [
    "## Weighted error\n",
    "\n",
    "This is a version of `error_with_unknown` where we put a weight of 0.2 on the names with true gender being 'f' or 'm' but classified as 'unknown'."
   ]
  },
  {
   "cell_type": "code",
   "execution_count": 21,
   "metadata": {},
   "outputs": [
    {
     "name": "stdout",
     "output_type": "stream",
     "text": [
      "gender_api\n",
      "minimal train error: 0.0526142096082 corresponding test error: 0.0514200853908\n",
      "params for lowest train error: {'api_accuracy': 75.0, 'api_samples': 121922.0}\n",
      "minimal train error: 0.0532586174421 corresponding test error: 0.0488623647893\n",
      "params for lowest train error: {'api_accuracy': 75.0, 'api_samples': 121922.0}\n",
      "minimal train error: 0.0512471867967 corresponding test error: 0.0569259962049\n",
      "params for lowest train error: {'api_accuracy': 75.0, 'api_samples': 121922.0}\n",
      "minimal train error: 0.0515299418059 corresponding test error: 0.0557655954631\n",
      "params for lowest train error: {'api_accuracy': 75.0, 'api_samples': 121922.0}\n",
      "minimal train error: 0.0532169505843 corresponding test error: 0.048969559463\n",
      "params for lowest train error: {'api_accuracy': 75.0, 'api_samples': 121922.0}\n",
      "Average test error: 0.0523887202622\n",
      "gender_api_full\n",
      "minimal train error: 0.0958408679928 corresponding test error: 0.0950639853748\n",
      "params for lowest train error: {'api_accuracy': 72.0, 'api_samples': 83764.199999999997}\n",
      "minimal train error: 0.0962855919503 corresponding test error: 0.0927679724494\n",
      "params for lowest train error: {'api_accuracy': 81.0, 'api_samples': 104026.0}\n",
      "minimal train error: 0.0937821171634 corresponding test error: 0.103362391034\n",
      "params for lowest train error: {'api_accuracy': 72.0, 'api_samples': 83764.199999999997}\n",
      "minimal train error: 0.0959893048128 corresponding test error: 0.0939524838013\n",
      "params for lowest train error: {'api_accuracy': 81.0, 'api_samples': 104026.0}\n",
      "minimal train error: 0.0956051603233 corresponding test error: 0.0955044095504\n",
      "params for lowest train error: {'api_accuracy': 81.0, 'api_samples': 104026.0}\n",
      "Average test error: 0.0961302484419\n",
      "names_api\n",
      "minimal train error: 0.0962737720971 corresponding test error: 0.0889873162875\n",
      "params for lowest train error: {'api_confidence': 0.43099999999999999}\n",
      "minimal train error: 0.094262295082 corresponding test error: 0.0969072164948\n",
      "params for lowest train error: {'api_confidence': 0.43099999999999999}\n",
      "minimal train error: 0.094659696597 corresponding test error: 0.0953067105805\n",
      "params for lowest train error: {'api_confidence': 0.43099999999999999}\n",
      "minimal train error: 0.093609176567 corresponding test error: 0.0995456422966\n",
      "params for lowest train error: {'api_confidence': 0.43099999999999999}\n",
      "minimal train error: 0.0951478198494 corresponding test error: 0.0933443230991\n",
      "params for lowest train error: {'api_confidence': 0.43099999999999999}\n",
      "Average test error: 0.0948182417517\n",
      "names_api_full\n",
      "minimal train error: 0.0768966025862 corresponding test error: 0.0720545277507\n",
      "params for lowest train error: {'api_confidence': 0.57850000000000001}\n",
      "minimal train error: 0.0750538898687 corresponding test error: 0.079415250889\n",
      "params for lowest train error: {'api_confidence': 0.57850000000000001}\n",
      "minimal train error: 0.0760337056633 corresponding test error: 0.0754642433821\n",
      "params for lowest train error: {'api_confidence': 0.57850000000000001}\n",
      "minimal train error: 0.0757456828885 corresponding test error: 0.0766208251473\n",
      "params for lowest train error: {'api_confidence': 0.57850000000000001}\n",
      "minimal train error: 0.0758759644209 corresponding test error: 0.0760975609756\n",
      "params for lowest train error: {'api_confidence': 0.57850000000000001}\n",
      "Average test error: 0.0759304816289\n",
      "namsor\n",
      "minimal train error: 0.0638983784824 corresponding test error: 0.0627991575723\n",
      "params for lowest train error: {'api_scale': 0.38}\n",
      "minimal train error: 0.0637019230769 corresponding test error: 0.0635804840569\n",
      "params for lowest train error: {'api_scale': 0.38}\n",
      "minimal train error: 0.0626798388644 corresponding test error: 0.0677143965852\n",
      "params for lowest train error: {'api_scale': 0.38}\n",
      "minimal train error: 0.0630409694172 corresponding test error: 0.0662188099808\n",
      "params for lowest train error: {'api_scale': 0.38}\n",
      "minimal train error: 0.0650007364132 corresponding test error: 0.0597453476983\n",
      "params for lowest train error: {'api_scale': 0.5}\n",
      "Average test error: 0.0640116391787\n",
      "gender_guesser\n",
      "minimal train error: 0.0820845563623 corresponding test error: 0.0792445083145\n",
      "params for lowest train error: {'confidence': 0.749}\n",
      "minimal train error: 0.0805870236869 corresponding test error: 0.0852156057495\n",
      "params for lowest train error: {'confidence': 0.749}\n",
      "minimal train error: 0.0799323215751 corresponding test error: 0.0879648976181\n",
      "params for lowest train error: {'confidence': 0.749}\n",
      "minimal train error: 0.0807313064914 corresponding test error: 0.0846824408468\n",
      "params for lowest train error: {'confidence': 0.749}\n",
      "minimal train error: 0.0842594985784 corresponding test error: 0.0707785642063\n",
      "params for lowest train error: {'confidence': 0.749}\n",
      "Average test error: 0.081577203347\n",
      "genderize_io\n",
      "minimal train error: 0.0709131624782 corresponding test error: 0.0660209527575\n",
      "params for lowest train error: {'api_count': 3508.0, 'api_probability': 0.76000000000000001}\n",
      "minimal train error: 0.070212977707 corresponding test error: 0.0688018979834\n",
      "params for lowest train error: {'api_count': 3508.0, 'api_probability': 0.76000000000000001}\n",
      "minimal train error: 0.0686274509804 corresponding test error: 0.0752319483663\n",
      "params for lowest train error: {'api_count': 3508.0, 'api_probability': 0.76000000000000001}\n",
      "minimal train error: 0.0691331085102 corresponding test error: 0.0731462925852\n",
      "params for lowest train error: {'api_count': 3508.0, 'api_probability': 0.76000000000000001}\n",
      "minimal train error: 0.0707568293775 corresponding test error: 0.0680792623112\n",
      "params for lowest train error: {'api_count': 2010.0, 'api_probability': 0.76000000000000001}\n",
      "Average test error: 0.0702560708007\n"
     ]
    }
   ],
   "source": [
    "weighted_error = tune(Evaluator.compute_weighted_error, grid_20)"
   ]
  },
  {
   "cell_type": "markdown",
   "metadata": {},
   "source": [
    "**Best result is achieved by `gender_api` with an average test error 0.0523887202622. Second best is `namsor` with 0.0640116391787. Several other services follow with very low errors as well.** \n"
   ]
  },
  {
   "cell_type": "markdown",
   "metadata": {},
   "source": [
    "## Minimize `error_with_unknown` with a constraint on the maximal value of `error_without_unknown`"
   ]
  },
  {
   "cell_type": "code",
   "execution_count": 22,
   "metadata": {},
   "outputs": [
    {
     "name": "stdout",
     "output_type": "stream",
     "text": [
      "gender_api\n",
      "minimal train error: 0.0902612826603 corresponding test error: 0.0871440897325\n",
      "params for lowest train error: {'api_accuracy': 64.0, 'api_samples': 82.0}\n",
      "minimal train error: 0.0949913644214 corresponding test error: 0.0915371329879\n",
      "params for lowest train error: {'api_accuracy': 64.0, 'api_samples': 1208.0}\n",
      "minimal train error: 0.0993091537133 corresponding test error: 0.105354058722\n",
      "params for lowest train error: {'api_accuracy': 64.0, 'api_samples': 4788.0}\n",
      "minimal train error: 0.0990932642487 corresponding test error: 0.10621761658\n",
      "params for lowest train error: {'api_accuracy': 64.0, 'api_samples': 4788.0}\n",
      "minimal train error: 0.102741204403 corresponding test error: 0.100259291271\n",
      "params for lowest train error: {'api_accuracy': 64.0, 'api_samples': 10383.0}\n",
      "Average test error: 0.0981024378586\n",
      "gender_api_full\n",
      "minimal train error: 0.256748002591 corresponding test error: 0.243313201035\n",
      "params for lowest train error: {'api_accuracy': 81.0, 'api_samples': 3415.8000000000002}\n",
      "minimal train error: 0.23683074266 corresponding test error: 0.236614853195\n",
      "params for lowest train error: {'api_accuracy': 72.0, 'api_samples': 8399.0}\n",
      "minimal train error: 0.256044905009 corresponding test error: 0.266839378238\n",
      "params for lowest train error: {'api_accuracy': 81.0, 'api_samples': 5041.0}\n",
      "minimal train error: 0.241580310881 corresponding test error: 0.241796200345\n",
      "params for lowest train error: {'api_accuracy': 72.0, 'api_samples': 59951.0}\n",
      "minimal train error: 0.241959853227 corresponding test error: 0.240276577355\n",
      "params for lowest train error: {'api_accuracy': 72.0, 'api_samples': 59951.0}\n",
      "Average test error: 0.245768042034\n",
      "names_api\n",
      "minimal train error: 0.242712157201 corresponding test error: 0.219154443486\n",
      "params for lowest train error: {'api_confidence': 0.43099999999999999}\n",
      "minimal train error: 0.303756476684 corresponding test error: 0.309153713299\n",
      "params for lowest train error: {'api_confidence': 0.85199999999999998}\n",
      "minimal train error: 0.237262521589 corresponding test error: 0.240932642487\n",
      "params for lowest train error: {'api_confidence': 0.43099999999999999}\n",
      "minimal train error: 0.300518134715 corresponding test error: 0.322107081174\n",
      "params for lowest train error: {'api_confidence': 0.85199999999999998}\n",
      "minimal train error: 0.237642995899 corresponding test error: 0.23941227312\n",
      "params for lowest train error: {'api_confidence': 0.43099999999999999}\n",
      "Average test error: 0.266152030713\n",
      "names_api_full\n",
      "minimal train error: 0.189160008637 corresponding test error: 0.177739430544\n",
      "params for lowest train error: {'api_confidence': 0.57850000000000001}\n",
      "minimal train error: 0.184801381693 corresponding test error: 0.195164075993\n",
      "params for lowest train error: {'api_confidence': 0.57850000000000001}\n",
      "minimal train error: 0.185664939551 corresponding test error: 0.19170984456\n",
      "params for lowest train error: {'api_confidence': 0.57850000000000001}\n",
      "minimal train error: 0.186528497409 corresponding test error: 0.188255613126\n",
      "params for lowest train error: {'api_confidence': 0.57850000000000001}\n",
      "minimal train error: 0.188214979495 corresponding test error: 0.181503889369\n",
      "params for lowest train error: {'api_confidence': 0.57850000000000001}\n",
      "Average test error: 0.186874570718\n",
      "namsor\n",
      "minimal train error: 0.15979270136 corresponding test error: 0.155306298533\n",
      "params for lowest train error: {'api_scale': 0.38}\n",
      "minimal train error: 0.159110535406 corresponding test error: 0.158031088083\n",
      "params for lowest train error: {'api_scale': 0.38}\n",
      "minimal train error: 0.156088082902 corresponding test error: 0.1701208981\n",
      "params for lowest train error: {'api_scale': 0.38}\n",
      "minimal train error: 0.158678756477 corresponding test error: 0.1597582038\n",
      "params for lowest train error: {'api_scale': 0.38}\n",
      "minimal train error: 0.137707748759 corresponding test error: 0.128781331029\n",
      "params for lowest train error: {'api_scale': 0.109}\n",
      "Average test error: 0.154399563909\n",
      "gender_guesser\n",
      "minimal train error: 0.230187864392 corresponding test error: 0.226056945643\n",
      "params for lowest train error: {'confidence': 0.749}\n",
      "minimal train error: 0.229058721934 corresponding test error: 0.230569948187\n",
      "params for lowest train error: {'confidence': 0.749}\n",
      "minimal train error: 0.225172711572 corresponding test error: 0.246113989637\n",
      "params for lowest train error: {'confidence': 0.749}\n",
      "minimal train error: 0.227115716753 corresponding test error: 0.238341968912\n",
      "params for lowest train error: {'confidence': 0.749}\n",
      "minimal train error: 0.235268724369 corresponding test error: 0.205704407952\n",
      "params for lowest train error: {'confidence': 0.749}\n",
      "Average test error: 0.229357452066\n",
      "genderize_io\n",
      "minimal train error: 0.15461023537 corresponding test error: 0.150992234685\n",
      "params for lowest train error: {'api_count': 24.0, 'api_probability': 0.60999999999999999}\n",
      "minimal train error: 0.155008635579 corresponding test error: 0.153713298791\n",
      "params for lowest train error: {'api_count': 39.0, 'api_probability': 0.60999999999999999}\n",
      "minimal train error: 0.157383419689 corresponding test error: 0.170984455959\n",
      "params for lowest train error: {'api_count': 845.20000000000005, 'api_probability': 0.60999999999999999}\n",
      "minimal train error: 0.168393782383 corresponding test error: 0.177892918826\n",
      "params for lowest train error: {'api_count': 94.150000000000006, 'api_probability': 0.76000000000000001}\n",
      "minimal train error: 0.162313835528 corresponding test error: 0.151253241141\n",
      "params for lowest train error: {'api_count': 398.0, 'api_probability': 0.60999999999999999}\n",
      "Average test error: 0.16096722988\n"
     ]
    }
   ],
   "source": [
    "constraint_error = tune(error_func=Evaluator.compute_error_with_unknown, grids=grid_20, \n",
    "                      constraint_func=Evaluator.compute_error_without_unknown, constraint_val=0.05)"
   ]
  },
  {
   "cell_type": "markdown",
   "metadata": {},
   "source": [
    "**Best result is achieved by `gender_api` with an average test error 0.0981024378586. Second best is `namsor` with 0.154399563909.** \n"
   ]
  },
  {
   "cell_type": "markdown",
   "metadata": {},
   "source": [
    "---------------------"
   ]
  },
  {
   "cell_type": "markdown",
   "metadata": {},
   "source": [
    "## TODO: Compute best parameter values for entire dataset"
   ]
  },
  {
   "cell_type": "code",
   "execution_count": 23,
   "metadata": {},
   "outputs": [],
   "source": [
    "# TODO: fix this function. it should iterate through errors instead of evaluators. ANd return DataFrame.\n",
    "def find_best_params_per_service(error_func, grids):\n",
    "    service_to_error = {} # this is a stupid name but don't want to overwrite above\n",
    "    for s in REGISTERED_EVALUATORS:  \n",
    "        evaluator = s('all')\n",
    "        evaluator_name = evaluator.gender_evaluator\n",
    "        print(evaluator_name)\n",
    "\n",
    "        evaluator = prepare_for_tuning(evaluator)\n",
    "\n",
    "        grid_range = grids[evaluator_name]\n",
    "        grid = evaluator.build_parameter_grid(*grid_range)\n",
    "        index = evaluator.test_data.index\n",
    "\n",
    "        error = evaluator.compute_error_for_param_grid(param_grid=grid, error_func=error_func, index=index)\n",
    "        service_to_error[evaluator_name] = error\n",
    "    return service_to_error"
   ]
  },
  {
   "cell_type": "markdown",
   "metadata": {},
   "source": [
    "## TODO: have a closer look into the wrong classifications"
   ]
  },
  {
   "cell_type": "code",
   "execution_count": null,
   "metadata": {},
   "outputs": [],
   "source": []
  }
 ],
 "metadata": {
  "kernelspec": {
   "display_name": "Python 3",
   "language": "python",
   "name": "python3"
  },
  "language_info": {
   "codemirror_mode": {
    "name": "ipython",
    "version": 3
   },
   "file_extension": ".py",
   "mimetype": "text/x-python",
   "name": "python",
   "nbconvert_exporter": "python",
   "pygments_lexer": "ipython3",
   "version": "3.5.1"
  }
 },
 "nbformat": 4,
 "nbformat_minor": 2
}
