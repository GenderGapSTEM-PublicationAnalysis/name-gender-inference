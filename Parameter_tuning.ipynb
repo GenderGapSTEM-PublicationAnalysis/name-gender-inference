{
 "cells": [
  {
   "cell_type": "markdown",
   "metadata": {},
   "source": [
    "Idea for tuning:\n",
    "\n",
    "need to specify which metrics need to be computed, which one needs to be minimized, and how large k is\n",
    "\n",
    "* build k splits into train and test data\n",
    "* for each train-test-split:\n",
    "    * build a parameter grid using cls.tuning_params. (For each class we have to find out what a good grid would be.)\n",
    "    * for each combination in the grid: \n",
    "        * translate api-response into f,m,u and store in the column gender_infered (GOT THIS FAR!!!)\n",
    "        * compute all provided metrics on the resulting test_data DF restricted to training data\n",
    "        * store relation grid-point:metrics\n",
    "    * select grid_point which minimizes specified metric and compute all provided metrics on test set\n",
    "    * store the metrics on test set\n",
    "* compute average of metrics on all test sets for all metrics"
   ]
  },
  {
   "cell_type": "code",
   "execution_count": 1,
   "metadata": {},
   "outputs": [],
   "source": [
    "from sklearn.model_selection import train_test_split, KFold, StratifiedKFold\n",
    "from evaluators import *\n",
    "from evaluator import *\n",
    "from itertools import product\n",
    "from collections import OrderedDict\n",
    "import numpy as np"
   ]
  },
  {
   "cell_type": "code",
   "execution_count": 2,
   "metadata": {},
   "outputs": [],
   "source": [
    "data_source = 'all'\n",
    "service_name = GenderizeIoEvaluator\n",
    "evaluator = service_name(data_source)"
   ]
  },
  {
   "cell_type": "code",
   "execution_count": 3,
   "metadata": {},
   "outputs": [],
   "source": [
    "evaluator.load_data(evaluated=True)"
   ]
  },
  {
   "cell_type": "code",
   "execution_count": 4,
   "metadata": {},
   "outputs": [
    {
     "data": {
      "text/html": [
       "<div>\n",
       "<style scoped>\n",
       "    .dataframe tbody tr th:only-of-type {\n",
       "        vertical-align: middle;\n",
       "    }\n",
       "\n",
       "    .dataframe tbody tr th {\n",
       "        vertical-align: top;\n",
       "    }\n",
       "\n",
       "    .dataframe thead th {\n",
       "        text-align: right;\n",
       "    }\n",
       "</style>\n",
       "<table border=\"1\" class=\"dataframe\">\n",
       "  <thead>\n",
       "    <tr style=\"text-align: right;\">\n",
       "      <th></th>\n",
       "      <th>first_name</th>\n",
       "      <th>middle_name</th>\n",
       "      <th>last_name</th>\n",
       "      <th>full_name</th>\n",
       "      <th>gender</th>\n",
       "      <th>origin</th>\n",
       "      <th>api_count</th>\n",
       "      <th>api_gender</th>\n",
       "      <th>api_name</th>\n",
       "      <th>api_probability</th>\n",
       "      <th>gender_infered</th>\n",
       "    </tr>\n",
       "  </thead>\n",
       "  <tbody>\n",
       "    <tr>\n",
       "      <th>0</th>\n",
       "      <td>pierre</td>\n",
       "      <td>paul</td>\n",
       "      <td>grivel</td>\n",
       "      <td>pierre paul grivel</td>\n",
       "      <td>m</td>\n",
       "      <td>zbmath</td>\n",
       "      <td>5.0</td>\n",
       "      <td>male</td>\n",
       "      <td>pierre-paul</td>\n",
       "      <td>1.0</td>\n",
       "      <td>m</td>\n",
       "    </tr>\n",
       "    <tr>\n",
       "      <th>1</th>\n",
       "      <td>raul</td>\n",
       "      <td></td>\n",
       "      <td>serapioni</td>\n",
       "      <td>raul serapioni</td>\n",
       "      <td>m</td>\n",
       "      <td>zbmath</td>\n",
       "      <td>821.0</td>\n",
       "      <td>male</td>\n",
       "      <td>raul</td>\n",
       "      <td>1.0</td>\n",
       "      <td>m</td>\n",
       "    </tr>\n",
       "    <tr>\n",
       "      <th>2</th>\n",
       "      <td>adriano</td>\n",
       "      <td></td>\n",
       "      <td>moura</td>\n",
       "      <td>adriano moura</td>\n",
       "      <td>m</td>\n",
       "      <td>zbmath</td>\n",
       "      <td>166.0</td>\n",
       "      <td>male</td>\n",
       "      <td>adriano</td>\n",
       "      <td>0.99</td>\n",
       "      <td>m</td>\n",
       "    </tr>\n",
       "    <tr>\n",
       "      <th>3</th>\n",
       "      <td>ralf</td>\n",
       "      <td></td>\n",
       "      <td>kieser</td>\n",
       "      <td>ralf kieser</td>\n",
       "      <td>m</td>\n",
       "      <td>zbmath</td>\n",
       "      <td>86.0</td>\n",
       "      <td>male</td>\n",
       "      <td>ralf</td>\n",
       "      <td>1.0</td>\n",
       "      <td>m</td>\n",
       "    </tr>\n",
       "    <tr>\n",
       "      <th>4</th>\n",
       "      <td>teppei</td>\n",
       "      <td></td>\n",
       "      <td>ariyoshi</td>\n",
       "      <td>teppei ariyoshi</td>\n",
       "      <td>u</td>\n",
       "      <td>zbmath</td>\n",
       "      <td></td>\n",
       "      <td></td>\n",
       "      <td>teppei</td>\n",
       "      <td></td>\n",
       "      <td>u</td>\n",
       "    </tr>\n",
       "  </tbody>\n",
       "</table>\n",
       "</div>"
      ],
      "text/plain": [
       "  first_name middle_name  last_name           full_name gender  origin  \\\n",
       "0     pierre        paul     grivel  pierre paul grivel      m  zbmath   \n",
       "1       raul              serapioni      raul serapioni      m  zbmath   \n",
       "2    adriano                  moura       adriano moura      m  zbmath   \n",
       "3       ralf                 kieser         ralf kieser      m  zbmath   \n",
       "4     teppei               ariyoshi     teppei ariyoshi      u  zbmath   \n",
       "\n",
       "  api_count api_gender     api_name api_probability gender_infered  \n",
       "0       5.0       male  pierre-paul             1.0              m  \n",
       "1     821.0       male         raul             1.0              m  \n",
       "2     166.0       male      adriano            0.99              m  \n",
       "3      86.0       male         ralf             1.0              m  \n",
       "4                            teppei                              u  "
      ]
     },
     "execution_count": 4,
     "metadata": {},
     "output_type": "execute_result"
    }
   ],
   "source": [
    "evaluator.test_data.head()"
   ]
  },
  {
   "cell_type": "code",
   "execution_count": 5,
   "metadata": {},
   "outputs": [],
   "source": [
    "# we have to ignore 'u' in column 'gender'\n",
    "evaluator.remove_rows_with_unknown_gender()"
   ]
  },
  {
   "cell_type": "code",
   "execution_count": 6,
   "metadata": {},
   "outputs": [
    {
     "data": {
      "text/plain": [
       "('api_count', 'api_probability')"
      ]
     },
     "execution_count": 6,
     "metadata": {},
     "output_type": "execute_result"
    }
   ],
   "source": [
    "evaluator.tuning_params"
   ]
  },
  {
   "cell_type": "code",
   "execution_count": 7,
   "metadata": {},
   "outputs": [
    {
     "data": {
      "text/plain": [
       "[{'api_count': 1, 'api_probability': 0.5},\n",
       " {'api_count': 1, 'api_probability': 0.7},\n",
       " {'api_count': 1, 'api_probability': 0.8},\n",
       " {'api_count': 1, 'api_probability': 0.9},\n",
       " {'api_count': 10, 'api_probability': 0.5},\n",
       " {'api_count': 10, 'api_probability': 0.7},\n",
       " {'api_count': 10, 'api_probability': 0.8},\n",
       " {'api_count': 10, 'api_probability': 0.9},\n",
       " {'api_count': 50, 'api_probability': 0.5},\n",
       " {'api_count': 50, 'api_probability': 0.7},\n",
       " {'api_count': 50, 'api_probability': 0.8},\n",
       " {'api_count': 50, 'api_probability': 0.9},\n",
       " {'api_count': 100, 'api_probability': 0.5},\n",
       " {'api_count': 100, 'api_probability': 0.7},\n",
       " {'api_count': 100, 'api_probability': 0.8},\n",
       " {'api_count': 100, 'api_probability': 0.9}]"
      ]
     },
     "execution_count": 7,
     "metadata": {},
     "output_type": "execute_result"
    }
   ],
   "source": [
    "evaluator.build_parameter_grid([1,10, 50, 100], [0.5, 0.7, 0.8, 0.9])"
   ]
  },
  {
   "cell_type": "code",
   "execution_count": 17,
   "metadata": {},
   "outputs": [],
   "source": [
    "grid = evaluator.build_parameter_grid([1, 10, 20, 50, 100, 150], [0.5, 0.6, 0.7, 0.8, 0.9, 0.95])"
   ]
  },
  {
   "cell_type": "code",
   "execution_count": 9,
   "metadata": {},
   "outputs": [],
   "source": [
    "# TODO: integrate into code for this specific evaluator\n",
    "for col in evaluator.tuning_params:\n",
    "    evaluator.test_data[col] = evaluator.test_data[col].replace({'':None}) # None is coded as empty string\n",
    "    evaluator.test_data[col] = evaluator.test_data[col].astype(float)"
   ]
  },
  {
   "cell_type": "code",
   "execution_count": 18,
   "metadata": {
    "scrolled": true
   },
   "outputs": [
    {
     "name": "stdout",
     "output_type": "stream",
     "text": [
      "[   0    1    2 ..., 5787 5788 5789] [   4    5   21 ..., 5774 5779 5785]\n",
      "minimal train error: 0.0171067311268 corresponding test error: 0.024427480916\n",
      "params for lowest train error: {'api_count': 100, 'api_probability': 0.7}\n",
      "[   0    2    4 ..., 5786 5787 5789] [   1    3    6 ..., 5777 5784 5788]\n",
      "minimal train error: 0.020081814801 corresponding test error: 0.012213740458\n",
      "params for lowest train error: {'api_count': 100, 'api_probability': 0.7}\n",
      "[   0    1    2 ..., 5786 5787 5788] [   7    9   10 ..., 5776 5780 5789]\n",
      "minimal train error: 0.0194392523364 corresponding test error: 0.0149476831091\n",
      "params for lowest train error: {'api_count': 100, 'api_probability': 0.7}\n",
      "[   1    2    3 ..., 5785 5788 5789] [   0    8   16 ..., 5783 5786 5787]\n",
      "minimal train error: 0.0187969924812 corresponding test error: 0.0175438596491\n",
      "params for lowest train error: {'api_count': 100, 'api_probability': 0.7}\n",
      "[   0    1    3 ..., 5787 5788 5789] [   2   14   15 ..., 5770 5773 5781]\n",
      "minimal train error: 0.0172737514082 corresponding test error: 0.0234948604993\n",
      "params for lowest train error: {'api_count': 100, 'api_probability': 0.7}\n"
     ]
    },
    {
     "data": {
      "text/plain": [
       "0.018525524926310495"
      ]
     },
     "execution_count": 18,
     "metadata": {},
     "output_type": "execute_result"
    }
   ],
   "source": [
    "# main method!!!\n",
    "# compute predicted error\n",
    "evaluator.compute_cv_score(5, grid, evaluator.compute_error_without_unknown)"
   ]
  },
  {
   "cell_type": "code",
   "execution_count": null,
   "metadata": {},
   "outputs": [],
   "source": []
  }
 ],
 "metadata": {
  "kernelspec": {
   "display_name": "Python 3",
   "language": "python",
   "name": "python3"
  },
  "language_info": {
   "codemirror_mode": {
    "name": "ipython",
    "version": 3
   },
   "file_extension": ".py",
   "mimetype": "text/x-python",
   "name": "python",
   "nbconvert_exporter": "python",
   "pygments_lexer": "ipython3",
   "version": "3.5.1"
  }
 },
 "nbformat": 4,
 "nbformat_minor": 2
}
