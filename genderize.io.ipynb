{
 "cells": [
  {
   "cell_type": "markdown",
   "metadata": {},
   "source": [
    "# Evaluate `genderize.io` "
   ]
  },
  {
   "cell_type": "code",
   "execution_count": 2,
   "metadata": {},
   "outputs": [],
   "source": [
    "from genderize import Genderize\n",
    "import pandas as pd\n",
    "from evaluators import GenderizeIoEvaluator"
   ]
  },
  {
   "cell_type": "markdown",
   "metadata": {},
   "source": [
    "### Can it handle surnames?"
   ]
  },
  {
   "cell_type": "code",
   "execution_count": 2,
   "metadata": {},
   "outputs": [],
   "source": [
    "results = Genderize().get(['Hans Joachim Schmidt', 'Anna Meier'])"
   ]
  },
  {
   "cell_type": "code",
   "execution_count": 3,
   "metadata": {},
   "outputs": [
    {
     "name": "stdout",
     "output_type": "stream",
     "text": [
      "[{'name': 'Hans Joachim Schmidt', 'gender': None}, {'name': 'Anna Meier', 'gender': None}]\n"
     ]
    }
   ],
   "source": [
    "print(results)"
   ]
  },
  {
   "cell_type": "markdown",
   "metadata": {},
   "source": [
    "### Double names (where the order matters)"
   ]
  },
  {
   "cell_type": "code",
   "execution_count": 4,
   "metadata": {},
   "outputs": [],
   "source": [
    "results = Genderize().get(['Hans Joachim', 'Hans-Joachim', 'Maria-José', 'José Maria', 'Jose Maria', \n",
    "                           'José-Maria', 'Josémaria', 'theo c. m'])"
   ]
  },
  {
   "cell_type": "code",
   "execution_count": 5,
   "metadata": {},
   "outputs": [
    {
     "name": "stdout",
     "output_type": "stream",
     "text": [
      "{'name': 'Hans Joachim', 'gender': None}\n",
      "{'name': 'Hans-Joachim', 'probability': 1.0, 'gender': 'male', 'count': 1}\n",
      "{'name': 'Maria-José', 'probability': 1.0, 'gender': 'female', 'count': 2}\n",
      "{'name': 'José Maria', 'probability': 1.0, 'gender': 'male', 'count': 3}\n",
      "{'name': 'Jose Maria', 'probability': 0.99, 'gender': 'male', 'count': 125}\n",
      "{'name': 'José-Maria', 'gender': None}\n",
      "{'name': 'Josémaria', 'gender': None}\n",
      "{'name': 'theo c. m', 'gender': None}\n"
     ]
    }
   ],
   "source": [
    "for r in results:\n",
    "    print(r)"
   ]
  },
  {
   "cell_type": "markdown",
   "metadata": {},
   "source": [
    "The examples show that the API: \n",
    "\n",
    "* accepts double names\n",
    "* is sensitive towards non-letter characters such as '-' or ' ' (cf. `Hans Joachim` and `Hans-Joachim`)\n",
    "* works fine with non-ASCII characters (e.g. `é`)\n",
    "* is sensitive towards accents (cf. `José Maria` and `Jose Maria`)"
   ]
  },
  {
   "cell_type": "markdown",
   "metadata": {},
   "source": [
    "### Names with different gender depending on ethnicity"
   ]
  },
  {
   "cell_type": "code",
   "execution_count": 6,
   "metadata": {},
   "outputs": [],
   "source": [
    "results = Genderize().get(['Nicola', 'Andrea', 'Alex', 'Mika', 'Addison', 'Ash', 'Dakota'])"
   ]
  },
  {
   "cell_type": "code",
   "execution_count": 7,
   "metadata": {},
   "outputs": [
    {
     "name": "stdout",
     "output_type": "stream",
     "text": [
      "{'name': 'Nicola', 'probability': 0.71, 'gender': 'female', 'count': 1226}\n",
      "{'name': 'Andrea', 'probability': 0.79, 'gender': 'female', 'count': 5794}\n",
      "{'name': 'Alex', 'probability': 0.87, 'gender': 'male', 'count': 5856}\n",
      "{'name': 'Mika', 'probability': 0.51, 'gender': 'male', 'count': 182}\n",
      "{'name': 'Addison', 'probability': 0.64, 'gender': 'male', 'count': 11}\n",
      "{'name': 'Ash', 'probability': 0.56, 'gender': 'male', 'count': 243}\n",
      "{'name': 'Dakota', 'probability': 0.75, 'gender': 'male', 'count': 139}\n"
     ]
    }
   ],
   "source": [
    "for r in results:\n",
    "    print(r)"
   ]
  },
  {
   "cell_type": "markdown",
   "metadata": {},
   "source": [
    "These examples show that:\n",
    "\n",
    "* names like `Andrea` or `Nicola` where the gender is highly country-specific have a higher score than common unisex names like `Mika` or `Ash`\n",
    "* Alex is a nickname for either Alexander or Alexandra and is one of the most evenly divided gender-neutral names. Its probability value here is quite high with 0.87"
   ]
  },
  {
   "cell_type": "markdown",
   "metadata": {},
   "source": [
    "### Check for nonsense words"
   ]
  },
  {
   "cell_type": "code",
   "execution_count": 8,
   "metadata": {},
   "outputs": [],
   "source": [
    "results = Genderize().get(['the', 'a', 'with', 'an', 'I', 'my'])"
   ]
  },
  {
   "cell_type": "code",
   "execution_count": 9,
   "metadata": {},
   "outputs": [
    {
     "name": "stdout",
     "output_type": "stream",
     "text": [
      "{'name': 'the', 'probability': 1.0, 'gender': 'female', 'count': 1}\n",
      "{'name': 'a', 'probability': 0.59, 'gender': 'male', 'count': 56}\n",
      "{'name': 'with', 'gender': None}\n",
      "{'name': 'an', 'probability': 0.83, 'gender': 'female', 'count': 170}\n",
      "{'name': 'I', 'gender': None}\n",
      "{'name': 'my', 'probability': 0.73, 'gender': 'female', 'count': 44}\n"
     ]
    }
   ],
   "source": [
    "for r in results:\n",
    "    print(r)"
   ]
  },
  {
   "cell_type": "markdown",
   "metadata": {},
   "source": [
    "Not every word which gets a gender assigned is a name. This is due to the fact that such words are sometimes part of social media names, and this is what the API is based on."
   ]
  },
  {
   "cell_type": "markdown",
   "metadata": {},
   "source": [
    "### Capital letters"
   ]
  },
  {
   "cell_type": "code",
   "execution_count": 2,
   "metadata": {},
   "outputs": [],
   "source": [
    "results = Genderize().get(['pierre', 'Pierre'])"
   ]
  },
  {
   "cell_type": "code",
   "execution_count": 3,
   "metadata": {},
   "outputs": [
    {
     "name": "stdout",
     "output_type": "stream",
     "text": [
      "{'count': 852, 'name': 'pierre', 'probability': 0.99, 'gender': 'male'}\n",
      "{'count': 852, 'name': 'Pierre', 'probability': 0.99, 'gender': 'male'}\n"
     ]
    }
   ],
   "source": [
    "for r in results:\n",
    "    print(r)"
   ]
  }
 ],
 "metadata": {
  "kernelspec": {
   "display_name": "Python 3",
   "language": "python",
   "name": "python3"
  },
  "language_info": {
   "codemirror_mode": {
    "name": "ipython",
    "version": 3
   },
   "file_extension": ".py",
   "mimetype": "text/x-python",
   "name": "python",
   "nbconvert_exporter": "python",
   "pygments_lexer": "ipython3",
   "version": "3.5.1"
  }
 },
 "nbformat": 4,
 "nbformat_minor": 1
}
