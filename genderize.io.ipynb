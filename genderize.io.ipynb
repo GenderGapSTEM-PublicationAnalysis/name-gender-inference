{
 "cells": [
  {
   "cell_type": "markdown",
   "metadata": {},
   "source": [
    "# Evaluate `genderize.io` "
   ]
  },
  {
   "cell_type": "code",
   "execution_count": 1,
   "metadata": {},
   "outputs": [],
   "source": [
    "from genderize import Genderize\n",
    "import pandas as pd\n",
    "from gender_evaluator import GenderEvaluator"
   ]
  },
  {
   "cell_type": "markdown",
   "metadata": {},
   "source": [
    "### Double names (where the order matters)"
   ]
  },
  {
   "cell_type": "code",
   "execution_count": 69,
   "metadata": {},
   "outputs": [],
   "source": [
    "results = Genderize().get(['Hans Joachim', 'Hans-Joachim', 'Maria-José', 'José Maria', 'Jose Maria', \n",
    "                           'José-Maria', 'Josémaria'])"
   ]
  },
  {
   "cell_type": "code",
   "execution_count": 70,
   "metadata": {},
   "outputs": [
    {
     "name": "stdout",
     "output_type": "stream",
     "text": [
      "{'name': 'Hans Joachim', 'gender': None}\n",
      "{'name': 'Hans-Joachim', 'gender': 'male', 'probability': 1.0, 'count': 1}\n",
      "{'name': 'Maria-José', 'gender': 'female', 'probability': 1.0, 'count': 2}\n",
      "{'name': 'José Maria', 'gender': 'male', 'probability': 1.0, 'count': 3}\n",
      "{'name': 'Jose Maria', 'gender': 'male', 'probability': 0.99, 'count': 125}\n",
      "{'name': 'José-Maria', 'gender': None}\n",
      "{'name': 'Josémaria', 'gender': None}\n"
     ]
    }
   ],
   "source": [
    "for r in results:\n",
    "    print(r)"
   ]
  },
  {
   "cell_type": "markdown",
   "metadata": {},
   "source": [
    "The examples show that the API: \n",
    "\n",
    "* accepts double names\n",
    "* is sensitive towards non-letter characters such as '-' or ' ' (cf. `Hans Joachim` and `Hans-Joachim`)\n",
    "* works fine with non-ASCII characters (e.g. `é`)\n",
    "* is sensitive towards accents (cf. `José Maria` and `Jose Maria`)"
   ]
  },
  {
   "cell_type": "markdown",
   "metadata": {},
   "source": [
    "### Names with different gender depending on ethnicity"
   ]
  },
  {
   "cell_type": "code",
   "execution_count": 73,
   "metadata": {},
   "outputs": [],
   "source": [
    "results = Genderize().get(['Nicola', 'Andrea', 'Alex', 'Mika', 'Addison', 'Ash', 'Dakota'])"
   ]
  },
  {
   "cell_type": "code",
   "execution_count": 74,
   "metadata": {},
   "outputs": [
    {
     "name": "stdout",
     "output_type": "stream",
     "text": [
      "{'name': 'Nicola', 'gender': 'female', 'probability': 0.71, 'count': 1226}\n",
      "{'name': 'Andrea', 'gender': 'female', 'probability': 0.79, 'count': 5794}\n",
      "{'name': 'Alex', 'gender': 'male', 'probability': 0.87, 'count': 5856}\n",
      "{'name': 'Mika', 'gender': 'male', 'probability': 0.51, 'count': 182}\n",
      "{'name': 'Addison', 'gender': 'male', 'probability': 0.64, 'count': 11}\n",
      "{'name': 'Ash', 'gender': 'male', 'probability': 0.56, 'count': 243}\n",
      "{'name': 'Dakota', 'gender': 'male', 'probability': 0.75, 'count': 139}\n"
     ]
    }
   ],
   "source": [
    "for r in results:\n",
    "    print(r)"
   ]
  },
  {
   "cell_type": "markdown",
   "metadata": {},
   "source": [
    "These examples show that:\n",
    "\n",
    "* names like `Andrea` or `Nicola` where the gender is highly country-specific have a higher score than common unisex names like `Mika` or `Ash`\n",
    "* Alex is a nickname for either Alexander or Alexandra and is one of the most evenly divided gender-neutral names. Its probability value here is quite high with 0.87"
   ]
  },
  {
   "cell_type": "markdown",
   "metadata": {},
   "source": [
    "### Check for nonsense words"
   ]
  },
  {
   "cell_type": "code",
   "execution_count": 88,
   "metadata": {},
   "outputs": [],
   "source": [
    "results = Genderize().get(['the', 'a', 'with', 'an', 'I', 'my'])"
   ]
  },
  {
   "cell_type": "code",
   "execution_count": 89,
   "metadata": {},
   "outputs": [
    {
     "name": "stdout",
     "output_type": "stream",
     "text": [
      "{'name': 'the', 'gender': 'female', 'probability': 1.0, 'count': 1}\n",
      "{'name': 'a', 'gender': 'male', 'probability': 0.59, 'count': 56}\n",
      "{'name': 'with', 'gender': None}\n",
      "{'name': 'an', 'gender': 'female', 'probability': 0.83, 'count': 170}\n",
      "{'name': 'I', 'gender': None}\n",
      "{'name': 'my', 'gender': 'female', 'probability': 0.73, 'count': 44}\n"
     ]
    }
   ],
   "source": [
    "for r in results:\n",
    "    print(r)"
   ]
  },
  {
   "cell_type": "markdown",
   "metadata": {},
   "source": [
    "Not every word which gets a gender assigned is a name. This is due to the fact that such words are sometimes part of social media names, and this is what the API is based on."
   ]
  },
  {
   "cell_type": "markdown",
   "metadata": {},
   "source": [
    "## Test on zbMATH data"
   ]
  },
  {
   "cell_type": "code",
   "execution_count": 4,
   "metadata": {},
   "outputs": [],
   "source": [
    "zbmath = GenderEvaluator(\"test_data/test_data_zbmath.csv\")\n",
    "zbmath.load_data()\n",
    "zbmath.check_data_columns()"
   ]
  },
  {
   "cell_type": "code",
   "execution_count": 5,
   "metadata": {},
   "outputs": [
    {
     "data": {
      "text/html": [
       "<div>\n",
       "<style scoped>\n",
       "    .dataframe tbody tr th:only-of-type {\n",
       "        vertical-align: middle;\n",
       "    }\n",
       "\n",
       "    .dataframe tbody tr th {\n",
       "        vertical-align: top;\n",
       "    }\n",
       "\n",
       "    .dataframe thead th {\n",
       "        text-align: right;\n",
       "    }\n",
       "</style>\n",
       "<table border=\"1\" class=\"dataframe\">\n",
       "  <thead>\n",
       "    <tr style=\"text-align: right;\">\n",
       "      <th></th>\n",
       "      <th>first_name</th>\n",
       "      <th>middle_name</th>\n",
       "      <th>last_name</th>\n",
       "      <th>gender</th>\n",
       "    </tr>\n",
       "  </thead>\n",
       "  <tbody>\n",
       "    <tr>\n",
       "      <th>0</th>\n",
       "      <td>ben</td>\n",
       "      <td>da</td>\n",
       "      <td>zhou</td>\n",
       "      <td>u</td>\n",
       "    </tr>\n",
       "    <tr>\n",
       "      <th>1</th>\n",
       "      <td>agnese</td>\n",
       "      <td>NaN</td>\n",
       "      <td>di-castro</td>\n",
       "      <td>f</td>\n",
       "    </tr>\n",
       "    <tr>\n",
       "      <th>2</th>\n",
       "      <td>michael</td>\n",
       "      <td>NaN</td>\n",
       "      <td>szarek</td>\n",
       "      <td>m</td>\n",
       "    </tr>\n",
       "    <tr>\n",
       "      <th>3</th>\n",
       "      <td>yumiko</td>\n",
       "      <td>NaN</td>\n",
       "      <td>watanabe</td>\n",
       "      <td>f</td>\n",
       "    </tr>\n",
       "    <tr>\n",
       "      <th>4</th>\n",
       "      <td>shaoqing</td>\n",
       "      <td>NaN</td>\n",
       "      <td>liu</td>\n",
       "      <td>m</td>\n",
       "    </tr>\n",
       "  </tbody>\n",
       "</table>\n",
       "</div>"
      ],
      "text/plain": [
       "  first_name middle_name  last_name gender\n",
       "0        ben          da       zhou      u\n",
       "1     agnese         NaN  di-castro      f\n",
       "2    michael         NaN     szarek      m\n",
       "3     yumiko         NaN   watanabe      f\n",
       "4   shaoqing         NaN        liu      m"
      ]
     },
     "execution_count": 5,
     "metadata": {},
     "output_type": "execute_result"
    }
   ],
   "source": [
    "zbmath.test_data.head()"
   ]
  },
  {
   "cell_type": "code",
   "execution_count": 9,
   "metadata": {},
   "outputs": [],
   "source": [
    "zbmath.fetch_gender_from_genderizeio()"
   ]
  },
  {
   "cell_type": "code",
   "execution_count": 10,
   "metadata": {},
   "outputs": [
    {
     "data": {
      "text/html": [
       "<div>\n",
       "<style scoped>\n",
       "    .dataframe tbody tr th:only-of-type {\n",
       "        vertical-align: middle;\n",
       "    }\n",
       "\n",
       "    .dataframe tbody tr th {\n",
       "        vertical-align: top;\n",
       "    }\n",
       "\n",
       "    .dataframe thead th {\n",
       "        text-align: right;\n",
       "    }\n",
       "</style>\n",
       "<table border=\"1\" class=\"dataframe\">\n",
       "  <thead>\n",
       "    <tr style=\"text-align: right;\">\n",
       "      <th></th>\n",
       "      <th>first_name</th>\n",
       "      <th>middle_name</th>\n",
       "      <th>last_name</th>\n",
       "      <th>gender</th>\n",
       "      <th>count</th>\n",
       "      <th>gender_infered</th>\n",
       "      <th>probability</th>\n",
       "    </tr>\n",
       "  </thead>\n",
       "  <tbody>\n",
       "    <tr>\n",
       "      <th>0</th>\n",
       "      <td>ben</td>\n",
       "      <td>da</td>\n",
       "      <td>zhou</td>\n",
       "      <td>u</td>\n",
       "      <td>3363.0</td>\n",
       "      <td>m</td>\n",
       "      <td>0.99</td>\n",
       "    </tr>\n",
       "    <tr>\n",
       "      <th>1</th>\n",
       "      <td>agnese</td>\n",
       "      <td>NaN</td>\n",
       "      <td>di-castro</td>\n",
       "      <td>f</td>\n",
       "      <td>33.0</td>\n",
       "      <td>f</td>\n",
       "      <td>1.00</td>\n",
       "    </tr>\n",
       "    <tr>\n",
       "      <th>2</th>\n",
       "      <td>michael</td>\n",
       "      <td>NaN</td>\n",
       "      <td>szarek</td>\n",
       "      <td>m</td>\n",
       "      <td>11094.0</td>\n",
       "      <td>m</td>\n",
       "      <td>1.00</td>\n",
       "    </tr>\n",
       "    <tr>\n",
       "      <th>3</th>\n",
       "      <td>michael</td>\n",
       "      <td>NaN</td>\n",
       "      <td>szarek</td>\n",
       "      <td>m</td>\n",
       "      <td>11094.0</td>\n",
       "      <td>m</td>\n",
       "      <td>1.00</td>\n",
       "    </tr>\n",
       "    <tr>\n",
       "      <th>4</th>\n",
       "      <td>michael</td>\n",
       "      <td>p</td>\n",
       "      <td>robertson</td>\n",
       "      <td>u</td>\n",
       "      <td>11094.0</td>\n",
       "      <td>m</td>\n",
       "      <td>1.00</td>\n",
       "    </tr>\n",
       "  </tbody>\n",
       "</table>\n",
       "</div>"
      ],
      "text/plain": [
       "  first_name middle_name  last_name gender    count gender_infered  \\\n",
       "0        ben          da       zhou      u   3363.0              m   \n",
       "1     agnese         NaN  di-castro      f     33.0              f   \n",
       "2    michael         NaN     szarek      m  11094.0              m   \n",
       "3    michael         NaN     szarek      m  11094.0              m   \n",
       "4    michael           p  robertson      u  11094.0              m   \n",
       "\n",
       "   probability  \n",
       "0         0.99  \n",
       "1         1.00  \n",
       "2         1.00  \n",
       "3         1.00  \n",
       "4         1.00  "
      ]
     },
     "execution_count": 10,
     "metadata": {},
     "output_type": "execute_result"
    }
   ],
   "source": [
    "zbmath.test_data.head()"
   ]
  },
  {
   "cell_type": "markdown",
   "metadata": {},
   "source": [
    "## Compute metrics"
   ]
  },
  {
   "cell_type": "code",
   "execution_count": 11,
   "metadata": {},
   "outputs": [],
   "source": [
    "zbmath.compute_confusion_matrix()"
   ]
  },
  {
   "cell_type": "code",
   "execution_count": 12,
   "metadata": {},
   "outputs": [
    {
     "data": {
      "text/html": [
       "<div>\n",
       "<style scoped>\n",
       "    .dataframe tbody tr th:only-of-type {\n",
       "        vertical-align: middle;\n",
       "    }\n",
       "\n",
       "    .dataframe tbody tr th {\n",
       "        vertical-align: top;\n",
       "    }\n",
       "\n",
       "    .dataframe thead th {\n",
       "        text-align: right;\n",
       "    }\n",
       "</style>\n",
       "<table border=\"1\" class=\"dataframe\">\n",
       "  <thead>\n",
       "    <tr style=\"text-align: right;\">\n",
       "      <th></th>\n",
       "      <th>f_pred</th>\n",
       "      <th>m_pred</th>\n",
       "      <th>u_pred</th>\n",
       "    </tr>\n",
       "  </thead>\n",
       "  <tbody>\n",
       "    <tr>\n",
       "      <th>f</th>\n",
       "      <td>9</td>\n",
       "      <td>0</td>\n",
       "      <td>2</td>\n",
       "    </tr>\n",
       "    <tr>\n",
       "      <th>m</th>\n",
       "      <td>1</td>\n",
       "      <td>53</td>\n",
       "      <td>9</td>\n",
       "    </tr>\n",
       "    <tr>\n",
       "      <th>u</th>\n",
       "      <td>5</td>\n",
       "      <td>13</td>\n",
       "      <td>16</td>\n",
       "    </tr>\n",
       "  </tbody>\n",
       "</table>\n",
       "</div>"
      ],
      "text/plain": [
       "   f_pred  m_pred  u_pred\n",
       "f       9       0       2\n",
       "m       1      53       9\n",
       "u       5      13      16"
      ]
     },
     "execution_count": 12,
     "metadata": {},
     "output_type": "execute_result"
    }
   ],
   "source": [
    "zbmath.confusion_matrix"
   ]
  },
  {
   "cell_type": "code",
   "execution_count": 13,
   "metadata": {
    "scrolled": true
   },
   "outputs": [
    {
     "data": {
      "text/html": [
       "<div>\n",
       "<style scoped>\n",
       "    .dataframe tbody tr th:only-of-type {\n",
       "        vertical-align: middle;\n",
       "    }\n",
       "\n",
       "    .dataframe tbody tr th {\n",
       "        vertical-align: top;\n",
       "    }\n",
       "\n",
       "    .dataframe thead th {\n",
       "        text-align: right;\n",
       "    }\n",
       "</style>\n",
       "<table border=\"1\" class=\"dataframe\">\n",
       "  <thead>\n",
       "    <tr style=\"text-align: right;\">\n",
       "      <th></th>\n",
       "      <th>first_name</th>\n",
       "      <th>middle_name</th>\n",
       "      <th>last_name</th>\n",
       "      <th>gender</th>\n",
       "      <th>count</th>\n",
       "      <th>gender_infered</th>\n",
       "      <th>probability</th>\n",
       "    </tr>\n",
       "  </thead>\n",
       "  <tbody>\n",
       "    <tr>\n",
       "      <th>0</th>\n",
       "      <td>ben</td>\n",
       "      <td>da</td>\n",
       "      <td>zhou</td>\n",
       "      <td>u</td>\n",
       "      <td>3363.0</td>\n",
       "      <td>m</td>\n",
       "      <td>0.99</td>\n",
       "    </tr>\n",
       "    <tr>\n",
       "      <th>4</th>\n",
       "      <td>michael</td>\n",
       "      <td>p</td>\n",
       "      <td>robertson</td>\n",
       "      <td>u</td>\n",
       "      <td>11094.0</td>\n",
       "      <td>m</td>\n",
       "      <td>1.00</td>\n",
       "    </tr>\n",
       "    <tr>\n",
       "      <th>5</th>\n",
       "      <td>michael</td>\n",
       "      <td>p</td>\n",
       "      <td>robertson</td>\n",
       "      <td>u</td>\n",
       "      <td>11094.0</td>\n",
       "      <td>m</td>\n",
       "      <td>1.00</td>\n",
       "    </tr>\n",
       "    <tr>\n",
       "      <th>12</th>\n",
       "      <td>po</td>\n",
       "      <td>NaN</td>\n",
       "      <td>zhang</td>\n",
       "      <td>u</td>\n",
       "      <td>45.0</td>\n",
       "      <td>m</td>\n",
       "      <td>0.89</td>\n",
       "    </tr>\n",
       "    <tr>\n",
       "      <th>13</th>\n",
       "      <td>hon</td>\n",
       "      <td>kit</td>\n",
       "      <td>wai</td>\n",
       "      <td>u</td>\n",
       "      <td>16.0</td>\n",
       "      <td>m</td>\n",
       "      <td>0.81</td>\n",
       "    </tr>\n",
       "    <tr>\n",
       "      <th>14</th>\n",
       "      <td>bao</td>\n",
       "      <td>wen</td>\n",
       "      <td>sun</td>\n",
       "      <td>u</td>\n",
       "      <td>42.0</td>\n",
       "      <td>m</td>\n",
       "      <td>0.79</td>\n",
       "    </tr>\n",
       "    <tr>\n",
       "      <th>15</th>\n",
       "      <td>byoung</td>\n",
       "      <td>chan</td>\n",
       "      <td>lee</td>\n",
       "      <td>u</td>\n",
       "      <td>1.0</td>\n",
       "      <td>m</td>\n",
       "      <td>1.00</td>\n",
       "    </tr>\n",
       "    <tr>\n",
       "      <th>18</th>\n",
       "      <td>rosario</td>\n",
       "      <td>NaN</td>\n",
       "      <td>di-nardo</td>\n",
       "      <td>u</td>\n",
       "      <td>343.0</td>\n",
       "      <td>f</td>\n",
       "      <td>0.75</td>\n",
       "    </tr>\n",
       "    <tr>\n",
       "      <th>23</th>\n",
       "      <td>jacques</td>\n",
       "      <td>NaN</td>\n",
       "      <td>pontier</td>\n",
       "      <td>u</td>\n",
       "      <td>280.0</td>\n",
       "      <td>m</td>\n",
       "      <td>0.99</td>\n",
       "    </tr>\n",
       "    <tr>\n",
       "      <th>38</th>\n",
       "      <td>chao</td>\n",
       "      <td>zhu</td>\n",
       "      <td>zhang</td>\n",
       "      <td>u</td>\n",
       "      <td>16.0</td>\n",
       "      <td>m</td>\n",
       "      <td>0.81</td>\n",
       "    </tr>\n",
       "    <tr>\n",
       "      <th>54</th>\n",
       "      <td>wai</td>\n",
       "      <td>king</td>\n",
       "      <td>ching</td>\n",
       "      <td>u</td>\n",
       "      <td>78.0</td>\n",
       "      <td>m</td>\n",
       "      <td>0.77</td>\n",
       "    </tr>\n",
       "    <tr>\n",
       "      <th>67</th>\n",
       "      <td>cai</td>\n",
       "      <td>gui</td>\n",
       "      <td>liu</td>\n",
       "      <td>u</td>\n",
       "      <td>54.0</td>\n",
       "      <td>f</td>\n",
       "      <td>0.76</td>\n",
       "    </tr>\n",
       "    <tr>\n",
       "      <th>72</th>\n",
       "      <td>dae</td>\n",
       "      <td>NaN</td>\n",
       "      <td>jong</td>\n",
       "      <td>u</td>\n",
       "      <td>4.0</td>\n",
       "      <td>m</td>\n",
       "      <td>0.75</td>\n",
       "    </tr>\n",
       "    <tr>\n",
       "      <th>83</th>\n",
       "      <td>cheng</td>\n",
       "      <td>wei</td>\n",
       "      <td>chen</td>\n",
       "      <td>u</td>\n",
       "      <td>84.0</td>\n",
       "      <td>f</td>\n",
       "      <td>0.57</td>\n",
       "    </tr>\n",
       "    <tr>\n",
       "      <th>84</th>\n",
       "      <td>yahya</td>\n",
       "      <td>NaN</td>\n",
       "      <td>mezroui</td>\n",
       "      <td>u</td>\n",
       "      <td>116.0</td>\n",
       "      <td>m</td>\n",
       "      <td>1.00</td>\n",
       "    </tr>\n",
       "    <tr>\n",
       "      <th>92</th>\n",
       "      <td>yamin</td>\n",
       "      <td>NaN</td>\n",
       "      <td>ma</td>\n",
       "      <td>u</td>\n",
       "      <td>2.0</td>\n",
       "      <td>f</td>\n",
       "      <td>0.50</td>\n",
       "    </tr>\n",
       "    <tr>\n",
       "      <th>99</th>\n",
       "      <td>tack</td>\n",
       "      <td>wang</td>\n",
       "      <td>lee</td>\n",
       "      <td>u</td>\n",
       "      <td>2.0</td>\n",
       "      <td>f</td>\n",
       "      <td>0.50</td>\n",
       "    </tr>\n",
       "    <tr>\n",
       "      <th>105</th>\n",
       "      <td>francis</td>\n",
       "      <td>j</td>\n",
       "      <td>leahy</td>\n",
       "      <td>u</td>\n",
       "      <td>680.0</td>\n",
       "      <td>m</td>\n",
       "      <td>0.89</td>\n",
       "    </tr>\n",
       "  </tbody>\n",
       "</table>\n",
       "</div>"
      ],
      "text/plain": [
       "    first_name middle_name  last_name gender    count gender_infered  \\\n",
       "0          ben          da       zhou      u   3363.0              m   \n",
       "4      michael           p  robertson      u  11094.0              m   \n",
       "5      michael           p  robertson      u  11094.0              m   \n",
       "12          po         NaN      zhang      u     45.0              m   \n",
       "13         hon         kit        wai      u     16.0              m   \n",
       "14         bao         wen        sun      u     42.0              m   \n",
       "15      byoung        chan        lee      u      1.0              m   \n",
       "18     rosario         NaN   di-nardo      u    343.0              f   \n",
       "23     jacques         NaN    pontier      u    280.0              m   \n",
       "38        chao         zhu      zhang      u     16.0              m   \n",
       "54         wai        king      ching      u     78.0              m   \n",
       "67         cai         gui        liu      u     54.0              f   \n",
       "72         dae         NaN       jong      u      4.0              m   \n",
       "83       cheng         wei       chen      u     84.0              f   \n",
       "84       yahya         NaN    mezroui      u    116.0              m   \n",
       "92       yamin         NaN         ma      u      2.0              f   \n",
       "99        tack        wang        lee      u      2.0              f   \n",
       "105    francis           j      leahy      u    680.0              m   \n",
       "\n",
       "     probability  \n",
       "0           0.99  \n",
       "4           1.00  \n",
       "5           1.00  \n",
       "12          0.89  \n",
       "13          0.81  \n",
       "14          0.79  \n",
       "15          1.00  \n",
       "18          0.75  \n",
       "23          0.99  \n",
       "38          0.81  \n",
       "54          0.77  \n",
       "67          0.76  \n",
       "72          0.75  \n",
       "83          0.57  \n",
       "84          1.00  \n",
       "92          0.50  \n",
       "99          0.50  \n",
       "105         0.89  "
      ]
     },
     "execution_count": 13,
     "metadata": {},
     "output_type": "execute_result"
    }
   ],
   "source": [
    "# show names for which human said 'u' but algorithm said 'm' or 'f'\n",
    "zbmath.test_data[(zbmath.test_data.gender=='u') & (zbmath.test_data.gender_infered !='u')]"
   ]
  },
  {
   "cell_type": "markdown",
   "metadata": {},
   "source": [
    "The API returns 'm' for most of the Chinese names in the list."
   ]
  },
  {
   "cell_type": "code",
   "execution_count": 15,
   "metadata": {},
   "outputs": [],
   "source": [
    "zbmath.compute_error_with_unknown()\n",
    "zbmath.compute_error_without_unknown()\n",
    "zbmath.compute_error_unknown()\n",
    "zbmath.compute_error_gender_bias()"
   ]
  },
  {
   "cell_type": "code",
   "execution_count": 20,
   "metadata": {},
   "outputs": [
    {
     "name": "stdout",
     "output_type": "stream",
     "text": [
      "error counting prediction as 'unknown gender' as classification errors:  0.193548387097\n",
      "error ignoring prediction as 'unknown gender' :  0.015873015873\n",
      "error counting proportion of names with unpredicted gender:  0.148648648649\n",
      "error where negative value suggestes that more women than men are missclassified:  0.015873015873\n"
     ]
    }
   ],
   "source": [
    "print(\"error counting prediction as 'unknown gender' as classification errors: \", zbmath.error_with_unknown)\n",
    "print(\"error ignoring prediction as 'unknown gender' : \", zbmath.error_without_unknown)\n",
    "print(\"error counting proportion of names with unpredicted gender: \", zbmath.error_unknown)\n",
    "print(\"error where negative value suggestes that more women than men are missclassified: \", zbmath.error_gender_bias)"
   ]
  },
  {
   "cell_type": "markdown",
   "metadata": {},
   "source": [
    "## From here: TODO"
   ]
  },
  {
   "cell_type": "markdown",
   "metadata": {},
   "source": [
    "## Define different models based on `count` and `probability`"
   ]
  },
  {
   "cell_type": "markdown",
   "metadata": {},
   "source": [
    "### Grid Search"
   ]
  },
  {
   "cell_type": "code",
   "execution_count": 93,
   "metadata": {},
   "outputs": [],
   "source": [
    "from sklearn.model_selection import GridSearchCV\n",
    "from sklearn.model_selection import train_test_split"
   ]
  },
  {
   "cell_type": "code",
   "execution_count": null,
   "metadata": {},
   "outputs": [],
   "source": []
  }
 ],
 "metadata": {
  "kernelspec": {
   "display_name": "Python 3",
   "language": "python",
   "name": "python3"
  },
  "language_info": {
   "codemirror_mode": {
    "name": "ipython",
    "version": 3
   },
   "file_extension": ".py",
   "mimetype": "text/x-python",
   "name": "python",
   "nbconvert_exporter": "python",
   "pygments_lexer": "ipython3",
   "version": "3.5.1"
  }
 },
 "nbformat": 4,
 "nbformat_minor": 2
}
