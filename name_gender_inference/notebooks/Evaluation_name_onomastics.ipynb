{
 "cells": [
  {
   "cell_type": "markdown",
   "metadata": {},
   "source": [
    "## Evaluation of name onomastics\n",
    "\n",
    "We use Namsor's origin and diaspora APIs to explore the origin of names in our dataset and evaluate the potential bias of the data set and the services in the benchmark."
   ]
  },
  {
   "cell_type": "code",
   "execution_count": 1,
   "metadata": {
    "collapsed": true
   },
   "outputs": [],
   "source": [
    "import requests\n",
    "import json\n",
    "from pandas.io.json import json_normalize\n",
    "import pandas as pd\n",
    "from collections import OrderedDict\n",
    "import urllib\n",
    "from os.path import join\n",
    "\n",
    "import matplotlib.pyplot as plt\n",
    "#plt.style.use('ggplot')\n",
    "\n",
    "#import seaborn as sns\n",
    "#sns.set(color_codes=True)"
   ]
  },
  {
   "cell_type": "code",
   "execution_count": 2,
   "metadata": {
    "collapsed": false
   },
   "outputs": [
    {
     "name": "stdout",
     "output_type": "stream",
     "text": [
      "Populating the interactive namespace from numpy and matplotlib\n"
     ]
    }
   ],
   "source": [
    "%pylab inline"
   ]
  },
  {
   "cell_type": "code",
   "execution_count": 4,
   "metadata": {
    "collapsed": true
   },
   "outputs": [],
   "source": [
    "from config import NAMSOR_USER, NAMSOR_PW\n",
    "\n",
    "headers = {\n",
    "    'X-Channel-Secret': NAMSOR_PW,\n",
    "    'X-Channel-User': NAMSOR_USER,\n",
    "    'Accept': 'application/json',\n",
    "}"
   ]
  },
  {
   "cell_type": "code",
   "execution_count": 5,
   "metadata": {
    "collapsed": false
   },
   "outputs": [
    {
     "data": {
      "text/plain": [
       "'{\"country\":\"IE\",\"countryAlt\":\"GB\",\"score\":3.6568307047142934,\"script\":\"LATIN\",\"countryFirstName\":\"IE\",\"countryLastName\":\"GB\",\"scoreFirstName\":2.373716624391118,\"scoreLastName\":2.53655126308492,\"subRegion\":\"Northern Europe\",\"region\":\"Europe\",\"topRegion\":\"Europe\",\"countryName\":\"Ireland\"}'"
      ]
     },
     "execution_count": 5,
     "metadata": {},
     "output_type": "execute_result"
    }
   ],
   "source": [
    "# testing\n",
    "response = requests.get('https://api.namsor.com/onomastics/api/json/origin/Caitriona/Kennedy', headers=headers)\n",
    "response.text"
   ]
  },
  {
   "cell_type": "code",
   "execution_count": null,
   "metadata": {
    "collapsed": true
   },
   "outputs": [],
   "source": [
    "response.status_code"
   ]
  },
  {
   "cell_type": "code",
   "execution_count": 30,
   "metadata": {
    "collapsed": false
   },
   "outputs": [
    {
     "data": {
      "text/plain": [
       "'{\"country\":\"CN\",\"countryAlt\":\"CN\",\"score\":3.327766060755152,\"script\":\"LATIN\",\"countryFirstName\":\"TW\",\"countryLastName\":\"TW\",\"scoreFirstName\":-0.023863777936456505,\"scoreLastName\":2.531070718432645,\"subRegion\":\"Eastern Asia\",\"region\":\"Asia\",\"topRegion\":\"Asia\",\"countryName\":\"China\"}'"
      ]
     },
     "execution_count": 30,
     "metadata": {},
     "output_type": "execute_result"
    }
   ],
   "source": [
    "# Test how API reacts to usage of hyphens\n",
    "response = requests.get('https://api.namsor.com/onomastics/api/json/origin/sheau-chiou/chao', headers=headers)\n",
    "response.text"
   ]
  },
  {
   "cell_type": "code",
   "execution_count": 31,
   "metadata": {
    "collapsed": true
   },
   "outputs": [],
   "source": [
    "# Test how API reacts to usage of spaces\n",
    "response = requests.get('https://api.namsor.com/onomastics/api/json/origin/sheau chiou/chao', headers=headers)\n",
    "response.text"
   ]
  },
  {
   "cell_type": "code",
   "execution_count": 57,
   "metadata": {
    "collapsed": false
   },
   "outputs": [
    {
     "data": {
      "text/plain": [
       "'{\"country\":\"RS\",\"countryAlt\":\"RS\",\"score\":-0.3349759457401318,\"script\":\"LATIN\",\"countryFirstName\":\"ES\",\"countryLastName\":\"RS\",\"scoreFirstName\":-0.14794969736484045,\"scoreLastName\":0.3992291149412908,\"subRegion\":\"Southern Europe\",\"region\":\"Europe\",\"topRegion\":\"Europe\",\"countryName\":\"Serbia\"}'"
      ]
     },
     "execution_count": 57,
     "metadata": {},
     "output_type": "execute_result"
    }
   ],
   "source": [
    "# test usage of diacritics\n",
    "response = requests.get('https://api.namsor.com/onomastics/api/json/origin/marià/misić', \n",
    "                        headers=headers)\n",
    "response.text"
   ]
  },
  {
   "cell_type": "markdown",
   "metadata": {},
   "source": [
    "### Read data file with all names"
   ]
  },
  {
   "cell_type": "code",
   "execution_count": 5,
   "metadata": {
    "collapsed": true
   },
   "outputs": [],
   "source": [
    "data = pd.read_csv('../test_data/raw_data/all.csv', keep_default_na=False)"
   ]
  },
  {
   "cell_type": "code",
   "execution_count": 6,
   "metadata": {
    "collapsed": false
   },
   "outputs": [
    {
     "data": {
      "text/plain": [
       "(7076, 6)"
      ]
     },
     "execution_count": 6,
     "metadata": {},
     "output_type": "execute_result"
    }
   ],
   "source": [
    "data.shape"
   ]
  },
  {
   "cell_type": "code",
   "execution_count": 7,
   "metadata": {
    "collapsed": false
   },
   "outputs": [
    {
     "data": {
      "text/html": [
       "<div>\n",
       "<style scoped>\n",
       "    .dataframe tbody tr th:only-of-type {\n",
       "        vertical-align: middle;\n",
       "    }\n",
       "\n",
       "    .dataframe tbody tr th {\n",
       "        vertical-align: top;\n",
       "    }\n",
       "\n",
       "    .dataframe thead th {\n",
       "        text-align: right;\n",
       "    }\n",
       "</style>\n",
       "<table border=\"1\" class=\"dataframe\">\n",
       "  <thead>\n",
       "    <tr style=\"text-align: right;\">\n",
       "      <th></th>\n",
       "      <th>first_name</th>\n",
       "      <th>middle_name</th>\n",
       "      <th>last_name</th>\n",
       "      <th>full_name</th>\n",
       "      <th>gender</th>\n",
       "      <th>origin</th>\n",
       "    </tr>\n",
       "  </thead>\n",
       "  <tbody>\n",
       "    <tr>\n",
       "      <th>4659</th>\n",
       "      <td>virginia</td>\n",
       "      <td></td>\n",
       "      <td>belloni</td>\n",
       "      <td>virginia belloni</td>\n",
       "      <td>f</td>\n",
       "      <td>wos</td>\n",
       "    </tr>\n",
       "    <tr>\n",
       "      <th>2837</th>\n",
       "      <td>xian</td>\n",
       "      <td></td>\n",
       "      <td>qi</td>\n",
       "      <td>xian qi</td>\n",
       "      <td>m</td>\n",
       "      <td>pubmed</td>\n",
       "    </tr>\n",
       "    <tr>\n",
       "      <th>4954</th>\n",
       "      <td>zi</td>\n",
       "      <td>yun</td>\n",
       "      <td>shi</td>\n",
       "      <td>zi yun shi</td>\n",
       "      <td>f</td>\n",
       "      <td>wos</td>\n",
       "    </tr>\n",
       "  </tbody>\n",
       "</table>\n",
       "</div>"
      ],
      "text/plain": [
       "     first_name middle_name last_name         full_name gender  origin\n",
       "4659   virginia               belloni  virginia belloni      f     wos\n",
       "2837       xian                    qi           xian qi      m  pubmed\n",
       "4954         zi         yun       shi        zi yun shi      f     wos"
      ]
     },
     "execution_count": 7,
     "metadata": {},
     "output_type": "execute_result"
    }
   ],
   "source": [
    "data.sample(3)"
   ]
  },
  {
   "cell_type": "markdown",
   "metadata": {},
   "source": [
    "###  Fetch origin predictions"
   ]
  },
  {
   "cell_type": "code",
   "execution_count": 71,
   "metadata": {
    "collapsed": true
   },
   "outputs": [],
   "source": [
    "origin = []\n",
    "origin_url = 'https://api.namsor.com/onomastics/api/json/origin/'\n",
    "for i, row in data.iterrows():\n",
    "    if row['middle_name'] == '':\n",
    "        url = origin_url + row['first_name'] + '/' + row['last_name']\n",
    "    else:\n",
    "        url = origin_url + row['first_name'] + '-' + row['middle_name'] + '/' + row['last_name']\n",
    "    r = requests.get(url, headers=headers)\n",
    "    if r.status_code == 200:\n",
    "        origin.append(json.loads(r.text))\n",
    "    else:\n",
    "        print(row)\n",
    "        origin.append({})"
   ]
  },
  {
   "cell_type": "code",
   "execution_count": 73,
   "metadata": {
    "collapsed": false
   },
   "outputs": [
    {
     "data": {
      "text/plain": [
       "7076"
      ]
     },
     "execution_count": 73,
     "metadata": {},
     "output_type": "execute_result"
    }
   ],
   "source": [
    "len(origin)"
   ]
  },
  {
   "cell_type": "code",
   "execution_count": 74,
   "metadata": {
    "collapsed": true
   },
   "outputs": [],
   "source": [
    "origin_df = json_normalize(origin)"
   ]
  },
  {
   "cell_type": "code",
   "execution_count": 43,
   "metadata": {
    "collapsed": true
   },
   "outputs": [],
   "source": [
    "origin_df['full_name'] = data['full_name']\n",
    "origin_df['gender'] = data['gender']\n",
    "origin_df['source'] = data['origin']"
   ]
  },
  {
   "cell_type": "code",
   "execution_count": 48,
   "metadata": {
    "collapsed": false
   },
   "outputs": [
    {
     "data": {
      "text/html": [
       "<div>\n",
       "<style scoped>\n",
       "    .dataframe tbody tr th:only-of-type {\n",
       "        vertical-align: middle;\n",
       "    }\n",
       "\n",
       "    .dataframe tbody tr th {\n",
       "        vertical-align: top;\n",
       "    }\n",
       "\n",
       "    .dataframe thead th {\n",
       "        text-align: right;\n",
       "    }\n",
       "</style>\n",
       "<table border=\"1\" class=\"dataframe\">\n",
       "  <thead>\n",
       "    <tr style=\"text-align: right;\">\n",
       "      <th></th>\n",
       "      <th>country</th>\n",
       "      <th>countryAlt</th>\n",
       "      <th>countryFirstName</th>\n",
       "      <th>countryLastName</th>\n",
       "      <th>countryName</th>\n",
       "      <th>region</th>\n",
       "      <th>score</th>\n",
       "      <th>scoreFirstName</th>\n",
       "      <th>scoreLastName</th>\n",
       "      <th>script</th>\n",
       "      <th>subRegion</th>\n",
       "      <th>topRegion</th>\n",
       "      <th>full_name</th>\n",
       "      <th>gender</th>\n",
       "      <th>source</th>\n",
       "    </tr>\n",
       "  </thead>\n",
       "  <tbody>\n",
       "    <tr>\n",
       "      <th>5901</th>\n",
       "      <td>IE</td>\n",
       "      <td>LR</td>\n",
       "      <td>IE</td>\n",
       "      <td>GB</td>\n",
       "      <td>Ireland</td>\n",
       "      <td>Europe</td>\n",
       "      <td>2.969702</td>\n",
       "      <td>2.701208</td>\n",
       "      <td>1.029097</td>\n",
       "      <td>LATIN</td>\n",
       "      <td>Northern Europe</td>\n",
       "      <td>Europe</td>\n",
       "      <td>timothy farley</td>\n",
       "      <td>u</td>\n",
       "      <td>wos</td>\n",
       "    </tr>\n",
       "    <tr>\n",
       "      <th>887</th>\n",
       "      <td>GB</td>\n",
       "      <td>GB</td>\n",
       "      <td>UG</td>\n",
       "      <td>GB</td>\n",
       "      <td>United Kingdom of Great Britain and Northern I...</td>\n",
       "      <td>Europe</td>\n",
       "      <td>1.936933</td>\n",
       "      <td>2.020439</td>\n",
       "      <td>1.319162</td>\n",
       "      <td>LATIN</td>\n",
       "      <td>Northern Europe</td>\n",
       "      <td>Europe</td>\n",
       "      <td>patricia clee</td>\n",
       "      <td>u</td>\n",
       "      <td>genderize_r_authors</td>\n",
       "    </tr>\n",
       "    <tr>\n",
       "      <th>1843</th>\n",
       "      <td>DE</td>\n",
       "      <td>DE</td>\n",
       "      <td>UG</td>\n",
       "      <td>DE</td>\n",
       "      <td>Germany</td>\n",
       "      <td>Europe</td>\n",
       "      <td>3.170821</td>\n",
       "      <td>1.228249</td>\n",
       "      <td>2.983891</td>\n",
       "      <td>LATIN</td>\n",
       "      <td>Western Europe</td>\n",
       "      <td>Europe</td>\n",
       "      <td>allen dietrich</td>\n",
       "      <td>m</td>\n",
       "      <td>pubmed</td>\n",
       "    </tr>\n",
       "  </tbody>\n",
       "</table>\n",
       "</div>"
      ],
      "text/plain": [
       "     country countryAlt countryFirstName countryLastName  \\\n",
       "5901      IE         LR               IE              GB   \n",
       "887       GB         GB               UG              GB   \n",
       "1843      DE         DE               UG              DE   \n",
       "\n",
       "                                            countryName  region     score  \\\n",
       "5901                                            Ireland  Europe  2.969702   \n",
       "887   United Kingdom of Great Britain and Northern I...  Europe  1.936933   \n",
       "1843                                            Germany  Europe  3.170821   \n",
       "\n",
       "      scoreFirstName  scoreLastName script        subRegion topRegion  \\\n",
       "5901        2.701208       1.029097  LATIN  Northern Europe    Europe   \n",
       "887         2.020439       1.319162  LATIN  Northern Europe    Europe   \n",
       "1843        1.228249       2.983891  LATIN   Western Europe    Europe   \n",
       "\n",
       "           full_name gender               source  \n",
       "5901  timothy farley      u                  wos  \n",
       "887    patricia clee      u  genderize_r_authors  \n",
       "1843  allen dietrich      m               pubmed  "
      ]
     },
     "execution_count": 48,
     "metadata": {},
     "output_type": "execute_result"
    }
   ],
   "source": [
    "origin_df.sample(3)"
   ]
  },
  {
   "cell_type": "code",
   "execution_count": 44,
   "metadata": {
    "collapsed": true
   },
   "outputs": [],
   "source": [
    "origin_df.to_csv(\"origin_evaluation.csv\", sep=';', index=False)"
   ]
  },
  {
   "cell_type": "code",
   "execution_count": 3,
   "metadata": {
    "collapsed": true
   },
   "outputs": [],
   "source": [
    "origin_df = pd.read_csv(\"origin_evaluation.csv\", sep=';')"
   ]
  },
  {
   "cell_type": "code",
   "execution_count": 4,
   "metadata": {
    "collapsed": true
   },
   "outputs": [],
   "source": [
    "origin_df = origin_df[['full_name', 'gender', 'source', 'countryName', 'country', 'countryAlt', \n",
    "                       'region', 'subRegion', 'topRegion', 'score']]\n",
    "\n",
    "origin_df = origin_df.rename({'score': 'score_origin'}, axis='columns')"
   ]
  },
  {
   "cell_type": "code",
   "execution_count": 5,
   "metadata": {
    "collapsed": false
   },
   "outputs": [
    {
     "data": {
      "text/html": [
       "<div>\n",
       "<style scoped>\n",
       "    .dataframe tbody tr th:only-of-type {\n",
       "        vertical-align: middle;\n",
       "    }\n",
       "\n",
       "    .dataframe tbody tr th {\n",
       "        vertical-align: top;\n",
       "    }\n",
       "\n",
       "    .dataframe thead th {\n",
       "        text-align: right;\n",
       "    }\n",
       "</style>\n",
       "<table border=\"1\" class=\"dataframe\">\n",
       "  <thead>\n",
       "    <tr style=\"text-align: right;\">\n",
       "      <th></th>\n",
       "      <th>full_name</th>\n",
       "      <th>gender</th>\n",
       "      <th>source</th>\n",
       "      <th>countryName</th>\n",
       "      <th>country</th>\n",
       "      <th>countryAlt</th>\n",
       "      <th>region</th>\n",
       "      <th>subRegion</th>\n",
       "      <th>topRegion</th>\n",
       "      <th>score_origin</th>\n",
       "    </tr>\n",
       "  </thead>\n",
       "  <tbody>\n",
       "    <tr>\n",
       "      <th>6488</th>\n",
       "      <td>christian plagemann</td>\n",
       "      <td>m</td>\n",
       "      <td>wos</td>\n",
       "      <td>Germany</td>\n",
       "      <td>DE</td>\n",
       "      <td>AT</td>\n",
       "      <td>Europe</td>\n",
       "      <td>Western Europe</td>\n",
       "      <td>Europe</td>\n",
       "      <td>4.121014</td>\n",
       "    </tr>\n",
       "    <tr>\n",
       "      <th>4737</th>\n",
       "      <td>christine ribic</td>\n",
       "      <td>f</td>\n",
       "      <td>wos</td>\n",
       "      <td>Austria</td>\n",
       "      <td>AT</td>\n",
       "      <td>BA</td>\n",
       "      <td>Europe</td>\n",
       "      <td>Western Europe</td>\n",
       "      <td>Europe</td>\n",
       "      <td>2.477070</td>\n",
       "    </tr>\n",
       "    <tr>\n",
       "      <th>5908</th>\n",
       "      <td>fabio fernando de araujo</td>\n",
       "      <td>u</td>\n",
       "      <td>wos</td>\n",
       "      <td>India</td>\n",
       "      <td>IN</td>\n",
       "      <td>IN</td>\n",
       "      <td>Asia</td>\n",
       "      <td>Southern Asia</td>\n",
       "      <td>Asia</td>\n",
       "      <td>1.787416</td>\n",
       "    </tr>\n",
       "  </tbody>\n",
       "</table>\n",
       "</div>"
      ],
      "text/plain": [
       "                     full_name gender source countryName country countryAlt  \\\n",
       "6488       christian plagemann      m    wos     Germany      DE         AT   \n",
       "4737           christine ribic      f    wos     Austria      AT         BA   \n",
       "5908  fabio fernando de araujo      u    wos       India      IN         IN   \n",
       "\n",
       "      region       subRegion topRegion  score_origin  \n",
       "6488  Europe  Western Europe    Europe      4.121014  \n",
       "4737  Europe  Western Europe    Europe      2.477070  \n",
       "5908    Asia   Southern Asia      Asia      1.787416  "
      ]
     },
     "execution_count": 5,
     "metadata": {},
     "output_type": "execute_result"
    }
   ],
   "source": [
    "origin_df.sample(3)"
   ]
  },
  {
   "cell_type": "markdown",
   "metadata": {},
   "source": [
    "### Analysis"
   ]
  },
  {
   "cell_type": "code",
   "execution_count": 6,
   "metadata": {
    "collapsed": false
   },
   "outputs": [
    {
     "data": {
      "text/plain": [
       "Europe      4338\n",
       "Asia        2372\n",
       "Africa       365\n",
       "Americas       1\n",
       "Name: topRegion, dtype: int64"
      ]
     },
     "execution_count": 6,
     "metadata": {},
     "output_type": "execute_result"
    }
   ],
   "source": [
    "origin_df.topRegion.value_counts()"
   ]
  },
  {
   "cell_type": "code",
   "execution_count": 7,
   "metadata": {
    "collapsed": false
   },
   "outputs": [
    {
     "data": {
      "text/plain": [
       "210"
      ]
     },
     "execution_count": 7,
     "metadata": {},
     "output_type": "execute_result"
    }
   ],
   "source": [
    "len(origin_df[origin_df.score_origin <= 0])"
   ]
  },
  {
   "cell_type": "markdown",
   "metadata": {},
   "source": [
    "Referring to Namsor's evaluations, scores above 0 are reliable for Europe, Asia and Africa. Hence the classification for almost all names in our data set is reliable."
   ]
  },
  {
   "cell_type": "code",
   "execution_count": 8,
   "metadata": {
    "collapsed": false
   },
   "outputs": [
    {
     "data": {
      "text/plain": [
       "source\n",
       "genderize_r_authors    0.031746\n",
       "genderize_r_titles     0.036170\n",
       "pubmed                 0.025615\n",
       "wos                    0.032547\n",
       "zbmath                 0.012500\n",
       "Name: full_name, dtype: float64"
      ]
     },
     "execution_count": 8,
     "metadata": {},
     "output_type": "execute_result"
    }
   ],
   "source": [
    "# check whether a data source is particularly affected by the low origin score\n",
    "count_low_score = origin_df[origin_df.score_origin <= 0].groupby('source')['full_name'].count()\n",
    "count_all = origin_df.groupby('source')['full_name'].count()\n",
    "count_low_score.divide(count_all)"
   ]
  },
  {
   "cell_type": "markdown",
   "metadata": {},
   "source": [
    "The source `zbmath` is least affected by low scores but the difference is not significant (1-3%)."
   ]
  },
  {
   "cell_type": "code",
   "execution_count": 6,
   "metadata": {
    "collapsed": false
   },
   "outputs": [
    {
     "data": {
      "text/plain": [
       "Europe    4228\n",
       "Asia      2304\n",
       "Africa     334\n",
       "Name: topRegion, dtype: int64"
      ]
     },
     "execution_count": 6,
     "metadata": {},
     "output_type": "execute_result"
    }
   ],
   "source": [
    "origin_df[origin_df.score_origin > 0].topRegion.value_counts()"
   ]
  },
  {
   "cell_type": "markdown",
   "metadata": {},
   "source": [
    "#### Distribution of regions by data source"
   ]
  },
  {
   "cell_type": "code",
   "execution_count": 6,
   "metadata": {
    "collapsed": false
   },
   "outputs": [
    {
     "data": {
      "text/html": [
       "<div>\n",
       "<style scoped>\n",
       "    .dataframe tbody tr th:only-of-type {\n",
       "        vertical-align: middle;\n",
       "    }\n",
       "\n",
       "    .dataframe tbody tr th {\n",
       "        vertical-align: top;\n",
       "    }\n",
       "\n",
       "    .dataframe thead th {\n",
       "        text-align: right;\n",
       "    }\n",
       "</style>\n",
       "<table border=\"1\" class=\"dataframe\">\n",
       "  <thead>\n",
       "    <tr style=\"text-align: right;\">\n",
       "      <th>topRegion</th>\n",
       "      <th>Africa</th>\n",
       "      <th>Asia</th>\n",
       "      <th>Europe</th>\n",
       "    </tr>\n",
       "    <tr>\n",
       "      <th>source</th>\n",
       "      <th></th>\n",
       "      <th></th>\n",
       "      <th></th>\n",
       "    </tr>\n",
       "  </thead>\n",
       "  <tbody>\n",
       "    <tr>\n",
       "      <th>genderize_r_authors</th>\n",
       "      <td>35</td>\n",
       "      <td>58</td>\n",
       "      <td>456</td>\n",
       "    </tr>\n",
       "    <tr>\n",
       "      <th>genderize_r_titles</th>\n",
       "      <td>27</td>\n",
       "      <td>50</td>\n",
       "      <td>376</td>\n",
       "    </tr>\n",
       "    <tr>\n",
       "      <th>pubmed</th>\n",
       "      <td>108</td>\n",
       "      <td>462</td>\n",
       "      <td>1332</td>\n",
       "    </tr>\n",
       "    <tr>\n",
       "      <th>wos</th>\n",
       "      <td>149</td>\n",
       "      <td>1609</td>\n",
       "      <td>1809</td>\n",
       "    </tr>\n",
       "    <tr>\n",
       "      <th>zbmath</th>\n",
       "      <td>15</td>\n",
       "      <td>125</td>\n",
       "      <td>255</td>\n",
       "    </tr>\n",
       "  </tbody>\n",
       "</table>\n",
       "</div>"
      ],
      "text/plain": [
       "topRegion            Africa  Asia  Europe\n",
       "source                                   \n",
       "genderize_r_authors      35    58     456\n",
       "genderize_r_titles       27    50     376\n",
       "pubmed                  108   462    1332\n",
       "wos                     149  1609    1809\n",
       "zbmath                   15   125     255"
      ]
     },
     "execution_count": 6,
     "metadata": {},
     "output_type": "execute_result"
    }
   ],
   "source": [
    "origin_by_source = origin_df[origin_df.score_origin > 0].groupby(['topRegion', 'source']).count().\\\n",
    "unstack('topRegion')['full_name'].fillna(0)\n",
    "origin_by_source"
   ]
  },
  {
   "cell_type": "code",
   "execution_count": 7,
   "metadata": {
    "collapsed": true
   },
   "outputs": [],
   "source": [
    "# normalize\n",
    "origin_by_source['sum'] = [origin_by_source.loc[i,:].sum() for i in origin_by_source.index]\n",
    "origin_by_source = origin_by_source.apply(lambda x: x/x['sum'], axis=1)"
   ]
  },
  {
   "cell_type": "code",
   "execution_count": 8,
   "metadata": {
    "collapsed": false
   },
   "outputs": [
    {
     "data": {
      "text/html": [
       "<div>\n",
       "<style scoped>\n",
       "    .dataframe tbody tr th:only-of-type {\n",
       "        vertical-align: middle;\n",
       "    }\n",
       "\n",
       "    .dataframe tbody tr th {\n",
       "        vertical-align: top;\n",
       "    }\n",
       "\n",
       "    .dataframe thead th {\n",
       "        text-align: right;\n",
       "    }\n",
       "</style>\n",
       "<table border=\"1\" class=\"dataframe\">\n",
       "  <thead>\n",
       "    <tr style=\"text-align: right;\">\n",
       "      <th>topRegion</th>\n",
       "      <th>Africa</th>\n",
       "      <th>Asia</th>\n",
       "      <th>Europe</th>\n",
       "      <th>sum</th>\n",
       "    </tr>\n",
       "    <tr>\n",
       "      <th>source</th>\n",
       "      <th></th>\n",
       "      <th></th>\n",
       "      <th></th>\n",
       "      <th></th>\n",
       "    </tr>\n",
       "  </thead>\n",
       "  <tbody>\n",
       "    <tr>\n",
       "      <th>genderize_r_authors</th>\n",
       "      <td>0.063752</td>\n",
       "      <td>0.105647</td>\n",
       "      <td>0.830601</td>\n",
       "      <td>1.0</td>\n",
       "    </tr>\n",
       "    <tr>\n",
       "      <th>genderize_r_titles</th>\n",
       "      <td>0.059603</td>\n",
       "      <td>0.110375</td>\n",
       "      <td>0.830022</td>\n",
       "      <td>1.0</td>\n",
       "    </tr>\n",
       "    <tr>\n",
       "      <th>pubmed</th>\n",
       "      <td>0.056782</td>\n",
       "      <td>0.242902</td>\n",
       "      <td>0.700315</td>\n",
       "      <td>1.0</td>\n",
       "    </tr>\n",
       "    <tr>\n",
       "      <th>wos</th>\n",
       "      <td>0.041772</td>\n",
       "      <td>0.451079</td>\n",
       "      <td>0.507149</td>\n",
       "      <td>1.0</td>\n",
       "    </tr>\n",
       "    <tr>\n",
       "      <th>zbmath</th>\n",
       "      <td>0.037975</td>\n",
       "      <td>0.316456</td>\n",
       "      <td>0.645570</td>\n",
       "      <td>1.0</td>\n",
       "    </tr>\n",
       "  </tbody>\n",
       "</table>\n",
       "</div>"
      ],
      "text/plain": [
       "topRegion              Africa      Asia    Europe  sum\n",
       "source                                                \n",
       "genderize_r_authors  0.063752  0.105647  0.830601  1.0\n",
       "genderize_r_titles   0.059603  0.110375  0.830022  1.0\n",
       "pubmed               0.056782  0.242902  0.700315  1.0\n",
       "wos                  0.041772  0.451079  0.507149  1.0\n",
       "zbmath               0.037975  0.316456  0.645570  1.0"
      ]
     },
     "execution_count": 8,
     "metadata": {},
     "output_type": "execute_result"
    }
   ],
   "source": [
    "origin_by_source"
   ]
  },
  {
   "cell_type": "code",
   "execution_count": 9,
   "metadata": {
    "collapsed": true
   },
   "outputs": [],
   "source": [
    "origin_by_source = origin_by_source[['Europe', 'Asia', 'Africa']]"
   ]
  },
  {
   "cell_type": "code",
   "execution_count": 10,
   "metadata": {
    "collapsed": false
   },
   "outputs": [],
   "source": [
    "origin_by_source.index.name = None\n",
    "origin_by_source.columns.name = 'Region'"
   ]
  },
  {
   "cell_type": "code",
   "execution_count": 27,
   "metadata": {
    "collapsed": false
   },
   "outputs": [
    {
     "data": {
      "image/png": "[encoded data removed]",
      "text/plain": [
       "<matplotlib.figure.Figure at 0x1194d2470>"
      ]
     },
     "metadata": {},
     "output_type": "display_data"
    }
   ],
   "source": [
    "matplotlib.rcParams.update({'font.size': 13})\n",
    "\n",
    "fig, ax = plt.subplots(figsize=(9,3))\n",
    "\n",
    "colors = plt.cm.GnBu(np.linspace(0.5, 1, 3))\n",
    "\n",
    "origin_by_source.plot(ax=ax, kind='barh', stacked=True, width=0.6, color=colors)\n",
    "\n",
    "vals = ax.get_xticks()\n",
    "ax.set_xticklabels(['{:3.0f}%'.format(x*100) for x in vals]);\n",
    "\n",
    "ax.spines['top'].set_visible(False)\n",
    "ax.spines['right'].set_visible(False)\n",
    "ax.spines['left'].set_visible(False)\n",
    "ax.spines['bottom'].set_visible(False)\n",
    "\n",
    "plt.legend(ncol=3, bbox_to_anchor=(0.8, 1.22));\n",
    "\n",
    "ax.yaxis.set_ticks_position('none') \n",
    "\n",
    "# Make sure that benchmark_paper and name_gender_inference repos are on the same directory level\n",
    "# This saves the fig directly into the paper directory\n",
    "plt.savefig('../../../benchmark_paper/resubmission/names_regions.pdf', bbox_inches = 'tight')"
   ]
  },
  {
   "cell_type": "code",
   "execution_count": 20,
   "metadata": {
    "collapsed": false
   },
   "outputs": [
    {
     "data": {
      "text/plain": [
       "[Text(0,0,'  0%'),\n",
       " Text(0,0,' 20%'),\n",
       " Text(0,0,' 40%'),\n",
       " Text(0,0,' 60%'),\n",
       " Text(0,0,' 80%'),\n",
       " Text(0,0,'100%'),\n",
       " Text(0,0,'120%')]"
      ]
     },
     "execution_count": 20,
     "metadata": {},
     "output_type": "execute_result"
    },
    {
     "data": {
      "image/png": "[encoded data removed]",
      "text/plain": [
       "<matplotlib.figure.Figure at 0x106e74780>"
      ]
     },
     "metadata": {},
     "output_type": "display_data"
    }
   ],
   "source": [
    "fig, ax = plt.subplots(figsize=(12,5))\n",
    "origin_by_source.plot(ax=ax, kind='bar', stacked=True, rot=1)\n",
    "# add %-signs to y-axis\n",
    "vals = ax.get_yticks()\n",
    "ax.set_yticklabels(['{:3.0f}%'.format(x*100) for x in vals])"
   ]
  },
  {
   "cell_type": "markdown",
   "metadata": {},
   "source": [
    "* all data sources show only a few percent of African names. \n",
    "* For `wos` approximately half of the names are from Asia and the other half have European origin; for the other data sources, names of European origin predominate, in particular for the `genderize_r` data sources "
   ]
  },
  {
   "cell_type": "markdown",
   "metadata": {},
   "source": [
    "#### Distribution of sub-regions by data source"
   ]
  },
  {
   "cell_type": "code",
   "execution_count": 21,
   "metadata": {
    "collapsed": false
   },
   "outputs": [
    {
     "data": {
      "text/plain": [
       "<matplotlib.axes._subplots.AxesSubplot at 0x109e23400>"
      ]
     },
     "execution_count": 21,
     "metadata": {},
     "output_type": "execute_result"
    },
    {
     "data": {
      "image/png": "[encoded data removed]",
      "text/plain": [
       "<matplotlib.figure.Figure at 0x106e74fd0>"
      ]
     },
     "metadata": {},
     "output_type": "display_data"
    }
   ],
   "source": [
    "origin_df[origin_df.score_origin > 0].subRegion.value_counts().sort_values().plot(kind='barh')"
   ]
  },
  {
   "cell_type": "code",
   "execution_count": 22,
   "metadata": {
    "collapsed": false
   },
   "outputs": [
    {
     "data": {
      "text/plain": [
       "[Text(0,0,'  0%'),\n",
       " Text(0,0,' 20%'),\n",
       " Text(0,0,' 40%'),\n",
       " Text(0,0,' 60%'),\n",
       " Text(0,0,' 80%'),\n",
       " Text(0,0,'100%'),\n",
       " Text(0,0,'120%')]"
      ]
     },
     "execution_count": 22,
     "metadata": {},
     "output_type": "execute_result"
    },
    {
     "data": {
      "image/png": "[encoded data removed]",
      "text/plain": [
       "<matplotlib.figure.Figure at 0x106e773c8>"
      ]
     },
     "metadata": {},
     "output_type": "display_data"
    }
   ],
   "source": [
    "origin_by_source = origin_df[origin_df.score_origin > 0].groupby(['subRegion', 'source']).count().\\\n",
    "unstack('subRegion')['full_name'].fillna(0)\n",
    "# normalize\n",
    "origin_by_source['sum'] = [origin_by_source.loc[i,:].sum() for i in origin_by_source.index]\n",
    "origin_by_source = origin_by_source.apply(lambda x: x/x['sum'], axis=1)\n",
    "origin_by_source = origin_by_source.drop(['sum'], axis=1)\n",
    "\n",
    "fig, ax = plt.subplots(figsize=(12,8))\n",
    "origin_by_source.plot(ax=ax, kind='bar', stacked=True, rot=1)\n",
    "# add %-signs to y-axis\n",
    "vals = ax.get_yticks()\n",
    "ax.set_yticklabels(['{:3.0f}%'.format(x*100) for x in vals])"
   ]
  },
  {
   "cell_type": "markdown",
   "metadata": {},
   "source": [
    "#### Distribution of countries by data source"
   ]
  },
  {
   "cell_type": "code",
   "execution_count": 23,
   "metadata": {
    "collapsed": true
   },
   "outputs": [],
   "source": [
    "origin_by_source = origin_df[origin_df.score_origin > 0].groupby(['countryName', 'source']).count().\\\n",
    "unstack('countryName')['full_name'].fillna(0)\n",
    "# normalize\n",
    "origin_by_source['sum'] = [origin_by_source.loc[i,:].sum() for i in origin_by_source.index]\n",
    "origin_by_source = origin_by_source.apply(lambda x: x/x['sum'], axis=1)\n",
    "origin_by_source = origin_by_source.drop(['sum'], axis=1)"
   ]
  },
  {
   "cell_type": "code",
   "execution_count": 24,
   "metadata": {
    "collapsed": false
   },
   "outputs": [
    {
     "data": {
      "text/html": [
       "<div>\n",
       "<style scoped>\n",
       "    .dataframe tbody tr th:only-of-type {\n",
       "        vertical-align: middle;\n",
       "    }\n",
       "\n",
       "    .dataframe tbody tr th {\n",
       "        vertical-align: top;\n",
       "    }\n",
       "\n",
       "    .dataframe thead th {\n",
       "        text-align: right;\n",
       "    }\n",
       "</style>\n",
       "<table border=\"1\" class=\"dataframe\">\n",
       "  <thead>\n",
       "    <tr style=\"text-align: right;\">\n",
       "      <th>countryName</th>\n",
       "      <th>Afghanistan</th>\n",
       "      <th>Albania</th>\n",
       "      <th>Algeria</th>\n",
       "      <th>Armenia</th>\n",
       "      <th>Austria</th>\n",
       "      <th>Azerbaijan</th>\n",
       "      <th>Bahrain</th>\n",
       "      <th>Bangladesh</th>\n",
       "      <th>Belarus</th>\n",
       "      <th>Belgium</th>\n",
       "      <th>...</th>\n",
       "      <th>Turkey</th>\n",
       "      <th>Uganda</th>\n",
       "      <th>Ukraine</th>\n",
       "      <th>United Arab Emirates</th>\n",
       "      <th>United Kingdom of Great Britain and Northern Ireland</th>\n",
       "      <th>Uzbekistan</th>\n",
       "      <th>Viet Nam</th>\n",
       "      <th>Yemen</th>\n",
       "      <th>Zambia</th>\n",
       "      <th>Zimbabwe</th>\n",
       "    </tr>\n",
       "    <tr>\n",
       "      <th>source</th>\n",
       "      <th></th>\n",
       "      <th></th>\n",
       "      <th></th>\n",
       "      <th></th>\n",
       "      <th></th>\n",
       "      <th></th>\n",
       "      <th></th>\n",
       "      <th></th>\n",
       "      <th></th>\n",
       "      <th></th>\n",
       "      <th></th>\n",
       "      <th></th>\n",
       "      <th></th>\n",
       "      <th></th>\n",
       "      <th></th>\n",
       "      <th></th>\n",
       "      <th></th>\n",
       "      <th></th>\n",
       "      <th></th>\n",
       "      <th></th>\n",
       "      <th></th>\n",
       "    </tr>\n",
       "  </thead>\n",
       "  <tbody>\n",
       "    <tr>\n",
       "      <th>genderize_r_authors</th>\n",
       "      <td>0.000000</td>\n",
       "      <td>0.000000</td>\n",
       "      <td>0.001821</td>\n",
       "      <td>0.001821</td>\n",
       "      <td>0.041894</td>\n",
       "      <td>0.00000</td>\n",
       "      <td>0.000000</td>\n",
       "      <td>0.001821</td>\n",
       "      <td>0.001821</td>\n",
       "      <td>0.007286</td>\n",
       "      <td>...</td>\n",
       "      <td>0.009107</td>\n",
       "      <td>0.000000</td>\n",
       "      <td>0.000000</td>\n",
       "      <td>0.000000</td>\n",
       "      <td>0.222222</td>\n",
       "      <td>0.001821</td>\n",
       "      <td>0.000000</td>\n",
       "      <td>0.000000</td>\n",
       "      <td>0.000000</td>\n",
       "      <td>0.001821</td>\n",
       "    </tr>\n",
       "    <tr>\n",
       "      <th>genderize_r_titles</th>\n",
       "      <td>0.000000</td>\n",
       "      <td>0.000000</td>\n",
       "      <td>0.000000</td>\n",
       "      <td>0.000000</td>\n",
       "      <td>0.024283</td>\n",
       "      <td>0.00000</td>\n",
       "      <td>0.000000</td>\n",
       "      <td>0.000000</td>\n",
       "      <td>0.000000</td>\n",
       "      <td>0.006623</td>\n",
       "      <td>...</td>\n",
       "      <td>0.000000</td>\n",
       "      <td>0.006623</td>\n",
       "      <td>0.002208</td>\n",
       "      <td>0.000000</td>\n",
       "      <td>0.264901</td>\n",
       "      <td>0.002208</td>\n",
       "      <td>0.000000</td>\n",
       "      <td>0.000000</td>\n",
       "      <td>0.000000</td>\n",
       "      <td>0.000000</td>\n",
       "    </tr>\n",
       "    <tr>\n",
       "      <th>pubmed</th>\n",
       "      <td>0.000526</td>\n",
       "      <td>0.001052</td>\n",
       "      <td>0.001052</td>\n",
       "      <td>0.002629</td>\n",
       "      <td>0.024185</td>\n",
       "      <td>0.00000</td>\n",
       "      <td>0.000526</td>\n",
       "      <td>0.004732</td>\n",
       "      <td>0.001052</td>\n",
       "      <td>0.013670</td>\n",
       "      <td>...</td>\n",
       "      <td>0.004206</td>\n",
       "      <td>0.004732</td>\n",
       "      <td>0.002103</td>\n",
       "      <td>0.000000</td>\n",
       "      <td>0.187697</td>\n",
       "      <td>0.000526</td>\n",
       "      <td>0.001577</td>\n",
       "      <td>0.000000</td>\n",
       "      <td>0.000000</td>\n",
       "      <td>0.000000</td>\n",
       "    </tr>\n",
       "    <tr>\n",
       "      <th>wos</th>\n",
       "      <td>0.001121</td>\n",
       "      <td>0.000561</td>\n",
       "      <td>0.001121</td>\n",
       "      <td>0.001402</td>\n",
       "      <td>0.015980</td>\n",
       "      <td>0.00028</td>\n",
       "      <td>0.000841</td>\n",
       "      <td>0.005607</td>\n",
       "      <td>0.001121</td>\n",
       "      <td>0.011214</td>\n",
       "      <td>...</td>\n",
       "      <td>0.026072</td>\n",
       "      <td>0.001121</td>\n",
       "      <td>0.001402</td>\n",
       "      <td>0.000561</td>\n",
       "      <td>0.089711</td>\n",
       "      <td>0.000280</td>\n",
       "      <td>0.005046</td>\n",
       "      <td>0.001402</td>\n",
       "      <td>0.001121</td>\n",
       "      <td>0.000280</td>\n",
       "    </tr>\n",
       "    <tr>\n",
       "      <th>zbmath</th>\n",
       "      <td>0.000000</td>\n",
       "      <td>0.000000</td>\n",
       "      <td>0.007595</td>\n",
       "      <td>0.000000</td>\n",
       "      <td>0.017722</td>\n",
       "      <td>0.00000</td>\n",
       "      <td>0.000000</td>\n",
       "      <td>0.002532</td>\n",
       "      <td>0.002532</td>\n",
       "      <td>0.005063</td>\n",
       "      <td>...</td>\n",
       "      <td>0.025316</td>\n",
       "      <td>0.000000</td>\n",
       "      <td>0.010127</td>\n",
       "      <td>0.000000</td>\n",
       "      <td>0.068354</td>\n",
       "      <td>0.000000</td>\n",
       "      <td>0.002532</td>\n",
       "      <td>0.005063</td>\n",
       "      <td>0.000000</td>\n",
       "      <td>0.000000</td>\n",
       "    </tr>\n",
       "  </tbody>\n",
       "</table>\n",
       "<p>5 rows × 113 columns</p>\n",
       "</div>"
      ],
      "text/plain": [
       "countryName          Afghanistan   Albania   Algeria   Armenia   Austria  \\\n",
       "source                                                                     \n",
       "genderize_r_authors     0.000000  0.000000  0.001821  0.001821  0.041894   \n",
       "genderize_r_titles      0.000000  0.000000  0.000000  0.000000  0.024283   \n",
       "pubmed                  0.000526  0.001052  0.001052  0.002629  0.024185   \n",
       "wos                     0.001121  0.000561  0.001121  0.001402  0.015980   \n",
       "zbmath                  0.000000  0.000000  0.007595  0.000000  0.017722   \n",
       "\n",
       "countryName          Azerbaijan   Bahrain  Bangladesh   Belarus   Belgium  \\\n",
       "source                                                                      \n",
       "genderize_r_authors     0.00000  0.000000    0.001821  0.001821  0.007286   \n",
       "genderize_r_titles      0.00000  0.000000    0.000000  0.000000  0.006623   \n",
       "pubmed                  0.00000  0.000526    0.004732  0.001052  0.013670   \n",
       "wos                     0.00028  0.000841    0.005607  0.001121  0.011214   \n",
       "zbmath                  0.00000  0.000000    0.002532  0.002532  0.005063   \n",
       "\n",
       "countryName            ...       Turkey    Uganda   Ukraine  \\\n",
       "source                 ...                                    \n",
       "genderize_r_authors    ...     0.009107  0.000000  0.000000   \n",
       "genderize_r_titles     ...     0.000000  0.006623  0.002208   \n",
       "pubmed                 ...     0.004206  0.004732  0.002103   \n",
       "wos                    ...     0.026072  0.001121  0.001402   \n",
       "zbmath                 ...     0.025316  0.000000  0.010127   \n",
       "\n",
       "countryName          United Arab Emirates  \\\n",
       "source                                      \n",
       "genderize_r_authors              0.000000   \n",
       "genderize_r_titles               0.000000   \n",
       "pubmed                           0.000000   \n",
       "wos                              0.000561   \n",
       "zbmath                           0.000000   \n",
       "\n",
       "countryName          United Kingdom of Great Britain and Northern Ireland  \\\n",
       "source                                                                      \n",
       "genderize_r_authors                                           0.222222      \n",
       "genderize_r_titles                                            0.264901      \n",
       "pubmed                                                        0.187697      \n",
       "wos                                                           0.089711      \n",
       "zbmath                                                        0.068354      \n",
       "\n",
       "countryName          Uzbekistan  Viet Nam     Yemen    Zambia  Zimbabwe  \n",
       "source                                                                   \n",
       "genderize_r_authors    0.001821  0.000000  0.000000  0.000000  0.001821  \n",
       "genderize_r_titles     0.002208  0.000000  0.000000  0.000000  0.000000  \n",
       "pubmed                 0.000526  0.001577  0.000000  0.000000  0.000000  \n",
       "wos                    0.000280  0.005046  0.001402  0.001121  0.000280  \n",
       "zbmath                 0.000000  0.002532  0.005063  0.000000  0.000000  \n",
       "\n",
       "[5 rows x 113 columns]"
      ]
     },
     "execution_count": 24,
     "metadata": {},
     "output_type": "execute_result"
    }
   ],
   "source": [
    "origin_by_source"
   ]
  },
  {
   "cell_type": "code",
   "execution_count": 25,
   "metadata": {
    "collapsed": false
   },
   "outputs": [
    {
     "name": "stdout",
     "output_type": "stream",
     "text": [
      "data source:  genderize_r_authors\n",
      "countryName\n",
      "United Kingdom of Great Britain and Northern Ireland    0.222222\n",
      "Ireland                                                 0.369763\n",
      "Germany                                                 0.495446\n",
      "Italy                                                   0.542805\n",
      "France                                                  0.586521\n",
      "Austria                                                 0.628415\n",
      "Poland                                                  0.664845\n",
      "Israel                                                  0.692168\n",
      "India                                                   0.717668\n",
      "Spain                                                   0.743169\n",
      "Name: genderize_r_authors, dtype: float64\n",
      "data source:  genderize_r_titles\n",
      "countryName\n",
      "United Kingdom of Great Britain and Northern Ireland    0.264901\n",
      "Ireland                                                 0.388521\n",
      "Germany                                                 0.501104\n",
      "Russian Federation                                      0.551876\n",
      "Israel                                                  0.600442\n",
      "Italy                                                   0.644592\n",
      "France                                                  0.682119\n",
      "Poland                                                  0.713024\n",
      "Spain                                                   0.739514\n",
      "Austria                                                 0.763797\n",
      "Name: genderize_r_titles, dtype: float64\n",
      "data source:  pubmed\n",
      "countryName\n",
      "United Kingdom of Great Britain and Northern Ireland    0.187697\n",
      "Ireland                                                 0.316509\n",
      "Germany                                                 0.398528\n",
      "Israel                                                  0.449001\n",
      "India                                                   0.496845\n",
      "Italy                                                   0.539958\n",
      "China                                                   0.578339\n",
      "France                                                  0.615142\n",
      "Netherlands                                             0.649842\n",
      "Spain                                                   0.676656\n",
      "Name: pubmed, dtype: float64\n",
      "data source:  wos\n",
      "countryName\n",
      "China                                                   0.119708\n",
      "United Kingdom of Great Britain and Northern Ireland    0.209420\n",
      "Japan                                                   0.288478\n",
      "Germany                                                 0.351836\n",
      "France                                                  0.414914\n",
      "Korea, Republic of                                      0.477712\n",
      "India                                                   0.529857\n",
      "Italy                                                   0.573872\n",
      "Spain                                                   0.615363\n",
      "Turkey                                                  0.641435\n",
      "Name: wos, dtype: float64\n",
      "data source:  zbmath\n",
      "countryName\n",
      "Germany                                                 0.116456\n",
      "Japan                                                   0.192405\n",
      "United Kingdom of Great Britain and Northern Ireland    0.260759\n",
      "Spain                                                   0.329114\n",
      "China                                                   0.394937\n",
      "Ireland                                                 0.448101\n",
      "France                                                  0.488608\n",
      "Poland                                                  0.529114\n",
      "India                                                   0.567089\n",
      "Russian Federation                                      0.605063\n",
      "Name: zbmath, dtype: float64\n"
     ]
    }
   ],
   "source": [
    "# print the most frequent countries per data source and their cummulative sum\n",
    "no_countries = 10\n",
    "for i, row in origin_by_source.iterrows():\n",
    "    print(\"data source: \", i)\n",
    "    row_sorted = row.sort_values(ascending=False)\n",
    "    print(row_sorted[:no_countries].cumsum(axis=0))\n"
   ]
  },
  {
   "cell_type": "markdown",
   "metadata": {},
   "source": [
    "* for 3 out of 5 data sources, UK is the most frequent country; it is always among the top 3. Ireland is for all data sources except `wos` also among the top 6. Overall, English speaking names are the most frequent ones.\n",
    "* Germany among the top 3 for all data sets\n",
    "* both `genderize_r` data sources and `pubmed` have the same top 3 countries: UK, Ireland, Germany\n",
    "* Both `genderize_r` datasets are very Euro-centric. Almost no Asian country among the top 10\n",
    "* Data source `wos` has a particularly high share of Asian names: China is at pos. 1, Japan at pos. 3 and Korea at pos. 6\n",
    "* `genderize_r` data sources show the lowest variability: top 3 countries cover 50% of all names and the top 10 cover ~75%. The highest variability is in the smallest data set `zbmath`, where the top 3 countries are responsible for 26% of all names and the top 10 cover 60%."
   ]
  },
  {
   "cell_type": "markdown",
   "metadata": {},
   "source": [
    "### check data sample for quality of `origin` inference "
   ]
  },
  {
   "cell_type": "code",
   "execution_count": 26,
   "metadata": {
    "collapsed": true
   },
   "outputs": [],
   "source": [
    "# sample 50 names and check manually\n",
    "sample = origin_df[origin_df.score_origin > 0].sample(50, random_state=1)"
   ]
  },
  {
   "cell_type": "code",
   "execution_count": 27,
   "metadata": {
    "collapsed": false
   },
   "outputs": [
    {
     "data": {
      "text/html": [
       "<div>\n",
       "<style scoped>\n",
       "    .dataframe tbody tr th:only-of-type {\n",
       "        vertical-align: middle;\n",
       "    }\n",
       "\n",
       "    .dataframe tbody tr th {\n",
       "        vertical-align: top;\n",
       "    }\n",
       "\n",
       "    .dataframe thead th {\n",
       "        text-align: right;\n",
       "    }\n",
       "</style>\n",
       "<table border=\"1\" class=\"dataframe\">\n",
       "  <thead>\n",
       "    <tr style=\"text-align: right;\">\n",
       "      <th></th>\n",
       "      <th>full_name</th>\n",
       "      <th>countryName</th>\n",
       "      <th>subRegion</th>\n",
       "      <th>topRegion</th>\n",
       "      <th>score_origin</th>\n",
       "    </tr>\n",
       "  </thead>\n",
       "  <tbody>\n",
       "    <tr>\n",
       "      <th>2932</th>\n",
       "      <td>paul rutgeerts</td>\n",
       "      <td>Belgium</td>\n",
       "      <td>Western Europe</td>\n",
       "      <td>Europe</td>\n",
       "      <td>3.854667</td>\n",
       "    </tr>\n",
       "    <tr>\n",
       "      <th>5474</th>\n",
       "      <td>christopher ta</td>\n",
       "      <td>Viet Nam</td>\n",
       "      <td>South-Eastern Asia</td>\n",
       "      <td>Asia</td>\n",
       "      <td>1.636782</td>\n",
       "    </tr>\n",
       "    <tr>\n",
       "      <th>964</th>\n",
       "      <td>ian morison</td>\n",
       "      <td>United Kingdom of Great Britain and Northern I...</td>\n",
       "      <td>Northern Europe</td>\n",
       "      <td>Europe</td>\n",
       "      <td>2.132824</td>\n",
       "    </tr>\n",
       "    <tr>\n",
       "      <th>5373</th>\n",
       "      <td>alexander voityuk</td>\n",
       "      <td>Russian Federation</td>\n",
       "      <td>Eastern Europe</td>\n",
       "      <td>Europe</td>\n",
       "      <td>3.562407</td>\n",
       "    </tr>\n",
       "    <tr>\n",
       "      <th>449</th>\n",
       "      <td>robert burton</td>\n",
       "      <td>Ireland</td>\n",
       "      <td>Northern Europe</td>\n",
       "      <td>Europe</td>\n",
       "      <td>3.201207</td>\n",
       "    </tr>\n",
       "    <tr>\n",
       "      <th>6606</th>\n",
       "      <td>mitsuru okuno</td>\n",
       "      <td>Japan</td>\n",
       "      <td>Eastern Asia</td>\n",
       "      <td>Asia</td>\n",
       "      <td>3.753080</td>\n",
       "    </tr>\n",
       "    <tr>\n",
       "      <th>4455</th>\n",
       "      <td>dongmei qin</td>\n",
       "      <td>China</td>\n",
       "      <td>Eastern Asia</td>\n",
       "      <td>Asia</td>\n",
       "      <td>4.575318</td>\n",
       "    </tr>\n",
       "    <tr>\n",
       "      <th>253</th>\n",
       "      <td>mario perez-jimenez</td>\n",
       "      <td>Spain</td>\n",
       "      <td>Southern Europe</td>\n",
       "      <td>Europe</td>\n",
       "      <td>2.642884</td>\n",
       "    </tr>\n",
       "    <tr>\n",
       "      <th>3568</th>\n",
       "      <td>alyne simoes</td>\n",
       "      <td>France</td>\n",
       "      <td>Western Europe</td>\n",
       "      <td>Europe</td>\n",
       "      <td>0.826543</td>\n",
       "    </tr>\n",
       "    <tr>\n",
       "      <th>5384</th>\n",
       "      <td>andrew mackay</td>\n",
       "      <td>United Kingdom of Great Britain and Northern I...</td>\n",
       "      <td>Northern Europe</td>\n",
       "      <td>Europe</td>\n",
       "      <td>3.325402</td>\n",
       "    </tr>\n",
       "    <tr>\n",
       "      <th>4660</th>\n",
       "      <td>melanie vincent</td>\n",
       "      <td>France</td>\n",
       "      <td>Western Europe</td>\n",
       "      <td>Europe</td>\n",
       "      <td>3.001219</td>\n",
       "    </tr>\n",
       "    <tr>\n",
       "      <th>1188</th>\n",
       "      <td>jean glenisson</td>\n",
       "      <td>France</td>\n",
       "      <td>Western Europe</td>\n",
       "      <td>Europe</td>\n",
       "      <td>3.444656</td>\n",
       "    </tr>\n",
       "    <tr>\n",
       "      <th>2054</th>\n",
       "      <td>jeffrey gould</td>\n",
       "      <td>United Kingdom of Great Britain and Northern I...</td>\n",
       "      <td>Northern Europe</td>\n",
       "      <td>Europe</td>\n",
       "      <td>2.369900</td>\n",
       "    </tr>\n",
       "    <tr>\n",
       "      <th>4859</th>\n",
       "      <td>talitha selby</td>\n",
       "      <td>United Kingdom of Great Britain and Northern I...</td>\n",
       "      <td>Northern Europe</td>\n",
       "      <td>Europe</td>\n",
       "      <td>2.110268</td>\n",
       "    </tr>\n",
       "    <tr>\n",
       "      <th>1674</th>\n",
       "      <td>iain carey</td>\n",
       "      <td>United Kingdom of Great Britain and Northern I...</td>\n",
       "      <td>Northern Europe</td>\n",
       "      <td>Europe</td>\n",
       "      <td>1.822330</td>\n",
       "    </tr>\n",
       "    <tr>\n",
       "      <th>5786</th>\n",
       "      <td>gil arvatz</td>\n",
       "      <td>Israel</td>\n",
       "      <td>Western Asia</td>\n",
       "      <td>Asia</td>\n",
       "      <td>3.586966</td>\n",
       "    </tr>\n",
       "    <tr>\n",
       "      <th>2825</th>\n",
       "      <td>monique prinssen</td>\n",
       "      <td>Netherlands</td>\n",
       "      <td>Western Europe</td>\n",
       "      <td>Europe</td>\n",
       "      <td>4.019084</td>\n",
       "    </tr>\n",
       "    <tr>\n",
       "      <th>164</th>\n",
       "      <td>henrik vosegaard</td>\n",
       "      <td>Denmark</td>\n",
       "      <td>Northern Europe</td>\n",
       "      <td>Europe</td>\n",
       "      <td>4.628559</td>\n",
       "    </tr>\n",
       "    <tr>\n",
       "      <th>2718</th>\n",
       "      <td>ann o'hare</td>\n",
       "      <td>Ireland</td>\n",
       "      <td>Northern Europe</td>\n",
       "      <td>Europe</td>\n",
       "      <td>3.552052</td>\n",
       "    </tr>\n",
       "    <tr>\n",
       "      <th>3360</th>\n",
       "      <td>gloria yeh</td>\n",
       "      <td>Taiwan</td>\n",
       "      <td>Eastern Asia</td>\n",
       "      <td>Asia</td>\n",
       "      <td>3.149055</td>\n",
       "    </tr>\n",
       "    <tr>\n",
       "      <th>348</th>\n",
       "      <td>maria conception carvalho</td>\n",
       "      <td>Portugal</td>\n",
       "      <td>Southern Europe</td>\n",
       "      <td>Europe</td>\n",
       "      <td>2.950097</td>\n",
       "    </tr>\n",
       "    <tr>\n",
       "      <th>5658</th>\n",
       "      <td>neeraj visen</td>\n",
       "      <td>India</td>\n",
       "      <td>Southern Asia</td>\n",
       "      <td>Asia</td>\n",
       "      <td>2.566202</td>\n",
       "    </tr>\n",
       "    <tr>\n",
       "      <th>6736</th>\n",
       "      <td>jaime campos</td>\n",
       "      <td>Spain</td>\n",
       "      <td>Southern Europe</td>\n",
       "      <td>Europe</td>\n",
       "      <td>3.763286</td>\n",
       "    </tr>\n",
       "    <tr>\n",
       "      <th>418</th>\n",
       "      <td>prashant nair</td>\n",
       "      <td>India</td>\n",
       "      <td>Southern Asia</td>\n",
       "      <td>Asia</td>\n",
       "      <td>2.766689</td>\n",
       "    </tr>\n",
       "    <tr>\n",
       "      <th>3428</th>\n",
       "      <td>weiqiong gu</td>\n",
       "      <td>China</td>\n",
       "      <td>Eastern Asia</td>\n",
       "      <td>Asia</td>\n",
       "      <td>4.135178</td>\n",
       "    </tr>\n",
       "    <tr>\n",
       "      <th>2974</th>\n",
       "      <td>lisette schoonhoven</td>\n",
       "      <td>Netherlands</td>\n",
       "      <td>Western Europe</td>\n",
       "      <td>Europe</td>\n",
       "      <td>4.277211</td>\n",
       "    </tr>\n",
       "    <tr>\n",
       "      <th>3332</th>\n",
       "      <td>hans woerle</td>\n",
       "      <td>Israel</td>\n",
       "      <td>Western Asia</td>\n",
       "      <td>Asia</td>\n",
       "      <td>3.073384</td>\n",
       "    </tr>\n",
       "    <tr>\n",
       "      <th>3492</th>\n",
       "      <td>weber lau</td>\n",
       "      <td>China</td>\n",
       "      <td>Eastern Asia</td>\n",
       "      <td>Asia</td>\n",
       "      <td>3.202515</td>\n",
       "    </tr>\n",
       "    <tr>\n",
       "      <th>5620</th>\n",
       "      <td>owen mccarty</td>\n",
       "      <td>Ireland</td>\n",
       "      <td>Northern Europe</td>\n",
       "      <td>Europe</td>\n",
       "      <td>3.634675</td>\n",
       "    </tr>\n",
       "    <tr>\n",
       "      <th>6823</th>\n",
       "      <td>stacy markison</td>\n",
       "      <td>Israel</td>\n",
       "      <td>Western Asia</td>\n",
       "      <td>Asia</td>\n",
       "      <td>3.471031</td>\n",
       "    </tr>\n",
       "    <tr>\n",
       "      <th>4090</th>\n",
       "      <td>arumugam sudalai</td>\n",
       "      <td>India</td>\n",
       "      <td>Southern Asia</td>\n",
       "      <td>Asia</td>\n",
       "      <td>2.772554</td>\n",
       "    </tr>\n",
       "    <tr>\n",
       "      <th>204</th>\n",
       "      <td>penny whiting</td>\n",
       "      <td>United Kingdom of Great Britain and Northern I...</td>\n",
       "      <td>Northern Europe</td>\n",
       "      <td>Europe</td>\n",
       "      <td>2.638163</td>\n",
       "    </tr>\n",
       "    <tr>\n",
       "      <th>3399</th>\n",
       "      <td>doyin oluwole</td>\n",
       "      <td>Nigeria</td>\n",
       "      <td>Western Africa</td>\n",
       "      <td>Africa</td>\n",
       "      <td>4.882550</td>\n",
       "    </tr>\n",
       "    <tr>\n",
       "      <th>6811</th>\n",
       "      <td>akira takada</td>\n",
       "      <td>Japan</td>\n",
       "      <td>Eastern Asia</td>\n",
       "      <td>Asia</td>\n",
       "      <td>4.225359</td>\n",
       "    </tr>\n",
       "    <tr>\n",
       "      <th>4415</th>\n",
       "      <td>maureen neal</td>\n",
       "      <td>United Kingdom of Great Britain and Northern I...</td>\n",
       "      <td>Northern Europe</td>\n",
       "      <td>Europe</td>\n",
       "      <td>1.667999</td>\n",
       "    </tr>\n",
       "    <tr>\n",
       "      <th>2043</th>\n",
       "      <td>john goldman</td>\n",
       "      <td>United Kingdom of Great Britain and Northern I...</td>\n",
       "      <td>Northern Europe</td>\n",
       "      <td>Europe</td>\n",
       "      <td>2.763547</td>\n",
       "    </tr>\n",
       "    <tr>\n",
       "      <th>1608</th>\n",
       "      <td>mike boggild</td>\n",
       "      <td>United Kingdom of Great Britain and Northern I...</td>\n",
       "      <td>Northern Europe</td>\n",
       "      <td>Europe</td>\n",
       "      <td>3.465809</td>\n",
       "    </tr>\n",
       "    <tr>\n",
       "      <th>561</th>\n",
       "      <td>michael crabb</td>\n",
       "      <td>Ireland</td>\n",
       "      <td>Northern Europe</td>\n",
       "      <td>Europe</td>\n",
       "      <td>4.031770</td>\n",
       "    </tr>\n",
       "    <tr>\n",
       "      <th>704</th>\n",
       "      <td>paul burkett</td>\n",
       "      <td>United Kingdom of Great Britain and Northern I...</td>\n",
       "      <td>Northern Europe</td>\n",
       "      <td>Europe</td>\n",
       "      <td>2.181321</td>\n",
       "    </tr>\n",
       "    <tr>\n",
       "      <th>2386</th>\n",
       "      <td>clifton lacy</td>\n",
       "      <td>United Kingdom of Great Britain and Northern I...</td>\n",
       "      <td>Northern Europe</td>\n",
       "      <td>Europe</td>\n",
       "      <td>1.293004</td>\n",
       "    </tr>\n",
       "    <tr>\n",
       "      <th>5551</th>\n",
       "      <td>darren hamilton</td>\n",
       "      <td>United Kingdom of Great Britain and Northern I...</td>\n",
       "      <td>Northern Europe</td>\n",
       "      <td>Europe</td>\n",
       "      <td>3.574684</td>\n",
       "    </tr>\n",
       "    <tr>\n",
       "      <th>2509</th>\n",
       "      <td>christine macarthur</td>\n",
       "      <td>United Kingdom of Great Britain and Northern I...</td>\n",
       "      <td>Northern Europe</td>\n",
       "      <td>Europe</td>\n",
       "      <td>3.112198</td>\n",
       "    </tr>\n",
       "    <tr>\n",
       "      <th>3362</th>\n",
       "      <td>kol jia yong</td>\n",
       "      <td>China</td>\n",
       "      <td>Eastern Asia</td>\n",
       "      <td>Asia</td>\n",
       "      <td>3.421418</td>\n",
       "    </tr>\n",
       "    <tr>\n",
       "      <th>4003</th>\n",
       "      <td>myeong ok kim</td>\n",
       "      <td>Korea, Republic of</td>\n",
       "      <td>Eastern Asia</td>\n",
       "      <td>Asia</td>\n",
       "      <td>7.200925</td>\n",
       "    </tr>\n",
       "    <tr>\n",
       "      <th>3444</th>\n",
       "      <td>karolin hijazi</td>\n",
       "      <td>Jordan</td>\n",
       "      <td>Western Asia</td>\n",
       "      <td>Asia</td>\n",
       "      <td>0.795691</td>\n",
       "    </tr>\n",
       "    <tr>\n",
       "      <th>2002</th>\n",
       "      <td>luigi gatta</td>\n",
       "      <td>Italy</td>\n",
       "      <td>Southern Europe</td>\n",
       "      <td>Europe</td>\n",
       "      <td>4.511159</td>\n",
       "    </tr>\n",
       "    <tr>\n",
       "      <th>6733</th>\n",
       "      <td>salem al-deyab</td>\n",
       "      <td>Libya</td>\n",
       "      <td>Northern Africa</td>\n",
       "      <td>Africa</td>\n",
       "      <td>2.596601</td>\n",
       "    </tr>\n",
       "    <tr>\n",
       "      <th>5249</th>\n",
       "      <td>norio komatsu</td>\n",
       "      <td>Japan</td>\n",
       "      <td>Eastern Asia</td>\n",
       "      <td>Asia</td>\n",
       "      <td>3.918427</td>\n",
       "    </tr>\n",
       "    <tr>\n",
       "      <th>3037</th>\n",
       "      <td>john sievenpiper</td>\n",
       "      <td>Ireland</td>\n",
       "      <td>Northern Europe</td>\n",
       "      <td>Europe</td>\n",
       "      <td>2.875361</td>\n",
       "    </tr>\n",
       "    <tr>\n",
       "      <th>6779</th>\n",
       "      <td>koki urita</td>\n",
       "      <td>India</td>\n",
       "      <td>Southern Asia</td>\n",
       "      <td>Asia</td>\n",
       "      <td>0.819504</td>\n",
       "    </tr>\n",
       "  </tbody>\n",
       "</table>\n",
       "</div>"
      ],
      "text/plain": [
       "                      full_name  \\\n",
       "2932             paul rutgeerts   \n",
       "5474             christopher ta   \n",
       "964                 ian morison   \n",
       "5373          alexander voityuk   \n",
       "449               robert burton   \n",
       "6606              mitsuru okuno   \n",
       "4455                dongmei qin   \n",
       "253         mario perez-jimenez   \n",
       "3568               alyne simoes   \n",
       "5384              andrew mackay   \n",
       "4660            melanie vincent   \n",
       "1188             jean glenisson   \n",
       "2054              jeffrey gould   \n",
       "4859              talitha selby   \n",
       "1674                 iain carey   \n",
       "5786                 gil arvatz   \n",
       "2825           monique prinssen   \n",
       "164            henrik vosegaard   \n",
       "2718                 ann o'hare   \n",
       "3360                 gloria yeh   \n",
       "348   maria conception carvalho   \n",
       "5658               neeraj visen   \n",
       "6736               jaime campos   \n",
       "418               prashant nair   \n",
       "3428                weiqiong gu   \n",
       "2974        lisette schoonhoven   \n",
       "3332                hans woerle   \n",
       "3492                  weber lau   \n",
       "5620               owen mccarty   \n",
       "6823             stacy markison   \n",
       "4090           arumugam sudalai   \n",
       "204               penny whiting   \n",
       "3399              doyin oluwole   \n",
       "6811               akira takada   \n",
       "4415               maureen neal   \n",
       "2043               john goldman   \n",
       "1608               mike boggild   \n",
       "561               michael crabb   \n",
       "704                paul burkett   \n",
       "2386               clifton lacy   \n",
       "5551            darren hamilton   \n",
       "2509        christine macarthur   \n",
       "3362               kol jia yong   \n",
       "4003              myeong ok kim   \n",
       "3444             karolin hijazi   \n",
       "2002                luigi gatta   \n",
       "6733             salem al-deyab   \n",
       "5249              norio komatsu   \n",
       "3037           john sievenpiper   \n",
       "6779                 koki urita   \n",
       "\n",
       "                                            countryName           subRegion  \\\n",
       "2932                                            Belgium      Western Europe   \n",
       "5474                                           Viet Nam  South-Eastern Asia   \n",
       "964   United Kingdom of Great Britain and Northern I...     Northern Europe   \n",
       "5373                                 Russian Federation      Eastern Europe   \n",
       "449                                             Ireland     Northern Europe   \n",
       "6606                                              Japan        Eastern Asia   \n",
       "4455                                              China        Eastern Asia   \n",
       "253                                               Spain     Southern Europe   \n",
       "3568                                             France      Western Europe   \n",
       "5384  United Kingdom of Great Britain and Northern I...     Northern Europe   \n",
       "4660                                             France      Western Europe   \n",
       "1188                                             France      Western Europe   \n",
       "2054  United Kingdom of Great Britain and Northern I...     Northern Europe   \n",
       "4859  United Kingdom of Great Britain and Northern I...     Northern Europe   \n",
       "1674  United Kingdom of Great Britain and Northern I...     Northern Europe   \n",
       "5786                                             Israel        Western Asia   \n",
       "2825                                        Netherlands      Western Europe   \n",
       "164                                             Denmark     Northern Europe   \n",
       "2718                                            Ireland     Northern Europe   \n",
       "3360                                             Taiwan        Eastern Asia   \n",
       "348                                            Portugal     Southern Europe   \n",
       "5658                                              India       Southern Asia   \n",
       "6736                                              Spain     Southern Europe   \n",
       "418                                               India       Southern Asia   \n",
       "3428                                              China        Eastern Asia   \n",
       "2974                                        Netherlands      Western Europe   \n",
       "3332                                             Israel        Western Asia   \n",
       "3492                                              China        Eastern Asia   \n",
       "5620                                            Ireland     Northern Europe   \n",
       "6823                                             Israel        Western Asia   \n",
       "4090                                              India       Southern Asia   \n",
       "204   United Kingdom of Great Britain and Northern I...     Northern Europe   \n",
       "3399                                            Nigeria      Western Africa   \n",
       "6811                                              Japan        Eastern Asia   \n",
       "4415  United Kingdom of Great Britain and Northern I...     Northern Europe   \n",
       "2043  United Kingdom of Great Britain and Northern I...     Northern Europe   \n",
       "1608  United Kingdom of Great Britain and Northern I...     Northern Europe   \n",
       "561                                             Ireland     Northern Europe   \n",
       "704   United Kingdom of Great Britain and Northern I...     Northern Europe   \n",
       "2386  United Kingdom of Great Britain and Northern I...     Northern Europe   \n",
       "5551  United Kingdom of Great Britain and Northern I...     Northern Europe   \n",
       "2509  United Kingdom of Great Britain and Northern I...     Northern Europe   \n",
       "3362                                              China        Eastern Asia   \n",
       "4003                                 Korea, Republic of        Eastern Asia   \n",
       "3444                                             Jordan        Western Asia   \n",
       "2002                                              Italy     Southern Europe   \n",
       "6733                                              Libya     Northern Africa   \n",
       "5249                                              Japan        Eastern Asia   \n",
       "3037                                            Ireland     Northern Europe   \n",
       "6779                                              India       Southern Asia   \n",
       "\n",
       "     topRegion  score_origin  \n",
       "2932    Europe      3.854667  \n",
       "5474      Asia      1.636782  \n",
       "964     Europe      2.132824  \n",
       "5373    Europe      3.562407  \n",
       "449     Europe      3.201207  \n",
       "6606      Asia      3.753080  \n",
       "4455      Asia      4.575318  \n",
       "253     Europe      2.642884  \n",
       "3568    Europe      0.826543  \n",
       "5384    Europe      3.325402  \n",
       "4660    Europe      3.001219  \n",
       "1188    Europe      3.444656  \n",
       "2054    Europe      2.369900  \n",
       "4859    Europe      2.110268  \n",
       "1674    Europe      1.822330  \n",
       "5786      Asia      3.586966  \n",
       "2825    Europe      4.019084  \n",
       "164     Europe      4.628559  \n",
       "2718    Europe      3.552052  \n",
       "3360      Asia      3.149055  \n",
       "348     Europe      2.950097  \n",
       "5658      Asia      2.566202  \n",
       "6736    Europe      3.763286  \n",
       "418       Asia      2.766689  \n",
       "3428      Asia      4.135178  \n",
       "2974    Europe      4.277211  \n",
       "3332      Asia      3.073384  \n",
       "3492      Asia      3.202515  \n",
       "5620    Europe      3.634675  \n",
       "6823      Asia      3.471031  \n",
       "4090      Asia      2.772554  \n",
       "204     Europe      2.638163  \n",
       "3399    Africa      4.882550  \n",
       "6811      Asia      4.225359  \n",
       "4415    Europe      1.667999  \n",
       "2043    Europe      2.763547  \n",
       "1608    Europe      3.465809  \n",
       "561     Europe      4.031770  \n",
       "704     Europe      2.181321  \n",
       "2386    Europe      1.293004  \n",
       "5551    Europe      3.574684  \n",
       "2509    Europe      3.112198  \n",
       "3362      Asia      3.421418  \n",
       "4003      Asia      7.200925  \n",
       "3444      Asia      0.795691  \n",
       "2002    Europe      4.511159  \n",
       "6733    Africa      2.596601  \n",
       "5249      Asia      3.918427  \n",
       "3037    Europe      2.875361  \n",
       "6779      Asia      0.819504  "
      ]
     },
     "execution_count": 27,
     "metadata": {},
     "output_type": "execute_result"
    }
   ],
   "source": [
    "sample[['full_name', 'countryName', 'subRegion', 'topRegion', 'score_origin']]"
   ]
  },
  {
   "cell_type": "markdown",
   "metadata": {},
   "source": [
    "The predicted origin seem fine for this data sample (at least in terms of subRegion and topRegion)."
   ]
  },
  {
   "cell_type": "markdown",
   "metadata": {},
   "source": [
    "## Evaluate errors w.r.t. origin"
   ]
  },
  {
   "cell_type": "code",
   "execution_count": 28,
   "metadata": {
    "collapsed": true
   },
   "outputs": [],
   "source": [
    "from evaluators import *\n",
    "from evaluator import *\n",
    "from config import DIR_PATH\n",
    "\n",
    "\n",
    "REGISTERED_EVALUATORS = [GenderAPIEvaluator, GenderAPIFullEvaluator, \\\n",
    "    NameAPIEvaluator, NameAPIFullEvaluator, GenderGuesserEvaluator, \\\n",
    "    GenderizeIoEvaluator, NamSorEvaluator]"
   ]
  },
  {
   "cell_type": "code",
   "execution_count": 29,
   "metadata": {
    "collapsed": true
   },
   "outputs": [],
   "source": [
    "gender_evalautor_to_service_name = {'gender_api': 'Gender API', 'gender_guesser': 'gender-guesser', \n",
    "                                    'genderize_io': 'genderize.io', 'name_api_full': 'NameAPI', 'namsor': 'NamSor'}\n",
    "def reduce_table(df, by_index):\n",
    "    \"\"\"Filter rows or columns of a benchmark table and rename.\"\"\"\n",
    "    df = df.sort_index()\n",
    "    if by_index:\n",
    "        df = df.loc[gender_evalautor_to_service_name.keys()]\n",
    "        df = df.rename(index=gender_evalautor_to_service_name)\n",
    "    else:\n",
    "        df = df[list(gender_evalautor_to_service_name.keys())]\n",
    "        df.columns = gender_evalautor_to_service_name.values()\n",
    "        sorted_cols = sorted(df.columns)\n",
    "        df = df[sorted_cols]\n",
    "    return df"
   ]
  },
  {
   "cell_type": "code",
   "execution_count": 31,
   "metadata": {
    "collapsed": false
   },
   "outputs": [
    {
     "name": "stdout",
     "output_type": "stream",
     "text": [
      "gender_api\n",
      "           full_name topRegion  api_accuracy\n",
      "2932  paul rutgeerts    Europe            99\n",
      "5474  christopher ta      Asia            99\n",
      "964      ian morison    Europe            99\n",
      "name_api_full\n",
      "           full_name topRegion  api_confidence\n",
      "2932  paul rutgeerts    Europe        0.911111\n",
      "5474  christopher ta      Asia        0.911111\n",
      "964      ian morison    Europe        0.901827\n",
      "genderize_io\n",
      "           full_name topRegion  api_probability\n",
      "2932  paul rutgeerts    Europe             1.00\n",
      "5474  christopher ta      Asia             1.00\n",
      "964      ian morison    Europe             0.99\n",
      "namsor\n",
      "           full_name topRegion  api_scale\n",
      "2932  paul rutgeerts    Europe       1.00\n",
      "5474  christopher ta      Asia       0.99\n",
      "964      ian morison    Europe       1.00\n",
      "gender_guesser\n",
      "           full_name topRegion  api_confidence\n",
      "2932  paul rutgeerts    Europe             1.0\n",
      "5474  christopher ta      Asia             1.0\n",
      "964      ian morison    Europe             1.0\n"
     ]
    },
    {
     "data": {
      "image/png": "[encoded data removed]",
      "text/plain": [
       "<matplotlib.figure.Figure at 0x10db97ac8>"
      ]
     },
     "metadata": {},
     "output_type": "display_data"
    }
   ],
   "source": [
    "# Compute mean and standard deviation of each service depending on the region\n",
    "accuracy_param_per_service = {\n",
    "    'gender_api': 'api_accuracy',\n",
    "    'genderize_io': 'api_probability',\n",
    "    'namsor': 'api_scale',\n",
    "    'name_api_full': 'api_confidence',\n",
    "    'gender_guesser': 'api_confidence'\n",
    "}\n",
    "\n",
    "fig, ax = plt.subplots(nrows=3, ncols=2, figsize=(16,10))\n",
    "#fig.suptitle('bold figure suptitle', fontsize=14, fontweight='bold')\n",
    "counter = 0\n",
    "for s in [GenderAPIEvaluator, NameAPIFullEvaluator, GenderizeIoEvaluator, NamSorEvaluator, GenderGuesserEvaluator]:  \n",
    "    evaluator = s('all')\n",
    "    eval_name = evaluator.gender_evaluator\n",
    "    evaluator.load_data(evaluated=True)\n",
    "    # add onomastic information and restrict to rows with reliable onomastic class\n",
    "    evaluator.test_data['topRegion'] = origin_df['topRegion']\n",
    "    evaluator.test_data['score_origin'] = origin_df['score_origin']\n",
    "    evaluator.test_data = evaluator.test_data[evaluator.test_data['score_origin']>0]\n",
    "    evaluator.preprocess_tuning_params()\n",
    "    accuracy_param = accuracy_param_per_service[eval_name]\n",
    "    row_index, col_index = divmod(counter, 2)\n",
    "    # for plausibility test print a few lines and numbers\n",
    "    print (eval_name)\n",
    "    print(evaluator.test_data[['full_name', 'topRegion', accuracy_param]].sample(3, random_state=1))\n",
    "    # plot; see http://blog.bharatbhole.com/creating-boxplots-with-matplotlib/ for tweaking the appearance\n",
    "    evaluator.test_data.boxplot(column=accuracy_param, by='topRegion', ax=ax[row_index, col_index], patch_artist=True)\n",
    "    ax[row_index, col_index].set_title(eval_name, fontsize=12)\n",
    "    ax[row_index, col_index].set_xlabel('')\n",
    "    counter +=1"
   ]
  },
  {
   "cell_type": "markdown",
   "metadata": {},
   "source": [
    "**The boxplots for the mean and deviation of the api confidence w.r.t to different top regions show that:** \n",
    "\n",
    "* all services except Name API show the highest confidence for gender inference for names of European origin: here the mean is at (almost) the highest possible value and the standard deviation is very low. \n",
    "* all services show the highest standard deviation values for names of Asian origin, which implies that for Asia, the quality of the name-based gender inference variies depending on the subregion or country. However, gender API and genderize_io have a significantly higher mean and a lower std. dev. for Asian names than gender_guesser or Namsor. \n",
    "* genderize_io shows a suspiciously high confidence for Asian names.\n",
    "* A similar picture is botained for African names, but the deviation is lower than for Asian names.\n",
    "* Name API shows a different behaviour than the other services. IN terms of the API's confidence there is not as much difference w.r.t to the regions."
   ]
  },
  {
   "cell_type": "code",
   "execution_count": 33,
   "metadata": {
    "collapsed": false
   },
   "outputs": [
    {
     "data": {
      "image/png": "[encoded data removed]",
      "text/plain": [
       "<matplotlib.figure.Figure at 0x10cf0a7f0>"
      ]
     },
     "metadata": {},
     "output_type": "display_data"
    }
   ],
   "source": [
    "# Compute mean and standard deviation of each service depending on the sub region with topRegion=Asia\n",
    "accuracy_param_per_service = {\n",
    "    'gender_api': 'api_accuracy',\n",
    "    'genderize_io': 'api_probability',\n",
    "    'namsor': 'api_scale',\n",
    "    'name_api_full': 'api_confidence',\n",
    "    'gender_guesser': 'api_confidence'\n",
    "}\n",
    "\n",
    "fig, ax = plt.subplots(nrows=3, ncols=2, figsize=(16,16))\n",
    "#fig.suptitle('bold figure suptitle', fontsize=14, fontweight='bold')\n",
    "counter = 0\n",
    "for s in [GenderAPIEvaluator, NameAPIFullEvaluator, GenderizeIoEvaluator, NamSorEvaluator, GenderGuesserEvaluator]:  \n",
    "    evaluator = s('all')\n",
    "    eval_name = evaluator.gender_evaluator\n",
    "    evaluator.load_data(evaluated=True)\n",
    "    # add onomastic information and restrict to rows with reliable onomastic class\n",
    "    evaluator.test_data['topRegion'] = origin_df['topRegion']\n",
    "    evaluator.test_data['subRegion'] = origin_df['subRegion']\n",
    "    evaluator.test_data['score_origin'] = origin_df['score_origin']\n",
    "    evaluator.test_data = evaluator.test_data[evaluator.test_data['score_origin']>0]\n",
    "    evaluator.test_data = evaluator.test_data[evaluator.test_data['topRegion']=='Asia']\n",
    "    evaluator.preprocess_tuning_params()\n",
    "    accuracy_param = accuracy_param_per_service[eval_name]\n",
    "    row_index, col_index = divmod(counter, 2)\n",
    "    # plot; see http://blog.bharatbhole.com/creating-boxplots-with-matplotlib/ for tweaking the appearance\n",
    "    evaluator.test_data.boxplot(column=accuracy_param, by='subRegion', ax=ax[row_index, col_index], \n",
    "                                patch_artist=True)\n",
    "    ax[row_index, col_index].set_title(eval_name, fontsize=12)\n",
    "    ax[row_index, col_index].set_xlabel('')\n",
    "    ax[row_index, col_index].set_xticklabels(ax[row_index, col_index].get_xticklabels(),rotation=20)\n",
    "    counter +=1\n",
    "fig.tight_layout()"
   ]
  },
  {
   "cell_type": "markdown",
   "metadata": {},
   "source": [
    "* genderize_io shows, as seen before, a too high mean for all Asian regions but std is higher for Eastern and South Eastern Asia\n",
    "* All services struggle most with East Asia but e.g. gender_api has stil mean above 80 for East Asia and Namsor has almost 0 (similar to gender_guesser) \n",
    "* Name API: similar confidence for all Asian subRegions\n",
    "* gender_guesser: mean = 0 for Eastern and South-Eastern Asia, higher for Southern Asia and high (=1) for Central and Western Asia\n"
   ]
  },
  {
   "cell_type": "code",
   "execution_count": 34,
   "metadata": {
    "collapsed": true
   },
   "outputs": [],
   "source": [
    "def compute_all_errors_without_tuning(name_origin, origin_level):\n",
    "    \"\"\"'origin_level' specifies the level within the onomastic class, and should be one of \n",
    "    'topRegion', 'subRegion' and 'country'. THe variable 'name_origin' is the value of the onomastic class, e.g.\n",
    "    'Ireland' in origin_level is country.\"\"\"\n",
    "    service_to_all_errors = {}\n",
    "    error_names = ['errorCoded', 'errorCodedWithoutNA', 'errorGenderBias', 'naCoded', 'WeightedError']\n",
    "    \n",
    "    for s in REGISTERED_EVALUATORS:  \n",
    "        evaluator = s('all')\n",
    "        eval_name = evaluator.gender_evaluator\n",
    "        evaluator.load_data(evaluated=True)\n",
    "        # add onomastic information and restrict to rows with reliable onomastic class\n",
    "        evaluator.test_data['topRegion'] = origin_df['topRegion']\n",
    "        evaluator.test_data['subRegion'] = origin_df['subRegion']\n",
    "        evaluator.test_data['country'] = origin_df['country']\n",
    "        evaluator.test_data['score_origin'] = origin_df['score_origin']\n",
    "        evaluator.test_data = evaluator.test_data[evaluator.test_data['score_origin']>0]\n",
    "        # compute errors per name origin\n",
    "        evaluator.test_data = evaluator.test_data[evaluator.test_data[origin_level]==name_origin].reset_index(drop=True)\n",
    "        evaluator._translate_api_response()\n",
    "        evaluator.compute_confusion_matrix(evaluator.test_data)\n",
    "        errors = evaluator.compute_all_errors()\n",
    "        service_to_all_errors[eval_name] = errors\n",
    "    all_errors = pd.DataFrame.from_dict(service_to_all_errors, orient='index')\n",
    "    all_errors.columns = error_names\n",
    "    return all_errors"
   ]
  },
  {
   "cell_type": "code",
   "execution_count": 35,
   "metadata": {
    "collapsed": false
   },
   "outputs": [
    {
     "data": {
      "text/html": [
       "<style  type=\"text/css\" >\n",
       "    #T_639f88a8_5427_11e8_aa97_4a0004aa2aa0row0_col0 {\n",
       "            background-color:  #008000;\n",
       "        }    #T_639f88a8_5427_11e8_aa97_4a0004aa2aa0row0_col1 {\n",
       "            background-color:  #e5ffe5;\n",
       "        }    #T_639f88a8_5427_11e8_aa97_4a0004aa2aa0row0_col2 {\n",
       "            background-color:  #dbf9db;\n",
       "        }    #T_639f88a8_5427_11e8_aa97_4a0004aa2aa0row0_col3 {\n",
       "            background-color:  #008000;\n",
       "        }    #T_639f88a8_5427_11e8_aa97_4a0004aa2aa0row0_col4 {\n",
       "            background-color:  #008000;\n",
       "        }    #T_639f88a8_5427_11e8_aa97_4a0004aa2aa0row1_col0 {\n",
       "            background-color:  #d9f8d9;\n",
       "        }    #T_639f88a8_5427_11e8_aa97_4a0004aa2aa0row1_col1 {\n",
       "            background-color:  #82c882;\n",
       "        }    #T_639f88a8_5427_11e8_aa97_4a0004aa2aa0row1_col2 {\n",
       "            background-color:  #a8dda8;\n",
       "        }    #T_639f88a8_5427_11e8_aa97_4a0004aa2aa0row1_col3 {\n",
       "            background-color:  #d5f6d5;\n",
       "        }    #T_639f88a8_5427_11e8_aa97_4a0004aa2aa0row1_col4 {\n",
       "            background-color:  #e5ffe5;\n",
       "        }    #T_639f88a8_5427_11e8_aa97_4a0004aa2aa0row2_col0 {\n",
       "            background-color:  #e5ffe5;\n",
       "        }    #T_639f88a8_5427_11e8_aa97_4a0004aa2aa0row2_col1 {\n",
       "            background-color:  #56af56;\n",
       "        }    #T_639f88a8_5427_11e8_aa97_4a0004aa2aa0row2_col2 {\n",
       "            background-color:  #e5ffe5;\n",
       "        }    #T_639f88a8_5427_11e8_aa97_4a0004aa2aa0row2_col3 {\n",
       "            background-color:  #e5ffe5;\n",
       "        }    #T_639f88a8_5427_11e8_aa97_4a0004aa2aa0row2_col4 {\n",
       "            background-color:  #e5ffe5;\n",
       "        }    #T_639f88a8_5427_11e8_aa97_4a0004aa2aa0row3_col0 {\n",
       "            background-color:  #a9dea9;\n",
       "        }    #T_639f88a8_5427_11e8_aa97_4a0004aa2aa0row3_col1 {\n",
       "            background-color:  #008000;\n",
       "        }    #T_639f88a8_5427_11e8_aa97_4a0004aa2aa0row3_col2 {\n",
       "            background-color:  #008000;\n",
       "        }    #T_639f88a8_5427_11e8_aa97_4a0004aa2aa0row3_col3 {\n",
       "            background-color:  #b2e3b2;\n",
       "        }    #T_639f88a8_5427_11e8_aa97_4a0004aa2aa0row3_col4 {\n",
       "            background-color:  #87cb87;\n",
       "        }    #T_639f88a8_5427_11e8_aa97_4a0004aa2aa0row4_col0 {\n",
       "            background-color:  #70be70;\n",
       "        }    #T_639f88a8_5427_11e8_aa97_4a0004aa2aa0row4_col1 {\n",
       "            background-color:  #bae7ba;\n",
       "        }    #T_639f88a8_5427_11e8_aa97_4a0004aa2aa0row4_col2 {\n",
       "            background-color:  #219221;\n",
       "        }    #T_639f88a8_5427_11e8_aa97_4a0004aa2aa0row4_col3 {\n",
       "            background-color:  #6fbd6f;\n",
       "        }    #T_639f88a8_5427_11e8_aa97_4a0004aa2aa0row4_col4 {\n",
       "            background-color:  #82c882;\n",
       "        }</style>  \n",
       "<table id=\"T_639f88a8_5427_11e8_aa97_4a0004aa2aa0\" > \n",
       "<thead>    <tr> \n",
       "        <th class=\"blank level0\" ></th> \n",
       "        <th class=\"col_heading level0 col0\" >errorCoded</th> \n",
       "        <th class=\"col_heading level0 col1\" >errorCodedWithoutNA</th> \n",
       "        <th class=\"col_heading level0 col2\" >errorGenderBias</th> \n",
       "        <th class=\"col_heading level0 col3\" >naCoded</th> \n",
       "        <th class=\"col_heading level0 col4\" >WeightedError</th> \n",
       "    </tr></thead> \n",
       "<tbody>    <tr> \n",
       "        <th id=\"T_639f88a8_5427_11e8_aa97_4a0004aa2aa0level0_row0\" class=\"row_heading level0 row0\" >gender-guesser</th> \n",
       "        <td id=\"T_639f88a8_5427_11e8_aa97_4a0004aa2aa0row0_col0\" class=\"data row0 col0\" >0.244</td> \n",
       "        <td id=\"T_639f88a8_5427_11e8_aa97_4a0004aa2aa0row0_col1\" class=\"data row0 col1\" >0.037</td> \n",
       "        <td id=\"T_639f88a8_5427_11e8_aa97_4a0004aa2aa0row0_col2\" class=\"data row0 col2\" >-0.009</td> \n",
       "        <td id=\"T_639f88a8_5427_11e8_aa97_4a0004aa2aa0row0_col3\" class=\"data row0 col3\" >0.215</td> \n",
       "        <td id=\"T_639f88a8_5427_11e8_aa97_4a0004aa2aa0row0_col4\" class=\"data row0 col4\" >0.087</td> \n",
       "    </tr>    <tr> \n",
       "        <th id=\"T_639f88a8_5427_11e8_aa97_4a0004aa2aa0level0_row1\" class=\"row_heading level0 row1\" >NamSor</th> \n",
       "        <td id=\"T_639f88a8_5427_11e8_aa97_4a0004aa2aa0row1_col0\" class=\"data row1 col0\" >0.065</td> \n",
       "        <td id=\"T_639f88a8_5427_11e8_aa97_4a0004aa2aa0row1_col1\" class=\"data row1 col1\" >0.044</td> \n",
       "        <td id=\"T_639f88a8_5427_11e8_aa97_4a0004aa2aa0row1_col2\" class=\"data row1 col2\" >0</td> \n",
       "        <td id=\"T_639f88a8_5427_11e8_aa97_4a0004aa2aa0row1_col3\" class=\"data row1 col3\" >0.022</td> \n",
       "        <td id=\"T_639f88a8_5427_11e8_aa97_4a0004aa2aa0row1_col4\" class=\"data row1 col4\" >0.048</td> \n",
       "    </tr>    <tr> \n",
       "        <th id=\"T_639f88a8_5427_11e8_aa97_4a0004aa2aa0level0_row2\" class=\"row_heading level0 row2\" >Gender API</th> \n",
       "        <td id=\"T_639f88a8_5427_11e8_aa97_4a0004aa2aa0row2_col0\" class=\"data row2 col0\" >0.054</td> \n",
       "        <td id=\"T_639f88a8_5427_11e8_aa97_4a0004aa2aa0row2_col1\" class=\"data row2 col1\" >0.047</td> \n",
       "        <td id=\"T_639f88a8_5427_11e8_aa97_4a0004aa2aa0row2_col2\" class=\"data row2 col2\" >-0.011</td> \n",
       "        <td id=\"T_639f88a8_5427_11e8_aa97_4a0004aa2aa0row2_col3\" class=\"data row2 col3\" >0.007</td> \n",
       "        <td id=\"T_639f88a8_5427_11e8_aa97_4a0004aa2aa0row2_col4\" class=\"data row2 col4\" >0.048</td> \n",
       "    </tr>    <tr> \n",
       "        <th id=\"T_639f88a8_5427_11e8_aa97_4a0004aa2aa0level0_row3\" class=\"row_heading level0 row3\" >genderize.io</th> \n",
       "        <td id=\"T_639f88a8_5427_11e8_aa97_4a0004aa2aa0row3_col0\" class=\"data row3 col0\" >0.104</td> \n",
       "        <td id=\"T_639f88a8_5427_11e8_aa97_4a0004aa2aa0row3_col1\" class=\"data row3 col1\" >0.053</td> \n",
       "        <td id=\"T_639f88a8_5427_11e8_aa97_4a0004aa2aa0row3_col2\" class=\"data row3 col2\" >0.03</td> \n",
       "        <td id=\"T_639f88a8_5427_11e8_aa97_4a0004aa2aa0row3_col3\" class=\"data row3 col3\" >0.054</td> \n",
       "        <td id=\"T_639f88a8_5427_11e8_aa97_4a0004aa2aa0row3_col4\" class=\"data row3 col4\" >0.064</td> \n",
       "    </tr>    <tr> \n",
       "        <th id=\"T_639f88a8_5427_11e8_aa97_4a0004aa2aa0level0_row4\" class=\"row_heading level0 row4\" >NameAPI</th> \n",
       "        <td id=\"T_639f88a8_5427_11e8_aa97_4a0004aa2aa0row4_col0\" class=\"data row4 col0\" >0.151</td> \n",
       "        <td id=\"T_639f88a8_5427_11e8_aa97_4a0004aa2aa0row4_col1\" class=\"data row4 col1\" >0.04</td> \n",
       "        <td id=\"T_639f88a8_5427_11e8_aa97_4a0004aa2aa0row4_col2\" class=\"data row4 col2\" >0.024</td> \n",
       "        <td id=\"T_639f88a8_5427_11e8_aa97_4a0004aa2aa0row4_col3\" class=\"data row4 col3\" >0.115</td> \n",
       "        <td id=\"T_639f88a8_5427_11e8_aa97_4a0004aa2aa0row4_col4\" class=\"data row4 col4\" >0.065</td> \n",
       "    </tr></tbody> \n",
       "</table> "
      ],
      "text/plain": [
       "<pandas.io.formats.style.Styler at 0x10dc5a780>"
      ]
     },
     "execution_count": 35,
     "metadata": {},
     "output_type": "execute_result"
    }
   ],
   "source": [
    "# Benchmark 1 for topRegion Africa\n",
    "cm = sns.light_palette(\"green\", as_cmap=True)\n",
    "df = compute_all_errors_without_tuning(name_origin='Africa', origin_level='topRegion')\n",
    "df = reduce_table(df, by_index=True)\n",
    "df = df.round(3)\n",
    "\n",
    "df.style.background_gradient(cmap=cm)"
   ]
  },
  {
   "cell_type": "code",
   "execution_count": 36,
   "metadata": {
    "collapsed": false
   },
   "outputs": [
    {
     "data": {
      "text/plain": [
       "Index(['errorCoded', 'errorCodedWithoutNA', 'errorGenderBias', 'naCoded',\n",
       "       'WeightedError'],\n",
       "      dtype='object')"
      ]
     },
     "execution_count": 36,
     "metadata": {},
     "output_type": "execute_result"
    }
   ],
   "source": [
    "df.columns"
   ]
  },
  {
   "cell_type": "markdown",
   "metadata": {},
   "source": [
    "### Name origin level: `topRegion`"
   ]
  },
  {
   "cell_type": "code",
   "execution_count": 37,
   "metadata": {
    "collapsed": false
   },
   "outputs": [
    {
     "data": {
      "text/plain": [
       "array(['Europe', 'Asia', 'Africa'], dtype=object)"
      ]
     },
     "execution_count": 37,
     "metadata": {},
     "output_type": "execute_result"
    }
   ],
   "source": [
    "top_regions = origin_df[origin_df.score_origin>0]['topRegion'].unique()\n",
    "top_regions"
   ]
  },
  {
   "cell_type": "code",
   "execution_count": 38,
   "metadata": {
    "collapsed": true
   },
   "outputs": [],
   "source": [
    "top_region_to_errors = {}\n",
    "for item in top_regions:\n",
    "    df = compute_all_errors_without_tuning(name_origin=item, origin_level='topRegion')\n",
    "    df = reduce_table(df, by_index=True)\n",
    "    df = df.round(3)\n",
    "    top_region_to_errors[item] = df"
   ]
  },
  {
   "cell_type": "code",
   "execution_count": 39,
   "metadata": {
    "collapsed": false
   },
   "outputs": [
    {
     "data": {
      "text/html": [
       "<style  type=\"text/css\" >\n",
       "    #T_6c6b2212_5427_11e8_90e4_4a0004aa2aa0row0_col0 {\n",
       "            background-color:  #008000;\n",
       "        }    #T_6c6b2212_5427_11e8_90e4_4a0004aa2aa0row0_col1 {\n",
       "            background-color:  #e5ffe5;\n",
       "        }    #T_6c6b2212_5427_11e8_90e4_4a0004aa2aa0row0_col2 {\n",
       "            background-color:  #8ecf8e;\n",
       "        }    #T_6c6b2212_5427_11e8_90e4_4a0004aa2aa0row0_col3 {\n",
       "            background-color:  #008000;\n",
       "        }    #T_6c6b2212_5427_11e8_90e4_4a0004aa2aa0row0_col4 {\n",
       "            background-color:  #008000;\n",
       "        }    #T_6c6b2212_5427_11e8_90e4_4a0004aa2aa0row1_col0 {\n",
       "            background-color:  #73c073;\n",
       "        }    #T_6c6b2212_5427_11e8_90e4_4a0004aa2aa0row1_col1 {\n",
       "            background-color:  #7dc57d;\n",
       "        }    #T_6c6b2212_5427_11e8_90e4_4a0004aa2aa0row1_col2 {\n",
       "            background-color:  #49a849;\n",
       "        }    #T_6c6b2212_5427_11e8_90e4_4a0004aa2aa0row1_col3 {\n",
       "            background-color:  #71bf71;\n",
       "        }    #T_6c6b2212_5427_11e8_90e4_4a0004aa2aa0row1_col4 {\n",
       "            background-color:  #95d395;\n",
       "        }    #T_6c6b2212_5427_11e8_90e4_4a0004aa2aa0row2_col0 {\n",
       "            background-color:  #e5ffe5;\n",
       "        }    #T_6c6b2212_5427_11e8_90e4_4a0004aa2aa0row2_col1 {\n",
       "            background-color:  #249424;\n",
       "        }    #T_6c6b2212_5427_11e8_90e4_4a0004aa2aa0row2_col2 {\n",
       "            background-color:  #e5ffe5;\n",
       "        }    #T_6c6b2212_5427_11e8_90e4_4a0004aa2aa0row2_col3 {\n",
       "            background-color:  #e5ffe5;\n",
       "        }    #T_6c6b2212_5427_11e8_90e4_4a0004aa2aa0row2_col4 {\n",
       "            background-color:  #e5ffe5;\n",
       "        }    #T_6c6b2212_5427_11e8_90e4_4a0004aa2aa0row3_col0 {\n",
       "            background-color:  #7fc67f;\n",
       "        }    #T_6c6b2212_5427_11e8_90e4_4a0004aa2aa0row3_col1 {\n",
       "            background-color:  #008000;\n",
       "        }    #T_6c6b2212_5427_11e8_90e4_4a0004aa2aa0row3_col2 {\n",
       "            background-color:  #008000;\n",
       "        }    #T_6c6b2212_5427_11e8_90e4_4a0004aa2aa0row3_col3 {\n",
       "            background-color:  #8bcd8b;\n",
       "        }    #T_6c6b2212_5427_11e8_90e4_4a0004aa2aa0row3_col4 {\n",
       "            background-color:  #6bbb6b;\n",
       "        }    #T_6c6b2212_5427_11e8_90e4_4a0004aa2aa0row4_col0 {\n",
       "            background-color:  #5eb45e;\n",
       "        }    #T_6c6b2212_5427_11e8_90e4_4a0004aa2aa0row4_col1 {\n",
       "            background-color:  #7dc57d;\n",
       "        }    #T_6c6b2212_5427_11e8_90e4_4a0004aa2aa0row4_col2 {\n",
       "            background-color:  #7cc57c;\n",
       "        }    #T_6c6b2212_5427_11e8_90e4_4a0004aa2aa0row4_col3 {\n",
       "            background-color:  #5eb45e;\n",
       "        }    #T_6c6b2212_5427_11e8_90e4_4a0004aa2aa0row4_col4 {\n",
       "            background-color:  #78c278;\n",
       "        }</style>  \n",
       "<table id=\"T_6c6b2212_5427_11e8_90e4_4a0004aa2aa0\" > \n",
       "<thead>    <tr> \n",
       "        <th class=\"blank level0\" ></th> \n",
       "        <th class=\"col_heading level0 col0\" >errorCoded</th> \n",
       "        <th class=\"col_heading level0 col1\" >errorCodedWithoutNA</th> \n",
       "        <th class=\"col_heading level0 col2\" >errorGenderBias</th> \n",
       "        <th class=\"col_heading level0 col3\" >naCoded</th> \n",
       "        <th class=\"col_heading level0 col4\" >WeightedError</th> \n",
       "    </tr></thead> \n",
       "<tbody>    <tr> \n",
       "        <th id=\"T_6c6b2212_5427_11e8_90e4_4a0004aa2aa0level0_row0\" class=\"row_heading level0 row0\" >gender-guesser</th> \n",
       "        <td id=\"T_6c6b2212_5427_11e8_90e4_4a0004aa2aa0row0_col0\" class=\"data row0 col0\" >0.517</td> \n",
       "        <td id=\"T_6c6b2212_5427_11e8_90e4_4a0004aa2aa0row0_col1\" class=\"data row0 col1\" >0.064</td> \n",
       "        <td id=\"T_6c6b2212_5427_11e8_90e4_4a0004aa2aa0row0_col2\" class=\"data row0 col2\" >0.014</td> \n",
       "        <td id=\"T_6c6b2212_5427_11e8_90e4_4a0004aa2aa0row0_col3\" class=\"data row0 col3\" >0.484</td> \n",
       "        <td id=\"T_6c6b2212_5427_11e8_90e4_4a0004aa2aa0row0_col4\" class=\"data row0 col4\" >0.212</td> \n",
       "    </tr>    <tr> \n",
       "        <th id=\"T_6c6b2212_5427_11e8_90e4_4a0004aa2aa0level0_row1\" class=\"row_heading level0 row1\" >NamSor</th> \n",
       "        <td id=\"T_6c6b2212_5427_11e8_90e4_4a0004aa2aa0row1_col0\" class=\"data row1 col0\" >0.346</td> \n",
       "        <td id=\"T_6c6b2212_5427_11e8_90e4_4a0004aa2aa0row1_col1\" class=\"data row1 col1\" >0.09</td> \n",
       "        <td id=\"T_6c6b2212_5427_11e8_90e4_4a0004aa2aa0row1_col2\" class=\"data row1 col2\" >0.033</td> \n",
       "        <td id=\"T_6c6b2212_5427_11e8_90e4_4a0004aa2aa0row1_col3\" class=\"data row1 col3\" >0.281</td> \n",
       "        <td id=\"T_6c6b2212_5427_11e8_90e4_4a0004aa2aa0row1_col4\" class=\"data row1 col4\" >0.156</td> \n",
       "    </tr>    <tr> \n",
       "        <th id=\"T_6c6b2212_5427_11e8_90e4_4a0004aa2aa0level0_row2\" class=\"row_heading level0 row2\" >Gender API</th> \n",
       "        <td id=\"T_6c6b2212_5427_11e8_90e4_4a0004aa2aa0row2_col0\" class=\"data row2 col0\" >0.176</td> \n",
       "        <td id=\"T_6c6b2212_5427_11e8_90e4_4a0004aa2aa0row2_col1\" class=\"data row2 col1\" >0.112</td> \n",
       "        <td id=\"T_6c6b2212_5427_11e8_90e4_4a0004aa2aa0row2_col2\" class=\"data row2 col2\" >-0.01</td> \n",
       "        <td id=\"T_6c6b2212_5427_11e8_90e4_4a0004aa2aa0row2_col3\" class=\"data row2 col3\" >0.072</td> \n",
       "        <td id=\"T_6c6b2212_5427_11e8_90e4_4a0004aa2aa0row2_col4\" class=\"data row2 col4\" >0.126</td> \n",
       "    </tr>    <tr> \n",
       "        <th id=\"T_6c6b2212_5427_11e8_90e4_4a0004aa2aa0level0_row3\" class=\"row_heading level0 row3\" >genderize.io</th> \n",
       "        <td id=\"T_6c6b2212_5427_11e8_90e4_4a0004aa2aa0row3_col0\" class=\"data row3 col0\" >0.328</td> \n",
       "        <td id=\"T_6c6b2212_5427_11e8_90e4_4a0004aa2aa0row3_col1\" class=\"data row3 col1\" >0.121</td> \n",
       "        <td id=\"T_6c6b2212_5427_11e8_90e4_4a0004aa2aa0row3_col2\" class=\"data row3 col2\" >0.053</td> \n",
       "        <td id=\"T_6c6b2212_5427_11e8_90e4_4a0004aa2aa0row3_col3\" class=\"data row3 col3\" >0.236</td> \n",
       "        <td id=\"T_6c6b2212_5427_11e8_90e4_4a0004aa2aa0row3_col4\" class=\"data row3 col4\" >0.172</td> \n",
       "    </tr>    <tr> \n",
       "        <th id=\"T_6c6b2212_5427_11e8_90e4_4a0004aa2aa0level0_row4\" class=\"row_heading level0 row4\" >NameAPI</th> \n",
       "        <td id=\"T_6c6b2212_5427_11e8_90e4_4a0004aa2aa0row4_col0\" class=\"data row4 col0\" >0.377</td> \n",
       "        <td id=\"T_6c6b2212_5427_11e8_90e4_4a0004aa2aa0row4_col1\" class=\"data row4 col1\" >0.09</td> \n",
       "        <td id=\"T_6c6b2212_5427_11e8_90e4_4a0004aa2aa0row4_col2\" class=\"data row4 col2\" >0.019</td> \n",
       "        <td id=\"T_6c6b2212_5427_11e8_90e4_4a0004aa2aa0row4_col3\" class=\"data row4 col3\" >0.316</td> \n",
       "        <td id=\"T_6c6b2212_5427_11e8_90e4_4a0004aa2aa0row4_col4\" class=\"data row4 col4\" >0.167</td> \n",
       "    </tr></tbody> \n",
       "</table> "
      ],
      "text/plain": [
       "<pandas.io.formats.style.Styler at 0x10dc5ab00>"
      ]
     },
     "execution_count": 39,
     "metadata": {},
     "output_type": "execute_result"
    }
   ],
   "source": [
    "top_region_to_errors['Asia'].style.background_gradient(cmap=cm)"
   ]
  },
  {
   "cell_type": "markdown",
   "metadata": {},
   "source": [
    "### Name origin level: `subRegion`"
   ]
  },
  {
   "cell_type": "code",
   "execution_count": 40,
   "metadata": {
    "collapsed": false
   },
   "outputs": [
    {
     "data": {
      "text/plain": [
       "array(['Western Europe', 'Southern Europe', 'Eastern Asia',\n",
       "       'Southern Asia', 'Northern Europe', 'Eastern Europe',\n",
       "       'Western Asia', 'Western Africa', 'Northern Africa',\n",
       "       'Eastern Africa', 'Southern Africa', 'South-Eastern Asia',\n",
       "       'Middle Africa', 'Central Asia'], dtype=object)"
      ]
     },
     "execution_count": 40,
     "metadata": {},
     "output_type": "execute_result"
    }
   ],
   "source": [
    "sub_regions = origin_df[origin_df.score_origin>0]['subRegion'].unique()\n",
    "sub_regions"
   ]
  },
  {
   "cell_type": "code",
   "execution_count": 41,
   "metadata": {
    "collapsed": true
   },
   "outputs": [],
   "source": [
    "sub_region_to_errors = {}\n",
    "for item in sub_regions:\n",
    "    df = compute_all_errors_without_tuning(name_origin=item, origin_level='subRegion')\n",
    "    df = reduce_table(df, by_index=True)\n",
    "    df = df.round(3)\n",
    "    sub_region_to_errors[item] = df"
   ]
  },
  {
   "cell_type": "code",
   "execution_count": 42,
   "metadata": {
    "collapsed": false
   },
   "outputs": [
    {
     "data": {
      "text/html": [
       "<style  type=\"text/css\" >\n",
       "    #T_b6e7789c_5427_11e8_8a43_4a0004aa2aa0row0_col0 {\n",
       "            background-color:  #008000;\n",
       "        }    #T_b6e7789c_5427_11e8_8a43_4a0004aa2aa0row0_col1 {\n",
       "            background-color:  #a2daa2;\n",
       "        }    #T_b6e7789c_5427_11e8_8a43_4a0004aa2aa0row0_col2 {\n",
       "            background-color:  #b8e6b8;\n",
       "        }    #T_b6e7789c_5427_11e8_8a43_4a0004aa2aa0row0_col3 {\n",
       "            background-color:  #008000;\n",
       "        }    #T_b6e7789c_5427_11e8_8a43_4a0004aa2aa0row0_col4 {\n",
       "            background-color:  #118911;\n",
       "        }    #T_b6e7789c_5427_11e8_8a43_4a0004aa2aa0row1_col0 {\n",
       "            background-color:  #e5ffe5;\n",
       "        }    #T_b6e7789c_5427_11e8_8a43_4a0004aa2aa0row1_col1 {\n",
       "            background-color:  #e5ffe5;\n",
       "        }    #T_b6e7789c_5427_11e8_8a43_4a0004aa2aa0row1_col2 {\n",
       "            background-color:  #5cb35c;\n",
       "        }    #T_b6e7789c_5427_11e8_8a43_4a0004aa2aa0row1_col3 {\n",
       "            background-color:  #defbde;\n",
       "        }    #T_b6e7789c_5427_11e8_8a43_4a0004aa2aa0row1_col4 {\n",
       "            background-color:  #e5ffe5;\n",
       "        }    #T_b6e7789c_5427_11e8_8a43_4a0004aa2aa0row2_col0 {\n",
       "            background-color:  #e5ffe5;\n",
       "        }    #T_b6e7789c_5427_11e8_8a43_4a0004aa2aa0row2_col1 {\n",
       "            background-color:  #bde9bd;\n",
       "        }    #T_b6e7789c_5427_11e8_8a43_4a0004aa2aa0row2_col2 {\n",
       "            background-color:  #e5ffe5;\n",
       "        }    #T_b6e7789c_5427_11e8_8a43_4a0004aa2aa0row2_col3 {\n",
       "            background-color:  #e5ffe5;\n",
       "        }    #T_b6e7789c_5427_11e8_8a43_4a0004aa2aa0row2_col4 {\n",
       "            background-color:  #cbf1cb;\n",
       "        }    #T_b6e7789c_5427_11e8_8a43_4a0004aa2aa0row3_col0 {\n",
       "            background-color:  #52ad52;\n",
       "        }    #T_b6e7789c_5427_11e8_8a43_4a0004aa2aa0row3_col1 {\n",
       "            background-color:  #008000;\n",
       "        }    #T_b6e7789c_5427_11e8_8a43_4a0004aa2aa0row3_col2 {\n",
       "            background-color:  #008000;\n",
       "        }    #T_b6e7789c_5427_11e8_8a43_4a0004aa2aa0row3_col3 {\n",
       "            background-color:  #72bf72;\n",
       "        }    #T_b6e7789c_5427_11e8_8a43_4a0004aa2aa0row3_col4 {\n",
       "            background-color:  #008000;\n",
       "        }    #T_b6e7789c_5427_11e8_8a43_4a0004aa2aa0row4_col0 {\n",
       "            background-color:  #72bf72;\n",
       "        }    #T_b6e7789c_5427_11e8_8a43_4a0004aa2aa0row4_col1 {\n",
       "            background-color:  #d8f8d8;\n",
       "        }    #T_b6e7789c_5427_11e8_8a43_4a0004aa2aa0row4_col2 {\n",
       "            background-color:  #5cb35c;\n",
       "        }    #T_b6e7789c_5427_11e8_8a43_4a0004aa2aa0row4_col3 {\n",
       "            background-color:  #6bbb6b;\n",
       "        }    #T_b6e7789c_5427_11e8_8a43_4a0004aa2aa0row4_col4 {\n",
       "            background-color:  #8dce8d;\n",
       "        }</style>  \n",
       "<table id=\"T_b6e7789c_5427_11e8_8a43_4a0004aa2aa0\" > \n",
       "<thead>    <tr> \n",
       "        <th class=\"blank level0\" ></th> \n",
       "        <th class=\"col_heading level0 col0\" >errorCoded</th> \n",
       "        <th class=\"col_heading level0 col1\" >errorCodedWithoutNA</th> \n",
       "        <th class=\"col_heading level0 col2\" >errorGenderBias</th> \n",
       "        <th class=\"col_heading level0 col3\" >naCoded</th> \n",
       "        <th class=\"col_heading level0 col4\" >WeightedError</th> \n",
       "    </tr></thead> \n",
       "<tbody>    <tr> \n",
       "        <th id=\"T_b6e7789c_5427_11e8_8a43_4a0004aa2aa0level0_row0\" class=\"row_heading level0 row0\" >gender-guesser</th> \n",
       "        <td id=\"T_b6e7789c_5427_11e8_8a43_4a0004aa2aa0row0_col0\" class=\"data row0 col0\" >0.113</td> \n",
       "        <td id=\"T_b6e7789c_5427_11e8_8a43_4a0004aa2aa0row0_col1\" class=\"data row0 col1\" >0.017</td> \n",
       "        <td id=\"T_b6e7789c_5427_11e8_8a43_4a0004aa2aa0row0_col2\" class=\"data row0 col2\" >-0.01</td> \n",
       "        <td id=\"T_b6e7789c_5427_11e8_8a43_4a0004aa2aa0row0_col3\" class=\"data row0 col3\" >0.098</td> \n",
       "        <td id=\"T_b6e7789c_5427_11e8_8a43_4a0004aa2aa0row0_col4\" class=\"data row0 col4\" >0.038</td> \n",
       "    </tr>    <tr> \n",
       "        <th id=\"T_b6e7789c_5427_11e8_8a43_4a0004aa2aa0level0_row1\" class=\"row_heading level0 row1\" >NamSor</th> \n",
       "        <td id=\"T_b6e7789c_5427_11e8_8a43_4a0004aa2aa0row1_col0\" class=\"data row1 col0\" >0.021</td> \n",
       "        <td id=\"T_b6e7789c_5427_11e8_8a43_4a0004aa2aa0row1_col1\" class=\"data row1 col1\" >0.012</td> \n",
       "        <td id=\"T_b6e7789c_5427_11e8_8a43_4a0004aa2aa0row1_col2\" class=\"data row1 col2\" >0</td> \n",
       "        <td id=\"T_b6e7789c_5427_11e8_8a43_4a0004aa2aa0row1_col3\" class=\"data row1 col3\" >0.009</td> \n",
       "        <td id=\"T_b6e7789c_5427_11e8_8a43_4a0004aa2aa0row1_col4\" class=\"data row1 col4\" >0.014</td> \n",
       "    </tr>    <tr> \n",
       "        <th id=\"T_b6e7789c_5427_11e8_8a43_4a0004aa2aa0level0_row2\" class=\"row_heading level0 row2\" >Gender API</th> \n",
       "        <td id=\"T_b6e7789c_5427_11e8_8a43_4a0004aa2aa0row2_col0\" class=\"data row2 col0\" >0.021</td> \n",
       "        <td id=\"T_b6e7789c_5427_11e8_8a43_4a0004aa2aa0row2_col1\" class=\"data row2 col1\" >0.015</td> \n",
       "        <td id=\"T_b6e7789c_5427_11e8_8a43_4a0004aa2aa0row2_col2\" class=\"data row2 col2\" >-0.015</td> \n",
       "        <td id=\"T_b6e7789c_5427_11e8_8a43_4a0004aa2aa0row2_col3\" class=\"data row2 col3\" >0.006</td> \n",
       "        <td id=\"T_b6e7789c_5427_11e8_8a43_4a0004aa2aa0row2_col4\" class=\"data row2 col4\" >0.017</td> \n",
       "    </tr>    <tr> \n",
       "        <th id=\"T_b6e7789c_5427_11e8_8a43_4a0004aa2aa0level0_row3\" class=\"row_heading level0 row3\" >genderize.io</th> \n",
       "        <td id=\"T_b6e7789c_5427_11e8_8a43_4a0004aa2aa0row3_col0\" class=\"data row3 col0\" >0.08</td> \n",
       "        <td id=\"T_b6e7789c_5427_11e8_8a43_4a0004aa2aa0row3_col1\" class=\"data row3 col1\" >0.029</td> \n",
       "        <td id=\"T_b6e7789c_5427_11e8_8a43_4a0004aa2aa0row3_col2\" class=\"data row3 col2\" >0.01</td> \n",
       "        <td id=\"T_b6e7789c_5427_11e8_8a43_4a0004aa2aa0row3_col3\" class=\"data row3 col3\" >0.052</td> \n",
       "        <td id=\"T_b6e7789c_5427_11e8_8a43_4a0004aa2aa0row3_col4\" class=\"data row3 col4\" >0.04</td> \n",
       "    </tr>    <tr> \n",
       "        <th id=\"T_b6e7789c_5427_11e8_8a43_4a0004aa2aa0level0_row4\" class=\"row_heading level0 row4\" >NameAPI</th> \n",
       "        <td id=\"T_b6e7789c_5427_11e8_8a43_4a0004aa2aa0row4_col0\" class=\"data row4 col0\" >0.067</td> \n",
       "        <td id=\"T_b6e7789c_5427_11e8_8a43_4a0004aa2aa0row4_col1\" class=\"data row4 col1\" >0.013</td> \n",
       "        <td id=\"T_b6e7789c_5427_11e8_8a43_4a0004aa2aa0row4_col2\" class=\"data row4 col2\" >0</td> \n",
       "        <td id=\"T_b6e7789c_5427_11e8_8a43_4a0004aa2aa0row4_col3\" class=\"data row4 col3\" >0.055</td> \n",
       "        <td id=\"T_b6e7789c_5427_11e8_8a43_4a0004aa2aa0row4_col4\" class=\"data row4 col4\" >0.024</td> \n",
       "    </tr></tbody> \n",
       "</table> "
      ],
      "text/plain": [
       "<pandas.io.formats.style.Styler at 0x10cfba550>"
      ]
     },
     "execution_count": 42,
     "metadata": {},
     "output_type": "execute_result"
    }
   ],
   "source": [
    "sub_region_to_errors['Eastern Europe'].style.background_gradient(cmap=cm)"
   ]
  },
  {
   "cell_type": "code",
   "execution_count": 43,
   "metadata": {
    "collapsed": false
   },
   "outputs": [
    {
     "data": {
      "text/html": [
       "<div>\n",
       "<style scoped>\n",
       "    .dataframe tbody tr th:only-of-type {\n",
       "        vertical-align: middle;\n",
       "    }\n",
       "\n",
       "    .dataframe tbody tr th {\n",
       "        vertical-align: top;\n",
       "    }\n",
       "\n",
       "    .dataframe thead tr th {\n",
       "        text-align: left;\n",
       "    }\n",
       "</style>\n",
       "<table border=\"1\" class=\"dataframe\">\n",
       "  <thead>\n",
       "    <tr>\n",
       "      <th></th>\n",
       "      <th colspan=\"5\" halign=\"left\">Europe</th>\n",
       "      <th colspan=\"5\" halign=\"left\">Asia</th>\n",
       "      <th colspan=\"5\" halign=\"left\">Africa</th>\n",
       "    </tr>\n",
       "    <tr>\n",
       "      <th></th>\n",
       "      <th>errorCoded</th>\n",
       "      <th>errorCodedWithoutNA</th>\n",
       "      <th>errorGenderBias</th>\n",
       "      <th>naCoded</th>\n",
       "      <th>WeightedError</th>\n",
       "      <th>errorCoded</th>\n",
       "      <th>errorCodedWithoutNA</th>\n",
       "      <th>errorGenderBias</th>\n",
       "      <th>naCoded</th>\n",
       "      <th>WeightedError</th>\n",
       "      <th>errorCoded</th>\n",
       "      <th>errorCodedWithoutNA</th>\n",
       "      <th>errorGenderBias</th>\n",
       "      <th>naCoded</th>\n",
       "      <th>WeightedError</th>\n",
       "    </tr>\n",
       "  </thead>\n",
       "  <tbody>\n",
       "    <tr>\n",
       "      <th>gender-guesser</th>\n",
       "      <td>0.075</td>\n",
       "      <td>0.015</td>\n",
       "      <td>0.000</td>\n",
       "      <td>0.061</td>\n",
       "      <td>0.027</td>\n",
       "      <td>0.517</td>\n",
       "      <td>0.064</td>\n",
       "      <td>0.014</td>\n",
       "      <td>0.484</td>\n",
       "      <td>0.212</td>\n",
       "      <td>0.244</td>\n",
       "      <td>0.037</td>\n",
       "      <td>-0.009</td>\n",
       "      <td>0.215</td>\n",
       "      <td>0.087</td>\n",
       "    </tr>\n",
       "    <tr>\n",
       "      <th>NamSor</th>\n",
       "      <td>0.027</td>\n",
       "      <td>0.021</td>\n",
       "      <td>-0.002</td>\n",
       "      <td>0.006</td>\n",
       "      <td>0.022</td>\n",
       "      <td>0.346</td>\n",
       "      <td>0.090</td>\n",
       "      <td>0.033</td>\n",
       "      <td>0.281</td>\n",
       "      <td>0.156</td>\n",
       "      <td>0.065</td>\n",
       "      <td>0.044</td>\n",
       "      <td>0.000</td>\n",
       "      <td>0.022</td>\n",
       "      <td>0.048</td>\n",
       "    </tr>\n",
       "    <tr>\n",
       "      <th>Gender API</th>\n",
       "      <td>0.028</td>\n",
       "      <td>0.021</td>\n",
       "      <td>-0.012</td>\n",
       "      <td>0.007</td>\n",
       "      <td>0.023</td>\n",
       "      <td>0.176</td>\n",
       "      <td>0.112</td>\n",
       "      <td>-0.010</td>\n",
       "      <td>0.072</td>\n",
       "      <td>0.126</td>\n",
       "      <td>0.054</td>\n",
       "      <td>0.047</td>\n",
       "      <td>-0.011</td>\n",
       "      <td>0.007</td>\n",
       "      <td>0.048</td>\n",
       "    </tr>\n",
       "    <tr>\n",
       "      <th>genderize.io</th>\n",
       "      <td>0.051</td>\n",
       "      <td>0.022</td>\n",
       "      <td>0.010</td>\n",
       "      <td>0.029</td>\n",
       "      <td>0.028</td>\n",
       "      <td>0.328</td>\n",
       "      <td>0.121</td>\n",
       "      <td>0.053</td>\n",
       "      <td>0.236</td>\n",
       "      <td>0.172</td>\n",
       "      <td>0.104</td>\n",
       "      <td>0.053</td>\n",
       "      <td>0.030</td>\n",
       "      <td>0.054</td>\n",
       "      <td>0.064</td>\n",
       "    </tr>\n",
       "    <tr>\n",
       "      <th>NameAPI</th>\n",
       "      <td>0.081</td>\n",
       "      <td>0.014</td>\n",
       "      <td>-0.002</td>\n",
       "      <td>0.068</td>\n",
       "      <td>0.028</td>\n",
       "      <td>0.377</td>\n",
       "      <td>0.090</td>\n",
       "      <td>0.019</td>\n",
       "      <td>0.316</td>\n",
       "      <td>0.167</td>\n",
       "      <td>0.151</td>\n",
       "      <td>0.040</td>\n",
       "      <td>0.024</td>\n",
       "      <td>0.115</td>\n",
       "      <td>0.065</td>\n",
       "    </tr>\n",
       "  </tbody>\n",
       "</table>\n",
       "</div>"
      ],
      "text/plain": [
       "                   Europe                                              \\\n",
       "               errorCoded errorCodedWithoutNA errorGenderBias naCoded   \n",
       "gender-guesser      0.075               0.015           0.000   0.061   \n",
       "NamSor              0.027               0.021          -0.002   0.006   \n",
       "Gender API          0.028               0.021          -0.012   0.007   \n",
       "genderize.io        0.051               0.022           0.010   0.029   \n",
       "NameAPI             0.081               0.014          -0.002   0.068   \n",
       "\n",
       "                                   Asia                                      \\\n",
       "               WeightedError errorCoded errorCodedWithoutNA errorGenderBias   \n",
       "gender-guesser         0.027      0.517               0.064           0.014   \n",
       "NamSor                 0.022      0.346               0.090           0.033   \n",
       "Gender API             0.023      0.176               0.112          -0.010   \n",
       "genderize.io           0.028      0.328               0.121           0.053   \n",
       "NameAPI                0.028      0.377               0.090           0.019   \n",
       "\n",
       "                                         Africa                      \\\n",
       "               naCoded WeightedError errorCoded errorCodedWithoutNA   \n",
       "gender-guesser   0.484         0.212      0.244               0.037   \n",
       "NamSor           0.281         0.156      0.065               0.044   \n",
       "Gender API       0.072         0.126      0.054               0.047   \n",
       "genderize.io     0.236         0.172      0.104               0.053   \n",
       "NameAPI          0.316         0.167      0.151               0.040   \n",
       "\n",
       "                                                      \n",
       "               errorGenderBias naCoded WeightedError  \n",
       "gender-guesser          -0.009   0.215         0.087  \n",
       "NamSor                   0.000   0.022         0.048  \n",
       "Gender API              -0.011   0.007         0.048  \n",
       "genderize.io             0.030   0.054         0.064  \n",
       "NameAPI                  0.024   0.115         0.065  "
      ]
     },
     "execution_count": 43,
     "metadata": {},
     "output_type": "execute_result"
    }
   ],
   "source": [
    "\n",
    "dfs_top_region = pd.concat(OrderedDict(top_region_to_errors.items()).values(), axis=1, \n",
    "                           keys=OrderedDict(top_region_to_errors.items()).keys())\n",
    "dfs_top_region "
   ]
  },
  {
   "cell_type": "code",
   "execution_count": 44,
   "metadata": {
    "collapsed": false
   },
   "outputs": [
    {
     "name": "stderr",
     "output_type": "stream",
     "text": [
      "/Users/helena.mihaljevic-br/.virtualenvs/name-based-inference/lib/python3.5/site-packages/ipykernel_launcher.py:2: FutureWarning: sortlevel is deprecated, use sort_index(level= ...)\n",
      "  \n"
     ]
    },
    {
     "data": {
      "text/html": [
       "<div>\n",
       "<style scoped>\n",
       "    .dataframe tbody tr th:only-of-type {\n",
       "        vertical-align: middle;\n",
       "    }\n",
       "\n",
       "    .dataframe tbody tr th {\n",
       "        vertical-align: top;\n",
       "    }\n",
       "\n",
       "    .dataframe thead tr th {\n",
       "        text-align: left;\n",
       "    }\n",
       "</style>\n",
       "<table border=\"1\" class=\"dataframe\">\n",
       "  <thead>\n",
       "    <tr>\n",
       "      <th></th>\n",
       "      <th colspan=\"3\" halign=\"left\">WeightedError</th>\n",
       "      <th colspan=\"3\" halign=\"left\">errorCoded</th>\n",
       "      <th colspan=\"3\" halign=\"left\">errorCodedWithoutNA</th>\n",
       "      <th colspan=\"3\" halign=\"left\">errorGenderBias</th>\n",
       "      <th colspan=\"3\" halign=\"left\">naCoded</th>\n",
       "    </tr>\n",
       "    <tr>\n",
       "      <th></th>\n",
       "      <th>Africa</th>\n",
       "      <th>Asia</th>\n",
       "      <th>Europe</th>\n",
       "      <th>Africa</th>\n",
       "      <th>Asia</th>\n",
       "      <th>Europe</th>\n",
       "      <th>Africa</th>\n",
       "      <th>Asia</th>\n",
       "      <th>Europe</th>\n",
       "      <th>Africa</th>\n",
       "      <th>Asia</th>\n",
       "      <th>Europe</th>\n",
       "      <th>Africa</th>\n",
       "      <th>Asia</th>\n",
       "      <th>Europe</th>\n",
       "    </tr>\n",
       "  </thead>\n",
       "  <tbody>\n",
       "    <tr>\n",
       "      <th>gender-guesser</th>\n",
       "      <td>0.087</td>\n",
       "      <td>0.212</td>\n",
       "      <td>0.027</td>\n",
       "      <td>0.244</td>\n",
       "      <td>0.517</td>\n",
       "      <td>0.075</td>\n",
       "      <td>0.037</td>\n",
       "      <td>0.064</td>\n",
       "      <td>0.015</td>\n",
       "      <td>-0.009</td>\n",
       "      <td>0.014</td>\n",
       "      <td>0.000</td>\n",
       "      <td>0.215</td>\n",
       "      <td>0.484</td>\n",
       "      <td>0.061</td>\n",
       "    </tr>\n",
       "    <tr>\n",
       "      <th>NamSor</th>\n",
       "      <td>0.048</td>\n",
       "      <td>0.156</td>\n",
       "      <td>0.022</td>\n",
       "      <td>0.065</td>\n",
       "      <td>0.346</td>\n",
       "      <td>0.027</td>\n",
       "      <td>0.044</td>\n",
       "      <td>0.090</td>\n",
       "      <td>0.021</td>\n",
       "      <td>0.000</td>\n",
       "      <td>0.033</td>\n",
       "      <td>-0.002</td>\n",
       "      <td>0.022</td>\n",
       "      <td>0.281</td>\n",
       "      <td>0.006</td>\n",
       "    </tr>\n",
       "    <tr>\n",
       "      <th>Gender API</th>\n",
       "      <td>0.048</td>\n",
       "      <td>0.126</td>\n",
       "      <td>0.023</td>\n",
       "      <td>0.054</td>\n",
       "      <td>0.176</td>\n",
       "      <td>0.028</td>\n",
       "      <td>0.047</td>\n",
       "      <td>0.112</td>\n",
       "      <td>0.021</td>\n",
       "      <td>-0.011</td>\n",
       "      <td>-0.010</td>\n",
       "      <td>-0.012</td>\n",
       "      <td>0.007</td>\n",
       "      <td>0.072</td>\n",
       "      <td>0.007</td>\n",
       "    </tr>\n",
       "    <tr>\n",
       "      <th>genderize.io</th>\n",
       "      <td>0.064</td>\n",
       "      <td>0.172</td>\n",
       "      <td>0.028</td>\n",
       "      <td>0.104</td>\n",
       "      <td>0.328</td>\n",
       "      <td>0.051</td>\n",
       "      <td>0.053</td>\n",
       "      <td>0.121</td>\n",
       "      <td>0.022</td>\n",
       "      <td>0.030</td>\n",
       "      <td>0.053</td>\n",
       "      <td>0.010</td>\n",
       "      <td>0.054</td>\n",
       "      <td>0.236</td>\n",
       "      <td>0.029</td>\n",
       "    </tr>\n",
       "    <tr>\n",
       "      <th>NameAPI</th>\n",
       "      <td>0.065</td>\n",
       "      <td>0.167</td>\n",
       "      <td>0.028</td>\n",
       "      <td>0.151</td>\n",
       "      <td>0.377</td>\n",
       "      <td>0.081</td>\n",
       "      <td>0.040</td>\n",
       "      <td>0.090</td>\n",
       "      <td>0.014</td>\n",
       "      <td>0.024</td>\n",
       "      <td>0.019</td>\n",
       "      <td>-0.002</td>\n",
       "      <td>0.115</td>\n",
       "      <td>0.316</td>\n",
       "      <td>0.068</td>\n",
       "    </tr>\n",
       "  </tbody>\n",
       "</table>\n",
       "</div>"
      ],
      "text/plain": [
       "               WeightedError               errorCoded                \\\n",
       "                      Africa   Asia Europe     Africa   Asia Europe   \n",
       "gender-guesser         0.087  0.212  0.027      0.244  0.517  0.075   \n",
       "NamSor                 0.048  0.156  0.022      0.065  0.346  0.027   \n",
       "Gender API             0.048  0.126  0.023      0.054  0.176  0.028   \n",
       "genderize.io           0.064  0.172  0.028      0.104  0.328  0.051   \n",
       "NameAPI                0.065  0.167  0.028      0.151  0.377  0.081   \n",
       "\n",
       "               errorCodedWithoutNA               errorGenderBias         \\\n",
       "                            Africa   Asia Europe          Africa   Asia   \n",
       "gender-guesser               0.037  0.064  0.015          -0.009  0.014   \n",
       "NamSor                       0.044  0.090  0.021           0.000  0.033   \n",
       "Gender API                   0.047  0.112  0.021          -0.011 -0.010   \n",
       "genderize.io                 0.053  0.121  0.022           0.030  0.053   \n",
       "NameAPI                      0.040  0.090  0.014           0.024  0.019   \n",
       "\n",
       "                      naCoded                \n",
       "               Europe  Africa   Asia Europe  \n",
       "gender-guesser  0.000   0.215  0.484  0.061  \n",
       "NamSor         -0.002   0.022  0.281  0.006  \n",
       "Gender API     -0.012   0.007  0.072  0.007  \n",
       "genderize.io    0.010   0.054  0.236  0.029  \n",
       "NameAPI        -0.002   0.115  0.316  0.068  "
      ]
     },
     "execution_count": 44,
     "metadata": {},
     "output_type": "execute_result"
    }
   ],
   "source": [
    "dfs_top_region.columns = dfs_top_region.columns.swaplevel(0, 1)\n",
    "dfs_top_region.sortlevel(0, axis=1, inplace=True)\n",
    "dfs_top_region"
   ]
  },
  {
   "cell_type": "code",
   "execution_count": 45,
   "metadata": {
    "collapsed": true
   },
   "outputs": [],
   "source": [
    "# Reorder columns\n",
    "dfs_top_region = dfs_top_region[dfs_top_region.columns.set_levels(['errorCoded', 'errorCodedWithoutNA', \n",
    "                                                                   'errorGenderBias', 'naCoded','WeightedError'], \n",
    "                                                                  level=0)]"
   ]
  },
  {
   "cell_type": "code",
   "execution_count": 46,
   "metadata": {
    "collapsed": false
   },
   "outputs": [
    {
     "data": {
      "text/html": [
       "<style  type=\"text/css\" >\n",
       "    #T_bce8fb8a_5427_11e8_ac58_4a0004aa2aa0 th {\n",
       "          max-width: 150px;\n",
       "    }    #T_bce8fb8a_5427_11e8_ac58_4a0004aa2aa0row0_col0 {\n",
       "            background-color:  #008000;\n",
       "        }    #T_bce8fb8a_5427_11e8_ac58_4a0004aa2aa0row0_col1 {\n",
       "            background-color:  #008000;\n",
       "        }    #T_bce8fb8a_5427_11e8_ac58_4a0004aa2aa0row0_col2 {\n",
       "            background-color:  #198e19;\n",
       "        }    #T_bce8fb8a_5427_11e8_ac58_4a0004aa2aa0row0_col3 {\n",
       "            background-color:  #e5ffe5;\n",
       "        }    #T_bce8fb8a_5427_11e8_ac58_4a0004aa2aa0row0_col4 {\n",
       "            background-color:  #e5ffe5;\n",
       "        }    #T_bce8fb8a_5427_11e8_ac58_4a0004aa2aa0row0_col5 {\n",
       "            background-color:  #caf0ca;\n",
       "        }    #T_bce8fb8a_5427_11e8_ac58_4a0004aa2aa0row0_col6 {\n",
       "            background-color:  #dbf9db;\n",
       "        }    #T_bce8fb8a_5427_11e8_ac58_4a0004aa2aa0row0_col7 {\n",
       "            background-color:  #8ecf8e;\n",
       "        }    #T_bce8fb8a_5427_11e8_ac58_4a0004aa2aa0row0_col8 {\n",
       "            background-color:  #68ba68;\n",
       "        }    #T_bce8fb8a_5427_11e8_ac58_4a0004aa2aa0row0_col9 {\n",
       "            background-color:  #008000;\n",
       "        }    #T_bce8fb8a_5427_11e8_ac58_4a0004aa2aa0row0_col10 {\n",
       "            background-color:  #008000;\n",
       "        }    #T_bce8fb8a_5427_11e8_ac58_4a0004aa2aa0row0_col11 {\n",
       "            background-color:  #198e19;\n",
       "        }    #T_bce8fb8a_5427_11e8_ac58_4a0004aa2aa0row0_col12 {\n",
       "            background-color:  #008000;\n",
       "        }    #T_bce8fb8a_5427_11e8_ac58_4a0004aa2aa0row0_col13 {\n",
       "            background-color:  #008000;\n",
       "        }    #T_bce8fb8a_5427_11e8_ac58_4a0004aa2aa0row0_col14 {\n",
       "            background-color:  #269526;\n",
       "        }    #T_bce8fb8a_5427_11e8_ac58_4a0004aa2aa0row1_col0 {\n",
       "            background-color:  #d9f8d9;\n",
       "        }    #T_bce8fb8a_5427_11e8_ac58_4a0004aa2aa0row1_col1 {\n",
       "            background-color:  #73c073;\n",
       "        }    #T_bce8fb8a_5427_11e8_ac58_4a0004aa2aa0row1_col2 {\n",
       "            background-color:  #e5ffe5;\n",
       "        }    #T_bce8fb8a_5427_11e8_ac58_4a0004aa2aa0row1_col3 {\n",
       "            background-color:  #82c882;\n",
       "        }    #T_bce8fb8a_5427_11e8_ac58_4a0004aa2aa0row1_col4 {\n",
       "            background-color:  #7dc57d;\n",
       "        }    #T_bce8fb8a_5427_11e8_ac58_4a0004aa2aa0row1_col5 {\n",
       "            background-color:  #1c8f1c;\n",
       "        }    #T_bce8fb8a_5427_11e8_ac58_4a0004aa2aa0row1_col6 {\n",
       "            background-color:  #a8dda8;\n",
       "        }    #T_bce8fb8a_5427_11e8_ac58_4a0004aa2aa0row1_col7 {\n",
       "            background-color:  #49a849;\n",
       "        }    #T_bce8fb8a_5427_11e8_ac58_4a0004aa2aa0row1_col8 {\n",
       "            background-color:  #7dc57d;\n",
       "        }    #T_bce8fb8a_5427_11e8_ac58_4a0004aa2aa0row1_col9 {\n",
       "            background-color:  #d5f6d5;\n",
       "        }    #T_bce8fb8a_5427_11e8_ac58_4a0004aa2aa0row1_col10 {\n",
       "            background-color:  #71bf71;\n",
       "        }    #T_bce8fb8a_5427_11e8_ac58_4a0004aa2aa0row1_col11 {\n",
       "            background-color:  #e5ffe5;\n",
       "        }    #T_bce8fb8a_5427_11e8_ac58_4a0004aa2aa0row1_col12 {\n",
       "            background-color:  #e5ffe5;\n",
       "        }    #T_bce8fb8a_5427_11e8_ac58_4a0004aa2aa0row1_col13 {\n",
       "            background-color:  #95d395;\n",
       "        }    #T_bce8fb8a_5427_11e8_ac58_4a0004aa2aa0row1_col14 {\n",
       "            background-color:  #e5ffe5;\n",
       "        }    #T_bce8fb8a_5427_11e8_ac58_4a0004aa2aa0row2_col0 {\n",
       "            background-color:  #e5ffe5;\n",
       "        }    #T_bce8fb8a_5427_11e8_ac58_4a0004aa2aa0row2_col1 {\n",
       "            background-color:  #e5ffe5;\n",
       "        }    #T_bce8fb8a_5427_11e8_ac58_4a0004aa2aa0row2_col2 {\n",
       "            background-color:  #e2fde2;\n",
       "        }    #T_bce8fb8a_5427_11e8_ac58_4a0004aa2aa0row2_col3 {\n",
       "            background-color:  #56af56;\n",
       "        }    #T_bce8fb8a_5427_11e8_ac58_4a0004aa2aa0row2_col4 {\n",
       "            background-color:  #249424;\n",
       "        }    #T_bce8fb8a_5427_11e8_ac58_4a0004aa2aa0row2_col5 {\n",
       "            background-color:  #1c8f1c;\n",
       "        }    #T_bce8fb8a_5427_11e8_ac58_4a0004aa2aa0row2_col6 {\n",
       "            background-color:  #e5ffe5;\n",
       "        }    #T_bce8fb8a_5427_11e8_ac58_4a0004aa2aa0row2_col7 {\n",
       "            background-color:  #e5ffe5;\n",
       "        }    #T_bce8fb8a_5427_11e8_ac58_4a0004aa2aa0row2_col8 {\n",
       "            background-color:  #e5ffe5;\n",
       "        }    #T_bce8fb8a_5427_11e8_ac58_4a0004aa2aa0row2_col9 {\n",
       "            background-color:  #e5ffe5;\n",
       "        }    #T_bce8fb8a_5427_11e8_ac58_4a0004aa2aa0row2_col10 {\n",
       "            background-color:  #e5ffe5;\n",
       "        }    #T_bce8fb8a_5427_11e8_ac58_4a0004aa2aa0row2_col11 {\n",
       "            background-color:  #e2fde2;\n",
       "        }    #T_bce8fb8a_5427_11e8_ac58_4a0004aa2aa0row2_col12 {\n",
       "            background-color:  #e5ffe5;\n",
       "        }    #T_bce8fb8a_5427_11e8_ac58_4a0004aa2aa0row2_col13 {\n",
       "            background-color:  #e5ffe5;\n",
       "        }    #T_bce8fb8a_5427_11e8_ac58_4a0004aa2aa0row2_col14 {\n",
       "            background-color:  #c0eac0;\n",
       "        }    #T_bce8fb8a_5427_11e8_ac58_4a0004aa2aa0row3_col0 {\n",
       "            background-color:  #a9dea9;\n",
       "        }    #T_bce8fb8a_5427_11e8_ac58_4a0004aa2aa0row3_col1 {\n",
       "            background-color:  #7fc67f;\n",
       "        }    #T_bce8fb8a_5427_11e8_ac58_4a0004aa2aa0row3_col2 {\n",
       "            background-color:  #80c780;\n",
       "        }    #T_bce8fb8a_5427_11e8_ac58_4a0004aa2aa0row3_col3 {\n",
       "            background-color:  #008000;\n",
       "        }    #T_bce8fb8a_5427_11e8_ac58_4a0004aa2aa0row3_col4 {\n",
       "            background-color:  #008000;\n",
       "        }    #T_bce8fb8a_5427_11e8_ac58_4a0004aa2aa0row3_col5 {\n",
       "            background-color:  #008000;\n",
       "        }    #T_bce8fb8a_5427_11e8_ac58_4a0004aa2aa0row3_col6 {\n",
       "            background-color:  #008000;\n",
       "        }    #T_bce8fb8a_5427_11e8_ac58_4a0004aa2aa0row3_col7 {\n",
       "            background-color:  #008000;\n",
       "        }    #T_bce8fb8a_5427_11e8_ac58_4a0004aa2aa0row3_col8 {\n",
       "            background-color:  #008000;\n",
       "        }    #T_bce8fb8a_5427_11e8_ac58_4a0004aa2aa0row3_col9 {\n",
       "            background-color:  #b2e3b2;\n",
       "        }    #T_bce8fb8a_5427_11e8_ac58_4a0004aa2aa0row3_col10 {\n",
       "            background-color:  #8bcd8b;\n",
       "        }    #T_bce8fb8a_5427_11e8_ac58_4a0004aa2aa0row3_col11 {\n",
       "            background-color:  #91d091;\n",
       "        }    #T_bce8fb8a_5427_11e8_ac58_4a0004aa2aa0row3_col12 {\n",
       "            background-color:  #87cb87;\n",
       "        }    #T_bce8fb8a_5427_11e8_ac58_4a0004aa2aa0row3_col13 {\n",
       "            background-color:  #6bbb6b;\n",
       "        }    #T_bce8fb8a_5427_11e8_ac58_4a0004aa2aa0row3_col14 {\n",
       "            background-color:  #008000;\n",
       "        }    #T_bce8fb8a_5427_11e8_ac58_4a0004aa2aa0row4_col0 {\n",
       "            background-color:  #70be70;\n",
       "        }    #T_bce8fb8a_5427_11e8_ac58_4a0004aa2aa0row4_col1 {\n",
       "            background-color:  #5eb45e;\n",
       "        }    #T_bce8fb8a_5427_11e8_ac58_4a0004aa2aa0row4_col2 {\n",
       "            background-color:  #008000;\n",
       "        }    #T_bce8fb8a_5427_11e8_ac58_4a0004aa2aa0row4_col3 {\n",
       "            background-color:  #bae7ba;\n",
       "        }    #T_bce8fb8a_5427_11e8_ac58_4a0004aa2aa0row4_col4 {\n",
       "            background-color:  #7dc57d;\n",
       "        }    #T_bce8fb8a_5427_11e8_ac58_4a0004aa2aa0row4_col5 {\n",
       "            background-color:  #e5ffe5;\n",
       "        }    #T_bce8fb8a_5427_11e8_ac58_4a0004aa2aa0row4_col6 {\n",
       "            background-color:  #219221;\n",
       "        }    #T_bce8fb8a_5427_11e8_ac58_4a0004aa2aa0row4_col7 {\n",
       "            background-color:  #7cc57c;\n",
       "        }    #T_bce8fb8a_5427_11e8_ac58_4a0004aa2aa0row4_col8 {\n",
       "            background-color:  #7dc57d;\n",
       "        }    #T_bce8fb8a_5427_11e8_ac58_4a0004aa2aa0row4_col9 {\n",
       "            background-color:  #6fbd6f;\n",
       "        }    #T_bce8fb8a_5427_11e8_ac58_4a0004aa2aa0row4_col10 {\n",
       "            background-color:  #5eb45e;\n",
       "        }    #T_bce8fb8a_5427_11e8_ac58_4a0004aa2aa0row4_col11 {\n",
       "            background-color:  #008000;\n",
       "        }    #T_bce8fb8a_5427_11e8_ac58_4a0004aa2aa0row4_col12 {\n",
       "            background-color:  #82c882;\n",
       "        }    #T_bce8fb8a_5427_11e8_ac58_4a0004aa2aa0row4_col13 {\n",
       "            background-color:  #78c278;\n",
       "        }    #T_bce8fb8a_5427_11e8_ac58_4a0004aa2aa0row4_col14 {\n",
       "            background-color:  #008000;\n",
       "        }</style>  \n",
       "<table id=\"T_bce8fb8a_5427_11e8_ac58_4a0004aa2aa0\" > \n",
       "<thead>    <tr> \n",
       "        <th class=\"blank level0\" ></th> \n",
       "        <th class=\"col_heading level0 col0\" colspan=3>errorCoded</th> \n",
       "        <th class=\"col_heading level0 col3\" colspan=3>errorCodedWithoutNA</th> \n",
       "        <th class=\"col_heading level0 col6\" colspan=3>errorGenderBias</th> \n",
       "        <th class=\"col_heading level0 col9\" colspan=3>naCoded</th> \n",
       "        <th class=\"col_heading level0 col12\" colspan=3>WeightedError</th> \n",
       "    </tr>    <tr> \n",
       "        <th class=\"blank level1\" ></th> \n",
       "        <th class=\"col_heading level1 col0\" >Africa</th> \n",
       "        <th class=\"col_heading level1 col1\" >Asia</th> \n",
       "        <th class=\"col_heading level1 col2\" >Europe</th> \n",
       "        <th class=\"col_heading level1 col3\" >Africa</th> \n",
       "        <th class=\"col_heading level1 col4\" >Asia</th> \n",
       "        <th class=\"col_heading level1 col5\" >Europe</th> \n",
       "        <th class=\"col_heading level1 col6\" >Africa</th> \n",
       "        <th class=\"col_heading level1 col7\" >Asia</th> \n",
       "        <th class=\"col_heading level1 col8\" >Europe</th> \n",
       "        <th class=\"col_heading level1 col9\" >Africa</th> \n",
       "        <th class=\"col_heading level1 col10\" >Asia</th> \n",
       "        <th class=\"col_heading level1 col11\" >Europe</th> \n",
       "        <th class=\"col_heading level1 col12\" >Africa</th> \n",
       "        <th class=\"col_heading level1 col13\" >Asia</th> \n",
       "        <th class=\"col_heading level1 col14\" >Europe</th> \n",
       "    </tr></thead> \n",
       "<tbody>    <tr> \n",
       "        <th id=\"T_bce8fb8a_5427_11e8_ac58_4a0004aa2aa0level0_row0\" class=\"row_heading level0 row0\" >gender-guesser</th> \n",
       "        <td id=\"T_bce8fb8a_5427_11e8_ac58_4a0004aa2aa0row0_col0\" class=\"data row0 col0\" >0.244</td> \n",
       "        <td id=\"T_bce8fb8a_5427_11e8_ac58_4a0004aa2aa0row0_col1\" class=\"data row0 col1\" >0.517</td> \n",
       "        <td id=\"T_bce8fb8a_5427_11e8_ac58_4a0004aa2aa0row0_col2\" class=\"data row0 col2\" >0.075</td> \n",
       "        <td id=\"T_bce8fb8a_5427_11e8_ac58_4a0004aa2aa0row0_col3\" class=\"data row0 col3\" >0.037</td> \n",
       "        <td id=\"T_bce8fb8a_5427_11e8_ac58_4a0004aa2aa0row0_col4\" class=\"data row0 col4\" >0.064</td> \n",
       "        <td id=\"T_bce8fb8a_5427_11e8_ac58_4a0004aa2aa0row0_col5\" class=\"data row0 col5\" >0.015</td> \n",
       "        <td id=\"T_bce8fb8a_5427_11e8_ac58_4a0004aa2aa0row0_col6\" class=\"data row0 col6\" >-0.009</td> \n",
       "        <td id=\"T_bce8fb8a_5427_11e8_ac58_4a0004aa2aa0row0_col7\" class=\"data row0 col7\" >0.014</td> \n",
       "        <td id=\"T_bce8fb8a_5427_11e8_ac58_4a0004aa2aa0row0_col8\" class=\"data row0 col8\" >0</td> \n",
       "        <td id=\"T_bce8fb8a_5427_11e8_ac58_4a0004aa2aa0row0_col9\" class=\"data row0 col9\" >0.215</td> \n",
       "        <td id=\"T_bce8fb8a_5427_11e8_ac58_4a0004aa2aa0row0_col10\" class=\"data row0 col10\" >0.484</td> \n",
       "        <td id=\"T_bce8fb8a_5427_11e8_ac58_4a0004aa2aa0row0_col11\" class=\"data row0 col11\" >0.061</td> \n",
       "        <td id=\"T_bce8fb8a_5427_11e8_ac58_4a0004aa2aa0row0_col12\" class=\"data row0 col12\" >0.087</td> \n",
       "        <td id=\"T_bce8fb8a_5427_11e8_ac58_4a0004aa2aa0row0_col13\" class=\"data row0 col13\" >0.212</td> \n",
       "        <td id=\"T_bce8fb8a_5427_11e8_ac58_4a0004aa2aa0row0_col14\" class=\"data row0 col14\" >0.027</td> \n",
       "    </tr>    <tr> \n",
       "        <th id=\"T_bce8fb8a_5427_11e8_ac58_4a0004aa2aa0level0_row1\" class=\"row_heading level0 row1\" >NamSor</th> \n",
       "        <td id=\"T_bce8fb8a_5427_11e8_ac58_4a0004aa2aa0row1_col0\" class=\"data row1 col0\" >0.065</td> \n",
       "        <td id=\"T_bce8fb8a_5427_11e8_ac58_4a0004aa2aa0row1_col1\" class=\"data row1 col1\" >0.346</td> \n",
       "        <td id=\"T_bce8fb8a_5427_11e8_ac58_4a0004aa2aa0row1_col2\" class=\"data row1 col2\" >0.027</td> \n",
       "        <td id=\"T_bce8fb8a_5427_11e8_ac58_4a0004aa2aa0row1_col3\" class=\"data row1 col3\" >0.044</td> \n",
       "        <td id=\"T_bce8fb8a_5427_11e8_ac58_4a0004aa2aa0row1_col4\" class=\"data row1 col4\" >0.09</td> \n",
       "        <td id=\"T_bce8fb8a_5427_11e8_ac58_4a0004aa2aa0row1_col5\" class=\"data row1 col5\" >0.021</td> \n",
       "        <td id=\"T_bce8fb8a_5427_11e8_ac58_4a0004aa2aa0row1_col6\" class=\"data row1 col6\" >0</td> \n",
       "        <td id=\"T_bce8fb8a_5427_11e8_ac58_4a0004aa2aa0row1_col7\" class=\"data row1 col7\" >0.033</td> \n",
       "        <td id=\"T_bce8fb8a_5427_11e8_ac58_4a0004aa2aa0row1_col8\" class=\"data row1 col8\" >-0.002</td> \n",
       "        <td id=\"T_bce8fb8a_5427_11e8_ac58_4a0004aa2aa0row1_col9\" class=\"data row1 col9\" >0.022</td> \n",
       "        <td id=\"T_bce8fb8a_5427_11e8_ac58_4a0004aa2aa0row1_col10\" class=\"data row1 col10\" >0.281</td> \n",
       "        <td id=\"T_bce8fb8a_5427_11e8_ac58_4a0004aa2aa0row1_col11\" class=\"data row1 col11\" >0.006</td> \n",
       "        <td id=\"T_bce8fb8a_5427_11e8_ac58_4a0004aa2aa0row1_col12\" class=\"data row1 col12\" >0.048</td> \n",
       "        <td id=\"T_bce8fb8a_5427_11e8_ac58_4a0004aa2aa0row1_col13\" class=\"data row1 col13\" >0.156</td> \n",
       "        <td id=\"T_bce8fb8a_5427_11e8_ac58_4a0004aa2aa0row1_col14\" class=\"data row1 col14\" >0.022</td> \n",
       "    </tr>    <tr> \n",
       "        <th id=\"T_bce8fb8a_5427_11e8_ac58_4a0004aa2aa0level0_row2\" class=\"row_heading level0 row2\" >Gender API</th> \n",
       "        <td id=\"T_bce8fb8a_5427_11e8_ac58_4a0004aa2aa0row2_col0\" class=\"data row2 col0\" >0.054</td> \n",
       "        <td id=\"T_bce8fb8a_5427_11e8_ac58_4a0004aa2aa0row2_col1\" class=\"data row2 col1\" >0.176</td> \n",
       "        <td id=\"T_bce8fb8a_5427_11e8_ac58_4a0004aa2aa0row2_col2\" class=\"data row2 col2\" >0.028</td> \n",
       "        <td id=\"T_bce8fb8a_5427_11e8_ac58_4a0004aa2aa0row2_col3\" class=\"data row2 col3\" >0.047</td> \n",
       "        <td id=\"T_bce8fb8a_5427_11e8_ac58_4a0004aa2aa0row2_col4\" class=\"data row2 col4\" >0.112</td> \n",
       "        <td id=\"T_bce8fb8a_5427_11e8_ac58_4a0004aa2aa0row2_col5\" class=\"data row2 col5\" >0.021</td> \n",
       "        <td id=\"T_bce8fb8a_5427_11e8_ac58_4a0004aa2aa0row2_col6\" class=\"data row2 col6\" >-0.011</td> \n",
       "        <td id=\"T_bce8fb8a_5427_11e8_ac58_4a0004aa2aa0row2_col7\" class=\"data row2 col7\" >-0.01</td> \n",
       "        <td id=\"T_bce8fb8a_5427_11e8_ac58_4a0004aa2aa0row2_col8\" class=\"data row2 col8\" >-0.012</td> \n",
       "        <td id=\"T_bce8fb8a_5427_11e8_ac58_4a0004aa2aa0row2_col9\" class=\"data row2 col9\" >0.007</td> \n",
       "        <td id=\"T_bce8fb8a_5427_11e8_ac58_4a0004aa2aa0row2_col10\" class=\"data row2 col10\" >0.072</td> \n",
       "        <td id=\"T_bce8fb8a_5427_11e8_ac58_4a0004aa2aa0row2_col11\" class=\"data row2 col11\" >0.007</td> \n",
       "        <td id=\"T_bce8fb8a_5427_11e8_ac58_4a0004aa2aa0row2_col12\" class=\"data row2 col12\" >0.048</td> \n",
       "        <td id=\"T_bce8fb8a_5427_11e8_ac58_4a0004aa2aa0row2_col13\" class=\"data row2 col13\" >0.126</td> \n",
       "        <td id=\"T_bce8fb8a_5427_11e8_ac58_4a0004aa2aa0row2_col14\" class=\"data row2 col14\" >0.023</td> \n",
       "    </tr>    <tr> \n",
       "        <th id=\"T_bce8fb8a_5427_11e8_ac58_4a0004aa2aa0level0_row3\" class=\"row_heading level0 row3\" >genderize.io</th> \n",
       "        <td id=\"T_bce8fb8a_5427_11e8_ac58_4a0004aa2aa0row3_col0\" class=\"data row3 col0\" >0.104</td> \n",
       "        <td id=\"T_bce8fb8a_5427_11e8_ac58_4a0004aa2aa0row3_col1\" class=\"data row3 col1\" >0.328</td> \n",
       "        <td id=\"T_bce8fb8a_5427_11e8_ac58_4a0004aa2aa0row3_col2\" class=\"data row3 col2\" >0.051</td> \n",
       "        <td id=\"T_bce8fb8a_5427_11e8_ac58_4a0004aa2aa0row3_col3\" class=\"data row3 col3\" >0.053</td> \n",
       "        <td id=\"T_bce8fb8a_5427_11e8_ac58_4a0004aa2aa0row3_col4\" class=\"data row3 col4\" >0.121</td> \n",
       "        <td id=\"T_bce8fb8a_5427_11e8_ac58_4a0004aa2aa0row3_col5\" class=\"data row3 col5\" >0.022</td> \n",
       "        <td id=\"T_bce8fb8a_5427_11e8_ac58_4a0004aa2aa0row3_col6\" class=\"data row3 col6\" >0.03</td> \n",
       "        <td id=\"T_bce8fb8a_5427_11e8_ac58_4a0004aa2aa0row3_col7\" class=\"data row3 col7\" >0.053</td> \n",
       "        <td id=\"T_bce8fb8a_5427_11e8_ac58_4a0004aa2aa0row3_col8\" class=\"data row3 col8\" >0.01</td> \n",
       "        <td id=\"T_bce8fb8a_5427_11e8_ac58_4a0004aa2aa0row3_col9\" class=\"data row3 col9\" >0.054</td> \n",
       "        <td id=\"T_bce8fb8a_5427_11e8_ac58_4a0004aa2aa0row3_col10\" class=\"data row3 col10\" >0.236</td> \n",
       "        <td id=\"T_bce8fb8a_5427_11e8_ac58_4a0004aa2aa0row3_col11\" class=\"data row3 col11\" >0.029</td> \n",
       "        <td id=\"T_bce8fb8a_5427_11e8_ac58_4a0004aa2aa0row3_col12\" class=\"data row3 col12\" >0.064</td> \n",
       "        <td id=\"T_bce8fb8a_5427_11e8_ac58_4a0004aa2aa0row3_col13\" class=\"data row3 col13\" >0.172</td> \n",
       "        <td id=\"T_bce8fb8a_5427_11e8_ac58_4a0004aa2aa0row3_col14\" class=\"data row3 col14\" >0.028</td> \n",
       "    </tr>    <tr> \n",
       "        <th id=\"T_bce8fb8a_5427_11e8_ac58_4a0004aa2aa0level0_row4\" class=\"row_heading level0 row4\" >NameAPI</th> \n",
       "        <td id=\"T_bce8fb8a_5427_11e8_ac58_4a0004aa2aa0row4_col0\" class=\"data row4 col0\" >0.151</td> \n",
       "        <td id=\"T_bce8fb8a_5427_11e8_ac58_4a0004aa2aa0row4_col1\" class=\"data row4 col1\" >0.377</td> \n",
       "        <td id=\"T_bce8fb8a_5427_11e8_ac58_4a0004aa2aa0row4_col2\" class=\"data row4 col2\" >0.081</td> \n",
       "        <td id=\"T_bce8fb8a_5427_11e8_ac58_4a0004aa2aa0row4_col3\" class=\"data row4 col3\" >0.04</td> \n",
       "        <td id=\"T_bce8fb8a_5427_11e8_ac58_4a0004aa2aa0row4_col4\" class=\"data row4 col4\" >0.09</td> \n",
       "        <td id=\"T_bce8fb8a_5427_11e8_ac58_4a0004aa2aa0row4_col5\" class=\"data row4 col5\" >0.014</td> \n",
       "        <td id=\"T_bce8fb8a_5427_11e8_ac58_4a0004aa2aa0row4_col6\" class=\"data row4 col6\" >0.024</td> \n",
       "        <td id=\"T_bce8fb8a_5427_11e8_ac58_4a0004aa2aa0row4_col7\" class=\"data row4 col7\" >0.019</td> \n",
       "        <td id=\"T_bce8fb8a_5427_11e8_ac58_4a0004aa2aa0row4_col8\" class=\"data row4 col8\" >-0.002</td> \n",
       "        <td id=\"T_bce8fb8a_5427_11e8_ac58_4a0004aa2aa0row4_col9\" class=\"data row4 col9\" >0.115</td> \n",
       "        <td id=\"T_bce8fb8a_5427_11e8_ac58_4a0004aa2aa0row4_col10\" class=\"data row4 col10\" >0.316</td> \n",
       "        <td id=\"T_bce8fb8a_5427_11e8_ac58_4a0004aa2aa0row4_col11\" class=\"data row4 col11\" >0.068</td> \n",
       "        <td id=\"T_bce8fb8a_5427_11e8_ac58_4a0004aa2aa0row4_col12\" class=\"data row4 col12\" >0.065</td> \n",
       "        <td id=\"T_bce8fb8a_5427_11e8_ac58_4a0004aa2aa0row4_col13\" class=\"data row4 col13\" >0.167</td> \n",
       "        <td id=\"T_bce8fb8a_5427_11e8_ac58_4a0004aa2aa0row4_col14\" class=\"data row4 col14\" >0.028</td> \n",
       "    </tr></tbody> \n",
       "</table> "
      ],
      "text/plain": [
       "<pandas.io.formats.style.Styler at 0x10de78400>"
      ]
     },
     "execution_count": 46,
     "metadata": {},
     "output_type": "execute_result"
    }
   ],
   "source": [
    "dfs_top_region.style.set_table_styles([dict(selector=\"th\", \n",
    "                                            props=[('max-width', '150px')])]).background_gradient(cmap=cm)"
   ]
  },
  {
   "cell_type": "markdown",
   "metadata": {},
   "source": [
    "* Here we see that `genderize_io` performs very poorly in terms of the `errorCoderWithoutNA` on names of Asian origin, showing the highest error rate among all five services. This was already indicated by the boxplots showing the mean and average confidence for Asian names: in contrast to the other services, `genderize_io` had very high confidence values for Asian names, despite the fact that it is very hard to infer the gender from many Asian names, in particular those from China.\n",
    "* For European names, `gender_api` and `namsor` show basically the same error rates except for `errorGenderBias` for which `namsor` performs better. For metrics tha take into account the recall (`errorCoded` and `naCoded`), these two services perform best for European names; for metrics that aim to reduce the number of misclassifications between men and women, `name_api` and `gender_guesser` are more suitable.\n",
    "* `gender_guesser` shows basically the least `errorCoderWithoutNA` values for all three regions, as was expected due to the manual curation of the data set. The downside is, however, that it performs very poorly in terms of the metrics `errorCoded` or `naCoded` that also measure the number of names classified as unknown.\n",
    "* In terms of the `weightedError`, which weights the mix ups between women and men five times more than classifying as unknown, we see that `gender_api` and `namsor` are both equally good for Africa and Europe; for Asia however, `gender_api` is a clear winnen and `namsor` is on place 2."
   ]
  },
  {
   "cell_type": "code",
   "execution_count": null,
   "metadata": {
    "collapsed": true
   },
   "outputs": [],
   "source": []
  }
 ],
 "metadata": {
  "kernelspec": {
   "display_name": "Python 3",
   "language": "python",
   "name": "python3"
  },
  "language_info": {
   "codemirror_mode": {
    "name": "ipython",
    "version": 3
   },
   "file_extension": ".py",
   "mimetype": "text/x-python",
   "name": "python",
   "nbconvert_exporter": "python",
   "pygments_lexer": "ipython3",
   "version": "3.6.0"
  }
 },
 "nbformat": 4,
 "nbformat_minor": 2
}
