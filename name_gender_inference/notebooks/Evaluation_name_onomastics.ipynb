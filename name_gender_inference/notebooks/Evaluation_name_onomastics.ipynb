{
 "cells": [
  {
   "cell_type": "markdown",
   "metadata": {},
   "source": [
    "## Evaluation of name onomastics\n",
    "\n",
    "We use Namsor's origin and diaspora APIs to explore the origin of names in our dataset and evaluate the potential bias of the data set and the services in the benchmark."
   ]
  },
  {
   "cell_type": "code",
   "execution_count": 286,
   "metadata": {},
   "outputs": [],
   "source": [
    "import requests\n",
    "import json\n",
    "from pandas.io.json import json_normalize\n",
    "import pandas as pd\n",
    "import urllib\n",
    "from os.path import join\n",
    "\n",
    "import matplotlib.pyplot as plt\n",
    "plt.style.use('ggplot')\n",
    "\n",
    "import seaborn as sns\n",
    "sns.set(color_codes=True)"
   ]
  },
  {
   "cell_type": "code",
   "execution_count": 2,
   "metadata": {},
   "outputs": [
    {
     "name": "stdout",
     "output_type": "stream",
     "text": [
      "Populating the interactive namespace from numpy and matplotlib\n"
     ]
    }
   ],
   "source": [
    "%pylab inline"
   ]
  },
  {
   "cell_type": "code",
   "execution_count": 3,
   "metadata": {},
   "outputs": [],
   "source": [
    "from config import NAMSOR_USER, NAMSOR_PW\n",
    "\n",
    "headers = {\n",
    "    'X-Channel-Secret': NAMSOR_PW,\n",
    "    'X-Channel-User': NAMSOR_USER,\n",
    "    'Accept': 'application/json',\n",
    "}"
   ]
  },
  {
   "cell_type": "code",
   "execution_count": 5,
   "metadata": {},
   "outputs": [
    {
     "data": {
      "text/plain": [
       "'{\"country\":\"IE\",\"countryAlt\":\"GB\",\"score\":3.6568307047142934,\"script\":\"LATIN\",\"countryFirstName\":\"IE\",\"countryLastName\":\"GB\",\"scoreFirstName\":2.373716624391118,\"scoreLastName\":2.53655126308492,\"subRegion\":\"Northern Europe\",\"region\":\"Europe\",\"topRegion\":\"Europe\",\"countryName\":\"Ireland\"}'"
      ]
     },
     "execution_count": 5,
     "metadata": {},
     "output_type": "execute_result"
    }
   ],
   "source": [
    "# testing\n",
    "response = requests.get('https://api.namsor.com/onomastics/api/json/origin/Caitriona/Kennedy', headers=headers)\n",
    "response.text"
   ]
  },
  {
   "cell_type": "code",
   "execution_count": null,
   "metadata": {},
   "outputs": [],
   "source": [
    "response.status_code"
   ]
  },
  {
   "cell_type": "code",
   "execution_count": 30,
   "metadata": {},
   "outputs": [
    {
     "data": {
      "text/plain": [
       "'{\"country\":\"CN\",\"countryAlt\":\"CN\",\"score\":3.327766060755152,\"script\":\"LATIN\",\"countryFirstName\":\"TW\",\"countryLastName\":\"TW\",\"scoreFirstName\":-0.023863777936456505,\"scoreLastName\":2.531070718432645,\"subRegion\":\"Eastern Asia\",\"region\":\"Asia\",\"topRegion\":\"Asia\",\"countryName\":\"China\"}'"
      ]
     },
     "execution_count": 30,
     "metadata": {},
     "output_type": "execute_result"
    }
   ],
   "source": [
    "# Test how API reacts to usage of hyphens\n",
    "response = requests.get('https://api.namsor.com/onomastics/api/json/origin/sheau-chiou/chao', headers=headers)\n",
    "response.text"
   ]
  },
  {
   "cell_type": "code",
   "execution_count": 31,
   "metadata": {},
   "outputs": [],
   "source": [
    "# Test how API reacts to usage of spaces\n",
    "response = requests.get('https://api.namsor.com/onomastics/api/json/origin/sheau chiou/chao', headers=headers)\n",
    "response.text"
   ]
  },
  {
   "cell_type": "code",
   "execution_count": 57,
   "metadata": {},
   "outputs": [
    {
     "data": {
      "text/plain": [
       "'{\"country\":\"RS\",\"countryAlt\":\"RS\",\"score\":-0.3349759457401318,\"script\":\"LATIN\",\"countryFirstName\":\"ES\",\"countryLastName\":\"RS\",\"scoreFirstName\":-0.14794969736484045,\"scoreLastName\":0.3992291149412908,\"subRegion\":\"Southern Europe\",\"region\":\"Europe\",\"topRegion\":\"Europe\",\"countryName\":\"Serbia\"}'"
      ]
     },
     "execution_count": 57,
     "metadata": {},
     "output_type": "execute_result"
    }
   ],
   "source": [
    "# test usage of diacritics\n",
    "response = requests.get('https://api.namsor.com/onomastics/api/json/origin/marià/misić', \n",
    "                        headers=headers)\n",
    "response.text"
   ]
  },
  {
   "cell_type": "code",
   "execution_count": 66,
   "metadata": {},
   "outputs": [
    {
     "data": {
      "text/plain": [
       "{'country': 'RS',\n",
       " 'countryAlt': 'RS',\n",
       " 'countryFirstName': 'ES',\n",
       " 'countryLastName': 'RS',\n",
       " 'countryName': 'Serbia',\n",
       " 'region': 'Europe',\n",
       " 'score': -0.3349759457401318,\n",
       " 'scoreFirstName': -0.14794969736484045,\n",
       " 'scoreLastName': 0.3992291149412908,\n",
       " 'script': 'LATIN',\n",
       " 'subRegion': 'Southern Europe',\n",
       " 'topRegion': 'Europe'}"
      ]
     },
     "execution_count": 66,
     "metadata": {},
     "output_type": "execute_result"
    }
   ],
   "source": [
    "json.loads(response.text)"
   ]
  },
  {
   "cell_type": "code",
   "execution_count": 70,
   "metadata": {},
   "outputs": [
    {
     "data": {
      "text/html": [
       "<div>\n",
       "<style scoped>\n",
       "    .dataframe tbody tr th:only-of-type {\n",
       "        vertical-align: middle;\n",
       "    }\n",
       "\n",
       "    .dataframe tbody tr th {\n",
       "        vertical-align: top;\n",
       "    }\n",
       "\n",
       "    .dataframe thead th {\n",
       "        text-align: right;\n",
       "    }\n",
       "</style>\n",
       "<table border=\"1\" class=\"dataframe\">\n",
       "  <thead>\n",
       "    <tr style=\"text-align: right;\">\n",
       "      <th></th>\n",
       "      <th>country</th>\n",
       "      <th>countryAlt</th>\n",
       "      <th>countryFirstName</th>\n",
       "      <th>countryLastName</th>\n",
       "      <th>countryName</th>\n",
       "      <th>region</th>\n",
       "      <th>score</th>\n",
       "      <th>scoreFirstName</th>\n",
       "      <th>scoreLastName</th>\n",
       "      <th>script</th>\n",
       "      <th>subRegion</th>\n",
       "      <th>topRegion</th>\n",
       "    </tr>\n",
       "  </thead>\n",
       "  <tbody>\n",
       "    <tr>\n",
       "      <th>0</th>\n",
       "      <td>RS</td>\n",
       "      <td>RS</td>\n",
       "      <td>ES</td>\n",
       "      <td>RS</td>\n",
       "      <td>Serbia</td>\n",
       "      <td>Europe</td>\n",
       "      <td>-0.334976</td>\n",
       "      <td>-0.14795</td>\n",
       "      <td>0.399229</td>\n",
       "      <td>LATIN</td>\n",
       "      <td>Southern Europe</td>\n",
       "      <td>Europe</td>\n",
       "    </tr>\n",
       "  </tbody>\n",
       "</table>\n",
       "</div>"
      ],
      "text/plain": [
       "  country countryAlt countryFirstName countryLastName countryName  region  \\\n",
       "0      RS         RS               ES              RS      Serbia  Europe   \n",
       "\n",
       "      score  scoreFirstName  scoreLastName script        subRegion topRegion  \n",
       "0 -0.334976        -0.14795       0.399229  LATIN  Southern Europe    Europe  "
      ]
     },
     "execution_count": 70,
     "metadata": {},
     "output_type": "execute_result"
    }
   ],
   "source": [
    "json_normalize(json.loads(response.text))"
   ]
  },
  {
   "cell_type": "markdown",
   "metadata": {},
   "source": [
    "### Read data file with all names"
   ]
  },
  {
   "cell_type": "code",
   "execution_count": 6,
   "metadata": {},
   "outputs": [],
   "source": [
    "data = pd.read_csv('../test_data/raw_data/all.csv', keep_default_na=False)"
   ]
  },
  {
   "cell_type": "code",
   "execution_count": 7,
   "metadata": {},
   "outputs": [
    {
     "data": {
      "text/plain": [
       "(7076, 6)"
      ]
     },
     "execution_count": 7,
     "metadata": {},
     "output_type": "execute_result"
    }
   ],
   "source": [
    "data.shape"
   ]
  },
  {
   "cell_type": "code",
   "execution_count": 8,
   "metadata": {},
   "outputs": [
    {
     "data": {
      "text/html": [
       "<div>\n",
       "<style scoped>\n",
       "    .dataframe tbody tr th:only-of-type {\n",
       "        vertical-align: middle;\n",
       "    }\n",
       "\n",
       "    .dataframe tbody tr th {\n",
       "        vertical-align: top;\n",
       "    }\n",
       "\n",
       "    .dataframe thead th {\n",
       "        text-align: right;\n",
       "    }\n",
       "</style>\n",
       "<table border=\"1\" class=\"dataframe\">\n",
       "  <thead>\n",
       "    <tr style=\"text-align: right;\">\n",
       "      <th></th>\n",
       "      <th>first_name</th>\n",
       "      <th>middle_name</th>\n",
       "      <th>last_name</th>\n",
       "      <th>full_name</th>\n",
       "      <th>gender</th>\n",
       "      <th>origin</th>\n",
       "    </tr>\n",
       "  </thead>\n",
       "  <tbody>\n",
       "    <tr>\n",
       "      <th>6111</th>\n",
       "      <td>shinsuke</td>\n",
       "      <td></td>\n",
       "      <td>sato</td>\n",
       "      <td>shinsuke sato</td>\n",
       "      <td>u</td>\n",
       "      <td>wos</td>\n",
       "    </tr>\n",
       "    <tr>\n",
       "      <th>6546</th>\n",
       "      <td>makoto</td>\n",
       "      <td></td>\n",
       "      <td>mizunami</td>\n",
       "      <td>makoto mizunami</td>\n",
       "      <td>m</td>\n",
       "      <td>wos</td>\n",
       "    </tr>\n",
       "    <tr>\n",
       "      <th>2146</th>\n",
       "      <td>levita</td>\n",
       "      <td></td>\n",
       "      <td>hidayat</td>\n",
       "      <td>levita hidayat</td>\n",
       "      <td>f</td>\n",
       "      <td>pubmed</td>\n",
       "    </tr>\n",
       "  </tbody>\n",
       "</table>\n",
       "</div>"
      ],
      "text/plain": [
       "     first_name middle_name last_name        full_name gender  origin\n",
       "6111   shinsuke                  sato    shinsuke sato      u     wos\n",
       "6546     makoto              mizunami  makoto mizunami      m     wos\n",
       "2146     levita               hidayat   levita hidayat      f  pubmed"
      ]
     },
     "execution_count": 8,
     "metadata": {},
     "output_type": "execute_result"
    }
   ],
   "source": [
    "data.sample(3)"
   ]
  },
  {
   "cell_type": "markdown",
   "metadata": {},
   "source": [
    "###  Fetch origin predictions"
   ]
  },
  {
   "cell_type": "code",
   "execution_count": 71,
   "metadata": {},
   "outputs": [],
   "source": [
    "origin = []\n",
    "origin_url = 'https://api.namsor.com/onomastics/api/json/origin/'\n",
    "for i, row in data.iterrows():\n",
    "    if row['middle_name'] == '':\n",
    "        url = origin_url + row['first_name'] + '/' + row['last_name']\n",
    "    else:\n",
    "        url = origin_url + row['first_name'] + '-' + row['middle_name'] + '/' + row['last_name']\n",
    "    r = requests.get(url, headers=headers)\n",
    "    if r.status_code == 200:\n",
    "        origin.append(json.loads(r.text))\n",
    "    else:\n",
    "        print(row)\n",
    "        origin.append({})"
   ]
  },
  {
   "cell_type": "code",
   "execution_count": 73,
   "metadata": {},
   "outputs": [
    {
     "data": {
      "text/plain": [
       "7076"
      ]
     },
     "execution_count": 73,
     "metadata": {},
     "output_type": "execute_result"
    }
   ],
   "source": [
    "len(origin)"
   ]
  },
  {
   "cell_type": "code",
   "execution_count": 74,
   "metadata": {},
   "outputs": [],
   "source": [
    "origin_df = json_normalize(origin)"
   ]
  },
  {
   "cell_type": "code",
   "execution_count": 43,
   "metadata": {},
   "outputs": [],
   "source": [
    "origin_df['full_name'] = data['full_name']\n",
    "origin_df['gender'] = data['gender']\n",
    "origin_df['source'] = data['origin']"
   ]
  },
  {
   "cell_type": "code",
   "execution_count": 48,
   "metadata": {},
   "outputs": [
    {
     "data": {
      "text/html": [
       "<div>\n",
       "<style scoped>\n",
       "    .dataframe tbody tr th:only-of-type {\n",
       "        vertical-align: middle;\n",
       "    }\n",
       "\n",
       "    .dataframe tbody tr th {\n",
       "        vertical-align: top;\n",
       "    }\n",
       "\n",
       "    .dataframe thead th {\n",
       "        text-align: right;\n",
       "    }\n",
       "</style>\n",
       "<table border=\"1\" class=\"dataframe\">\n",
       "  <thead>\n",
       "    <tr style=\"text-align: right;\">\n",
       "      <th></th>\n",
       "      <th>country</th>\n",
       "      <th>countryAlt</th>\n",
       "      <th>countryFirstName</th>\n",
       "      <th>countryLastName</th>\n",
       "      <th>countryName</th>\n",
       "      <th>region</th>\n",
       "      <th>score</th>\n",
       "      <th>scoreFirstName</th>\n",
       "      <th>scoreLastName</th>\n",
       "      <th>script</th>\n",
       "      <th>subRegion</th>\n",
       "      <th>topRegion</th>\n",
       "      <th>full_name</th>\n",
       "      <th>gender</th>\n",
       "      <th>source</th>\n",
       "    </tr>\n",
       "  </thead>\n",
       "  <tbody>\n",
       "    <tr>\n",
       "      <th>5901</th>\n",
       "      <td>IE</td>\n",
       "      <td>LR</td>\n",
       "      <td>IE</td>\n",
       "      <td>GB</td>\n",
       "      <td>Ireland</td>\n",
       "      <td>Europe</td>\n",
       "      <td>2.969702</td>\n",
       "      <td>2.701208</td>\n",
       "      <td>1.029097</td>\n",
       "      <td>LATIN</td>\n",
       "      <td>Northern Europe</td>\n",
       "      <td>Europe</td>\n",
       "      <td>timothy farley</td>\n",
       "      <td>u</td>\n",
       "      <td>wos</td>\n",
       "    </tr>\n",
       "    <tr>\n",
       "      <th>887</th>\n",
       "      <td>GB</td>\n",
       "      <td>GB</td>\n",
       "      <td>UG</td>\n",
       "      <td>GB</td>\n",
       "      <td>United Kingdom of Great Britain and Northern I...</td>\n",
       "      <td>Europe</td>\n",
       "      <td>1.936933</td>\n",
       "      <td>2.020439</td>\n",
       "      <td>1.319162</td>\n",
       "      <td>LATIN</td>\n",
       "      <td>Northern Europe</td>\n",
       "      <td>Europe</td>\n",
       "      <td>patricia clee</td>\n",
       "      <td>u</td>\n",
       "      <td>genderize_r_authors</td>\n",
       "    </tr>\n",
       "    <tr>\n",
       "      <th>1843</th>\n",
       "      <td>DE</td>\n",
       "      <td>DE</td>\n",
       "      <td>UG</td>\n",
       "      <td>DE</td>\n",
       "      <td>Germany</td>\n",
       "      <td>Europe</td>\n",
       "      <td>3.170821</td>\n",
       "      <td>1.228249</td>\n",
       "      <td>2.983891</td>\n",
       "      <td>LATIN</td>\n",
       "      <td>Western Europe</td>\n",
       "      <td>Europe</td>\n",
       "      <td>allen dietrich</td>\n",
       "      <td>m</td>\n",
       "      <td>pubmed</td>\n",
       "    </tr>\n",
       "  </tbody>\n",
       "</table>\n",
       "</div>"
      ],
      "text/plain": [
       "     country countryAlt countryFirstName countryLastName  \\\n",
       "5901      IE         LR               IE              GB   \n",
       "887       GB         GB               UG              GB   \n",
       "1843      DE         DE               UG              DE   \n",
       "\n",
       "                                            countryName  region     score  \\\n",
       "5901                                            Ireland  Europe  2.969702   \n",
       "887   United Kingdom of Great Britain and Northern I...  Europe  1.936933   \n",
       "1843                                            Germany  Europe  3.170821   \n",
       "\n",
       "      scoreFirstName  scoreLastName script        subRegion topRegion  \\\n",
       "5901        2.701208       1.029097  LATIN  Northern Europe    Europe   \n",
       "887         2.020439       1.319162  LATIN  Northern Europe    Europe   \n",
       "1843        1.228249       2.983891  LATIN   Western Europe    Europe   \n",
       "\n",
       "           full_name gender               source  \n",
       "5901  timothy farley      u                  wos  \n",
       "887    patricia clee      u  genderize_r_authors  \n",
       "1843  allen dietrich      m               pubmed  "
      ]
     },
     "execution_count": 48,
     "metadata": {},
     "output_type": "execute_result"
    }
   ],
   "source": [
    "origin_df.sample(3)"
   ]
  },
  {
   "cell_type": "code",
   "execution_count": 44,
   "metadata": {},
   "outputs": [],
   "source": [
    "origin_df.to_csv(\"origin_evaluation.csv\", sep=';', index=False)"
   ]
  },
  {
   "cell_type": "markdown",
   "metadata": {},
   "source": [
    "###  Fetch ethnicity predictions"
   ]
  },
  {
   "cell_type": "code",
   "execution_count": 9,
   "metadata": {
    "scrolled": true
   },
   "outputs": [],
   "source": [
    "diaspora_url = 'https://api.namsor.com/onomastics/api/json/diaspora/'\n",
    "diaspora = []\n",
    "counter = 0\n",
    "\n",
    "for i, row in data.iterrows():\n",
    "    counter += 1\n",
    "    if row['middle_name'] == '':\n",
    "        url = diaspora_url + row['first_name'] + '/' + row['last_name']\n",
    "    else:\n",
    "        url = diaspora_url + row['first_name'] + '-' + row['middle_name'] + '/' + row['last_name']\n",
    "        \n",
    "    r = requests.get(url, headers=headers)\n",
    "    \n",
    "    if r.status_code == 200:\n",
    "        diaspora.append(json.loads(r.text))\n",
    "    else:\n",
    "        print(row)\n",
    "        diaspora.append({})"
   ]
  },
  {
   "cell_type": "code",
   "execution_count": 91,
   "metadata": {},
   "outputs": [
    {
     "data": {
      "text/plain": [
       "7076"
      ]
     },
     "execution_count": 91,
     "metadata": {},
     "output_type": "execute_result"
    }
   ],
   "source": [
    "len(diaspora)"
   ]
  },
  {
   "cell_type": "code",
   "execution_count": 92,
   "metadata": {},
   "outputs": [],
   "source": [
    "diaspora_df = json_normalize(diaspora)"
   ]
  },
  {
   "cell_type": "code",
   "execution_count": 45,
   "metadata": {},
   "outputs": [],
   "source": [
    "diaspora_df['full_name'] = data['full_name']\n",
    "diaspora_df['gender'] = data['gender']\n",
    "diaspora_df['source'] = data['origin']"
   ]
  },
  {
   "cell_type": "code",
   "execution_count": 46,
   "metadata": {},
   "outputs": [
    {
     "data": {
      "text/html": [
       "<div>\n",
       "<style scoped>\n",
       "    .dataframe tbody tr th:only-of-type {\n",
       "        vertical-align: middle;\n",
       "    }\n",
       "\n",
       "    .dataframe tbody tr th {\n",
       "        vertical-align: top;\n",
       "    }\n",
       "\n",
       "    .dataframe thead th {\n",
       "        text-align: right;\n",
       "    }\n",
       "</style>\n",
       "<table border=\"1\" class=\"dataframe\">\n",
       "  <thead>\n",
       "    <tr style=\"text-align: right;\">\n",
       "      <th></th>\n",
       "      <th>ethno</th>\n",
       "      <th>ethnoAlt</th>\n",
       "      <th>geoCountry</th>\n",
       "      <th>geoCountryAlt</th>\n",
       "      <th>score</th>\n",
       "      <th>script</th>\n",
       "      <th>full_name</th>\n",
       "      <th>gender</th>\n",
       "      <th>source</th>\n",
       "    </tr>\n",
       "  </thead>\n",
       "  <tbody>\n",
       "    <tr>\n",
       "      <th>4146</th>\n",
       "      <td>Chinese</td>\n",
       "      <td>Chinese</td>\n",
       "      <td>TW</td>\n",
       "      <td>TW</td>\n",
       "      <td>5.628998</td>\n",
       "      <td>LATIN</td>\n",
       "      <td>jingchi chen</td>\n",
       "      <td>m</td>\n",
       "      <td>wos</td>\n",
       "    </tr>\n",
       "    <tr>\n",
       "      <th>2660</th>\n",
       "      <td>Polish</td>\n",
       "      <td>Polish</td>\n",
       "      <td>US</td>\n",
       "      <td>PL</td>\n",
       "      <td>2.462238</td>\n",
       "      <td>LATIN</td>\n",
       "      <td>pauline mysliwiec</td>\n",
       "      <td>f</td>\n",
       "      <td>pubmed</td>\n",
       "    </tr>\n",
       "    <tr>\n",
       "      <th>6443</th>\n",
       "      <td>Irish</td>\n",
       "      <td>British</td>\n",
       "      <td>US</td>\n",
       "      <td>US</td>\n",
       "      <td>1.924885</td>\n",
       "      <td>LATIN</td>\n",
       "      <td>kelly foote</td>\n",
       "      <td>m</td>\n",
       "      <td>wos</td>\n",
       "    </tr>\n",
       "    <tr>\n",
       "      <th>372</th>\n",
       "      <td>Somalia</td>\n",
       "      <td>Somalia</td>\n",
       "      <td>GB</td>\n",
       "      <td>SO</td>\n",
       "      <td>3.768971</td>\n",
       "      <td>LATIN</td>\n",
       "      <td>ahmed zeriahi</td>\n",
       "      <td>m</td>\n",
       "      <td>zbmath</td>\n",
       "    </tr>\n",
       "    <tr>\n",
       "      <th>3722</th>\n",
       "      <td>Dutch</td>\n",
       "      <td>Dutch</td>\n",
       "      <td>ZA</td>\n",
       "      <td>NL</td>\n",
       "      <td>4.616152</td>\n",
       "      <td>LATIN</td>\n",
       "      <td>mathijs smit</td>\n",
       "      <td>m</td>\n",
       "      <td>wos</td>\n",
       "    </tr>\n",
       "  </tbody>\n",
       "</table>\n",
       "</div>"
      ],
      "text/plain": [
       "        ethno ethnoAlt geoCountry geoCountryAlt     score script  \\\n",
       "4146  Chinese  Chinese         TW            TW  5.628998  LATIN   \n",
       "2660   Polish   Polish         US            PL  2.462238  LATIN   \n",
       "6443    Irish  British         US            US  1.924885  LATIN   \n",
       "372   Somalia  Somalia         GB            SO  3.768971  LATIN   \n",
       "3722    Dutch    Dutch         ZA            NL  4.616152  LATIN   \n",
       "\n",
       "              full_name gender  source  \n",
       "4146       jingchi chen      m     wos  \n",
       "2660  pauline mysliwiec      f  pubmed  \n",
       "6443        kelly foote      m     wos  \n",
       "372       ahmed zeriahi      m  zbmath  \n",
       "3722       mathijs smit      m     wos  "
      ]
     },
     "execution_count": 46,
     "metadata": {},
     "output_type": "execute_result"
    }
   ],
   "source": [
    "diaspora_df.sample(5)"
   ]
  },
  {
   "cell_type": "code",
   "execution_count": 47,
   "metadata": {},
   "outputs": [],
   "source": [
    "diaspora_df.to_csv(\"diaspora_evaluation.csv\", sep=';', index=False)"
   ]
  },
  {
   "cell_type": "markdown",
   "metadata": {},
   "source": [
    "### Merge origin and ethnicity predictions"
   ]
  },
  {
   "cell_type": "code",
   "execution_count": 49,
   "metadata": {},
   "outputs": [],
   "source": [
    "origin_df = pd.read_csv(\"origin_evaluation.csv\", sep=';')\n",
    "diaspora_df = pd.read_csv(\"diaspora_evaluation.csv\", sep=';')"
   ]
  },
  {
   "cell_type": "code",
   "execution_count": 50,
   "metadata": {},
   "outputs": [
    {
     "data": {
      "text/plain": [
       "Index(['country', 'countryAlt', 'countryFirstName', 'countryLastName',\n",
       "       'countryName', 'region', 'score', 'scoreFirstName', 'scoreLastName',\n",
       "       'script', 'subRegion', 'topRegion', 'full_name', 'gender', 'source'],\n",
       "      dtype='object')"
      ]
     },
     "execution_count": 50,
     "metadata": {},
     "output_type": "execute_result"
    }
   ],
   "source": [
    "origin_df.columns"
   ]
  },
  {
   "cell_type": "code",
   "execution_count": 51,
   "metadata": {},
   "outputs": [
    {
     "data": {
      "text/plain": [
       "Index(['ethno', 'ethnoAlt', 'geoCountry', 'geoCountryAlt', 'score', 'script',\n",
       "       'full_name', 'gender', 'source'],\n",
       "      dtype='object')"
      ]
     },
     "execution_count": 51,
     "metadata": {},
     "output_type": "execute_result"
    }
   ],
   "source": [
    "diaspora_df.columns"
   ]
  },
  {
   "cell_type": "code",
   "execution_count": 52,
   "metadata": {},
   "outputs": [],
   "source": [
    "df = origin_df[['full_name', 'gender', 'source', 'countryName', 'country', 'countryAlt', \n",
    "                'region', 'subRegion', 'topRegion', 'score']]"
   ]
  },
  {
   "cell_type": "code",
   "execution_count": 53,
   "metadata": {},
   "outputs": [],
   "source": [
    "df = df.rename({'score': 'score_origin'}, axis='columns')"
   ]
  },
  {
   "cell_type": "code",
   "execution_count": 54,
   "metadata": {},
   "outputs": [],
   "source": [
    "df = pd.concat([df, diaspora_df[['ethno', 'ethnoAlt', 'geoCountry', 'geoCountryAlt', 'score']]], axis=1)"
   ]
  },
  {
   "cell_type": "code",
   "execution_count": 55,
   "metadata": {},
   "outputs": [],
   "source": [
    "df = df.rename({'score': 'score_diaspora'}, axis='columns')"
   ]
  },
  {
   "cell_type": "code",
   "execution_count": 56,
   "metadata": {},
   "outputs": [
    {
     "data": {
      "text/html": [
       "<div>\n",
       "<style scoped>\n",
       "    .dataframe tbody tr th:only-of-type {\n",
       "        vertical-align: middle;\n",
       "    }\n",
       "\n",
       "    .dataframe tbody tr th {\n",
       "        vertical-align: top;\n",
       "    }\n",
       "\n",
       "    .dataframe thead th {\n",
       "        text-align: right;\n",
       "    }\n",
       "</style>\n",
       "<table border=\"1\" class=\"dataframe\">\n",
       "  <thead>\n",
       "    <tr style=\"text-align: right;\">\n",
       "      <th></th>\n",
       "      <th>full_name</th>\n",
       "      <th>gender</th>\n",
       "      <th>source</th>\n",
       "      <th>countryName</th>\n",
       "      <th>country</th>\n",
       "      <th>countryAlt</th>\n",
       "      <th>region</th>\n",
       "      <th>subRegion</th>\n",
       "      <th>topRegion</th>\n",
       "      <th>score_origin</th>\n",
       "      <th>ethno</th>\n",
       "      <th>ethnoAlt</th>\n",
       "      <th>geoCountry</th>\n",
       "      <th>geoCountryAlt</th>\n",
       "      <th>score_diaspora</th>\n",
       "    </tr>\n",
       "  </thead>\n",
       "  <tbody>\n",
       "    <tr>\n",
       "      <th>2555</th>\n",
       "      <td>joseph mathew</td>\n",
       "      <td>m</td>\n",
       "      <td>pubmed</td>\n",
       "      <td>Ireland</td>\n",
       "      <td>IE</td>\n",
       "      <td>TZ</td>\n",
       "      <td>Europe</td>\n",
       "      <td>Northern Europe</td>\n",
       "      <td>Europe</td>\n",
       "      <td>2.498026</td>\n",
       "      <td>Indian</td>\n",
       "      <td>Irish</td>\n",
       "      <td>US</td>\n",
       "      <td>IE</td>\n",
       "      <td>2.650154</td>\n",
       "    </tr>\n",
       "    <tr>\n",
       "      <th>6717</th>\n",
       "      <td>michel faure</td>\n",
       "      <td>m</td>\n",
       "      <td>wos</td>\n",
       "      <td>France</td>\n",
       "      <td>FR</td>\n",
       "      <td>FR</td>\n",
       "      <td>Europe</td>\n",
       "      <td>Western Europe</td>\n",
       "      <td>Europe</td>\n",
       "      <td>3.474327</td>\n",
       "      <td>French</td>\n",
       "      <td>Jewish</td>\n",
       "      <td>CH</td>\n",
       "      <td>FR</td>\n",
       "      <td>3.516748</td>\n",
       "    </tr>\n",
       "    <tr>\n",
       "      <th>2360</th>\n",
       "      <td>eswar krishnan</td>\n",
       "      <td>m</td>\n",
       "      <td>pubmed</td>\n",
       "      <td>India</td>\n",
       "      <td>IN</td>\n",
       "      <td>IN</td>\n",
       "      <td>Asia</td>\n",
       "      <td>Southern Asia</td>\n",
       "      <td>Asia</td>\n",
       "      <td>2.978138</td>\n",
       "      <td>Indian</td>\n",
       "      <td>Indian</td>\n",
       "      <td>IN</td>\n",
       "      <td>US</td>\n",
       "      <td>4.141528</td>\n",
       "    </tr>\n",
       "  </tbody>\n",
       "</table>\n",
       "</div>"
      ],
      "text/plain": [
       "           full_name gender  source countryName country countryAlt  region  \\\n",
       "2555   joseph mathew      m  pubmed     Ireland      IE         TZ  Europe   \n",
       "6717    michel faure      m     wos      France      FR         FR  Europe   \n",
       "2360  eswar krishnan      m  pubmed       India      IN         IN    Asia   \n",
       "\n",
       "            subRegion topRegion  score_origin   ethno ethnoAlt geoCountry  \\\n",
       "2555  Northern Europe    Europe      2.498026  Indian    Irish         US   \n",
       "6717   Western Europe    Europe      3.474327  French   Jewish         CH   \n",
       "2360    Southern Asia      Asia      2.978138  Indian   Indian         IN   \n",
       "\n",
       "     geoCountryAlt  score_diaspora  \n",
       "2555            IE        2.650154  \n",
       "6717            FR        3.516748  \n",
       "2360            US        4.141528  "
      ]
     },
     "execution_count": 56,
     "metadata": {},
     "output_type": "execute_result"
    }
   ],
   "source": [
    "df.sample(3)"
   ]
  },
  {
   "cell_type": "markdown",
   "metadata": {},
   "source": [
    "### Analysis"
   ]
  },
  {
   "cell_type": "code",
   "execution_count": 287,
   "metadata": {},
   "outputs": [
    {
     "data": {
      "text/plain": [
       "Europe      4338\n",
       "Asia        2372\n",
       "Africa       365\n",
       "Americas       1\n",
       "Name: topRegion, dtype: int64"
      ]
     },
     "execution_count": 287,
     "metadata": {},
     "output_type": "execute_result"
    }
   ],
   "source": [
    "df.topRegion.value_counts()"
   ]
  },
  {
   "cell_type": "code",
   "execution_count": 288,
   "metadata": {},
   "outputs": [
    {
     "data": {
      "text/plain": [
       "210"
      ]
     },
     "execution_count": 288,
     "metadata": {},
     "output_type": "execute_result"
    }
   ],
   "source": [
    "# referring to Namsor's evaluations, scores above 0 are reliable for Europe, Asia and Africa\n",
    "len(df[df.score_origin <= 0])"
   ]
  },
  {
   "cell_type": "code",
   "execution_count": 289,
   "metadata": {},
   "outputs": [
    {
     "data": {
      "text/plain": [
       "source\n",
       "genderize_r_authors    0.031746\n",
       "genderize_r_titles     0.036170\n",
       "pubmed                 0.025615\n",
       "wos                    0.032547\n",
       "zbmath                 0.012500\n",
       "Name: full_name, dtype: float64"
      ]
     },
     "execution_count": 289,
     "metadata": {},
     "output_type": "execute_result"
    }
   ],
   "source": [
    "# check whether a data source is particularly affected by the low origin score\n",
    "count_low_score = df[df.score_origin <= 0].groupby('source')['full_name'].count()\n",
    "count_all = df.groupby('source')['full_name'].count()\n",
    "count_low_score.divide(count_all)"
   ]
  },
  {
   "cell_type": "code",
   "execution_count": 290,
   "metadata": {},
   "outputs": [
    {
     "data": {
      "text/plain": [
       "<matplotlib.axes._subplots.AxesSubplot at 0x119377e48>"
      ]
     },
     "execution_count": 290,
     "metadata": {},
     "output_type": "execute_result"
    },
    {
     "data": {
      "image/png": "[encoded data removed]",
      "text/plain": [
       "<matplotlib.figure.Figure at 0x1180b1320>"
      ]
     },
     "metadata": {},
     "output_type": "display_data"
    }
   ],
   "source": [
    "df[df.topRegion == 'Europe']['score_origin'].hist()"
   ]
  },
  {
   "cell_type": "markdown",
   "metadata": {},
   "source": [
    "#### Distribution of regions by data source"
   ]
  },
  {
   "cell_type": "code",
   "execution_count": 291,
   "metadata": {},
   "outputs": [
    {
     "data": {
      "text/html": [
       "<div>\n",
       "<style scoped>\n",
       "    .dataframe tbody tr th:only-of-type {\n",
       "        vertical-align: middle;\n",
       "    }\n",
       "\n",
       "    .dataframe tbody tr th {\n",
       "        vertical-align: top;\n",
       "    }\n",
       "\n",
       "    .dataframe thead th {\n",
       "        text-align: right;\n",
       "    }\n",
       "</style>\n",
       "<table border=\"1\" class=\"dataframe\">\n",
       "  <thead>\n",
       "    <tr style=\"text-align: right;\">\n",
       "      <th>topRegion</th>\n",
       "      <th>Africa</th>\n",
       "      <th>Asia</th>\n",
       "      <th>Europe</th>\n",
       "    </tr>\n",
       "    <tr>\n",
       "      <th>source</th>\n",
       "      <th></th>\n",
       "      <th></th>\n",
       "      <th></th>\n",
       "    </tr>\n",
       "  </thead>\n",
       "  <tbody>\n",
       "    <tr>\n",
       "      <th>genderize_r_authors</th>\n",
       "      <td>35</td>\n",
       "      <td>58</td>\n",
       "      <td>456</td>\n",
       "    </tr>\n",
       "    <tr>\n",
       "      <th>genderize_r_titles</th>\n",
       "      <td>27</td>\n",
       "      <td>50</td>\n",
       "      <td>376</td>\n",
       "    </tr>\n",
       "    <tr>\n",
       "      <th>pubmed</th>\n",
       "      <td>108</td>\n",
       "      <td>462</td>\n",
       "      <td>1332</td>\n",
       "    </tr>\n",
       "    <tr>\n",
       "      <th>wos</th>\n",
       "      <td>149</td>\n",
       "      <td>1609</td>\n",
       "      <td>1809</td>\n",
       "    </tr>\n",
       "    <tr>\n",
       "      <th>zbmath</th>\n",
       "      <td>15</td>\n",
       "      <td>125</td>\n",
       "      <td>255</td>\n",
       "    </tr>\n",
       "  </tbody>\n",
       "</table>\n",
       "</div>"
      ],
      "text/plain": [
       "topRegion            Africa  Asia  Europe\n",
       "source                                   \n",
       "genderize_r_authors      35    58     456\n",
       "genderize_r_titles       27    50     376\n",
       "pubmed                  108   462    1332\n",
       "wos                     149  1609    1809\n",
       "zbmath                   15   125     255"
      ]
     },
     "execution_count": 291,
     "metadata": {},
     "output_type": "execute_result"
    }
   ],
   "source": [
    "origin_by_source = df[df.score_origin > 0].groupby(['topRegion', 'source']).count().\\\n",
    "unstack('topRegion')['full_name'].fillna(0)\n",
    "origin_by_source"
   ]
  },
  {
   "cell_type": "code",
   "execution_count": 292,
   "metadata": {},
   "outputs": [],
   "source": [
    "# normalize\n",
    "origin_by_source['sum'] = [origin_by_source.loc[i,:].sum() for i in origin_by_source.index]\n",
    "origin_by_source = origin_by_source.apply(lambda x: x/x['sum'], axis=1)"
   ]
  },
  {
   "cell_type": "code",
   "execution_count": 293,
   "metadata": {},
   "outputs": [
    {
     "data": {
      "text/html": [
       "<div>\n",
       "<style scoped>\n",
       "    .dataframe tbody tr th:only-of-type {\n",
       "        vertical-align: middle;\n",
       "    }\n",
       "\n",
       "    .dataframe tbody tr th {\n",
       "        vertical-align: top;\n",
       "    }\n",
       "\n",
       "    .dataframe thead th {\n",
       "        text-align: right;\n",
       "    }\n",
       "</style>\n",
       "<table border=\"1\" class=\"dataframe\">\n",
       "  <thead>\n",
       "    <tr style=\"text-align: right;\">\n",
       "      <th>topRegion</th>\n",
       "      <th>Africa</th>\n",
       "      <th>Asia</th>\n",
       "      <th>Europe</th>\n",
       "      <th>sum</th>\n",
       "    </tr>\n",
       "    <tr>\n",
       "      <th>source</th>\n",
       "      <th></th>\n",
       "      <th></th>\n",
       "      <th></th>\n",
       "      <th></th>\n",
       "    </tr>\n",
       "  </thead>\n",
       "  <tbody>\n",
       "    <tr>\n",
       "      <th>genderize_r_authors</th>\n",
       "      <td>0.063752</td>\n",
       "      <td>0.105647</td>\n",
       "      <td>0.830601</td>\n",
       "      <td>1.0</td>\n",
       "    </tr>\n",
       "    <tr>\n",
       "      <th>genderize_r_titles</th>\n",
       "      <td>0.059603</td>\n",
       "      <td>0.110375</td>\n",
       "      <td>0.830022</td>\n",
       "      <td>1.0</td>\n",
       "    </tr>\n",
       "    <tr>\n",
       "      <th>pubmed</th>\n",
       "      <td>0.056782</td>\n",
       "      <td>0.242902</td>\n",
       "      <td>0.700315</td>\n",
       "      <td>1.0</td>\n",
       "    </tr>\n",
       "    <tr>\n",
       "      <th>wos</th>\n",
       "      <td>0.041772</td>\n",
       "      <td>0.451079</td>\n",
       "      <td>0.507149</td>\n",
       "      <td>1.0</td>\n",
       "    </tr>\n",
       "    <tr>\n",
       "      <th>zbmath</th>\n",
       "      <td>0.037975</td>\n",
       "      <td>0.316456</td>\n",
       "      <td>0.645570</td>\n",
       "      <td>1.0</td>\n",
       "    </tr>\n",
       "  </tbody>\n",
       "</table>\n",
       "</div>"
      ],
      "text/plain": [
       "topRegion              Africa      Asia    Europe  sum\n",
       "source                                                \n",
       "genderize_r_authors  0.063752  0.105647  0.830601  1.0\n",
       "genderize_r_titles   0.059603  0.110375  0.830022  1.0\n",
       "pubmed               0.056782  0.242902  0.700315  1.0\n",
       "wos                  0.041772  0.451079  0.507149  1.0\n",
       "zbmath               0.037975  0.316456  0.645570  1.0"
      ]
     },
     "execution_count": 293,
     "metadata": {},
     "output_type": "execute_result"
    }
   ],
   "source": [
    "origin_by_source"
   ]
  },
  {
   "cell_type": "code",
   "execution_count": 294,
   "metadata": {},
   "outputs": [],
   "source": [
    "origin_by_source = origin_by_source.drop(['sum'], axis=1)"
   ]
  },
  {
   "cell_type": "code",
   "execution_count": 295,
   "metadata": {},
   "outputs": [
    {
     "data": {
      "text/plain": [
       "[Text(0,0,'  0%'),\n",
       " Text(0,0,' 20%'),\n",
       " Text(0,0,' 40%'),\n",
       " Text(0,0,' 60%'),\n",
       " Text(0,0,' 80%'),\n",
       " Text(0,0,'100%'),\n",
       " Text(0,0,'120%')]"
      ]
     },
     "execution_count": 295,
     "metadata": {},
     "output_type": "execute_result"
    },
    {
     "data": {
      "image/png": "[encoded data removed]",
      "text/plain": [
       "<matplotlib.figure.Figure at 0x1147bebe0>"
      ]
     },
     "metadata": {},
     "output_type": "display_data"
    }
   ],
   "source": [
    "fig, ax = plt.subplots(figsize=(12,5))\n",
    "origin_by_source.plot(ax=ax, kind='bar', stacked=True, rot=1)\n",
    "# add %-signs to y-axis\n",
    "vals = ax.get_yticks()\n",
    "ax.set_yticklabels(['{:3.0f}%'.format(x*100) for x in vals])"
   ]
  },
  {
   "cell_type": "markdown",
   "metadata": {},
   "source": [
    "* all data sources show only a few peercent of African names. \n",
    "* For `wos` approximately half of the names are from Asia and the other half have European origin; for the other data sources, names of European origin predominate, in particular for the `genderize_r` data sources "
   ]
  },
  {
   "cell_type": "markdown",
   "metadata": {},
   "source": [
    "#### Distribution of sub-regions by data source"
   ]
  },
  {
   "cell_type": "code",
   "execution_count": 296,
   "metadata": {},
   "outputs": [
    {
     "data": {
      "text/plain": [
       "<matplotlib.axes._subplots.AxesSubplot at 0x1147eb940>"
      ]
     },
     "execution_count": 296,
     "metadata": {},
     "output_type": "execute_result"
    },
    {
     "data": {
      "image/png": "[encoded data removed]",
      "text/plain": [
       "<matplotlib.figure.Figure at 0x1180b1198>"
      ]
     },
     "metadata": {},
     "output_type": "display_data"
    }
   ],
   "source": [
    "df[df.score_origin > 0].subRegion.value_counts().sort_values().plot(kind='barh')"
   ]
  },
  {
   "cell_type": "code",
   "execution_count": 297,
   "metadata": {},
   "outputs": [
    {
     "data": {
      "text/plain": [
       "[Text(0,0,'  0%'),\n",
       " Text(0,0,' 20%'),\n",
       " Text(0,0,' 40%'),\n",
       " Text(0,0,' 60%'),\n",
       " Text(0,0,' 80%'),\n",
       " Text(0,0,'100%'),\n",
       " Text(0,0,'120%')]"
      ]
     },
     "execution_count": 297,
     "metadata": {},
     "output_type": "execute_result"
    },
    {
     "data": {
      "image/png": "[encoded data removed]",
      "text/plain": [
       "<matplotlib.figure.Figure at 0x119744be0>"
      ]
     },
     "metadata": {},
     "output_type": "display_data"
    }
   ],
   "source": [
    "origin_by_source = df[df.score_origin > 0].groupby(['subRegion', 'source']).count().\\\n",
    "unstack('subRegion')['full_name'].fillna(0)\n",
    "# normalize\n",
    "origin_by_source['sum'] = [origin_by_source.loc[i,:].sum() for i in origin_by_source.index]\n",
    "origin_by_source = origin_by_source.apply(lambda x: x/x['sum'], axis=1)\n",
    "origin_by_source = origin_by_source.drop(['sum'], axis=1)\n",
    "\n",
    "fig, ax = plt.subplots(figsize=(12,5))\n",
    "origin_by_source.plot(ax=ax, kind='bar', stacked=True, rot=1)\n",
    "# add %-signs to y-axis\n",
    "vals = ax.get_yticks()\n",
    "ax.set_yticklabels(['{:3.0f}%'.format(x*100) for x in vals])"
   ]
  },
  {
   "cell_type": "markdown",
   "metadata": {},
   "source": [
    "#### Distribution of countries by data source"
   ]
  },
  {
   "cell_type": "code",
   "execution_count": 298,
   "metadata": {},
   "outputs": [],
   "source": [
    "origin_by_source = df[df.score_origin > 0].groupby(['countryName', 'source']).count().\\\n",
    "unstack('countryName')['full_name'].fillna(0)\n",
    "# normalize\n",
    "origin_by_source['sum'] = [origin_by_source.loc[i,:].sum() for i in origin_by_source.index]\n",
    "origin_by_source = origin_by_source.apply(lambda x: x/x['sum'], axis=1)\n",
    "origin_by_source = origin_by_source.drop(['sum'], axis=1)"
   ]
  },
  {
   "cell_type": "code",
   "execution_count": 299,
   "metadata": {},
   "outputs": [
    {
     "data": {
      "text/html": [
       "<div>\n",
       "<style scoped>\n",
       "    .dataframe tbody tr th:only-of-type {\n",
       "        vertical-align: middle;\n",
       "    }\n",
       "\n",
       "    .dataframe tbody tr th {\n",
       "        vertical-align: top;\n",
       "    }\n",
       "\n",
       "    .dataframe thead th {\n",
       "        text-align: right;\n",
       "    }\n",
       "</style>\n",
       "<table border=\"1\" class=\"dataframe\">\n",
       "  <thead>\n",
       "    <tr style=\"text-align: right;\">\n",
       "      <th>countryName</th>\n",
       "      <th>Afghanistan</th>\n",
       "      <th>Albania</th>\n",
       "      <th>Algeria</th>\n",
       "      <th>Armenia</th>\n",
       "      <th>Austria</th>\n",
       "      <th>Azerbaijan</th>\n",
       "      <th>Bahrain</th>\n",
       "      <th>Bangladesh</th>\n",
       "      <th>Belarus</th>\n",
       "      <th>Belgium</th>\n",
       "      <th>...</th>\n",
       "      <th>Turkey</th>\n",
       "      <th>Uganda</th>\n",
       "      <th>Ukraine</th>\n",
       "      <th>United Arab Emirates</th>\n",
       "      <th>United Kingdom of Great Britain and Northern Ireland</th>\n",
       "      <th>Uzbekistan</th>\n",
       "      <th>Viet Nam</th>\n",
       "      <th>Yemen</th>\n",
       "      <th>Zambia</th>\n",
       "      <th>Zimbabwe</th>\n",
       "    </tr>\n",
       "    <tr>\n",
       "      <th>source</th>\n",
       "      <th></th>\n",
       "      <th></th>\n",
       "      <th></th>\n",
       "      <th></th>\n",
       "      <th></th>\n",
       "      <th></th>\n",
       "      <th></th>\n",
       "      <th></th>\n",
       "      <th></th>\n",
       "      <th></th>\n",
       "      <th></th>\n",
       "      <th></th>\n",
       "      <th></th>\n",
       "      <th></th>\n",
       "      <th></th>\n",
       "      <th></th>\n",
       "      <th></th>\n",
       "      <th></th>\n",
       "      <th></th>\n",
       "      <th></th>\n",
       "      <th></th>\n",
       "    </tr>\n",
       "  </thead>\n",
       "  <tbody>\n",
       "    <tr>\n",
       "      <th>genderize_r_authors</th>\n",
       "      <td>0.000000</td>\n",
       "      <td>0.000000</td>\n",
       "      <td>0.001821</td>\n",
       "      <td>0.001821</td>\n",
       "      <td>0.041894</td>\n",
       "      <td>0.00000</td>\n",
       "      <td>0.000000</td>\n",
       "      <td>0.001821</td>\n",
       "      <td>0.001821</td>\n",
       "      <td>0.007286</td>\n",
       "      <td>...</td>\n",
       "      <td>0.009107</td>\n",
       "      <td>0.000000</td>\n",
       "      <td>0.000000</td>\n",
       "      <td>0.000000</td>\n",
       "      <td>0.222222</td>\n",
       "      <td>0.001821</td>\n",
       "      <td>0.000000</td>\n",
       "      <td>0.000000</td>\n",
       "      <td>0.000000</td>\n",
       "      <td>0.001821</td>\n",
       "    </tr>\n",
       "    <tr>\n",
       "      <th>genderize_r_titles</th>\n",
       "      <td>0.000000</td>\n",
       "      <td>0.000000</td>\n",
       "      <td>0.000000</td>\n",
       "      <td>0.000000</td>\n",
       "      <td>0.024283</td>\n",
       "      <td>0.00000</td>\n",
       "      <td>0.000000</td>\n",
       "      <td>0.000000</td>\n",
       "      <td>0.000000</td>\n",
       "      <td>0.006623</td>\n",
       "      <td>...</td>\n",
       "      <td>0.000000</td>\n",
       "      <td>0.006623</td>\n",
       "      <td>0.002208</td>\n",
       "      <td>0.000000</td>\n",
       "      <td>0.264901</td>\n",
       "      <td>0.002208</td>\n",
       "      <td>0.000000</td>\n",
       "      <td>0.000000</td>\n",
       "      <td>0.000000</td>\n",
       "      <td>0.000000</td>\n",
       "    </tr>\n",
       "    <tr>\n",
       "      <th>pubmed</th>\n",
       "      <td>0.000526</td>\n",
       "      <td>0.001052</td>\n",
       "      <td>0.001052</td>\n",
       "      <td>0.002629</td>\n",
       "      <td>0.024185</td>\n",
       "      <td>0.00000</td>\n",
       "      <td>0.000526</td>\n",
       "      <td>0.004732</td>\n",
       "      <td>0.001052</td>\n",
       "      <td>0.013670</td>\n",
       "      <td>...</td>\n",
       "      <td>0.004206</td>\n",
       "      <td>0.004732</td>\n",
       "      <td>0.002103</td>\n",
       "      <td>0.000000</td>\n",
       "      <td>0.187697</td>\n",
       "      <td>0.000526</td>\n",
       "      <td>0.001577</td>\n",
       "      <td>0.000000</td>\n",
       "      <td>0.000000</td>\n",
       "      <td>0.000000</td>\n",
       "    </tr>\n",
       "    <tr>\n",
       "      <th>wos</th>\n",
       "      <td>0.001121</td>\n",
       "      <td>0.000561</td>\n",
       "      <td>0.001121</td>\n",
       "      <td>0.001402</td>\n",
       "      <td>0.015980</td>\n",
       "      <td>0.00028</td>\n",
       "      <td>0.000841</td>\n",
       "      <td>0.005607</td>\n",
       "      <td>0.001121</td>\n",
       "      <td>0.011214</td>\n",
       "      <td>...</td>\n",
       "      <td>0.026072</td>\n",
       "      <td>0.001121</td>\n",
       "      <td>0.001402</td>\n",
       "      <td>0.000561</td>\n",
       "      <td>0.089711</td>\n",
       "      <td>0.000280</td>\n",
       "      <td>0.005046</td>\n",
       "      <td>0.001402</td>\n",
       "      <td>0.001121</td>\n",
       "      <td>0.000280</td>\n",
       "    </tr>\n",
       "    <tr>\n",
       "      <th>zbmath</th>\n",
       "      <td>0.000000</td>\n",
       "      <td>0.000000</td>\n",
       "      <td>0.007595</td>\n",
       "      <td>0.000000</td>\n",
       "      <td>0.017722</td>\n",
       "      <td>0.00000</td>\n",
       "      <td>0.000000</td>\n",
       "      <td>0.002532</td>\n",
       "      <td>0.002532</td>\n",
       "      <td>0.005063</td>\n",
       "      <td>...</td>\n",
       "      <td>0.025316</td>\n",
       "      <td>0.000000</td>\n",
       "      <td>0.010127</td>\n",
       "      <td>0.000000</td>\n",
       "      <td>0.068354</td>\n",
       "      <td>0.000000</td>\n",
       "      <td>0.002532</td>\n",
       "      <td>0.005063</td>\n",
       "      <td>0.000000</td>\n",
       "      <td>0.000000</td>\n",
       "    </tr>\n",
       "  </tbody>\n",
       "</table>\n",
       "<p>5 rows × 113 columns</p>\n",
       "</div>"
      ],
      "text/plain": [
       "countryName          Afghanistan   Albania   Algeria   Armenia   Austria  \\\n",
       "source                                                                     \n",
       "genderize_r_authors     0.000000  0.000000  0.001821  0.001821  0.041894   \n",
       "genderize_r_titles      0.000000  0.000000  0.000000  0.000000  0.024283   \n",
       "pubmed                  0.000526  0.001052  0.001052  0.002629  0.024185   \n",
       "wos                     0.001121  0.000561  0.001121  0.001402  0.015980   \n",
       "zbmath                  0.000000  0.000000  0.007595  0.000000  0.017722   \n",
       "\n",
       "countryName          Azerbaijan   Bahrain  Bangladesh   Belarus   Belgium  \\\n",
       "source                                                                      \n",
       "genderize_r_authors     0.00000  0.000000    0.001821  0.001821  0.007286   \n",
       "genderize_r_titles      0.00000  0.000000    0.000000  0.000000  0.006623   \n",
       "pubmed                  0.00000  0.000526    0.004732  0.001052  0.013670   \n",
       "wos                     0.00028  0.000841    0.005607  0.001121  0.011214   \n",
       "zbmath                  0.00000  0.000000    0.002532  0.002532  0.005063   \n",
       "\n",
       "countryName            ...       Turkey    Uganda   Ukraine  \\\n",
       "source                 ...                                    \n",
       "genderize_r_authors    ...     0.009107  0.000000  0.000000   \n",
       "genderize_r_titles     ...     0.000000  0.006623  0.002208   \n",
       "pubmed                 ...     0.004206  0.004732  0.002103   \n",
       "wos                    ...     0.026072  0.001121  0.001402   \n",
       "zbmath                 ...     0.025316  0.000000  0.010127   \n",
       "\n",
       "countryName          United Arab Emirates  \\\n",
       "source                                      \n",
       "genderize_r_authors              0.000000   \n",
       "genderize_r_titles               0.000000   \n",
       "pubmed                           0.000000   \n",
       "wos                              0.000561   \n",
       "zbmath                           0.000000   \n",
       "\n",
       "countryName          United Kingdom of Great Britain and Northern Ireland  \\\n",
       "source                                                                      \n",
       "genderize_r_authors                                           0.222222      \n",
       "genderize_r_titles                                            0.264901      \n",
       "pubmed                                                        0.187697      \n",
       "wos                                                           0.089711      \n",
       "zbmath                                                        0.068354      \n",
       "\n",
       "countryName          Uzbekistan  Viet Nam     Yemen    Zambia  Zimbabwe  \n",
       "source                                                                   \n",
       "genderize_r_authors    0.001821  0.000000  0.000000  0.000000  0.001821  \n",
       "genderize_r_titles     0.002208  0.000000  0.000000  0.000000  0.000000  \n",
       "pubmed                 0.000526  0.001577  0.000000  0.000000  0.000000  \n",
       "wos                    0.000280  0.005046  0.001402  0.001121  0.000280  \n",
       "zbmath                 0.000000  0.002532  0.005063  0.000000  0.000000  \n",
       "\n",
       "[5 rows x 113 columns]"
      ]
     },
     "execution_count": 299,
     "metadata": {},
     "output_type": "execute_result"
    }
   ],
   "source": [
    "origin_by_source"
   ]
  },
  {
   "cell_type": "code",
   "execution_count": 300,
   "metadata": {},
   "outputs": [
    {
     "name": "stdout",
     "output_type": "stream",
     "text": [
      "data source:  genderize_r_authors\n",
      "countryName\n",
      "United Kingdom of Great Britain and Northern Ireland    0.222222\n",
      "Ireland                                                 0.369763\n",
      "Germany                                                 0.495446\n",
      "Italy                                                   0.542805\n",
      "France                                                  0.586521\n",
      "Austria                                                 0.628415\n",
      "Poland                                                  0.664845\n",
      "Israel                                                  0.692168\n",
      "India                                                   0.717668\n",
      "Spain                                                   0.743169\n",
      "Name: genderize_r_authors, dtype: float64\n",
      "data source:  genderize_r_titles\n",
      "countryName\n",
      "United Kingdom of Great Britain and Northern Ireland    0.264901\n",
      "Ireland                                                 0.388521\n",
      "Germany                                                 0.501104\n",
      "Russian Federation                                      0.551876\n",
      "Israel                                                  0.600442\n",
      "Italy                                                   0.644592\n",
      "France                                                  0.682119\n",
      "Poland                                                  0.713024\n",
      "Spain                                                   0.739514\n",
      "Austria                                                 0.763797\n",
      "Name: genderize_r_titles, dtype: float64\n",
      "data source:  pubmed\n",
      "countryName\n",
      "United Kingdom of Great Britain and Northern Ireland    0.187697\n",
      "Ireland                                                 0.316509\n",
      "Germany                                                 0.398528\n",
      "Israel                                                  0.449001\n",
      "India                                                   0.496845\n",
      "Italy                                                   0.539958\n",
      "China                                                   0.578339\n",
      "France                                                  0.615142\n",
      "Netherlands                                             0.649842\n",
      "Spain                                                   0.676656\n",
      "Name: pubmed, dtype: float64\n",
      "data source:  wos\n",
      "countryName\n",
      "China                                                   0.119708\n",
      "United Kingdom of Great Britain and Northern Ireland    0.209420\n",
      "Japan                                                   0.288478\n",
      "Germany                                                 0.351836\n",
      "France                                                  0.414914\n",
      "Korea, Republic of                                      0.477712\n",
      "India                                                   0.529857\n",
      "Italy                                                   0.573872\n",
      "Spain                                                   0.615363\n",
      "Turkey                                                  0.641435\n",
      "Name: wos, dtype: float64\n",
      "data source:  zbmath\n",
      "countryName\n",
      "Germany                                                 0.116456\n",
      "Japan                                                   0.192405\n",
      "United Kingdom of Great Britain and Northern Ireland    0.260759\n",
      "Spain                                                   0.329114\n",
      "China                                                   0.394937\n",
      "Ireland                                                 0.448101\n",
      "France                                                  0.488608\n",
      "Poland                                                  0.529114\n",
      "India                                                   0.567089\n",
      "Russian Federation                                      0.605063\n",
      "Name: zbmath, dtype: float64\n"
     ]
    }
   ],
   "source": [
    "# print the most frequent countries per data source and their cummulative sum\n",
    "no_countries = 10\n",
    "for i, row in origin_by_source.iterrows():\n",
    "    print(\"data source: \", i)\n",
    "    row_sorted = row.sort_values(ascending=False)\n",
    "    print(row_sorted[:no_countries].cumsum(axis=0))\n"
   ]
  },
  {
   "cell_type": "markdown",
   "metadata": {},
   "source": [
    "* for 3 out of 5 data sources, UK is the most frequent country; it is always among the top 3. Ireland is for all data sources except `wos` also among the top 6. Overall, English speaking names are the most frequent ones.\n",
    "* Germany among the top 3 for all data sets\n",
    "* both `genderize_r` data sources and `pubmed` have the same top 3 countries: UK, Ireland, Germany\n",
    "* Both `genderize_r` datasets are very Euro-centric. Almost no Asian country among the top 10\n",
    "* Data source `wos` has a particularly high share of Asian names: China is at pos. 1, Japan at pos. 3 and Korea at pos. 6\n",
    "* `genderize_r` data sources show the lowest variability: top 3 countries cover 50% of all names and the top 10 cover ~75%. The highest variability is in the smallest data set `zbmath`, where the top 3 countries are responsible for 26% of all names and the top 10 cover 60%."
   ]
  },
  {
   "cell_type": "markdown",
   "metadata": {},
   "source": [
    "### check data sample for quality of `origin` inference "
   ]
  },
  {
   "cell_type": "code",
   "execution_count": 301,
   "metadata": {},
   "outputs": [],
   "source": [
    "# sample 50 names and check manually\n",
    "sample = df[df.score_origin > 0].sample(50, random_state=1)"
   ]
  },
  {
   "cell_type": "code",
   "execution_count": 302,
   "metadata": {},
   "outputs": [
    {
     "data": {
      "text/html": [
       "<div>\n",
       "<style scoped>\n",
       "    .dataframe tbody tr th:only-of-type {\n",
       "        vertical-align: middle;\n",
       "    }\n",
       "\n",
       "    .dataframe tbody tr th {\n",
       "        vertical-align: top;\n",
       "    }\n",
       "\n",
       "    .dataframe thead th {\n",
       "        text-align: right;\n",
       "    }\n",
       "</style>\n",
       "<table border=\"1\" class=\"dataframe\">\n",
       "  <thead>\n",
       "    <tr style=\"text-align: right;\">\n",
       "      <th></th>\n",
       "      <th>full_name</th>\n",
       "      <th>countryName</th>\n",
       "      <th>subRegion</th>\n",
       "      <th>topRegion</th>\n",
       "      <th>score_origin</th>\n",
       "    </tr>\n",
       "  </thead>\n",
       "  <tbody>\n",
       "    <tr>\n",
       "      <th>2932</th>\n",
       "      <td>paul rutgeerts</td>\n",
       "      <td>Belgium</td>\n",
       "      <td>Western Europe</td>\n",
       "      <td>Europe</td>\n",
       "      <td>3.854667</td>\n",
       "    </tr>\n",
       "    <tr>\n",
       "      <th>5474</th>\n",
       "      <td>christopher ta</td>\n",
       "      <td>Viet Nam</td>\n",
       "      <td>South-Eastern Asia</td>\n",
       "      <td>Asia</td>\n",
       "      <td>1.636782</td>\n",
       "    </tr>\n",
       "    <tr>\n",
       "      <th>964</th>\n",
       "      <td>ian morison</td>\n",
       "      <td>United Kingdom of Great Britain and Northern I...</td>\n",
       "      <td>Northern Europe</td>\n",
       "      <td>Europe</td>\n",
       "      <td>2.132824</td>\n",
       "    </tr>\n",
       "    <tr>\n",
       "      <th>5373</th>\n",
       "      <td>alexander voityuk</td>\n",
       "      <td>Russian Federation</td>\n",
       "      <td>Eastern Europe</td>\n",
       "      <td>Europe</td>\n",
       "      <td>3.562407</td>\n",
       "    </tr>\n",
       "    <tr>\n",
       "      <th>449</th>\n",
       "      <td>robert burton</td>\n",
       "      <td>Ireland</td>\n",
       "      <td>Northern Europe</td>\n",
       "      <td>Europe</td>\n",
       "      <td>3.201207</td>\n",
       "    </tr>\n",
       "    <tr>\n",
       "      <th>6606</th>\n",
       "      <td>mitsuru okuno</td>\n",
       "      <td>Japan</td>\n",
       "      <td>Eastern Asia</td>\n",
       "      <td>Asia</td>\n",
       "      <td>3.753080</td>\n",
       "    </tr>\n",
       "    <tr>\n",
       "      <th>4455</th>\n",
       "      <td>dongmei qin</td>\n",
       "      <td>China</td>\n",
       "      <td>Eastern Asia</td>\n",
       "      <td>Asia</td>\n",
       "      <td>4.575318</td>\n",
       "    </tr>\n",
       "    <tr>\n",
       "      <th>253</th>\n",
       "      <td>mario perez-jimenez</td>\n",
       "      <td>Spain</td>\n",
       "      <td>Southern Europe</td>\n",
       "      <td>Europe</td>\n",
       "      <td>2.642884</td>\n",
       "    </tr>\n",
       "    <tr>\n",
       "      <th>3568</th>\n",
       "      <td>alyne simoes</td>\n",
       "      <td>France</td>\n",
       "      <td>Western Europe</td>\n",
       "      <td>Europe</td>\n",
       "      <td>0.826543</td>\n",
       "    </tr>\n",
       "    <tr>\n",
       "      <th>5384</th>\n",
       "      <td>andrew mackay</td>\n",
       "      <td>United Kingdom of Great Britain and Northern I...</td>\n",
       "      <td>Northern Europe</td>\n",
       "      <td>Europe</td>\n",
       "      <td>3.325402</td>\n",
       "    </tr>\n",
       "    <tr>\n",
       "      <th>4660</th>\n",
       "      <td>melanie vincent</td>\n",
       "      <td>France</td>\n",
       "      <td>Western Europe</td>\n",
       "      <td>Europe</td>\n",
       "      <td>3.001219</td>\n",
       "    </tr>\n",
       "    <tr>\n",
       "      <th>1188</th>\n",
       "      <td>jean glenisson</td>\n",
       "      <td>France</td>\n",
       "      <td>Western Europe</td>\n",
       "      <td>Europe</td>\n",
       "      <td>3.444656</td>\n",
       "    </tr>\n",
       "    <tr>\n",
       "      <th>2054</th>\n",
       "      <td>jeffrey gould</td>\n",
       "      <td>United Kingdom of Great Britain and Northern I...</td>\n",
       "      <td>Northern Europe</td>\n",
       "      <td>Europe</td>\n",
       "      <td>2.369900</td>\n",
       "    </tr>\n",
       "    <tr>\n",
       "      <th>4859</th>\n",
       "      <td>talitha selby</td>\n",
       "      <td>United Kingdom of Great Britain and Northern I...</td>\n",
       "      <td>Northern Europe</td>\n",
       "      <td>Europe</td>\n",
       "      <td>2.110268</td>\n",
       "    </tr>\n",
       "    <tr>\n",
       "      <th>1674</th>\n",
       "      <td>iain carey</td>\n",
       "      <td>United Kingdom of Great Britain and Northern I...</td>\n",
       "      <td>Northern Europe</td>\n",
       "      <td>Europe</td>\n",
       "      <td>1.822330</td>\n",
       "    </tr>\n",
       "    <tr>\n",
       "      <th>5786</th>\n",
       "      <td>gil arvatz</td>\n",
       "      <td>Israel</td>\n",
       "      <td>Western Asia</td>\n",
       "      <td>Asia</td>\n",
       "      <td>3.586966</td>\n",
       "    </tr>\n",
       "    <tr>\n",
       "      <th>2825</th>\n",
       "      <td>monique prinssen</td>\n",
       "      <td>Netherlands</td>\n",
       "      <td>Western Europe</td>\n",
       "      <td>Europe</td>\n",
       "      <td>4.019084</td>\n",
       "    </tr>\n",
       "    <tr>\n",
       "      <th>164</th>\n",
       "      <td>henrik vosegaard</td>\n",
       "      <td>Denmark</td>\n",
       "      <td>Northern Europe</td>\n",
       "      <td>Europe</td>\n",
       "      <td>4.628559</td>\n",
       "    </tr>\n",
       "    <tr>\n",
       "      <th>2718</th>\n",
       "      <td>ann o'hare</td>\n",
       "      <td>Ireland</td>\n",
       "      <td>Northern Europe</td>\n",
       "      <td>Europe</td>\n",
       "      <td>3.552052</td>\n",
       "    </tr>\n",
       "    <tr>\n",
       "      <th>3360</th>\n",
       "      <td>gloria yeh</td>\n",
       "      <td>Taiwan</td>\n",
       "      <td>Eastern Asia</td>\n",
       "      <td>Asia</td>\n",
       "      <td>3.149055</td>\n",
       "    </tr>\n",
       "    <tr>\n",
       "      <th>348</th>\n",
       "      <td>maria conception carvalho</td>\n",
       "      <td>Portugal</td>\n",
       "      <td>Southern Europe</td>\n",
       "      <td>Europe</td>\n",
       "      <td>2.950097</td>\n",
       "    </tr>\n",
       "    <tr>\n",
       "      <th>5658</th>\n",
       "      <td>neeraj visen</td>\n",
       "      <td>India</td>\n",
       "      <td>Southern Asia</td>\n",
       "      <td>Asia</td>\n",
       "      <td>2.566202</td>\n",
       "    </tr>\n",
       "    <tr>\n",
       "      <th>6736</th>\n",
       "      <td>jaime campos</td>\n",
       "      <td>Spain</td>\n",
       "      <td>Southern Europe</td>\n",
       "      <td>Europe</td>\n",
       "      <td>3.763286</td>\n",
       "    </tr>\n",
       "    <tr>\n",
       "      <th>418</th>\n",
       "      <td>prashant nair</td>\n",
       "      <td>India</td>\n",
       "      <td>Southern Asia</td>\n",
       "      <td>Asia</td>\n",
       "      <td>2.766689</td>\n",
       "    </tr>\n",
       "    <tr>\n",
       "      <th>3428</th>\n",
       "      <td>weiqiong gu</td>\n",
       "      <td>China</td>\n",
       "      <td>Eastern Asia</td>\n",
       "      <td>Asia</td>\n",
       "      <td>4.135178</td>\n",
       "    </tr>\n",
       "    <tr>\n",
       "      <th>2974</th>\n",
       "      <td>lisette schoonhoven</td>\n",
       "      <td>Netherlands</td>\n",
       "      <td>Western Europe</td>\n",
       "      <td>Europe</td>\n",
       "      <td>4.277211</td>\n",
       "    </tr>\n",
       "    <tr>\n",
       "      <th>3332</th>\n",
       "      <td>hans woerle</td>\n",
       "      <td>Israel</td>\n",
       "      <td>Western Asia</td>\n",
       "      <td>Asia</td>\n",
       "      <td>3.073384</td>\n",
       "    </tr>\n",
       "    <tr>\n",
       "      <th>3492</th>\n",
       "      <td>weber lau</td>\n",
       "      <td>China</td>\n",
       "      <td>Eastern Asia</td>\n",
       "      <td>Asia</td>\n",
       "      <td>3.202515</td>\n",
       "    </tr>\n",
       "    <tr>\n",
       "      <th>5620</th>\n",
       "      <td>owen mccarty</td>\n",
       "      <td>Ireland</td>\n",
       "      <td>Northern Europe</td>\n",
       "      <td>Europe</td>\n",
       "      <td>3.634675</td>\n",
       "    </tr>\n",
       "    <tr>\n",
       "      <th>6823</th>\n",
       "      <td>stacy markison</td>\n",
       "      <td>Israel</td>\n",
       "      <td>Western Asia</td>\n",
       "      <td>Asia</td>\n",
       "      <td>3.471031</td>\n",
       "    </tr>\n",
       "    <tr>\n",
       "      <th>4090</th>\n",
       "      <td>arumugam sudalai</td>\n",
       "      <td>India</td>\n",
       "      <td>Southern Asia</td>\n",
       "      <td>Asia</td>\n",
       "      <td>2.772554</td>\n",
       "    </tr>\n",
       "    <tr>\n",
       "      <th>204</th>\n",
       "      <td>penny whiting</td>\n",
       "      <td>United Kingdom of Great Britain and Northern I...</td>\n",
       "      <td>Northern Europe</td>\n",
       "      <td>Europe</td>\n",
       "      <td>2.638163</td>\n",
       "    </tr>\n",
       "    <tr>\n",
       "      <th>3399</th>\n",
       "      <td>doyin oluwole</td>\n",
       "      <td>Nigeria</td>\n",
       "      <td>Western Africa</td>\n",
       "      <td>Africa</td>\n",
       "      <td>4.882550</td>\n",
       "    </tr>\n",
       "    <tr>\n",
       "      <th>6811</th>\n",
       "      <td>akira takada</td>\n",
       "      <td>Japan</td>\n",
       "      <td>Eastern Asia</td>\n",
       "      <td>Asia</td>\n",
       "      <td>4.225359</td>\n",
       "    </tr>\n",
       "    <tr>\n",
       "      <th>4415</th>\n",
       "      <td>maureen neal</td>\n",
       "      <td>United Kingdom of Great Britain and Northern I...</td>\n",
       "      <td>Northern Europe</td>\n",
       "      <td>Europe</td>\n",
       "      <td>1.667999</td>\n",
       "    </tr>\n",
       "    <tr>\n",
       "      <th>2043</th>\n",
       "      <td>john goldman</td>\n",
       "      <td>United Kingdom of Great Britain and Northern I...</td>\n",
       "      <td>Northern Europe</td>\n",
       "      <td>Europe</td>\n",
       "      <td>2.763547</td>\n",
       "    </tr>\n",
       "    <tr>\n",
       "      <th>1608</th>\n",
       "      <td>mike boggild</td>\n",
       "      <td>United Kingdom of Great Britain and Northern I...</td>\n",
       "      <td>Northern Europe</td>\n",
       "      <td>Europe</td>\n",
       "      <td>3.465809</td>\n",
       "    </tr>\n",
       "    <tr>\n",
       "      <th>561</th>\n",
       "      <td>michael crabb</td>\n",
       "      <td>Ireland</td>\n",
       "      <td>Northern Europe</td>\n",
       "      <td>Europe</td>\n",
       "      <td>4.031770</td>\n",
       "    </tr>\n",
       "    <tr>\n",
       "      <th>704</th>\n",
       "      <td>paul burkett</td>\n",
       "      <td>United Kingdom of Great Britain and Northern I...</td>\n",
       "      <td>Northern Europe</td>\n",
       "      <td>Europe</td>\n",
       "      <td>2.181321</td>\n",
       "    </tr>\n",
       "    <tr>\n",
       "      <th>2386</th>\n",
       "      <td>clifton lacy</td>\n",
       "      <td>United Kingdom of Great Britain and Northern I...</td>\n",
       "      <td>Northern Europe</td>\n",
       "      <td>Europe</td>\n",
       "      <td>1.293004</td>\n",
       "    </tr>\n",
       "    <tr>\n",
       "      <th>5551</th>\n",
       "      <td>darren hamilton</td>\n",
       "      <td>United Kingdom of Great Britain and Northern I...</td>\n",
       "      <td>Northern Europe</td>\n",
       "      <td>Europe</td>\n",
       "      <td>3.574684</td>\n",
       "    </tr>\n",
       "    <tr>\n",
       "      <th>2509</th>\n",
       "      <td>christine macarthur</td>\n",
       "      <td>United Kingdom of Great Britain and Northern I...</td>\n",
       "      <td>Northern Europe</td>\n",
       "      <td>Europe</td>\n",
       "      <td>3.112198</td>\n",
       "    </tr>\n",
       "    <tr>\n",
       "      <th>3362</th>\n",
       "      <td>kol jia yong</td>\n",
       "      <td>China</td>\n",
       "      <td>Eastern Asia</td>\n",
       "      <td>Asia</td>\n",
       "      <td>3.421418</td>\n",
       "    </tr>\n",
       "    <tr>\n",
       "      <th>4003</th>\n",
       "      <td>myeong ok kim</td>\n",
       "      <td>Korea, Republic of</td>\n",
       "      <td>Eastern Asia</td>\n",
       "      <td>Asia</td>\n",
       "      <td>7.200925</td>\n",
       "    </tr>\n",
       "    <tr>\n",
       "      <th>3444</th>\n",
       "      <td>karolin hijazi</td>\n",
       "      <td>Jordan</td>\n",
       "      <td>Western Asia</td>\n",
       "      <td>Asia</td>\n",
       "      <td>0.795691</td>\n",
       "    </tr>\n",
       "    <tr>\n",
       "      <th>2002</th>\n",
       "      <td>luigi gatta</td>\n",
       "      <td>Italy</td>\n",
       "      <td>Southern Europe</td>\n",
       "      <td>Europe</td>\n",
       "      <td>4.511159</td>\n",
       "    </tr>\n",
       "    <tr>\n",
       "      <th>6733</th>\n",
       "      <td>salem al-deyab</td>\n",
       "      <td>Libya</td>\n",
       "      <td>Northern Africa</td>\n",
       "      <td>Africa</td>\n",
       "      <td>2.596601</td>\n",
       "    </tr>\n",
       "    <tr>\n",
       "      <th>5249</th>\n",
       "      <td>norio komatsu</td>\n",
       "      <td>Japan</td>\n",
       "      <td>Eastern Asia</td>\n",
       "      <td>Asia</td>\n",
       "      <td>3.918427</td>\n",
       "    </tr>\n",
       "    <tr>\n",
       "      <th>3037</th>\n",
       "      <td>john sievenpiper</td>\n",
       "      <td>Ireland</td>\n",
       "      <td>Northern Europe</td>\n",
       "      <td>Europe</td>\n",
       "      <td>2.875361</td>\n",
       "    </tr>\n",
       "    <tr>\n",
       "      <th>6779</th>\n",
       "      <td>koki urita</td>\n",
       "      <td>India</td>\n",
       "      <td>Southern Asia</td>\n",
       "      <td>Asia</td>\n",
       "      <td>0.819504</td>\n",
       "    </tr>\n",
       "  </tbody>\n",
       "</table>\n",
       "</div>"
      ],
      "text/plain": [
       "                      full_name  \\\n",
       "2932             paul rutgeerts   \n",
       "5474             christopher ta   \n",
       "964                 ian morison   \n",
       "5373          alexander voityuk   \n",
       "449               robert burton   \n",
       "6606              mitsuru okuno   \n",
       "4455                dongmei qin   \n",
       "253         mario perez-jimenez   \n",
       "3568               alyne simoes   \n",
       "5384              andrew mackay   \n",
       "4660            melanie vincent   \n",
       "1188             jean glenisson   \n",
       "2054              jeffrey gould   \n",
       "4859              talitha selby   \n",
       "1674                 iain carey   \n",
       "5786                 gil arvatz   \n",
       "2825           monique prinssen   \n",
       "164            henrik vosegaard   \n",
       "2718                 ann o'hare   \n",
       "3360                 gloria yeh   \n",
       "348   maria conception carvalho   \n",
       "5658               neeraj visen   \n",
       "6736               jaime campos   \n",
       "418               prashant nair   \n",
       "3428                weiqiong gu   \n",
       "2974        lisette schoonhoven   \n",
       "3332                hans woerle   \n",
       "3492                  weber lau   \n",
       "5620               owen mccarty   \n",
       "6823             stacy markison   \n",
       "4090           arumugam sudalai   \n",
       "204               penny whiting   \n",
       "3399              doyin oluwole   \n",
       "6811               akira takada   \n",
       "4415               maureen neal   \n",
       "2043               john goldman   \n",
       "1608               mike boggild   \n",
       "561               michael crabb   \n",
       "704                paul burkett   \n",
       "2386               clifton lacy   \n",
       "5551            darren hamilton   \n",
       "2509        christine macarthur   \n",
       "3362               kol jia yong   \n",
       "4003              myeong ok kim   \n",
       "3444             karolin hijazi   \n",
       "2002                luigi gatta   \n",
       "6733             salem al-deyab   \n",
       "5249              norio komatsu   \n",
       "3037           john sievenpiper   \n",
       "6779                 koki urita   \n",
       "\n",
       "                                            countryName           subRegion  \\\n",
       "2932                                            Belgium      Western Europe   \n",
       "5474                                           Viet Nam  South-Eastern Asia   \n",
       "964   United Kingdom of Great Britain and Northern I...     Northern Europe   \n",
       "5373                                 Russian Federation      Eastern Europe   \n",
       "449                                             Ireland     Northern Europe   \n",
       "6606                                              Japan        Eastern Asia   \n",
       "4455                                              China        Eastern Asia   \n",
       "253                                               Spain     Southern Europe   \n",
       "3568                                             France      Western Europe   \n",
       "5384  United Kingdom of Great Britain and Northern I...     Northern Europe   \n",
       "4660                                             France      Western Europe   \n",
       "1188                                             France      Western Europe   \n",
       "2054  United Kingdom of Great Britain and Northern I...     Northern Europe   \n",
       "4859  United Kingdom of Great Britain and Northern I...     Northern Europe   \n",
       "1674  United Kingdom of Great Britain and Northern I...     Northern Europe   \n",
       "5786                                             Israel        Western Asia   \n",
       "2825                                        Netherlands      Western Europe   \n",
       "164                                             Denmark     Northern Europe   \n",
       "2718                                            Ireland     Northern Europe   \n",
       "3360                                             Taiwan        Eastern Asia   \n",
       "348                                            Portugal     Southern Europe   \n",
       "5658                                              India       Southern Asia   \n",
       "6736                                              Spain     Southern Europe   \n",
       "418                                               India       Southern Asia   \n",
       "3428                                              China        Eastern Asia   \n",
       "2974                                        Netherlands      Western Europe   \n",
       "3332                                             Israel        Western Asia   \n",
       "3492                                              China        Eastern Asia   \n",
       "5620                                            Ireland     Northern Europe   \n",
       "6823                                             Israel        Western Asia   \n",
       "4090                                              India       Southern Asia   \n",
       "204   United Kingdom of Great Britain and Northern I...     Northern Europe   \n",
       "3399                                            Nigeria      Western Africa   \n",
       "6811                                              Japan        Eastern Asia   \n",
       "4415  United Kingdom of Great Britain and Northern I...     Northern Europe   \n",
       "2043  United Kingdom of Great Britain and Northern I...     Northern Europe   \n",
       "1608  United Kingdom of Great Britain and Northern I...     Northern Europe   \n",
       "561                                             Ireland     Northern Europe   \n",
       "704   United Kingdom of Great Britain and Northern I...     Northern Europe   \n",
       "2386  United Kingdom of Great Britain and Northern I...     Northern Europe   \n",
       "5551  United Kingdom of Great Britain and Northern I...     Northern Europe   \n",
       "2509  United Kingdom of Great Britain and Northern I...     Northern Europe   \n",
       "3362                                              China        Eastern Asia   \n",
       "4003                                 Korea, Republic of        Eastern Asia   \n",
       "3444                                             Jordan        Western Asia   \n",
       "2002                                              Italy     Southern Europe   \n",
       "6733                                              Libya     Northern Africa   \n",
       "5249                                              Japan        Eastern Asia   \n",
       "3037                                            Ireland     Northern Europe   \n",
       "6779                                              India       Southern Asia   \n",
       "\n",
       "     topRegion  score_origin  \n",
       "2932    Europe      3.854667  \n",
       "5474      Asia      1.636782  \n",
       "964     Europe      2.132824  \n",
       "5373    Europe      3.562407  \n",
       "449     Europe      3.201207  \n",
       "6606      Asia      3.753080  \n",
       "4455      Asia      4.575318  \n",
       "253     Europe      2.642884  \n",
       "3568    Europe      0.826543  \n",
       "5384    Europe      3.325402  \n",
       "4660    Europe      3.001219  \n",
       "1188    Europe      3.444656  \n",
       "2054    Europe      2.369900  \n",
       "4859    Europe      2.110268  \n",
       "1674    Europe      1.822330  \n",
       "5786      Asia      3.586966  \n",
       "2825    Europe      4.019084  \n",
       "164     Europe      4.628559  \n",
       "2718    Europe      3.552052  \n",
       "3360      Asia      3.149055  \n",
       "348     Europe      2.950097  \n",
       "5658      Asia      2.566202  \n",
       "6736    Europe      3.763286  \n",
       "418       Asia      2.766689  \n",
       "3428      Asia      4.135178  \n",
       "2974    Europe      4.277211  \n",
       "3332      Asia      3.073384  \n",
       "3492      Asia      3.202515  \n",
       "5620    Europe      3.634675  \n",
       "6823      Asia      3.471031  \n",
       "4090      Asia      2.772554  \n",
       "204     Europe      2.638163  \n",
       "3399    Africa      4.882550  \n",
       "6811      Asia      4.225359  \n",
       "4415    Europe      1.667999  \n",
       "2043    Europe      2.763547  \n",
       "1608    Europe      3.465809  \n",
       "561     Europe      4.031770  \n",
       "704     Europe      2.181321  \n",
       "2386    Europe      1.293004  \n",
       "5551    Europe      3.574684  \n",
       "2509    Europe      3.112198  \n",
       "3362      Asia      3.421418  \n",
       "4003      Asia      7.200925  \n",
       "3444      Asia      0.795691  \n",
       "2002    Europe      4.511159  \n",
       "6733    Africa      2.596601  \n",
       "5249      Asia      3.918427  \n",
       "3037    Europe      2.875361  \n",
       "6779      Asia      0.819504  "
      ]
     },
     "execution_count": 302,
     "metadata": {},
     "output_type": "execute_result"
    }
   ],
   "source": [
    "sample[['full_name', 'countryName', 'subRegion', 'topRegion', 'score_origin']]"
   ]
  },
  {
   "cell_type": "markdown",
   "metadata": {},
   "source": [
    "The predicted origin seem fine for this data sample (at least in terms of subRegion and topRegion)."
   ]
  },
  {
   "cell_type": "markdown",
   "metadata": {},
   "source": [
    "## Evaluate errors w.r.t. origin"
   ]
  },
  {
   "cell_type": "code",
   "execution_count": 303,
   "metadata": {},
   "outputs": [],
   "source": [
    "from evaluators import *\n",
    "from evaluator import *\n",
    "from config import DIR_PATH\n",
    "\n",
    "\n",
    "REGISTERED_EVALUATORS = [GenderAPIEvaluator, GenderAPIFullEvaluator, \\\n",
    "    NameAPIEvaluator, NameAPIFullEvaluator, GenderGuesserEvaluator, \\\n",
    "    GenderizeIoEvaluator, NamSorEvaluator]"
   ]
  },
  {
   "cell_type": "code",
   "execution_count": 285,
   "metadata": {},
   "outputs": [],
   "source": [
    "# method for computing all errors for a specific eror matrix\n",
    "def compute_all_errors(e, cm):\n",
    "    error_with_unknown = e.compute_error_with_unknown(cm)\n",
    "    error_without_unknown = e.compute_error_without_unknown(cm)\n",
    "    error_unknown = e.compute_error_unknown(cm)\n",
    "    error_gender_bias = e.compute_error_gender_bias(cm)\n",
    "    weighted_error = e.compute_weighted_error(cm)\n",
    "    return [error_with_unknown, error_without_unknown, error_gender_bias, error_unknown, weighted_error]"
   ]
  },
  {
   "cell_type": "code",
   "execution_count": 280,
   "metadata": {},
   "outputs": [
    {
     "name": "stderr",
     "output_type": "stream",
     "text": [
      "/opt/projects/meins/ICSU_GenderGap_Project/name_gender_inference/name_gender_inference/evaluator.py:272: RuntimeWarning: invalid value encountered in long_scalars\n",
      "  error_with_unknown = (true_f_and_m - true_pred_f_and_m) / true_f_and_m\n",
      "/opt/projects/meins/ICSU_GenderGap_Project/name_gender_inference/name_gender_inference/evaluator.py:261: RuntimeWarning: invalid value encountered in long_scalars\n",
      "  conf_matrix.loc['f', 'f_pred'] + conf_matrix.loc['m', 'm_pred'])\n",
      "/opt/projects/meins/ICSU_GenderGap_Project/name_gender_inference/name_gender_inference/evaluator.py:281: RuntimeWarning: invalid value encountered in long_scalars\n",
      "  error_unknown = (conf_matrix.loc['f', 'u_pred'] + conf_matrix.loc['m', 'u_pred']) / true_f_and_m\n",
      "/opt/projects/meins/ICSU_GenderGap_Project/name_gender_inference/name_gender_inference/evaluator.py:291: RuntimeWarning: invalid value encountered in long_scalars\n",
      "  conf_matrix.loc['m', 'f_pred'] + conf_matrix.loc['m', 'm_pred'])\n",
      "/opt/projects/meins/ICSU_GenderGap_Project/name_gender_inference/name_gender_inference/evaluator.py:304: RuntimeWarning: invalid value encountered in double_scalars\n",
      "  return numer / denom\n"
     ]
    }
   ],
   "source": [
    "error_by_country_and_service = {}\n",
    "error_names = ['errorCoded', 'errorCodedWithoutNA', 'errorGenderBias', 'naCoded', 'WeightedError']\n",
    "\n",
    "for s in REGISTERED_EVALUATORS: \n",
    "    region_to_errors = {}\n",
    "    evaluator = s('all')\n",
    "    eval_name = evaluator.gender_evaluator\n",
    "    evaluator.load_data(evaluated=True)\n",
    "    evaluator._translate_api_response()\n",
    "    evaluator.test_data['topRegion'] = df['topRegion']\n",
    "    evaluator.test_data['score_origin'] = df['score_origin']\n",
    "    evaluator.test_data = evaluator.test_data[evaluator.test_data['score_origin']>0]\n",
    "    errors = evaluator.compute_all_errors()\n",
    "    for item in origin_df['topRegion'].unique():\n",
    "        conf_matrix = evaluator.compute_confusion_matrix(evaluator.test_data[evaluator.test_data.topRegion==item])\n",
    "        errors = compute_all_errors(evaluator, conf_matrix)\n",
    "        region_to_errors[item] = errors\n",
    "        d = pd.DataFrame.from_dict(region_to_errors, orient='index')\n",
    "        d.columns = error_names\n",
    "        d.dropna(inplace=True)\n",
    "    service_to_all_errors[eval_name] = d.transpose()\n",
    "    \n",
    "error_by_country = {}\n",
    "for e_type in error_names:\n",
    "    results = []\n",
    "    for service, error_df in service_to_all_errors.items():\n",
    "        d = pd.DataFrame(error_df.loc[e_type])\n",
    "        d.columns = [service]\n",
    "        d = d.transpose()\n",
    "        results.append(d)\n",
    "\n",
    "    error_by_country[e_type] = pd.concat(results)\n"
   ]
  },
  {
   "cell_type": "code",
   "execution_count": 228,
   "metadata": {},
   "outputs": [
    {
     "data": {
      "text/html": [
       "<div>\n",
       "<style scoped>\n",
       "    .dataframe tbody tr th:only-of-type {\n",
       "        vertical-align: middle;\n",
       "    }\n",
       "\n",
       "    .dataframe tbody tr th {\n",
       "        vertical-align: top;\n",
       "    }\n",
       "\n",
       "    .dataframe thead th {\n",
       "        text-align: right;\n",
       "    }\n",
       "</style>\n",
       "<table border=\"1\" class=\"dataframe\">\n",
       "  <thead>\n",
       "    <tr style=\"text-align: right;\">\n",
       "      <th></th>\n",
       "      <th>errorCoded</th>\n",
       "      <th>errorCodedWithoutNA</th>\n",
       "      <th>errorGenderBias</th>\n",
       "      <th>naCoded</th>\n",
       "      <th>WeightedError</th>\n",
       "    </tr>\n",
       "  </thead>\n",
       "  <tbody>\n",
       "    <tr>\n",
       "      <th>Europe</th>\n",
       "      <td>0.126101</td>\n",
       "      <td>0.024285</td>\n",
       "      <td>0.005841</td>\n",
       "      <td>0.104350</td>\n",
       "      <td>0.046503</td>\n",
       "    </tr>\n",
       "    <tr>\n",
       "      <th>Africa</th>\n",
       "      <td>0.250896</td>\n",
       "      <td>0.045662</td>\n",
       "      <td>0.027397</td>\n",
       "      <td>0.215054</td>\n",
       "      <td>0.095238</td>\n",
       "    </tr>\n",
       "    <tr>\n",
       "      <th>Asia</th>\n",
       "      <td>0.434475</td>\n",
       "      <td>0.088487</td>\n",
       "      <td>0.010466</td>\n",
       "      <td>0.379575</td>\n",
       "      <td>0.187860</td>\n",
       "    </tr>\n",
       "  </tbody>\n",
       "</table>\n",
       "</div>"
      ],
      "text/plain": [
       "        errorCoded  errorCodedWithoutNA  errorGenderBias   naCoded  \\\n",
       "Europe    0.126101             0.024285         0.005841  0.104350   \n",
       "Africa    0.250896             0.045662         0.027397  0.215054   \n",
       "Asia      0.434475             0.088487         0.010466  0.379575   \n",
       "\n",
       "        WeightedError  \n",
       "Europe       0.046503  \n",
       "Africa       0.095238  \n",
       "Asia         0.187860  "
      ]
     },
     "execution_count": 228,
     "metadata": {},
     "output_type": "execute_result"
    }
   ],
   "source": [
    "service_to_all_errors['name_api']"
   ]
  },
  {
   "cell_type": "code",
   "execution_count": 282,
   "metadata": {},
   "outputs": [
    {
     "data": {
      "text/html": [
       "<div>\n",
       "<style scoped>\n",
       "    .dataframe tbody tr th:only-of-type {\n",
       "        vertical-align: middle;\n",
       "    }\n",
       "\n",
       "    .dataframe tbody tr th {\n",
       "        vertical-align: top;\n",
       "    }\n",
       "\n",
       "    .dataframe thead th {\n",
       "        text-align: right;\n",
       "    }\n",
       "</style>\n",
       "<table border=\"1\" class=\"dataframe\">\n",
       "  <thead>\n",
       "    <tr style=\"text-align: right;\">\n",
       "      <th></th>\n",
       "      <th>Europe</th>\n",
       "      <th>Africa</th>\n",
       "      <th>Asia</th>\n",
       "    </tr>\n",
       "  </thead>\n",
       "  <tbody>\n",
       "    <tr>\n",
       "      <th>name_api</th>\n",
       "      <td>0.046503</td>\n",
       "      <td>0.095238</td>\n",
       "      <td>0.187860</td>\n",
       "    </tr>\n",
       "    <tr>\n",
       "      <th>genderize_io</th>\n",
       "      <td>0.027746</td>\n",
       "      <td>0.063670</td>\n",
       "      <td>0.171761</td>\n",
       "    </tr>\n",
       "    <tr>\n",
       "      <th>gender_api_full</th>\n",
       "      <td>0.065191</td>\n",
       "      <td>0.104116</td>\n",
       "      <td>0.157860</td>\n",
       "    </tr>\n",
       "    <tr>\n",
       "      <th>namsor</th>\n",
       "      <td>0.022305</td>\n",
       "      <td>0.048140</td>\n",
       "      <td>0.156260</td>\n",
       "    </tr>\n",
       "    <tr>\n",
       "      <th>gender_api</th>\n",
       "      <td>0.022702</td>\n",
       "      <td>0.048306</td>\n",
       "      <td>0.125532</td>\n",
       "    </tr>\n",
       "    <tr>\n",
       "      <th>gender_guesser</th>\n",
       "      <td>0.027392</td>\n",
       "      <td>0.086580</td>\n",
       "      <td>0.211946</td>\n",
       "    </tr>\n",
       "    <tr>\n",
       "      <th>name_api_full</th>\n",
       "      <td>0.027778</td>\n",
       "      <td>0.064720</td>\n",
       "      <td>0.166667</td>\n",
       "    </tr>\n",
       "  </tbody>\n",
       "</table>\n",
       "</div>"
      ],
      "text/plain": [
       "                   Europe    Africa      Asia\n",
       "name_api         0.046503  0.095238  0.187860\n",
       "genderize_io     0.027746  0.063670  0.171761\n",
       "gender_api_full  0.065191  0.104116  0.157860\n",
       "namsor           0.022305  0.048140  0.156260\n",
       "gender_api       0.022702  0.048306  0.125532\n",
       "gender_guesser   0.027392  0.086580  0.211946\n",
       "name_api_full    0.027778  0.064720  0.166667"
      ]
     },
     "execution_count": 282,
     "metadata": {},
     "output_type": "execute_result"
    }
   ],
   "source": [
    "error_by_country['WeightedError']"
   ]
  },
  {
   "cell_type": "code",
   "execution_count": null,
   "metadata": {},
   "outputs": [],
   "source": []
  }
 ],
 "metadata": {
  "kernelspec": {
   "display_name": "Python 3",
   "language": "python",
   "name": "python3"
  },
  "language_info": {
   "codemirror_mode": {
    "name": "ipython",
    "version": 3
   },
   "file_extension": ".py",
   "mimetype": "text/x-python",
   "name": "python",
   "nbconvert_exporter": "python",
   "pygments_lexer": "ipython3",
   "version": "3.5.1"
  }
 },
 "nbformat": 4,
 "nbformat_minor": 2
}
