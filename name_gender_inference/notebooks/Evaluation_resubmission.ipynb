{
 "cells": [
  {
   "cell_type": "markdown",
   "metadata": {},
   "source": [
    "# Evaluation - resubmission\n",
    "\n",
    "We re-do the Tables for the resubmission"
   ]
  },
  {
   "cell_type": "code",
   "execution_count": 1,
   "metadata": {
    "collapsed": true
   },
   "outputs": [],
   "source": [
    "import sys\n",
    "sys.path.append('../')"
   ]
  },
  {
   "cell_type": "code",
   "execution_count": 2,
   "metadata": {
    "collapsed": false
   },
   "outputs": [
    {
     "name": "stdout",
     "output_type": "stream",
     "text": [
      "Populating the interactive namespace from numpy and matplotlib\n"
     ]
    },
    {
     "name": "stderr",
     "output_type": "stream",
     "text": [
      "/Users/lucsan/anaconda/lib/python3.6/site-packages/IPython/core/magics/pylab.py:161: UserWarning: pylab import has clobbered these variables: ['shuffle']\n",
      "`%matplotlib` prevents importing * from pylab and numpy\n",
      "  \"\\n`%matplotlib` prevents importing * from pylab and numpy\"\n"
     ]
    }
   ],
   "source": [
    "import pandas as pd\n",
    "import xlsxwriter\n",
    "from collections import OrderedDict, Counter\n",
    "\n",
    "import matplotlib.pyplot as plt\n",
    "plt.style.use('ggplot')\n",
    "\n",
    "import seaborn as sns\n",
    "sns.set(color_codes=True)\n",
    "\n",
    "from evaluators import *\n",
    "from evaluator import *\n",
    "from config import DIR_PATH\n",
    "\n",
    "%matplotlib inline\n",
    "%pylab inline\n",
    "\n",
    "REGISTERED_EVALUATORS = [GenderAPIEvaluator, GenderAPIFullEvaluator, \\\n",
    "    NameAPIEvaluator, NameAPIFullEvaluator, GenderGuesserEvaluator, \\\n",
    "    GenderizeIoEvaluator, NamSorEvaluator]"
   ]
  },
  {
   "cell_type": "code",
   "execution_count": 3,
   "metadata": {
    "collapsed": true
   },
   "outputs": [],
   "source": [
    "# Color codes for tables\n",
    "light_green = '#e5ffe5'\n",
    "dark_green = '#2e992e'"
   ]
  },
  {
   "cell_type": "code",
   "execution_count": 4,
   "metadata": {
    "collapsed": true
   },
   "outputs": [],
   "source": [
    "gender_evalautor_to_service_name = {'gender_api': 'Gender API', 'gender_guesser': 'gender-guesser', \n",
    "                                    'genderize_io': 'genderize.io', 'name_api_full': 'NameAPI', 'namsor': 'NamSor'}\n",
    "def reduce_table(df, by_index):\n",
    "    \"\"\"Filter rows or columns of a benchmark table and rename.\"\"\"\n",
    "    df = df.sort_index()\n",
    "    if by_index:\n",
    "        df = df.loc[gender_evalautor_to_service_name.keys()]\n",
    "        df = df.rename(index=gender_evalautor_to_service_name)\n",
    "    else:\n",
    "        df = df[list(gender_evalautor_to_service_name.keys())]\n",
    "        df.columns = gender_evalautor_to_service_name.values()\n",
    "        sorted_cols = sorted(df.columns)\n",
    "        df = df[sorted_cols]\n",
    "    return df"
   ]
  },
  {
   "cell_type": "markdown",
   "metadata": {},
   "source": [
    "## Compute errors without tuning"
   ]
  },
  {
   "cell_type": "code",
   "execution_count": 5,
   "metadata": {
    "collapsed": true
   },
   "outputs": [],
   "source": [
    "def compute_all_errors_without_tuning():\n",
    "    service_to_all_errors = {}\n",
    "    error_names = ['errorCoded', 'errorCodedWithoutNA', 'errorGenderBias', 'naCoded', 'WeightedError']\n",
    "    \n",
    "    for s in REGISTERED_EVALUATORS:  \n",
    "        evaluator = s('all')\n",
    "        eval_name = evaluator.gender_evaluator\n",
    "        evaluator.load_data(evaluated=True)\n",
    "        evaluator._translate_api_response()\n",
    "        evaluator.compute_confusion_matrix(evaluator.test_data)\n",
    "        errors = evaluator.compute_all_errors()\n",
    "        service_to_all_errors[eval_name] = errors\n",
    "    all_errors = pd.DataFrame.from_dict(service_to_all_errors, orient='index')\n",
    "    all_errors.columns = error_names\n",
    "    return all_errors"
   ]
  },
  {
   "cell_type": "code",
   "execution_count": 13,
   "metadata": {
    "collapsed": false
   },
   "outputs": [
    {
     "data": {
      "text/html": [
       "<style  type=\"text/css\" >\n",
       "    #T_d8b6bab0_58e5_11e8_959b_c4b301c08cabrow0_col0 {\n",
       "            background-color:  #e5ffe5;\n",
       "        }    #T_d8b6bab0_58e5_11e8_959b_c4b301c08cabrow0_col1 {\n",
       "            background-color:  #008000;\n",
       "        }    #T_d8b6bab0_58e5_11e8_959b_c4b301c08cabrow0_col2 {\n",
       "            background-color:  #e5ffe5;\n",
       "        }    #T_d8b6bab0_58e5_11e8_959b_c4b301c08cabrow0_col3 {\n",
       "            background-color:  #e5ffe5;\n",
       "        }    #T_d8b6bab0_58e5_11e8_959b_c4b301c08cabrow0_col4 {\n",
       "            background-color:  #e5ffe5;\n",
       "        }    #T_d8b6bab0_58e5_11e8_959b_c4b301c08cabrow1_col0 {\n",
       "            background-color:  #008000;\n",
       "        }    #T_d8b6bab0_58e5_11e8_959b_c4b301c08cabrow1_col1 {\n",
       "            background-color:  #e5ffe5;\n",
       "        }    #T_d8b6bab0_58e5_11e8_959b_c4b301c08cabrow1_col2 {\n",
       "            background-color:  #8bcd8b;\n",
       "        }    #T_d8b6bab0_58e5_11e8_959b_c4b301c08cabrow1_col3 {\n",
       "            background-color:  #008000;\n",
       "        }    #T_d8b6bab0_58e5_11e8_959b_c4b301c08cabrow1_col4 {\n",
       "            background-color:  #008000;\n",
       "        }    #T_d8b6bab0_58e5_11e8_959b_c4b301c08cabrow2_col0 {\n",
       "            background-color:  #7fc67f;\n",
       "        }    #T_d8b6bab0_58e5_11e8_959b_c4b301c08cabrow2_col1 {\n",
       "            background-color:  #008000;\n",
       "        }    #T_d8b6bab0_58e5_11e8_959b_c4b301c08cabrow2_col2 {\n",
       "            background-color:  #008000;\n",
       "        }    #T_d8b6bab0_58e5_11e8_959b_c4b301c08cabrow2_col3 {\n",
       "            background-color:  #8bcd8b;\n",
       "        }    #T_d8b6bab0_58e5_11e8_959b_c4b301c08cabrow2_col4 {\n",
       "            background-color:  #289628;\n",
       "        }    #T_d8b6bab0_58e5_11e8_959b_c4b301c08cabrow3_col0 {\n",
       "            background-color:  #44a644;\n",
       "        }    #T_d8b6bab0_58e5_11e8_959b_c4b301c08cabrow3_col1 {\n",
       "            background-color:  #99d599;\n",
       "        }    #T_d8b6bab0_58e5_11e8_959b_c4b301c08cabrow3_col2 {\n",
       "            background-color:  #7dc57d;\n",
       "        }    #T_d8b6bab0_58e5_11e8_959b_c4b301c08cabrow3_col3 {\n",
       "            background-color:  #44a644;\n",
       "        }    #T_d8b6bab0_58e5_11e8_959b_c4b301c08cabrow3_col4 {\n",
       "            background-color:  #51ad51;\n",
       "        }    #T_d8b6bab0_58e5_11e8_959b_c4b301c08cabrow4_col0 {\n",
       "            background-color:  #97d497;\n",
       "        }    #T_d8b6bab0_58e5_11e8_959b_c4b301c08cabrow4_col1 {\n",
       "            background-color:  #43a543;\n",
       "        }    #T_d8b6bab0_58e5_11e8_959b_c4b301c08cabrow4_col2 {\n",
       "            background-color:  #68ba68;\n",
       "        }    #T_d8b6bab0_58e5_11e8_959b_c4b301c08cabrow4_col3 {\n",
       "            background-color:  #96d396;\n",
       "        }    #T_d8b6bab0_58e5_11e8_959b_c4b301c08cabrow4_col4 {\n",
       "            background-color:  #a2daa2;\n",
       "        }</style>  \n",
       "<table id=\"T_d8b6bab0_58e5_11e8_959b_c4b301c08cab\" > \n",
       "<thead>    <tr> \n",
       "        <th class=\"blank level0\" ></th> \n",
       "        <th class=\"col_heading level0 col0\" >errorCoded</th> \n",
       "        <th class=\"col_heading level0 col1\" >errorCodedWithoutNA</th> \n",
       "        <th class=\"col_heading level0 col2\" >errorGenderBias</th> \n",
       "        <th class=\"col_heading level0 col3\" >naCoded</th> \n",
       "        <th class=\"col_heading level0 col4\" >WeightedError</th> \n",
       "    </tr></thead> \n",
       "<tbody>    <tr> \n",
       "        <th id=\"T_d8b6bab0_58e5_11e8_959b_c4b301c08cablevel0_row0\" class=\"row_heading level0 row0\" >Gender API</th> \n",
       "        <td id=\"T_d8b6bab0_58e5_11e8_959b_c4b301c08cabrow0_col0\" class=\"data row0 col0\" >0.079</td> \n",
       "        <td id=\"T_d8b6bab0_58e5_11e8_959b_c4b301c08cabrow0_col1\" class=\"data row0 col1\" >0.05</td> \n",
       "        <td id=\"T_d8b6bab0_58e5_11e8_959b_c4b301c08cabrow0_col2\" class=\"data row0 col2\" >-0.011</td> \n",
       "        <td id=\"T_d8b6bab0_58e5_11e8_959b_c4b301c08cabrow0_col3\" class=\"data row0 col3\" >0.03</td> \n",
       "        <td id=\"T_d8b6bab0_58e5_11e8_959b_c4b301c08cabrow0_col4\" class=\"data row0 col4\" >0.056</td> \n",
       "    </tr>    <tr> \n",
       "        <th id=\"T_d8b6bab0_58e5_11e8_959b_c4b301c08cablevel0_row1\" class=\"row_heading level0 row1\" >gender-guesser</th> \n",
       "        <td id=\"T_d8b6bab0_58e5_11e8_959b_c4b301c08cabrow1_col0\" class=\"data row1 col0\" >0.222</td> \n",
       "        <td id=\"T_d8b6bab0_58e5_11e8_959b_c4b301c08cabrow1_col1\" class=\"data row1 col1\" >0.026</td> \n",
       "        <td id=\"T_d8b6bab0_58e5_11e8_959b_c4b301c08cabrow1_col2\" class=\"data row1 col2\" >0.002</td> \n",
       "        <td id=\"T_d8b6bab0_58e5_11e8_959b_c4b301c08cabrow1_col3\" class=\"data row1 col3\" >0.201</td> \n",
       "        <td id=\"T_d8b6bab0_58e5_11e8_959b_c4b301c08cabrow1_col4\" class=\"data row1 col4\" >0.073</td> \n",
       "    </tr>    <tr> \n",
       "        <th id=\"T_d8b6bab0_58e5_11e8_959b_c4b301c08cablevel0_row2\" class=\"row_heading level0 row2\" >genderize.io</th> \n",
       "        <td id=\"T_d8b6bab0_58e5_11e8_959b_c4b301c08cabrow2_col0\" class=\"data row2 col0\" >0.143</td> \n",
       "        <td id=\"T_d8b6bab0_58e5_11e8_959b_c4b301c08cabrow2_col1\" class=\"data row2 col1\" >0.05</td> \n",
       "        <td id=\"T_d8b6bab0_58e5_11e8_959b_c4b301c08cabrow2_col2\" class=\"data row2 col2\" >0.022</td> \n",
       "        <td id=\"T_d8b6bab0_58e5_11e8_959b_c4b301c08cabrow2_col3\" class=\"data row2 col3\" >0.097</td> \n",
       "        <td id=\"T_d8b6bab0_58e5_11e8_959b_c4b301c08cabrow2_col4\" class=\"data row2 col4\" >0.07</td> \n",
       "    </tr>    <tr> \n",
       "        <th id=\"T_d8b6bab0_58e5_11e8_959b_c4b301c08cablevel0_row3\" class=\"row_heading level0 row3\" >NameAPI</th> \n",
       "        <td id=\"T_d8b6bab0_58e5_11e8_959b_c4b301c08cabrow3_col0\" class=\"data row3 col0\" >0.179</td> \n",
       "        <td id=\"T_d8b6bab0_58e5_11e8_959b_c4b301c08cabrow3_col1\" class=\"data row3 col1\" >0.034</td> \n",
       "        <td id=\"T_d8b6bab0_58e5_11e8_959b_c4b301c08cabrow3_col2\" class=\"data row3 col2\" >0.004</td> \n",
       "        <td id=\"T_d8b6bab0_58e5_11e8_959b_c4b301c08cabrow3_col3\" class=\"data row3 col3\" >0.15</td> \n",
       "        <td id=\"T_d8b6bab0_58e5_11e8_959b_c4b301c08cabrow3_col4\" class=\"data row3 col4\" >0.067</td> \n",
       "    </tr>    <tr> \n",
       "        <th id=\"T_d8b6bab0_58e5_11e8_959b_c4b301c08cablevel0_row4\" class=\"row_heading level0 row4\" >NamSor</th> \n",
       "        <td id=\"T_d8b6bab0_58e5_11e8_959b_c4b301c08cabrow4_col0\" class=\"data row4 col0\" >0.128</td> \n",
       "        <td id=\"T_d8b6bab0_58e5_11e8_959b_c4b301c08cabrow4_col1\" class=\"data row4 col1\" >0.043</td> \n",
       "        <td id=\"T_d8b6bab0_58e5_11e8_959b_c4b301c08cabrow4_col2\" class=\"data row4 col2\" >0.007</td> \n",
       "        <td id=\"T_d8b6bab0_58e5_11e8_959b_c4b301c08cabrow4_col3\" class=\"data row4 col3\" >0.089</td> \n",
       "        <td id=\"T_d8b6bab0_58e5_11e8_959b_c4b301c08cabrow4_col4\" class=\"data row4 col4\" >0.061</td> \n",
       "    </tr></tbody> \n",
       "</table> "
      ],
      "text/plain": [
       "<pandas.io.formats.style.Styler at 0x114b9d828>"
      ]
     },
     "execution_count": 13,
     "metadata": {},
     "output_type": "execute_result"
    }
   ],
   "source": [
    "cm = sns.light_palette(\"green\", as_cmap=True)\n",
    "df = compute_all_errors_without_tuning()\n",
    "df = reduce_table(df, by_index=True)\n",
    "df = df.round(3)\n",
    "\n",
    "df.style.background_gradient(cmap=cm)"
   ]
  },
  {
   "cell_type": "code",
   "execution_count": 14,
   "metadata": {
    "collapsed": false
   },
   "outputs": [
    {
     "data": {
      "text/html": [
       "<style  type=\"text/css\" >\n",
       "    #T_df412bae_58e5_11e8_b63d_c4b301c08cabrow0_col0 {\n",
       "            background-color:  #e5ffe5;\n",
       "        }    #T_df412bae_58e5_11e8_b63d_c4b301c08cabrow0_col1 {\n",
       "            background-color:  #008000;\n",
       "        }    #T_df412bae_58e5_11e8_b63d_c4b301c08cabrow0_col2 {\n",
       "            background-color:  #7ec67e;\n",
       "        }    #T_df412bae_58e5_11e8_b63d_c4b301c08cabrow0_col3 {\n",
       "            background-color:  #e5ffe5;\n",
       "        }    #T_df412bae_58e5_11e8_b63d_c4b301c08cabrow0_col4 {\n",
       "            background-color:  #e5ffe5;\n",
       "        }    #T_df412bae_58e5_11e8_b63d_c4b301c08cabrow1_col0 {\n",
       "            background-color:  #008000;\n",
       "        }    #T_df412bae_58e5_11e8_b63d_c4b301c08cabrow1_col1 {\n",
       "            background-color:  #e5ffe5;\n",
       "        }    #T_df412bae_58e5_11e8_b63d_c4b301c08cabrow1_col2 {\n",
       "            background-color:  #e5ffe5;\n",
       "        }    #T_df412bae_58e5_11e8_b63d_c4b301c08cabrow1_col3 {\n",
       "            background-color:  #008000;\n",
       "        }    #T_df412bae_58e5_11e8_b63d_c4b301c08cabrow1_col4 {\n",
       "            background-color:  #008000;\n",
       "        }    #T_df412bae_58e5_11e8_b63d_c4b301c08cabrow2_col0 {\n",
       "            background-color:  #7fc67f;\n",
       "        }    #T_df412bae_58e5_11e8_b63d_c4b301c08cabrow2_col1 {\n",
       "            background-color:  #008000;\n",
       "        }    #T_df412bae_58e5_11e8_b63d_c4b301c08cabrow2_col2 {\n",
       "            background-color:  #008000;\n",
       "        }    #T_df412bae_58e5_11e8_b63d_c4b301c08cabrow2_col3 {\n",
       "            background-color:  #8bcd8b;\n",
       "        }    #T_df412bae_58e5_11e8_b63d_c4b301c08cabrow2_col4 {\n",
       "            background-color:  #289628;\n",
       "        }    #T_df412bae_58e5_11e8_b63d_c4b301c08cabrow3_col0 {\n",
       "            background-color:  #44a644;\n",
       "        }    #T_df412bae_58e5_11e8_b63d_c4b301c08cabrow3_col1 {\n",
       "            background-color:  #99d599;\n",
       "        }    #T_df412bae_58e5_11e8_b63d_c4b301c08cabrow3_col2 {\n",
       "            background-color:  #cff3cf;\n",
       "        }    #T_df412bae_58e5_11e8_b63d_c4b301c08cabrow3_col3 {\n",
       "            background-color:  #44a644;\n",
       "        }    #T_df412bae_58e5_11e8_b63d_c4b301c08cabrow3_col4 {\n",
       "            background-color:  #51ad51;\n",
       "        }    #T_df412bae_58e5_11e8_b63d_c4b301c08cabrow4_col0 {\n",
       "            background-color:  #97d497;\n",
       "        }    #T_df412bae_58e5_11e8_b63d_c4b301c08cabrow4_col1 {\n",
       "            background-color:  #43a543;\n",
       "        }    #T_df412bae_58e5_11e8_b63d_c4b301c08cabrow4_col2 {\n",
       "            background-color:  #acdfac;\n",
       "        }    #T_df412bae_58e5_11e8_b63d_c4b301c08cabrow4_col3 {\n",
       "            background-color:  #96d396;\n",
       "        }    #T_df412bae_58e5_11e8_b63d_c4b301c08cabrow4_col4 {\n",
       "            background-color:  #a2daa2;\n",
       "        }</style>  \n",
       "<table id=\"T_df412bae_58e5_11e8_b63d_c4b301c08cab\" > \n",
       "<thead>    <tr> \n",
       "        <th class=\"blank level0\" ></th> \n",
       "        <th class=\"col_heading level0 col0\" >errorCoded</th> \n",
       "        <th class=\"col_heading level0 col1\" >errorCodedWithoutNA</th> \n",
       "        <th class=\"col_heading level0 col2\" >errorGenderBias</th> \n",
       "        <th class=\"col_heading level0 col3\" >naCoded</th> \n",
       "        <th class=\"col_heading level0 col4\" >WeightedError</th> \n",
       "    </tr></thead> \n",
       "<tbody>    <tr> \n",
       "        <th id=\"T_df412bae_58e5_11e8_b63d_c4b301c08cablevel0_row0\" class=\"row_heading level0 row0\" >Gender API</th> \n",
       "        <td id=\"T_df412bae_58e5_11e8_b63d_c4b301c08cabrow0_col0\" class=\"data row0 col0\" >0.079</td> \n",
       "        <td id=\"T_df412bae_58e5_11e8_b63d_c4b301c08cabrow0_col1\" class=\"data row0 col1\" >0.05</td> \n",
       "        <td id=\"T_df412bae_58e5_11e8_b63d_c4b301c08cabrow0_col2\" class=\"data row0 col2\" >0.011</td> \n",
       "        <td id=\"T_df412bae_58e5_11e8_b63d_c4b301c08cabrow0_col3\" class=\"data row0 col3\" >0.03</td> \n",
       "        <td id=\"T_df412bae_58e5_11e8_b63d_c4b301c08cabrow0_col4\" class=\"data row0 col4\" >0.056</td> \n",
       "    </tr>    <tr> \n",
       "        <th id=\"T_df412bae_58e5_11e8_b63d_c4b301c08cablevel0_row1\" class=\"row_heading level0 row1\" >gender-guesser</th> \n",
       "        <td id=\"T_df412bae_58e5_11e8_b63d_c4b301c08cabrow1_col0\" class=\"data row1 col0\" >0.222</td> \n",
       "        <td id=\"T_df412bae_58e5_11e8_b63d_c4b301c08cabrow1_col1\" class=\"data row1 col1\" >0.026</td> \n",
       "        <td id=\"T_df412bae_58e5_11e8_b63d_c4b301c08cabrow1_col2\" class=\"data row1 col2\" >0.002</td> \n",
       "        <td id=\"T_df412bae_58e5_11e8_b63d_c4b301c08cabrow1_col3\" class=\"data row1 col3\" >0.201</td> \n",
       "        <td id=\"T_df412bae_58e5_11e8_b63d_c4b301c08cabrow1_col4\" class=\"data row1 col4\" >0.073</td> \n",
       "    </tr>    <tr> \n",
       "        <th id=\"T_df412bae_58e5_11e8_b63d_c4b301c08cablevel0_row2\" class=\"row_heading level0 row2\" >genderize.io</th> \n",
       "        <td id=\"T_df412bae_58e5_11e8_b63d_c4b301c08cabrow2_col0\" class=\"data row2 col0\" >0.143</td> \n",
       "        <td id=\"T_df412bae_58e5_11e8_b63d_c4b301c08cabrow2_col1\" class=\"data row2 col1\" >0.05</td> \n",
       "        <td id=\"T_df412bae_58e5_11e8_b63d_c4b301c08cabrow2_col2\" class=\"data row2 col2\" >0.022</td> \n",
       "        <td id=\"T_df412bae_58e5_11e8_b63d_c4b301c08cabrow2_col3\" class=\"data row2 col3\" >0.097</td> \n",
       "        <td id=\"T_df412bae_58e5_11e8_b63d_c4b301c08cabrow2_col4\" class=\"data row2 col4\" >0.07</td> \n",
       "    </tr>    <tr> \n",
       "        <th id=\"T_df412bae_58e5_11e8_b63d_c4b301c08cablevel0_row3\" class=\"row_heading level0 row3\" >NameAPI</th> \n",
       "        <td id=\"T_df412bae_58e5_11e8_b63d_c4b301c08cabrow3_col0\" class=\"data row3 col0\" >0.179</td> \n",
       "        <td id=\"T_df412bae_58e5_11e8_b63d_c4b301c08cabrow3_col1\" class=\"data row3 col1\" >0.034</td> \n",
       "        <td id=\"T_df412bae_58e5_11e8_b63d_c4b301c08cabrow3_col2\" class=\"data row3 col2\" >0.004</td> \n",
       "        <td id=\"T_df412bae_58e5_11e8_b63d_c4b301c08cabrow3_col3\" class=\"data row3 col3\" >0.15</td> \n",
       "        <td id=\"T_df412bae_58e5_11e8_b63d_c4b301c08cabrow3_col4\" class=\"data row3 col4\" >0.067</td> \n",
       "    </tr>    <tr> \n",
       "        <th id=\"T_df412bae_58e5_11e8_b63d_c4b301c08cablevel0_row4\" class=\"row_heading level0 row4\" >NamSor</th> \n",
       "        <td id=\"T_df412bae_58e5_11e8_b63d_c4b301c08cabrow4_col0\" class=\"data row4 col0\" >0.128</td> \n",
       "        <td id=\"T_df412bae_58e5_11e8_b63d_c4b301c08cabrow4_col1\" class=\"data row4 col1\" >0.043</td> \n",
       "        <td id=\"T_df412bae_58e5_11e8_b63d_c4b301c08cabrow4_col2\" class=\"data row4 col2\" >0.007</td> \n",
       "        <td id=\"T_df412bae_58e5_11e8_b63d_c4b301c08cabrow4_col3\" class=\"data row4 col3\" >0.089</td> \n",
       "        <td id=\"T_df412bae_58e5_11e8_b63d_c4b301c08cabrow4_col4\" class=\"data row4 col4\" >0.061</td> \n",
       "    </tr></tbody> \n",
       "</table> "
      ],
      "text/plain": [
       "<pandas.io.formats.style.Styler at 0x1163cb6d8>"
      ]
     },
     "execution_count": 14,
     "metadata": {},
     "output_type": "execute_result"
    }
   ],
   "source": [
    "df.abs().style.background_gradient(cmap=cm)"
   ]
  },
  {
   "cell_type": "code",
   "execution_count": 11,
   "metadata": {
    "collapsed": false
   },
   "outputs": [],
   "source": [
    "# Export tables to Excel files\n",
    "df = compute_all_errors_without_tuning()\n",
    "df = reduce_table(df, by_index=True)\n",
    "df = df.round(3)\n",
    "\n",
    "# add colors using ExcelWriter; see http://xlsxwriter.readthedocs.io/working_with_conditional_formats.html\n",
    "writer = pd.ExcelWriter('../../../benchmark_paper/resubmission/tables/Table4.xlsx', engine='xlsxwriter')\n",
    "df.abs().to_excel(writer, sheet_name='Sheet1')\n",
    "workbook  = writer.book\n",
    "worksheet = writer.sheets['Sheet1']\n",
    "\n",
    "worksheet.conditional_format('B2:B8', {'type': '2_color_scale', 'min_color': light_green, 'max_color': dark_green})\n",
    "worksheet.conditional_format('C2:C8', {'type': '2_color_scale', 'min_color': light_green, 'max_color': dark_green})\n",
    "worksheet.conditional_format('D2:D8', {'type': '2_color_scale', 'min_color': light_green, 'max_color': dark_green})\n",
    "worksheet.conditional_format('E2:E8', {'type': '2_color_scale', 'min_color': light_green, 'max_color': dark_green})\n",
    "worksheet.conditional_format('F2:F8', {'type': '2_color_scale', 'min_color': light_green, 'max_color': dark_green})\n",
    "\n",
    "writer.save()"
   ]
  },
  {
   "cell_type": "code",
   "execution_count": null,
   "metadata": {
    "collapsed": true
   },
   "outputs": [],
   "source": [
    "# DO NOT FORGET TO PUT THE MINUS SIGN BACK IN WHEN EXPORTING TO WORD"
   ]
  }
 ],
 "metadata": {
  "kernelspec": {
   "display_name": "Python 3",
   "language": "python",
   "name": "python3"
  },
  "language_info": {
   "codemirror_mode": {
    "name": "ipython",
    "version": 3
   },
   "file_extension": ".py",
   "mimetype": "text/x-python",
   "name": "python",
   "nbconvert_exporter": "python",
   "pygments_lexer": "ipython3",
   "version": "3.6.0"
  }
 },
 "nbformat": 4,
 "nbformat_minor": 2
}
