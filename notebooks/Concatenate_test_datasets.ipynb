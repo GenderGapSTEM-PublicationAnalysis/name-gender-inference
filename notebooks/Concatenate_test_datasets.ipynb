{
 "cells": [
  {
   "cell_type": "markdown",
   "metadata": {},
   "source": [
    "# Concatenate test datasets"
   ]
  },
  {
   "cell_type": "code",
   "execution_count": 1,
   "metadata": {
    "collapsed": true
   },
   "outputs": [],
   "source": [
    "import pandas as pd\n",
    "import csv"
   ]
  },
  {
   "cell_type": "code",
   "execution_count": 2,
   "metadata": {
    "collapsed": true
   },
   "outputs": [],
   "source": [
    "datasets = ['zbmath', 'genderizeR', 'genderizeR_titles', 'filardo', 'nature']"
   ]
  },
  {
   "cell_type": "code",
   "execution_count": 3,
   "metadata": {
    "collapsed": true
   },
   "outputs": [],
   "source": [
    "cols = ['first_name', 'middle_name', 'last_name', 'full_name', 'gender', 'origin']"
   ]
  },
  {
   "cell_type": "code",
   "execution_count": 4,
   "metadata": {
    "collapsed": true
   },
   "outputs": [],
   "source": [
    "dfs = {}\n",
    "for dataset in datasets:\n",
    "    dfs[dataset] = pd.read_csv('test_data_{}.csv'.format(dataset), keep_default_na=False)\n",
    "    # Add column with origin of test data\n",
    "    dfs[dataset]['origin'] = dataset\n",
    "    # Read NaN middle name as empty string\n",
    "    dfs[dataset] = dfs[dataset].fillna('')[cols]"
   ]
  },
  {
   "cell_type": "code",
   "execution_count": 5,
   "metadata": {},
   "outputs": [
    {
     "data": {
      "text/html": [
       "<div>\n",
       "<style scoped>\n",
       "    .dataframe tbody tr th:only-of-type {\n",
       "        vertical-align: middle;\n",
       "    }\n",
       "\n",
       "    .dataframe tbody tr th {\n",
       "        vertical-align: top;\n",
       "    }\n",
       "\n",
       "    .dataframe thead th {\n",
       "        text-align: right;\n",
       "    }\n",
       "</style>\n",
       "<table border=\"1\" class=\"dataframe\">\n",
       "  <thead>\n",
       "    <tr style=\"text-align: right;\">\n",
       "      <th></th>\n",
       "      <th>first_name</th>\n",
       "      <th>middle_name</th>\n",
       "      <th>last_name</th>\n",
       "      <th>full_name</th>\n",
       "      <th>gender</th>\n",
       "      <th>origin</th>\n",
       "    </tr>\n",
       "  </thead>\n",
       "  <tbody>\n",
       "    <tr>\n",
       "      <th>0</th>\n",
       "      <td>pierre</td>\n",
       "      <td>paul</td>\n",
       "      <td>grivel</td>\n",
       "      <td>pierre paul grivel</td>\n",
       "      <td>m</td>\n",
       "      <td>zbmath</td>\n",
       "    </tr>\n",
       "    <tr>\n",
       "      <th>1</th>\n",
       "      <td>raul</td>\n",
       "      <td></td>\n",
       "      <td>serapioni</td>\n",
       "      <td>raul serapioni</td>\n",
       "      <td>m</td>\n",
       "      <td>zbmath</td>\n",
       "    </tr>\n",
       "    <tr>\n",
       "      <th>2</th>\n",
       "      <td>adriano</td>\n",
       "      <td></td>\n",
       "      <td>moura</td>\n",
       "      <td>adriano moura</td>\n",
       "      <td>m</td>\n",
       "      <td>zbmath</td>\n",
       "    </tr>\n",
       "    <tr>\n",
       "      <th>3</th>\n",
       "      <td>ralf</td>\n",
       "      <td></td>\n",
       "      <td>kieser</td>\n",
       "      <td>ralf kieser</td>\n",
       "      <td>m</td>\n",
       "      <td>zbmath</td>\n",
       "    </tr>\n",
       "    <tr>\n",
       "      <th>4</th>\n",
       "      <td>teppei</td>\n",
       "      <td></td>\n",
       "      <td>ariyoshi</td>\n",
       "      <td>teppei ariyoshi</td>\n",
       "      <td>u</td>\n",
       "      <td>zbmath</td>\n",
       "    </tr>\n",
       "  </tbody>\n",
       "</table>\n",
       "</div>"
      ],
      "text/plain": [
       "  first_name middle_name  last_name           full_name gender  origin\n",
       "0     pierre        paul     grivel  pierre paul grivel      m  zbmath\n",
       "1       raul              serapioni      raul serapioni      m  zbmath\n",
       "2    adriano                  moura       adriano moura      m  zbmath\n",
       "3       ralf                 kieser         ralf kieser      m  zbmath\n",
       "4     teppei               ariyoshi     teppei ariyoshi      u  zbmath"
      ]
     },
     "execution_count": 5,
     "metadata": {},
     "output_type": "execute_result"
    }
   ],
   "source": [
    "dfs['zbmath'].head()"
   ]
  },
  {
   "cell_type": "code",
   "execution_count": 6,
   "metadata": {},
   "outputs": [
    {
     "data": {
      "text/html": [
       "<div>\n",
       "<style scoped>\n",
       "    .dataframe tbody tr th:only-of-type {\n",
       "        vertical-align: middle;\n",
       "    }\n",
       "\n",
       "    .dataframe tbody tr th {\n",
       "        vertical-align: top;\n",
       "    }\n",
       "\n",
       "    .dataframe thead th {\n",
       "        text-align: right;\n",
       "    }\n",
       "</style>\n",
       "<table border=\"1\" class=\"dataframe\">\n",
       "  <thead>\n",
       "    <tr style=\"text-align: right;\">\n",
       "      <th></th>\n",
       "      <th>first_name</th>\n",
       "      <th>middle_name</th>\n",
       "      <th>last_name</th>\n",
       "      <th>full_name</th>\n",
       "      <th>gender</th>\n",
       "      <th>origin</th>\n",
       "    </tr>\n",
       "  </thead>\n",
       "  <tbody>\n",
       "    <tr>\n",
       "      <th>0</th>\n",
       "      <td>ann</td>\n",
       "      <td></td>\n",
       "      <td>thayer</td>\n",
       "      <td>ann thayer</td>\n",
       "      <td>u</td>\n",
       "      <td>genderizeR</td>\n",
       "    </tr>\n",
       "    <tr>\n",
       "      <th>1</th>\n",
       "      <td>paolo</td>\n",
       "      <td></td>\n",
       "      <td>chiesa</td>\n",
       "      <td>paolo chiesa</td>\n",
       "      <td>m</td>\n",
       "      <td>genderizeR</td>\n",
       "    </tr>\n",
       "    <tr>\n",
       "      <th>2</th>\n",
       "      <td>ernesto</td>\n",
       "      <td></td>\n",
       "      <td>abbate</td>\n",
       "      <td>ernesto abbate</td>\n",
       "      <td>m</td>\n",
       "      <td>genderizeR</td>\n",
       "    </tr>\n",
       "    <tr>\n",
       "      <th>3</th>\n",
       "      <td>john</td>\n",
       "      <td></td>\n",
       "      <td>epstein</td>\n",
       "      <td>john epstein</td>\n",
       "      <td>m</td>\n",
       "      <td>genderizeR</td>\n",
       "    </tr>\n",
       "    <tr>\n",
       "      <th>4</th>\n",
       "      <td>margaret</td>\n",
       "      <td></td>\n",
       "      <td>cotroneo</td>\n",
       "      <td>margaret cotroneo</td>\n",
       "      <td>f</td>\n",
       "      <td>genderizeR</td>\n",
       "    </tr>\n",
       "  </tbody>\n",
       "</table>\n",
       "</div>"
      ],
      "text/plain": [
       "  first_name middle_name last_name          full_name gender      origin\n",
       "0        ann                thayer         ann thayer      u  genderizeR\n",
       "1      paolo                chiesa       paolo chiesa      m  genderizeR\n",
       "2    ernesto                abbate     ernesto abbate      m  genderizeR\n",
       "3       john               epstein       john epstein      m  genderizeR\n",
       "4   margaret              cotroneo  margaret cotroneo      f  genderizeR"
      ]
     },
     "execution_count": 6,
     "metadata": {},
     "output_type": "execute_result"
    }
   ],
   "source": [
    "dfs['genderizeR'].head()"
   ]
  },
  {
   "cell_type": "code",
   "execution_count": 7,
   "metadata": {},
   "outputs": [
    {
     "data": {
      "text/html": [
       "<div>\n",
       "<style scoped>\n",
       "    .dataframe tbody tr th:only-of-type {\n",
       "        vertical-align: middle;\n",
       "    }\n",
       "\n",
       "    .dataframe tbody tr th {\n",
       "        vertical-align: top;\n",
       "    }\n",
       "\n",
       "    .dataframe thead th {\n",
       "        text-align: right;\n",
       "    }\n",
       "</style>\n",
       "<table border=\"1\" class=\"dataframe\">\n",
       "  <thead>\n",
       "    <tr style=\"text-align: right;\">\n",
       "      <th></th>\n",
       "      <th>first_name</th>\n",
       "      <th>middle_name</th>\n",
       "      <th>last_name</th>\n",
       "      <th>full_name</th>\n",
       "      <th>gender</th>\n",
       "      <th>origin</th>\n",
       "    </tr>\n",
       "  </thead>\n",
       "  <tbody>\n",
       "    <tr>\n",
       "      <th>0</th>\n",
       "      <td>nancy</td>\n",
       "      <td>mary</td>\n",
       "      <td>adams</td>\n",
       "      <td>nancy mary adams</td>\n",
       "      <td>f</td>\n",
       "      <td>genderizeR_titles</td>\n",
       "    </tr>\n",
       "    <tr>\n",
       "      <th>1</th>\n",
       "      <td>lloyd</td>\n",
       "      <td></td>\n",
       "      <td>sutherland</td>\n",
       "      <td>lloyd r sutherland</td>\n",
       "      <td>m</td>\n",
       "      <td>genderizeR_titles</td>\n",
       "    </tr>\n",
       "    <tr>\n",
       "      <th>2</th>\n",
       "      <td>john</td>\n",
       "      <td></td>\n",
       "      <td>hubbell</td>\n",
       "      <td>john h. hubbell</td>\n",
       "      <td>m</td>\n",
       "      <td>genderizeR_titles</td>\n",
       "    </tr>\n",
       "    <tr>\n",
       "      <th>3</th>\n",
       "      <td>frank</td>\n",
       "      <td></td>\n",
       "      <td>kyte</td>\n",
       "      <td>frank kyte</td>\n",
       "      <td>m</td>\n",
       "      <td>genderizeR_titles</td>\n",
       "    </tr>\n",
       "    <tr>\n",
       "      <th>4</th>\n",
       "      <td>nobuo</td>\n",
       "      <td></td>\n",
       "      <td>tanaka</td>\n",
       "      <td>nobuo tanaka</td>\n",
       "      <td>m</td>\n",
       "      <td>genderizeR_titles</td>\n",
       "    </tr>\n",
       "  </tbody>\n",
       "</table>\n",
       "</div>"
      ],
      "text/plain": [
       "  first_name middle_name   last_name           full_name gender  \\\n",
       "0      nancy        mary       adams    nancy mary adams      f   \n",
       "1      lloyd              sutherland  lloyd r sutherland      m   \n",
       "2       john                 hubbell     john h. hubbell      m   \n",
       "3      frank                    kyte          frank kyte      m   \n",
       "4      nobuo                  tanaka        nobuo tanaka      m   \n",
       "\n",
       "              origin  \n",
       "0  genderizeR_titles  \n",
       "1  genderizeR_titles  \n",
       "2  genderizeR_titles  \n",
       "3  genderizeR_titles  \n",
       "4  genderizeR_titles  "
      ]
     },
     "execution_count": 7,
     "metadata": {},
     "output_type": "execute_result"
    }
   ],
   "source": [
    "dfs['genderizeR_titles'].head()"
   ]
  },
  {
   "cell_type": "code",
   "execution_count": 8,
   "metadata": {},
   "outputs": [
    {
     "data": {
      "text/html": [
       "<div>\n",
       "<style scoped>\n",
       "    .dataframe tbody tr th:only-of-type {\n",
       "        vertical-align: middle;\n",
       "    }\n",
       "\n",
       "    .dataframe tbody tr th {\n",
       "        vertical-align: top;\n",
       "    }\n",
       "\n",
       "    .dataframe thead th {\n",
       "        text-align: right;\n",
       "    }\n",
       "</style>\n",
       "<table border=\"1\" class=\"dataframe\">\n",
       "  <thead>\n",
       "    <tr style=\"text-align: right;\">\n",
       "      <th></th>\n",
       "      <th>first_name</th>\n",
       "      <th>middle_name</th>\n",
       "      <th>last_name</th>\n",
       "      <th>full_name</th>\n",
       "      <th>gender</th>\n",
       "      <th>origin</th>\n",
       "    </tr>\n",
       "  </thead>\n",
       "  <tbody>\n",
       "    <tr>\n",
       "      <th>0</th>\n",
       "      <td>peter</td>\n",
       "      <td></td>\n",
       "      <td>aaby</td>\n",
       "      <td>peter aaby</td>\n",
       "      <td>m</td>\n",
       "      <td>filardo</td>\n",
       "    </tr>\n",
       "    <tr>\n",
       "      <th>1</th>\n",
       "      <td>shawn</td>\n",
       "      <td></td>\n",
       "      <td>aaron</td>\n",
       "      <td>shawn aaron</td>\n",
       "      <td>m</td>\n",
       "      <td>filardo</td>\n",
       "    </tr>\n",
       "    <tr>\n",
       "      <th>2</th>\n",
       "      <td>kevin</td>\n",
       "      <td></td>\n",
       "      <td>abbott</td>\n",
       "      <td>kevin abbott</td>\n",
       "      <td>m</td>\n",
       "      <td>filardo</td>\n",
       "    </tr>\n",
       "    <tr>\n",
       "      <th>3</th>\n",
       "      <td>salim</td>\n",
       "      <td></td>\n",
       "      <td>abdulla</td>\n",
       "      <td>salim abdulla</td>\n",
       "      <td>m</td>\n",
       "      <td>filardo</td>\n",
       "    </tr>\n",
       "    <tr>\n",
       "      <th>4</th>\n",
       "      <td>corine</td>\n",
       "      <td></td>\n",
       "      <td>aboa-eboulé</td>\n",
       "      <td>corine aboa-eboulé</td>\n",
       "      <td>f</td>\n",
       "      <td>filardo</td>\n",
       "    </tr>\n",
       "  </tbody>\n",
       "</table>\n",
       "</div>"
      ],
      "text/plain": [
       "  first_name middle_name    last_name           full_name gender   origin\n",
       "0      peter                     aaby          peter aaby      m  filardo\n",
       "1      shawn                    aaron         shawn aaron      m  filardo\n",
       "2      kevin                   abbott        kevin abbott      m  filardo\n",
       "3      salim                  abdulla       salim abdulla      m  filardo\n",
       "4     corine              aboa-eboulé  corine aboa-eboulé      f  filardo"
      ]
     },
     "execution_count": 8,
     "metadata": {},
     "output_type": "execute_result"
    }
   ],
   "source": [
    "dfs['filardo'].head()"
   ]
  },
  {
   "cell_type": "code",
   "execution_count": 9,
   "metadata": {},
   "outputs": [
    {
     "data": {
      "text/html": [
       "<div>\n",
       "<style scoped>\n",
       "    .dataframe tbody tr th:only-of-type {\n",
       "        vertical-align: middle;\n",
       "    }\n",
       "\n",
       "    .dataframe tbody tr th {\n",
       "        vertical-align: top;\n",
       "    }\n",
       "\n",
       "    .dataframe thead th {\n",
       "        text-align: right;\n",
       "    }\n",
       "</style>\n",
       "<table border=\"1\" class=\"dataframe\">\n",
       "  <thead>\n",
       "    <tr style=\"text-align: right;\">\n",
       "      <th></th>\n",
       "      <th>first_name</th>\n",
       "      <th>middle_name</th>\n",
       "      <th>last_name</th>\n",
       "      <th>full_name</th>\n",
       "      <th>gender</th>\n",
       "      <th>origin</th>\n",
       "    </tr>\n",
       "  </thead>\n",
       "  <tbody>\n",
       "    <tr>\n",
       "      <th>0</th>\n",
       "      <td>ha</td>\n",
       "      <td>lim</td>\n",
       "      <td>oh</td>\n",
       "      <td>ha lim oh</td>\n",
       "      <td>f</td>\n",
       "      <td>nature</td>\n",
       "    </tr>\n",
       "    <tr>\n",
       "      <th>1</th>\n",
       "      <td>michiyo</td>\n",
       "      <td></td>\n",
       "      <td>okada</td>\n",
       "      <td>michiyo okada</td>\n",
       "      <td>f</td>\n",
       "      <td>nature</td>\n",
       "    </tr>\n",
       "    <tr>\n",
       "      <th>2</th>\n",
       "      <td>yongsoon</td>\n",
       "      <td></td>\n",
       "      <td>park</td>\n",
       "      <td>yongsoon park</td>\n",
       "      <td>f</td>\n",
       "      <td>nature</td>\n",
       "    </tr>\n",
       "    <tr>\n",
       "      <th>3</th>\n",
       "      <td>klaske</td>\n",
       "      <td></td>\n",
       "      <td>van norren</td>\n",
       "      <td>klaske van norren</td>\n",
       "      <td>f</td>\n",
       "      <td>nature</td>\n",
       "    </tr>\n",
       "    <tr>\n",
       "      <th>4</th>\n",
       "      <td>shiao</td>\n",
       "      <td>tong</td>\n",
       "      <td>kong</td>\n",
       "      <td>shiao tong kong</td>\n",
       "      <td>f</td>\n",
       "      <td>nature</td>\n",
       "    </tr>\n",
       "  </tbody>\n",
       "</table>\n",
       "</div>"
      ],
      "text/plain": [
       "  first_name middle_name   last_name          full_name gender  origin\n",
       "0         ha         lim          oh          ha lim oh      f  nature\n",
       "1    michiyo                   okada      michiyo okada      f  nature\n",
       "2   yongsoon                    park      yongsoon park      f  nature\n",
       "3     klaske              van norren  klaske van norren      f  nature\n",
       "4      shiao        tong        kong    shiao tong kong      f  nature"
      ]
     },
     "execution_count": 9,
     "metadata": {},
     "output_type": "execute_result"
    }
   ],
   "source": [
    "dfs['nature'].head()"
   ]
  },
  {
   "cell_type": "code",
   "execution_count": 20,
   "metadata": {
    "collapsed": true
   },
   "outputs": [],
   "source": [
    "df = pd.concat([dfs[ds] for ds in datasets])"
   ]
  },
  {
   "cell_type": "code",
   "execution_count": 11,
   "metadata": {},
   "outputs": [
    {
     "data": {
      "text/plain": [
       "7090"
      ]
     },
     "execution_count": 11,
     "metadata": {},
     "output_type": "execute_result"
    }
   ],
   "source": [
    "len(df)"
   ]
  },
  {
   "cell_type": "code",
   "execution_count": 12,
   "metadata": {},
   "outputs": [
    {
     "data": {
      "text/plain": [
       "0"
      ]
     },
     "execution_count": 12,
     "metadata": {},
     "output_type": "execute_result"
    }
   ],
   "source": [
    "len(df[df.first_name==''])"
   ]
  },
  {
   "cell_type": "code",
   "execution_count": 13,
   "metadata": {},
   "outputs": [
    {
     "data": {
      "text/html": [
       "<div>\n",
       "<style scoped>\n",
       "    .dataframe tbody tr th:only-of-type {\n",
       "        vertical-align: middle;\n",
       "    }\n",
       "\n",
       "    .dataframe tbody tr th {\n",
       "        vertical-align: top;\n",
       "    }\n",
       "\n",
       "    .dataframe thead th {\n",
       "        text-align: right;\n",
       "    }\n",
       "</style>\n",
       "<table border=\"1\" class=\"dataframe\">\n",
       "  <thead>\n",
       "    <tr style=\"text-align: right;\">\n",
       "      <th></th>\n",
       "      <th>first_name</th>\n",
       "      <th>middle_name</th>\n",
       "      <th>last_name</th>\n",
       "      <th>full_name</th>\n",
       "      <th>gender</th>\n",
       "      <th>origin</th>\n",
       "    </tr>\n",
       "  </thead>\n",
       "  <tbody>\n",
       "    <tr>\n",
       "      <th>155</th>\n",
       "      <td>richard</td>\n",
       "      <td></td>\n",
       "      <td>carlson</td>\n",
       "      <td>richard carlson</td>\n",
       "      <td>m</td>\n",
       "      <td>genderizeR_titles</td>\n",
       "    </tr>\n",
       "    <tr>\n",
       "      <th>891</th>\n",
       "      <td>james</td>\n",
       "      <td></td>\n",
       "      <td>king</td>\n",
       "      <td>james king</td>\n",
       "      <td>m</td>\n",
       "      <td>filardo</td>\n",
       "    </tr>\n",
       "    <tr>\n",
       "      <th>56</th>\n",
       "      <td>bregje</td>\n",
       "      <td></td>\n",
       "      <td>onwuteaka-philipsen</td>\n",
       "      <td>bregje onwuteaka-philipsen</td>\n",
       "      <td>f</td>\n",
       "      <td>nature</td>\n",
       "    </tr>\n",
       "    <tr>\n",
       "      <th>602</th>\n",
       "      <td>wilco</td>\n",
       "      <td></td>\n",
       "      <td>peul</td>\n",
       "      <td>wilco peul</td>\n",
       "      <td>m</td>\n",
       "      <td>nature</td>\n",
       "    </tr>\n",
       "    <tr>\n",
       "      <th>1121</th>\n",
       "      <td>susan</td>\n",
       "      <td></td>\n",
       "      <td>heckbert</td>\n",
       "      <td>susan heckbert</td>\n",
       "      <td>f</td>\n",
       "      <td>nature</td>\n",
       "    </tr>\n",
       "    <tr>\n",
       "      <th>1424</th>\n",
       "      <td>susanna</td>\n",
       "      <td></td>\n",
       "      <td>larsson</td>\n",
       "      <td>susanna larsson</td>\n",
       "      <td>f</td>\n",
       "      <td>nature</td>\n",
       "    </tr>\n",
       "    <tr>\n",
       "      <th>1889</th>\n",
       "      <td>christopher</td>\n",
       "      <td></td>\n",
       "      <td>patterson</td>\n",
       "      <td>christopher patterson</td>\n",
       "      <td>m</td>\n",
       "      <td>nature</td>\n",
       "    </tr>\n",
       "    <tr>\n",
       "      <th>1906</th>\n",
       "      <td>richard</td>\n",
       "      <td></td>\n",
       "      <td>hughes</td>\n",
       "      <td>richard hughes</td>\n",
       "      <td>m</td>\n",
       "      <td>nature</td>\n",
       "    </tr>\n",
       "    <tr>\n",
       "      <th>1909</th>\n",
       "      <td>jeffrey</td>\n",
       "      <td></td>\n",
       "      <td>schwimmer</td>\n",
       "      <td>jeffrey schwimmer</td>\n",
       "      <td>m</td>\n",
       "      <td>nature</td>\n",
       "    </tr>\n",
       "    <tr>\n",
       "      <th>1966</th>\n",
       "      <td>christopher</td>\n",
       "      <td></td>\n",
       "      <td>o'connor</td>\n",
       "      <td>christopher o'connor</td>\n",
       "      <td>m</td>\n",
       "      <td>nature</td>\n",
       "    </tr>\n",
       "    <tr>\n",
       "      <th>2035</th>\n",
       "      <td>jim</td>\n",
       "      <td></td>\n",
       "      <td>hu</td>\n",
       "      <td>jim hu</td>\n",
       "      <td>m</td>\n",
       "      <td>nature</td>\n",
       "    </tr>\n",
       "    <tr>\n",
       "      <th>2223</th>\n",
       "      <td>steven</td>\n",
       "      <td></td>\n",
       "      <td>cohen</td>\n",
       "      <td>steven cohen</td>\n",
       "      <td>m</td>\n",
       "      <td>nature</td>\n",
       "    </tr>\n",
       "    <tr>\n",
       "      <th>2627</th>\n",
       "      <td>yu</td>\n",
       "      <td></td>\n",
       "      <td>chen</td>\n",
       "      <td>yu chen</td>\n",
       "      <td>u</td>\n",
       "      <td>nature</td>\n",
       "    </tr>\n",
       "    <tr>\n",
       "      <th>2847</th>\n",
       "      <td>kim</td>\n",
       "      <td></td>\n",
       "      <td>sutton-tyrrell</td>\n",
       "      <td>kim sutton-tyrrell</td>\n",
       "      <td>f</td>\n",
       "      <td>nature</td>\n",
       "    </tr>\n",
       "  </tbody>\n",
       "</table>\n",
       "</div>"
      ],
      "text/plain": [
       "       first_name middle_name            last_name  \\\n",
       "155       richard                          carlson   \n",
       "891         james                             king   \n",
       "56         bregje              onwuteaka-philipsen   \n",
       "602         wilco                             peul   \n",
       "1121        susan                         heckbert   \n",
       "1424      susanna                          larsson   \n",
       "1889  christopher                        patterson   \n",
       "1906      richard                           hughes   \n",
       "1909      jeffrey                        schwimmer   \n",
       "1966  christopher                         o'connor   \n",
       "2035          jim                               hu   \n",
       "2223       steven                            cohen   \n",
       "2627           yu                             chen   \n",
       "2847          kim                   sutton-tyrrell   \n",
       "\n",
       "                       full_name gender             origin  \n",
       "155              richard carlson      m  genderizeR_titles  \n",
       "891                   james king      m            filardo  \n",
       "56    bregje onwuteaka-philipsen      f             nature  \n",
       "602                   wilco peul      m             nature  \n",
       "1121              susan heckbert      f             nature  \n",
       "1424             susanna larsson      f             nature  \n",
       "1889       christopher patterson      m             nature  \n",
       "1906              richard hughes      m             nature  \n",
       "1909           jeffrey schwimmer      m             nature  \n",
       "1966        christopher o'connor      m             nature  \n",
       "2035                      jim hu      m             nature  \n",
       "2223                steven cohen      m             nature  \n",
       "2627                     yu chen      u             nature  \n",
       "2847          kim sutton-tyrrell      f             nature  "
      ]
     },
     "execution_count": 13,
     "metadata": {},
     "output_type": "execute_result"
    }
   ],
   "source": [
    "# Remove duplicated entries\n",
    "df[df.duplicated(subset='full_name')]"
   ]
  },
  {
   "cell_type": "code",
   "execution_count": 17,
   "metadata": {},
   "outputs": [
    {
     "name": "stdout",
     "output_type": "stream",
     "text": [
      "    first_name middle_name last_name        full_name gender  \\\n",
      "100    richard               carlson  richard carlson      m   \n",
      "155    richard               carlson  richard carlson      m   \n",
      "\n",
      "                origin  \n",
      "100         genderizeR  \n",
      "155  genderizeR_titles  \n",
      "    first_name middle_name last_name   full_name gender   origin\n",
      "321      james                  king  james king      m   zbmath\n",
      "891      james                  king  james king      m  filardo\n",
      "     first_name middle_name            last_name                   full_name  \\\n",
      "1294     bregje              onwuteaka-philipsen  bregje onwuteaka-philipsen   \n",
      "56       bregje              onwuteaka-philipsen  bregje onwuteaka-philipsen   \n",
      "\n",
      "     gender   origin  \n",
      "1294      f  filardo  \n",
      "56        f   nature  \n",
      "     first_name middle_name last_name   full_name gender   origin\n",
      "1357      wilco                  peul  wilco peul      m  filardo\n",
      "602       wilco                  peul  wilco peul      m   nature\n",
      "     first_name middle_name last_name       full_name gender   origin\n",
      "689       susan              heckbert  susan heckbert      f  filardo\n",
      "1121      susan              heckbert  susan heckbert      f   nature\n",
      "     first_name middle_name last_name        full_name gender   origin\n",
      "967     susanna               larsson  susanna larsson      f  filardo\n",
      "1424    susanna               larsson  susanna larsson      f   nature\n",
      "       first_name middle_name  last_name              full_name gender  \\\n",
      "1334  christopher              patterson  christopher patterson      m   \n",
      "1889  christopher              patterson  christopher patterson      m   \n",
      "\n",
      "       origin  \n",
      "1334  filardo  \n",
      "1889   nature  \n",
      "     first_name middle_name last_name       full_name gender   origin\n",
      "757     richard                hughes  richard hughes      m  filardo\n",
      "1906    richard                hughes  richard hughes      m   nature\n",
      "     first_name middle_name  last_name          full_name gender   origin\n",
      "1550    jeffrey              schwimmer  jeffrey schwimmer      m  filardo\n",
      "1909    jeffrey              schwimmer  jeffrey schwimmer      m   nature\n",
      "       first_name middle_name last_name             full_name gender   origin\n",
      "1271  christopher              o'connor  christopher o'connor      m  filardo\n",
      "1966  christopher              o'connor  christopher o'connor      m   nature\n",
      "     first_name middle_name last_name full_name gender   origin\n",
      "749         jim                    hu    jim hu      m  filardo\n",
      "2035        jim                    hu    jim hu      m   nature\n",
      "     first_name middle_name last_name     full_name gender   origin\n",
      "313      steven                 cohen  steven cohen      m  filardo\n",
      "2223     steven                 cohen  steven cohen      m   nature\n",
      "     first_name middle_name last_name full_name gender   origin\n",
      "272          yu                  chen   yu chen      f  filardo\n",
      "2627         yu                  chen   yu chen      u   nature\n",
      "     first_name middle_name       last_name           full_name gender  \\\n",
      "1689        kim              sutton-tyrrell  kim sutton-tyrrell      f   \n",
      "2847        kim              sutton-tyrrell  kim sutton-tyrrell      f   \n",
      "\n",
      "       origin  \n",
      "1689  filardo  \n",
      "2847   nature  \n"
     ]
    }
   ],
   "source": [
    "# The duplicates are mainly between filardo and nature\n",
    "for fn in df[df.duplicated(subset='full_name')].full_name:\n",
    "    print(df[df.full_name==fn])"
   ]
  },
  {
   "cell_type": "code",
   "execution_count": 21,
   "metadata": {
    "collapsed": true
   },
   "outputs": [],
   "source": [
    "df = df.drop_duplicates(subset='full_name')"
   ]
  },
  {
   "cell_type": "code",
   "execution_count": 38,
   "metadata": {
    "collapsed": true
   },
   "outputs": [],
   "source": [
    "# Print some data stats for the test datasets\n",
    "def data_stats(df):\n",
    "    print('Total entries: {}'.format(len(df)))\n",
    "    print('Entries with empty first name: {}'.format(len(df[df.first_name==''])))\n",
    "    print('Entries with empty middle name: {}'.format(len(df[df.middle_name==''])))\n",
    "    print('Total unique first names: {}'.format(len(df.first_name.unique())))\n",
    "    print('Total unique first+middle names: {}'.format(len(df.apply(lambda x: x.first_name + ' ' + x.middle_name, axis=1).unique())))"
   ]
  },
  {
   "cell_type": "code",
   "execution_count": 39,
   "metadata": {},
   "outputs": [
    {
     "name": "stdout",
     "output_type": "stream",
     "text": [
      "Total entries: 7076\n",
      "Entries with empty first name: 0\n",
      "Entries with empty middle name: 6163\n",
      "Total unique first names: 3424\n",
      "Total unique first+middle names: 3956\n"
     ]
    }
   ],
   "source": [
    "data_stats(df)"
   ]
  },
  {
   "cell_type": "code",
   "execution_count": 42,
   "metadata": {},
   "outputs": [
    {
     "name": "stdout",
     "output_type": "stream",
     "text": [
      "zbmath\n",
      "Total entries: 400\n",
      "Entries with empty first name: 0\n",
      "Entries with empty middle name: 353\n",
      "Total unique first names: 342\n",
      "Total unique first+middle names: 351\n",
      "\n",
      "\n",
      "genderizeR\n",
      "Total entries: 567\n",
      "Entries with empty first name: 0\n",
      "Entries with empty middle name: 544\n",
      "Total unique first names: 378\n",
      "Total unique first+middle names: 391\n",
      "\n",
      "\n",
      "genderizeR_titles\n",
      "Total entries: 471\n",
      "Entries with empty first name: 0\n",
      "Entries with empty middle name: 324\n",
      "Total unique first names: 301\n",
      "Total unique first+middle names: 383\n",
      "\n",
      "\n",
      "filardo\n",
      "Total entries: 1953\n",
      "Entries with empty first name: 0\n",
      "Entries with empty middle name: 1904\n",
      "Total unique first names: 1080\n",
      "Total unique first+middle names: 1101\n",
      "\n",
      "\n",
      "nature\n",
      "Total entries: 3699\n",
      "Entries with empty first name: 0\n",
      "Entries with empty middle name: 3052\n",
      "Total unique first names: 2238\n",
      "Total unique first+middle names: 2564\n",
      "\n",
      "\n"
     ]
    }
   ],
   "source": [
    "for ds in datasets:\n",
    "    print(ds)\n",
    "    data_stats(dfs[ds])\n",
    "    print('\\n')"
   ]
  },
  {
   "cell_type": "code",
   "execution_count": 29,
   "metadata": {
    "collapsed": true
   },
   "outputs": [],
   "source": [
    "df.to_csv('test_data_all.csv', index=False, quoting=csv.QUOTE_NONNUMERIC)"
   ]
  },
  {
   "cell_type": "code",
   "execution_count": 44,
   "metadata": {},
   "outputs": [
    {
     "data": {
      "text/plain": [
       "7090"
      ]
     },
     "execution_count": 44,
     "metadata": {},
     "output_type": "execute_result"
    }
   ],
   "source": [
    "sum([len(dfs[ds]) for ds in datasets])"
   ]
  },
  {
   "cell_type": "code",
   "execution_count": 45,
   "metadata": {},
   "outputs": [
    {
     "data": {
      "text/plain": [
       "7076"
      ]
     },
     "execution_count": 45,
     "metadata": {},
     "output_type": "execute_result"
    }
   ],
   "source": [
    "len(df)"
   ]
  },
  {
   "cell_type": "code",
   "execution_count": 2,
   "metadata": {
    "collapsed": true
   },
   "outputs": [],
   "source": [
    "df = pd.read_csv('test_data_all.csv', keep_default_na=False)\n",
    "df = df.fillna('')"
   ]
  },
  {
   "cell_type": "code",
   "execution_count": 4,
   "metadata": {},
   "outputs": [
    {
     "data": {
      "text/plain": [
       "m    0.541125\n",
       "f    0.277134\n",
       "u    0.181741\n",
       "Name: gender, dtype: float64"
      ]
     },
     "execution_count": 4,
     "metadata": {},
     "output_type": "execute_result"
    }
   ],
   "source": [
    "df.gender.value_counts()/len(df)"
   ]
  },
  {
   "cell_type": "code",
   "execution_count": 5,
   "metadata": {},
   "outputs": [
    {
     "data": {
      "text/plain": [
       "1.0"
      ]
     },
     "execution_count": 5,
     "metadata": {},
     "output_type": "execute_result"
    }
   ],
   "source": [
    "sum(df.gender.value_counts()/len(df))"
   ]
  },
  {
   "cell_type": "code",
   "execution_count": 6,
   "metadata": {},
   "outputs": [
    {
     "data": {
      "text/plain": [
       "m    0.661313\n",
       "f    0.338687\n",
       "Name: gender, dtype: float64"
      ]
     },
     "execution_count": 6,
     "metadata": {},
     "output_type": "execute_result"
    }
   ],
   "source": [
    "df[df.gender!='u'].gender.value_counts()/len(df[df.gender!='u'])"
   ]
  },
  {
   "cell_type": "code",
   "execution_count": null,
   "metadata": {
    "collapsed": true
   },
   "outputs": [],
   "source": []
  }
 ],
 "metadata": {
  "kernelspec": {
   "display_name": "Python 3",
   "language": "python",
   "name": "python3"
  },
  "language_info": {
   "codemirror_mode": {
    "name": "ipython",
    "version": 3
   },
   "file_extension": ".py",
   "mimetype": "text/x-python",
   "name": "python",
   "nbconvert_exporter": "python",
   "pygments_lexer": "ipython3",
   "version": "3.5.1"
  }
 },
 "nbformat": 4,
 "nbformat_minor": 2
}
