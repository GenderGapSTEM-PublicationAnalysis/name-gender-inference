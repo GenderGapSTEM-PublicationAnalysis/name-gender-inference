{
 "cells": [
  {
   "cell_type": "markdown",
   "metadata": {},
   "source": [
    "### Propagate manual corrections\n",
    "\n",
    "Unfortunately if we detect errors in ground truth data in files that have been already evaluated with any given API, the corrections need to be propagated to them, as to avoid to re-run the API fetch redundantly"
   ]
  },
  {
   "cell_type": "code",
   "execution_count": 1,
   "metadata": {
    "collapsed": true
   },
   "outputs": [],
   "source": [
    "import pandas as pd\n",
    "import csv"
   ]
  },
  {
   "cell_type": "markdown",
   "metadata": {},
   "source": [
    "## genderizeR authorships"
   ]
  },
  {
   "cell_type": "markdown",
   "metadata": {},
   "source": [
    "### genderize.io"
   ]
  },
  {
   "cell_type": "code",
   "execution_count": 2,
   "metadata": {
    "collapsed": true
   },
   "outputs": [],
   "source": [
    "api = 'genderize_io'\n",
    "test_data = 'test_data_genderizeR.csv'\n",
    "path_to_eval_file = ''.join(['../', api, '/', test_data.split('.csv')[0], '_', api, '.csv']) "
   ]
  },
  {
   "cell_type": "code",
   "execution_count": 3,
   "metadata": {
    "collapsed": true
   },
   "outputs": [],
   "source": [
    "df_raw = pd.read_csv(test_data)\n",
    "df_raw = df_raw.fillna('')\n",
    "df_eval = pd.read_csv(path_to_eval_file)\n",
    "df_eval = df_eval.fillna('')"
   ]
  },
  {
   "cell_type": "code",
   "execution_count": 4,
   "metadata": {
    "collapsed": false
   },
   "outputs": [
    {
     "data": {
      "text/html": [
       "<div>\n",
       "<table border=\"1\" class=\"dataframe\">\n",
       "  <thead>\n",
       "    <tr style=\"text-align: right;\">\n",
       "      <th></th>\n",
       "      <th>raw_name</th>\n",
       "      <th>first_name</th>\n",
       "      <th>middle_name</th>\n",
       "      <th>last_name</th>\n",
       "      <th>full_name</th>\n",
       "      <th>gender</th>\n",
       "    </tr>\n",
       "  </thead>\n",
       "  <tbody>\n",
       "    <tr>\n",
       "      <th>0</th>\n",
       "      <td>Thayer, Ann</td>\n",
       "      <td>ann</td>\n",
       "      <td></td>\n",
       "      <td>thayer</td>\n",
       "      <td>ann thayer</td>\n",
       "      <td>u</td>\n",
       "    </tr>\n",
       "    <tr>\n",
       "      <th>1</th>\n",
       "      <td>Chiesa, Paolo</td>\n",
       "      <td>paolo</td>\n",
       "      <td></td>\n",
       "      <td>chiesa</td>\n",
       "      <td>paolo chiesa</td>\n",
       "      <td>m</td>\n",
       "    </tr>\n",
       "    <tr>\n",
       "      <th>2</th>\n",
       "      <td>Abbate, Ernesto</td>\n",
       "      <td>ernesto</td>\n",
       "      <td></td>\n",
       "      <td>abbate</td>\n",
       "      <td>ernesto abbate</td>\n",
       "      <td>m</td>\n",
       "    </tr>\n",
       "    <tr>\n",
       "      <th>3</th>\n",
       "      <td>Epstein, John H.</td>\n",
       "      <td>john</td>\n",
       "      <td></td>\n",
       "      <td>epstein</td>\n",
       "      <td>john epstein</td>\n",
       "      <td>m</td>\n",
       "    </tr>\n",
       "    <tr>\n",
       "      <th>4</th>\n",
       "      <td>Cotroneo, Margaret</td>\n",
       "      <td>margaret</td>\n",
       "      <td></td>\n",
       "      <td>cotroneo</td>\n",
       "      <td>margaret cotroneo</td>\n",
       "      <td>f</td>\n",
       "    </tr>\n",
       "  </tbody>\n",
       "</table>\n",
       "</div>"
      ],
      "text/plain": [
       "             raw_name first_name middle_name last_name          full_name  \\\n",
       "0         Thayer, Ann        ann                thayer         ann thayer   \n",
       "1       Chiesa, Paolo      paolo                chiesa       paolo chiesa   \n",
       "2     Abbate, Ernesto    ernesto                abbate     ernesto abbate   \n",
       "3    Epstein, John H.       john               epstein       john epstein   \n",
       "4  Cotroneo, Margaret   margaret              cotroneo  margaret cotroneo   \n",
       "\n",
       "  gender  \n",
       "0      u  \n",
       "1      m  \n",
       "2      m  \n",
       "3      m  \n",
       "4      f  "
      ]
     },
     "execution_count": 4,
     "metadata": {},
     "output_type": "execute_result"
    }
   ],
   "source": [
    "df_raw.head()"
   ]
  },
  {
   "cell_type": "code",
   "execution_count": 5,
   "metadata": {
    "collapsed": false
   },
   "outputs": [
    {
     "data": {
      "text/html": [
       "<div>\n",
       "<table border=\"1\" class=\"dataframe\">\n",
       "  <thead>\n",
       "    <tr style=\"text-align: right;\">\n",
       "      <th></th>\n",
       "      <th>raw_name</th>\n",
       "      <th>first_name</th>\n",
       "      <th>middle_name</th>\n",
       "      <th>last_name</th>\n",
       "      <th>full_name</th>\n",
       "      <th>gender</th>\n",
       "      <th>count</th>\n",
       "      <th>gender_infered</th>\n",
       "      <th>name</th>\n",
       "      <th>probability</th>\n",
       "    </tr>\n",
       "  </thead>\n",
       "  <tbody>\n",
       "    <tr>\n",
       "      <th>0</th>\n",
       "      <td>Thayer, Ann</td>\n",
       "      <td>ann</td>\n",
       "      <td></td>\n",
       "      <td>thayer</td>\n",
       "      <td>ann thayer</td>\n",
       "      <td>u</td>\n",
       "      <td>1818</td>\n",
       "      <td>f</td>\n",
       "      <td>ann</td>\n",
       "      <td>0.99</td>\n",
       "    </tr>\n",
       "    <tr>\n",
       "      <th>1</th>\n",
       "      <td>Chiesa, Paolo</td>\n",
       "      <td>paolo</td>\n",
       "      <td></td>\n",
       "      <td>chiesa</td>\n",
       "      <td>paolo chiesa</td>\n",
       "      <td>m</td>\n",
       "      <td>781</td>\n",
       "      <td>m</td>\n",
       "      <td>paolo</td>\n",
       "      <td>0.99</td>\n",
       "    </tr>\n",
       "    <tr>\n",
       "      <th>2</th>\n",
       "      <td>Abbate, Ernesto</td>\n",
       "      <td>ernesto</td>\n",
       "      <td></td>\n",
       "      <td>abbate</td>\n",
       "      <td>ernesto abbate</td>\n",
       "      <td>m</td>\n",
       "      <td>381</td>\n",
       "      <td>m</td>\n",
       "      <td>ernesto</td>\n",
       "      <td>1</td>\n",
       "    </tr>\n",
       "    <tr>\n",
       "      <th>3</th>\n",
       "      <td>Epstein, John H.</td>\n",
       "      <td>john</td>\n",
       "      <td></td>\n",
       "      <td>epstein</td>\n",
       "      <td>john epstein</td>\n",
       "      <td>m</td>\n",
       "      <td>9931</td>\n",
       "      <td>m</td>\n",
       "      <td>john</td>\n",
       "      <td>0.99</td>\n",
       "    </tr>\n",
       "    <tr>\n",
       "      <th>4</th>\n",
       "      <td>Cotroneo, Margaret</td>\n",
       "      <td>margaret</td>\n",
       "      <td></td>\n",
       "      <td>cotroneo</td>\n",
       "      <td>margaret cotroneo</td>\n",
       "      <td>f</td>\n",
       "      <td>1101</td>\n",
       "      <td>f</td>\n",
       "      <td>margaret</td>\n",
       "      <td>0.98</td>\n",
       "    </tr>\n",
       "  </tbody>\n",
       "</table>\n",
       "</div>"
      ],
      "text/plain": [
       "             raw_name first_name middle_name last_name          full_name  \\\n",
       "0         Thayer, Ann        ann                thayer         ann thayer   \n",
       "1       Chiesa, Paolo      paolo                chiesa       paolo chiesa   \n",
       "2     Abbate, Ernesto    ernesto                abbate     ernesto abbate   \n",
       "3    Epstein, John H.       john               epstein       john epstein   \n",
       "4  Cotroneo, Margaret   margaret              cotroneo  margaret cotroneo   \n",
       "\n",
       "  gender count gender_infered      name probability  \n",
       "0      u  1818              f       ann        0.99  \n",
       "1      m   781              m     paolo        0.99  \n",
       "2      m   381              m   ernesto           1  \n",
       "3      m  9931              m      john        0.99  \n",
       "4      f  1101              f  margaret        0.98  "
      ]
     },
     "execution_count": 5,
     "metadata": {},
     "output_type": "execute_result"
    }
   ],
   "source": [
    "df_eval.head()"
   ]
  },
  {
   "cell_type": "code",
   "execution_count": 6,
   "metadata": {
    "collapsed": false
   },
   "outputs": [],
   "source": [
    "#cols = list(df_raw.columns)\n",
    "cols = ['raw_name', 'first_name', 'middle_name', 'last_name', 'full_name']"
   ]
  },
  {
   "cell_type": "code",
   "execution_count": 7,
   "metadata": {
    "collapsed": false
   },
   "outputs": [
    {
     "data": {
      "text/html": [
       "<div>\n",
       "<table border=\"1\" class=\"dataframe\">\n",
       "  <thead>\n",
       "    <tr style=\"text-align: right;\">\n",
       "      <th></th>\n",
       "      <th>raw_name</th>\n",
       "      <th>first_name</th>\n",
       "      <th>middle_name</th>\n",
       "      <th>last_name</th>\n",
       "      <th>full_name</th>\n",
       "      <th>gender_raw</th>\n",
       "      <th>gender_eval</th>\n",
       "      <th>count</th>\n",
       "      <th>gender_infered</th>\n",
       "      <th>name</th>\n",
       "      <th>probability</th>\n",
       "    </tr>\n",
       "  </thead>\n",
       "  <tbody>\n",
       "    <tr>\n",
       "      <th>0</th>\n",
       "      <td>Thayer, Ann</td>\n",
       "      <td>ann</td>\n",
       "      <td></td>\n",
       "      <td>thayer</td>\n",
       "      <td>ann thayer</td>\n",
       "      <td>u</td>\n",
       "      <td>u</td>\n",
       "      <td>1818</td>\n",
       "      <td>f</td>\n",
       "      <td>ann</td>\n",
       "      <td>0.99</td>\n",
       "    </tr>\n",
       "    <tr>\n",
       "      <th>1</th>\n",
       "      <td>Chiesa, Paolo</td>\n",
       "      <td>paolo</td>\n",
       "      <td></td>\n",
       "      <td>chiesa</td>\n",
       "      <td>paolo chiesa</td>\n",
       "      <td>m</td>\n",
       "      <td>m</td>\n",
       "      <td>781</td>\n",
       "      <td>m</td>\n",
       "      <td>paolo</td>\n",
       "      <td>0.99</td>\n",
       "    </tr>\n",
       "    <tr>\n",
       "      <th>2</th>\n",
       "      <td>Abbate, Ernesto</td>\n",
       "      <td>ernesto</td>\n",
       "      <td></td>\n",
       "      <td>abbate</td>\n",
       "      <td>ernesto abbate</td>\n",
       "      <td>m</td>\n",
       "      <td>m</td>\n",
       "      <td>381</td>\n",
       "      <td>m</td>\n",
       "      <td>ernesto</td>\n",
       "      <td>1</td>\n",
       "    </tr>\n",
       "    <tr>\n",
       "      <th>3</th>\n",
       "      <td>Epstein, John H.</td>\n",
       "      <td>john</td>\n",
       "      <td></td>\n",
       "      <td>epstein</td>\n",
       "      <td>john epstein</td>\n",
       "      <td>m</td>\n",
       "      <td>m</td>\n",
       "      <td>9931</td>\n",
       "      <td>m</td>\n",
       "      <td>john</td>\n",
       "      <td>0.99</td>\n",
       "    </tr>\n",
       "    <tr>\n",
       "      <th>4</th>\n",
       "      <td>Cotroneo, Margaret</td>\n",
       "      <td>margaret</td>\n",
       "      <td></td>\n",
       "      <td>cotroneo</td>\n",
       "      <td>margaret cotroneo</td>\n",
       "      <td>f</td>\n",
       "      <td>f</td>\n",
       "      <td>1101</td>\n",
       "      <td>f</td>\n",
       "      <td>margaret</td>\n",
       "      <td>0.98</td>\n",
       "    </tr>\n",
       "  </tbody>\n",
       "</table>\n",
       "</div>"
      ],
      "text/plain": [
       "             raw_name first_name middle_name last_name          full_name  \\\n",
       "0         Thayer, Ann        ann                thayer         ann thayer   \n",
       "1       Chiesa, Paolo      paolo                chiesa       paolo chiesa   \n",
       "2     Abbate, Ernesto    ernesto                abbate     ernesto abbate   \n",
       "3    Epstein, John H.       john               epstein       john epstein   \n",
       "4  Cotroneo, Margaret   margaret              cotroneo  margaret cotroneo   \n",
       "\n",
       "  gender_raw gender_eval count gender_infered      name probability  \n",
       "0          u           u  1818              f       ann        0.99  \n",
       "1          m           m   781              m     paolo        0.99  \n",
       "2          m           m   381              m   ernesto           1  \n",
       "3          m           m  9931              m      john        0.99  \n",
       "4          f           f  1101              f  margaret        0.98  "
      ]
     },
     "execution_count": 7,
     "metadata": {},
     "output_type": "execute_result"
    }
   ],
   "source": [
    "df = pd.merge(df_raw, df_eval,  how='outer', left_on=cols, right_on=cols, suffixes=('_raw', '_eval'))\n",
    "df.head()"
   ]
  },
  {
   "cell_type": "code",
   "execution_count": 8,
   "metadata": {
    "collapsed": false
   },
   "outputs": [
    {
     "data": {
      "text/plain": [
       "574"
      ]
     },
     "execution_count": 8,
     "metadata": {},
     "output_type": "execute_result"
    }
   ],
   "source": [
    "len(df)"
   ]
  },
  {
   "cell_type": "code",
   "execution_count": 9,
   "metadata": {
    "collapsed": false
   },
   "outputs": [
    {
     "data": {
      "text/plain": [
       "567"
      ]
     },
     "execution_count": 9,
     "metadata": {},
     "output_type": "execute_result"
    }
   ],
   "source": [
    "len(df_raw)"
   ]
  },
  {
   "cell_type": "code",
   "execution_count": 10,
   "metadata": {
    "collapsed": false
   },
   "outputs": [
    {
     "data": {
      "text/plain": [
       "574"
      ]
     },
     "execution_count": 10,
     "metadata": {},
     "output_type": "execute_result"
    }
   ],
   "source": [
    "len(df_eval)"
   ]
  },
  {
   "cell_type": "code",
   "execution_count": 11,
   "metadata": {
    "collapsed": false
   },
   "outputs": [
    {
     "data": {
      "text/html": [
       "<div>\n",
       "<table border=\"1\" class=\"dataframe\">\n",
       "  <thead>\n",
       "    <tr style=\"text-align: right;\">\n",
       "      <th></th>\n",
       "      <th>raw_name</th>\n",
       "      <th>first_name</th>\n",
       "      <th>middle_name</th>\n",
       "      <th>last_name</th>\n",
       "      <th>full_name</th>\n",
       "      <th>gender_raw</th>\n",
       "      <th>gender_eval</th>\n",
       "      <th>count</th>\n",
       "      <th>gender_infered</th>\n",
       "      <th>name</th>\n",
       "      <th>probability</th>\n",
       "    </tr>\n",
       "  </thead>\n",
       "  <tbody>\n",
       "    <tr>\n",
       "      <th>14</th>\n",
       "      <td>Cash, Stephanie</td>\n",
       "      <td>stephanie</td>\n",
       "      <td></td>\n",
       "      <td>cash</td>\n",
       "      <td>stephanie cash</td>\n",
       "      <td>f</td>\n",
       "      <td>u</td>\n",
       "      <td>4114</td>\n",
       "      <td>f</td>\n",
       "      <td>stephanie</td>\n",
       "      <td>1</td>\n",
       "    </tr>\n",
       "    <tr>\n",
       "      <th>15</th>\n",
       "      <td>Cash, Stephanie</td>\n",
       "      <td>stephanie</td>\n",
       "      <td></td>\n",
       "      <td>cash</td>\n",
       "      <td>stephanie cash</td>\n",
       "      <td>f</td>\n",
       "      <td>u</td>\n",
       "      <td>4114</td>\n",
       "      <td>f</td>\n",
       "      <td>stephanie</td>\n",
       "      <td>1</td>\n",
       "    </tr>\n",
       "    <tr>\n",
       "      <th>17</th>\n",
       "      <td>Ebony, David</td>\n",
       "      <td>david</td>\n",
       "      <td></td>\n",
       "      <td>ebony</td>\n",
       "      <td>david ebony</td>\n",
       "      <td>m</td>\n",
       "      <td>m</td>\n",
       "      <td>12593</td>\n",
       "      <td>m</td>\n",
       "      <td>david</td>\n",
       "      <td>1</td>\n",
       "    </tr>\n",
       "    <tr>\n",
       "      <th>33</th>\n",
       "      <td>Shupnik, Margaret A.</td>\n",
       "      <td>margaret</td>\n",
       "      <td></td>\n",
       "      <td>shupnik</td>\n",
       "      <td>margaret shupnik</td>\n",
       "      <td>f</td>\n",
       "      <td>m</td>\n",
       "      <td>1101</td>\n",
       "      <td>f</td>\n",
       "      <td>margaret</td>\n",
       "      <td>0.98</td>\n",
       "    </tr>\n",
       "    <tr>\n",
       "      <th>97</th>\n",
       "      <td>Wang, Linda</td>\n",
       "      <td>linda</td>\n",
       "      <td></td>\n",
       "      <td>wang</td>\n",
       "      <td>linda wang</td>\n",
       "      <td>f</td>\n",
       "      <td>f</td>\n",
       "      <td>4323</td>\n",
       "      <td>f</td>\n",
       "      <td>linda</td>\n",
       "      <td>1</td>\n",
       "    </tr>\n",
       "    <tr>\n",
       "      <th>98</th>\n",
       "      <td>Wang, Linda</td>\n",
       "      <td>linda</td>\n",
       "      <td></td>\n",
       "      <td>wang</td>\n",
       "      <td>linda wang</td>\n",
       "      <td>f</td>\n",
       "      <td>f</td>\n",
       "      <td>4323</td>\n",
       "      <td>f</td>\n",
       "      <td>linda</td>\n",
       "      <td>1</td>\n",
       "    </tr>\n",
       "    <tr>\n",
       "      <th>244</th>\n",
       "      <td>Ouellette, Dan</td>\n",
       "      <td>dan</td>\n",
       "      <td></td>\n",
       "      <td>ouellette</td>\n",
       "      <td>dan ouellette</td>\n",
       "      <td>u</td>\n",
       "      <td>m</td>\n",
       "      <td>3240</td>\n",
       "      <td>m</td>\n",
       "      <td>dan</td>\n",
       "      <td>0.98</td>\n",
       "    </tr>\n",
       "  </tbody>\n",
       "</table>\n",
       "</div>"
      ],
      "text/plain": [
       "                 raw_name first_name middle_name  last_name         full_name  \\\n",
       "14        Cash, Stephanie  stephanie                   cash    stephanie cash   \n",
       "15        Cash, Stephanie  stephanie                   cash    stephanie cash   \n",
       "17           Ebony, David      david                  ebony       david ebony   \n",
       "33   Shupnik, Margaret A.   margaret                shupnik  margaret shupnik   \n",
       "97            Wang, Linda      linda                   wang        linda wang   \n",
       "98            Wang, Linda      linda                   wang        linda wang   \n",
       "244        Ouellette, Dan        dan              ouellette     dan ouellette   \n",
       "\n",
       "    gender_raw gender_eval  count gender_infered       name probability  \n",
       "14           f           u   4114              f  stephanie           1  \n",
       "15           f           u   4114              f  stephanie           1  \n",
       "17           m           m  12593              m      david           1  \n",
       "33           f           m   1101              f   margaret        0.98  \n",
       "97           f           f   4323              f      linda           1  \n",
       "98           f           f   4323              f      linda           1  \n",
       "244          u           m   3240              m        dan        0.98  "
      ]
     },
     "execution_count": 11,
     "metadata": {},
     "output_type": "execute_result"
    }
   ],
   "source": [
    "df[df.duplicated(subset='full_name')]"
   ]
  },
  {
   "cell_type": "code",
   "execution_count": 12,
   "metadata": {
    "collapsed": true
   },
   "outputs": [],
   "source": [
    "df = df.drop_duplicates(subset='full_name')"
   ]
  },
  {
   "cell_type": "code",
   "execution_count": 13,
   "metadata": {
    "collapsed": false
   },
   "outputs": [
    {
     "data": {
      "text/html": [
       "<div>\n",
       "<table border=\"1\" class=\"dataframe\">\n",
       "  <thead>\n",
       "    <tr style=\"text-align: right;\">\n",
       "      <th></th>\n",
       "      <th>raw_name</th>\n",
       "      <th>first_name</th>\n",
       "      <th>middle_name</th>\n",
       "      <th>last_name</th>\n",
       "      <th>full_name</th>\n",
       "      <th>gender_raw</th>\n",
       "      <th>gender_eval</th>\n",
       "      <th>count</th>\n",
       "      <th>gender_infered</th>\n",
       "      <th>name</th>\n",
       "      <th>probability</th>\n",
       "    </tr>\n",
       "  </thead>\n",
       "  <tbody>\n",
       "  </tbody>\n",
       "</table>\n",
       "</div>"
      ],
      "text/plain": [
       "Empty DataFrame\n",
       "Columns: [raw_name, first_name, middle_name, last_name, full_name, gender_raw, gender_eval, count, gender_infered, name, probability]\n",
       "Index: []"
      ]
     },
     "execution_count": 13,
     "metadata": {},
     "output_type": "execute_result"
    }
   ],
   "source": [
    "df[df.gender_raw != df.gender_eval]"
   ]
  },
  {
   "cell_type": "code",
   "execution_count": 14,
   "metadata": {
    "collapsed": false
   },
   "outputs": [],
   "source": [
    "df_eval.loc[499, 'gender'] = 'f'\n",
    "df_eval.loc[570, 'gender'] = 'f'"
   ]
  },
  {
   "cell_type": "code",
   "execution_count": 15,
   "metadata": {
    "collapsed": false
   },
   "outputs": [
    {
     "data": {
      "text/html": [
       "<div>\n",
       "<table border=\"1\" class=\"dataframe\">\n",
       "  <thead>\n",
       "    <tr style=\"text-align: right;\">\n",
       "      <th></th>\n",
       "      <th>raw_name</th>\n",
       "      <th>first_name</th>\n",
       "      <th>middle_name</th>\n",
       "      <th>last_name</th>\n",
       "      <th>full_name</th>\n",
       "      <th>gender</th>\n",
       "      <th>count</th>\n",
       "      <th>gender_infered</th>\n",
       "      <th>name</th>\n",
       "      <th>probability</th>\n",
       "    </tr>\n",
       "  </thead>\n",
       "  <tbody>\n",
       "  </tbody>\n",
       "</table>\n",
       "</div>"
      ],
      "text/plain": [
       "Empty DataFrame\n",
       "Columns: [raw_name, first_name, middle_name, last_name, full_name, gender, count, gender_infered, name, probability]\n",
       "Index: []"
      ]
     },
     "execution_count": 15,
     "metadata": {},
     "output_type": "execute_result"
    }
   ],
   "source": [
    "df_eval[df_eval.full_name=='samir isabelle amin']"
   ]
  },
  {
   "cell_type": "code",
   "execution_count": 16,
   "metadata": {
    "collapsed": false
   },
   "outputs": [
    {
     "data": {
      "text/html": [
       "<div>\n",
       "<table border=\"1\" class=\"dataframe\">\n",
       "  <thead>\n",
       "    <tr style=\"text-align: right;\">\n",
       "      <th></th>\n",
       "      <th>raw_name</th>\n",
       "      <th>first_name</th>\n",
       "      <th>middle_name</th>\n",
       "      <th>last_name</th>\n",
       "      <th>full_name</th>\n",
       "      <th>gender</th>\n",
       "    </tr>\n",
       "  </thead>\n",
       "  <tbody>\n",
       "    <tr>\n",
       "      <th>297</th>\n",
       "      <td>Amin, Samir</td>\n",
       "      <td>samir</td>\n",
       "      <td></td>\n",
       "      <td>amin</td>\n",
       "      <td>samir amin</td>\n",
       "      <td>m</td>\n",
       "    </tr>\n",
       "  </tbody>\n",
       "</table>\n",
       "</div>"
      ],
      "text/plain": [
       "        raw_name first_name middle_name last_name   full_name gender\n",
       "297  Amin, Samir      samir                  amin  samir amin      m"
      ]
     },
     "execution_count": 16,
     "metadata": {},
     "output_type": "execute_result"
    }
   ],
   "source": [
    "df_raw[df_raw.full_name=='samir amin']"
   ]
  },
  {
   "cell_type": "code",
   "execution_count": 17,
   "metadata": {
    "collapsed": false
   },
   "outputs": [],
   "source": [
    "df_eval.loc[298, 'raw_name'] = df_raw.loc[297].raw_name\n",
    "df_eval.loc[298, 'middle_name'] = df_raw.loc[297].middle_name\n",
    "df_eval.loc[298, 'full_name'] = df_raw.loc[297].full_name"
   ]
  },
  {
   "cell_type": "code",
   "execution_count": 18,
   "metadata": {
    "collapsed": false
   },
   "outputs": [],
   "source": [
    "df_eval = df_eval.drop_duplicates(subset='full_name')"
   ]
  },
  {
   "cell_type": "code",
   "execution_count": 19,
   "metadata": {
    "collapsed": false
   },
   "outputs": [],
   "source": [
    "df_eval.to_csv(path_to_eval_file,\n",
    "               quoting=csv.QUOTE_NONNUMERIC,\n",
    "               index=False)"
   ]
  },
  {
   "cell_type": "markdown",
   "metadata": {},
   "source": [
    "### Gender guesser"
   ]
  },
  {
   "cell_type": "code",
   "execution_count": 20,
   "metadata": {
    "collapsed": true
   },
   "outputs": [],
   "source": [
    "api = 'gender_guesser'\n",
    "test_data = 'test_data_genderizeR.csv'\n",
    "path_to_eval_file = ''.join(['../', api, '/', test_data.split('.csv')[0], '_', api, '.csv']) "
   ]
  },
  {
   "cell_type": "code",
   "execution_count": 21,
   "metadata": {
    "collapsed": true
   },
   "outputs": [],
   "source": [
    "df_raw = pd.read_csv(test_data)\n",
    "df_raw = df_raw.fillna('')\n",
    "df_eval = pd.read_csv(path_to_eval_file)\n",
    "df_eval = df_eval.fillna('')"
   ]
  },
  {
   "cell_type": "code",
   "execution_count": 22,
   "metadata": {
    "collapsed": false
   },
   "outputs": [
    {
     "data": {
      "text/html": [
       "<div>\n",
       "<table border=\"1\" class=\"dataframe\">\n",
       "  <thead>\n",
       "    <tr style=\"text-align: right;\">\n",
       "      <th></th>\n",
       "      <th>raw_name</th>\n",
       "      <th>first_name</th>\n",
       "      <th>middle_name</th>\n",
       "      <th>last_name</th>\n",
       "      <th>full_name</th>\n",
       "      <th>gender</th>\n",
       "    </tr>\n",
       "  </thead>\n",
       "  <tbody>\n",
       "    <tr>\n",
       "      <th>0</th>\n",
       "      <td>Thayer, Ann</td>\n",
       "      <td>ann</td>\n",
       "      <td></td>\n",
       "      <td>thayer</td>\n",
       "      <td>ann thayer</td>\n",
       "      <td>u</td>\n",
       "    </tr>\n",
       "    <tr>\n",
       "      <th>1</th>\n",
       "      <td>Chiesa, Paolo</td>\n",
       "      <td>paolo</td>\n",
       "      <td></td>\n",
       "      <td>chiesa</td>\n",
       "      <td>paolo chiesa</td>\n",
       "      <td>m</td>\n",
       "    </tr>\n",
       "    <tr>\n",
       "      <th>2</th>\n",
       "      <td>Abbate, Ernesto</td>\n",
       "      <td>ernesto</td>\n",
       "      <td></td>\n",
       "      <td>abbate</td>\n",
       "      <td>ernesto abbate</td>\n",
       "      <td>m</td>\n",
       "    </tr>\n",
       "    <tr>\n",
       "      <th>3</th>\n",
       "      <td>Epstein, John H.</td>\n",
       "      <td>john</td>\n",
       "      <td></td>\n",
       "      <td>epstein</td>\n",
       "      <td>john epstein</td>\n",
       "      <td>m</td>\n",
       "    </tr>\n",
       "    <tr>\n",
       "      <th>4</th>\n",
       "      <td>Cotroneo, Margaret</td>\n",
       "      <td>margaret</td>\n",
       "      <td></td>\n",
       "      <td>cotroneo</td>\n",
       "      <td>margaret cotroneo</td>\n",
       "      <td>f</td>\n",
       "    </tr>\n",
       "  </tbody>\n",
       "</table>\n",
       "</div>"
      ],
      "text/plain": [
       "             raw_name first_name middle_name last_name          full_name  \\\n",
       "0         Thayer, Ann        ann                thayer         ann thayer   \n",
       "1       Chiesa, Paolo      paolo                chiesa       paolo chiesa   \n",
       "2     Abbate, Ernesto    ernesto                abbate     ernesto abbate   \n",
       "3    Epstein, John H.       john               epstein       john epstein   \n",
       "4  Cotroneo, Margaret   margaret              cotroneo  margaret cotroneo   \n",
       "\n",
       "  gender  \n",
       "0      u  \n",
       "1      m  \n",
       "2      m  \n",
       "3      m  \n",
       "4      f  "
      ]
     },
     "execution_count": 22,
     "metadata": {},
     "output_type": "execute_result"
    }
   ],
   "source": [
    "df_raw.head()"
   ]
  },
  {
   "cell_type": "code",
   "execution_count": 23,
   "metadata": {
    "collapsed": false
   },
   "outputs": [
    {
     "data": {
      "text/html": [
       "<div>\n",
       "<table border=\"1\" class=\"dataframe\">\n",
       "  <thead>\n",
       "    <tr style=\"text-align: right;\">\n",
       "      <th></th>\n",
       "      <th>raw_name</th>\n",
       "      <th>first_name</th>\n",
       "      <th>middle_name</th>\n",
       "      <th>last_name</th>\n",
       "      <th>full_name</th>\n",
       "      <th>gender</th>\n",
       "      <th>gender_infered</th>\n",
       "      <th>response</th>\n",
       "    </tr>\n",
       "  </thead>\n",
       "  <tbody>\n",
       "    <tr>\n",
       "      <th>0</th>\n",
       "      <td>Thayer, Ann</td>\n",
       "      <td>ann</td>\n",
       "      <td></td>\n",
       "      <td>thayer</td>\n",
       "      <td>ann thayer</td>\n",
       "      <td>u</td>\n",
       "      <td>f</td>\n",
       "      <td>female</td>\n",
       "    </tr>\n",
       "    <tr>\n",
       "      <th>1</th>\n",
       "      <td>Chiesa, Paolo</td>\n",
       "      <td>paolo</td>\n",
       "      <td></td>\n",
       "      <td>chiesa</td>\n",
       "      <td>paolo chiesa</td>\n",
       "      <td>m</td>\n",
       "      <td>m</td>\n",
       "      <td>male</td>\n",
       "    </tr>\n",
       "    <tr>\n",
       "      <th>2</th>\n",
       "      <td>Abbate, Ernesto</td>\n",
       "      <td>ernesto</td>\n",
       "      <td></td>\n",
       "      <td>abbate</td>\n",
       "      <td>ernesto abbate</td>\n",
       "      <td>m</td>\n",
       "      <td>m</td>\n",
       "      <td>male</td>\n",
       "    </tr>\n",
       "    <tr>\n",
       "      <th>3</th>\n",
       "      <td>Epstein, John H.</td>\n",
       "      <td>john</td>\n",
       "      <td></td>\n",
       "      <td>epstein</td>\n",
       "      <td>john epstein</td>\n",
       "      <td>m</td>\n",
       "      <td>m</td>\n",
       "      <td>male</td>\n",
       "    </tr>\n",
       "    <tr>\n",
       "      <th>4</th>\n",
       "      <td>Cotroneo, Margaret</td>\n",
       "      <td>margaret</td>\n",
       "      <td></td>\n",
       "      <td>cotroneo</td>\n",
       "      <td>margaret cotroneo</td>\n",
       "      <td>f</td>\n",
       "      <td>f</td>\n",
       "      <td>female</td>\n",
       "    </tr>\n",
       "  </tbody>\n",
       "</table>\n",
       "</div>"
      ],
      "text/plain": [
       "             raw_name first_name middle_name last_name          full_name  \\\n",
       "0         Thayer, Ann        ann                thayer         ann thayer   \n",
       "1       Chiesa, Paolo      paolo                chiesa       paolo chiesa   \n",
       "2     Abbate, Ernesto    ernesto                abbate     ernesto abbate   \n",
       "3    Epstein, John H.       john               epstein       john epstein   \n",
       "4  Cotroneo, Margaret   margaret              cotroneo  margaret cotroneo   \n",
       "\n",
       "  gender gender_infered response  \n",
       "0      u              f   female  \n",
       "1      m              m     male  \n",
       "2      m              m     male  \n",
       "3      m              m     male  \n",
       "4      f              f   female  "
      ]
     },
     "execution_count": 23,
     "metadata": {},
     "output_type": "execute_result"
    }
   ],
   "source": [
    "df_eval.head()"
   ]
  },
  {
   "cell_type": "code",
   "execution_count": 24,
   "metadata": {
    "collapsed": false
   },
   "outputs": [],
   "source": [
    "#cols = list(df_raw.columns)\n",
    "cols = ['raw_name', 'first_name', 'middle_name', 'last_name', 'full_name']"
   ]
  },
  {
   "cell_type": "code",
   "execution_count": 25,
   "metadata": {
    "collapsed": false
   },
   "outputs": [
    {
     "data": {
      "text/html": [
       "<div>\n",
       "<table border=\"1\" class=\"dataframe\">\n",
       "  <thead>\n",
       "    <tr style=\"text-align: right;\">\n",
       "      <th></th>\n",
       "      <th>raw_name</th>\n",
       "      <th>first_name</th>\n",
       "      <th>middle_name</th>\n",
       "      <th>last_name</th>\n",
       "      <th>full_name</th>\n",
       "      <th>gender_raw</th>\n",
       "      <th>gender_eval</th>\n",
       "      <th>gender_infered</th>\n",
       "      <th>response</th>\n",
       "    </tr>\n",
       "  </thead>\n",
       "  <tbody>\n",
       "    <tr>\n",
       "      <th>0</th>\n",
       "      <td>Thayer, Ann</td>\n",
       "      <td>ann</td>\n",
       "      <td></td>\n",
       "      <td>thayer</td>\n",
       "      <td>ann thayer</td>\n",
       "      <td>u</td>\n",
       "      <td>u</td>\n",
       "      <td>f</td>\n",
       "      <td>female</td>\n",
       "    </tr>\n",
       "    <tr>\n",
       "      <th>1</th>\n",
       "      <td>Chiesa, Paolo</td>\n",
       "      <td>paolo</td>\n",
       "      <td></td>\n",
       "      <td>chiesa</td>\n",
       "      <td>paolo chiesa</td>\n",
       "      <td>m</td>\n",
       "      <td>m</td>\n",
       "      <td>m</td>\n",
       "      <td>male</td>\n",
       "    </tr>\n",
       "    <tr>\n",
       "      <th>2</th>\n",
       "      <td>Abbate, Ernesto</td>\n",
       "      <td>ernesto</td>\n",
       "      <td></td>\n",
       "      <td>abbate</td>\n",
       "      <td>ernesto abbate</td>\n",
       "      <td>m</td>\n",
       "      <td>m</td>\n",
       "      <td>m</td>\n",
       "      <td>male</td>\n",
       "    </tr>\n",
       "    <tr>\n",
       "      <th>3</th>\n",
       "      <td>Epstein, John H.</td>\n",
       "      <td>john</td>\n",
       "      <td></td>\n",
       "      <td>epstein</td>\n",
       "      <td>john epstein</td>\n",
       "      <td>m</td>\n",
       "      <td>m</td>\n",
       "      <td>m</td>\n",
       "      <td>male</td>\n",
       "    </tr>\n",
       "    <tr>\n",
       "      <th>4</th>\n",
       "      <td>Cotroneo, Margaret</td>\n",
       "      <td>margaret</td>\n",
       "      <td></td>\n",
       "      <td>cotroneo</td>\n",
       "      <td>margaret cotroneo</td>\n",
       "      <td>f</td>\n",
       "      <td>f</td>\n",
       "      <td>f</td>\n",
       "      <td>female</td>\n",
       "    </tr>\n",
       "  </tbody>\n",
       "</table>\n",
       "</div>"
      ],
      "text/plain": [
       "             raw_name first_name middle_name last_name          full_name  \\\n",
       "0         Thayer, Ann        ann                thayer         ann thayer   \n",
       "1       Chiesa, Paolo      paolo                chiesa       paolo chiesa   \n",
       "2     Abbate, Ernesto    ernesto                abbate     ernesto abbate   \n",
       "3    Epstein, John H.       john               epstein       john epstein   \n",
       "4  Cotroneo, Margaret   margaret              cotroneo  margaret cotroneo   \n",
       "\n",
       "  gender_raw gender_eval gender_infered response  \n",
       "0          u           u              f   female  \n",
       "1          m           m              m     male  \n",
       "2          m           m              m     male  \n",
       "3          m           m              m     male  \n",
       "4          f           f              f   female  "
      ]
     },
     "execution_count": 25,
     "metadata": {},
     "output_type": "execute_result"
    }
   ],
   "source": [
    "df = pd.merge(df_raw, df_eval,  how='outer', left_on=cols, right_on=cols, suffixes=('_raw', '_eval'))\n",
    "df.head()"
   ]
  },
  {
   "cell_type": "code",
   "execution_count": 26,
   "metadata": {
    "collapsed": false
   },
   "outputs": [
    {
     "data": {
      "text/plain": [
       "574"
      ]
     },
     "execution_count": 26,
     "metadata": {},
     "output_type": "execute_result"
    }
   ],
   "source": [
    "len(df)"
   ]
  },
  {
   "cell_type": "code",
   "execution_count": 27,
   "metadata": {
    "collapsed": false
   },
   "outputs": [
    {
     "data": {
      "text/plain": [
       "567"
      ]
     },
     "execution_count": 27,
     "metadata": {},
     "output_type": "execute_result"
    }
   ],
   "source": [
    "len(df_raw)"
   ]
  },
  {
   "cell_type": "code",
   "execution_count": 28,
   "metadata": {
    "collapsed": false
   },
   "outputs": [
    {
     "data": {
      "text/plain": [
       "574"
      ]
     },
     "execution_count": 28,
     "metadata": {},
     "output_type": "execute_result"
    }
   ],
   "source": [
    "len(df_eval)"
   ]
  },
  {
   "cell_type": "code",
   "execution_count": 29,
   "metadata": {
    "collapsed": false
   },
   "outputs": [
    {
     "data": {
      "text/html": [
       "<div>\n",
       "<table border=\"1\" class=\"dataframe\">\n",
       "  <thead>\n",
       "    <tr style=\"text-align: right;\">\n",
       "      <th></th>\n",
       "      <th>raw_name</th>\n",
       "      <th>first_name</th>\n",
       "      <th>middle_name</th>\n",
       "      <th>last_name</th>\n",
       "      <th>full_name</th>\n",
       "      <th>gender_raw</th>\n",
       "      <th>gender_eval</th>\n",
       "      <th>gender_infered</th>\n",
       "      <th>response</th>\n",
       "    </tr>\n",
       "  </thead>\n",
       "  <tbody>\n",
       "    <tr>\n",
       "      <th>14</th>\n",
       "      <td>Cash, Stephanie</td>\n",
       "      <td>stephanie</td>\n",
       "      <td></td>\n",
       "      <td>cash</td>\n",
       "      <td>stephanie cash</td>\n",
       "      <td>f</td>\n",
       "      <td>u</td>\n",
       "      <td>f</td>\n",
       "      <td>female</td>\n",
       "    </tr>\n",
       "    <tr>\n",
       "      <th>15</th>\n",
       "      <td>Cash, Stephanie</td>\n",
       "      <td>stephanie</td>\n",
       "      <td></td>\n",
       "      <td>cash</td>\n",
       "      <td>stephanie cash</td>\n",
       "      <td>f</td>\n",
       "      <td>u</td>\n",
       "      <td>f</td>\n",
       "      <td>female</td>\n",
       "    </tr>\n",
       "    <tr>\n",
       "      <th>17</th>\n",
       "      <td>Ebony, David</td>\n",
       "      <td>david</td>\n",
       "      <td></td>\n",
       "      <td>ebony</td>\n",
       "      <td>david ebony</td>\n",
       "      <td>m</td>\n",
       "      <td>m</td>\n",
       "      <td>m</td>\n",
       "      <td>male</td>\n",
       "    </tr>\n",
       "    <tr>\n",
       "      <th>33</th>\n",
       "      <td>Shupnik, Margaret A.</td>\n",
       "      <td>margaret</td>\n",
       "      <td></td>\n",
       "      <td>shupnik</td>\n",
       "      <td>margaret shupnik</td>\n",
       "      <td>f</td>\n",
       "      <td>m</td>\n",
       "      <td>f</td>\n",
       "      <td>female</td>\n",
       "    </tr>\n",
       "    <tr>\n",
       "      <th>97</th>\n",
       "      <td>Wang, Linda</td>\n",
       "      <td>linda</td>\n",
       "      <td></td>\n",
       "      <td>wang</td>\n",
       "      <td>linda wang</td>\n",
       "      <td>f</td>\n",
       "      <td>f</td>\n",
       "      <td>f</td>\n",
       "      <td>female</td>\n",
       "    </tr>\n",
       "    <tr>\n",
       "      <th>98</th>\n",
       "      <td>Wang, Linda</td>\n",
       "      <td>linda</td>\n",
       "      <td></td>\n",
       "      <td>wang</td>\n",
       "      <td>linda wang</td>\n",
       "      <td>f</td>\n",
       "      <td>f</td>\n",
       "      <td>f</td>\n",
       "      <td>female</td>\n",
       "    </tr>\n",
       "    <tr>\n",
       "      <th>244</th>\n",
       "      <td>Ouellette, Dan</td>\n",
       "      <td>dan</td>\n",
       "      <td></td>\n",
       "      <td>ouellette</td>\n",
       "      <td>dan ouellette</td>\n",
       "      <td>u</td>\n",
       "      <td>m</td>\n",
       "      <td>m</td>\n",
       "      <td>male</td>\n",
       "    </tr>\n",
       "  </tbody>\n",
       "</table>\n",
       "</div>"
      ],
      "text/plain": [
       "                 raw_name first_name middle_name  last_name         full_name  \\\n",
       "14        Cash, Stephanie  stephanie                   cash    stephanie cash   \n",
       "15        Cash, Stephanie  stephanie                   cash    stephanie cash   \n",
       "17           Ebony, David      david                  ebony       david ebony   \n",
       "33   Shupnik, Margaret A.   margaret                shupnik  margaret shupnik   \n",
       "97            Wang, Linda      linda                   wang        linda wang   \n",
       "98            Wang, Linda      linda                   wang        linda wang   \n",
       "244        Ouellette, Dan        dan              ouellette     dan ouellette   \n",
       "\n",
       "    gender_raw gender_eval gender_infered response  \n",
       "14           f           u              f   female  \n",
       "15           f           u              f   female  \n",
       "17           m           m              m     male  \n",
       "33           f           m              f   female  \n",
       "97           f           f              f   female  \n",
       "98           f           f              f   female  \n",
       "244          u           m              m     male  "
      ]
     },
     "execution_count": 29,
     "metadata": {},
     "output_type": "execute_result"
    }
   ],
   "source": [
    "df[df.duplicated(subset='full_name')]"
   ]
  },
  {
   "cell_type": "code",
   "execution_count": 30,
   "metadata": {
    "collapsed": true
   },
   "outputs": [],
   "source": [
    "df = df.drop_duplicates(subset='full_name')"
   ]
  },
  {
   "cell_type": "code",
   "execution_count": 31,
   "metadata": {
    "collapsed": false
   },
   "outputs": [
    {
     "data": {
      "text/html": [
       "<div>\n",
       "<table border=\"1\" class=\"dataframe\">\n",
       "  <thead>\n",
       "    <tr style=\"text-align: right;\">\n",
       "      <th></th>\n",
       "      <th>raw_name</th>\n",
       "      <th>first_name</th>\n",
       "      <th>middle_name</th>\n",
       "      <th>last_name</th>\n",
       "      <th>full_name</th>\n",
       "      <th>gender_raw</th>\n",
       "      <th>gender_eval</th>\n",
       "      <th>gender_infered</th>\n",
       "      <th>response</th>\n",
       "    </tr>\n",
       "  </thead>\n",
       "  <tbody>\n",
       "  </tbody>\n",
       "</table>\n",
       "</div>"
      ],
      "text/plain": [
       "Empty DataFrame\n",
       "Columns: [raw_name, first_name, middle_name, last_name, full_name, gender_raw, gender_eval, gender_infered, response]\n",
       "Index: []"
      ]
     },
     "execution_count": 31,
     "metadata": {},
     "output_type": "execute_result"
    }
   ],
   "source": [
    "df[df.gender_raw != df.gender_eval]"
   ]
  },
  {
   "cell_type": "code",
   "execution_count": 32,
   "metadata": {
    "collapsed": false
   },
   "outputs": [],
   "source": [
    "df_eval.loc[499, 'gender'] = 'f'\n",
    "df_eval.loc[570, 'gender'] = 'f'"
   ]
  },
  {
   "cell_type": "code",
   "execution_count": 33,
   "metadata": {
    "collapsed": false
   },
   "outputs": [
    {
     "data": {
      "text/html": [
       "<div>\n",
       "<table border=\"1\" class=\"dataframe\">\n",
       "  <thead>\n",
       "    <tr style=\"text-align: right;\">\n",
       "      <th></th>\n",
       "      <th>raw_name</th>\n",
       "      <th>first_name</th>\n",
       "      <th>middle_name</th>\n",
       "      <th>last_name</th>\n",
       "      <th>full_name</th>\n",
       "      <th>gender</th>\n",
       "      <th>gender_infered</th>\n",
       "      <th>response</th>\n",
       "    </tr>\n",
       "  </thead>\n",
       "  <tbody>\n",
       "  </tbody>\n",
       "</table>\n",
       "</div>"
      ],
      "text/plain": [
       "Empty DataFrame\n",
       "Columns: [raw_name, first_name, middle_name, last_name, full_name, gender, gender_infered, response]\n",
       "Index: []"
      ]
     },
     "execution_count": 33,
     "metadata": {},
     "output_type": "execute_result"
    }
   ],
   "source": [
    "df_eval[df_eval.full_name=='samir isabelle amin']"
   ]
  },
  {
   "cell_type": "code",
   "execution_count": 34,
   "metadata": {
    "collapsed": false
   },
   "outputs": [
    {
     "data": {
      "text/html": [
       "<div>\n",
       "<table border=\"1\" class=\"dataframe\">\n",
       "  <thead>\n",
       "    <tr style=\"text-align: right;\">\n",
       "      <th></th>\n",
       "      <th>raw_name</th>\n",
       "      <th>first_name</th>\n",
       "      <th>middle_name</th>\n",
       "      <th>last_name</th>\n",
       "      <th>full_name</th>\n",
       "      <th>gender</th>\n",
       "    </tr>\n",
       "  </thead>\n",
       "  <tbody>\n",
       "    <tr>\n",
       "      <th>297</th>\n",
       "      <td>Amin, Samir</td>\n",
       "      <td>samir</td>\n",
       "      <td></td>\n",
       "      <td>amin</td>\n",
       "      <td>samir amin</td>\n",
       "      <td>m</td>\n",
       "    </tr>\n",
       "  </tbody>\n",
       "</table>\n",
       "</div>"
      ],
      "text/plain": [
       "        raw_name first_name middle_name last_name   full_name gender\n",
       "297  Amin, Samir      samir                  amin  samir amin      m"
      ]
     },
     "execution_count": 34,
     "metadata": {},
     "output_type": "execute_result"
    }
   ],
   "source": [
    "df_raw[df_raw.full_name=='samir amin']"
   ]
  },
  {
   "cell_type": "code",
   "execution_count": 35,
   "metadata": {
    "collapsed": false
   },
   "outputs": [],
   "source": [
    "df_eval.loc[298, 'raw_name'] = df_raw.loc[297].raw_name\n",
    "df_eval.loc[298, 'middle_name'] = df_raw.loc[297].middle_name\n",
    "df_eval.loc[298, 'full_name'] = df_raw.loc[297].full_name"
   ]
  },
  {
   "cell_type": "code",
   "execution_count": 36,
   "metadata": {
    "collapsed": false
   },
   "outputs": [],
   "source": [
    "df_eval = df_eval.drop_duplicates(subset='full_name')"
   ]
  },
  {
   "cell_type": "code",
   "execution_count": 37,
   "metadata": {
    "collapsed": false
   },
   "outputs": [],
   "source": [
    "df_eval.to_csv(path_to_eval_file,\n",
    "               quoting=csv.QUOTE_NONNUMERIC,\n",
    "               index=False)"
   ]
  },
  {
   "cell_type": "code",
   "execution_count": null,
   "metadata": {
    "collapsed": true
   },
   "outputs": [],
   "source": []
  }
 ],
 "metadata": {
  "kernelspec": {
   "display_name": "Python 3",
   "language": "python",
   "name": "python3"
  },
  "language_info": {
   "codemirror_mode": {
    "name": "ipython",
    "version": 3
   },
   "file_extension": ".py",
   "mimetype": "text/x-python",
   "name": "python",
   "nbconvert_exporter": "python",
   "pygments_lexer": "ipython3",
   "version": "3.6.0"
  }
 },
 "nbformat": 4,
 "nbformat_minor": 2
}
