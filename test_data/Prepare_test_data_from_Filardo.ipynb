{
 "cells": [
  {
   "cell_type": "markdown",
   "metadata": {},
   "source": [
    "## Match Filardo data to PubMed and extract author:gender data"
   ]
  },
  {
   "cell_type": "code",
   "execution_count": 1,
   "metadata": {
    "collapsed": true
   },
   "outputs": [],
   "source": [
    "from Bio import Entrez\n",
    "import pandas as pd\n",
    "import string\n",
    "import time\n",
    "import random\n",
    "import csv\n",
    "import difflib"
   ]
  },
  {
   "cell_type": "code",
   "execution_count": 2,
   "metadata": {
    "collapsed": true
   },
   "outputs": [],
   "source": [
    "# Uncomment to display full text in cells\n",
    "pd.set_option('display.max_colwidth', -1)"
   ]
  },
  {
   "cell_type": "code",
   "execution_count": 3,
   "metadata": {
    "collapsed": true
   },
   "outputs": [],
   "source": [
    "# Code from https://marcobonzanini.com/2015/01/12/searching-pubmed-with-python/\n",
    "def search(query):\n",
    "    Entrez.email = 'lucia.santamaria@ymail.com'\n",
    "    handle = Entrez.esearch(db='pubmed', \n",
    "                            sort='relevance', \n",
    "                            retmax='20',\n",
    "                            retmode='xml', \n",
    "                            term=query)\n",
    "    results = Entrez.read(handle)\n",
    "    return results\n",
    "\n",
    "def fetch_details(id_list):\n",
    "    ids = ','.join(id_list)\n",
    "    Entrez.email = 'lucia.santamaria@ymail.com'\n",
    "    handle = Entrez.efetch(db='pubmed',\n",
    "                           retmode='xml',\n",
    "                           id=ids)\n",
    "    results = Entrez.read(handle)\n",
    "    return results"
   ]
  },
  {
   "cell_type": "code",
   "execution_count": 4,
   "metadata": {
    "collapsed": false
   },
   "outputs": [
    {
     "data": {
      "text/html": [
       "<div>\n",
       "<table border=\"1\" class=\"dataframe\">\n",
       "  <thead>\n",
       "    <tr style=\"text-align: right;\">\n",
       "      <th></th>\n",
       "      <th>Article_ID</th>\n",
       "      <th>Full_Title</th>\n",
       "      <th>Link_to_Article</th>\n",
       "      <th>Journal</th>\n",
       "      <th>Year</th>\n",
       "      <th>Month</th>\n",
       "      <th>First Author Gender</th>\n",
       "    </tr>\n",
       "  </thead>\n",
       "  <tbody>\n",
       "    <tr>\n",
       "      <th>0</th>\n",
       "      <td>Aaby et al. (2010)</td>\n",
       "      <td>Non-specific effects of standard measles vaccine at 4.5 and 9 months of age on childhood mortality: randomised controlled trial</td>\n",
       "      <td>NaN</td>\n",
       "      <td>BMJ</td>\n",
       "      <td>2010</td>\n",
       "      <td>12 - Dec</td>\n",
       "      <td>Male</td>\n",
       "    </tr>\n",
       "    <tr>\n",
       "      <th>1</th>\n",
       "      <td>Aaron et al. (2007)</td>\n",
       "      <td>Tiotropium in Combination with Placebo| Salmeterol| or Fluticasone–Salmeterol for Treatment of Chronic Obstructive Pulmonary Disease: A Randomized Trial</td>\n",
       "      <td>http://annals.org/article.aspx?articleid=734106</td>\n",
       "      <td>Annals of Internal Medicine</td>\n",
       "      <td>2007</td>\n",
       "      <td>04 - Apr</td>\n",
       "      <td>Male</td>\n",
       "    </tr>\n",
       "    <tr>\n",
       "      <th>2</th>\n",
       "      <td>Abbott et al. (2004)</td>\n",
       "      <td>?-Blocker Use in Long-term Dialysis Patients Association With Hospitalized Heart Failure and Mortality</td>\n",
       "      <td>http://archinte.jamanetwork.com/article.aspx?articleid=217784</td>\n",
       "      <td>Archives of Internal Medicine</td>\n",
       "      <td>2004</td>\n",
       "      <td>12 - Dec</td>\n",
       "      <td>Male</td>\n",
       "    </tr>\n",
       "    <tr>\n",
       "      <th>3</th>\n",
       "      <td>Abdulla et al. (2008)</td>\n",
       "      <td>Safety and Immunogenicity of RTS|S/AS02D Malaria Vaccine in Infants</td>\n",
       "      <td>http://www.nejm.org/doi/pdf/10.1056/NEJMoa0807773</td>\n",
       "      <td>NEJM</td>\n",
       "      <td>2008</td>\n",
       "      <td>12 - Dec</td>\n",
       "      <td>Male</td>\n",
       "    </tr>\n",
       "    <tr>\n",
       "      <th>4</th>\n",
       "      <td>Aboa-Eboule et al. (2007)</td>\n",
       "      <td>Job Strain and Risk of Acute Recurrent Coronary Heart Disease Events</td>\n",
       "      <td>http://jama.jamanetwork.com/article.aspx?articleid=209121</td>\n",
       "      <td>JAMA</td>\n",
       "      <td>2007</td>\n",
       "      <td>10 - Oct</td>\n",
       "      <td>Female</td>\n",
       "    </tr>\n",
       "  </tbody>\n",
       "</table>\n",
       "</div>"
      ],
      "text/plain": [
       "                  Article_ID  \\\n",
       "0  Aaby et al. (2010)          \n",
       "1  Aaron et al. (2007)         \n",
       "2  Abbott et al. (2004)        \n",
       "3  Abdulla et al. (2008)       \n",
       "4  Aboa-Eboule et al. (2007)   \n",
       "\n",
       "                                                                                                                                                 Full_Title  \\\n",
       "0  Non-specific effects of standard measles vaccine at 4.5 and 9 months of age on childhood mortality: randomised controlled trial                            \n",
       "1  Tiotropium in Combination with Placebo| Salmeterol| or Fluticasone–Salmeterol for Treatment of Chronic Obstructive Pulmonary Disease: A Randomized Trial   \n",
       "2  ?-Blocker Use in Long-term Dialysis Patients Association With Hospitalized Heart Failure and Mortality                                                     \n",
       "3  Safety and Immunogenicity of RTS|S/AS02D Malaria Vaccine in Infants                                                                                        \n",
       "4  Job Strain and Risk of Acute Recurrent Coronary Heart Disease Events                                                                                       \n",
       "\n",
       "                                                 Link_to_Article  \\\n",
       "0  NaN                                                             \n",
       "1  http://annals.org/article.aspx?articleid=734106                 \n",
       "2  http://archinte.jamanetwork.com/article.aspx?articleid=217784   \n",
       "3  http://www.nejm.org/doi/pdf/10.1056/NEJMoa0807773               \n",
       "4  http://jama.jamanetwork.com/article.aspx?articleid=209121       \n",
       "\n",
       "                         Journal  Year     Month First Author Gender  \n",
       "0  BMJ                            2010  12 - Dec  Male                \n",
       "1  Annals of Internal Medicine    2007  04 - Apr  Male                \n",
       "2  Archives of Internal Medicine  2004  12 - Dec  Male                \n",
       "3  NEJM                           2008  12 - Dec  Male                \n",
       "4  JAMA                           2007  10 - Oct  Female              "
      ]
     },
     "execution_count": 4,
     "metadata": {},
     "output_type": "execute_result"
    }
   ],
   "source": [
    "df = pd.read_excel('Filardo_testdata.xlsx')\n",
    "df.head()"
   ]
  },
  {
   "cell_type": "code",
   "execution_count": 5,
   "metadata": {
    "collapsed": true
   },
   "outputs": [],
   "source": [
    "def build_pubmed_query(row):\n",
    "    # Extract first author, year\n",
    "    # Remove final year and take everything before et al.\n",
    "    author = ' '.join(row['Article_ID'].split()[:-1]).split('et al')[0].strip()\n",
    "    collaboration_words = ['group', 'collaboration']\n",
    "    if len(author.split()) > 3 or any(word in author.lower() for word in collaboration_words):\n",
    "        # If author name has more than 3 words or it contains the coll words it's likely a collaboration - skip\n",
    "        author = ''\n",
    "    year = row['Year']\n",
    "    # Process title -> remove punctuation and short words\n",
    "    title = row['Full_Title'].translate(str.maketrans(string.punctuation, ' '*len(string.punctuation)))\n",
    "    shorttitle = ' '.join([t for t in title.split() if len(t)>=5])\n",
    "    return ' '.join([author, str(year), shorttitle]).strip()"
   ]
  },
  {
   "cell_type": "code",
   "execution_count": 6,
   "metadata": {
    "collapsed": false
   },
   "outputs": [
    {
     "data": {
      "text/html": [
       "<div>\n",
       "<table border=\"1\" class=\"dataframe\">\n",
       "  <thead>\n",
       "    <tr style=\"text-align: right;\">\n",
       "      <th></th>\n",
       "      <th>Article_ID</th>\n",
       "      <th>Full_Title</th>\n",
       "      <th>Link_to_Article</th>\n",
       "      <th>Journal</th>\n",
       "      <th>Year</th>\n",
       "      <th>Month</th>\n",
       "      <th>First Author Gender</th>\n",
       "      <th>pubmed_query</th>\n",
       "    </tr>\n",
       "  </thead>\n",
       "  <tbody>\n",
       "    <tr>\n",
       "      <th>0</th>\n",
       "      <td>Aaby et al. (2010)</td>\n",
       "      <td>Non-specific effects of standard measles vaccine at 4.5 and 9 months of age on childhood mortality: randomised controlled trial</td>\n",
       "      <td>NaN</td>\n",
       "      <td>BMJ</td>\n",
       "      <td>2010</td>\n",
       "      <td>12 - Dec</td>\n",
       "      <td>Male</td>\n",
       "      <td>Aaby 2010 specific effects standard measles vaccine months childhood mortality randomised controlled trial</td>\n",
       "    </tr>\n",
       "    <tr>\n",
       "      <th>1</th>\n",
       "      <td>Aaron et al. (2007)</td>\n",
       "      <td>Tiotropium in Combination with Placebo| Salmeterol| or Fluticasone–Salmeterol for Treatment of Chronic Obstructive Pulmonary Disease: A Randomized Trial</td>\n",
       "      <td>http://annals.org/article.aspx?articleid=734106</td>\n",
       "      <td>Annals of Internal Medicine</td>\n",
       "      <td>2007</td>\n",
       "      <td>04 - Apr</td>\n",
       "      <td>Male</td>\n",
       "      <td>Aaron 2007 Tiotropium Combination Placebo Salmeterol Fluticasone–Salmeterol Treatment Chronic Obstructive Pulmonary Disease Randomized Trial</td>\n",
       "    </tr>\n",
       "    <tr>\n",
       "      <th>2</th>\n",
       "      <td>Abbott et al. (2004)</td>\n",
       "      <td>?-Blocker Use in Long-term Dialysis Patients Association With Hospitalized Heart Failure and Mortality</td>\n",
       "      <td>http://archinte.jamanetwork.com/article.aspx?articleid=217784</td>\n",
       "      <td>Archives of Internal Medicine</td>\n",
       "      <td>2004</td>\n",
       "      <td>12 - Dec</td>\n",
       "      <td>Male</td>\n",
       "      <td>Abbott 2004 Blocker Dialysis Patients Association Hospitalized Heart Failure Mortality</td>\n",
       "    </tr>\n",
       "    <tr>\n",
       "      <th>3</th>\n",
       "      <td>Abdulla et al. (2008)</td>\n",
       "      <td>Safety and Immunogenicity of RTS|S/AS02D Malaria Vaccine in Infants</td>\n",
       "      <td>http://www.nejm.org/doi/pdf/10.1056/NEJMoa0807773</td>\n",
       "      <td>NEJM</td>\n",
       "      <td>2008</td>\n",
       "      <td>12 - Dec</td>\n",
       "      <td>Male</td>\n",
       "      <td>Abdulla 2008 Safety Immunogenicity AS02D Malaria Vaccine Infants</td>\n",
       "    </tr>\n",
       "    <tr>\n",
       "      <th>4</th>\n",
       "      <td>Aboa-Eboule et al. (2007)</td>\n",
       "      <td>Job Strain and Risk of Acute Recurrent Coronary Heart Disease Events</td>\n",
       "      <td>http://jama.jamanetwork.com/article.aspx?articleid=209121</td>\n",
       "      <td>JAMA</td>\n",
       "      <td>2007</td>\n",
       "      <td>10 - Oct</td>\n",
       "      <td>Female</td>\n",
       "      <td>Aboa-Eboule 2007 Strain Acute Recurrent Coronary Heart Disease Events</td>\n",
       "    </tr>\n",
       "  </tbody>\n",
       "</table>\n",
       "</div>"
      ],
      "text/plain": [
       "                  Article_ID  \\\n",
       "0  Aaby et al. (2010)          \n",
       "1  Aaron et al. (2007)         \n",
       "2  Abbott et al. (2004)        \n",
       "3  Abdulla et al. (2008)       \n",
       "4  Aboa-Eboule et al. (2007)   \n",
       "\n",
       "                                                                                                                                                 Full_Title  \\\n",
       "0  Non-specific effects of standard measles vaccine at 4.5 and 9 months of age on childhood mortality: randomised controlled trial                            \n",
       "1  Tiotropium in Combination with Placebo| Salmeterol| or Fluticasone–Salmeterol for Treatment of Chronic Obstructive Pulmonary Disease: A Randomized Trial   \n",
       "2  ?-Blocker Use in Long-term Dialysis Patients Association With Hospitalized Heart Failure and Mortality                                                     \n",
       "3  Safety and Immunogenicity of RTS|S/AS02D Malaria Vaccine in Infants                                                                                        \n",
       "4  Job Strain and Risk of Acute Recurrent Coronary Heart Disease Events                                                                                       \n",
       "\n",
       "                                                 Link_to_Article  \\\n",
       "0  NaN                                                             \n",
       "1  http://annals.org/article.aspx?articleid=734106                 \n",
       "2  http://archinte.jamanetwork.com/article.aspx?articleid=217784   \n",
       "3  http://www.nejm.org/doi/pdf/10.1056/NEJMoa0807773               \n",
       "4  http://jama.jamanetwork.com/article.aspx?articleid=209121       \n",
       "\n",
       "                         Journal  Year     Month First Author Gender  \\\n",
       "0  BMJ                            2010  12 - Dec  Male                 \n",
       "1  Annals of Internal Medicine    2007  04 - Apr  Male                 \n",
       "2  Archives of Internal Medicine  2004  12 - Dec  Male                 \n",
       "3  NEJM                           2008  12 - Dec  Male                 \n",
       "4  JAMA                           2007  10 - Oct  Female               \n",
       "\n",
       "                                                                                                                                   pubmed_query  \n",
       "0  Aaby 2010 specific effects standard measles vaccine months childhood mortality randomised controlled trial                                    \n",
       "1  Aaron 2007 Tiotropium Combination Placebo Salmeterol Fluticasone–Salmeterol Treatment Chronic Obstructive Pulmonary Disease Randomized Trial  \n",
       "2  Abbott 2004 Blocker Dialysis Patients Association Hospitalized Heart Failure Mortality                                                        \n",
       "3  Abdulla 2008 Safety Immunogenicity AS02D Malaria Vaccine Infants                                                                              \n",
       "4  Aboa-Eboule 2007 Strain Acute Recurrent Coronary Heart Disease Events                                                                         "
      ]
     },
     "execution_count": 6,
     "metadata": {},
     "output_type": "execute_result"
    }
   ],
   "source": [
    "df['pubmed_query'] = df.apply(lambda r: build_pubmed_query(r), axis=1)\n",
    "df.head()"
   ]
  },
  {
   "cell_type": "code",
   "execution_count": 7,
   "metadata": {
    "collapsed": true
   },
   "outputs": [],
   "source": [
    "def query_pubmed(query, title):\n",
    "    results = search(query)\n",
    "    if results['Count'] == '1':\n",
    "        # If search returned a unique item the matching is straightforward\n",
    "        paper = fetch_details(results['IdList'])\n",
    "        pubmed_id = int(results['IdList'][0])\n",
    "        author = paper['PubmedArticle'][0]['MedlineCitation']['Article']['AuthorList'][0]\n",
    "    elif int(results['Count']) > 1 and int(results['Count']) <= 10:\n",
    "        # If multiple papers (but less than 10) are returned, we compare titles and find the closest\n",
    "        pubmed_ids = results['IdList']\n",
    "        papers = fetch_details(pubmed_ids)\n",
    "        titles = [p['MedlineCitation']['Article']['ArticleTitle'] for p in papers['PubmedArticle']]\n",
    "        authors = [p['MedlineCitation']['Article']['AuthorList'] for p in papers['PubmedArticle']]\n",
    "        to_match_title = title\n",
    "        # Compare each of the titles with the original one\n",
    "        scores = [(pid, author, difflib.SequenceMatcher(None, to_match_title.lower(), tit.lower()).ratio()) \\\n",
    "                  for (pid, author, tit) in zip(pubmed_ids, authors, titles)]\n",
    "        # The matched article is that with the highest matching score\n",
    "        matched = max(scores, key=lambda x:x[2])\n",
    "        pubmed_id = int(matched[0])\n",
    "        author = matched[1][0]\n",
    "    else:\n",
    "        return 0, None\n",
    "    return pubmed_id, author"
   ]
  },
  {
   "cell_type": "code",
   "execution_count": 8,
   "metadata": {
    "collapsed": false
   },
   "outputs": [
    {
     "data": {
      "text/plain": [
       "'Aaby 2010 specific effects standard measles vaccine months childhood mortality randomised controlled trial'"
      ]
     },
     "execution_count": 8,
     "metadata": {},
     "output_type": "execute_result"
    }
   ],
   "source": [
    "df.pubmed_query[0]"
   ]
  },
  {
   "cell_type": "code",
   "execution_count": 9,
   "metadata": {
    "collapsed": false
   },
   "outputs": [
    {
     "data": {
      "text/plain": [
       "(21118875,\n",
       " DictElement({'Identifier': [], 'AffiliationInfo': [{'Identifier': [], 'Affiliation': 'Bandim Health Project, Indepth Network, Bissau, Guinea-Bissau. p.aaby@bandim.org'}], 'LastName': 'Aaby', 'ForeName': 'Peter', 'Initials': 'P'}, attributes={'ValidYN': 'Y'}))"
      ]
     },
     "execution_count": 9,
     "metadata": {},
     "output_type": "execute_result"
    }
   ],
   "source": [
    "query_pubmed(df.pubmed_query[0], df.Full_Title[0])"
   ]
  },
  {
   "cell_type": "markdown",
   "metadata": {},
   "source": [
    "### Do not run this unless new results needed - read from file (section below) instead. API has usage limitations"
   ]
  },
  {
   "cell_type": "code",
   "execution_count": 10,
   "metadata": {
    "collapsed": false
   },
   "outputs": [
    {
     "name": "stdout",
     "output_type": "stream",
     "text": [
      "Queried 0 entries\n",
      "Queried 100 entries\n",
      "Queried 200 entries\n",
      "Queried 300 entries\n",
      "Queried 400 entries\n",
      "Queried 500 entries\n",
      "Queried 600 entries\n",
      "Queried 700 entries\n",
      "Queried 800 entries\n",
      "Queried 900 entries\n",
      "Queried 1000 entries\n",
      "Queried 1100 entries\n",
      "Queried 1200 entries\n",
      "Queried 1300 entries\n",
      "Queried 1400 entries\n",
      "Queried 1500 entries\n",
      "Queried 1600 entries\n",
      "Queried 1700 entries\n",
      "Queried 1800 entries\n",
      "Queried 1900 entries\n",
      "Queried 2000 entries\n",
      "Queried 2100 entries\n",
      "Queried 2200 entries\n",
      "Queried 2300 entries\n",
      "Queried 2400 entries\n",
      "Queried 2500 entries\n",
      "Queried 2600 entries\n",
      "Queried 2700 entries\n",
      "Queried 2800 entries\n",
      "Queried 2900 entries\n",
      "Queried 3000 entries\n",
      "Queried 3100 entries\n",
      "Queried 3200 entries\n"
     ]
    }
   ],
   "source": [
    "# Run PubMed queries sequentially\n",
    "# Sleep to avoid hitting the API too often. \n",
    "# Guidelines: https://www.ncbi.nlm.nih.gov/books/NBK25497/#chapter2.Usage_Guidelines_and_Requiremen\n",
    "# Store failures for further retrieval\n",
    "failed = []\n",
    "for i, row in df.iterrows():\n",
    "    if i % 100 == 0:\n",
    "        print('Queried {} entries'.format(i))\n",
    "    # Sleep 0 or 1 sec each time randomly\n",
    "    time.sleep(random.randint(0,1))\n",
    "    try:\n",
    "        pubmed_id, author = query_pubmed(row['pubmed_query'], row['Full_Title'])\n",
    "        df.loc[i,'pubmed_id'], df.loc[i,'ForeName'], df.loc[i,'LastName'] = pubmed_id, author['ForeName'], author['LastName']\n",
    "    except:\n",
    "        failed.append(i)"
   ]
  },
  {
   "cell_type": "code",
   "execution_count": 15,
   "metadata": {
    "collapsed": false,
    "scrolled": false
   },
   "outputs": [
    {
     "data": {
      "text/html": [
       "<div>\n",
       "<table border=\"1\" class=\"dataframe\">\n",
       "  <thead>\n",
       "    <tr style=\"text-align: right;\">\n",
       "      <th></th>\n",
       "      <th>Article_ID</th>\n",
       "      <th>Full_Title</th>\n",
       "      <th>Link_to_Article</th>\n",
       "      <th>Journal</th>\n",
       "      <th>Year</th>\n",
       "      <th>Month</th>\n",
       "      <th>First Author Gender</th>\n",
       "      <th>pubmed_query</th>\n",
       "      <th>pubmed_id</th>\n",
       "      <th>ForeName</th>\n",
       "      <th>LastName</th>\n",
       "    </tr>\n",
       "  </thead>\n",
       "  <tbody>\n",
       "    <tr>\n",
       "      <th>13</th>\n",
       "      <td>ACTIVE Writing Group (2006)</td>\n",
       "      <td>Clopidogrel plus aspirin versus oral anticoagulation for atrial fibrillation in the Atrial fibrillation Clopidogrel Trial with Irbesartan for prevention of Vascular Events (ACTIVE W): a randomised controlled trial</td>\n",
       "      <td>http://www.thelancet.com/journals/lancet/article/PIIS0140-6736(06)68845-4/abstract</td>\n",
       "      <td>The Lancet</td>\n",
       "      <td>2006</td>\n",
       "      <td>06 - Jun</td>\n",
       "      <td>Unknown</td>\n",
       "      <td>2006 Clopidogrel aspirin versus anticoagulation atrial fibrillation Atrial fibrillation Clopidogrel Trial Irbesartan prevention Vascular Events ACTIVE randomised controlled trial</td>\n",
       "      <td>NaN</td>\n",
       "      <td>NaN</td>\n",
       "      <td>NaN</td>\n",
       "    </tr>\n",
       "    <tr>\n",
       "      <th>34</th>\n",
       "      <td>Albalak et al. (2007)</td>\n",
       "      <td>Rachel Albalak| PhD; Richard J. O’Brien| MD; J. Steve Kammerer| MBA; Sean M. O’Brien| PhD; Suzanne M. Marks| MPH| MA; Kenneth G. Castro| MD; Marisa Moore| MD</td>\n",
       "      <td>http://archinte.jamanetwork.com/article.aspx?articleid=770021</td>\n",
       "      <td>Archives of Internal Medicine</td>\n",
       "      <td>2007</td>\n",
       "      <td>12 - Dec</td>\n",
       "      <td>Female</td>\n",
       "      <td>Albalak 2007 Rachel Albalak Richard O’Brien Steve Kammerer O’Brien Suzanne Marks Kenneth Castro Marisa Moore</td>\n",
       "      <td>NaN</td>\n",
       "      <td>NaN</td>\n",
       "      <td>NaN</td>\n",
       "    </tr>\n",
       "    <tr>\n",
       "      <th>91</th>\n",
       "      <td>Aronson et al. (1997)</td>\n",
       "      <td>Use of Testosterone To Prevent Cyclophosphamide-Induced Azoospermia</td>\n",
       "      <td>http://annals.org/article.aspx?articleid=710324</td>\n",
       "      <td>Annals of Internal Medicine</td>\n",
       "      <td>1997</td>\n",
       "      <td>02 - Feb</td>\n",
       "      <td>Male</td>\n",
       "      <td>Aronson 1997 Testosterone Prevent Cyclophosphamide Induced Azoospermia</td>\n",
       "      <td>NaN</td>\n",
       "      <td>NaN</td>\n",
       "      <td>NaN</td>\n",
       "    </tr>\n",
       "    <tr>\n",
       "      <th>94</th>\n",
       "      <td>Arteriovenous Malformation Study Group (1999)</td>\n",
       "      <td>Arteriovenous Malformations of the Brain in Adults</td>\n",
       "      <td>http://www.nejm.org/doi/full/10.1056/NEJM199906103402307</td>\n",
       "      <td>NEJM</td>\n",
       "      <td>1999</td>\n",
       "      <td>06 - Jun</td>\n",
       "      <td>Unknown</td>\n",
       "      <td>1999 Arteriovenous Malformations Brain Adults</td>\n",
       "      <td>NaN</td>\n",
       "      <td>NaN</td>\n",
       "      <td>NaN</td>\n",
       "    </tr>\n",
       "    <tr>\n",
       "      <th>103</th>\n",
       "      <td>Atrial Fibrillation Investigators (1998)</td>\n",
       "      <td>Echocardiographic Predictors of Stroke in Patients With Atrial Fibrillation:   A Prospective Study of 1066 Patients From 3 Clinical Trials</td>\n",
       "      <td>http://archinte.jamanetwork.com/article.aspx?articleid=207367</td>\n",
       "      <td>Archives of Internal Medicine</td>\n",
       "      <td>1998</td>\n",
       "      <td>06 - Jun</td>\n",
       "      <td>Male</td>\n",
       "      <td>Atrial Fibrillation Investigators 1998 Echocardiographic Predictors Stroke Patients Atrial Fibrillation Prospective Study Patients Clinical Trials</td>\n",
       "      <td>NaN</td>\n",
       "      <td>NaN</td>\n",
       "      <td>NaN</td>\n",
       "    </tr>\n",
       "  </tbody>\n",
       "</table>\n",
       "</div>"
      ],
      "text/plain": [
       "                                        Article_ID  \\\n",
       "13   ACTIVE Writing Group (2006)                     \n",
       "34   Albalak et al. (2007)                           \n",
       "91   Aronson et al. (1997)                           \n",
       "94   Arteriovenous Malformation Study Group (1999)   \n",
       "103  Atrial Fibrillation Investigators (1998)        \n",
       "\n",
       "                                                                                                                                                                                                                Full_Title  \\\n",
       "13   Clopidogrel plus aspirin versus oral anticoagulation for atrial fibrillation in the Atrial fibrillation Clopidogrel Trial with Irbesartan for prevention of Vascular Events (ACTIVE W): a randomised controlled trial   \n",
       "34   Rachel Albalak| PhD; Richard J. O’Brien| MD; J. Steve Kammerer| MBA; Sean M. O’Brien| PhD; Suzanne M. Marks| MPH| MA; Kenneth G. Castro| MD; Marisa Moore| MD                                                           \n",
       "91   Use of Testosterone To Prevent Cyclophosphamide-Induced Azoospermia                                                                                                                                                     \n",
       "94   Arteriovenous Malformations of the Brain in Adults                                                                                                                                                                      \n",
       "103  Echocardiographic Predictors of Stroke in Patients With Atrial Fibrillation:   A Prospective Study of 1066 Patients From 3 Clinical Trials                                                                              \n",
       "\n",
       "                                                                        Link_to_Article  \\\n",
       "13   http://www.thelancet.com/journals/lancet/article/PIIS0140-6736(06)68845-4/abstract   \n",
       "34   http://archinte.jamanetwork.com/article.aspx?articleid=770021                        \n",
       "91   http://annals.org/article.aspx?articleid=710324                                      \n",
       "94   http://www.nejm.org/doi/full/10.1056/NEJM199906103402307                             \n",
       "103  http://archinte.jamanetwork.com/article.aspx?articleid=207367                        \n",
       "\n",
       "                           Journal  Year     Month First Author Gender  \\\n",
       "13   The Lancet                     2006  06 - Jun  Unknown              \n",
       "34   Archives of Internal Medicine  2007  12 - Dec  Female               \n",
       "91   Annals of Internal Medicine    1997  02 - Feb  Male                 \n",
       "94   NEJM                           1999  06 - Jun  Unknown              \n",
       "103  Archives of Internal Medicine  1998  06 - Jun  Male                 \n",
       "\n",
       "                                                                                                                                                                           pubmed_query  \\\n",
       "13   2006 Clopidogrel aspirin versus anticoagulation atrial fibrillation Atrial fibrillation Clopidogrel Trial Irbesartan prevention Vascular Events ACTIVE randomised controlled trial   \n",
       "34   Albalak 2007 Rachel Albalak Richard O’Brien Steve Kammerer O’Brien Suzanne Marks Kenneth Castro Marisa Moore                                                                         \n",
       "91   Aronson 1997 Testosterone Prevent Cyclophosphamide Induced Azoospermia                                                                                                               \n",
       "94   1999 Arteriovenous Malformations Brain Adults                                                                                                                                        \n",
       "103  Atrial Fibrillation Investigators 1998 Echocardiographic Predictors Stroke Patients Atrial Fibrillation Prospective Study Patients Clinical Trials                                   \n",
       "\n",
       "     pubmed_id ForeName LastName  \n",
       "13  NaN         NaN      NaN      \n",
       "34  NaN         NaN      NaN      \n",
       "91  NaN         NaN      NaN      \n",
       "94  NaN         NaN      NaN      \n",
       "103 NaN         NaN      NaN      "
      ]
     },
     "execution_count": 15,
     "metadata": {},
     "output_type": "execute_result"
    }
   ],
   "source": [
    "df[df.index.isin(failed)].head()"
   ]
  },
  {
   "cell_type": "code",
   "execution_count": 12,
   "metadata": {
    "collapsed": false
   },
   "outputs": [
    {
     "data": {
      "text/plain": [
       "135"
      ]
     },
     "execution_count": 12,
     "metadata": {},
     "output_type": "execute_result"
    }
   ],
   "source": [
    "len(df[df.pubmed_id.isnull()])"
   ]
  },
  {
   "cell_type": "code",
   "execution_count": 13,
   "metadata": {
    "collapsed": true
   },
   "outputs": [],
   "source": [
    "df.to_csv('Filardo_testdata_matched.csv', \n",
    "          quoting=csv.QUOTE_ALL,\n",
    "          index=False)"
   ]
  },
  {
   "cell_type": "markdown",
   "metadata": {},
   "source": [
    "### Start here if the export datafile is present"
   ]
  },
  {
   "cell_type": "code",
   "execution_count": 15,
   "metadata": {
    "collapsed": true
   },
   "outputs": [],
   "source": [
    "df = pd.read_csv('Filardo_testdata_matched.csv')"
   ]
  },
  {
   "cell_type": "code",
   "execution_count": 16,
   "metadata": {
    "collapsed": false
   },
   "outputs": [
    {
     "name": "stdout",
     "output_type": "stream",
     "text": [
      "Entries in Filardo et al: 3204\n",
      "Entries not matched to PubMed: 135\n"
     ]
    },
    {
     "data": {
      "text/html": [
       "<div>\n",
       "<table border=\"1\" class=\"dataframe\">\n",
       "  <thead>\n",
       "    <tr style=\"text-align: right;\">\n",
       "      <th></th>\n",
       "      <th>index</th>\n",
       "      <th>Article_ID</th>\n",
       "      <th>Full_Title</th>\n",
       "      <th>Link_to_Article</th>\n",
       "      <th>Journal</th>\n",
       "      <th>Year</th>\n",
       "      <th>Month</th>\n",
       "      <th>First Author Gender</th>\n",
       "      <th>pubmed_query</th>\n",
       "      <th>pubmed_id</th>\n",
       "      <th>ForeName</th>\n",
       "      <th>LastName</th>\n",
       "    </tr>\n",
       "  </thead>\n",
       "  <tbody>\n",
       "    <tr>\n",
       "      <th>0</th>\n",
       "      <td>0</td>\n",
       "      <td>Aaby et al. (2010)</td>\n",
       "      <td>Non-specific effects of standard measles vacci...</td>\n",
       "      <td>NaN</td>\n",
       "      <td>BMJ</td>\n",
       "      <td>2010</td>\n",
       "      <td>12 - Dec</td>\n",
       "      <td>Male</td>\n",
       "      <td>Aaby 2010 specific effects standard measles va...</td>\n",
       "      <td>21118875.0</td>\n",
       "      <td>Peter</td>\n",
       "      <td>Aaby</td>\n",
       "    </tr>\n",
       "    <tr>\n",
       "      <th>1</th>\n",
       "      <td>1</td>\n",
       "      <td>Aaron et al. (2007)</td>\n",
       "      <td>Tiotropium in Combination with Placebo| Salmet...</td>\n",
       "      <td>http://annals.org/article.aspx?articleid=734106</td>\n",
       "      <td>Annals of Internal Medicine</td>\n",
       "      <td>2007</td>\n",
       "      <td>04 - Apr</td>\n",
       "      <td>Male</td>\n",
       "      <td>Aaron 2007 Tiotropium Combination Placebo Salm...</td>\n",
       "      <td>17310045.0</td>\n",
       "      <td>Shawn D</td>\n",
       "      <td>Aaron</td>\n",
       "    </tr>\n",
       "    <tr>\n",
       "      <th>2</th>\n",
       "      <td>2</td>\n",
       "      <td>Abbott et al. (2004)</td>\n",
       "      <td>?-Blocker Use in Long-term Dialysis Patients A...</td>\n",
       "      <td>http://archinte.jamanetwork.com/article.aspx?a...</td>\n",
       "      <td>Archives of Internal Medicine</td>\n",
       "      <td>2004</td>\n",
       "      <td>12 - Dec</td>\n",
       "      <td>Male</td>\n",
       "      <td>Abbott 2004 Blocker Dialysis Patients Associat...</td>\n",
       "      <td>15596637.0</td>\n",
       "      <td>Kevin C</td>\n",
       "      <td>Abbott</td>\n",
       "    </tr>\n",
       "    <tr>\n",
       "      <th>3</th>\n",
       "      <td>3</td>\n",
       "      <td>Abdulla et al. (2008)</td>\n",
       "      <td>Safety and Immunogenicity of RTS|S/AS02D Malar...</td>\n",
       "      <td>http://www.nejm.org/doi/pdf/10.1056/NEJMoa0807773</td>\n",
       "      <td>NEJM</td>\n",
       "      <td>2008</td>\n",
       "      <td>12 - Dec</td>\n",
       "      <td>Male</td>\n",
       "      <td>Abdulla 2008 Safety Immunogenicity AS02D Malar...</td>\n",
       "      <td>19064623.0</td>\n",
       "      <td>Salim</td>\n",
       "      <td>Abdulla</td>\n",
       "    </tr>\n",
       "    <tr>\n",
       "      <th>4</th>\n",
       "      <td>4</td>\n",
       "      <td>Aboa-Eboule et al. (2007)</td>\n",
       "      <td>Job Strain and Risk of Acute Recurrent Coronar...</td>\n",
       "      <td>http://jama.jamanetwork.com/article.aspx?artic...</td>\n",
       "      <td>JAMA</td>\n",
       "      <td>2007</td>\n",
       "      <td>10 - Oct</td>\n",
       "      <td>Female</td>\n",
       "      <td>Aboa-Eboule 2007 Strain Acute Recurrent Corona...</td>\n",
       "      <td>17925517.0</td>\n",
       "      <td>Corine</td>\n",
       "      <td>Aboa-Eboulé</td>\n",
       "    </tr>\n",
       "  </tbody>\n",
       "</table>\n",
       "</div>"
      ],
      "text/plain": [
       "   index                 Article_ID  \\\n",
       "0      0         Aaby et al. (2010)   \n",
       "1      1        Aaron et al. (2007)   \n",
       "2      2       Abbott et al. (2004)   \n",
       "3      3      Abdulla et al. (2008)   \n",
       "4      4  Aboa-Eboule et al. (2007)   \n",
       "\n",
       "                                          Full_Title  \\\n",
       "0  Non-specific effects of standard measles vacci...   \n",
       "1  Tiotropium in Combination with Placebo| Salmet...   \n",
       "2  ?-Blocker Use in Long-term Dialysis Patients A...   \n",
       "3  Safety and Immunogenicity of RTS|S/AS02D Malar...   \n",
       "4  Job Strain and Risk of Acute Recurrent Coronar...   \n",
       "\n",
       "                                     Link_to_Article  \\\n",
       "0                                                NaN   \n",
       "1    http://annals.org/article.aspx?articleid=734106   \n",
       "2  http://archinte.jamanetwork.com/article.aspx?a...   \n",
       "3  http://www.nejm.org/doi/pdf/10.1056/NEJMoa0807773   \n",
       "4  http://jama.jamanetwork.com/article.aspx?artic...   \n",
       "\n",
       "                         Journal  Year     Month First Author Gender  \\\n",
       "0                            BMJ  2010  12 - Dec                Male   \n",
       "1    Annals of Internal Medicine  2007  04 - Apr                Male   \n",
       "2  Archives of Internal Medicine  2004  12 - Dec                Male   \n",
       "3                           NEJM  2008  12 - Dec                Male   \n",
       "4                           JAMA  2007  10 - Oct              Female   \n",
       "\n",
       "                                        pubmed_query   pubmed_id ForeName  \\\n",
       "0  Aaby 2010 specific effects standard measles va...  21118875.0    Peter   \n",
       "1  Aaron 2007 Tiotropium Combination Placebo Salm...  17310045.0  Shawn D   \n",
       "2  Abbott 2004 Blocker Dialysis Patients Associat...  15596637.0  Kevin C   \n",
       "3  Abdulla 2008 Safety Immunogenicity AS02D Malar...  19064623.0    Salim   \n",
       "4  Aboa-Eboule 2007 Strain Acute Recurrent Corona...  17925517.0   Corine   \n",
       "\n",
       "      LastName  \n",
       "0         Aaby  \n",
       "1        Aaron  \n",
       "2       Abbott  \n",
       "3      Abdulla  \n",
       "4  Aboa-Eboulé  "
      ]
     },
     "execution_count": 16,
     "metadata": {},
     "output_type": "execute_result"
    }
   ],
   "source": [
    "# Remove entries that weren't matched to pubmed\n",
    "print('Entries in Filardo et al: {}'.format(len(df)))\n",
    "print('Entries not matched to PubMed: {}'.format(len(df[df.pubmed_id.isnull()])))\n",
    "df = df[~df.pubmed_id.isnull()]\n",
    "df.reset_index(inplace=True)\n",
    "df.head()"
   ]
  },
  {
   "cell_type": "code",
   "execution_count": 17,
   "metadata": {
    "collapsed": true
   },
   "outputs": [],
   "source": [
    "def parse_forename(forename):\n",
    "    name = str(forename).lower()\n",
    "    if len(name.split()) > 1:\n",
    "        first_name, middle_name = name.split()[:2]\n",
    "    else:\n",
    "        first_name, middle_name = name, ''\n",
    "    return first_name, middle_name"
   ]
  },
  {
   "cell_type": "code",
   "execution_count": 18,
   "metadata": {
    "collapsed": true
   },
   "outputs": [],
   "source": [
    "gender_keys = {'Unknown': 'u', \n",
    "               'Male': 'm',\n",
    "               'Female': 'f'}"
   ]
  },
  {
   "cell_type": "code",
   "execution_count": 25,
   "metadata": {
    "collapsed": false
   },
   "outputs": [],
   "source": [
    "test_data = pd.DataFrame()\n",
    "test_data['first_name'], test_data['middle_name'] = zip(*df['ForeName'].map(parse_forename))\n",
    "test_data['last_name'] = df['LastName'].apply(lambda n: str(n).lower())\n",
    "test_data['gender'] = df['First Author Gender'].apply(lambda n: gender_keys[n])\n",
    "test_data['full_name'] = test_data.apply(lambda x: ' '.join([x.first_name, x.middle_name, x.last_name]), axis=1)"
   ]
  },
  {
   "cell_type": "code",
   "execution_count": 26,
   "metadata": {
    "collapsed": false
   },
   "outputs": [
    {
     "data": {
      "text/html": [
       "<div>\n",
       "<table border=\"1\" class=\"dataframe\">\n",
       "  <thead>\n",
       "    <tr style=\"text-align: right;\">\n",
       "      <th></th>\n",
       "      <th>first_name</th>\n",
       "      <th>middle_name</th>\n",
       "      <th>last_name</th>\n",
       "      <th>gender</th>\n",
       "      <th>full_name</th>\n",
       "    </tr>\n",
       "  </thead>\n",
       "  <tbody>\n",
       "    <tr>\n",
       "      <th>0</th>\n",
       "      <td>peter</td>\n",
       "      <td></td>\n",
       "      <td>aaby</td>\n",
       "      <td>m</td>\n",
       "      <td>peter  aaby</td>\n",
       "    </tr>\n",
       "    <tr>\n",
       "      <th>1</th>\n",
       "      <td>shawn</td>\n",
       "      <td>d</td>\n",
       "      <td>aaron</td>\n",
       "      <td>m</td>\n",
       "      <td>shawn d aaron</td>\n",
       "    </tr>\n",
       "    <tr>\n",
       "      <th>2</th>\n",
       "      <td>kevin</td>\n",
       "      <td>c</td>\n",
       "      <td>abbott</td>\n",
       "      <td>m</td>\n",
       "      <td>kevin c abbott</td>\n",
       "    </tr>\n",
       "    <tr>\n",
       "      <th>3</th>\n",
       "      <td>salim</td>\n",
       "      <td></td>\n",
       "      <td>abdulla</td>\n",
       "      <td>m</td>\n",
       "      <td>salim  abdulla</td>\n",
       "    </tr>\n",
       "    <tr>\n",
       "      <th>4</th>\n",
       "      <td>corine</td>\n",
       "      <td></td>\n",
       "      <td>aboa-eboulé</td>\n",
       "      <td>f</td>\n",
       "      <td>corine  aboa-eboulé</td>\n",
       "    </tr>\n",
       "  </tbody>\n",
       "</table>\n",
       "</div>"
      ],
      "text/plain": [
       "  first_name middle_name    last_name gender            full_name\n",
       "0      peter                     aaby      m          peter  aaby\n",
       "1      shawn           d        aaron      m        shawn d aaron\n",
       "2      kevin           c       abbott      m       kevin c abbott\n",
       "3      salim                  abdulla      m       salim  abdulla\n",
       "4     corine              aboa-eboulé      f  corine  aboa-eboulé"
      ]
     },
     "execution_count": 26,
     "metadata": {},
     "output_type": "execute_result"
    }
   ],
   "source": [
    "test_data.head()"
   ]
  },
  {
   "cell_type": "code",
   "execution_count": 27,
   "metadata": {
    "collapsed": true
   },
   "outputs": [],
   "source": [
    "test_data.to_csv('test_data_filardo.csv',\n",
    "                 columns=[\"first_name\", \"middle_name\", \"last_name\", \"full_name\", \"gender\"],\n",
    "                 quoting=csv.QUOTE_ALL, index=False)"
   ]
  }
 ],
 "metadata": {
  "kernelspec": {
   "display_name": "Python 3",
   "language": "python",
   "name": "python3"
  },
  "language_info": {
   "codemirror_mode": {
    "name": "ipython",
    "version": 3
   },
   "file_extension": ".py",
   "mimetype": "text/x-python",
   "name": "python",
   "nbconvert_exporter": "python",
   "pygments_lexer": "ipython3",
   "version": "3.6.0"
  }
 },
 "nbformat": 4,
 "nbformat_minor": 2
}
