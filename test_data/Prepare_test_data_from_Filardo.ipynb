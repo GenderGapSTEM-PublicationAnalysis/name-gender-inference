{
 "cells": [
  {
   "cell_type": "markdown",
   "metadata": {},
   "source": [
    "## Match Filardo data to PubMed and extract author:gender data"
   ]
  },
  {
   "cell_type": "code",
   "execution_count": 1,
   "metadata": {
    "collapsed": true
   },
   "outputs": [],
   "source": [
    "from Bio import Entrez\n",
    "import pandas as pd\n",
    "import string\n",
    "import time\n",
    "import random\n",
    "import csv\n",
    "import difflib"
   ]
  },
  {
   "cell_type": "code",
   "execution_count": 2,
   "metadata": {
    "collapsed": true
   },
   "outputs": [],
   "source": [
    "# Uncomment to display full text in cells\n",
    "pd.set_option('display.max_colwidth', -1)"
   ]
  },
  {
   "cell_type": "code",
   "execution_count": 3,
   "metadata": {
    "collapsed": true
   },
   "outputs": [],
   "source": [
    "# Code from https://marcobonzanini.com/2015/01/12/searching-pubmed-with-python/\n",
    "def search(query):\n",
    "    Entrez.email = 'lucia.santamaria@ymail.com'\n",
    "    handle = Entrez.esearch(db='pubmed', \n",
    "                            sort='relevance', \n",
    "                            retmax='20',\n",
    "                            retmode='xml', \n",
    "                            term=query)\n",
    "    results = Entrez.read(handle)\n",
    "    return results\n",
    "\n",
    "def fetch_details(id_list):\n",
    "    ids = ','.join(id_list)\n",
    "    Entrez.email = 'lucia.santamaria@ymail.com'\n",
    "    handle = Entrez.efetch(db='pubmed',\n",
    "                           retmode='xml',\n",
    "                           id=ids)\n",
    "    results = Entrez.read(handle)\n",
    "    return results"
   ]
  },
  {
   "cell_type": "code",
   "execution_count": 4,
   "metadata": {
    "collapsed": false
   },
   "outputs": [
    {
     "data": {
      "text/html": [
       "<div>\n",
       "<table border=\"1\" class=\"dataframe\">\n",
       "  <thead>\n",
       "    <tr style=\"text-align: right;\">\n",
       "      <th></th>\n",
       "      <th>Article_ID</th>\n",
       "      <th>Full_Title</th>\n",
       "      <th>Link_to_Article</th>\n",
       "      <th>Journal</th>\n",
       "      <th>Year</th>\n",
       "      <th>Month</th>\n",
       "      <th>First Author Gender</th>\n",
       "    </tr>\n",
       "  </thead>\n",
       "  <tbody>\n",
       "    <tr>\n",
       "      <th>0</th>\n",
       "      <td>Aaby et al. (2010)</td>\n",
       "      <td>Non-specific effects of standard measles vaccine at 4.5 and 9 months of age on childhood mortality: randomised controlled trial</td>\n",
       "      <td>NaN</td>\n",
       "      <td>BMJ</td>\n",
       "      <td>2010</td>\n",
       "      <td>12 - Dec</td>\n",
       "      <td>Male</td>\n",
       "    </tr>\n",
       "    <tr>\n",
       "      <th>1</th>\n",
       "      <td>Aaron et al. (2007)</td>\n",
       "      <td>Tiotropium in Combination with Placebo| Salmeterol| or Fluticasone–Salmeterol for Treatment of Chronic Obstructive Pulmonary Disease: A Randomized Trial</td>\n",
       "      <td>http://annals.org/article.aspx?articleid=734106</td>\n",
       "      <td>Annals of Internal Medicine</td>\n",
       "      <td>2007</td>\n",
       "      <td>04 - Apr</td>\n",
       "      <td>Male</td>\n",
       "    </tr>\n",
       "    <tr>\n",
       "      <th>2</th>\n",
       "      <td>Abbott et al. (2004)</td>\n",
       "      <td>?-Blocker Use in Long-term Dialysis Patients Association With Hospitalized Heart Failure and Mortality</td>\n",
       "      <td>http://archinte.jamanetwork.com/article.aspx?articleid=217784</td>\n",
       "      <td>Archives of Internal Medicine</td>\n",
       "      <td>2004</td>\n",
       "      <td>12 - Dec</td>\n",
       "      <td>Male</td>\n",
       "    </tr>\n",
       "    <tr>\n",
       "      <th>3</th>\n",
       "      <td>Abdulla et al. (2008)</td>\n",
       "      <td>Safety and Immunogenicity of RTS|S/AS02D Malaria Vaccine in Infants</td>\n",
       "      <td>http://www.nejm.org/doi/pdf/10.1056/NEJMoa0807773</td>\n",
       "      <td>NEJM</td>\n",
       "      <td>2008</td>\n",
       "      <td>12 - Dec</td>\n",
       "      <td>Male</td>\n",
       "    </tr>\n",
       "    <tr>\n",
       "      <th>4</th>\n",
       "      <td>Aboa-Eboule et al. (2007)</td>\n",
       "      <td>Job Strain and Risk of Acute Recurrent Coronary Heart Disease Events</td>\n",
       "      <td>http://jama.jamanetwork.com/article.aspx?articleid=209121</td>\n",
       "      <td>JAMA</td>\n",
       "      <td>2007</td>\n",
       "      <td>10 - Oct</td>\n",
       "      <td>Female</td>\n",
       "    </tr>\n",
       "  </tbody>\n",
       "</table>\n",
       "</div>"
      ],
      "text/plain": [
       "                  Article_ID  \\\n",
       "0  Aaby et al. (2010)          \n",
       "1  Aaron et al. (2007)         \n",
       "2  Abbott et al. (2004)        \n",
       "3  Abdulla et al. (2008)       \n",
       "4  Aboa-Eboule et al. (2007)   \n",
       "\n",
       "                                                                                                                                                 Full_Title  \\\n",
       "0  Non-specific effects of standard measles vaccine at 4.5 and 9 months of age on childhood mortality: randomised controlled trial                            \n",
       "1  Tiotropium in Combination with Placebo| Salmeterol| or Fluticasone–Salmeterol for Treatment of Chronic Obstructive Pulmonary Disease: A Randomized Trial   \n",
       "2  ?-Blocker Use in Long-term Dialysis Patients Association With Hospitalized Heart Failure and Mortality                                                     \n",
       "3  Safety and Immunogenicity of RTS|S/AS02D Malaria Vaccine in Infants                                                                                        \n",
       "4  Job Strain and Risk of Acute Recurrent Coronary Heart Disease Events                                                                                       \n",
       "\n",
       "                                                 Link_to_Article  \\\n",
       "0  NaN                                                             \n",
       "1  http://annals.org/article.aspx?articleid=734106                 \n",
       "2  http://archinte.jamanetwork.com/article.aspx?articleid=217784   \n",
       "3  http://www.nejm.org/doi/pdf/10.1056/NEJMoa0807773               \n",
       "4  http://jama.jamanetwork.com/article.aspx?articleid=209121       \n",
       "\n",
       "                         Journal  Year     Month First Author Gender  \n",
       "0  BMJ                            2010  12 - Dec  Male                \n",
       "1  Annals of Internal Medicine    2007  04 - Apr  Male                \n",
       "2  Archives of Internal Medicine  2004  12 - Dec  Male                \n",
       "3  NEJM                           2008  12 - Dec  Male                \n",
       "4  JAMA                           2007  10 - Oct  Female              "
      ]
     },
     "execution_count": 4,
     "metadata": {},
     "output_type": "execute_result"
    }
   ],
   "source": [
    "df = pd.read_excel('Filardo_testdata.xlsx')\n",
    "df.head()"
   ]
  },
  {
   "cell_type": "code",
   "execution_count": 5,
   "metadata": {
    "collapsed": true
   },
   "outputs": [],
   "source": [
    "def build_pubmed_query(row):\n",
    "    # Extract first author, year\n",
    "    # Remove final year and take everything before et al.\n",
    "    author = ' '.join(row['Article_ID'].split()[:-1]).split('et al')[0].strip()\n",
    "    collaboration_words = ['group', 'collaboration']\n",
    "    if len(author.split()) > 3 or any(word in author.lower() for word in collaboration_words):\n",
    "        # If author name has more than 3 words or it contains the coll words it's likely a collaboration - skip\n",
    "        author = ''\n",
    "    year = row['Year']\n",
    "    # Process title -> remove punctuation and short words\n",
    "    title = row['Full_Title'].translate(str.maketrans(string.punctuation, ' '*len(string.punctuation)))\n",
    "    shorttitle = ' '.join([t for t in title.split() if len(t)>=5])\n",
    "    return ' '.join([author, str(year), shorttitle]).strip()"
   ]
  },
  {
   "cell_type": "code",
   "execution_count": 6,
   "metadata": {
    "collapsed": false
   },
   "outputs": [
    {
     "data": {
      "text/html": [
       "<div>\n",
       "<table border=\"1\" class=\"dataframe\">\n",
       "  <thead>\n",
       "    <tr style=\"text-align: right;\">\n",
       "      <th></th>\n",
       "      <th>Article_ID</th>\n",
       "      <th>Full_Title</th>\n",
       "      <th>Link_to_Article</th>\n",
       "      <th>Journal</th>\n",
       "      <th>Year</th>\n",
       "      <th>Month</th>\n",
       "      <th>First Author Gender</th>\n",
       "      <th>pubmed_query</th>\n",
       "    </tr>\n",
       "  </thead>\n",
       "  <tbody>\n",
       "    <tr>\n",
       "      <th>0</th>\n",
       "      <td>Aaby et al. (2010)</td>\n",
       "      <td>Non-specific effects of standard measles vaccine at 4.5 and 9 months of age on childhood mortality: randomised controlled trial</td>\n",
       "      <td>NaN</td>\n",
       "      <td>BMJ</td>\n",
       "      <td>2010</td>\n",
       "      <td>12 - Dec</td>\n",
       "      <td>Male</td>\n",
       "      <td>Aaby 2010 specific effects standard measles vaccine months childhood mortality randomised controlled trial</td>\n",
       "    </tr>\n",
       "    <tr>\n",
       "      <th>1</th>\n",
       "      <td>Aaron et al. (2007)</td>\n",
       "      <td>Tiotropium in Combination with Placebo| Salmeterol| or Fluticasone–Salmeterol for Treatment of Chronic Obstructive Pulmonary Disease: A Randomized Trial</td>\n",
       "      <td>http://annals.org/article.aspx?articleid=734106</td>\n",
       "      <td>Annals of Internal Medicine</td>\n",
       "      <td>2007</td>\n",
       "      <td>04 - Apr</td>\n",
       "      <td>Male</td>\n",
       "      <td>Aaron 2007 Tiotropium Combination Placebo Salmeterol Fluticasone–Salmeterol Treatment Chronic Obstructive Pulmonary Disease Randomized Trial</td>\n",
       "    </tr>\n",
       "    <tr>\n",
       "      <th>2</th>\n",
       "      <td>Abbott et al. (2004)</td>\n",
       "      <td>?-Blocker Use in Long-term Dialysis Patients Association With Hospitalized Heart Failure and Mortality</td>\n",
       "      <td>http://archinte.jamanetwork.com/article.aspx?articleid=217784</td>\n",
       "      <td>Archives of Internal Medicine</td>\n",
       "      <td>2004</td>\n",
       "      <td>12 - Dec</td>\n",
       "      <td>Male</td>\n",
       "      <td>Abbott 2004 Blocker Dialysis Patients Association Hospitalized Heart Failure Mortality</td>\n",
       "    </tr>\n",
       "    <tr>\n",
       "      <th>3</th>\n",
       "      <td>Abdulla et al. (2008)</td>\n",
       "      <td>Safety and Immunogenicity of RTS|S/AS02D Malaria Vaccine in Infants</td>\n",
       "      <td>http://www.nejm.org/doi/pdf/10.1056/NEJMoa0807773</td>\n",
       "      <td>NEJM</td>\n",
       "      <td>2008</td>\n",
       "      <td>12 - Dec</td>\n",
       "      <td>Male</td>\n",
       "      <td>Abdulla 2008 Safety Immunogenicity AS02D Malaria Vaccine Infants</td>\n",
       "    </tr>\n",
       "    <tr>\n",
       "      <th>4</th>\n",
       "      <td>Aboa-Eboule et al. (2007)</td>\n",
       "      <td>Job Strain and Risk of Acute Recurrent Coronary Heart Disease Events</td>\n",
       "      <td>http://jama.jamanetwork.com/article.aspx?articleid=209121</td>\n",
       "      <td>JAMA</td>\n",
       "      <td>2007</td>\n",
       "      <td>10 - Oct</td>\n",
       "      <td>Female</td>\n",
       "      <td>Aboa-Eboule 2007 Strain Acute Recurrent Coronary Heart Disease Events</td>\n",
       "    </tr>\n",
       "  </tbody>\n",
       "</table>\n",
       "</div>"
      ],
      "text/plain": [
       "                  Article_ID  \\\n",
       "0  Aaby et al. (2010)          \n",
       "1  Aaron et al. (2007)         \n",
       "2  Abbott et al. (2004)        \n",
       "3  Abdulla et al. (2008)       \n",
       "4  Aboa-Eboule et al. (2007)   \n",
       "\n",
       "                                                                                                                                                 Full_Title  \\\n",
       "0  Non-specific effects of standard measles vaccine at 4.5 and 9 months of age on childhood mortality: randomised controlled trial                            \n",
       "1  Tiotropium in Combination with Placebo| Salmeterol| or Fluticasone–Salmeterol for Treatment of Chronic Obstructive Pulmonary Disease: A Randomized Trial   \n",
       "2  ?-Blocker Use in Long-term Dialysis Patients Association With Hospitalized Heart Failure and Mortality                                                     \n",
       "3  Safety and Immunogenicity of RTS|S/AS02D Malaria Vaccine in Infants                                                                                        \n",
       "4  Job Strain and Risk of Acute Recurrent Coronary Heart Disease Events                                                                                       \n",
       "\n",
       "                                                 Link_to_Article  \\\n",
       "0  NaN                                                             \n",
       "1  http://annals.org/article.aspx?articleid=734106                 \n",
       "2  http://archinte.jamanetwork.com/article.aspx?articleid=217784   \n",
       "3  http://www.nejm.org/doi/pdf/10.1056/NEJMoa0807773               \n",
       "4  http://jama.jamanetwork.com/article.aspx?articleid=209121       \n",
       "\n",
       "                         Journal  Year     Month First Author Gender  \\\n",
       "0  BMJ                            2010  12 - Dec  Male                 \n",
       "1  Annals of Internal Medicine    2007  04 - Apr  Male                 \n",
       "2  Archives of Internal Medicine  2004  12 - Dec  Male                 \n",
       "3  NEJM                           2008  12 - Dec  Male                 \n",
       "4  JAMA                           2007  10 - Oct  Female               \n",
       "\n",
       "                                                                                                                                   pubmed_query  \n",
       "0  Aaby 2010 specific effects standard measles vaccine months childhood mortality randomised controlled trial                                    \n",
       "1  Aaron 2007 Tiotropium Combination Placebo Salmeterol Fluticasone–Salmeterol Treatment Chronic Obstructive Pulmonary Disease Randomized Trial  \n",
       "2  Abbott 2004 Blocker Dialysis Patients Association Hospitalized Heart Failure Mortality                                                        \n",
       "3  Abdulla 2008 Safety Immunogenicity AS02D Malaria Vaccine Infants                                                                              \n",
       "4  Aboa-Eboule 2007 Strain Acute Recurrent Coronary Heart Disease Events                                                                         "
      ]
     },
     "execution_count": 6,
     "metadata": {},
     "output_type": "execute_result"
    }
   ],
   "source": [
    "df['pubmed_query'] = df.apply(lambda r: build_pubmed_query(r), axis=1)\n",
    "df.head()"
   ]
  },
  {
   "cell_type": "code",
   "execution_count": 7,
   "metadata": {
    "collapsed": true
   },
   "outputs": [],
   "source": [
    "def query_pubmed(query, title):\n",
    "    results = search(query)\n",
    "    if results['Count'] == '1':\n",
    "        # If search returned a unique item the matching is straightforward\n",
    "        paper = fetch_details(results['IdList'])\n",
    "        pubmed_id = int(results['IdList'][0])\n",
    "        author = paper['PubmedArticle'][0]['MedlineCitation']['Article']['AuthorList'][0]\n",
    "    elif int(results['Count']) > 1 and int(results['Count']) <= 10:\n",
    "        # If multiple papers (but less than 10) are returned, we compare titles and find the closest\n",
    "        pubmed_ids = results['IdList']\n",
    "        papers = fetch_details(pubmed_ids)\n",
    "        titles = [p['MedlineCitation']['Article']['ArticleTitle'] for p in papers['PubmedArticle']]\n",
    "        authors = [p['MedlineCitation']['Article']['AuthorList'] for p in papers['PubmedArticle']]\n",
    "        to_match_title = title\n",
    "        # Compare each of the titles with the original one\n",
    "        scores = [(pid, author, difflib.SequenceMatcher(None, to_match_title.lower(), tit.lower()).ratio()) \\\n",
    "                  for (pid, author, tit) in zip(pubmed_ids, authors, titles)]\n",
    "        # The matched article is that with the highest matching score\n",
    "        matched = max(scores, key=lambda x:x[2])\n",
    "        pubmed_id = int(matched[0])\n",
    "        author = matched[1][0]\n",
    "    else:\n",
    "        return 0, None\n",
    "    return pubmed_id, author"
   ]
  },
  {
   "cell_type": "code",
   "execution_count": 8,
   "metadata": {
    "collapsed": false
   },
   "outputs": [
    {
     "data": {
      "text/plain": [
       "'Aaby 2010 specific effects standard measles vaccine months childhood mortality randomised controlled trial'"
      ]
     },
     "execution_count": 8,
     "metadata": {},
     "output_type": "execute_result"
    }
   ],
   "source": [
    "df.pubmed_query[0]"
   ]
  },
  {
   "cell_type": "code",
   "execution_count": 9,
   "metadata": {
    "collapsed": false
   },
   "outputs": [
    {
     "data": {
      "text/plain": [
       "(21118875,\n",
       " DictElement({'Identifier': [], 'AffiliationInfo': [{'Identifier': [], 'Affiliation': 'Bandim Health Project, Indepth Network, Bissau, Guinea-Bissau. p.aaby@bandim.org'}], 'LastName': 'Aaby', 'ForeName': 'Peter', 'Initials': 'P'}, attributes={'ValidYN': 'Y'}))"
      ]
     },
     "execution_count": 9,
     "metadata": {},
     "output_type": "execute_result"
    }
   ],
   "source": [
    "query_pubmed(df.pubmed_query[0], df.Full_Title[0])"
   ]
  },
  {
   "cell_type": "code",
   "execution_count": 10,
   "metadata": {
    "collapsed": false
   },
   "outputs": [
    {
     "name": "stdout",
     "output_type": "stream",
     "text": [
      "Queried 0 entries\n",
      "Queried 100 entries\n",
      "Queried 200 entries\n",
      "Queried 300 entries\n",
      "Queried 400 entries\n",
      "Queried 500 entries\n",
      "Queried 600 entries\n",
      "Queried 700 entries\n",
      "Queried 800 entries\n",
      "Queried 900 entries\n",
      "Queried 1000 entries\n",
      "Queried 1100 entries\n",
      "Queried 1200 entries\n",
      "Queried 1300 entries\n",
      "Queried 1400 entries\n",
      "Queried 1500 entries\n",
      "Queried 1600 entries\n",
      "Queried 1700 entries\n",
      "Queried 1800 entries\n",
      "Queried 1900 entries\n",
      "Queried 2000 entries\n",
      "Queried 2100 entries\n",
      "Queried 2200 entries\n",
      "Queried 2300 entries\n",
      "Queried 2400 entries\n",
      "Queried 2500 entries\n",
      "Queried 2600 entries\n",
      "Queried 2700 entries\n",
      "Queried 2800 entries\n",
      "Queried 2900 entries\n",
      "Queried 3000 entries\n",
      "Queried 3100 entries\n",
      "Queried 3200 entries\n"
     ]
    }
   ],
   "source": [
    "# Run PubMed queries sequentially\n",
    "# Sleep to avoid hitting the API too often. \n",
    "# Guidelines: https://www.ncbi.nlm.nih.gov/books/NBK25497/#chapter2.Usage_Guidelines_and_Requiremen\n",
    "# Store failures for further retrieval\n",
    "failed = []\n",
    "for i, row in df.iterrows():\n",
    "    if i % 100 == 0:\n",
    "        print('Queried {} entries'.format(i))\n",
    "    # Sleep 0 or 1 sec each time randomly\n",
    "    time.sleep(random.randint(0,1))\n",
    "    try:\n",
    "        pubmed_id, author = query_pubmed(row['pubmed_query'], row['Full_Title'])\n",
    "        df.loc[i,'pubmed_id'], df.loc[i,'ForeName'], df.loc[i,'LastName'] = pubmed_id, author['ForeName'], author['LastName']\n",
    "    except:\n",
    "        failed.append(i)"
   ]
  },
  {
   "cell_type": "code",
   "execution_count": 15,
   "metadata": {
    "collapsed": false,
    "scrolled": false
   },
   "outputs": [
    {
     "data": {
      "text/html": [
       "<div>\n",
       "<table border=\"1\" class=\"dataframe\">\n",
       "  <thead>\n",
       "    <tr style=\"text-align: right;\">\n",
       "      <th></th>\n",
       "      <th>Article_ID</th>\n",
       "      <th>Full_Title</th>\n",
       "      <th>Link_to_Article</th>\n",
       "      <th>Journal</th>\n",
       "      <th>Year</th>\n",
       "      <th>Month</th>\n",
       "      <th>First Author Gender</th>\n",
       "      <th>pubmed_query</th>\n",
       "      <th>pubmed_id</th>\n",
       "      <th>ForeName</th>\n",
       "      <th>LastName</th>\n",
       "    </tr>\n",
       "  </thead>\n",
       "  <tbody>\n",
       "    <tr>\n",
       "      <th>13</th>\n",
       "      <td>ACTIVE Writing Group (2006)</td>\n",
       "      <td>Clopidogrel plus aspirin versus oral anticoagulation for atrial fibrillation in the Atrial fibrillation Clopidogrel Trial with Irbesartan for prevention of Vascular Events (ACTIVE W): a randomised controlled trial</td>\n",
       "      <td>http://www.thelancet.com/journals/lancet/article/PIIS0140-6736(06)68845-4/abstract</td>\n",
       "      <td>The Lancet</td>\n",
       "      <td>2006</td>\n",
       "      <td>06 - Jun</td>\n",
       "      <td>Unknown</td>\n",
       "      <td>2006 Clopidogrel aspirin versus anticoagulation atrial fibrillation Atrial fibrillation Clopidogrel Trial Irbesartan prevention Vascular Events ACTIVE randomised controlled trial</td>\n",
       "      <td>NaN</td>\n",
       "      <td>NaN</td>\n",
       "      <td>NaN</td>\n",
       "    </tr>\n",
       "    <tr>\n",
       "      <th>34</th>\n",
       "      <td>Albalak et al. (2007)</td>\n",
       "      <td>Rachel Albalak| PhD; Richard J. O’Brien| MD; J. Steve Kammerer| MBA; Sean M. O’Brien| PhD; Suzanne M. Marks| MPH| MA; Kenneth G. Castro| MD; Marisa Moore| MD</td>\n",
       "      <td>http://archinte.jamanetwork.com/article.aspx?articleid=770021</td>\n",
       "      <td>Archives of Internal Medicine</td>\n",
       "      <td>2007</td>\n",
       "      <td>12 - Dec</td>\n",
       "      <td>Female</td>\n",
       "      <td>Albalak 2007 Rachel Albalak Richard O’Brien Steve Kammerer O’Brien Suzanne Marks Kenneth Castro Marisa Moore</td>\n",
       "      <td>NaN</td>\n",
       "      <td>NaN</td>\n",
       "      <td>NaN</td>\n",
       "    </tr>\n",
       "    <tr>\n",
       "      <th>91</th>\n",
       "      <td>Aronson et al. (1997)</td>\n",
       "      <td>Use of Testosterone To Prevent Cyclophosphamide-Induced Azoospermia</td>\n",
       "      <td>http://annals.org/article.aspx?articleid=710324</td>\n",
       "      <td>Annals of Internal Medicine</td>\n",
       "      <td>1997</td>\n",
       "      <td>02 - Feb</td>\n",
       "      <td>Male</td>\n",
       "      <td>Aronson 1997 Testosterone Prevent Cyclophosphamide Induced Azoospermia</td>\n",
       "      <td>NaN</td>\n",
       "      <td>NaN</td>\n",
       "      <td>NaN</td>\n",
       "    </tr>\n",
       "    <tr>\n",
       "      <th>94</th>\n",
       "      <td>Arteriovenous Malformation Study Group (1999)</td>\n",
       "      <td>Arteriovenous Malformations of the Brain in Adults</td>\n",
       "      <td>http://www.nejm.org/doi/full/10.1056/NEJM199906103402307</td>\n",
       "      <td>NEJM</td>\n",
       "      <td>1999</td>\n",
       "      <td>06 - Jun</td>\n",
       "      <td>Unknown</td>\n",
       "      <td>1999 Arteriovenous Malformations Brain Adults</td>\n",
       "      <td>NaN</td>\n",
       "      <td>NaN</td>\n",
       "      <td>NaN</td>\n",
       "    </tr>\n",
       "    <tr>\n",
       "      <th>103</th>\n",
       "      <td>Atrial Fibrillation Investigators (1998)</td>\n",
       "      <td>Echocardiographic Predictors of Stroke in Patients With Atrial Fibrillation:   A Prospective Study of 1066 Patients From 3 Clinical Trials</td>\n",
       "      <td>http://archinte.jamanetwork.com/article.aspx?articleid=207367</td>\n",
       "      <td>Archives of Internal Medicine</td>\n",
       "      <td>1998</td>\n",
       "      <td>06 - Jun</td>\n",
       "      <td>Male</td>\n",
       "      <td>Atrial Fibrillation Investigators 1998 Echocardiographic Predictors Stroke Patients Atrial Fibrillation Prospective Study Patients Clinical Trials</td>\n",
       "      <td>NaN</td>\n",
       "      <td>NaN</td>\n",
       "      <td>NaN</td>\n",
       "    </tr>\n",
       "  </tbody>\n",
       "</table>\n",
       "</div>"
      ],
      "text/plain": [
       "                                        Article_ID  \\\n",
       "13   ACTIVE Writing Group (2006)                     \n",
       "34   Albalak et al. (2007)                           \n",
       "91   Aronson et al. (1997)                           \n",
       "94   Arteriovenous Malformation Study Group (1999)   \n",
       "103  Atrial Fibrillation Investigators (1998)        \n",
       "\n",
       "                                                                                                                                                                                                                Full_Title  \\\n",
       "13   Clopidogrel plus aspirin versus oral anticoagulation for atrial fibrillation in the Atrial fibrillation Clopidogrel Trial with Irbesartan for prevention of Vascular Events (ACTIVE W): a randomised controlled trial   \n",
       "34   Rachel Albalak| PhD; Richard J. O’Brien| MD; J. Steve Kammerer| MBA; Sean M. O’Brien| PhD; Suzanne M. Marks| MPH| MA; Kenneth G. Castro| MD; Marisa Moore| MD                                                           \n",
       "91   Use of Testosterone To Prevent Cyclophosphamide-Induced Azoospermia                                                                                                                                                     \n",
       "94   Arteriovenous Malformations of the Brain in Adults                                                                                                                                                                      \n",
       "103  Echocardiographic Predictors of Stroke in Patients With Atrial Fibrillation:   A Prospective Study of 1066 Patients From 3 Clinical Trials                                                                              \n",
       "\n",
       "                                                                        Link_to_Article  \\\n",
       "13   http://www.thelancet.com/journals/lancet/article/PIIS0140-6736(06)68845-4/abstract   \n",
       "34   http://archinte.jamanetwork.com/article.aspx?articleid=770021                        \n",
       "91   http://annals.org/article.aspx?articleid=710324                                      \n",
       "94   http://www.nejm.org/doi/full/10.1056/NEJM199906103402307                             \n",
       "103  http://archinte.jamanetwork.com/article.aspx?articleid=207367                        \n",
       "\n",
       "                           Journal  Year     Month First Author Gender  \\\n",
       "13   The Lancet                     2006  06 - Jun  Unknown              \n",
       "34   Archives of Internal Medicine  2007  12 - Dec  Female               \n",
       "91   Annals of Internal Medicine    1997  02 - Feb  Male                 \n",
       "94   NEJM                           1999  06 - Jun  Unknown              \n",
       "103  Archives of Internal Medicine  1998  06 - Jun  Male                 \n",
       "\n",
       "                                                                                                                                                                           pubmed_query  \\\n",
       "13   2006 Clopidogrel aspirin versus anticoagulation atrial fibrillation Atrial fibrillation Clopidogrel Trial Irbesartan prevention Vascular Events ACTIVE randomised controlled trial   \n",
       "34   Albalak 2007 Rachel Albalak Richard O’Brien Steve Kammerer O’Brien Suzanne Marks Kenneth Castro Marisa Moore                                                                         \n",
       "91   Aronson 1997 Testosterone Prevent Cyclophosphamide Induced Azoospermia                                                                                                               \n",
       "94   1999 Arteriovenous Malformations Brain Adults                                                                                                                                        \n",
       "103  Atrial Fibrillation Investigators 1998 Echocardiographic Predictors Stroke Patients Atrial Fibrillation Prospective Study Patients Clinical Trials                                   \n",
       "\n",
       "     pubmed_id ForeName LastName  \n",
       "13  NaN         NaN      NaN      \n",
       "34  NaN         NaN      NaN      \n",
       "91  NaN         NaN      NaN      \n",
       "94  NaN         NaN      NaN      \n",
       "103 NaN         NaN      NaN      "
      ]
     },
     "execution_count": 15,
     "metadata": {},
     "output_type": "execute_result"
    }
   ],
   "source": [
    "df[df.index.isin(failed)].head()"
   ]
  },
  {
   "cell_type": "code",
   "execution_count": 12,
   "metadata": {
    "collapsed": false
   },
   "outputs": [
    {
     "data": {
      "text/plain": [
       "135"
      ]
     },
     "execution_count": 12,
     "metadata": {},
     "output_type": "execute_result"
    }
   ],
   "source": [
    "len(df[df.pubmed_id.isnull()])"
   ]
  },
  {
   "cell_type": "code",
   "execution_count": 13,
   "metadata": {
    "collapsed": true
   },
   "outputs": [],
   "source": [
    "df.to_csv(\"test_data_filardo.csv\", \n",
    "          quoting=csv.QUOTE_ALL,\n",
    "          index=False)"
   ]
  },
  {
   "cell_type": "markdown",
   "metadata": {},
   "source": [
    "### Start here if the export datafile is present"
   ]
  },
  {
   "cell_type": "code",
   "execution_count": 81,
   "metadata": {
    "collapsed": true
   },
   "outputs": [],
   "source": [
    "df = pd.read_csv('test_data_filardo.csv')"
   ]
  },
  {
   "cell_type": "code",
   "execution_count": 215,
   "metadata": {
    "collapsed": false
   },
   "outputs": [
    {
     "name": "stdout",
     "output_type": "stream",
     "text": [
      "Entries in Filardo et al: 3204\n",
      "Entries not matched to PubMed: 145\n"
     ]
    },
    {
     "data": {
      "text/html": [
       "<div>\n",
       "<table border=\"1\" class=\"dataframe\">\n",
       "  <thead>\n",
       "    <tr style=\"text-align: right;\">\n",
       "      <th></th>\n",
       "      <th>Article_ID</th>\n",
       "      <th>Full_Title</th>\n",
       "      <th>Link_to_Article</th>\n",
       "      <th>Journal</th>\n",
       "      <th>Year</th>\n",
       "      <th>Month</th>\n",
       "      <th>First Author Gender</th>\n",
       "      <th>pubmed_query</th>\n",
       "      <th>pubmed_id</th>\n",
       "      <th>ForeName</th>\n",
       "      <th>LastName</th>\n",
       "    </tr>\n",
       "  </thead>\n",
       "  <tbody>\n",
       "    <tr>\n",
       "      <th>0</th>\n",
       "      <td>Aaby et al. (2010)</td>\n",
       "      <td>Non-specific effects of standard measles vaccine at 4.5 and 9 months of age on childhood mortality: randomised controlled trial</td>\n",
       "      <td>NaN</td>\n",
       "      <td>BMJ</td>\n",
       "      <td>2010</td>\n",
       "      <td>12 - Dec</td>\n",
       "      <td>Male</td>\n",
       "      <td>Aaby 2010 specific effects standard measles vaccine months childhood mortality randomised controlled trial</td>\n",
       "      <td>21118875.0</td>\n",
       "      <td>Peter</td>\n",
       "      <td>Aaby</td>\n",
       "    </tr>\n",
       "    <tr>\n",
       "      <th>1</th>\n",
       "      <td>Aaron et al. (2007)</td>\n",
       "      <td>Tiotropium in Combination with Placebo| Salmeterol| or Fluticasone–Salmeterol for Treatment of Chronic Obstructive Pulmonary Disease: A Randomized Trial</td>\n",
       "      <td>http://annals.org/article.aspx?articleid=734106</td>\n",
       "      <td>Annals of Internal Medicine</td>\n",
       "      <td>2007</td>\n",
       "      <td>04 - Apr</td>\n",
       "      <td>Male</td>\n",
       "      <td>Aaron 2007 Tiotropium Combination Placebo Salmeterol Fluticasone–Salmeterol Treatment Chronic Obstructive Pulmonary Disease Randomized Trial</td>\n",
       "      <td>17310045.0</td>\n",
       "      <td>Shawn D</td>\n",
       "      <td>Aaron</td>\n",
       "    </tr>\n",
       "    <tr>\n",
       "      <th>2</th>\n",
       "      <td>Abbott et al. (2004)</td>\n",
       "      <td>?-Blocker Use in Long-term Dialysis Patients Association With Hospitalized Heart Failure and Mortality</td>\n",
       "      <td>http://archinte.jamanetwork.com/article.aspx?articleid=217784</td>\n",
       "      <td>Archives of Internal Medicine</td>\n",
       "      <td>2004</td>\n",
       "      <td>12 - Dec</td>\n",
       "      <td>Male</td>\n",
       "      <td>Abbott 2004 Blocker Dialysis Patients Association Hospitalized Heart Failure Mortality</td>\n",
       "      <td>15596637.0</td>\n",
       "      <td>Kevin C</td>\n",
       "      <td>Abbott</td>\n",
       "    </tr>\n",
       "    <tr>\n",
       "      <th>3</th>\n",
       "      <td>Abdulla et al. (2008)</td>\n",
       "      <td>Safety and Immunogenicity of RTS|S/AS02D Malaria Vaccine in Infants</td>\n",
       "      <td>http://www.nejm.org/doi/pdf/10.1056/NEJMoa0807773</td>\n",
       "      <td>NEJM</td>\n",
       "      <td>2008</td>\n",
       "      <td>12 - Dec</td>\n",
       "      <td>Male</td>\n",
       "      <td>Abdulla 2008 Safety Immunogenicity AS02D Malaria Vaccine Infants</td>\n",
       "      <td>19064623.0</td>\n",
       "      <td>Salim</td>\n",
       "      <td>Abdulla</td>\n",
       "    </tr>\n",
       "    <tr>\n",
       "      <th>4</th>\n",
       "      <td>Aboa-Eboule et al. (2007)</td>\n",
       "      <td>Job Strain and Risk of Acute Recurrent Coronary Heart Disease Events</td>\n",
       "      <td>http://jama.jamanetwork.com/article.aspx?articleid=209121</td>\n",
       "      <td>JAMA</td>\n",
       "      <td>2007</td>\n",
       "      <td>10 - Oct</td>\n",
       "      <td>Female</td>\n",
       "      <td>Aboa-Eboule 2007 Strain Acute Recurrent Coronary Heart Disease Events</td>\n",
       "      <td>17925517.0</td>\n",
       "      <td>Corine</td>\n",
       "      <td>Aboa-Eboulé</td>\n",
       "    </tr>\n",
       "  </tbody>\n",
       "</table>\n",
       "</div>"
      ],
      "text/plain": [
       "                  Article_ID  \\\n",
       "0  Aaby et al. (2010)          \n",
       "1  Aaron et al. (2007)         \n",
       "2  Abbott et al. (2004)        \n",
       "3  Abdulla et al. (2008)       \n",
       "4  Aboa-Eboule et al. (2007)   \n",
       "\n",
       "                                                                                                                                                 Full_Title  \\\n",
       "0  Non-specific effects of standard measles vaccine at 4.5 and 9 months of age on childhood mortality: randomised controlled trial                            \n",
       "1  Tiotropium in Combination with Placebo| Salmeterol| or Fluticasone–Salmeterol for Treatment of Chronic Obstructive Pulmonary Disease: A Randomized Trial   \n",
       "2  ?-Blocker Use in Long-term Dialysis Patients Association With Hospitalized Heart Failure and Mortality                                                     \n",
       "3  Safety and Immunogenicity of RTS|S/AS02D Malaria Vaccine in Infants                                                                                        \n",
       "4  Job Strain and Risk of Acute Recurrent Coronary Heart Disease Events                                                                                       \n",
       "\n",
       "                                                 Link_to_Article  \\\n",
       "0  NaN                                                             \n",
       "1  http://annals.org/article.aspx?articleid=734106                 \n",
       "2  http://archinte.jamanetwork.com/article.aspx?articleid=217784   \n",
       "3  http://www.nejm.org/doi/pdf/10.1056/NEJMoa0807773               \n",
       "4  http://jama.jamanetwork.com/article.aspx?articleid=209121       \n",
       "\n",
       "                         Journal  Year     Month First Author Gender  \\\n",
       "0  BMJ                            2010  12 - Dec  Male                 \n",
       "1  Annals of Internal Medicine    2007  04 - Apr  Male                 \n",
       "2  Archives of Internal Medicine  2004  12 - Dec  Male                 \n",
       "3  NEJM                           2008  12 - Dec  Male                 \n",
       "4  JAMA                           2007  10 - Oct  Female               \n",
       "\n",
       "                                                                                                                                   pubmed_query  \\\n",
       "0  Aaby 2010 specific effects standard measles vaccine months childhood mortality randomised controlled trial                                     \n",
       "1  Aaron 2007 Tiotropium Combination Placebo Salmeterol Fluticasone–Salmeterol Treatment Chronic Obstructive Pulmonary Disease Randomized Trial   \n",
       "2  Abbott 2004 Blocker Dialysis Patients Association Hospitalized Heart Failure Mortality                                                         \n",
       "3  Abdulla 2008 Safety Immunogenicity AS02D Malaria Vaccine Infants                                                                               \n",
       "4  Aboa-Eboule 2007 Strain Acute Recurrent Coronary Heart Disease Events                                                                          \n",
       "\n",
       "    pubmed_id ForeName     LastName  \n",
       "0  21118875.0  Peter    Aaby         \n",
       "1  17310045.0  Shawn D  Aaron        \n",
       "2  15596637.0  Kevin C  Abbott       \n",
       "3  19064623.0  Salim    Abdulla      \n",
       "4  17925517.0  Corine   Aboa-Eboulé  "
      ]
     },
     "execution_count": 215,
     "metadata": {},
     "output_type": "execute_result"
    }
   ],
   "source": [
    "# Remove entries that weren't matched to pubmed\n",
    "print('Entries in Filardo et al: {}'.format(len(df)))\n",
    "print('Entries not matched to PubMed: {}'.format(len(df[df.pubmed_id.isnull()])))\n",
    "notmatched = df[df.pubmed_id.isnull()]\n",
    "df = df[~df.pubmed_id.isnull()]\n",
    "df.head()"
   ]
  },
  {
   "cell_type": "code",
   "execution_count": 95,
   "metadata": {
    "collapsed": false
   },
   "outputs": [
    {
     "data": {
      "text/plain": [
       "['Abou-Setta 2011 Comparative Effectiveness Management Interventions Fracture Systematic Review',\n",
       " 'Abraham 2002 Cardiac Resynchronization Chronic Heart Failure',\n",
       " 'ACTIVE 2006 Clopidogrel aspirin versus anticoagulation atrial fibrillation Atrial fibrillation Clopidogrel Trial Irbesartan prevention Vascular Events ACTIVE randomised controlled trial',\n",
       " 'Adzick 2000 Pediatric Surgery',\n",
       " 'Albalak 2007 Rachel Albalak Richard O’Brien Steve Kammerer O’Brien Suzanne Marks Kenneth Castro Marisa Moore',\n",
       " 'Alexander 2008 National Trends Treatment Diabetes Mellitus',\n",
       " 'Allen 2013 Lactobacilli bifidobacteria prevention antibiotic associated diarrhoea Clostridium difficile diarrhoea older inpatients PLACIDE randomised double blind placebo controlled multicentre trial',\n",
       " 'Alvarez-Blasko 2006 Prevalence Characteristics Polycystic Ovary Syndrome Overweight Obese Women',\n",
       " 'Anderson 2014 Rates Cardiopulmonary Resuscitation Training United States',\n",
       " 'Anstrom 2008 Clinical Outcomes Following Coronary Stenting']"
      ]
     },
     "execution_count": 95,
     "metadata": {},
     "output_type": "execute_result"
    }
   ],
   "source": [
    "list(notmatched.pubmed_query[:10])"
   ]
  },
  {
   "cell_type": "code",
   "execution_count": 110,
   "metadata": {
    "collapsed": false
   },
   "outputs": [
    {
     "data": {
      "text/plain": [
       "['Comparative Effectiveness of Pain Management Interventions for Hip Fracture: A Systematic Review',\n",
       " 'Cardiac Resynchronization in Chronic Heart Failure',\n",
       " 'Clopidogrel plus aspirin versus oral anticoagulation for atrial fibrillation in the Atrial fibrillation Clopidogrel Trial with Irbesartan for prevention of Vascular Events (ACTIVE W): a randomised controlled trial',\n",
       " 'Pediatric Surgery',\n",
       " 'Rachel Albalak| PhD; Richard J. O’Brien| MD; J. Steve Kammerer| MBA; Sean M. O’Brien| PhD; Suzanne M. Marks| MPH| MA; Kenneth G. Castro| MD; Marisa Moore| MD',\n",
       " 'National Trends in Treatment of Type 2 Diabetes Mellitus| 1994-2007',\n",
       " 'Lactobacilli and bifidobacteria in the prevention of antibiotic-associated diarrhoea and Clostridium difficile diarrhoea in older inpatients (PLACIDE): a randomised| double-blind| placebo-controlled| multicentre trial',\n",
       " 'Prevalence and Characteristics of the Polycystic Ovary Syndrome in Overweight and Obese Women',\n",
       " 'Rates of Cardiopulmonary Resuscitation Training in the United States',\n",
       " 'Long-term Clinical Outcomes Following Coronary Stenting']"
      ]
     },
     "execution_count": 110,
     "metadata": {},
     "output_type": "execute_result"
    }
   ],
   "source": [
    "list(notmatched.Full_Title[:10])"
   ]
  },
  {
   "cell_type": "code",
   "execution_count": 190,
   "metadata": {
    "collapsed": false
   },
   "outputs": [],
   "source": []
  },
  {
   "cell_type": "code",
   "execution_count": 158,
   "metadata": {
    "collapsed": false
   },
   "outputs": [],
   "source": [
    "authors = [p['MedlineCitation']['Article']['AuthorList'] for p in papers['PubmedArticle']]\n",
    "scores = [(pid, author, difflib.SequenceMatcher(None, to_match_title, tit).ratio()) \\\n",
    "          for (pid, author, tit) in zip(pubmed_ids, authors, titles)]\n",
    "matched = max(scores, key=lambda x:x[2])"
   ]
  },
  {
   "cell_type": "code",
   "execution_count": 191,
   "metadata": {
    "collapsed": false
   },
   "outputs": [
    {
     "data": {
      "text/plain": [
       "(12063368,\n",
       " DictElement({'Identifier': [], 'AffiliationInfo': [{'Identifier': [], 'Affiliation': 'Division of Cardiovascular Medicine, University of Kentucky College of Medicine, Lexington 40536-0284, USA. wtabra2@uky.edu'}], 'LastName': 'Abraham', 'ForeName': 'William T', 'Initials': 'WT'}, attributes={'ValidYN': 'Y'}))"
      ]
     },
     "execution_count": 191,
     "metadata": {},
     "output_type": "execute_result"
    }
   ],
   "source": [
    "s = 'Abraham 2002 Cardiac Resynchronization Chronic Heart Failure'\n",
    "query_pubmed(s)"
   ]
  },
  {
   "cell_type": "code",
   "execution_count": 166,
   "metadata": {
    "collapsed": false
   },
   "outputs": [
    {
     "data": {
      "text/plain": [
       "'William T'"
      ]
     },
     "execution_count": 166,
     "metadata": {},
     "output_type": "execute_result"
    }
   ],
   "source": [
    "author[0]['ForeName']"
   ]
  },
  {
   "cell_type": "code",
   "execution_count": 168,
   "metadata": {
    "collapsed": false
   },
   "outputs": [
    {
     "data": {
      "text/plain": [
       "['William T', 'Finlay A', 'William T']"
      ]
     },
     "execution_count": 168,
     "metadata": {},
     "output_type": "execute_result"
    }
   ],
   "source": [
    "[au[0]['ForeName'] for au in authors]"
   ]
  },
  {
   "cell_type": "code",
   "execution_count": 169,
   "metadata": {
    "collapsed": false
   },
   "outputs": [
    {
     "data": {
      "text/plain": [
       "['Abraham', 'McAlister', 'Abraham']"
      ]
     },
     "execution_count": 169,
     "metadata": {},
     "output_type": "execute_result"
    }
   ],
   "source": [
    "[au[0]['LastName'] for au in authors]"
   ]
  },
  {
   "cell_type": "code",
   "execution_count": 170,
   "metadata": {
    "collapsed": false
   },
   "outputs": [
    {
     "data": {
      "text/plain": [
       "(21118875,\n",
       " DictElement({'Identifier': [], 'AffiliationInfo': [{'Identifier': [], 'Affiliation': 'Bandim Health Project, Indepth Network, Bissau, Guinea-Bissau. p.aaby@bandim.org'}], 'LastName': 'Aaby', 'ForeName': 'Peter', 'Initials': 'P'}, attributes={'ValidYN': 'Y'}))"
      ]
     },
     "execution_count": 170,
     "metadata": {},
     "output_type": "execute_result"
    }
   ],
   "source": [
    "au2 = query_pubmed(df.pubmed_query[0])\n",
    "au2"
   ]
  },
  {
   "cell_type": "code",
   "execution_count": 176,
   "metadata": {
    "collapsed": false
   },
   "outputs": [
    {
     "data": {
      "text/plain": [
       "Bio.Entrez.Parser.StructureElement"
      ]
     },
     "execution_count": 176,
     "metadata": {},
     "output_type": "execute_result"
    }
   ],
   "source": [
    "type(au2[1])"
   ]
  },
  {
   "cell_type": "code",
   "execution_count": 181,
   "metadata": {
    "collapsed": false
   },
   "outputs": [
    {
     "data": {
      "text/plain": [
       "Bio.Entrez.Parser.ListElement"
      ]
     },
     "execution_count": 181,
     "metadata": {},
     "output_type": "execute_result"
    }
   ],
   "source": [
    "type(author)"
   ]
  },
  {
   "cell_type": "code",
   "execution_count": 183,
   "metadata": {
    "collapsed": false
   },
   "outputs": [
    {
     "data": {
      "text/plain": [
       "True"
      ]
     },
     "execution_count": 183,
     "metadata": {},
     "output_type": "execute_result"
    }
   ],
   "source": [
    "isinstance(author, Entrez.Parser.ListElement)"
   ]
  },
  {
   "cell_type": "code",
   "execution_count": 120,
   "metadata": {
    "collapsed": false
   },
   "outputs": [
    {
     "data": {
      "text/plain": [
       "'raham 2002 Cardiac Resynchronization Chronic Heart Failure'"
      ]
     },
     "execution_count": 120,
     "metadata": {},
     "output_type": "execute_result"
    }
   ],
   "source": [
    "' '.join(('Abraham 2002 Cardiac Resynchronization Chronic Heart Failure').split())[2:]"
   ]
  },
  {
   "cell_type": "code",
   "execution_count": 128,
   "metadata": {
    "collapsed": false
   },
   "outputs": [],
   "source": [
    "ss = 'Abraham 2002 Cardiac Resynchronization Chronic Heart Failure'\n",
    "to_match_title = ' '.join(ss.split()[2:])"
   ]
  },
  {
   "cell_type": "code",
   "execution_count": 96,
   "metadata": {
    "collapsed": false
   },
   "outputs": [
    {
     "data": {
      "text/plain": [
       "(None, None)"
      ]
     },
     "execution_count": 96,
     "metadata": {},
     "output_type": "execute_result"
    }
   ],
   "source": [
    "query_pubmed('Abraham 2002 Cardiac Resynchronization Chronic Heart Failure')"
   ]
  },
  {
   "cell_type": "code",
   "execution_count": 98,
   "metadata": {
    "collapsed": false
   },
   "outputs": [],
   "source": [
    "res = search('Abraham 2002 Cardiac Resynchronization Chronic Heart Failure')"
   ]
  },
  {
   "cell_type": "code",
   "execution_count": 114,
   "metadata": {
    "collapsed": false
   },
   "outputs": [
    {
     "data": {
      "text/plain": [
       "['12063368', '15353430', '12151867']"
      ]
     },
     "execution_count": 114,
     "metadata": {},
     "output_type": "execute_result"
    }
   ],
   "source": [
    "pubmed_ids = res['IdList']\n",
    "pubmed_ids"
   ]
  },
  {
   "cell_type": "code",
   "execution_count": 102,
   "metadata": {
    "collapsed": false
   },
   "outputs": [],
   "source": [
    "papers = fetch_details(res['IdList'])"
   ]
  },
  {
   "cell_type": "code",
   "execution_count": 115,
   "metadata": {
    "collapsed": false
   },
   "outputs": [
    {
     "data": {
      "text/plain": [
       "['Cardiac resynchronization in chronic heart failure.',\n",
       " 'Systematic review: cardiac resynchronization in patients with symptomatic heart failure.',\n",
       " 'Cardiac resynchronization therapy for heart failure: biventricular pacing and beyond.']"
      ]
     },
     "execution_count": 115,
     "metadata": {},
     "output_type": "execute_result"
    }
   ],
   "source": [
    "titles = [p['MedlineCitation']['Article']['ArticleTitle'] for p in papers['PubmedArticle']]\n",
    "titles"
   ]
  },
  {
   "cell_type": "code",
   "execution_count": 145,
   "metadata": {
    "collapsed": false
   },
   "outputs": [
    {
     "data": {
      "text/plain": [
       "'12063368'"
      ]
     },
     "execution_count": 145,
     "metadata": {},
     "output_type": "execute_result"
    }
   ],
   "source": [
    "scores = [(pid, difflib.SequenceMatcher(None, to_match_title, tit).ratio()) for (pid, tit) in zip(pubmed_ids, titles)]\n",
    "max(scores, key=lambda x:x[1])[0]"
   ]
  },
  {
   "cell_type": "code",
   "execution_count": 112,
   "metadata": {
    "collapsed": false
   },
   "outputs": [
    {
     "data": {
      "text/plain": [
       "0.625"
      ]
     },
     "execution_count": 112,
     "metadata": {},
     "output_type": "execute_result"
    }
   ],
   "source": [
    "import difflib\n",
    "difflib.SequenceMatcher(None, 'hello world', 'hello').ratio()"
   ]
  },
  {
   "cell_type": "code",
   "execution_count": 113,
   "metadata": {
    "collapsed": false
   },
   "outputs": [
    {
     "data": {
      "text/plain": [
       "[0.9108910891089109, 0.6231884057971014, 0.562962962962963]"
      ]
     },
     "execution_count": 113,
     "metadata": {},
     "output_type": "execute_result"
    }
   ],
   "source": [
    "[difflib.SequenceMatcher(None, s, p['MedlineCitation']['Article']['ArticleTitle']).ratio() for p in papers['PubmedArticle']]"
   ]
  },
  {
   "cell_type": "code",
   "execution_count": 65,
   "metadata": {
    "collapsed": true
   },
   "outputs": [],
   "source": [
    "def parse_forename(forename):\n",
    "    name = str(forename).lower()\n",
    "    if len(name.split()) > 1:\n",
    "        first_name, middle_name = name.split()[:2]\n",
    "    else:\n",
    "        first_name, middle_name = name, ''\n",
    "    return first_name, middle_name"
   ]
  },
  {
   "cell_type": "code",
   "execution_count": 72,
   "metadata": {
    "collapsed": false
   },
   "outputs": [],
   "source": [
    "df['first_name'], df['middle_name'] = zip(*df['ForeName'].map(parse_forename))\n",
    "df['last_name'] = df['LastName'].apply(lambda n: str(n).lower())"
   ]
  },
  {
   "cell_type": "code",
   "execution_count": 73,
   "metadata": {
    "collapsed": false
   },
   "outputs": [
    {
     "data": {
      "text/html": [
       "<div>\n",
       "<table border=\"1\" class=\"dataframe\">\n",
       "  <thead>\n",
       "    <tr style=\"text-align: right;\">\n",
       "      <th></th>\n",
       "      <th>Article_ID</th>\n",
       "      <th>Full_Title</th>\n",
       "      <th>Link_to_Article</th>\n",
       "      <th>Journal</th>\n",
       "      <th>Year</th>\n",
       "      <th>Month</th>\n",
       "      <th>First Author Gender</th>\n",
       "      <th>pubmed_query</th>\n",
       "      <th>pubmed_id</th>\n",
       "      <th>ForeName</th>\n",
       "      <th>LastName</th>\n",
       "      <th>first_name</th>\n",
       "      <th>middle_name</th>\n",
       "      <th>last_name</th>\n",
       "    </tr>\n",
       "  </thead>\n",
       "  <tbody>\n",
       "    <tr>\n",
       "      <th>0</th>\n",
       "      <td>Aaby et al. (2010)</td>\n",
       "      <td>Non-specific effects of standard measles vacci...</td>\n",
       "      <td>NaN</td>\n",
       "      <td>BMJ</td>\n",
       "      <td>2010</td>\n",
       "      <td>12 - Dec</td>\n",
       "      <td>Male</td>\n",
       "      <td>Aaby 2010 specific effects standard measles va...</td>\n",
       "      <td>21118875.0</td>\n",
       "      <td>Peter</td>\n",
       "      <td>Aaby</td>\n",
       "      <td>peter</td>\n",
       "      <td></td>\n",
       "      <td>aaby</td>\n",
       "    </tr>\n",
       "    <tr>\n",
       "      <th>1</th>\n",
       "      <td>Aaron et al. (2007)</td>\n",
       "      <td>Tiotropium in Combination with Placebo| Salmet...</td>\n",
       "      <td>http://annals.org/article.aspx?articleid=734106</td>\n",
       "      <td>Annals of Internal Medicine</td>\n",
       "      <td>2007</td>\n",
       "      <td>04 - Apr</td>\n",
       "      <td>Male</td>\n",
       "      <td>Aaron 2007 Tiotropium Combination Placebo Salm...</td>\n",
       "      <td>17310045.0</td>\n",
       "      <td>Shawn D</td>\n",
       "      <td>Aaron</td>\n",
       "      <td>shawn</td>\n",
       "      <td>d</td>\n",
       "      <td>aaron</td>\n",
       "    </tr>\n",
       "    <tr>\n",
       "      <th>2</th>\n",
       "      <td>Abbott et al. (2004)</td>\n",
       "      <td>?-Blocker Use in Long-term Dialysis Patients A...</td>\n",
       "      <td>http://archinte.jamanetwork.com/article.aspx?a...</td>\n",
       "      <td>Archives of Internal Medicine</td>\n",
       "      <td>2004</td>\n",
       "      <td>12 - Dec</td>\n",
       "      <td>Male</td>\n",
       "      <td>Abbott 2004 Blocker Dialysis Patients Associat...</td>\n",
       "      <td>15596637.0</td>\n",
       "      <td>Kevin C</td>\n",
       "      <td>Abbott</td>\n",
       "      <td>kevin</td>\n",
       "      <td>c</td>\n",
       "      <td>abbott</td>\n",
       "    </tr>\n",
       "    <tr>\n",
       "      <th>3</th>\n",
       "      <td>Abdulla et al. (2008)</td>\n",
       "      <td>Safety and Immunogenicity of RTS|S/AS02D Malar...</td>\n",
       "      <td>http://www.nejm.org/doi/pdf/10.1056/NEJMoa0807773</td>\n",
       "      <td>NEJM</td>\n",
       "      <td>2008</td>\n",
       "      <td>12 - Dec</td>\n",
       "      <td>Male</td>\n",
       "      <td>Abdulla 2008 Safety Immunogenicity AS02D Malar...</td>\n",
       "      <td>19064623.0</td>\n",
       "      <td>Salim</td>\n",
       "      <td>Abdulla</td>\n",
       "      <td>salim</td>\n",
       "      <td></td>\n",
       "      <td>abdulla</td>\n",
       "    </tr>\n",
       "    <tr>\n",
       "      <th>4</th>\n",
       "      <td>Aboa-Eboule et al. (2007)</td>\n",
       "      <td>Job Strain and Risk of Acute Recurrent Coronar...</td>\n",
       "      <td>http://jama.jamanetwork.com/article.aspx?artic...</td>\n",
       "      <td>JAMA</td>\n",
       "      <td>2007</td>\n",
       "      <td>10 - Oct</td>\n",
       "      <td>Female</td>\n",
       "      <td>Aboa-Eboule 2007 Strain Acute Recurrent Corona...</td>\n",
       "      <td>17925517.0</td>\n",
       "      <td>Corine</td>\n",
       "      <td>Aboa-Eboulé</td>\n",
       "      <td>corine</td>\n",
       "      <td></td>\n",
       "      <td>aboa-eboulé</td>\n",
       "    </tr>\n",
       "  </tbody>\n",
       "</table>\n",
       "</div>"
      ],
      "text/plain": [
       "                  Article_ID  \\\n",
       "0         Aaby et al. (2010)   \n",
       "1        Aaron et al. (2007)   \n",
       "2       Abbott et al. (2004)   \n",
       "3      Abdulla et al. (2008)   \n",
       "4  Aboa-Eboule et al. (2007)   \n",
       "\n",
       "                                          Full_Title  \\\n",
       "0  Non-specific effects of standard measles vacci...   \n",
       "1  Tiotropium in Combination with Placebo| Salmet...   \n",
       "2  ?-Blocker Use in Long-term Dialysis Patients A...   \n",
       "3  Safety and Immunogenicity of RTS|S/AS02D Malar...   \n",
       "4  Job Strain and Risk of Acute Recurrent Coronar...   \n",
       "\n",
       "                                     Link_to_Article  \\\n",
       "0                                                NaN   \n",
       "1    http://annals.org/article.aspx?articleid=734106   \n",
       "2  http://archinte.jamanetwork.com/article.aspx?a...   \n",
       "3  http://www.nejm.org/doi/pdf/10.1056/NEJMoa0807773   \n",
       "4  http://jama.jamanetwork.com/article.aspx?artic...   \n",
       "\n",
       "                         Journal  Year     Month First Author Gender  \\\n",
       "0                            BMJ  2010  12 - Dec                Male   \n",
       "1    Annals of Internal Medicine  2007  04 - Apr                Male   \n",
       "2  Archives of Internal Medicine  2004  12 - Dec                Male   \n",
       "3                           NEJM  2008  12 - Dec                Male   \n",
       "4                           JAMA  2007  10 - Oct              Female   \n",
       "\n",
       "                                        pubmed_query   pubmed_id ForeName  \\\n",
       "0  Aaby 2010 specific effects standard measles va...  21118875.0    Peter   \n",
       "1  Aaron 2007 Tiotropium Combination Placebo Salm...  17310045.0  Shawn D   \n",
       "2  Abbott 2004 Blocker Dialysis Patients Associat...  15596637.0  Kevin C   \n",
       "3  Abdulla 2008 Safety Immunogenicity AS02D Malar...  19064623.0    Salim   \n",
       "4  Aboa-Eboule 2007 Strain Acute Recurrent Corona...  17925517.0   Corine   \n",
       "\n",
       "      LastName first_name middle_name    last_name  \n",
       "0         Aaby      peter                     aaby  \n",
       "1        Aaron      shawn           d        aaron  \n",
       "2       Abbott      kevin           c       abbott  \n",
       "3      Abdulla      salim                  abdulla  \n",
       "4  Aboa-Eboulé     corine              aboa-eboulé  "
      ]
     },
     "execution_count": 73,
     "metadata": {},
     "output_type": "execute_result"
    }
   ],
   "source": [
    "df.head()"
   ]
  },
  {
   "cell_type": "code",
   "execution_count": 76,
   "metadata": {
    "collapsed": false
   },
   "outputs": [
    {
     "data": {
      "text/plain": [
       "3204"
      ]
     },
     "execution_count": 76,
     "metadata": {},
     "output_type": "execute_result"
    }
   ],
   "source": [
    "len(df)"
   ]
  },
  {
   "cell_type": "code",
   "execution_count": 75,
   "metadata": {
    "collapsed": false
   },
   "outputs": [
    {
     "data": {
      "text/plain": [
       "471"
      ]
     },
     "execution_count": 75,
     "metadata": {},
     "output_type": "execute_result"
    }
   ],
   "source": [
    "len(df[df.pubmed_id.isnull()])"
   ]
  },
  {
   "cell_type": "code",
   "execution_count": 77,
   "metadata": {
    "collapsed": false
   },
   "outputs": [
    {
     "data": {
      "text/plain": [
       "array(['Male', 'Female', 'Unknown'], dtype=object)"
      ]
     },
     "execution_count": 77,
     "metadata": {},
     "output_type": "execute_result"
    }
   ],
   "source": [
    "df['First Author Gender'].unique()"
   ]
  },
  {
   "cell_type": "code",
   "execution_count": 78,
   "metadata": {
    "collapsed": true
   },
   "outputs": [],
   "source": [
    "gender_keys = {'Unknown': 'u', \n",
    "               'Male': 'm',\n",
    "               'Female': 'f'}"
   ]
  },
  {
   "cell_type": "code",
   "execution_count": 82,
   "metadata": {
    "collapsed": true
   },
   "outputs": [],
   "source": [
    "def clean_names(df, data, column):\n",
    "    \"\"\"keep the string in column 'column' if it has more than one character, otherwise replace by ''. \"\"\"\n",
    "    def try_to_simplify(s):\n",
    "        try:\n",
    "            if len(s)>1:\n",
    "                return s\n",
    "            else:\n",
    "                return ''\n",
    "        except:\n",
    "            return ''\n",
    "    df[column] = data[column].map(lambda x: try_to_simplify(x))"
   ]
  },
  {
   "cell_type": "code",
   "execution_count": 87,
   "metadata": {
    "collapsed": false
   },
   "outputs": [],
   "source": [
    "test_data = pd.DataFrame()\n",
    "test_data['first_name'], test_data['middle_name'], test_data['last_name'] = df['first_name'], df['middle_name'], df['last_name']\n",
    "test_data['gender'] = df['First Author Gender'].apply(lambda n: gender_keys[n])\n",
    "#clean_names(test_data, df, 'first_name')\n",
    "#clean_names(test_data, df, 'middle_name')\n",
    "#test_data['full_name'] = df.apply(lambda x: x.ForeName + ' ' + x.LastName)"
   ]
  },
  {
   "cell_type": "code",
   "execution_count": 88,
   "metadata": {
    "collapsed": false
   },
   "outputs": [
    {
     "data": {
      "text/html": [
       "<div>\n",
       "<table border=\"1\" class=\"dataframe\">\n",
       "  <thead>\n",
       "    <tr style=\"text-align: right;\">\n",
       "      <th></th>\n",
       "      <th>first_name</th>\n",
       "      <th>middle_name</th>\n",
       "      <th>last_name</th>\n",
       "      <th>gender</th>\n",
       "    </tr>\n",
       "  </thead>\n",
       "  <tbody>\n",
       "    <tr>\n",
       "      <th>0</th>\n",
       "      <td>peter</td>\n",
       "      <td></td>\n",
       "      <td>aaby</td>\n",
       "      <td>m</td>\n",
       "    </tr>\n",
       "    <tr>\n",
       "      <th>1</th>\n",
       "      <td>shawn</td>\n",
       "      <td>d</td>\n",
       "      <td>aaron</td>\n",
       "      <td>m</td>\n",
       "    </tr>\n",
       "    <tr>\n",
       "      <th>2</th>\n",
       "      <td>kevin</td>\n",
       "      <td>c</td>\n",
       "      <td>abbott</td>\n",
       "      <td>m</td>\n",
       "    </tr>\n",
       "    <tr>\n",
       "      <th>3</th>\n",
       "      <td>salim</td>\n",
       "      <td></td>\n",
       "      <td>abdulla</td>\n",
       "      <td>m</td>\n",
       "    </tr>\n",
       "    <tr>\n",
       "      <th>4</th>\n",
       "      <td>corine</td>\n",
       "      <td></td>\n",
       "      <td>aboa-eboulé</td>\n",
       "      <td>f</td>\n",
       "    </tr>\n",
       "    <tr>\n",
       "      <th>5</th>\n",
       "      <td>nan</td>\n",
       "      <td></td>\n",
       "      <td>nan</td>\n",
       "      <td>m</td>\n",
       "    </tr>\n",
       "    <tr>\n",
       "      <th>6</th>\n",
       "      <td>nan</td>\n",
       "      <td></td>\n",
       "      <td>nan</td>\n",
       "      <td>m</td>\n",
       "    </tr>\n",
       "    <tr>\n",
       "      <th>7</th>\n",
       "      <td>bo</td>\n",
       "      <td></td>\n",
       "      <td>abrahamsen</td>\n",
       "      <td>m</td>\n",
       "    </tr>\n",
       "    <tr>\n",
       "      <th>8</th>\n",
       "      <td>donald</td>\n",
       "      <td>i</td>\n",
       "      <td>abrams</td>\n",
       "      <td>m</td>\n",
       "    </tr>\n",
       "    <tr>\n",
       "      <th>9</th>\n",
       "      <td>nancy</td>\n",
       "      <td>j</td>\n",
       "      <td>aburto</td>\n",
       "      <td>f</td>\n",
       "    </tr>\n",
       "    <tr>\n",
       "      <th>10</th>\n",
       "      <td>nancy</td>\n",
       "      <td>j</td>\n",
       "      <td>aburto</td>\n",
       "      <td>f</td>\n",
       "    </tr>\n",
       "    <tr>\n",
       "      <th>11</th>\n",
       "      <td>jane</td>\n",
       "      <td>ruth</td>\n",
       "      <td>aceng</td>\n",
       "      <td>f</td>\n",
       "    </tr>\n",
       "    <tr>\n",
       "      <th>12</th>\n",
       "      <td>c</td>\n",
       "      <td>g</td>\n",
       "      <td>acker</td>\n",
       "      <td>m</td>\n",
       "    </tr>\n",
       "    <tr>\n",
       "      <th>13</th>\n",
       "      <td>nan</td>\n",
       "      <td></td>\n",
       "      <td>nan</td>\n",
       "      <td>u</td>\n",
       "    </tr>\n",
       "    <tr>\n",
       "      <th>14</th>\n",
       "      <td>linda</td>\n",
       "      <td>s</td>\n",
       "      <td>adair</td>\n",
       "      <td>f</td>\n",
       "    </tr>\n",
       "    <tr>\n",
       "      <th>15</th>\n",
       "      <td>soheir</td>\n",
       "      <td>s</td>\n",
       "      <td>adam</td>\n",
       "      <td>m</td>\n",
       "    </tr>\n",
       "    <tr>\n",
       "      <th>16</th>\n",
       "      <td>alyce</td>\n",
       "      <td>s</td>\n",
       "      <td>adams</td>\n",
       "      <td>f</td>\n",
       "    </tr>\n",
       "    <tr>\n",
       "      <th>17</th>\n",
       "      <td>giovanni</td>\n",
       "      <td></td>\n",
       "      <td>addolorato</td>\n",
       "      <td>m</td>\n",
       "    </tr>\n",
       "    <tr>\n",
       "      <th>18</th>\n",
       "      <td>p</td>\n",
       "      <td>a</td>\n",
       "      <td>ades</td>\n",
       "      <td>m</td>\n",
       "    </tr>\n",
       "    <tr>\n",
       "      <th>19</th>\n",
       "      <td>neill</td>\n",
       "      <td>k</td>\n",
       "      <td>adhikari</td>\n",
       "      <td>m</td>\n",
       "    </tr>\n",
       "    <tr>\n",
       "      <th>20</th>\n",
       "      <td>a</td>\n",
       "      <td>i</td>\n",
       "      <td>adler</td>\n",
       "      <td>f</td>\n",
       "    </tr>\n",
       "    <tr>\n",
       "      <th>21</th>\n",
       "      <td>dwomoa</td>\n",
       "      <td></td>\n",
       "      <td>adu</td>\n",
       "      <td>u</td>\n",
       "    </tr>\n",
       "    <tr>\n",
       "      <th>22</th>\n",
       "      <td>nan</td>\n",
       "      <td></td>\n",
       "      <td>nan</td>\n",
       "      <td>m</td>\n",
       "    </tr>\n",
       "    <tr>\n",
       "      <th>23</th>\n",
       "      <td>walter</td>\n",
       "      <td></td>\n",
       "      <td>ageno</td>\n",
       "      <td>m</td>\n",
       "    </tr>\n",
       "    <tr>\n",
       "      <th>24</th>\n",
       "      <td>e</td>\n",
       "      <td></td>\n",
       "      <td>agerbo</td>\n",
       "      <td>m</td>\n",
       "    </tr>\n",
       "    <tr>\n",
       "      <th>25</th>\n",
       "      <td>l</td>\n",
       "      <td></td>\n",
       "      <td>agertoft</td>\n",
       "      <td>m</td>\n",
       "    </tr>\n",
       "    <tr>\n",
       "      <th>26</th>\n",
       "      <td>giancarlo</td>\n",
       "      <td></td>\n",
       "      <td>agnelli</td>\n",
       "      <td>m</td>\n",
       "    </tr>\n",
       "    <tr>\n",
       "      <th>27</th>\n",
       "      <td>martin</td>\n",
       "      <td></td>\n",
       "      <td>ahlgren</td>\n",
       "      <td>m</td>\n",
       "    </tr>\n",
       "    <tr>\n",
       "      <th>28</th>\n",
       "      <td>jiyoung</td>\n",
       "      <td></td>\n",
       "      <td>ahn</td>\n",
       "      <td>f</td>\n",
       "    </tr>\n",
       "    <tr>\n",
       "      <th>29</th>\n",
       "      <td>alexander</td>\n",
       "      <td>m</td>\n",
       "      <td>aiken</td>\n",
       "      <td>m</td>\n",
       "    </tr>\n",
       "    <tr>\n",
       "      <th>...</th>\n",
       "      <td>...</td>\n",
       "      <td>...</td>\n",
       "      <td>...</td>\n",
       "      <td>...</td>\n",
       "    </tr>\n",
       "    <tr>\n",
       "      <th>3174</th>\n",
       "      <td>k</td>\n",
       "      <td>y</td>\n",
       "      <td>yuen</td>\n",
       "      <td>m</td>\n",
       "    </tr>\n",
       "    <tr>\n",
       "      <th>3175</th>\n",
       "      <td>h</td>\n",
       "      <td>r</td>\n",
       "      <td>yusuf</td>\n",
       "      <td>m</td>\n",
       "    </tr>\n",
       "    <tr>\n",
       "      <th>3176</th>\n",
       "      <td>r</td>\n",
       "      <td></td>\n",
       "      <td>yuval</td>\n",
       "      <td>f</td>\n",
       "    </tr>\n",
       "    <tr>\n",
       "      <th>3177</th>\n",
       "      <td>leo</td>\n",
       "      <td>r</td>\n",
       "      <td>zacharski</td>\n",
       "      <td>m</td>\n",
       "    </tr>\n",
       "    <tr>\n",
       "      <th>3178</th>\n",
       "      <td>woodie</td>\n",
       "      <td>m</td>\n",
       "      <td>zachry</td>\n",
       "      <td>m</td>\n",
       "    </tr>\n",
       "    <tr>\n",
       "      <th>3179</th>\n",
       "      <td>neil</td>\n",
       "      <td>a</td>\n",
       "      <td>zakai</td>\n",
       "      <td>m</td>\n",
       "    </tr>\n",
       "    <tr>\n",
       "      <th>3180</th>\n",
       "      <td>k</td>\n",
       "      <td></td>\n",
       "      <td>zaman</td>\n",
       "      <td>m</td>\n",
       "    </tr>\n",
       "    <tr>\n",
       "      <th>3181</th>\n",
       "      <td>c</td>\n",
       "      <td></td>\n",
       "      <td>zhan</td>\n",
       "      <td>m</td>\n",
       "    </tr>\n",
       "    <tr>\n",
       "      <th>3182</th>\n",
       "      <td>chunliu</td>\n",
       "      <td></td>\n",
       "      <td>zhan</td>\n",
       "      <td>m</td>\n",
       "    </tr>\n",
       "    <tr>\n",
       "      <th>3183</th>\n",
       "      <td>shihai</td>\n",
       "      <td></td>\n",
       "      <td>zhang</td>\n",
       "      <td>m</td>\n",
       "    </tr>\n",
       "    <tr>\n",
       "      <th>3184</th>\n",
       "      <td>nan</td>\n",
       "      <td></td>\n",
       "      <td>nan</td>\n",
       "      <td>m</td>\n",
       "    </tr>\n",
       "    <tr>\n",
       "      <th>3185</th>\n",
       "      <td>yuting</td>\n",
       "      <td></td>\n",
       "      <td>zhang</td>\n",
       "      <td>f</td>\n",
       "    </tr>\n",
       "    <tr>\n",
       "      <th>3186</th>\n",
       "      <td>nan</td>\n",
       "      <td></td>\n",
       "      <td>nan</td>\n",
       "      <td>m</td>\n",
       "    </tr>\n",
       "    <tr>\n",
       "      <th>3187</th>\n",
       "      <td>yiyi</td>\n",
       "      <td></td>\n",
       "      <td>zhang</td>\n",
       "      <td>f</td>\n",
       "    </tr>\n",
       "    <tr>\n",
       "      <th>3188</th>\n",
       "      <td>nan</td>\n",
       "      <td></td>\n",
       "      <td>nan</td>\n",
       "      <td>f</td>\n",
       "    </tr>\n",
       "    <tr>\n",
       "      <th>3189</th>\n",
       "      <td>yuting</td>\n",
       "      <td></td>\n",
       "      <td>zhang</td>\n",
       "      <td>m</td>\n",
       "    </tr>\n",
       "    <tr>\n",
       "      <th>3190</th>\n",
       "      <td>ying</td>\n",
       "      <td>y</td>\n",
       "      <td>zhao</td>\n",
       "      <td>f</td>\n",
       "    </tr>\n",
       "    <tr>\n",
       "      <th>3191</th>\n",
       "      <td>jin-ping</td>\n",
       "      <td></td>\n",
       "      <td>zheng</td>\n",
       "      <td>m</td>\n",
       "    </tr>\n",
       "    <tr>\n",
       "      <th>3192</th>\n",
       "      <td>li</td>\n",
       "      <td></td>\n",
       "      <td>zhou</td>\n",
       "      <td>f</td>\n",
       "    </tr>\n",
       "    <tr>\n",
       "      <th>3193</th>\n",
       "      <td>feng-cai</td>\n",
       "      <td></td>\n",
       "      <td>zhu</td>\n",
       "      <td>m</td>\n",
       "    </tr>\n",
       "    <tr>\n",
       "      <th>3194</th>\n",
       "      <td>m</td>\n",
       "      <td></td>\n",
       "      <td>zidane</td>\n",
       "      <td>f</td>\n",
       "    </tr>\n",
       "    <tr>\n",
       "      <th>3195</th>\n",
       "      <td>r</td>\n",
       "      <td>c</td>\n",
       "      <td>ziegelstein</td>\n",
       "      <td>m</td>\n",
       "    </tr>\n",
       "    <tr>\n",
       "      <th>3196</th>\n",
       "      <td>david</td>\n",
       "      <td>c</td>\n",
       "      <td>ziemer</td>\n",
       "      <td>m</td>\n",
       "    </tr>\n",
       "    <tr>\n",
       "      <th>3197</th>\n",
       "      <td>eyal</td>\n",
       "      <td></td>\n",
       "      <td>zimlichman</td>\n",
       "      <td>m</td>\n",
       "    </tr>\n",
       "    <tr>\n",
       "      <th>3198</th>\n",
       "      <td>camilla</td>\n",
       "      <td></td>\n",
       "      <td>zimmermann</td>\n",
       "      <td>f</td>\n",
       "    </tr>\n",
       "    <tr>\n",
       "      <th>3199</th>\n",
       "      <td>david</td>\n",
       "      <td>s</td>\n",
       "      <td>zingmond</td>\n",
       "      <td>m</td>\n",
       "    </tr>\n",
       "    <tr>\n",
       "      <th>3200</th>\n",
       "      <td>e</td>\n",
       "      <td></td>\n",
       "      <td>ziv</td>\n",
       "      <td>m</td>\n",
       "    </tr>\n",
       "    <tr>\n",
       "      <th>3201</th>\n",
       "      <td>p</td>\n",
       "      <td>e</td>\n",
       "      <td>zollinger</td>\n",
       "      <td>m</td>\n",
       "    </tr>\n",
       "    <tr>\n",
       "      <th>3202</th>\n",
       "      <td>issaka</td>\n",
       "      <td></td>\n",
       "      <td>zongo</td>\n",
       "      <td>m</td>\n",
       "    </tr>\n",
       "    <tr>\n",
       "      <th>3203</th>\n",
       "      <td>donna</td>\n",
       "      <td>m</td>\n",
       "      <td>zulman</td>\n",
       "      <td>f</td>\n",
       "    </tr>\n",
       "  </tbody>\n",
       "</table>\n",
       "<p>3204 rows × 4 columns</p>\n",
       "</div>"
      ],
      "text/plain": [
       "     first_name middle_name    last_name gender\n",
       "0         peter                     aaby      m\n",
       "1         shawn           d        aaron      m\n",
       "2         kevin           c       abbott      m\n",
       "3         salim                  abdulla      m\n",
       "4        corine              aboa-eboulé      f\n",
       "5           nan                      nan      m\n",
       "6           nan                      nan      m\n",
       "7            bo               abrahamsen      m\n",
       "8        donald           i       abrams      m\n",
       "9         nancy           j       aburto      f\n",
       "10        nancy           j       aburto      f\n",
       "11         jane        ruth        aceng      f\n",
       "12            c           g        acker      m\n",
       "13          nan                      nan      u\n",
       "14        linda           s        adair      f\n",
       "15       soheir           s         adam      m\n",
       "16        alyce           s        adams      f\n",
       "17     giovanni               addolorato      m\n",
       "18            p           a         ades      m\n",
       "19        neill           k     adhikari      m\n",
       "20            a           i        adler      f\n",
       "21       dwomoa                      adu      u\n",
       "22          nan                      nan      m\n",
       "23       walter                    ageno      m\n",
       "24            e                   agerbo      m\n",
       "25            l                 agertoft      m\n",
       "26    giancarlo                  agnelli      m\n",
       "27       martin                  ahlgren      m\n",
       "28      jiyoung                      ahn      f\n",
       "29    alexander           m        aiken      m\n",
       "...         ...         ...          ...    ...\n",
       "3174          k           y         yuen      m\n",
       "3175          h           r        yusuf      m\n",
       "3176          r                    yuval      f\n",
       "3177        leo           r    zacharski      m\n",
       "3178     woodie           m       zachry      m\n",
       "3179       neil           a        zakai      m\n",
       "3180          k                    zaman      m\n",
       "3181          c                     zhan      m\n",
       "3182    chunliu                     zhan      m\n",
       "3183     shihai                    zhang      m\n",
       "3184        nan                      nan      m\n",
       "3185     yuting                    zhang      f\n",
       "3186        nan                      nan      m\n",
       "3187       yiyi                    zhang      f\n",
       "3188        nan                      nan      f\n",
       "3189     yuting                    zhang      m\n",
       "3190       ying           y         zhao      f\n",
       "3191   jin-ping                    zheng      m\n",
       "3192         li                     zhou      f\n",
       "3193   feng-cai                      zhu      m\n",
       "3194          m                   zidane      f\n",
       "3195          r           c  ziegelstein      m\n",
       "3196      david           c       ziemer      m\n",
       "3197       eyal               zimlichman      m\n",
       "3198    camilla               zimmermann      f\n",
       "3199      david           s     zingmond      m\n",
       "3200          e                      ziv      m\n",
       "3201          p           e    zollinger      m\n",
       "3202     issaka                    zongo      m\n",
       "3203      donna           m       zulman      f\n",
       "\n",
       "[3204 rows x 4 columns]"
      ]
     },
     "execution_count": 88,
     "metadata": {},
     "output_type": "execute_result"
    }
   ],
   "source": [
    "test_data"
   ]
  },
  {
   "cell_type": "code",
   "execution_count": null,
   "metadata": {
    "collapsed": true
   },
   "outputs": [],
   "source": []
  }
 ],
 "metadata": {
  "kernelspec": {
   "display_name": "Python 3",
   "language": "python",
   "name": "python3"
  },
  "language_info": {
   "codemirror_mode": {
    "name": "ipython",
    "version": 3
   },
   "file_extension": ".py",
   "mimetype": "text/x-python",
   "name": "python",
   "nbconvert_exporter": "python",
   "pygments_lexer": "ipython3",
   "version": "3.6.0"
  }
 },
 "nbformat": 4,
 "nbformat_minor": 2
}
