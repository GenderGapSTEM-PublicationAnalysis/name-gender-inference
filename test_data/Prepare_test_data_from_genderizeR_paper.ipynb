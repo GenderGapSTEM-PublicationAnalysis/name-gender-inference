{
 "cells": [
  {
   "cell_type": "markdown",
   "metadata": {},
   "source": [
    "### Test data from genderizeR project"
   ]
  },
  {
   "cell_type": "code",
   "execution_count": 1,
   "metadata": {},
   "outputs": [],
   "source": [
    "import pandas as pd\n",
    "import csv"
   ]
  },
  {
   "cell_type": "code",
   "execution_count": 2,
   "metadata": {},
   "outputs": [],
   "source": [
    "# This data obtained from https://github.com/kalimu/genderizeR/tree/master/data taking the authorships file, \n",
    "# opening and reading it in R Studio, exporting to csv\n",
    "test_data_raw = pd.read_csv('authorships_genderizeR_paper.csv')"
   ]
  },
  {
   "cell_type": "code",
   "execution_count": 3,
   "metadata": {},
   "outputs": [
    {
     "data": {
      "text/html": [
       "<div>\n",
       "<style scoped>\n",
       "    .dataframe tbody tr th:only-of-type {\n",
       "        vertical-align: middle;\n",
       "    }\n",
       "\n",
       "    .dataframe tbody tr th {\n",
       "        vertical-align: top;\n",
       "    }\n",
       "\n",
       "    .dataframe thead th {\n",
       "        text-align: right;\n",
       "    }\n",
       "</style>\n",
       "<table border=\"1\" class=\"dataframe\">\n",
       "  <thead>\n",
       "    <tr style=\"text-align: right;\">\n",
       "      <th></th>\n",
       "      <th>Unnamed: 0</th>\n",
       "      <th>WOSaccessionNumber</th>\n",
       "      <th>title</th>\n",
       "      <th>authors</th>\n",
       "      <th>value</th>\n",
       "      <th>genderCoded</th>\n",
       "    </tr>\n",
       "  </thead>\n",
       "  <tbody>\n",
       "    <tr>\n",
       "      <th>0</th>\n",
       "      <td>1</td>\n",
       "      <td>A1993LL08800024</td>\n",
       "      <td>MCNUTT,JAMES,WESLEY - OBITUARIES</td>\n",
       "      <td>ARMSON, KA</td>\n",
       "      <td>ARMSON, KA</td>\n",
       "      <td>noname</td>\n",
       "    </tr>\n",
       "    <tr>\n",
       "      <th>1</th>\n",
       "      <td>2</td>\n",
       "      <td>000307797400050</td>\n",
       "      <td>GLENN PRESTWICH</td>\n",
       "      <td>Thayer, Ann</td>\n",
       "      <td>Thayer, Ann</td>\n",
       "      <td>unknown</td>\n",
       "    </tr>\n",
       "    <tr>\n",
       "      <th>2</th>\n",
       "      <td>3</td>\n",
       "      <td>A19668808300004</td>\n",
       "      <td>OBITUARY - HEVESY,GV</td>\n",
       "      <td>ERDOS, J</td>\n",
       "      <td>ERDOS, J</td>\n",
       "      <td>noname</td>\n",
       "    </tr>\n",
       "    <tr>\n",
       "      <th>3</th>\n",
       "      <td>4</td>\n",
       "      <td>A1994PL30300031</td>\n",
       "      <td>NIXON AND THE DISABILITY-RIGHTS MOVEMENT .2. A...</td>\n",
       "      <td>LONGMORE, P</td>\n",
       "      <td>LONGMORE, P</td>\n",
       "      <td>noname</td>\n",
       "    </tr>\n",
       "    <tr>\n",
       "      <th>4</th>\n",
       "      <td>5</td>\n",
       "      <td>A1993KU74400007</td>\n",
       "      <td>ABEL,YVES</td>\n",
       "      <td>Anonymous</td>\n",
       "      <td>Anonymous</td>\n",
       "      <td>noname</td>\n",
       "    </tr>\n",
       "  </tbody>\n",
       "</table>\n",
       "</div>"
      ],
      "text/plain": [
       "   Unnamed: 0 WOSaccessionNumber  \\\n",
       "0           1    A1993LL08800024   \n",
       "1           2    000307797400050   \n",
       "2           3    A19668808300004   \n",
       "3           4    A1994PL30300031   \n",
       "4           5    A1993KU74400007   \n",
       "\n",
       "                                               title      authors  \\\n",
       "0                   MCNUTT,JAMES,WESLEY - OBITUARIES   ARMSON, KA   \n",
       "1                                    GLENN PRESTWICH  Thayer, Ann   \n",
       "2                               OBITUARY - HEVESY,GV     ERDOS, J   \n",
       "3  NIXON AND THE DISABILITY-RIGHTS MOVEMENT .2. A...  LONGMORE, P   \n",
       "4                                          ABEL,YVES    Anonymous   \n",
       "\n",
       "         value genderCoded  \n",
       "0   ARMSON, KA      noname  \n",
       "1  Thayer, Ann     unknown  \n",
       "2     ERDOS, J      noname  \n",
       "3  LONGMORE, P      noname  \n",
       "4    Anonymous      noname  "
      ]
     },
     "execution_count": 3,
     "metadata": {},
     "output_type": "execute_result"
    }
   ],
   "source": [
    "test_data_raw.head()"
   ]
  },
  {
   "cell_type": "code",
   "execution_count": 4,
   "metadata": {},
   "outputs": [],
   "source": [
    "# Extract the data in the same format than the zbMATH test data\n",
    "# columns: id, raw_name, first_name, middle_name, last_name, gender\n",
    "\n",
    "def split_name(raw_name):\n",
    "    # Lower case\n",
    "    raw_name = raw_name.lower()\n",
    "    # Everything before a comma is last_name\n",
    "    try:\n",
    "        last_name, name = raw_name.strip().strip('.').split(',')\n",
    "    except ValueError:\n",
    "        name = None\n",
    "        last_name, first_name, middle_name = raw_name.strip().strip('.'), None, None\n",
    "    # Now parse name\n",
    "    if name:\n",
    "        try:\n",
    "            name_parts = name.strip().strip('.').split()\n",
    "            first_name = name_parts[0]\n",
    "            if len(name_parts)>=2:\n",
    "                middle_name = ' '.join(name_parts[1:])\n",
    "            else:\n",
    "                middle_name = None\n",
    "        except ValueError:\n",
    "            first_name, middle_name = name.strip().strip('.'), None\n",
    "    return first_name, middle_name, last_name "
   ]
  },
  {
   "cell_type": "code",
   "execution_count": 5,
   "metadata": {},
   "outputs": [],
   "source": [
    "gender_keys = {'noname': 'noname', \n",
    "               'unknown': 'u', \n",
    "               'male': 'm',\n",
    "               'female': 'f'}"
   ]
  },
  {
   "cell_type": "code",
   "execution_count": 6,
   "metadata": {},
   "outputs": [],
   "source": [
    "test_data = pd.DataFrame()"
   ]
  },
  {
   "cell_type": "code",
   "execution_count": 7,
   "metadata": {},
   "outputs": [],
   "source": [
    "test_data['id'] = test_data_raw['Unnamed: 0']\n",
    "test_data['raw_name'] = test_data_raw['value']\n",
    "test_data['first_name'], test_data['middle_name'], test_data['last_name'] = zip(*test_data_raw['value'].map(split_name))\n",
    "test_data['gender'] = test_data_raw['genderCoded'].apply(lambda n: gender_keys[n])"
   ]
  },
  {
   "cell_type": "code",
   "execution_count": 8,
   "metadata": {
    "scrolled": true
   },
   "outputs": [
    {
     "data": {
      "text/html": [
       "<div>\n",
       "<style scoped>\n",
       "    .dataframe tbody tr th:only-of-type {\n",
       "        vertical-align: middle;\n",
       "    }\n",
       "\n",
       "    .dataframe tbody tr th {\n",
       "        vertical-align: top;\n",
       "    }\n",
       "\n",
       "    .dataframe thead th {\n",
       "        text-align: right;\n",
       "    }\n",
       "</style>\n",
       "<table border=\"1\" class=\"dataframe\">\n",
       "  <thead>\n",
       "    <tr style=\"text-align: right;\">\n",
       "      <th></th>\n",
       "      <th>id</th>\n",
       "      <th>raw_name</th>\n",
       "      <th>first_name</th>\n",
       "      <th>middle_name</th>\n",
       "      <th>last_name</th>\n",
       "      <th>gender</th>\n",
       "    </tr>\n",
       "  </thead>\n",
       "  <tbody>\n",
       "    <tr>\n",
       "      <th>0</th>\n",
       "      <td>1</td>\n",
       "      <td>ARMSON, KA</td>\n",
       "      <td>ka</td>\n",
       "      <td>None</td>\n",
       "      <td>armson</td>\n",
       "      <td>noname</td>\n",
       "    </tr>\n",
       "    <tr>\n",
       "      <th>1</th>\n",
       "      <td>2</td>\n",
       "      <td>Thayer, Ann</td>\n",
       "      <td>ann</td>\n",
       "      <td>None</td>\n",
       "      <td>thayer</td>\n",
       "      <td>u</td>\n",
       "    </tr>\n",
       "    <tr>\n",
       "      <th>2</th>\n",
       "      <td>3</td>\n",
       "      <td>ERDOS, J</td>\n",
       "      <td>j</td>\n",
       "      <td>None</td>\n",
       "      <td>erdos</td>\n",
       "      <td>noname</td>\n",
       "    </tr>\n",
       "    <tr>\n",
       "      <th>3</th>\n",
       "      <td>4</td>\n",
       "      <td>LONGMORE, P</td>\n",
       "      <td>p</td>\n",
       "      <td>None</td>\n",
       "      <td>longmore</td>\n",
       "      <td>noname</td>\n",
       "    </tr>\n",
       "    <tr>\n",
       "      <th>4</th>\n",
       "      <td>5</td>\n",
       "      <td>Anonymous</td>\n",
       "      <td>None</td>\n",
       "      <td>None</td>\n",
       "      <td>anonymous</td>\n",
       "      <td>noname</td>\n",
       "    </tr>\n",
       "  </tbody>\n",
       "</table>\n",
       "</div>"
      ],
      "text/plain": [
       "   id     raw_name first_name middle_name  last_name  gender\n",
       "0   1   ARMSON, KA         ka        None     armson  noname\n",
       "1   2  Thayer, Ann        ann        None     thayer       u\n",
       "2   3     ERDOS, J          j        None      erdos  noname\n",
       "3   4  LONGMORE, P          p        None   longmore  noname\n",
       "4   5    Anonymous       None        None  anonymous  noname"
      ]
     },
     "execution_count": 8,
     "metadata": {},
     "output_type": "execute_result"
    }
   ],
   "source": [
    "test_data.head()"
   ]
  },
  {
   "cell_type": "code",
   "execution_count": 9,
   "metadata": {},
   "outputs": [
    {
     "data": {
      "text/plain": [
       "602"
      ]
     },
     "execution_count": 9,
     "metadata": {},
     "output_type": "execute_result"
    }
   ],
   "source": [
    "# How many entries with name\n",
    "len(test_data[test_data.gender != 'noname'])"
   ]
  },
  {
   "cell_type": "code",
   "execution_count": 10,
   "metadata": {},
   "outputs": [
    {
     "data": {
      "text/plain": [
       "m    346\n",
       "u    165\n",
       "f     91\n",
       "Name: gender, dtype: int64"
      ]
     },
     "execution_count": 10,
     "metadata": {},
     "output_type": "execute_result"
    }
   ],
   "source": [
    "# Distribution of male, female, unknown la\n",
    "test_data[test_data.gender != 'noname']['gender'].value_counts()"
   ]
  },
  {
   "cell_type": "code",
   "execution_count": 11,
   "metadata": {},
   "outputs": [
    {
     "data": {
      "text/plain": [
       "array([  1.,  nan])"
      ]
     },
     "execution_count": 11,
     "metadata": {},
     "output_type": "execute_result"
    }
   ],
   "source": [
    "# check whether we have first names that consist of more than one word\n",
    "test_data.first_name.apply(lambda n: int(len(n.split())) if n else None).unique()"
   ]
  },
  {
   "cell_type": "code",
   "execution_count": 12,
   "metadata": {},
   "outputs": [
    {
     "data": {
      "text/html": [
       "<div>\n",
       "<style scoped>\n",
       "    .dataframe tbody tr th:only-of-type {\n",
       "        vertical-align: middle;\n",
       "    }\n",
       "\n",
       "    .dataframe tbody tr th {\n",
       "        vertical-align: top;\n",
       "    }\n",
       "\n",
       "    .dataframe thead th {\n",
       "        text-align: right;\n",
       "    }\n",
       "</style>\n",
       "<table border=\"1\" class=\"dataframe\">\n",
       "  <thead>\n",
       "    <tr style=\"text-align: right;\">\n",
       "      <th></th>\n",
       "      <th>id</th>\n",
       "      <th>raw_name</th>\n",
       "      <th>first_name</th>\n",
       "      <th>middle_name</th>\n",
       "      <th>last_name</th>\n",
       "      <th>gender</th>\n",
       "    </tr>\n",
       "  </thead>\n",
       "  <tbody>\n",
       "    <tr>\n",
       "      <th>330</th>\n",
       "      <td>331</td>\n",
       "      <td>Findlay, James A. M.</td>\n",
       "      <td>james</td>\n",
       "      <td>a. m</td>\n",
       "      <td>findlay</td>\n",
       "      <td>m</td>\n",
       "    </tr>\n",
       "  </tbody>\n",
       "</table>\n",
       "</div>"
      ],
      "text/plain": [
       "      id              raw_name first_name middle_name last_name gender\n",
       "330  331  Findlay, James A. M.      james        a. m   findlay      m"
      ]
     },
     "execution_count": 12,
     "metadata": {},
     "output_type": "execute_result"
    }
   ],
   "source": [
    "# this is an example where raw_name had more than three words separated by ' '\n",
    "test_data[test_data.id==331]"
   ]
  },
  {
   "cell_type": "code",
   "execution_count": 13,
   "metadata": {},
   "outputs": [
    {
     "data": {
      "text/html": [
       "<div>\n",
       "<style scoped>\n",
       "    .dataframe tbody tr th:only-of-type {\n",
       "        vertical-align: middle;\n",
       "    }\n",
       "\n",
       "    .dataframe tbody tr th {\n",
       "        vertical-align: top;\n",
       "    }\n",
       "\n",
       "    .dataframe thead th {\n",
       "        text-align: right;\n",
       "    }\n",
       "</style>\n",
       "<table border=\"1\" class=\"dataframe\">\n",
       "  <thead>\n",
       "    <tr style=\"text-align: right;\">\n",
       "      <th></th>\n",
       "      <th>id</th>\n",
       "      <th>raw_name</th>\n",
       "      <th>first_name</th>\n",
       "      <th>middle_name</th>\n",
       "      <th>last_name</th>\n",
       "      <th>gender</th>\n",
       "    </tr>\n",
       "  </thead>\n",
       "  <tbody>\n",
       "    <tr>\n",
       "      <th>1</th>\n",
       "      <td>2</td>\n",
       "      <td>Thayer, Ann</td>\n",
       "      <td>ann</td>\n",
       "      <td>None</td>\n",
       "      <td>thayer</td>\n",
       "      <td>u</td>\n",
       "    </tr>\n",
       "    <tr>\n",
       "      <th>11</th>\n",
       "      <td>12</td>\n",
       "      <td>Chiesa, Paolo</td>\n",
       "      <td>paolo</td>\n",
       "      <td>None</td>\n",
       "      <td>chiesa</td>\n",
       "      <td>m</td>\n",
       "    </tr>\n",
       "    <tr>\n",
       "      <th>24</th>\n",
       "      <td>25</td>\n",
       "      <td>Abbate, Ernesto</td>\n",
       "      <td>ernesto</td>\n",
       "      <td>None</td>\n",
       "      <td>abbate</td>\n",
       "      <td>m</td>\n",
       "    </tr>\n",
       "    <tr>\n",
       "      <th>28</th>\n",
       "      <td>29</td>\n",
       "      <td>Epstein, John H.</td>\n",
       "      <td>john</td>\n",
       "      <td>h</td>\n",
       "      <td>epstein</td>\n",
       "      <td>m</td>\n",
       "    </tr>\n",
       "    <tr>\n",
       "      <th>34</th>\n",
       "      <td>35</td>\n",
       "      <td>Cotroneo, Margaret</td>\n",
       "      <td>margaret</td>\n",
       "      <td>None</td>\n",
       "      <td>cotroneo</td>\n",
       "      <td>f</td>\n",
       "    </tr>\n",
       "  </tbody>\n",
       "</table>\n",
       "</div>"
      ],
      "text/plain": [
       "    id            raw_name first_name middle_name last_name gender\n",
       "1    2         Thayer, Ann        ann        None    thayer      u\n",
       "11  12       Chiesa, Paolo      paolo        None    chiesa      m\n",
       "24  25     Abbate, Ernesto    ernesto        None    abbate      m\n",
       "28  29    Epstein, John H.       john           h   epstein      m\n",
       "34  35  Cotroneo, Margaret   margaret        None  cotroneo      f"
      ]
     },
     "execution_count": 13,
     "metadata": {},
     "output_type": "execute_result"
    }
   ],
   "source": [
    "data_to_export = test_data[(test_data.gender != 'noname')]\n",
    "data_to_export.head()"
   ]
  },
  {
   "cell_type": "markdown",
   "metadata": {},
   "source": [
    "### Store in CSV files"
   ]
  },
  {
   "cell_type": "code",
   "execution_count": 14,
   "metadata": {},
   "outputs": [],
   "source": [
    "# This file can be used to evaluate other name-based inference services\n",
    "data_to_export.to_csv(\"test_data_genderizeR.csv\", \n",
    "                       columns=[\"first_name\", \"middle_name\", \"last_name\", \"gender\"],\n",
    "                       quoting=csv.QUOTE_ALL,\n",
    "                       index=False)"
   ]
  },
  {
   "cell_type": "code",
   "execution_count": null,
   "metadata": {
    "collapsed": true
   },
   "outputs": [],
   "source": []
  }
 ],
 "metadata": {
  "kernelspec": {
   "display_name": "Python 3",
   "language": "python",
   "name": "python3"
  },
  "language_info": {
   "codemirror_mode": {
    "name": "ipython",
    "version": 3
   },
   "file_extension": ".py",
   "mimetype": "text/x-python",
   "name": "python",
   "nbconvert_exporter": "python",
   "pygments_lexer": "ipython3",
   "version": "3.5.1"
  }
 },
 "nbformat": 4,
 "nbformat_minor": 2
}
