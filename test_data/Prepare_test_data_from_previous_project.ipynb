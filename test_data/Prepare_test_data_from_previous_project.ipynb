{
 "cells": [
  {
   "cell_type": "markdown",
   "metadata": {},
   "source": [
    "## Test data used for previous project"
   ]
  },
  {
   "cell_type": "code",
   "execution_count": 1,
   "metadata": {
    "collapsed": true
   },
   "outputs": [],
   "source": [
    "import pandas as pd\n",
    "import csv"
   ]
  },
  {
   "cell_type": "code",
   "execution_count": 2,
   "metadata": {
    "collapsed": true
   },
   "outputs": [],
   "source": [
    "test_data_manual = pd.read_csv(\"authors_to_genderize_together.csv\")\n",
    "test_data_algo = pd.read_csv(\"authors_to_genderize_together_algo.csv\")"
   ]
  },
  {
   "cell_type": "code",
   "execution_count": 3,
   "metadata": {
    "collapsed": false
   },
   "outputs": [
    {
     "data": {
      "text/html": [
       "<div>\n",
       "<table border=\"1\" class=\"dataframe\">\n",
       "  <thead>\n",
       "    <tr style=\"text-align: right;\">\n",
       "      <th></th>\n",
       "      <th>id</th>\n",
       "      <th>zbMATH id</th>\n",
       "      <th>first name</th>\n",
       "      <th>middle name</th>\n",
       "      <th>surname</th>\n",
       "      <th>ENTER GENDER HERE</th>\n",
       "    </tr>\n",
       "  </thead>\n",
       "  <tbody>\n",
       "    <tr>\n",
       "      <th>0</th>\n",
       "      <td>1091</td>\n",
       "      <td>zhou.ben-da</td>\n",
       "      <td>ben</td>\n",
       "      <td>da</td>\n",
       "      <td>zhou</td>\n",
       "      <td>u</td>\n",
       "    </tr>\n",
       "    <tr>\n",
       "      <th>1</th>\n",
       "      <td>5608</td>\n",
       "      <td>di-castro.agnese</td>\n",
       "      <td>agnese</td>\n",
       "      <td>NaN</td>\n",
       "      <td>di-castro</td>\n",
       "      <td>f</td>\n",
       "    </tr>\n",
       "    <tr>\n",
       "      <th>2</th>\n",
       "      <td>15024</td>\n",
       "      <td>szarek.michael</td>\n",
       "      <td>michael</td>\n",
       "      <td>NaN</td>\n",
       "      <td>szarek</td>\n",
       "      <td>m</td>\n",
       "    </tr>\n",
       "    <tr>\n",
       "      <th>3</th>\n",
       "      <td>20764</td>\n",
       "      <td>watanabe.yumiko</td>\n",
       "      <td>yumiko</td>\n",
       "      <td>NaN</td>\n",
       "      <td>watanabe</td>\n",
       "      <td>f</td>\n",
       "    </tr>\n",
       "    <tr>\n",
       "      <th>4</th>\n",
       "      <td>34006</td>\n",
       "      <td>liu.shaoqing</td>\n",
       "      <td>shaoqing</td>\n",
       "      <td>NaN</td>\n",
       "      <td>liu</td>\n",
       "      <td>m</td>\n",
       "    </tr>\n",
       "  </tbody>\n",
       "</table>\n",
       "</div>"
      ],
      "text/plain": [
       "      id         zbMATH id first name middle name    surname ENTER GENDER HERE\n",
       "0   1091       zhou.ben-da        ben          da       zhou                 u\n",
       "1   5608  di-castro.agnese     agnese         NaN  di-castro                 f\n",
       "2  15024    szarek.michael    michael         NaN     szarek                 m\n",
       "3  20764   watanabe.yumiko     yumiko         NaN   watanabe                 f\n",
       "4  34006      liu.shaoqing   shaoqing         NaN        liu                 m"
      ]
     },
     "execution_count": 3,
     "metadata": {},
     "output_type": "execute_result"
    }
   ],
   "source": [
    "test_data_manual.head()"
   ]
  },
  {
   "cell_type": "code",
   "execution_count": 4,
   "metadata": {
    "collapsed": false
   },
   "outputs": [
    {
     "data": {
      "text/html": [
       "<div>\n",
       "<table border=\"1\" class=\"dataframe\">\n",
       "  <thead>\n",
       "    <tr style=\"text-align: right;\">\n",
       "      <th></th>\n",
       "      <th>id</th>\n",
       "      <th>zbMATH id</th>\n",
       "      <th>first name</th>\n",
       "      <th>middle name</th>\n",
       "      <th>surname</th>\n",
       "      <th>GENDER FROM ALGORITHM</th>\n",
       "    </tr>\n",
       "  </thead>\n",
       "  <tbody>\n",
       "    <tr>\n",
       "      <th>0</th>\n",
       "      <td>1091</td>\n",
       "      <td>zhou.ben-da</td>\n",
       "      <td>ben</td>\n",
       "      <td>da</td>\n",
       "      <td>zhou</td>\n",
       "      <td>u</td>\n",
       "    </tr>\n",
       "    <tr>\n",
       "      <th>1</th>\n",
       "      <td>5608</td>\n",
       "      <td>di-castro.agnese</td>\n",
       "      <td>agnese</td>\n",
       "      <td>NaN</td>\n",
       "      <td>di-castro</td>\n",
       "      <td>f</td>\n",
       "    </tr>\n",
       "    <tr>\n",
       "      <th>2</th>\n",
       "      <td>15024</td>\n",
       "      <td>szarek.michael</td>\n",
       "      <td>michael</td>\n",
       "      <td>NaN</td>\n",
       "      <td>szarek</td>\n",
       "      <td>m</td>\n",
       "    </tr>\n",
       "    <tr>\n",
       "      <th>3</th>\n",
       "      <td>20764</td>\n",
       "      <td>watanabe.yumiko</td>\n",
       "      <td>yumiko</td>\n",
       "      <td>NaN</td>\n",
       "      <td>watanabe</td>\n",
       "      <td>f</td>\n",
       "    </tr>\n",
       "    <tr>\n",
       "      <th>4</th>\n",
       "      <td>34006</td>\n",
       "      <td>liu.shaoqing</td>\n",
       "      <td>shaoqing</td>\n",
       "      <td>NaN</td>\n",
       "      <td>liu</td>\n",
       "      <td>u</td>\n",
       "    </tr>\n",
       "  </tbody>\n",
       "</table>\n",
       "</div>"
      ],
      "text/plain": [
       "      id         zbMATH id first name middle name    surname  \\\n",
       "0   1091       zhou.ben-da        ben          da       zhou   \n",
       "1   5608  di-castro.agnese     agnese         NaN  di-castro   \n",
       "2  15024    szarek.michael    michael         NaN     szarek   \n",
       "3  20764   watanabe.yumiko     yumiko         NaN   watanabe   \n",
       "4  34006      liu.shaoqing   shaoqing         NaN        liu   \n",
       "\n",
       "  GENDER FROM ALGORITHM  \n",
       "0                     u  \n",
       "1                     f  \n",
       "2                     m  \n",
       "3                     f  \n",
       "4                     u  "
      ]
     },
     "execution_count": 4,
     "metadata": {},
     "output_type": "execute_result"
    }
   ],
   "source": [
    "test_data_algo.head()"
   ]
  },
  {
   "cell_type": "code",
   "execution_count": 5,
   "metadata": {
    "collapsed": true
   },
   "outputs": [],
   "source": [
    "test_data_zbmath = test_data_manual.merge(test_data_algo[[\"id\", \"GENDER FROM ALGORITHM\"]], on=\"id\")"
   ]
  },
  {
   "cell_type": "code",
   "execution_count": 6,
   "metadata": {
    "collapsed": false
   },
   "outputs": [
    {
     "data": {
      "text/html": [
       "<div>\n",
       "<table border=\"1\" class=\"dataframe\">\n",
       "  <thead>\n",
       "    <tr style=\"text-align: right;\">\n",
       "      <th></th>\n",
       "      <th>id</th>\n",
       "      <th>zbMATH id</th>\n",
       "      <th>first name</th>\n",
       "      <th>middle name</th>\n",
       "      <th>surname</th>\n",
       "      <th>ENTER GENDER HERE</th>\n",
       "      <th>GENDER FROM ALGORITHM</th>\n",
       "    </tr>\n",
       "  </thead>\n",
       "  <tbody>\n",
       "    <tr>\n",
       "      <th>0</th>\n",
       "      <td>1091</td>\n",
       "      <td>zhou.ben-da</td>\n",
       "      <td>ben</td>\n",
       "      <td>da</td>\n",
       "      <td>zhou</td>\n",
       "      <td>u</td>\n",
       "      <td>u</td>\n",
       "    </tr>\n",
       "    <tr>\n",
       "      <th>1</th>\n",
       "      <td>5608</td>\n",
       "      <td>di-castro.agnese</td>\n",
       "      <td>agnese</td>\n",
       "      <td>NaN</td>\n",
       "      <td>di-castro</td>\n",
       "      <td>f</td>\n",
       "      <td>f</td>\n",
       "    </tr>\n",
       "    <tr>\n",
       "      <th>2</th>\n",
       "      <td>15024</td>\n",
       "      <td>szarek.michael</td>\n",
       "      <td>michael</td>\n",
       "      <td>NaN</td>\n",
       "      <td>szarek</td>\n",
       "      <td>m</td>\n",
       "      <td>m</td>\n",
       "    </tr>\n",
       "    <tr>\n",
       "      <th>3</th>\n",
       "      <td>20764</td>\n",
       "      <td>watanabe.yumiko</td>\n",
       "      <td>yumiko</td>\n",
       "      <td>NaN</td>\n",
       "      <td>watanabe</td>\n",
       "      <td>f</td>\n",
       "      <td>f</td>\n",
       "    </tr>\n",
       "    <tr>\n",
       "      <th>4</th>\n",
       "      <td>34006</td>\n",
       "      <td>liu.shaoqing</td>\n",
       "      <td>shaoqing</td>\n",
       "      <td>NaN</td>\n",
       "      <td>liu</td>\n",
       "      <td>m</td>\n",
       "      <td>u</td>\n",
       "    </tr>\n",
       "  </tbody>\n",
       "</table>\n",
       "</div>"
      ],
      "text/plain": [
       "      id         zbMATH id first name middle name    surname  \\\n",
       "0   1091       zhou.ben-da        ben          da       zhou   \n",
       "1   5608  di-castro.agnese     agnese         NaN  di-castro   \n",
       "2  15024    szarek.michael    michael         NaN     szarek   \n",
       "3  20764   watanabe.yumiko     yumiko         NaN   watanabe   \n",
       "4  34006      liu.shaoqing   shaoqing         NaN        liu   \n",
       "\n",
       "  ENTER GENDER HERE GENDER FROM ALGORITHM  \n",
       "0                 u                     u  \n",
       "1                 f                     f  \n",
       "2                 m                     m  \n",
       "3                 f                     f  \n",
       "4                 m                     u  "
      ]
     },
     "execution_count": 6,
     "metadata": {},
     "output_type": "execute_result"
    }
   ],
   "source": [
    "test_data_zbmath.head()"
   ]
  },
  {
   "cell_type": "code",
   "execution_count": 7,
   "metadata": {
    "collapsed": true
   },
   "outputs": [],
   "source": [
    "test_data_zbmath = test_data_zbmath.rename(columns={\"GENDER FROM ALGORITHM\": \"gender_infered\", \n",
    "                                                    \"ENTER GENDER HERE\": \"gender\", \n",
    "                                                    \"first name\": \"first_name\",\n",
    "                                                    \"middle name\": \"middle_name\",\n",
    "                                                    \"surname\": \"last_name\"})"
   ]
  },
  {
   "cell_type": "code",
   "execution_count": 8,
   "metadata": {
    "collapsed": false
   },
   "outputs": [
    {
     "data": {
      "text/html": [
       "<div>\n",
       "<table border=\"1\" class=\"dataframe\">\n",
       "  <thead>\n",
       "    <tr style=\"text-align: right;\">\n",
       "      <th></th>\n",
       "      <th>id</th>\n",
       "      <th>zbMATH id</th>\n",
       "      <th>first_name</th>\n",
       "      <th>middle_name</th>\n",
       "      <th>last_name</th>\n",
       "      <th>gender</th>\n",
       "      <th>gender_infered</th>\n",
       "    </tr>\n",
       "  </thead>\n",
       "  <tbody>\n",
       "    <tr>\n",
       "      <th>0</th>\n",
       "      <td>1091</td>\n",
       "      <td>zhou.ben-da</td>\n",
       "      <td>ben</td>\n",
       "      <td>da</td>\n",
       "      <td>zhou</td>\n",
       "      <td>u</td>\n",
       "      <td>u</td>\n",
       "    </tr>\n",
       "    <tr>\n",
       "      <th>1</th>\n",
       "      <td>5608</td>\n",
       "      <td>di-castro.agnese</td>\n",
       "      <td>agnese</td>\n",
       "      <td>NaN</td>\n",
       "      <td>di-castro</td>\n",
       "      <td>f</td>\n",
       "      <td>f</td>\n",
       "    </tr>\n",
       "    <tr>\n",
       "      <th>2</th>\n",
       "      <td>15024</td>\n",
       "      <td>szarek.michael</td>\n",
       "      <td>michael</td>\n",
       "      <td>NaN</td>\n",
       "      <td>szarek</td>\n",
       "      <td>m</td>\n",
       "      <td>m</td>\n",
       "    </tr>\n",
       "    <tr>\n",
       "      <th>3</th>\n",
       "      <td>20764</td>\n",
       "      <td>watanabe.yumiko</td>\n",
       "      <td>yumiko</td>\n",
       "      <td>NaN</td>\n",
       "      <td>watanabe</td>\n",
       "      <td>f</td>\n",
       "      <td>f</td>\n",
       "    </tr>\n",
       "    <tr>\n",
       "      <th>4</th>\n",
       "      <td>34006</td>\n",
       "      <td>liu.shaoqing</td>\n",
       "      <td>shaoqing</td>\n",
       "      <td>NaN</td>\n",
       "      <td>liu</td>\n",
       "      <td>m</td>\n",
       "      <td>u</td>\n",
       "    </tr>\n",
       "  </tbody>\n",
       "</table>\n",
       "</div>"
      ],
      "text/plain": [
       "      id         zbMATH id first_name middle_name  last_name gender  \\\n",
       "0   1091       zhou.ben-da        ben          da       zhou      u   \n",
       "1   5608  di-castro.agnese     agnese         NaN  di-castro      f   \n",
       "2  15024    szarek.michael    michael         NaN     szarek      m   \n",
       "3  20764   watanabe.yumiko     yumiko         NaN   watanabe      f   \n",
       "4  34006      liu.shaoqing   shaoqing         NaN        liu      m   \n",
       "\n",
       "  gender_infered  \n",
       "0              u  \n",
       "1              f  \n",
       "2              m  \n",
       "3              f  \n",
       "4              u  "
      ]
     },
     "execution_count": 8,
     "metadata": {},
     "output_type": "execute_result"
    }
   ],
   "source": [
    "test_data_zbmath.head()"
   ]
  },
  {
   "cell_type": "markdown",
   "metadata": {},
   "source": [
    "### Store in CSV files "
   ]
  },
  {
   "cell_type": "code",
   "execution_count": 9,
   "metadata": {
    "collapsed": true
   },
   "outputs": [],
   "source": [
    "# This file can be used to evaluate other name-based inference services\n",
    "test_data_zbmath.to_csv(\"test_data_zbmath.csv\", \n",
    "                        columns=[\"first_name\", \"middle_name\", \"last_name\", \"gender\"],\n",
    "                        quoting=csv.QUOTE_ALL,\n",
    "                       index=False)"
   ]
  },
  {
   "cell_type": "code",
   "execution_count": 10,
   "metadata": {
    "collapsed": true
   },
   "outputs": [],
   "source": [
    "# This file can be used to evaluate the name list by Joerg Michael\n",
    "test_data_zbmath.to_csv(\"test_data_zbmath_joergmichael.csv\", \n",
    "                        columns=[\"first_name\", \"middle_name\", \"last_name\", \"gender\", \"gender_infered\"],\n",
    "                        quoting=csv.QUOTE_ALL,\n",
    "                       index=False)"
   ]
  },
  {
   "cell_type": "markdown",
   "metadata": {},
   "source": [
    "### Full data with 300 entries"
   ]
  },
  {
   "cell_type": "code",
   "execution_count": 11,
   "metadata": {
    "collapsed": false
   },
   "outputs": [],
   "source": [
    "test_data_full = pd.read_csv(\"authors_to_genderize_full.csv\", header=None, names=['zbMATH id', 'gender'])"
   ]
  },
  {
   "cell_type": "code",
   "execution_count": 12,
   "metadata": {
    "collapsed": false
   },
   "outputs": [
    {
     "data": {
      "text/html": [
       "<div>\n",
       "<table border=\"1\" class=\"dataframe\">\n",
       "  <thead>\n",
       "    <tr style=\"text-align: right;\">\n",
       "      <th></th>\n",
       "      <th>zbMATH id</th>\n",
       "      <th>gender</th>\n",
       "    </tr>\n",
       "  </thead>\n",
       "  <tbody>\n",
       "    <tr>\n",
       "      <th>0</th>\n",
       "      <td>grivel.pierre-paul</td>\n",
       "      <td>m</td>\n",
       "    </tr>\n",
       "    <tr>\n",
       "      <th>1</th>\n",
       "      <td>serapioni.raul-p</td>\n",
       "      <td>m</td>\n",
       "    </tr>\n",
       "    <tr>\n",
       "      <th>2</th>\n",
       "      <td>moura.adriano-a</td>\n",
       "      <td>m</td>\n",
       "    </tr>\n",
       "    <tr>\n",
       "      <th>3</th>\n",
       "      <td>kieser.ralf</td>\n",
       "      <td>m</td>\n",
       "    </tr>\n",
       "    <tr>\n",
       "      <th>4</th>\n",
       "      <td>ariyoshi.teppei</td>\n",
       "      <td>u</td>\n",
       "    </tr>\n",
       "  </tbody>\n",
       "</table>\n",
       "</div>"
      ],
      "text/plain": [
       "            zbMATH id gender\n",
       "0  grivel.pierre-paul      m\n",
       "1    serapioni.raul-p      m\n",
       "2     moura.adriano-a      m\n",
       "3         kieser.ralf      m\n",
       "4     ariyoshi.teppei      u"
      ]
     },
     "execution_count": 12,
     "metadata": {},
     "output_type": "execute_result"
    }
   ],
   "source": [
    "test_data_full.head()"
   ]
  },
  {
   "cell_type": "code",
   "execution_count": 13,
   "metadata": {
    "collapsed": true
   },
   "outputs": [],
   "source": [
    "# Extract name parts from zbMATH id\n",
    "# columns: id, raw_name, first_name, middle_name, last_name, gender\n",
    "# We must have coded this utility 1000 times but I can't find it, so I rewrite it\n",
    "def split_name(zbmath_id):\n",
    "    # Everything before the dot is last_name\n",
    "    last_name, name = zbmath_id.split('.')\n",
    "    # Now parse name\n",
    "    name_parts = middle_name = name.split('-')\n",
    "    first_name = name_parts[0]\n",
    "    middle_name = name_parts[1] if len(name_parts) > 1 else None\n",
    "    return first_name, middle_name, last_name "
   ]
  },
  {
   "cell_type": "code",
   "execution_count": 14,
   "metadata": {
    "collapsed": false
   },
   "outputs": [],
   "source": [
    "test_data_full['first_name'], test_data_full['middle_name'], test_data_full['last_name'] = \\\n",
    "    zip(*test_data_full['zbMATH id'].map(split_name))"
   ]
  },
  {
   "cell_type": "code",
   "execution_count": 15,
   "metadata": {
    "collapsed": false
   },
   "outputs": [
    {
     "data": {
      "text/html": [
       "<div>\n",
       "<table border=\"1\" class=\"dataframe\">\n",
       "  <thead>\n",
       "    <tr style=\"text-align: right;\">\n",
       "      <th></th>\n",
       "      <th>zbMATH id</th>\n",
       "      <th>first_name</th>\n",
       "      <th>middle_name</th>\n",
       "      <th>last_name</th>\n",
       "      <th>gender</th>\n",
       "    </tr>\n",
       "  </thead>\n",
       "  <tbody>\n",
       "    <tr>\n",
       "      <th>0</th>\n",
       "      <td>grivel.pierre-paul</td>\n",
       "      <td>pierre</td>\n",
       "      <td>paul</td>\n",
       "      <td>grivel</td>\n",
       "      <td>m</td>\n",
       "    </tr>\n",
       "    <tr>\n",
       "      <th>1</th>\n",
       "      <td>serapioni.raul-p</td>\n",
       "      <td>raul</td>\n",
       "      <td>p</td>\n",
       "      <td>serapioni</td>\n",
       "      <td>m</td>\n",
       "    </tr>\n",
       "    <tr>\n",
       "      <th>2</th>\n",
       "      <td>moura.adriano-a</td>\n",
       "      <td>adriano</td>\n",
       "      <td>a</td>\n",
       "      <td>moura</td>\n",
       "      <td>m</td>\n",
       "    </tr>\n",
       "    <tr>\n",
       "      <th>3</th>\n",
       "      <td>kieser.ralf</td>\n",
       "      <td>ralf</td>\n",
       "      <td>None</td>\n",
       "      <td>kieser</td>\n",
       "      <td>m</td>\n",
       "    </tr>\n",
       "    <tr>\n",
       "      <th>4</th>\n",
       "      <td>ariyoshi.teppei</td>\n",
       "      <td>teppei</td>\n",
       "      <td>None</td>\n",
       "      <td>ariyoshi</td>\n",
       "      <td>u</td>\n",
       "    </tr>\n",
       "  </tbody>\n",
       "</table>\n",
       "</div>"
      ],
      "text/plain": [
       "            zbMATH id first_name middle_name  last_name gender\n",
       "0  grivel.pierre-paul     pierre        paul     grivel      m\n",
       "1    serapioni.raul-p       raul           p  serapioni      m\n",
       "2     moura.adriano-a    adriano           a      moura      m\n",
       "3         kieser.ralf       ralf        None     kieser      m\n",
       "4     ariyoshi.teppei     teppei        None   ariyoshi      u"
      ]
     },
     "execution_count": 15,
     "metadata": {},
     "output_type": "execute_result"
    }
   ],
   "source": [
    "cols = ['zbMATH id', 'first_name', 'middle_name', 'last_name', 'gender']\n",
    "test_data_full = test_data_full[cols]\n",
    "test_data_full.head()"
   ]
  },
  {
   "cell_type": "code",
   "execution_count": 16,
   "metadata": {
    "collapsed": true
   },
   "outputs": [],
   "source": [
    "# This file can be used to evaluate other name-based inference services\n",
    "test_data_full.to_csv(\"test_data_zbmath_full.csv\", \n",
    "                       columns=[\"first_name\", \"middle_name\", \"last_name\", \"gender\"],\n",
    "                       quoting=csv.QUOTE_ALL,\n",
    "                       index=False)"
   ]
  },
  {
   "cell_type": "code",
   "execution_count": null,
   "metadata": {
    "collapsed": true
   },
   "outputs": [],
   "source": []
  }
 ],
 "metadata": {
  "kernelspec": {
   "display_name": "Python 3",
   "language": "python",
   "name": "python3"
  },
  "language_info": {
   "codemirror_mode": {
    "name": "ipython",
    "version": 3
   },
   "file_extension": ".py",
   "mimetype": "text/x-python",
   "name": "python",
   "nbconvert_exporter": "python",
   "pygments_lexer": "ipython3",
   "version": "3.6.0"
  }
 },
 "nbformat": 4,
 "nbformat_minor": 2
}
