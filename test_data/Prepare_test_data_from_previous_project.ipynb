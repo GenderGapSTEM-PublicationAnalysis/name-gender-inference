{
 "cells": [
  {
   "cell_type": "markdown",
   "metadata": {},
   "source": [
    "## Test data used for previous project"
   ]
  },
  {
   "cell_type": "code",
   "execution_count": 23,
   "metadata": {
    "collapsed": true
   },
   "outputs": [],
   "source": [
    "import pandas as pd\n",
    "import csv"
   ]
  },
  {
   "cell_type": "code",
   "execution_count": 3,
   "metadata": {
    "collapsed": true
   },
   "outputs": [],
   "source": [
    "test_data_manual = pd.read_csv(\"authors_to_genderize_together.csv\")\n",
    "test_data_algo = pd.read_csv(\"authors_to_genderize_together_algo.csv\")"
   ]
  },
  {
   "cell_type": "code",
   "execution_count": 4,
   "metadata": {},
   "outputs": [
    {
     "data": {
      "text/html": [
       "<div>\n",
       "<style>\n",
       "    .dataframe thead tr:only-child th {\n",
       "        text-align: right;\n",
       "    }\n",
       "\n",
       "    .dataframe thead th {\n",
       "        text-align: left;\n",
       "    }\n",
       "\n",
       "    .dataframe tbody tr th {\n",
       "        vertical-align: top;\n",
       "    }\n",
       "</style>\n",
       "<table border=\"1\" class=\"dataframe\">\n",
       "  <thead>\n",
       "    <tr style=\"text-align: right;\">\n",
       "      <th></th>\n",
       "      <th>id</th>\n",
       "      <th>zbMATH id</th>\n",
       "      <th>first name</th>\n",
       "      <th>middle name</th>\n",
       "      <th>surname</th>\n",
       "      <th>ENTER GENDER HERE</th>\n",
       "    </tr>\n",
       "  </thead>\n",
       "  <tbody>\n",
       "    <tr>\n",
       "      <th>0</th>\n",
       "      <td>1091</td>\n",
       "      <td>zhou.ben-da</td>\n",
       "      <td>ben</td>\n",
       "      <td>da</td>\n",
       "      <td>zhou</td>\n",
       "      <td>u</td>\n",
       "    </tr>\n",
       "    <tr>\n",
       "      <th>1</th>\n",
       "      <td>5608</td>\n",
       "      <td>di-castro.agnese</td>\n",
       "      <td>agnese</td>\n",
       "      <td>NaN</td>\n",
       "      <td>di-castro</td>\n",
       "      <td>f</td>\n",
       "    </tr>\n",
       "    <tr>\n",
       "      <th>2</th>\n",
       "      <td>15024</td>\n",
       "      <td>szarek.michael</td>\n",
       "      <td>michael</td>\n",
       "      <td>NaN</td>\n",
       "      <td>szarek</td>\n",
       "      <td>m</td>\n",
       "    </tr>\n",
       "    <tr>\n",
       "      <th>3</th>\n",
       "      <td>20764</td>\n",
       "      <td>watanabe.yumiko</td>\n",
       "      <td>yumiko</td>\n",
       "      <td>NaN</td>\n",
       "      <td>watanabe</td>\n",
       "      <td>f</td>\n",
       "    </tr>\n",
       "    <tr>\n",
       "      <th>4</th>\n",
       "      <td>34006</td>\n",
       "      <td>liu.shaoqing</td>\n",
       "      <td>shaoqing</td>\n",
       "      <td>NaN</td>\n",
       "      <td>liu</td>\n",
       "      <td>m</td>\n",
       "    </tr>\n",
       "  </tbody>\n",
       "</table>\n",
       "</div>"
      ],
      "text/plain": [
       "      id         zbMATH id first name middle name    surname ENTER GENDER HERE\n",
       "0   1091       zhou.ben-da        ben          da       zhou                 u\n",
       "1   5608  di-castro.agnese     agnese         NaN  di-castro                 f\n",
       "2  15024    szarek.michael    michael         NaN     szarek                 m\n",
       "3  20764   watanabe.yumiko     yumiko         NaN   watanabe                 f\n",
       "4  34006      liu.shaoqing   shaoqing         NaN        liu                 m"
      ]
     },
     "execution_count": 4,
     "metadata": {},
     "output_type": "execute_result"
    }
   ],
   "source": [
    "test_data_manual.head()"
   ]
  },
  {
   "cell_type": "code",
   "execution_count": 5,
   "metadata": {},
   "outputs": [
    {
     "data": {
      "text/html": [
       "<div>\n",
       "<style>\n",
       "    .dataframe thead tr:only-child th {\n",
       "        text-align: right;\n",
       "    }\n",
       "\n",
       "    .dataframe thead th {\n",
       "        text-align: left;\n",
       "    }\n",
       "\n",
       "    .dataframe tbody tr th {\n",
       "        vertical-align: top;\n",
       "    }\n",
       "</style>\n",
       "<table border=\"1\" class=\"dataframe\">\n",
       "  <thead>\n",
       "    <tr style=\"text-align: right;\">\n",
       "      <th></th>\n",
       "      <th>id</th>\n",
       "      <th>zbMATH id</th>\n",
       "      <th>first name</th>\n",
       "      <th>middle name</th>\n",
       "      <th>surname</th>\n",
       "      <th>GENDER FROM ALGORITHM</th>\n",
       "    </tr>\n",
       "  </thead>\n",
       "  <tbody>\n",
       "    <tr>\n",
       "      <th>0</th>\n",
       "      <td>1091</td>\n",
       "      <td>zhou.ben-da</td>\n",
       "      <td>ben</td>\n",
       "      <td>da</td>\n",
       "      <td>zhou</td>\n",
       "      <td>u</td>\n",
       "    </tr>\n",
       "    <tr>\n",
       "      <th>1</th>\n",
       "      <td>5608</td>\n",
       "      <td>di-castro.agnese</td>\n",
       "      <td>agnese</td>\n",
       "      <td>NaN</td>\n",
       "      <td>di-castro</td>\n",
       "      <td>f</td>\n",
       "    </tr>\n",
       "    <tr>\n",
       "      <th>2</th>\n",
       "      <td>15024</td>\n",
       "      <td>szarek.michael</td>\n",
       "      <td>michael</td>\n",
       "      <td>NaN</td>\n",
       "      <td>szarek</td>\n",
       "      <td>m</td>\n",
       "    </tr>\n",
       "    <tr>\n",
       "      <th>3</th>\n",
       "      <td>20764</td>\n",
       "      <td>watanabe.yumiko</td>\n",
       "      <td>yumiko</td>\n",
       "      <td>NaN</td>\n",
       "      <td>watanabe</td>\n",
       "      <td>f</td>\n",
       "    </tr>\n",
       "    <tr>\n",
       "      <th>4</th>\n",
       "      <td>34006</td>\n",
       "      <td>liu.shaoqing</td>\n",
       "      <td>shaoqing</td>\n",
       "      <td>NaN</td>\n",
       "      <td>liu</td>\n",
       "      <td>u</td>\n",
       "    </tr>\n",
       "  </tbody>\n",
       "</table>\n",
       "</div>"
      ],
      "text/plain": [
       "      id         zbMATH id first name middle name    surname  \\\n",
       "0   1091       zhou.ben-da        ben          da       zhou   \n",
       "1   5608  di-castro.agnese     agnese         NaN  di-castro   \n",
       "2  15024    szarek.michael    michael         NaN     szarek   \n",
       "3  20764   watanabe.yumiko     yumiko         NaN   watanabe   \n",
       "4  34006      liu.shaoqing   shaoqing         NaN        liu   \n",
       "\n",
       "  GENDER FROM ALGORITHM  \n",
       "0                     u  \n",
       "1                     f  \n",
       "2                     m  \n",
       "3                     f  \n",
       "4                     u  "
      ]
     },
     "execution_count": 5,
     "metadata": {},
     "output_type": "execute_result"
    }
   ],
   "source": [
    "test_data_algo.head()"
   ]
  },
  {
   "cell_type": "code",
   "execution_count": 19,
   "metadata": {
    "collapsed": true
   },
   "outputs": [],
   "source": [
    "test_data_zbmath = test_data_manual.merge(test_data_algo[[\"id\", \"GENDER FROM ALGORITHM\"]], on=\"id\")"
   ]
  },
  {
   "cell_type": "code",
   "execution_count": 20,
   "metadata": {},
   "outputs": [
    {
     "data": {
      "text/html": [
       "<div>\n",
       "<style>\n",
       "    .dataframe thead tr:only-child th {\n",
       "        text-align: right;\n",
       "    }\n",
       "\n",
       "    .dataframe thead th {\n",
       "        text-align: left;\n",
       "    }\n",
       "\n",
       "    .dataframe tbody tr th {\n",
       "        vertical-align: top;\n",
       "    }\n",
       "</style>\n",
       "<table border=\"1\" class=\"dataframe\">\n",
       "  <thead>\n",
       "    <tr style=\"text-align: right;\">\n",
       "      <th></th>\n",
       "      <th>id</th>\n",
       "      <th>zbMATH id</th>\n",
       "      <th>first name</th>\n",
       "      <th>middle name</th>\n",
       "      <th>surname</th>\n",
       "      <th>ENTER GENDER HERE</th>\n",
       "      <th>GENDER FROM ALGORITHM</th>\n",
       "    </tr>\n",
       "  </thead>\n",
       "  <tbody>\n",
       "    <tr>\n",
       "      <th>0</th>\n",
       "      <td>1091</td>\n",
       "      <td>zhou.ben-da</td>\n",
       "      <td>ben</td>\n",
       "      <td>da</td>\n",
       "      <td>zhou</td>\n",
       "      <td>u</td>\n",
       "      <td>u</td>\n",
       "    </tr>\n",
       "    <tr>\n",
       "      <th>1</th>\n",
       "      <td>5608</td>\n",
       "      <td>di-castro.agnese</td>\n",
       "      <td>agnese</td>\n",
       "      <td>NaN</td>\n",
       "      <td>di-castro</td>\n",
       "      <td>f</td>\n",
       "      <td>f</td>\n",
       "    </tr>\n",
       "    <tr>\n",
       "      <th>2</th>\n",
       "      <td>15024</td>\n",
       "      <td>szarek.michael</td>\n",
       "      <td>michael</td>\n",
       "      <td>NaN</td>\n",
       "      <td>szarek</td>\n",
       "      <td>m</td>\n",
       "      <td>m</td>\n",
       "    </tr>\n",
       "    <tr>\n",
       "      <th>3</th>\n",
       "      <td>20764</td>\n",
       "      <td>watanabe.yumiko</td>\n",
       "      <td>yumiko</td>\n",
       "      <td>NaN</td>\n",
       "      <td>watanabe</td>\n",
       "      <td>f</td>\n",
       "      <td>f</td>\n",
       "    </tr>\n",
       "    <tr>\n",
       "      <th>4</th>\n",
       "      <td>34006</td>\n",
       "      <td>liu.shaoqing</td>\n",
       "      <td>shaoqing</td>\n",
       "      <td>NaN</td>\n",
       "      <td>liu</td>\n",
       "      <td>m</td>\n",
       "      <td>u</td>\n",
       "    </tr>\n",
       "  </tbody>\n",
       "</table>\n",
       "</div>"
      ],
      "text/plain": [
       "      id         zbMATH id first name middle name    surname  \\\n",
       "0   1091       zhou.ben-da        ben          da       zhou   \n",
       "1   5608  di-castro.agnese     agnese         NaN  di-castro   \n",
       "2  15024    szarek.michael    michael         NaN     szarek   \n",
       "3  20764   watanabe.yumiko     yumiko         NaN   watanabe   \n",
       "4  34006      liu.shaoqing   shaoqing         NaN        liu   \n",
       "\n",
       "  ENTER GENDER HERE GENDER FROM ALGORITHM  \n",
       "0                 u                     u  \n",
       "1                 f                     f  \n",
       "2                 m                     m  \n",
       "3                 f                     f  \n",
       "4                 m                     u  "
      ]
     },
     "execution_count": 20,
     "metadata": {},
     "output_type": "execute_result"
    }
   ],
   "source": [
    "test_data_zbmath.head()"
   ]
  },
  {
   "cell_type": "code",
   "execution_count": 21,
   "metadata": {
    "collapsed": true
   },
   "outputs": [],
   "source": [
    "test_data_zbmath = test_data_zbmath.rename(columns={\"GENDER FROM ALGORITHM\": \"gender_infered\", \n",
    "                                                    \"ENTER GENDER HERE\": \"gender\", \n",
    "                                                    \"first name\": \"first_name\",\n",
    "                                                    \"middle name\": \"middle_name\",\n",
    "                                                    \"surname\": \"last_name\"})"
   ]
  },
  {
   "cell_type": "code",
   "execution_count": 22,
   "metadata": {},
   "outputs": [
    {
     "data": {
      "text/html": [
       "<div>\n",
       "<style>\n",
       "    .dataframe thead tr:only-child th {\n",
       "        text-align: right;\n",
       "    }\n",
       "\n",
       "    .dataframe thead th {\n",
       "        text-align: left;\n",
       "    }\n",
       "\n",
       "    .dataframe tbody tr th {\n",
       "        vertical-align: top;\n",
       "    }\n",
       "</style>\n",
       "<table border=\"1\" class=\"dataframe\">\n",
       "  <thead>\n",
       "    <tr style=\"text-align: right;\">\n",
       "      <th></th>\n",
       "      <th>id</th>\n",
       "      <th>zbMATH id</th>\n",
       "      <th>first_name</th>\n",
       "      <th>middle_name</th>\n",
       "      <th>last_name</th>\n",
       "      <th>gender</th>\n",
       "      <th>gender_infered</th>\n",
       "    </tr>\n",
       "  </thead>\n",
       "  <tbody>\n",
       "    <tr>\n",
       "      <th>0</th>\n",
       "      <td>1091</td>\n",
       "      <td>zhou.ben-da</td>\n",
       "      <td>ben</td>\n",
       "      <td>da</td>\n",
       "      <td>zhou</td>\n",
       "      <td>u</td>\n",
       "      <td>u</td>\n",
       "    </tr>\n",
       "    <tr>\n",
       "      <th>1</th>\n",
       "      <td>5608</td>\n",
       "      <td>di-castro.agnese</td>\n",
       "      <td>agnese</td>\n",
       "      <td>NaN</td>\n",
       "      <td>di-castro</td>\n",
       "      <td>f</td>\n",
       "      <td>f</td>\n",
       "    </tr>\n",
       "    <tr>\n",
       "      <th>2</th>\n",
       "      <td>15024</td>\n",
       "      <td>szarek.michael</td>\n",
       "      <td>michael</td>\n",
       "      <td>NaN</td>\n",
       "      <td>szarek</td>\n",
       "      <td>m</td>\n",
       "      <td>m</td>\n",
       "    </tr>\n",
       "    <tr>\n",
       "      <th>3</th>\n",
       "      <td>20764</td>\n",
       "      <td>watanabe.yumiko</td>\n",
       "      <td>yumiko</td>\n",
       "      <td>NaN</td>\n",
       "      <td>watanabe</td>\n",
       "      <td>f</td>\n",
       "      <td>f</td>\n",
       "    </tr>\n",
       "    <tr>\n",
       "      <th>4</th>\n",
       "      <td>34006</td>\n",
       "      <td>liu.shaoqing</td>\n",
       "      <td>shaoqing</td>\n",
       "      <td>NaN</td>\n",
       "      <td>liu</td>\n",
       "      <td>m</td>\n",
       "      <td>u</td>\n",
       "    </tr>\n",
       "  </tbody>\n",
       "</table>\n",
       "</div>"
      ],
      "text/plain": [
       "      id         zbMATH id first_name middle_name  last_name gender  \\\n",
       "0   1091       zhou.ben-da        ben          da       zhou      u   \n",
       "1   5608  di-castro.agnese     agnese         NaN  di-castro      f   \n",
       "2  15024    szarek.michael    michael         NaN     szarek      m   \n",
       "3  20764   watanabe.yumiko     yumiko         NaN   watanabe      f   \n",
       "4  34006      liu.shaoqing   shaoqing         NaN        liu      m   \n",
       "\n",
       "  gender_infered  \n",
       "0              u  \n",
       "1              f  \n",
       "2              m  \n",
       "3              f  \n",
       "4              u  "
      ]
     },
     "execution_count": 22,
     "metadata": {},
     "output_type": "execute_result"
    }
   ],
   "source": [
    "test_data_zbmath.head()"
   ]
  },
  {
   "cell_type": "markdown",
   "metadata": {},
   "source": [
    "### Store in CSV files "
   ]
  },
  {
   "cell_type": "code",
   "execution_count": 26,
   "metadata": {
    "collapsed": true
   },
   "outputs": [],
   "source": [
    "# This file can be used to evaluate other name-based inference services\n",
    "test_data_zbmath.to_csv(\"test_data_zbmath.csv\", \n",
    "                        columns=[\"first_name\", \"middle_name\", \"last_name\", \"gender\"],\n",
    "                        quoting=csv.QUOTE_ALL,\n",
    "                       index=False)"
   ]
  },
  {
   "cell_type": "code",
   "execution_count": 27,
   "metadata": {
    "collapsed": true
   },
   "outputs": [],
   "source": [
    "# This file can be used to evaluate the name list by Joerg Michael\n",
    "test_data_zbmath.to_csv(\"test_data_zbmath_joergmichael.csv\", \n",
    "                        columns=[\"first_name\", \"middle_name\", \"last_name\", \"gender\", \"gender_infered\"],\n",
    "                        quoting=csv.QUOTE_ALL,\n",
    "                       index=False)"
   ]
  }
 ],
 "metadata": {
  "kernelspec": {
   "display_name": "Python 3",
   "language": "python",
   "name": "python3"
  },
  "language_info": {
   "codemirror_mode": {
    "name": "ipython",
    "version": 3
   },
   "file_extension": ".py",
   "mimetype": "text/x-python",
   "name": "python",
   "nbconvert_exporter": "python",
   "pygments_lexer": "ipython3",
   "version": "3.5.1"
  }
 },
 "nbformat": 4,
 "nbformat_minor": 2
}
