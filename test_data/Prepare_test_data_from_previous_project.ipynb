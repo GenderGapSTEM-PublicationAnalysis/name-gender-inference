{
 "cells": [
  {
   "cell_type": "markdown",
   "metadata": {},
   "source": [
    "## Test data used for previous project"
   ]
  },
  {
   "cell_type": "code",
   "execution_count": 1,
   "metadata": {
    "collapsed": true
   },
   "outputs": [],
   "source": [
    "import pandas as pd\n",
    "import csv"
   ]
  },
  {
   "cell_type": "code",
   "execution_count": 2,
   "metadata": {
    "collapsed": true
   },
   "outputs": [],
   "source": [
    "test_data_manual = pd.read_csv(\"previous_project/authors_to_genderize_together.csv\")\n",
    "test_data_algo = pd.read_csv(\"previous_project/authors_to_genderize_together_algo.csv\")"
   ]
  },
  {
   "cell_type": "code",
   "execution_count": 3,
   "metadata": {
    "collapsed": false
   },
   "outputs": [
    {
     "data": {
      "text/html": [
       "<div>\n",
       "<style scoped>\n",
       "    .dataframe tbody tr th:only-of-type {\n",
       "        vertical-align: middle;\n",
       "    }\n",
       "\n",
       "    .dataframe tbody tr th {\n",
       "        vertical-align: top;\n",
       "    }\n",
       "\n",
       "    .dataframe thead th {\n",
       "        text-align: right;\n",
       "    }\n",
       "</style>\n",
       "<table border=\"1\" class=\"dataframe\">\n",
       "  <thead>\n",
       "    <tr style=\"text-align: right;\">\n",
       "      <th></th>\n",
       "      <th>id</th>\n",
       "      <th>zbMATH id</th>\n",
       "      <th>first name</th>\n",
       "      <th>middle name</th>\n",
       "      <th>surname</th>\n",
       "      <th>ENTER GENDER HERE</th>\n",
       "    </tr>\n",
       "  </thead>\n",
       "  <tbody>\n",
       "    <tr>\n",
       "      <th>0</th>\n",
       "      <td>1091</td>\n",
       "      <td>zhou.ben-da</td>\n",
       "      <td>ben</td>\n",
       "      <td>da</td>\n",
       "      <td>zhou</td>\n",
       "      <td>u</td>\n",
       "    </tr>\n",
       "    <tr>\n",
       "      <th>1</th>\n",
       "      <td>5608</td>\n",
       "      <td>di-castro.agnese</td>\n",
       "      <td>agnese</td>\n",
       "      <td>NaN</td>\n",
       "      <td>di-castro</td>\n",
       "      <td>f</td>\n",
       "    </tr>\n",
       "    <tr>\n",
       "      <th>2</th>\n",
       "      <td>15024</td>\n",
       "      <td>szarek.michael</td>\n",
       "      <td>michael</td>\n",
       "      <td>NaN</td>\n",
       "      <td>szarek</td>\n",
       "      <td>m</td>\n",
       "    </tr>\n",
       "    <tr>\n",
       "      <th>3</th>\n",
       "      <td>20764</td>\n",
       "      <td>watanabe.yumiko</td>\n",
       "      <td>yumiko</td>\n",
       "      <td>NaN</td>\n",
       "      <td>watanabe</td>\n",
       "      <td>f</td>\n",
       "    </tr>\n",
       "    <tr>\n",
       "      <th>4</th>\n",
       "      <td>34006</td>\n",
       "      <td>liu.shaoqing</td>\n",
       "      <td>shaoqing</td>\n",
       "      <td>NaN</td>\n",
       "      <td>liu</td>\n",
       "      <td>m</td>\n",
       "    </tr>\n",
       "  </tbody>\n",
       "</table>\n",
       "</div>"
      ],
      "text/plain": [
       "      id         zbMATH id first name middle name    surname ENTER GENDER HERE\n",
       "0   1091       zhou.ben-da        ben          da       zhou                 u\n",
       "1   5608  di-castro.agnese     agnese         NaN  di-castro                 f\n",
       "2  15024    szarek.michael    michael         NaN     szarek                 m\n",
       "3  20764   watanabe.yumiko     yumiko         NaN   watanabe                 f\n",
       "4  34006      liu.shaoqing   shaoqing         NaN        liu                 m"
      ]
     },
     "execution_count": 3,
     "metadata": {},
     "output_type": "execute_result"
    }
   ],
   "source": [
    "test_data_manual.head()"
   ]
  },
  {
   "cell_type": "code",
   "execution_count": 4,
   "metadata": {
    "collapsed": false
   },
   "outputs": [
    {
     "data": {
      "text/html": [
       "<div>\n",
       "<style scoped>\n",
       "    .dataframe tbody tr th:only-of-type {\n",
       "        vertical-align: middle;\n",
       "    }\n",
       "\n",
       "    .dataframe tbody tr th {\n",
       "        vertical-align: top;\n",
       "    }\n",
       "\n",
       "    .dataframe thead th {\n",
       "        text-align: right;\n",
       "    }\n",
       "</style>\n",
       "<table border=\"1\" class=\"dataframe\">\n",
       "  <thead>\n",
       "    <tr style=\"text-align: right;\">\n",
       "      <th></th>\n",
       "      <th>id</th>\n",
       "      <th>zbMATH id</th>\n",
       "      <th>first name</th>\n",
       "      <th>middle name</th>\n",
       "      <th>surname</th>\n",
       "      <th>GENDER FROM ALGORITHM</th>\n",
       "    </tr>\n",
       "  </thead>\n",
       "  <tbody>\n",
       "    <tr>\n",
       "      <th>0</th>\n",
       "      <td>1091</td>\n",
       "      <td>zhou.ben-da</td>\n",
       "      <td>ben</td>\n",
       "      <td>da</td>\n",
       "      <td>zhou</td>\n",
       "      <td>u</td>\n",
       "    </tr>\n",
       "    <tr>\n",
       "      <th>1</th>\n",
       "      <td>5608</td>\n",
       "      <td>di-castro.agnese</td>\n",
       "      <td>agnese</td>\n",
       "      <td>NaN</td>\n",
       "      <td>di-castro</td>\n",
       "      <td>f</td>\n",
       "    </tr>\n",
       "    <tr>\n",
       "      <th>2</th>\n",
       "      <td>15024</td>\n",
       "      <td>szarek.michael</td>\n",
       "      <td>michael</td>\n",
       "      <td>NaN</td>\n",
       "      <td>szarek</td>\n",
       "      <td>m</td>\n",
       "    </tr>\n",
       "    <tr>\n",
       "      <th>3</th>\n",
       "      <td>20764</td>\n",
       "      <td>watanabe.yumiko</td>\n",
       "      <td>yumiko</td>\n",
       "      <td>NaN</td>\n",
       "      <td>watanabe</td>\n",
       "      <td>f</td>\n",
       "    </tr>\n",
       "    <tr>\n",
       "      <th>4</th>\n",
       "      <td>34006</td>\n",
       "      <td>liu.shaoqing</td>\n",
       "      <td>shaoqing</td>\n",
       "      <td>NaN</td>\n",
       "      <td>liu</td>\n",
       "      <td>u</td>\n",
       "    </tr>\n",
       "  </tbody>\n",
       "</table>\n",
       "</div>"
      ],
      "text/plain": [
       "      id         zbMATH id first name middle name    surname  \\\n",
       "0   1091       zhou.ben-da        ben          da       zhou   \n",
       "1   5608  di-castro.agnese     agnese         NaN  di-castro   \n",
       "2  15024    szarek.michael    michael         NaN     szarek   \n",
       "3  20764   watanabe.yumiko     yumiko         NaN   watanabe   \n",
       "4  34006      liu.shaoqing   shaoqing         NaN        liu   \n",
       "\n",
       "  GENDER FROM ALGORITHM  \n",
       "0                     u  \n",
       "1                     f  \n",
       "2                     m  \n",
       "3                     f  \n",
       "4                     u  "
      ]
     },
     "execution_count": 4,
     "metadata": {},
     "output_type": "execute_result"
    }
   ],
   "source": [
    "test_data_algo.head()"
   ]
  },
  {
   "cell_type": "code",
   "execution_count": 5,
   "metadata": {
    "collapsed": true
   },
   "outputs": [],
   "source": [
    "test_data_zbmath = test_data_manual.merge(test_data_algo[[\"id\", \"GENDER FROM ALGORITHM\"]], on=\"id\")"
   ]
  },
  {
   "cell_type": "code",
   "execution_count": 6,
   "metadata": {
    "collapsed": false
   },
   "outputs": [
    {
     "data": {
      "text/html": [
       "<div>\n",
       "<style scoped>\n",
       "    .dataframe tbody tr th:only-of-type {\n",
       "        vertical-align: middle;\n",
       "    }\n",
       "\n",
       "    .dataframe tbody tr th {\n",
       "        vertical-align: top;\n",
       "    }\n",
       "\n",
       "    .dataframe thead th {\n",
       "        text-align: right;\n",
       "    }\n",
       "</style>\n",
       "<table border=\"1\" class=\"dataframe\">\n",
       "  <thead>\n",
       "    <tr style=\"text-align: right;\">\n",
       "      <th></th>\n",
       "      <th>id</th>\n",
       "      <th>zbMATH id</th>\n",
       "      <th>first name</th>\n",
       "      <th>middle name</th>\n",
       "      <th>surname</th>\n",
       "      <th>ENTER GENDER HERE</th>\n",
       "      <th>GENDER FROM ALGORITHM</th>\n",
       "    </tr>\n",
       "  </thead>\n",
       "  <tbody>\n",
       "    <tr>\n",
       "      <th>0</th>\n",
       "      <td>1091</td>\n",
       "      <td>zhou.ben-da</td>\n",
       "      <td>ben</td>\n",
       "      <td>da</td>\n",
       "      <td>zhou</td>\n",
       "      <td>u</td>\n",
       "      <td>u</td>\n",
       "    </tr>\n",
       "    <tr>\n",
       "      <th>1</th>\n",
       "      <td>5608</td>\n",
       "      <td>di-castro.agnese</td>\n",
       "      <td>agnese</td>\n",
       "      <td>NaN</td>\n",
       "      <td>di-castro</td>\n",
       "      <td>f</td>\n",
       "      <td>f</td>\n",
       "    </tr>\n",
       "    <tr>\n",
       "      <th>2</th>\n",
       "      <td>15024</td>\n",
       "      <td>szarek.michael</td>\n",
       "      <td>michael</td>\n",
       "      <td>NaN</td>\n",
       "      <td>szarek</td>\n",
       "      <td>m</td>\n",
       "      <td>m</td>\n",
       "    </tr>\n",
       "    <tr>\n",
       "      <th>3</th>\n",
       "      <td>20764</td>\n",
       "      <td>watanabe.yumiko</td>\n",
       "      <td>yumiko</td>\n",
       "      <td>NaN</td>\n",
       "      <td>watanabe</td>\n",
       "      <td>f</td>\n",
       "      <td>f</td>\n",
       "    </tr>\n",
       "    <tr>\n",
       "      <th>4</th>\n",
       "      <td>34006</td>\n",
       "      <td>liu.shaoqing</td>\n",
       "      <td>shaoqing</td>\n",
       "      <td>NaN</td>\n",
       "      <td>liu</td>\n",
       "      <td>m</td>\n",
       "      <td>u</td>\n",
       "    </tr>\n",
       "  </tbody>\n",
       "</table>\n",
       "</div>"
      ],
      "text/plain": [
       "      id         zbMATH id first name middle name    surname  \\\n",
       "0   1091       zhou.ben-da        ben          da       zhou   \n",
       "1   5608  di-castro.agnese     agnese         NaN  di-castro   \n",
       "2  15024    szarek.michael    michael         NaN     szarek   \n",
       "3  20764   watanabe.yumiko     yumiko         NaN   watanabe   \n",
       "4  34006      liu.shaoqing   shaoqing         NaN        liu   \n",
       "\n",
       "  ENTER GENDER HERE GENDER FROM ALGORITHM  \n",
       "0                 u                     u  \n",
       "1                 f                     f  \n",
       "2                 m                     m  \n",
       "3                 f                     f  \n",
       "4                 m                     u  "
      ]
     },
     "execution_count": 6,
     "metadata": {},
     "output_type": "execute_result"
    }
   ],
   "source": [
    "test_data_zbmath.head()"
   ]
  },
  {
   "cell_type": "code",
   "execution_count": 7,
   "metadata": {
    "collapsed": true
   },
   "outputs": [],
   "source": [
    "test_data_zbmath = test_data_zbmath.rename(columns={\"GENDER FROM ALGORITHM\": \"gender_infered\", \n",
    "                                                    \"ENTER GENDER HERE\": \"gender\", \n",
    "                                                    \"first name\": \"first_name\",\n",
    "                                                    \"middle name\": \"middle_name\",\n",
    "                                                    \"surname\": \"last_name\"})"
   ]
  },
  {
   "cell_type": "code",
   "execution_count": 8,
   "metadata": {
    "collapsed": false
   },
   "outputs": [
    {
     "data": {
      "text/html": [
       "<div>\n",
       "<style scoped>\n",
       "    .dataframe tbody tr th:only-of-type {\n",
       "        vertical-align: middle;\n",
       "    }\n",
       "\n",
       "    .dataframe tbody tr th {\n",
       "        vertical-align: top;\n",
       "    }\n",
       "\n",
       "    .dataframe thead th {\n",
       "        text-align: right;\n",
       "    }\n",
       "</style>\n",
       "<table border=\"1\" class=\"dataframe\">\n",
       "  <thead>\n",
       "    <tr style=\"text-align: right;\">\n",
       "      <th></th>\n",
       "      <th>id</th>\n",
       "      <th>zbMATH id</th>\n",
       "      <th>first_name</th>\n",
       "      <th>middle_name</th>\n",
       "      <th>last_name</th>\n",
       "      <th>gender</th>\n",
       "      <th>gender_infered</th>\n",
       "    </tr>\n",
       "  </thead>\n",
       "  <tbody>\n",
       "    <tr>\n",
       "      <th>0</th>\n",
       "      <td>1091</td>\n",
       "      <td>zhou.ben-da</td>\n",
       "      <td>ben</td>\n",
       "      <td>da</td>\n",
       "      <td>zhou</td>\n",
       "      <td>u</td>\n",
       "      <td>u</td>\n",
       "    </tr>\n",
       "    <tr>\n",
       "      <th>1</th>\n",
       "      <td>5608</td>\n",
       "      <td>di-castro.agnese</td>\n",
       "      <td>agnese</td>\n",
       "      <td>NaN</td>\n",
       "      <td>di-castro</td>\n",
       "      <td>f</td>\n",
       "      <td>f</td>\n",
       "    </tr>\n",
       "    <tr>\n",
       "      <th>2</th>\n",
       "      <td>15024</td>\n",
       "      <td>szarek.michael</td>\n",
       "      <td>michael</td>\n",
       "      <td>NaN</td>\n",
       "      <td>szarek</td>\n",
       "      <td>m</td>\n",
       "      <td>m</td>\n",
       "    </tr>\n",
       "    <tr>\n",
       "      <th>3</th>\n",
       "      <td>20764</td>\n",
       "      <td>watanabe.yumiko</td>\n",
       "      <td>yumiko</td>\n",
       "      <td>NaN</td>\n",
       "      <td>watanabe</td>\n",
       "      <td>f</td>\n",
       "      <td>f</td>\n",
       "    </tr>\n",
       "    <tr>\n",
       "      <th>4</th>\n",
       "      <td>34006</td>\n",
       "      <td>liu.shaoqing</td>\n",
       "      <td>shaoqing</td>\n",
       "      <td>NaN</td>\n",
       "      <td>liu</td>\n",
       "      <td>m</td>\n",
       "      <td>u</td>\n",
       "    </tr>\n",
       "  </tbody>\n",
       "</table>\n",
       "</div>"
      ],
      "text/plain": [
       "      id         zbMATH id first_name middle_name  last_name gender  \\\n",
       "0   1091       zhou.ben-da        ben          da       zhou      u   \n",
       "1   5608  di-castro.agnese     agnese         NaN  di-castro      f   \n",
       "2  15024    szarek.michael    michael         NaN     szarek      m   \n",
       "3  20764   watanabe.yumiko     yumiko         NaN   watanabe      f   \n",
       "4  34006      liu.shaoqing   shaoqing         NaN        liu      m   \n",
       "\n",
       "  gender_infered  \n",
       "0              u  \n",
       "1              f  \n",
       "2              m  \n",
       "3              f  \n",
       "4              u  "
      ]
     },
     "execution_count": 8,
     "metadata": {},
     "output_type": "execute_result"
    }
   ],
   "source": [
    "test_data_zbmath.head()"
   ]
  },
  {
   "cell_type": "code",
   "execution_count": 9,
   "metadata": {
    "collapsed": true
   },
   "outputs": [],
   "source": [
    "def clean_middle_names(df):\n",
    "    \"\"\"keep the string in column 'middle_name' if it has more than one character, otherwise replace by ''. \"\"\"\n",
    "    def try_to_simplify(s):\n",
    "        try:\n",
    "            if len(s)>1:\n",
    "                return s\n",
    "            else:\n",
    "                return ''\n",
    "        except:\n",
    "            return ''\n",
    "    df.middle_name = df.middle_name.map(lambda x: try_to_simplify(x))\n",
    "    \n",
    "def build_full_name(df):\n",
    "    df[\"full_name\"] = df.apply(lambda x: x.first_name + ' ' + x.middle_name + ' ' + x.last_name , axis=1)\n",
    "    df.full_name = df.full_name.str.replace('  ', ' ') # if no middle_name then the above line yields 2 empty spaces"
   ]
  },
  {
   "cell_type": "code",
   "execution_count": 10,
   "metadata": {
    "collapsed": true
   },
   "outputs": [],
   "source": [
    "clean_middle_names(test_data_zbmath)\n",
    "build_full_name(test_data_zbmath)"
   ]
  },
  {
   "cell_type": "code",
   "execution_count": 11,
   "metadata": {
    "collapsed": false
   },
   "outputs": [
    {
     "data": {
      "text/html": [
       "<div>\n",
       "<style scoped>\n",
       "    .dataframe tbody tr th:only-of-type {\n",
       "        vertical-align: middle;\n",
       "    }\n",
       "\n",
       "    .dataframe tbody tr th {\n",
       "        vertical-align: top;\n",
       "    }\n",
       "\n",
       "    .dataframe thead th {\n",
       "        text-align: right;\n",
       "    }\n",
       "</style>\n",
       "<table border=\"1\" class=\"dataframe\">\n",
       "  <thead>\n",
       "    <tr style=\"text-align: right;\">\n",
       "      <th></th>\n",
       "      <th>id</th>\n",
       "      <th>zbMATH id</th>\n",
       "      <th>first_name</th>\n",
       "      <th>middle_name</th>\n",
       "      <th>last_name</th>\n",
       "      <th>gender</th>\n",
       "      <th>gender_infered</th>\n",
       "      <th>full_name</th>\n",
       "    </tr>\n",
       "  </thead>\n",
       "  <tbody>\n",
       "    <tr>\n",
       "      <th>0</th>\n",
       "      <td>1091</td>\n",
       "      <td>zhou.ben-da</td>\n",
       "      <td>ben</td>\n",
       "      <td>da</td>\n",
       "      <td>zhou</td>\n",
       "      <td>u</td>\n",
       "      <td>u</td>\n",
       "      <td>ben da zhou</td>\n",
       "    </tr>\n",
       "    <tr>\n",
       "      <th>1</th>\n",
       "      <td>5608</td>\n",
       "      <td>di-castro.agnese</td>\n",
       "      <td>agnese</td>\n",
       "      <td></td>\n",
       "      <td>di-castro</td>\n",
       "      <td>f</td>\n",
       "      <td>f</td>\n",
       "      <td>agnese di-castro</td>\n",
       "    </tr>\n",
       "    <tr>\n",
       "      <th>2</th>\n",
       "      <td>15024</td>\n",
       "      <td>szarek.michael</td>\n",
       "      <td>michael</td>\n",
       "      <td></td>\n",
       "      <td>szarek</td>\n",
       "      <td>m</td>\n",
       "      <td>m</td>\n",
       "      <td>michael szarek</td>\n",
       "    </tr>\n",
       "    <tr>\n",
       "      <th>3</th>\n",
       "      <td>20764</td>\n",
       "      <td>watanabe.yumiko</td>\n",
       "      <td>yumiko</td>\n",
       "      <td></td>\n",
       "      <td>watanabe</td>\n",
       "      <td>f</td>\n",
       "      <td>f</td>\n",
       "      <td>yumiko watanabe</td>\n",
       "    </tr>\n",
       "    <tr>\n",
       "      <th>4</th>\n",
       "      <td>34006</td>\n",
       "      <td>liu.shaoqing</td>\n",
       "      <td>shaoqing</td>\n",
       "      <td></td>\n",
       "      <td>liu</td>\n",
       "      <td>m</td>\n",
       "      <td>u</td>\n",
       "      <td>shaoqing liu</td>\n",
       "    </tr>\n",
       "  </tbody>\n",
       "</table>\n",
       "</div>"
      ],
      "text/plain": [
       "      id         zbMATH id first_name middle_name  last_name gender  \\\n",
       "0   1091       zhou.ben-da        ben          da       zhou      u   \n",
       "1   5608  di-castro.agnese     agnese              di-castro      f   \n",
       "2  15024    szarek.michael    michael                 szarek      m   \n",
       "3  20764   watanabe.yumiko     yumiko               watanabe      f   \n",
       "4  34006      liu.shaoqing   shaoqing                    liu      m   \n",
       "\n",
       "  gender_infered         full_name  \n",
       "0              u       ben da zhou  \n",
       "1              f  agnese di-castro  \n",
       "2              m    michael szarek  \n",
       "3              f   yumiko watanabe  \n",
       "4              u      shaoqing liu  "
      ]
     },
     "execution_count": 11,
     "metadata": {},
     "output_type": "execute_result"
    }
   ],
   "source": [
    "test_data_zbmath.head()"
   ]
  },
  {
   "cell_type": "markdown",
   "metadata": {},
   "source": [
    "### Store in CSV files "
   ]
  },
  {
   "cell_type": "code",
   "execution_count": 12,
   "metadata": {
    "collapsed": true
   },
   "outputs": [],
   "source": [
    "# This file can be used to evaluate other name-based inference services\n",
    "test_data_zbmath.to_csv(\"test_data_zbmath.csv\", \n",
    "                        columns=[\"first_name\", \"middle_name\", \"last_name\", \"full_name\", \"gender\"],\n",
    "                        quoting=csv.QUOTE_ALL,\n",
    "                       index=False)"
   ]
  },
  {
   "cell_type": "code",
   "execution_count": 13,
   "metadata": {
    "collapsed": true
   },
   "outputs": [],
   "source": [
    "# This file can be used to evaluate the name list by Joerg Michael\n",
    "test_data_zbmath.to_csv(\"test_data_zbmath_joergmichael.csv\", \n",
    "                        columns=[\"first_name\", \"middle_name\", \"last_name\", \"full_name\", \"gender\", \"gender_infered\"],\n",
    "                        quoting=csv.QUOTE_ALL,\n",
    "                       index=False)"
   ]
  },
  {
   "cell_type": "markdown",
   "metadata": {},
   "source": [
    "### Full data with 300 entries"
   ]
  },
  {
   "cell_type": "code",
   "execution_count": 14,
   "metadata": {
    "collapsed": true
   },
   "outputs": [],
   "source": [
    "test_data_full = pd.read_csv(\"previous_project/authors_to_genderize_full.csv\", header=None, \n",
    "                             names=['zbMATH id', 'gender'])\n",
    "# we could not find the file with algorithmically infered gender for exactly these names.\n",
    "# hence loading all authorIDs of women and men\n",
    "all_women = pd.read_csv(\"previous_project/author_gender_women.csv\")\n",
    "all_men = pd.read_csv(\"previous_project/author_gender_men.csv\")"
   ]
  },
  {
   "cell_type": "code",
   "execution_count": 15,
   "metadata": {
    "collapsed": false
   },
   "outputs": [
    {
     "data": {
      "text/html": [
       "<div>\n",
       "<style scoped>\n",
       "    .dataframe tbody tr th:only-of-type {\n",
       "        vertical-align: middle;\n",
       "    }\n",
       "\n",
       "    .dataframe tbody tr th {\n",
       "        vertical-align: top;\n",
       "    }\n",
       "\n",
       "    .dataframe thead th {\n",
       "        text-align: right;\n",
       "    }\n",
       "</style>\n",
       "<table border=\"1\" class=\"dataframe\">\n",
       "  <thead>\n",
       "    <tr style=\"text-align: right;\">\n",
       "      <th></th>\n",
       "      <th>id</th>\n",
       "      <th>first_name</th>\n",
       "      <th>middle_name</th>\n",
       "      <th>last_name</th>\n",
       "    </tr>\n",
       "  </thead>\n",
       "  <tbody>\n",
       "    <tr>\n",
       "      <th>0</th>\n",
       "      <td>143871</td>\n",
       "      <td>nicole</td>\n",
       "      <td>NaN</td>\n",
       "      <td>abaid</td>\n",
       "    </tr>\n",
       "    <tr>\n",
       "      <th>1</th>\n",
       "      <td>206669</td>\n",
       "      <td>judit</td>\n",
       "      <td>NaN</td>\n",
       "      <td>abardia</td>\n",
       "    </tr>\n",
       "    <tr>\n",
       "      <th>2</th>\n",
       "      <td>318868</td>\n",
       "      <td>asmaa</td>\n",
       "      <td>NaN</td>\n",
       "      <td>abassi</td>\n",
       "    </tr>\n",
       "    <tr>\n",
       "      <th>3</th>\n",
       "      <td>47040</td>\n",
       "      <td>laura</td>\n",
       "      <td>NaN</td>\n",
       "      <td>abatangelo</td>\n",
       "    </tr>\n",
       "    <tr>\n",
       "      <th>4</th>\n",
       "      <td>183533</td>\n",
       "      <td>micheline</td>\n",
       "      <td>NaN</td>\n",
       "      <td>abbas</td>\n",
       "    </tr>\n",
       "  </tbody>\n",
       "</table>\n",
       "</div>"
      ],
      "text/plain": [
       "       id first_name middle_name   last_name\n",
       "0  143871     nicole         NaN       abaid\n",
       "1  206669      judit         NaN     abardia\n",
       "2  318868      asmaa         NaN      abassi\n",
       "3   47040      laura         NaN  abatangelo\n",
       "4  183533  micheline         NaN       abbas"
      ]
     },
     "execution_count": 15,
     "metadata": {},
     "output_type": "execute_result"
    }
   ],
   "source": [
    "all_women.head()"
   ]
  },
  {
   "cell_type": "code",
   "execution_count": 16,
   "metadata": {},
   "outputs": [
    {
     "data": {
      "text/html": [
       "<div>\n",
       "<style scoped>\n",
       "    .dataframe tbody tr th:only-of-type {\n",
       "        vertical-align: middle;\n",
       "    }\n",
       "\n",
       "    .dataframe tbody tr th {\n",
       "        vertical-align: top;\n",
       "    }\n",
       "\n",
       "    .dataframe thead th {\n",
       "        text-align: right;\n",
       "    }\n",
       "</style>\n",
       "<table border=\"1\" class=\"dataframe\">\n",
       "  <thead>\n",
       "    <tr style=\"text-align: right;\">\n",
       "      <th></th>\n",
       "      <th>zbMATH id</th>\n",
       "      <th>gender</th>\n",
       "    </tr>\n",
       "  </thead>\n",
       "  <tbody>\n",
       "    <tr>\n",
       "      <th>0</th>\n",
       "      <td>grivel.pierre-paul</td>\n",
       "      <td>m</td>\n",
       "    </tr>\n",
       "    <tr>\n",
       "      <th>1</th>\n",
       "      <td>serapioni.raul-p</td>\n",
       "      <td>m</td>\n",
       "    </tr>\n",
       "    <tr>\n",
       "      <th>2</th>\n",
       "      <td>moura.adriano-a</td>\n",
       "      <td>m</td>\n",
       "    </tr>\n",
       "    <tr>\n",
       "      <th>3</th>\n",
       "      <td>kieser.ralf</td>\n",
       "      <td>m</td>\n",
       "    </tr>\n",
       "    <tr>\n",
       "      <th>4</th>\n",
       "      <td>ariyoshi.teppei</td>\n",
       "      <td>u</td>\n",
       "    </tr>\n",
       "  </tbody>\n",
       "</table>\n",
       "</div>"
      ],
      "text/plain": [
       "            zbMATH id gender\n",
       "0  grivel.pierre-paul      m\n",
       "1    serapioni.raul-p      m\n",
       "2     moura.adriano-a      m\n",
       "3         kieser.ralf      m\n",
       "4     ariyoshi.teppei      u"
      ]
     },
     "execution_count": 16,
     "metadata": {},
     "output_type": "execute_result"
    }
   ],
   "source": [
    "test_data_full.head()"
   ]
  },
  {
   "cell_type": "code",
   "execution_count": 17,
   "metadata": {},
   "outputs": [],
   "source": [
    "# add column 'gender_infered' to dataframes of all women and men \n",
    "all_women['gender_infered'] = 'f'\n",
    "all_men['gender_infered'] = 'm'"
   ]
  },
  {
   "cell_type": "code",
   "execution_count": 18,
   "metadata": {},
   "outputs": [],
   "source": [
    "# create column 'zbmath_id' from other name parts (reverse engineering ...)\n",
    "for df in (all_women, all_men):\n",
    "    df.middle_name.fillna('', inplace=True)\n",
    "    df.last_name.fillna('', inplace=True)\n",
    "    df.first_name.fillna('', inplace=True)\n",
    "    df[\"zbmath_id\"] = df.apply(lambda x: x.last_name +'.'+x.first_name + '-'+x.middle_name, axis=1)\n",
    "    df.zbmath_id = df.zbmath_id.str.rstrip('-')"
   ]
  },
  {
   "cell_type": "code",
   "execution_count": 19,
   "metadata": {},
   "outputs": [
    {
     "data": {
      "text/html": [
       "<div>\n",
       "<style scoped>\n",
       "    .dataframe tbody tr th:only-of-type {\n",
       "        vertical-align: middle;\n",
       "    }\n",
       "\n",
       "    .dataframe tbody tr th {\n",
       "        vertical-align: top;\n",
       "    }\n",
       "\n",
       "    .dataframe thead th {\n",
       "        text-align: right;\n",
       "    }\n",
       "</style>\n",
       "<table border=\"1\" class=\"dataframe\">\n",
       "  <thead>\n",
       "    <tr style=\"text-align: right;\">\n",
       "      <th></th>\n",
       "      <th>id</th>\n",
       "      <th>first_name</th>\n",
       "      <th>middle_name</th>\n",
       "      <th>last_name</th>\n",
       "      <th>gender_infered</th>\n",
       "      <th>zbmath_id</th>\n",
       "    </tr>\n",
       "  </thead>\n",
       "  <tbody>\n",
       "    <tr>\n",
       "      <th>0</th>\n",
       "      <td>143871</td>\n",
       "      <td>nicole</td>\n",
       "      <td></td>\n",
       "      <td>abaid</td>\n",
       "      <td>f</td>\n",
       "      <td>abaid.nicole</td>\n",
       "    </tr>\n",
       "    <tr>\n",
       "      <th>1</th>\n",
       "      <td>206669</td>\n",
       "      <td>judit</td>\n",
       "      <td></td>\n",
       "      <td>abardia</td>\n",
       "      <td>f</td>\n",
       "      <td>abardia.judit</td>\n",
       "    </tr>\n",
       "    <tr>\n",
       "      <th>2</th>\n",
       "      <td>318868</td>\n",
       "      <td>asmaa</td>\n",
       "      <td></td>\n",
       "      <td>abassi</td>\n",
       "      <td>f</td>\n",
       "      <td>abassi.asmaa</td>\n",
       "    </tr>\n",
       "    <tr>\n",
       "      <th>3</th>\n",
       "      <td>47040</td>\n",
       "      <td>laura</td>\n",
       "      <td></td>\n",
       "      <td>abatangelo</td>\n",
       "      <td>f</td>\n",
       "      <td>abatangelo.laura</td>\n",
       "    </tr>\n",
       "    <tr>\n",
       "      <th>4</th>\n",
       "      <td>183533</td>\n",
       "      <td>micheline</td>\n",
       "      <td></td>\n",
       "      <td>abbas</td>\n",
       "      <td>f</td>\n",
       "      <td>abbas.micheline</td>\n",
       "    </tr>\n",
       "  </tbody>\n",
       "</table>\n",
       "</div>"
      ],
      "text/plain": [
       "       id first_name middle_name   last_name gender_infered         zbmath_id\n",
       "0  143871     nicole                   abaid              f      abaid.nicole\n",
       "1  206669      judit                 abardia              f     abardia.judit\n",
       "2  318868      asmaa                  abassi              f      abassi.asmaa\n",
       "3   47040      laura              abatangelo              f  abatangelo.laura\n",
       "4  183533  micheline                   abbas              f   abbas.micheline"
      ]
     },
     "execution_count": 19,
     "metadata": {},
     "output_type": "execute_result"
    }
   ],
   "source": [
    "all_women.head()"
   ]
  },
  {
   "cell_type": "code",
   "execution_count": 20,
   "metadata": {},
   "outputs": [],
   "source": [
    "# append dataframe with all men to that of all women\n",
    "all_authors = all_women.append(all_men)"
   ]
  },
  {
   "cell_type": "code",
   "execution_count": 21,
   "metadata": {},
   "outputs": [
    {
     "name": "stdout",
     "output_type": "stream",
     "text": [
      "(147826, 6) (119813, 6) (28013, 6) True\n"
     ]
    }
   ],
   "source": [
    "print(all_authors.shape, all_men.shape, all_women.shape, len(all_women) + len(all_men) == len(all_authors))"
   ]
  },
  {
   "cell_type": "code",
   "execution_count": 22,
   "metadata": {},
   "outputs": [],
   "source": [
    "# then merge with 'test_data_full' to obtain column 'gender_infered'\n",
    "test_data_full_infered = test_data_full.merge(all_authors[['zbmath_id', 'gender_infered']], \n",
    "                                              left_on=\"zbMATH id\", right_on=\"zbmath_id\", how=\"left\")"
   ]
  },
  {
   "cell_type": "code",
   "execution_count": 23,
   "metadata": {},
   "outputs": [
    {
     "data": {
      "text/plain": [
       "m      249\n",
       "f       47\n",
       "NaN      4\n",
       "Name: gender_infered, dtype: int64"
      ]
     },
     "execution_count": 23,
     "metadata": {},
     "output_type": "execute_result"
    }
   ],
   "source": [
    "test_data_full_infered.gender_infered.value_counts(dropna=False)"
   ]
  },
  {
   "cell_type": "code",
   "execution_count": 24,
   "metadata": {},
   "outputs": [],
   "source": [
    "# those entries where no merge was possible are exactly those for which the algorithm said 'unknown'\n",
    "test_data_full_infered.gender_infered.fillna('u', inplace=True)"
   ]
  },
  {
   "cell_type": "code",
   "execution_count": 25,
   "metadata": {},
   "outputs": [
    {
     "data": {
      "text/html": [
       "<div>\n",
       "<style scoped>\n",
       "    .dataframe tbody tr th:only-of-type {\n",
       "        vertical-align: middle;\n",
       "    }\n",
       "\n",
       "    .dataframe tbody tr th {\n",
       "        vertical-align: top;\n",
       "    }\n",
       "\n",
       "    .dataframe thead th {\n",
       "        text-align: right;\n",
       "    }\n",
       "</style>\n",
       "<table border=\"1\" class=\"dataframe\">\n",
       "  <thead>\n",
       "    <tr style=\"text-align: right;\">\n",
       "      <th></th>\n",
       "      <th>zbMATH id</th>\n",
       "      <th>gender</th>\n",
       "      <th>zbmath_id</th>\n",
       "      <th>gender_infered</th>\n",
       "    </tr>\n",
       "  </thead>\n",
       "  <tbody>\n",
       "    <tr>\n",
       "      <th>143</th>\n",
       "      <td>sakai.tatsuo</td>\n",
       "      <td>m</td>\n",
       "      <td>sakai.tatsuo</td>\n",
       "      <td>m</td>\n",
       "    </tr>\n",
       "    <tr>\n",
       "      <th>91</th>\n",
       "      <td>jordan.pedro-m</td>\n",
       "      <td>m</td>\n",
       "      <td>jordan.pedro-m</td>\n",
       "      <td>m</td>\n",
       "    </tr>\n",
       "    <tr>\n",
       "      <th>237</th>\n",
       "      <td>dauer.jerald-p</td>\n",
       "      <td>m</td>\n",
       "      <td>dauer.jerald-p</td>\n",
       "      <td>m</td>\n",
       "    </tr>\n",
       "    <tr>\n",
       "      <th>299</th>\n",
       "      <td>french.steven</td>\n",
       "      <td>m</td>\n",
       "      <td>french.steven</td>\n",
       "      <td>m</td>\n",
       "    </tr>\n",
       "    <tr>\n",
       "      <th>192</th>\n",
       "      <td>nakamura.hideki</td>\n",
       "      <td>m</td>\n",
       "      <td>nakamura.hideki</td>\n",
       "      <td>m</td>\n",
       "    </tr>\n",
       "  </tbody>\n",
       "</table>\n",
       "</div>"
      ],
      "text/plain": [
       "           zbMATH id gender        zbmath_id gender_infered\n",
       "143     sakai.tatsuo      m     sakai.tatsuo              m\n",
       "91    jordan.pedro-m      m   jordan.pedro-m              m\n",
       "237   dauer.jerald-p      m   dauer.jerald-p              m\n",
       "299    french.steven      m    french.steven              m\n",
       "192  nakamura.hideki      m  nakamura.hideki              m"
      ]
     },
     "execution_count": 25,
     "metadata": {},
     "output_type": "execute_result"
    }
   ],
   "source": [
    "test_data_full_infered.sample(5)"
   ]
  },
  {
   "cell_type": "code",
   "execution_count": 26,
   "metadata": {},
   "outputs": [],
   "source": [
    "# Extract name parts from zbMATH id where we could not obtain it from the 'all_authors' df\n",
    "# columns: id, raw_name, first_name, middle_name, last_name, gender\n",
    "# We must have coded this utility 1000 times but I can't find it, so I rewrite it\n",
    "def split_name(zbmath_id):\n",
    "    # Everything before the dot is last_name\n",
    "    last_name, name = zbmath_id.split('.')\n",
    "    # Now parse name\n",
    "    name_parts = middle_name = name.split('-')\n",
    "    first_name = name_parts[0]\n",
    "    middle_name = name_parts[1] if len(name_parts) > 1 else None\n",
    "    return first_name, middle_name, last_name "
   ]
  },
  {
   "cell_type": "code",
   "execution_count": 27,
   "metadata": {},
   "outputs": [],
   "source": [
    "test_data_full_infered['first_name'], test_data_full_infered['middle_name'], \\\n",
    "test_data_full_infered['last_name'] = zip(*test_data_full_infered['zbMATH id'].map(split_name))"
   ]
  },
  {
   "cell_type": "code",
   "execution_count": 28,
   "metadata": {},
   "outputs": [],
   "source": [
    "clean_middle_names(test_data_full_infered)\n",
    "build_full_name(test_data_full_infered)"
   ]
  },
  {
   "cell_type": "code",
   "execution_count": 29,
   "metadata": {},
   "outputs": [
    {
     "data": {
      "text/html": [
       "<div>\n",
       "<style scoped>\n",
       "    .dataframe tbody tr th:only-of-type {\n",
       "        vertical-align: middle;\n",
       "    }\n",
       "\n",
       "    .dataframe tbody tr th {\n",
       "        vertical-align: top;\n",
       "    }\n",
       "\n",
       "    .dataframe thead th {\n",
       "        text-align: right;\n",
       "    }\n",
       "</style>\n",
       "<table border=\"1\" class=\"dataframe\">\n",
       "  <thead>\n",
       "    <tr style=\"text-align: right;\">\n",
       "      <th></th>\n",
       "      <th>zbMATH id</th>\n",
       "      <th>first_name</th>\n",
       "      <th>middle_name</th>\n",
       "      <th>last_name</th>\n",
       "      <th>full_name</th>\n",
       "      <th>gender</th>\n",
       "      <th>gender_infered</th>\n",
       "    </tr>\n",
       "  </thead>\n",
       "  <tbody>\n",
       "    <tr>\n",
       "      <th>0</th>\n",
       "      <td>grivel.pierre-paul</td>\n",
       "      <td>pierre</td>\n",
       "      <td>paul</td>\n",
       "      <td>grivel</td>\n",
       "      <td>pierre paul grivel</td>\n",
       "      <td>m</td>\n",
       "      <td>m</td>\n",
       "    </tr>\n",
       "    <tr>\n",
       "      <th>1</th>\n",
       "      <td>serapioni.raul-p</td>\n",
       "      <td>raul</td>\n",
       "      <td></td>\n",
       "      <td>serapioni</td>\n",
       "      <td>raul serapioni</td>\n",
       "      <td>m</td>\n",
       "      <td>m</td>\n",
       "    </tr>\n",
       "    <tr>\n",
       "      <th>2</th>\n",
       "      <td>moura.adriano-a</td>\n",
       "      <td>adriano</td>\n",
       "      <td></td>\n",
       "      <td>moura</td>\n",
       "      <td>adriano moura</td>\n",
       "      <td>m</td>\n",
       "      <td>m</td>\n",
       "    </tr>\n",
       "    <tr>\n",
       "      <th>3</th>\n",
       "      <td>kieser.ralf</td>\n",
       "      <td>ralf</td>\n",
       "      <td></td>\n",
       "      <td>kieser</td>\n",
       "      <td>ralf kieser</td>\n",
       "      <td>m</td>\n",
       "      <td>m</td>\n",
       "    </tr>\n",
       "    <tr>\n",
       "      <th>4</th>\n",
       "      <td>ariyoshi.teppei</td>\n",
       "      <td>teppei</td>\n",
       "      <td></td>\n",
       "      <td>ariyoshi</td>\n",
       "      <td>teppei ariyoshi</td>\n",
       "      <td>u</td>\n",
       "      <td>m</td>\n",
       "    </tr>\n",
       "  </tbody>\n",
       "</table>\n",
       "</div>"
      ],
      "text/plain": [
       "            zbMATH id first_name middle_name  last_name           full_name  \\\n",
       "0  grivel.pierre-paul     pierre        paul     grivel  pierre paul grivel   \n",
       "1    serapioni.raul-p       raul              serapioni      raul serapioni   \n",
       "2     moura.adriano-a    adriano                  moura       adriano moura   \n",
       "3         kieser.ralf       ralf                 kieser         ralf kieser   \n",
       "4     ariyoshi.teppei     teppei               ariyoshi     teppei ariyoshi   \n",
       "\n",
       "  gender gender_infered  \n",
       "0      m              m  \n",
       "1      m              m  \n",
       "2      m              m  \n",
       "3      m              m  \n",
       "4      u              m  "
      ]
     },
     "execution_count": 29,
     "metadata": {},
     "output_type": "execute_result"
    }
   ],
   "source": [
    "cols = ['zbMATH id', 'first_name', 'middle_name', 'last_name', 'full_name', 'gender', 'gender_infered']\n",
    "test_data_full_infered = test_data_full_infered[cols]\n",
    "test_data_full_infered.head()"
   ]
  },
  {
   "cell_type": "code",
   "execution_count": 30,
   "metadata": {},
   "outputs": [],
   "source": [
    "# Let's add here the 100 entries from the first manual correction \n",
    "test_data_full_infered = pd.concat([test_data_full_infered, test_data_zbmath[cols]])"
   ]
  },
  {
   "cell_type": "code",
   "execution_count": 31,
   "metadata": {},
   "outputs": [
    {
     "data": {
      "text/html": [
       "<div>\n",
       "<style scoped>\n",
       "    .dataframe tbody tr th:only-of-type {\n",
       "        vertical-align: middle;\n",
       "    }\n",
       "\n",
       "    .dataframe tbody tr th {\n",
       "        vertical-align: top;\n",
       "    }\n",
       "\n",
       "    .dataframe thead th {\n",
       "        text-align: right;\n",
       "    }\n",
       "</style>\n",
       "<table border=\"1\" class=\"dataframe\">\n",
       "  <thead>\n",
       "    <tr style=\"text-align: right;\">\n",
       "      <th></th>\n",
       "      <th>zbMATH id</th>\n",
       "      <th>first_name</th>\n",
       "      <th>middle_name</th>\n",
       "      <th>last_name</th>\n",
       "      <th>full_name</th>\n",
       "      <th>gender</th>\n",
       "      <th>gender_infered</th>\n",
       "    </tr>\n",
       "  </thead>\n",
       "  <tbody>\n",
       "    <tr>\n",
       "      <th>0</th>\n",
       "      <td>grivel.pierre-paul</td>\n",
       "      <td>pierre</td>\n",
       "      <td>paul</td>\n",
       "      <td>grivel</td>\n",
       "      <td>pierre paul grivel</td>\n",
       "      <td>m</td>\n",
       "      <td>m</td>\n",
       "    </tr>\n",
       "    <tr>\n",
       "      <th>1</th>\n",
       "      <td>serapioni.raul-p</td>\n",
       "      <td>raul</td>\n",
       "      <td></td>\n",
       "      <td>serapioni</td>\n",
       "      <td>raul serapioni</td>\n",
       "      <td>m</td>\n",
       "      <td>m</td>\n",
       "    </tr>\n",
       "    <tr>\n",
       "      <th>2</th>\n",
       "      <td>moura.adriano-a</td>\n",
       "      <td>adriano</td>\n",
       "      <td></td>\n",
       "      <td>moura</td>\n",
       "      <td>adriano moura</td>\n",
       "      <td>m</td>\n",
       "      <td>m</td>\n",
       "    </tr>\n",
       "    <tr>\n",
       "      <th>3</th>\n",
       "      <td>kieser.ralf</td>\n",
       "      <td>ralf</td>\n",
       "      <td></td>\n",
       "      <td>kieser</td>\n",
       "      <td>ralf kieser</td>\n",
       "      <td>m</td>\n",
       "      <td>m</td>\n",
       "    </tr>\n",
       "    <tr>\n",
       "      <th>4</th>\n",
       "      <td>ariyoshi.teppei</td>\n",
       "      <td>teppei</td>\n",
       "      <td></td>\n",
       "      <td>ariyoshi</td>\n",
       "      <td>teppei ariyoshi</td>\n",
       "      <td>u</td>\n",
       "      <td>m</td>\n",
       "    </tr>\n",
       "  </tbody>\n",
       "</table>\n",
       "</div>"
      ],
      "text/plain": [
       "            zbMATH id first_name middle_name  last_name           full_name  \\\n",
       "0  grivel.pierre-paul     pierre        paul     grivel  pierre paul grivel   \n",
       "1    serapioni.raul-p       raul              serapioni      raul serapioni   \n",
       "2     moura.adriano-a    adriano                  moura       adriano moura   \n",
       "3         kieser.ralf       ralf                 kieser         ralf kieser   \n",
       "4     ariyoshi.teppei     teppei               ariyoshi     teppei ariyoshi   \n",
       "\n",
       "  gender gender_infered  \n",
       "0      m              m  \n",
       "1      m              m  \n",
       "2      m              m  \n",
       "3      m              m  \n",
       "4      u              m  "
      ]
     },
     "execution_count": 31,
     "metadata": {},
     "output_type": "execute_result"
    }
   ],
   "source": [
    "test_data_full_infered.head()"
   ]
  },
  {
   "cell_type": "code",
   "execution_count": 32,
   "metadata": {},
   "outputs": [
    {
     "data": {
      "text/plain": [
       "400"
      ]
     },
     "execution_count": 32,
     "metadata": {},
     "output_type": "execute_result"
    }
   ],
   "source": [
    "len(test_data_full_infered)"
   ]
  },
  {
   "cell_type": "code",
   "execution_count": 33,
   "metadata": {},
   "outputs": [],
   "source": [
    "# This file can be used to evaluate other name-based inference services\n",
    "test_data_full_infered.to_csv(\"test_data_zbmath_full.csv\", \n",
    "                              columns=[\"first_name\", \"middle_name\", \"last_name\", \"full_name\", \"gender\"],\n",
    "                              quoting=csv.QUOTE_ALL, index=False)\n",
    "test_data_full_infered.to_csv(\"test_data_zbmath_full_joergmichael.csv\", \n",
    "                              columns=[\"first_name\", \"middle_name\", \"last_name\", \"full_name\", \n",
    "                                       \"gender\", \"gender_infered\"],\n",
    "                              quoting=csv.QUOTE_ALL, index=False)"
   ]
  },
  {
   "cell_type": "code",
   "execution_count": null,
   "metadata": {},
   "outputs": [],
   "source": []
  }
 ],
 "metadata": {
  "kernelspec": {
   "display_name": "Python 3",
   "language": "python",
   "name": "python3"
  },
  "language_info": {
   "codemirror_mode": {
    "name": "ipython",
    "version": 3
   },
   "file_extension": ".py",
   "mimetype": "text/x-python",
   "name": "python",
   "nbconvert_exporter": "python",
   "pygments_lexer": "ipython3",
   "version": "3.5.1"
  }
 },
 "nbformat": 4,
 "nbformat_minor": 2
}
